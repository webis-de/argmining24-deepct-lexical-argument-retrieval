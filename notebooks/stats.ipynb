{
 "nbformat": 4,
 "nbformat_minor": 0,
 "metadata": {
  "colab": {
   "name": "webis_stats.ipynb",
   "provenance": []
  },
  "kernelspec": {
   "name": "python3",
   "display_name": "Python 3"
  },
  "language_info": {
   "name": "python"
  }
 },
 "cells": [
  {
   "cell_type": "code",
   "metadata": {
    "id": "i7q9B7SSzHdo"
   },
   "source": [
    "import pandas as pd\n",
    "df = pd.read_csv('/content/drive/MyDrive/workspace/superdf.csv')"
   ],
   "execution_count": 1,
   "outputs": []
  },
  {
   "cell_type": "code",
   "metadata": {
    "id": "ICJ4g_hhRKlV"
   },
   "source": [
    "df_words = []\n",
    "for text in df['text']:\n",
    "  text = str(text)\n",
    "  text = text.split(' ')\n",
    "  words = [[text[0]]]\n",
    "  for last, next in zip(text, text[1:]):\n",
    "    if next == last:\n",
    "      words[-1].append(next)\n",
    "    else:\n",
    "      words.append([next])\n",
    "  words_dict = {}\n",
    "  for sequence in words:\n",
    "    word = sequence[0]\n",
    "    if word in words_dict:\n",
    "      words_dict[word].append(len(sequence))\n",
    "    else:\n",
    "      words_dict[word] = [len(sequence)]\n",
    "  df_words.append(words_dict)"
   ],
   "execution_count": 2,
   "outputs": []
  },
  {
   "cell_type": "code",
   "metadata": {
    "id": "N-a2N19iWCDs"
   },
   "source": [
    "most_valued = {}\n",
    "for df_word in df_words:\n",
    "  key = max(df_word, key=df_word.get)\n",
    "  # print(key, df_word[key])\n",
    "  most_valued[key] = df_word[key][0]"
   ],
   "execution_count": 3,
   "outputs": []
  },
  {
   "cell_type": "code",
   "metadata": {
    "id": "pw7vFixFwnq2"
   },
   "source": [
    "values = []\n",
    "for df_word in df_words:\n",
    "  for word_value in df_word.values():\n",
    "    values.append(word_value[0])"
   ],
   "execution_count": 4,
   "outputs": []
  },
  {
   "cell_type": "code",
   "metadata": {
    "colab": {
     "base_uri": "https://localhost:8080/"
    },
    "id": "-CqHm27_v0dA",
    "outputId": "749d7b80-9f0d-4cb7-bff4-3df5e8a0035a"
   },
   "source": [
    "import numpy as np\n",
    "print(f'median : {np.median(values)}')\n",
    "print(f'avg: {np.mean(values)}')"
   ],
   "execution_count": 5,
   "outputs": [
    {
     "output_type": "stream",
     "name": "stdout",
     "text": [
      "median : 3.0\n",
      "avg: 12.820817835615724\n"
     ]
    }
   ]
  },
  {
   "cell_type": "code",
   "metadata": {
    "colab": {
     "base_uri": "https://localhost:8080/",
     "height": 352
    },
    "id": "1tAgVXBADqRf",
    "outputId": "e951c22b-06e0-40c2-8e7c-bdd93a56c5b5"
   },
   "source": [
    "biggies = [x for x in values if x > 10]\n",
    "# len(ones)\n",
    "plt.hist(biggies)"
   ],
   "execution_count": 11,
   "outputs": [
    {
     "output_type": "execute_result",
     "data": {
      "text/plain": [
       "(array([613205., 279874., 182529., 129172., 125280., 118722., 113503.,\n",
       "        166185., 258286.,  18550.]),\n",
       " array([ 11. ,  20.7,  30.4,  40.1,  49.8,  59.5,  69.2,  78.9,  88.6,\n",
       "         98.3, 108. ]),\n",
       " <a list of 10 Patch objects>)"
      ]
     },
     "metadata": {},
     "execution_count": 11
    },
    {
     "output_type": "display_data",
     "data": {
      "image/png": "[encoded data removed]",
      "text/plain": [
       "<Figure size 432x288 with 1 Axes>"
      ]
     },
     "metadata": {
      "needs_background": "light"
     }
    }
   ]
  },
  {
   "cell_type": "code",
   "metadata": {
    "colab": {
     "base_uri": "https://localhost:8080/",
     "height": 936
    },
    "id": "-K4Dsc7bx87k",
    "outputId": "2fd820ec-404e-4b2f-a424-f117b804cfbb"
   },
   "source": [
    "import matplotlib.pyplot as plt\n",
    "plt.hist(values, bins = 107)"
   ],
   "execution_count": 8,
   "outputs": [
    {
     "output_type": "execute_result",
     "data": {
      "text/plain": [
       "(array([2.985927e+06, 1.101137e+06, 6.746000e+05, 4.695630e+05,\n",
       "        3.451290e+05, 2.632910e+05, 2.069620e+05, 1.667320e+05,\n",
       "        1.368000e+05, 1.154240e+05, 9.846600e+04, 8.547200e+04,\n",
       "        7.484200e+04, 6.674400e+04, 5.970700e+04, 5.384000e+04,\n",
       "        4.884400e+04, 4.525500e+04, 4.156300e+04, 3.847200e+04,\n",
       "        3.590500e+04, 3.369500e+04, 3.153800e+04, 2.977900e+04,\n",
       "        2.812100e+04, 2.657300e+04, 2.537500e+04, 2.411100e+04,\n",
       "        2.275000e+04, 2.202700e+04, 2.133900e+04, 2.049200e+04,\n",
       "        1.959900e+04, 1.890700e+04, 1.866300e+04, 1.770700e+04,\n",
       "        1.683800e+04, 1.703400e+04, 1.612400e+04, 1.582600e+04,\n",
       "        1.551800e+04, 1.514900e+04, 1.481600e+04, 1.458100e+04,\n",
       "        1.433700e+04, 1.401800e+04, 1.368300e+04, 1.374800e+04,\n",
       "        1.332200e+04, 1.314400e+04, 1.288400e+04, 1.292000e+04,\n",
       "        1.259300e+04, 1.273000e+04, 1.242800e+04, 1.209500e+04,\n",
       "        1.237500e+04, 1.208600e+04, 1.202500e+04, 1.215300e+04,\n",
       "        1.194400e+04, 1.174700e+04, 1.185400e+04, 1.191400e+04,\n",
       "        1.169000e+04, 1.184200e+04, 1.187600e+04, 1.183000e+04,\n",
       "        1.187200e+04, 1.193200e+04, 1.203700e+04, 1.229000e+04,\n",
       "        1.240600e+04, 1.247800e+04, 1.289900e+04, 1.277600e+04,\n",
       "        1.318400e+04, 1.350100e+04, 1.374100e+04, 1.452700e+04,\n",
       "        1.461300e+04, 1.531800e+04, 1.576800e+04, 1.659100e+04,\n",
       "        1.755600e+04, 1.834600e+04, 1.937100e+04, 2.035400e+04,\n",
       "        2.163000e+04, 2.333500e+04, 2.484900e+04, 2.661400e+04,\n",
       "        2.894900e+04, 3.004300e+04, 3.065300e+04, 2.915300e+04,\n",
       "        2.510400e+04, 1.795600e+04, 1.065200e+04, 5.082000e+03,\n",
       "        1.809000e+03, 6.970000e+02, 1.940000e+02, 7.700000e+01,\n",
       "        2.800000e+01, 5.000000e+00, 6.000000e+00]),\n",
       " array([  1.,   2.,   3.,   4.,   5.,   6.,   7.,   8.,   9.,  10.,  11.,\n",
       "         12.,  13.,  14.,  15.,  16.,  17.,  18.,  19.,  20.,  21.,  22.,\n",
       "         23.,  24.,  25.,  26.,  27.,  28.,  29.,  30.,  31.,  32.,  33.,\n",
       "         34.,  35.,  36.,  37.,  38.,  39.,  40.,  41.,  42.,  43.,  44.,\n",
       "         45.,  46.,  47.,  48.,  49.,  50.,  51.,  52.,  53.,  54.,  55.,\n",
       "         56.,  57.,  58.,  59.,  60.,  61.,  62.,  63.,  64.,  65.,  66.,\n",
       "         67.,  68.,  69.,  70.,  71.,  72.,  73.,  74.,  75.,  76.,  77.,\n",
       "         78.,  79.,  80.,  81.,  82.,  83.,  84.,  85.,  86.,  87.,  88.,\n",
       "         89.,  90.,  91.,  92.,  93.,  94.,  95.,  96.,  97.,  98.,  99.,\n",
       "        100., 101., 102., 103., 104., 105., 106., 107., 108.]),\n",
       " <a list of 107 Patch objects>)"
      ]
     },
     "metadata": {},
     "execution_count": 8
    },
    {
     "output_type": "display_data",
     "data": {
      "image/png": "[encoded data removed]",
      "text/plain": [
       "<Figure size 432x288 with 1 Axes>"
      ]
     },
     "metadata": {
      "needs_background": "light"
     }
    }
   ]
  },
  {
   "cell_type": "code",
   "metadata": {
    "colab": {
     "base_uri": "https://localhost:8080/"
    },
    "id": "LGiAEt12XXt7",
    "outputId": "1ec09826-a050-4bda-88ea-44e8738ff791"
   },
   "source": [
    "sorted(most_valued.items(), key=lambda x: x[1])[-20:]\n"
   ],
   "execution_count": 7,
   "outputs": [
    {
     "output_type": "execute_result",
     "data": {
      "text/plain": [
       "[('unattractive', 103),\n",
       " ('aremair', 103),\n",
       " ('jarvis', 103),\n",
       " ('scheming', 103),\n",
       " ('hollow', 103),\n",
       " ('sectors', 104),\n",
       " ('accept', 104),\n",
       " ('shady', 104),\n",
       " ('smithers', 104),\n",
       " ('smeagol', 104),\n",
       " ('treader', 104),\n",
       " ('owen', 104),\n",
       " ('acquaintances', 104),\n",
       " ('fart', 105),\n",
       " ('kobe', 105),\n",
       " ('mover', 105),\n",
       " ('frys', 105),\n",
       " ('pegg', 105),\n",
       " ('dishonored', 106),\n",
       " ('manatee', 107)]"
      ]
     },
     "metadata": {},
     "execution_count": 7
    }
   ]
  }
 ]
}
