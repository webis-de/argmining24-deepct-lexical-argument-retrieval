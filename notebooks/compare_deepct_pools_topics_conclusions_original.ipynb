{
 "cells": [
  {
   "cell_type": "code",
   "execution_count": 5,
   "metadata": {
    "scrolled": true
   },
   "outputs": [],
   "source": [
    "import pandas as pd\n",
    "import pyterrier as pt\n",
    "if not pt.started():\n",
    "  pt.init()\n",
    "indexref = pt.IndexRef.of(\"/path/to/data.properties\")"
   ]
  },
  {
   "cell_type": "code",
   "execution_count": 161,
   "metadata": {},
   "outputs": [
    {
     "data": {
      "text/plain": [
       "qid                                         57\n",
       "query    are gender or racial quotas effective\n",
       "Name: 55, dtype: object"
      ]
     },
     "execution_count": 161,
     "metadata": {},
     "output_type": "execute_result"
    }
   ],
   "source": [
    "topics.iloc[55]"
   ]
  },
  {
   "cell_type": "code",
   "execution_count": 9,
   "metadata": {},
   "outputs": [],
   "source": [
    "from xml.etree import ElementTree\n",
    "tree = ElementTree.parse('/workspace/src/evaluate_targers/topics2020.xml')\n",
    "data = tree.getroot()\n",
    "titles = []\n",
    "title_ids = []\n",
    "nums = []\n",
    "for topic in data:\n",
    "    titles.append(topic.find('title').text.lower()[:-1])\n",
    "    num = topic.find('number').text\n",
    "    nums.append(num)\n",
    "tree = ElementTree.parse('/workspace/src/evaluate_targers/topics.xml')\n",
    "data = tree.getroot()    \n",
    "for topic in data:\n",
    "    titles.append(topic.find('title').text.lower()[:-1])\n",
    "    num = topic.find('number').text\n",
    "    nums.append(num)\n",
    "topics = pd.DataFrame()\n",
    "topics['qid'] = nums\n",
    "topics['query'] = titles\n",
    "\n",
    "qrels_path=(\"/workspace/src/evaluate_targers/qrels.qrels\")\n",
    "qrels = pt.io.read_qrels(qrels_path)\n"
   ]
  },
  {
   "cell_type": "code",
   "execution_count": 12,
   "metadata": {
    "scrolled": true
   },
   "outputs": [
    {
     "data": {
      "text/html": [
       "<div>\n",
       "<style scoped>\n",
       "    .dataframe tbody tr th:only-of-type {\n",
       "        vertical-align: middle;\n",
       "    }\n",
       "\n",
       "    .dataframe tbody tr th {\n",
       "        vertical-align: top;\n",
       "    }\n",
       "\n",
       "    .dataframe thead th {\n",
       "        text-align: right;\n",
       "    }\n",
       "</style>\n",
       "<table border=\"1\" class=\"dataframe\">\n",
       "  <thead>\n",
       "    <tr style=\"text-align: right;\">\n",
       "      <th></th>\n",
       "      <th>qid</th>\n",
       "      <th>docid</th>\n",
       "      <th>docno</th>\n",
       "      <th>rank</th>\n",
       "      <th>score</th>\n",
       "      <th>query</th>\n",
       "    </tr>\n",
       "  </thead>\n",
       "  <tbody>\n",
       "    <tr>\n",
       "      <th>0</th>\n",
       "      <td>1</td>\n",
       "      <td>129720</td>\n",
       "      <td>S51530f3f-Ae32a4a1b</td>\n",
       "      <td>0</td>\n",
       "      <td>17.318396</td>\n",
       "      <td>should teachers get tenure</td>\n",
       "    </tr>\n",
       "    <tr>\n",
       "      <th>1</th>\n",
       "      <td>1</td>\n",
       "      <td>88639</td>\n",
       "      <td>Sb0680508-Aa5189771</td>\n",
       "      <td>1</td>\n",
       "      <td>17.225787</td>\n",
       "      <td>should teachers get tenure</td>\n",
       "    </tr>\n",
       "    <tr>\n",
       "      <th>2</th>\n",
       "      <td>1</td>\n",
       "      <td>309458</td>\n",
       "      <td>Sc065954f-Ae72bc9c6</td>\n",
       "      <td>2</td>\n",
       "      <td>17.173398</td>\n",
       "      <td>should teachers get tenure</td>\n",
       "    </tr>\n",
       "    <tr>\n",
       "      <th>3</th>\n",
       "      <td>1</td>\n",
       "      <td>309456</td>\n",
       "      <td>Sc065954f-A24a16870</td>\n",
       "      <td>3</td>\n",
       "      <td>17.149872</td>\n",
       "      <td>should teachers get tenure</td>\n",
       "    </tr>\n",
       "    <tr>\n",
       "      <th>4</th>\n",
       "      <td>1</td>\n",
       "      <td>318126</td>\n",
       "      <td>Sff0947ec-A46d54897</td>\n",
       "      <td>4</td>\n",
       "      <td>17.113795</td>\n",
       "      <td>should teachers get tenure</td>\n",
       "    </tr>\n",
       "    <tr>\n",
       "      <th>...</th>\n",
       "      <td>...</td>\n",
       "      <td>...</td>\n",
       "      <td>...</td>\n",
       "      <td>...</td>\n",
       "      <td>...</td>\n",
       "      <td>...</td>\n",
       "    </tr>\n",
       "    <tr>\n",
       "      <th>98995</th>\n",
       "      <td>100</td>\n",
       "      <td>256729</td>\n",
       "      <td>S2ea519c-Aed35ffc8</td>\n",
       "      <td>995</td>\n",
       "      <td>3.581751</td>\n",
       "      <td>do we need cash</td>\n",
       "    </tr>\n",
       "    <tr>\n",
       "      <th>98996</th>\n",
       "      <td>100</td>\n",
       "      <td>29220</td>\n",
       "      <td>Sa68e9864-Af79ef325</td>\n",
       "      <td>996</td>\n",
       "      <td>3.580354</td>\n",
       "      <td>do we need cash</td>\n",
       "    </tr>\n",
       "    <tr>\n",
       "      <th>98997</th>\n",
       "      <td>100</td>\n",
       "      <td>231260</td>\n",
       "      <td>Sfb30ce24-Aa94950e7</td>\n",
       "      <td>997</td>\n",
       "      <td>3.580354</td>\n",
       "      <td>do we need cash</td>\n",
       "    </tr>\n",
       "    <tr>\n",
       "      <th>98998</th>\n",
       "      <td>100</td>\n",
       "      <td>294707</td>\n",
       "      <td>S78819fc5-Ae076e471</td>\n",
       "      <td>998</td>\n",
       "      <td>3.576581</td>\n",
       "      <td>do we need cash</td>\n",
       "    </tr>\n",
       "    <tr>\n",
       "      <th>98999</th>\n",
       "      <td>100</td>\n",
       "      <td>192896</td>\n",
       "      <td>S3312f86-A87f18ad1</td>\n",
       "      <td>999</td>\n",
       "      <td>3.575312</td>\n",
       "      <td>do we need cash</td>\n",
       "    </tr>\n",
       "  </tbody>\n",
       "</table>\n",
       "<p>99000 rows × 6 columns</p>\n",
       "</div>"
      ],
      "text/plain": [
       "       qid   docid                docno  rank      score  \\\n",
       "0        1  129720  S51530f3f-Ae32a4a1b     0  17.318396   \n",
       "1        1   88639  Sb0680508-Aa5189771     1  17.225787   \n",
       "2        1  309458  Sc065954f-Ae72bc9c6     2  17.173398   \n",
       "3        1  309456  Sc065954f-A24a16870     3  17.149872   \n",
       "4        1  318126  Sff0947ec-A46d54897     4  17.113795   \n",
       "...    ...     ...                  ...   ...        ...   \n",
       "98995  100  256729   S2ea519c-Aed35ffc8   995   3.581751   \n",
       "98996  100   29220  Sa68e9864-Af79ef325   996   3.580354   \n",
       "98997  100  231260  Sfb30ce24-Aa94950e7   997   3.580354   \n",
       "98998  100  294707  S78819fc5-Ae076e471   998   3.576581   \n",
       "98999  100  192896   S3312f86-A87f18ad1   999   3.575312   \n",
       "\n",
       "                            query  \n",
       "0      should teachers get tenure  \n",
       "1      should teachers get tenure  \n",
       "2      should teachers get tenure  \n",
       "3      should teachers get tenure  \n",
       "4      should teachers get tenure  \n",
       "...                           ...  \n",
       "98995             do we need cash  \n",
       "98996             do we need cash  \n",
       "98997             do we need cash  \n",
       "98998             do we need cash  \n",
       "98999             do we need cash  \n",
       "\n",
       "[99000 rows x 6 columns]"
      ]
     },
     "execution_count": 12,
     "metadata": {},
     "output_type": "execute_result"
    }
   ],
   "source": [
    "path_targer = '/mnt/ceph/storage/data-in-progress/data-teaching/theses/wstud-thesis-hollatz/targer_indexes/'\n",
    "indexref_orig = pt.IndexRef.of(path_targer + \"pd_index_original-100/data.properties\")\n",
    "\n",
    "index = pt.IndexFactory.of(indexref_orig)\n",
    "retr = pt.BatchRetrieve(index, controls = {\"wmodel\": \"TF_IDF\"})\n",
    "res_orig=retr.transform(topics)\n",
    "\n",
    "res_orig"
   ]
  },
  {
   "cell_type": "code",
   "execution_count": 14,
   "metadata": {
    "scrolled": true
   },
   "outputs": [
    {
     "data": {
      "text/plain": [
       "{'ndcg_cut_5': 0.5527540851759042,\n",
       " 'bpref': 0.6261477227722415,\n",
       " 'ndcg_cut_25': 0.45749865160257747}"
      ]
     },
     "execution_count": 14,
     "metadata": {},
     "output_type": "execute_result"
    }
   ],
   "source": [
    "eval_orig = pt.Utils.evaluate(res_orig,qrels,metrics=[\"ndcg_cut_5\", \"bpref\", \"ndcg_cut_25\"])\n",
    "eval_orig"
   ]
  },
  {
   "cell_type": "code",
   "execution_count": 21,
   "metadata": {},
   "outputs": [
    {
     "name": "stdout",
     "output_type": "stream",
     "text": [
      "data.direct.bf\t\t   data.lexicon.fsomaphash  data.meta.zdata\r\n",
      "data.document.fsarrayfile  data.lexicon.fsomapid    data.properties\r\n",
      "data.inverted.bf\t   data.meta-0.fsomapfile\r\n",
      "data.lexicon.fsomapfile    data.meta.idx\r\n"
     ]
    }
   ],
   "source": [
    "!ls /mnt/ceph/storage/data-in-progress/data-teaching/theses/wstud-thesis-hollatz/DeepCT_indexes/pools_topics_conclusionspd_index"
   ]
  },
  {
   "cell_type": "code",
   "execution_count": 25,
   "metadata": {
    "scrolled": false
   },
   "outputs": [
    {
     "data": {
      "text/html": [
       "<div>\n",
       "<style scoped>\n",
       "    .dataframe tbody tr th:only-of-type {\n",
       "        vertical-align: middle;\n",
       "    }\n",
       "\n",
       "    .dataframe tbody tr th {\n",
       "        vertical-align: top;\n",
       "    }\n",
       "\n",
       "    .dataframe thead th {\n",
       "        text-align: right;\n",
       "    }\n",
       "</style>\n",
       "<table border=\"1\" class=\"dataframe\">\n",
       "  <thead>\n",
       "    <tr style=\"text-align: right;\">\n",
       "      <th></th>\n",
       "      <th>qid</th>\n",
       "      <th>docid</th>\n",
       "      <th>docno</th>\n",
       "      <th>rank</th>\n",
       "      <th>score</th>\n",
       "      <th>query</th>\n",
       "    </tr>\n",
       "  </thead>\n",
       "  <tbody>\n",
       "    <tr>\n",
       "      <th>0</th>\n",
       "      <td>1</td>\n",
       "      <td>88183</td>\n",
       "      <td>Sb0680508-Aa5189771</td>\n",
       "      <td>0</td>\n",
       "      <td>21.050909</td>\n",
       "      <td>should teachers get tenure</td>\n",
       "    </tr>\n",
       "    <tr>\n",
       "      <th>1</th>\n",
       "      <td>1</td>\n",
       "      <td>307911</td>\n",
       "      <td>Sc065954f-Ae72bc9c6</td>\n",
       "      <td>1</td>\n",
       "      <td>21.050689</td>\n",
       "      <td>should teachers get tenure</td>\n",
       "    </tr>\n",
       "    <tr>\n",
       "      <th>2</th>\n",
       "      <td>1</td>\n",
       "      <td>307909</td>\n",
       "      <td>Sc065954f-A24a16870</td>\n",
       "      <td>2</td>\n",
       "      <td>21.050064</td>\n",
       "      <td>should teachers get tenure</td>\n",
       "    </tr>\n",
       "    <tr>\n",
       "      <th>3</th>\n",
       "      <td>1</td>\n",
       "      <td>307908</td>\n",
       "      <td>Sc065954f-A6deb09b6</td>\n",
       "      <td>3</td>\n",
       "      <td>21.047903</td>\n",
       "      <td>should teachers get tenure</td>\n",
       "    </tr>\n",
       "    <tr>\n",
       "      <th>4</th>\n",
       "      <td>1</td>\n",
       "      <td>129070</td>\n",
       "      <td>S51530f3f-Ae32a4a1b</td>\n",
       "      <td>4</td>\n",
       "      <td>21.044753</td>\n",
       "      <td>should teachers get tenure</td>\n",
       "    </tr>\n",
       "    <tr>\n",
       "      <th>...</th>\n",
       "      <td>...</td>\n",
       "      <td>...</td>\n",
       "      <td>...</td>\n",
       "      <td>...</td>\n",
       "      <td>...</td>\n",
       "      <td>...</td>\n",
       "    </tr>\n",
       "    <tr>\n",
       "      <th>98995</th>\n",
       "      <td>100</td>\n",
       "      <td>359294</td>\n",
       "      <td>Se6ed5e12-Aadcc223b</td>\n",
       "      <td>995</td>\n",
       "      <td>3.607130</td>\n",
       "      <td>do we need cash</td>\n",
       "    </tr>\n",
       "    <tr>\n",
       "      <th>98996</th>\n",
       "      <td>100</td>\n",
       "      <td>222899</td>\n",
       "      <td>S65984782-A4ff2c4e7</td>\n",
       "      <td>996</td>\n",
       "      <td>3.607039</td>\n",
       "      <td>do we need cash</td>\n",
       "    </tr>\n",
       "    <tr>\n",
       "      <th>98997</th>\n",
       "      <td>100</td>\n",
       "      <td>260639</td>\n",
       "      <td>Scbc1612f-A202f2817</td>\n",
       "      <td>997</td>\n",
       "      <td>3.606938</td>\n",
       "      <td>do we need cash</td>\n",
       "    </tr>\n",
       "    <tr>\n",
       "      <th>98998</th>\n",
       "      <td>100</td>\n",
       "      <td>293440</td>\n",
       "      <td>S3e420ef6-Acebcb2a7</td>\n",
       "      <td>998</td>\n",
       "      <td>3.606915</td>\n",
       "      <td>do we need cash</td>\n",
       "    </tr>\n",
       "    <tr>\n",
       "      <th>98999</th>\n",
       "      <td>100</td>\n",
       "      <td>205475</td>\n",
       "      <td>S2ff57eee-A77920652</td>\n",
       "      <td>999</td>\n",
       "      <td>3.606869</td>\n",
       "      <td>do we need cash</td>\n",
       "    </tr>\n",
       "  </tbody>\n",
       "</table>\n",
       "<p>99000 rows × 6 columns</p>\n",
       "</div>"
      ],
      "text/plain": [
       "       qid   docid                docno  rank      score  \\\n",
       "0        1   88183  Sb0680508-Aa5189771     0  21.050909   \n",
       "1        1  307911  Sc065954f-Ae72bc9c6     1  21.050689   \n",
       "2        1  307909  Sc065954f-A24a16870     2  21.050064   \n",
       "3        1  307908  Sc065954f-A6deb09b6     3  21.047903   \n",
       "4        1  129070  S51530f3f-Ae32a4a1b     4  21.044753   \n",
       "...    ...     ...                  ...   ...        ...   \n",
       "98995  100  359294  Se6ed5e12-Aadcc223b   995   3.607130   \n",
       "98996  100  222899  S65984782-A4ff2c4e7   996   3.607039   \n",
       "98997  100  260639  Scbc1612f-A202f2817   997   3.606938   \n",
       "98998  100  293440  S3e420ef6-Acebcb2a7   998   3.606915   \n",
       "98999  100  205475  S2ff57eee-A77920652   999   3.606869   \n",
       "\n",
       "                            query  \n",
       "0      should teachers get tenure  \n",
       "1      should teachers get tenure  \n",
       "2      should teachers get tenure  \n",
       "3      should teachers get tenure  \n",
       "4      should teachers get tenure  \n",
       "...                           ...  \n",
       "98995             do we need cash  \n",
       "98996             do we need cash  \n",
       "98997             do we need cash  \n",
       "98998             do we need cash  \n",
       "98999             do we need cash  \n",
       "\n",
       "[99000 rows x 6 columns]"
      ]
     },
     "execution_count": 25,
     "metadata": {},
     "output_type": "execute_result"
    }
   ],
   "source": [
    "path_deepct = '/mnt/ceph/storage/data-in-progress/data-teaching/theses/wstud-thesis-hollatz/DeepCT_indexes/pools_topics_conclusions'\n",
    "indexref_deepct = pt.IndexRef.of(path_deepct + \"pd_index/data.properties\")\n",
    "\n",
    "index = pt.IndexFactory.of(indexref_deepct)\n",
    "retr = pt.BatchRetrieve(index, controls = {\"wmodel\": \"TF_IDF\"})\n",
    "res_deepct=retr.transform(topics)\n",
    "\n",
    "res_deepct"
   ]
  },
  {
   "cell_type": "code",
   "execution_count": 26,
   "metadata": {},
   "outputs": [
    {
     "data": {
      "text/plain": [
       "{'ndcg_cut_5': 0.48994807438609406,\n",
       " 'bpref': 0.7227362009170157,\n",
       " 'ndcg_cut_25': 0.45310523282418635}"
      ]
     },
     "execution_count": 26,
     "metadata": {},
     "output_type": "execute_result"
    }
   ],
   "source": [
    "eval_deepct = pt.Utils.evaluate(res_deepct,qrels,metrics=[\"ndcg_cut_5\", \"bpref\", \"ndcg_cut_25\"])\n",
    "eval_deepct"
   ]
  },
  {
   "cell_type": "code",
   "execution_count": 32,
   "metadata": {},
   "outputs": [
    {
     "data": {
      "text/plain": [
       "<pandas.core.groupby.generic.DataFrameGroupBy object at 0x7f07cf6d32e8>"
      ]
     },
     "execution_count": 32,
     "metadata": {},
     "output_type": "execute_result"
    }
   ],
   "source": [
    "res_deepct.groupby(['qid'])"
   ]
  },
  {
   "cell_type": "code",
   "execution_count": 91,
   "metadata": {
    "scrolled": true
   },
   "outputs": [
    {
     "data": {
      "text/plain": [
       "[0     False\n",
       " 1     False\n",
       " 2     False\n",
       " 3     False\n",
       " 4     False\n",
       " 5     False\n",
       " 6     False\n",
       " 7     False\n",
       " 8     False\n",
       " 9     False\n",
       " 10    False\n",
       " 11    False\n",
       " 12    False\n",
       " 13    False\n",
       " 14    False\n",
       " 15    False\n",
       " 16    False\n",
       " 17     True\n",
       " 18    False\n",
       " 19    False\n",
       " 20    False\n",
       " 21    False\n",
       " 22    False\n",
       " 23    False\n",
       " 24    False\n",
       " Name: docno, dtype: bool]"
      ]
     },
     "execution_count": 91,
     "metadata": {},
     "output_type": "execute_result"
    }
   ],
   "source": [
    "docnos = qrels.docno\n",
    "docnos_in_orig = [res_orig['docno'].head(25).isin(docnos)]\n",
    "docnos_in_orig"
   ]
  },
  {
   "cell_type": "code",
   "execution_count": 147,
   "metadata": {
    "scrolled": true
   },
   "outputs": [
    {
     "data": {
      "text/plain": [
       "[False,\n",
       " False,\n",
       " False,\n",
       " False,\n",
       " False,\n",
       " False,\n",
       " False,\n",
       " False,\n",
       " True,\n",
       " False,\n",
       " False,\n",
       " False,\n",
       " False,\n",
       " False,\n",
       " False,\n",
       " False,\n",
       " False,\n",
       " False,\n",
       " False,\n",
       " False,\n",
       " False,\n",
       " False,\n",
       " False,\n",
       " False,\n",
       " False,\n",
       " False,\n",
       " False,\n",
       " False,\n",
       " False,\n",
       " False,\n",
       " False,\n",
       " False,\n",
       " False,\n",
       " True,\n",
       " False,\n",
       " False,\n",
       " False,\n",
       " False,\n",
       " False,\n",
       " False,\n",
       " False,\n",
       " False,\n",
       " False,\n",
       " False,\n",
       " False,\n",
       " False,\n",
       " False,\n",
       " False,\n",
       " False,\n",
       " False,\n",
       " False,\n",
       " False,\n",
       " False,\n",
       " False,\n",
       " False,\n",
       " False]"
      ]
     },
     "execution_count": 147,
     "metadata": {},
     "output_type": "execute_result"
    }
   ],
   "source": [
    "docnos_in_deepct = res_deepct['docno'].head(25).isin(docnos).to_list()\n",
    "# docnos_in_deepct"
   ]
  },
  {
   "cell_type": "code",
   "execution_count": 126,
   "metadata": {
    "scrolled": true
   },
   "outputs": [
    {
     "data": {
      "text/plain": [
       "qid                               1\n",
       "docid                        309460\n",
       "docno           Sc065954f-Ac3a1cfc1\n",
       "rank                             17\n",
       "score                       14.8194\n",
       "query    should teachers get tenure\n",
       "Name: 17, dtype: object"
      ]
     },
     "execution_count": 126,
     "metadata": {},
     "output_type": "execute_result"
    }
   ],
   "source": [
    "res_orig.iloc[17]"
   ]
  },
  {
   "cell_type": "code",
   "execution_count": 39,
   "metadata": {
    "scrolled": true
   },
   "outputs": [
    {
     "data": {
      "text/plain": [
       "qid                               1\n",
       "docid                        307913\n",
       "docno           Sc065954f-Ac3a1cfc1\n",
       "rank                              8\n",
       "score                       20.9985\n",
       "query    should teachers get tenure\n",
       "Name: 8, dtype: object"
      ]
     },
     "execution_count": 39,
     "metadata": {},
     "output_type": "execute_result"
    }
   ],
   "source": [
    "res_deepct.iloc[8]"
   ]
  },
  {
   "cell_type": "code",
   "execution_count": null,
   "metadata": {},
   "outputs": [],
   "source": []
  },
  {
   "cell_type": "code",
   "execution_count": null,
   "metadata": {},
   "outputs": [],
   "source": []
  },
  {
   "cell_type": "code",
   "execution_count": 149,
   "metadata": {
    "scrolled": true
   },
   "outputs": [
    {
     "name": "stdout",
     "output_type": "stream",
     "text": [
      "1\n",
      "4\n",
      "6\n",
      "7\n",
      "13\n",
      "15\n",
      "24\n",
      "28\n",
      "34\n",
      "37\n",
      "41\n",
      "42\n",
      "51\n",
      "52\n",
      "53\n",
      "54\n",
      "55\n",
      "56\n",
      "57\n",
      "58\n",
      "59\n",
      "60\n",
      "61\n",
      "62\n",
      "63\n",
      "64\n",
      "65\n",
      "66\n",
      "67\n",
      "68\n",
      "69\n",
      "70\n",
      "71\n",
      "72\n",
      "73\n",
      "74\n",
      "75\n",
      "76\n",
      "77\n",
      "78\n",
      "79\n",
      "80\n",
      "81\n",
      "82\n",
      "83\n",
      "84\n",
      "85\n",
      "86\n",
      "87\n",
      "88\n",
      "89\n",
      "90\n",
      "91\n",
      "92\n",
      "93\n",
      "94\n",
      "95\n",
      "96\n",
      "97\n",
      "98\n",
      "99\n"
     ]
    }
   ],
   "source": [
    "for i in range(100):\n",
    "#     print(i)\n",
    "    if True in (res_deepct[res_deepct['qid'] == str(i)]['docno']).head(25).isin(docnos).to_list():\n",
    "        print(i)\n",
    "#         print((res_orig[res_orig['qid'] == str(i)]['docno'].head(25)).isin(docnos))\n",
    "        "
   ]
  },
  {
   "cell_type": "code",
   "execution_count": 215,
   "metadata": {
    "scrolled": true
   },
   "outputs": [
    {
     "name": "stdout",
     "output_type": "stream",
     "text": [
      "2231    0\n",
      "Name: label, dtype: int64\n",
      "2205    2\n",
      "Name: label, dtype: int64\n",
      "2219    2\n",
      "Name: label, dtype: int64\n",
      "2221    0\n",
      "Name: label, dtype: int64\n",
      "2233    2\n",
      "Name: label, dtype: int64\n",
      "Series([], Name: label, dtype: int64)\n",
      "2203    0\n",
      "Name: label, dtype: int64\n",
      "Series([], Name: label, dtype: int64)\n",
      "2206    0\n",
      "Name: label, dtype: int64\n",
      "Series([], Name: label, dtype: int64)\n",
      "Series([], Name: label, dtype: int64)\n",
      "Series([], Name: label, dtype: int64)\n",
      "Series([], Name: label, dtype: int64)\n",
      "Series([], Name: label, dtype: int64)\n",
      "Series([], Name: label, dtype: int64)\n",
      "Series([], Name: label, dtype: int64)\n",
      "Series([], Name: label, dtype: int64)\n",
      "Series([], Name: label, dtype: int64)\n",
      "Series([], Name: label, dtype: int64)\n",
      "2207    2\n",
      "Name: label, dtype: int64\n",
      "Series([], Name: label, dtype: int64)\n",
      "Series([], Name: label, dtype: int64)\n",
      "Series([], Name: label, dtype: int64)\n",
      "Series([], Name: label, dtype: int64)\n",
      "Series([], Name: label, dtype: int64)\n"
     ]
    }
   ],
   "source": [
    "for docno in (res_deepct[res_deepct['qid'] == str(58)]['docno']).head(25).to_list():\n",
    "    print(qrels[qrels['docno'] == docno]['label'])"
   ]
  },
  {
   "cell_type": "code",
   "execution_count": 216,
   "metadata": {},
   "outputs": [
    {
     "name": "stdout",
     "output_type": "stream",
     "text": [
      "2207    2\n",
      "Name: label, dtype: int64\n",
      "Series([], Name: label, dtype: int64)\n",
      "Series([], Name: label, dtype: int64)\n",
      "2204    1\n",
      "Name: label, dtype: int64\n",
      "Series([], Name: label, dtype: int64)\n",
      "Series([], Name: label, dtype: int64)\n",
      "Series([], Name: label, dtype: int64)\n",
      "Series([], Name: label, dtype: int64)\n",
      "2203    0\n",
      "Name: label, dtype: int64\n",
      "Series([], Name: label, dtype: int64)\n",
      "Series([], Name: label, dtype: int64)\n",
      "Series([], Name: label, dtype: int64)\n",
      "Series([], Name: label, dtype: int64)\n",
      "Series([], Name: label, dtype: int64)\n",
      "Series([], Name: label, dtype: int64)\n",
      "2213    0\n",
      "Name: label, dtype: int64\n",
      "Series([], Name: label, dtype: int64)\n",
      "Series([], Name: label, dtype: int64)\n",
      "2193    0\n",
      "Name: label, dtype: int64\n",
      "Series([], Name: label, dtype: int64)\n",
      "Series([], Name: label, dtype: int64)\n",
      "Series([], Name: label, dtype: int64)\n",
      "Series([], Name: label, dtype: int64)\n",
      "Series([], Name: label, dtype: int64)\n",
      "Series([], Name: label, dtype: int64)\n"
     ]
    }
   ],
   "source": [
    "for docno in (res_orig[res_orig['qid'] == str(58)]['docno']).head(25).to_list():\n",
    "    print(qrels[qrels['docno'] == docno]['label'])"
   ]
  },
  {
   "cell_type": "code",
   "execution_count": 164,
   "metadata": {
    "scrolled": true
   },
   "outputs": [
    {
     "data": {
      "text/plain": [
       "'should holders of public offices resign on bad approval ratings'"
      ]
     },
     "execution_count": 164,
     "metadata": {},
     "output_type": "execute_result"
    }
   ],
   "source": [
    "topics.iloc[56]['query']"
   ]
  },
  {
   "cell_type": "code",
   "execution_count": 203,
   "metadata": {
    "scrolled": false
   },
   "outputs": [
    {
     "data": {
      "text/plain": [
       "[True,\n",
       " True,\n",
       " True,\n",
       " True,\n",
       " True,\n",
       " False,\n",
       " True,\n",
       " False,\n",
       " True,\n",
       " False,\n",
       " False,\n",
       " False,\n",
       " False,\n",
       " False,\n",
       " False,\n",
       " False,\n",
       " False,\n",
       " False,\n",
       " False,\n",
       " True,\n",
       " False,\n",
       " False,\n",
       " False,\n",
       " False,\n",
       " False]"
      ]
     },
     "execution_count": 203,
     "metadata": {},
     "output_type": "execute_result"
    }
   ],
   "source": [
    "(res_deepct[res_deepct['qid'] == str(58)]['docno']).head(25).isin(docnos).to_list()"
   ]
  },
  {
   "cell_type": "code",
   "execution_count": 165,
   "metadata": {
    "scrolled": false
   },
   "outputs": [
    {
     "data": {
      "text/plain": [
       "[True,\n",
       " False,\n",
       " False,\n",
       " True,\n",
       " False,\n",
       " False,\n",
       " False,\n",
       " False,\n",
       " True,\n",
       " False,\n",
       " False,\n",
       " False,\n",
       " False,\n",
       " False,\n",
       " False,\n",
       " True,\n",
       " False,\n",
       " False,\n",
       " True,\n",
       " False,\n",
       " False,\n",
       " False,\n",
       " False,\n",
       " False,\n",
       " False]"
      ]
     },
     "execution_count": 165,
     "metadata": {},
     "output_type": "execute_result"
    }
   ],
   "source": [
    "(res_orig[res_orig['qid'] == str(58)]['docno']).head(25).isin(docnos).to_list()"
   ]
  },
  {
   "cell_type": "code",
   "execution_count": 217,
   "metadata": {
    "scrolled": true
   },
   "outputs": [
    {
     "data": {
      "text/html": [
       "<div>\n",
       "<style scoped>\n",
       "    .dataframe tbody tr th:only-of-type {\n",
       "        vertical-align: middle;\n",
       "    }\n",
       "\n",
       "    .dataframe tbody tr th {\n",
       "        vertical-align: top;\n",
       "    }\n",
       "\n",
       "    .dataframe thead th {\n",
       "        text-align: right;\n",
       "    }\n",
       "</style>\n",
       "<table border=\"1\" class=\"dataframe\">\n",
       "  <thead>\n",
       "    <tr style=\"text-align: right;\">\n",
       "      <th></th>\n",
       "      <th>qid</th>\n",
       "      <th>docno</th>\n",
       "      <th>label</th>\n",
       "    </tr>\n",
       "  </thead>\n",
       "  <tbody>\n",
       "    <tr>\n",
       "      <th>2193</th>\n",
       "      <td>58</td>\n",
       "      <td>Sc98ea55b-A7de6603e</td>\n",
       "      <td>0</td>\n",
       "    </tr>\n",
       "    <tr>\n",
       "      <th>2194</th>\n",
       "      <td>58</td>\n",
       "      <td>Sb8c1b53b-A983f3ea4</td>\n",
       "      <td>0</td>\n",
       "    </tr>\n",
       "    <tr>\n",
       "      <th>2195</th>\n",
       "      <td>58</td>\n",
       "      <td>S88057b35-Aae9df0b3</td>\n",
       "      <td>0</td>\n",
       "    </tr>\n",
       "    <tr>\n",
       "      <th>2196</th>\n",
       "      <td>58</td>\n",
       "      <td>Scee72b1d-Ab8645f14</td>\n",
       "      <td>0</td>\n",
       "    </tr>\n",
       "    <tr>\n",
       "      <th>2197</th>\n",
       "      <td>58</td>\n",
       "      <td>S37e9fe07-Aa8e11a88</td>\n",
       "      <td>0</td>\n",
       "    </tr>\n",
       "    <tr>\n",
       "      <th>2198</th>\n",
       "      <td>58</td>\n",
       "      <td>Sf78850e9-A5ee430bc</td>\n",
       "      <td>0</td>\n",
       "    </tr>\n",
       "    <tr>\n",
       "      <th>2199</th>\n",
       "      <td>58</td>\n",
       "      <td>S8472bcef-A1fc8e6bf</td>\n",
       "      <td>0</td>\n",
       "    </tr>\n",
       "    <tr>\n",
       "      <th>2200</th>\n",
       "      <td>58</td>\n",
       "      <td>Sabe4d584-Ab09d1a44</td>\n",
       "      <td>0</td>\n",
       "    </tr>\n",
       "    <tr>\n",
       "      <th>2201</th>\n",
       "      <td>58</td>\n",
       "      <td>S2c813efa-A97c94a4</td>\n",
       "      <td>0</td>\n",
       "    </tr>\n",
       "    <tr>\n",
       "      <th>2202</th>\n",
       "      <td>58</td>\n",
       "      <td>S5e356d3a-Ab0a24a9f</td>\n",
       "      <td>0</td>\n",
       "    </tr>\n",
       "    <tr>\n",
       "      <th>2203</th>\n",
       "      <td>58</td>\n",
       "      <td>S9dd3f3ac-A99a8f66d</td>\n",
       "      <td>0</td>\n",
       "    </tr>\n",
       "    <tr>\n",
       "      <th>2204</th>\n",
       "      <td>58</td>\n",
       "      <td>Sce1fe489-Aa0395e1d</td>\n",
       "      <td>1</td>\n",
       "    </tr>\n",
       "    <tr>\n",
       "      <th>2205</th>\n",
       "      <td>58</td>\n",
       "      <td>S1396dd39-A3e98eb46</td>\n",
       "      <td>2</td>\n",
       "    </tr>\n",
       "    <tr>\n",
       "      <th>2206</th>\n",
       "      <td>58</td>\n",
       "      <td>S148784b7-Aa0d9d97</td>\n",
       "      <td>0</td>\n",
       "    </tr>\n",
       "    <tr>\n",
       "      <th>2207</th>\n",
       "      <td>58</td>\n",
       "      <td>Sb0fc3466-A5a151ade</td>\n",
       "      <td>2</td>\n",
       "    </tr>\n",
       "    <tr>\n",
       "      <th>2208</th>\n",
       "      <td>58</td>\n",
       "      <td>S1396dd39-Ab6e70af7</td>\n",
       "      <td>0</td>\n",
       "    </tr>\n",
       "    <tr>\n",
       "      <th>2209</th>\n",
       "      <td>58</td>\n",
       "      <td>S7184561f-Ab23d1f88</td>\n",
       "      <td>0</td>\n",
       "    </tr>\n",
       "    <tr>\n",
       "      <th>2210</th>\n",
       "      <td>58</td>\n",
       "      <td>S5e356d3a-Abe5e68a6</td>\n",
       "      <td>0</td>\n",
       "    </tr>\n",
       "    <tr>\n",
       "      <th>2211</th>\n",
       "      <td>58</td>\n",
       "      <td>S7184561f-Ae80989a4</td>\n",
       "      <td>0</td>\n",
       "    </tr>\n",
       "    <tr>\n",
       "      <th>2212</th>\n",
       "      <td>58</td>\n",
       "      <td>S9d2aac53-A608e3ab6</td>\n",
       "      <td>0</td>\n",
       "    </tr>\n",
       "    <tr>\n",
       "      <th>2213</th>\n",
       "      <td>58</td>\n",
       "      <td>Sc98ea55b-Ad7eb21fe</td>\n",
       "      <td>0</td>\n",
       "    </tr>\n",
       "    <tr>\n",
       "      <th>2214</th>\n",
       "      <td>58</td>\n",
       "      <td>S7184561f-Ae9181680</td>\n",
       "      <td>0</td>\n",
       "    </tr>\n",
       "    <tr>\n",
       "      <th>2215</th>\n",
       "      <td>58</td>\n",
       "      <td>S8d812949-A1bd07bb9</td>\n",
       "      <td>0</td>\n",
       "    </tr>\n",
       "    <tr>\n",
       "      <th>2216</th>\n",
       "      <td>58</td>\n",
       "      <td>Sfbb9ca79-A41aebdb9</td>\n",
       "      <td>0</td>\n",
       "    </tr>\n",
       "    <tr>\n",
       "      <th>2217</th>\n",
       "      <td>58</td>\n",
       "      <td>S5e356d3a-A27516d84</td>\n",
       "      <td>0</td>\n",
       "    </tr>\n",
       "    <tr>\n",
       "      <th>2218</th>\n",
       "      <td>58</td>\n",
       "      <td>Sc111f0ce-A2c39c2e2</td>\n",
       "      <td>0</td>\n",
       "    </tr>\n",
       "    <tr>\n",
       "      <th>2219</th>\n",
       "      <td>58</td>\n",
       "      <td>S1396dd39-A2f82a344</td>\n",
       "      <td>2</td>\n",
       "    </tr>\n",
       "    <tr>\n",
       "      <th>2220</th>\n",
       "      <td>58</td>\n",
       "      <td>Sc4ce61a1-A123b2fa1</td>\n",
       "      <td>0</td>\n",
       "    </tr>\n",
       "    <tr>\n",
       "      <th>2221</th>\n",
       "      <td>58</td>\n",
       "      <td>S148784b7-A64092cb2</td>\n",
       "      <td>0</td>\n",
       "    </tr>\n",
       "    <tr>\n",
       "      <th>2222</th>\n",
       "      <td>58</td>\n",
       "      <td>S5e2fadc8-A30376bd9</td>\n",
       "      <td>0</td>\n",
       "    </tr>\n",
       "    <tr>\n",
       "      <th>2223</th>\n",
       "      <td>58</td>\n",
       "      <td>Scee72b1d-A4ba3f04a</td>\n",
       "      <td>0</td>\n",
       "    </tr>\n",
       "    <tr>\n",
       "      <th>2224</th>\n",
       "      <td>58</td>\n",
       "      <td>S148784b7-A40a7721</td>\n",
       "      <td>0</td>\n",
       "    </tr>\n",
       "    <tr>\n",
       "      <th>2225</th>\n",
       "      <td>58</td>\n",
       "      <td>S7184561f-A5f7d32b9</td>\n",
       "      <td>0</td>\n",
       "    </tr>\n",
       "    <tr>\n",
       "      <th>2226</th>\n",
       "      <td>58</td>\n",
       "      <td>S827b1042-A248e4ed7</td>\n",
       "      <td>0</td>\n",
       "    </tr>\n",
       "    <tr>\n",
       "      <th>2227</th>\n",
       "      <td>58</td>\n",
       "      <td>Saedf8562-A2481c906</td>\n",
       "      <td>0</td>\n",
       "    </tr>\n",
       "    <tr>\n",
       "      <th>2228</th>\n",
       "      <td>58</td>\n",
       "      <td>Se9a355df-A8b32a62c</td>\n",
       "      <td>0</td>\n",
       "    </tr>\n",
       "    <tr>\n",
       "      <th>2229</th>\n",
       "      <td>58</td>\n",
       "      <td>S148784b7-A6dfa1bb5</td>\n",
       "      <td>0</td>\n",
       "    </tr>\n",
       "    <tr>\n",
       "      <th>2230</th>\n",
       "      <td>58</td>\n",
       "      <td>S7184561f-A125a5c4f</td>\n",
       "      <td>0</td>\n",
       "    </tr>\n",
       "    <tr>\n",
       "      <th>2231</th>\n",
       "      <td>58</td>\n",
       "      <td>S1396dd39-A727f34c</td>\n",
       "      <td>0</td>\n",
       "    </tr>\n",
       "    <tr>\n",
       "      <th>2232</th>\n",
       "      <td>58</td>\n",
       "      <td>Sc065954f-Ac3a1cfc1</td>\n",
       "      <td>0</td>\n",
       "    </tr>\n",
       "    <tr>\n",
       "      <th>2233</th>\n",
       "      <td>58</td>\n",
       "      <td>S1396dd39-A3ea31951</td>\n",
       "      <td>2</td>\n",
       "    </tr>\n",
       "    <tr>\n",
       "      <th>2234</th>\n",
       "      <td>58</td>\n",
       "      <td>Sf0770da-A760eca8e</td>\n",
       "      <td>0</td>\n",
       "    </tr>\n",
       "  </tbody>\n",
       "</table>\n",
       "</div>"
      ],
      "text/plain": [
       "     qid                docno  label\n",
       "2193  58  Sc98ea55b-A7de6603e      0\n",
       "2194  58  Sb8c1b53b-A983f3ea4      0\n",
       "2195  58  S88057b35-Aae9df0b3      0\n",
       "2196  58  Scee72b1d-Ab8645f14      0\n",
       "2197  58  S37e9fe07-Aa8e11a88      0\n",
       "2198  58  Sf78850e9-A5ee430bc      0\n",
       "2199  58  S8472bcef-A1fc8e6bf      0\n",
       "2200  58  Sabe4d584-Ab09d1a44      0\n",
       "2201  58   S2c813efa-A97c94a4      0\n",
       "2202  58  S5e356d3a-Ab0a24a9f      0\n",
       "2203  58  S9dd3f3ac-A99a8f66d      0\n",
       "2204  58  Sce1fe489-Aa0395e1d      1\n",
       "2205  58  S1396dd39-A3e98eb46      2\n",
       "2206  58   S148784b7-Aa0d9d97      0\n",
       "2207  58  Sb0fc3466-A5a151ade      2\n",
       "2208  58  S1396dd39-Ab6e70af7      0\n",
       "2209  58  S7184561f-Ab23d1f88      0\n",
       "2210  58  S5e356d3a-Abe5e68a6      0\n",
       "2211  58  S7184561f-Ae80989a4      0\n",
       "2212  58  S9d2aac53-A608e3ab6      0\n",
       "2213  58  Sc98ea55b-Ad7eb21fe      0\n",
       "2214  58  S7184561f-Ae9181680      0\n",
       "2215  58  S8d812949-A1bd07bb9      0\n",
       "2216  58  Sfbb9ca79-A41aebdb9      0\n",
       "2217  58  S5e356d3a-A27516d84      0\n",
       "2218  58  Sc111f0ce-A2c39c2e2      0\n",
       "2219  58  S1396dd39-A2f82a344      2\n",
       "2220  58  Sc4ce61a1-A123b2fa1      0\n",
       "2221  58  S148784b7-A64092cb2      0\n",
       "2222  58  S5e2fadc8-A30376bd9      0\n",
       "2223  58  Scee72b1d-A4ba3f04a      0\n",
       "2224  58   S148784b7-A40a7721      0\n",
       "2225  58  S7184561f-A5f7d32b9      0\n",
       "2226  58  S827b1042-A248e4ed7      0\n",
       "2227  58  Saedf8562-A2481c906      0\n",
       "2228  58  Se9a355df-A8b32a62c      0\n",
       "2229  58  S148784b7-A6dfa1bb5      0\n",
       "2230  58  S7184561f-A125a5c4f      0\n",
       "2231  58   S1396dd39-A727f34c      0\n",
       "2232  58  Sc065954f-Ac3a1cfc1      0\n",
       "2233  58  S1396dd39-A3ea31951      2\n",
       "2234  58   Sf0770da-A760eca8e      0"
      ]
     },
     "execution_count": 217,
     "metadata": {},
     "output_type": "execute_result"
    }
   ],
   "source": [
    "qrels[qrels['qid'] == str(58)]"
   ]
  },
  {
   "cell_type": "code",
   "execution_count": 226,
   "metadata": {},
   "outputs": [
    {
     "data": {
      "text/plain": [
       "25"
      ]
     },
     "execution_count": 226,
     "metadata": {},
     "output_type": "execute_result"
    }
   ],
   "source": [
    "(res_deepct[res_deepct['qid'] == str(58)]['docno']).to_list().index('Sce1fe489-Aa0395e1d')"
   ]
  },
  {
   "cell_type": "code",
   "execution_count": 227,
   "metadata": {},
   "outputs": [
    {
     "data": {
      "text/plain": [
       "3"
      ]
     },
     "execution_count": 227,
     "metadata": {},
     "output_type": "execute_result"
    }
   ],
   "source": [
    "(res_orig[res_orig['qid'] == str(58)]['docno']).to_list().index('Sce1fe489-Aa0395e1d')"
   ]
  },
  {
   "cell_type": "code",
   "execution_count": 218,
   "metadata": {
    "scrolled": true
   },
   "outputs": [
    {
     "data": {
      "text/plain": [
       "56000     S1396dd39-A727f34c\n",
       "56001    S1396dd39-A3e98eb46\n",
       "56002    S1396dd39-A2f82a344\n",
       "56003    S148784b7-A64092cb2\n",
       "56004    S1396dd39-A3ea31951\n",
       "56005    S6fc99c30-Ae718e9a8\n",
       "56006    S9dd3f3ac-A99a8f66d\n",
       "Name: docno, dtype: object"
      ]
     },
     "execution_count": 218,
     "metadata": {},
     "output_type": "execute_result"
    }
   ],
   "source": [
    "(res_deepct[res_deepct['qid'] == str(58)]['docno']).head(7)"
   ]
  },
  {
   "cell_type": "code",
   "execution_count": 199,
   "metadata": {},
   "outputs": [
    {
     "name": "stdout",
     "output_type": "stream",
     "text": [
      "S1396dd39-A3e98eb46\n",
      "S148784b7-Aa0d9d97\n",
      "S1396dd39-A2f82a344\n",
      "S148784b7-A64092cb2\n",
      "S1396dd39-A727f34c\n",
      "S1396dd39-A3ea31951\n"
     ]
    }
   ],
   "source": [
    "top25_deepct = (res_deepct[res_deepct['qid'] == str(58)]['docno']).head(25).to_list()\n",
    "top25_orig = (res_orig[res_orig['qid'] == str(58)]['docno']).head(25).to_list()\n",
    "\n",
    "missed_by_orig = []\n",
    "\n",
    "for docno in docnos:\n",
    "    if docno in top25_deepct and docno not in top25_orig:\n",
    "        missed_by_orig.append(docno)\n",
    "        print(docno)"
   ]
  },
  {
   "cell_type": "code",
   "execution_count": 175,
   "metadata": {
    "scrolled": true
   },
   "outputs": [
    {
     "name": "stdout",
     "output_type": "stream",
     "text": [
      "Sc98ea55b-A7de6603e\n",
      "Sce1fe489-Aa0395e1d\n",
      "Sc98ea55b-Ad7eb21fe\n"
     ]
    }
   ],
   "source": [
    "top25_deepct = (res_deepct[res_deepct['qid'] == str(58)]['docno']).head(25).to_list()\n",
    "top25_orig = (res_orig[res_orig['qid'] == str(58)]['docno']).head(25).to_list()\n",
    "\n",
    "missed = []\n",
    "\n",
    "for docno in docnos:\n",
    "    if docno in top25_orig and docno not in top25_deepct:\n",
    "        missed.append(docno)\n",
    "        print(docno)"
   ]
  },
  {
   "cell_type": "code",
   "execution_count": 171,
   "metadata": {},
   "outputs": [
    {
     "name": "stdout",
     "output_type": "stream",
     "text": [
      "['S9dd3f3ac-A99a8f66d', 'S1396dd39-A3e98eb46', 'S148784b7-Aa0d9d97', 'Sb0fc3466-A5a151ade', 'S1396dd39-A2f82a344', 'S148784b7-A64092cb2', 'S1396dd39-A727f34c', 'S1396dd39-A3ea31951']\n",
      "['Sc98ea55b-A7de6603e', 'S9dd3f3ac-A99a8f66d', 'Sce1fe489-Aa0395e1d', 'Sb0fc3466-A5a151ade', 'Sc98ea55b-Ad7eb21fe']\n"
     ]
    }
   ],
   "source": [
    "print([docno for docno in docnos if docno in top25_deepct])\n",
    "print([docno for docno in docnos if docno in top25_orig])"
   ]
  },
  {
   "cell_type": "code",
   "execution_count": 176,
   "metadata": {},
   "outputs": [
    {
     "name": "stdout",
     "output_type": "stream",
     "text": [
      "S1396dd39-A3e98eb46\n",
      "S148784b7-Aa0d9d97\n",
      "S1396dd39-A2f82a344\n",
      "S148784b7-A64092cb2\n",
      "S1396dd39-A727f34c\n",
      "S1396dd39-A3ea31951\n"
     ]
    }
   ],
   "source": [
    "founded = []\n",
    "\n",
    "for docno in docnos:\n",
    "    if docno not in top25_orig and docno in top25_deepct:\n",
    "        founded.append(docno)\n",
    "        print(docno)"
   ]
  },
  {
   "cell_type": "code",
   "execution_count": 186,
   "metadata": {},
   "outputs": [
    {
     "name": "stderr",
     "output_type": "stream",
     "text": [
      "  2%|▏         | 7120/387740 [00:00<00:10, 35070.82it/s]"
     ]
    },
    {
     "name": "stdout",
     "output_type": "stream",
     "text": [
      "founded : ('https://www.debate.org/debates/If-a-president-has-an-approval-rating-of-33-then-they-should-honorably-resign./1/', 'You are \"shocked\" by what I say only because you have some misconceptions about this country, and about democracy in general. While we are taught in school that democracy necessarily equals freedom, and that democratic nations are free nations that is not always the case. My job is not to provide you with an alternative as to which we could judge the performance of politicians, but simply prove yours wrong. While immediate inspection may show that democracy is a great way to determine which is good, this is not the case. In fact, I will try to show that it is an especially bad way of deciding what is good and what is bad, and that we should not use democracy, in any respect, to decide if our leaders should resign or remain the leaders. While our country does use a somewhat democratic process to decide who our president will be, this is not a very good process to begin with, to escalate this by having politicians resign based on the whims of the public would be disastrous. While you claim that politicians will not necessarily have to follow these whims of the public, it will in fact necessarily happen. No politician would want to resign, so to remain in charge the politician would have to effectively follow public opinions waxes and wanings. This would be a bad thing, as this would lead to tyranny. Public opinion, democracy rule simply shows that the majority will get their will taken, not that people will be delt with freely. If 66.6% of the American public wanted to execute black people, would that be just? Under your view of this great democracy it would be a just move. I disagree. Allowing the public to decide who is president, and who is not president will not stop tyranny, it will create it. To empirically disprove your argument that democracy should be used to determine if somebody should resign from office, I submit the logical fallacy, argumentum ad populum. Argumentum ad populum is a logical fallacy in which one believes that since a view, a person, or a thing is popular that it is favorable, or likewise, since something is unpopular it is dis favorable, or in this case that a politician should resign, not resign, or be put in his position of power. Your entire argument is based off of how great this democracy is, however, democracy\\'s foundations are in tyranny, and fallacy. As democracy, majority rule is based off of a logical fallacy we should not have politicians resign if their approval rating is even 0%. Logical arguments should be used, if anything, determining who is correct through a logical process and analysis given the situation, such as, for example, an impeachment. If you accept pros argument, you deny logic.')\n",
      "founded : ('https://www.debate.org/debates/If-a-president-has-an-approval-rating-of-33-then-they-should-honorably-resign./1/', 'Don\\'t worry about missing the round one. I should ask voters to not let this affect your voting, given the now apparent fact that it was not due to lack of a rebuttal, this should not be considered when voting. You begin by asserting that that whether a leader should resign should be based on their \"job performance\", and \"upholding the constitution\" But I should like to ask you what you precisely mean when you say \"job performance\". I should also like to ask who gets to decide whether they are properly doing their job. You? That would hardly seem fair. Why not let the majority decide whether they are properly doing their job? Whether or not they are doing their job right is a matter of opinion. Therefore, public opinion polls are very proper for determining this. The difference between your argument and my argument is that you do not create a way of determining how well they do their job, exempt your own opinion. Isn\\'t the whole spirit of the constitution that of a democratic one? Would it then not seem that to \"uphold the constitution\", as in truly believing in it and following its virtues, they would step down when called upon to do so by the populist? This statement of yours\\' truly shocked me: \"It means absolutely nothing\" Public opinion polls mean absolutely nothing? Ill tell you what is means: it is the will of the majority, and the notion that that means nothing is contradicting the concept of democracy. \"The duty of the President, or leaders in general is not to follow every whim of the public as public opinion waxes and wanes, but rather to run the executive branch as per the constitution, regardless of public opinion. If we expect a president to resign simply because of a poor public opinion, then we must also expect the president to do many other things for public opinion. Public opinion is not always rational, and not always correct.\" I agree that the presidents\\' actions as president should follow his/her own opinions. They should represent their own beliefs, and let the voters decide whether they should be president. But of course, things can change, and their personal beliefs may no longer represent the population\\'s opinion. In this scenario, I do not advocate that they make DIFFERENT executive decisions based on this, I advocate that they resign and let someone whose opinions DO represent the popular opinion become president. The idea that if one should resign because of approval ratings \"then we must also expect the president to do many other things for public opinion\" is a fallacy. There is a monumental difference between an unpopular leader being replaced with a popular leader…and the unpopular leader trying to do popular things. No matter how noble the leader may perceive their mission to be, it is inescapable that they are not wanted, and that not leaving office would mean defying the United States Also I would like to focus on what you said at the end: \"Public opinion is not always rational, and not always correct.\"… The flaw in your logic here is assuming that there is some fundamental, manifest truth. The terms \"rational\" and \"correct\" are purely relative. While I may not \"agree\" with the populist always, nothing really matters, and I must admit that because nothing really matters, there is no fundamental truth, and therefore, someone must decide what the \"correct\" things might be. Now, it may not be perfect, but I can think of no better way to decide what we should pretend is \"right\", than to follow the will of the majority. \"Your argument is based on a fallacy, argument from popularity. Simply because a politician is unpopular does not mean that he is a bad politician, nor does it mean he has at all failed his duties.\" You will not have to read many of my debates to understand that I believe that the concepts of \"good\" and \"bad\" are meaningless. And once more, someone has to decide what to pretend is good and bad, and why not the majority. This is not a matter of good and bad, this is a matter of defying the nation they should be working with. You then give a scenario in which Ron Paul was president. You say that he would be a good president, but, once more, this is solely your own opinion. It does not matter whether they are \"good\" or \"bad\"; these are in fact relative opinions. We must, by default, look at the will of the majority as a deciding factor. If Ron Paul were somehow president, and if he had very low approval ratings, then the right thing to do would be to resign, because he would be WORKING AGAINST THE NATION to which he would be supposed to be serving. The president is one man. For him to stay in office against the will of the vast majority would be despotism. This is un-American and contradictory to the virtues of democracy. You then give the example of Roosevelt, who you claim did not follow the constitution. I would like you to cite something as to what is giving you this notion. But anyways, even the constitution is distantly flexible based on the will of the majority. And who is to decide whether Roosevelt did a bad job? You? Or the United States of America? From a theoretical point, no matter the president or whether they are \"right\", the US citizens should be the people to determine whether they are doing their job. And if it turns out that they are not favored by the majority, they should resign. That is what a true believer in democracy would do. \"Popularity is not now, nor will it ever be an indication of job performance\" Ah, but then what is? You will answer that it is whether they follow the constitution. But who decides that? Well, you do. Their job performance is an opinion, and is relative. You then state that opinion doesn\\'t matter. \"Politicians should only retire, or be forced to retire if their job performance is low.\" Once more, who would decide that? My opponent\\'s argument revolves around some implication that there is a fundamental and manifestly correct truth about whether a president has good performance. Suspiciously, he seems to have been the one to announce to us who has good job performance and who doesn\\'t. Therefore, he either believes that his opinion is more accurate than anyone else\\'s, or he is receiving this information from god. My opponent\\'s logic is flawed because: -He sais \"I believe that they should resign based on their actual job performance\", indicating that Presidents should resign solely based on self-evaluation. This would obviously be biased. -He presents his own opinion on why certain presidents should resign, but then says that opinions don\\'t matter. -He assumes that resigning based on opinion polls would imply making other actions based on opinion polls. -He has created a myth that there is an absolute on whether or not a president is \"good\", when in fact these are all relative to opinion -He provides no method of deciding whether they should resign, exempt his own personal opinion, and the president\\'s self-evaluation. The only logical way to decide their job performance is to conduct a survey, as any other way would be despotic, and undemocratic. My opponent, to my dismay, will have the last word. Oh well, vote PRO. -Harlan')\n",
      "founded : ('https://www.debate.org/debates/If-a-president-has-an-approval-rating-of-33-then-they-should-honorably-resign./1/', \"First and foremost, I must apologize for my tardiness. I always hate it when someone forfeits a round, but hate it more when they forfeit all rounds. I will try to make a much greater effort to post in all rounds for now on. I think that you and I might have very similar overall goals, to get rid of bad leaders, however you and I have different means of doing so. Personally, I have strongly disapproved of many of our leaders, and thought it might be good if they resigned. However, where you and I differ is that I believe that they should resign based on their actual job performance, if they in fact do their best to uphold the constitution or of they do not do so well at upholding it. While it is possible that a president with a low approval rating is doing a bad job, that does not necessarily mean that he is doing poorly, in fact it means absolutely nothing. The duty of the President, or leaders in general is not to follow every whim of the public as public opinion waxes and wanes, but rather to run the executive branch as per the constitution, regardless of public opinion. If we expect a president to resign simply because of a poor public opinion, then we must also expect the president to do many other things for public opinion. Public opinion is not always rational, and not always correct. Your argument is based on a fallacy, argument from popularity. Simply because a politician is unpopular does not mean that he is a bad politician, nor does it mean he has at all failed his duties. I will give an example of a politician who might be unpopular, but who nevertheless would likely follow his duties as per the constitution. Ron Paul did rather bad in the Republican primaries. If he were to have become president, by whatever means his approval rating might be very low. After all, his views differ greatly from those of the majority of the American public. However, would he do bad at his job of president? On the contrary, he would follow his duties to the letter, being a very well known constitutionalist. For another example, FDR was rather popular, at least more popular than The Bush's, Nixon, and other presidents with low approval ratings. He however, did not stand by the American principles outlined in the constitution, in fact, he went against them, starting a miniature socialist revolution in the US. Popularity is not now, nor will it ever be an indication of job performance. Politicians should only retire, or be forced to retire if their job performance is low. As an argument from popularity is clearly not an indication of job performance (as per the logical flaw) then no percent of the population should have any say in determining if a president should be impeached, or resign.\")\n",
      "founded : ('https://www.debate.org/debates/If-a-president-has-an-approval-rating-of-33-then-they-should-honorably-resign./1/', 'Hello, I would like to clarify that I intend for this debate NOT to be specific to George W. Bush. This is a debate about presidents in general, whether they are democrats or republicans… When you are president, in this democracy, your solemn duty is to protect the interests of the people. A few presidents that have achieved extremely low approval ratings are Harry Truman, Richard Nixon, Jimmy Carter, and both George Bush\\'s. Since approval ratings vary, this debate will circle around the hypothetical of a president having an approval rating of 33%. I assert that this hypothetical president should honorably resign, being unpopular as he/she is. 33% is only one third of the population. The right thing to do would be to honorably resign, because they are no longer wanted by the nation. A president who truly valued democracy would do just that. To not resign in this hypothetical does not arise from any sense of benignity, but from hunger for power, in most cases. To not resign is to openly defy the will of the majority of the United States; it is to oppose the nation to which they vowed to serve. These kinds of politicians to not believe in democracy, they see it as an obstacle that they must overcome to get power. Have these politicians no sense of honor, no sense of duty to the country? We live in the twenty first century; we can not tolerate power-hungry politicians continuing to stay in power even after it has been made clear that the citizens of the country to which they rule are opposed to their seat in government. This is not representative government, this is despotism. One of the first questions that should be asked of a candidate before they are elected is: \"If you are no longer favored by the nation, shall you resign?\" -Harlan')\n"
     ]
    },
    {
     "name": "stderr",
     "output_type": "stream",
     "text": [
      "  4%|▎         | 14456/387740 [00:00<00:10, 35753.47it/s]"
     ]
    },
    {
     "name": "stdout",
     "output_type": "stream",
     "text": [
      "founded : ('https://www.debate.org/debates/Anthony-Weiner-should-not-have-resigned-his-seat-in-Congress/1/', '1) \"...Anthony Weiner is a Congressmen[.] [H]e is supposed to represent his voters with integrity, respect, and leadership.\" A politician strictly represents voters politically! His lack of integrity in his marriage has not been proven to have anything do with his integrity in regards to his voters. Yes, his act may cause voters to think more lowly of him, but that just means that he would have a tough time running for re-election, if he were to seek it. It does not mean, though, that he should resign from his current office.The fact of the matter is that no charges were filed against him, and he was not impeached. Hence, there was no legal obligation for him to resign. 2) Weiner\\'s approval rating dropped, yes. But who\\'s to say that he couldn\\'t have recovered and made his approval rating skyrocket? I don\\'t see how his having a low approval rating immediately after his scandal justified an act of resignation. 3) I agree with the opponent that we could not get rid of Congress just because its approval rating is 9%, because it is a central part of the US government system. Do you know what else is a central part of the US government system? Its politicians, the people who compose it. That is why we cannot say a Congressman should leave simply because he has a low approval rating. \"Roland Burris [...] has done nothing scandalous to warrant a mass movement for his outing...\"Burris was accused of being involved in an illegitimate fundraising scheme with Rod Blagojevich, a man whose scandal led to a sentence of 14 years in prison. I\\'d say that is pretty scandalous. And there is certainly a mass movement for his outing; 62% of Illinois voters want him to resign. [1] He, nonetheless, stayed and continued his political career. All of a sudden the opponent states that Weiner should have been \"removed from Congress.\" That, however, would be completely illegal under the Constitution, because he was not incriminated of anything. It was up to Weiner whether he wanted to resign or not, and no one had the right to remove him. 4) The opponent fails to make a logical connection between sexually immoral behavior and inability to represent voters as a politician. The opponent claims that his lack of sexual control would cause him to not think thoroughly about bills and acts he is supporting, but this is baseless. Such claims are simply assumptions. McCain\\'s and Gingrich\\'s actions were repulsive. These scandals were major points made against them during their campaigns for presidency, yet they did not drop out because of them. McCain did very well in the polls and ended up losing to Obama in a close battle, and Gingrich is looking very good in current Republican polls. This just shows that Weiner had the potential to come back instead of resigning. Yes, people forgave Byrd and his involvement in the KKK... and, with time, perhaps people would have forgiven Weiner, too. Unfortunately, he gave in to his situation and left his place in Congress, probably avoiding a political career for good. My argument, with comments on the opponent\\'s refutations:I. Immoral sexual decisions is certainly does not indicate a lack of political integrity. The opponent has yet to effectively refute this idea.II. A vast majority of men who cheat on their wives lie about it. Weiner did it to protect his career and family, so he had rational reasons to lie. The opponent compares this to a man killing his wife. This is not a strong analogy because Murder is illegal, unlike adultery. Also, the opponent is confused; I am not talking about the rationality of the act itself, but rather the rationality behind defending it. Hence, it would be perfectly rational for the murderer to deny killing his wife, if his motivation is to protect himself, his career, and the rest of his family. III. Other politicians such as John McCain, Bill Clinton, Newt Gingrich, and Robert Byrd were able to overcome immoral decisions in their pasts. Weiner had the potential to do the same.The opponent assumes that Weiner, if he had stayed in office, would not have been forgiven by the public. This is merely speculation. IV. If he had stayed in office, Weiner could have been an effective politician and fixed his public image. It is not an opinion. I said \"could have.\" He had the potential of turning it around through effective political leadership and gaining the support of voters back. The opponent fails to effectively and logically refute Pro\\'s established claims, so vote Pro.Many thanks to the opponent and the readers. (And I respectfully ask the opponent to use his last round as strictly a \"thank you and vote for me\" round, because we have each already had three rounds to argue our cases.)[1] http://www.rasmussenreports.com...')\n",
      "founded : ('https://www.debate.org/debates/Anthony-Weiner-should-not-have-resigned-his-seat-in-Congress/1/', '1. The opponent is assumes there is a relationship between sexual loyalty to your wife and having the ability to represent people on political issues. There is no basis for this claim.And, yes, there was a public outcry (as there tends to be after a scandal) but he was not obligated to resign.2. I agree that to a vast majority of people, lying is immoral. However, I repeat lying is not illegal, so he was not obligated to leave his office. And, also, most men who cheat on their wives vehemently deny it. Weiner lied because he values his career, his family, and his public image. Clinton lied about his affair, and the public forgave him; the same could have happened to Weiner had to stayed in office.3. The opponent\\'s illogical rationale is: \"because Weiner\\'s approval rating was low after his scandal, he should have resigned.\" Let me note that the approval rating of Congress as a whole is 9%. Should we get rid of Congress? [1]Senator Roland Burris\\' approval rating was constantly in the teens after his scandal, yet he did not resign. [2]It is absurd for the opponent to infer that a politician should resign because his or her approval rating is low at a certain point in his or her career. 4. Indeed, Johnson\\'s moral beliefs could have affected his political decisions. That, however, certainly does not prove that moral beliefs MUST affect political decisions. I am curious to know why the opponent believes with such certainty Weiner\\'s immoral sexual conduct would directly affect his political decisions.Voters are given the right to judge political candidates on any factors they deem important, including moral beliefs; however, they cannot force a politician to leave his office due to moral beliefs, because that is unconstitutional. Even though Jackson may have been biased due to his racist views, I do not think that gives the public the right to force him to resign. ---The opponent completely avoided my references to John McCain and Newt Gingrich. They both made decisions earlier in their lives that the public would deem extremely immoral. [3] [4] Despite this, they both became successful, effective politicians and presidential candidates. Their immoral decisions certainly did not keep them from moving forward in their political careers. Weiner\\'s situation could have been the same.Let us also note the late Robert Byrd. Earlier in his life, he was a member of the Ku Klux Klan and a top officer in his local Klan unit. Later on, as a politician, he renounced his racist beliefs and became very successful, eventually joining the Senate. The public finds involvement in supremacist groups like the KKK to be extremely immoral, probably more immoral than adultery, yet Byrd was still able to have a successful political career until his death in mid-2010. [5]---In conclusion, Weiner should not have resigned because:I. Immoral sexual decisions is certainly not an indicator a lack of political integrity. II. A vast majority of men who cheat on their wives lie about it. Weiner did it to protect his career and family, so he had rational reasons to lie. III. Other politicians such as John McCain, Bill Clinton, Newt Gingrich, and Robert Byrd were able to overcome immoral decisions in their pasts. Weiner had the potential to do the same.IV. If he had stayed in office, Weiner could have been an effective politician and fixed his public image. ---Thank you.[1] http://www.huffingtonpost.com...[2] http://www.politico.com...[3] http://en.wikipedia.org...[4] http://www.dailymail.co.uk...[5] http://en.wikipedia.org...')\n"
     ]
    },
    {
     "name": "stderr",
     "output_type": "stream",
     "text": [
      " 44%|████▍     | 171763/387740 [00:04<00:05, 37406.78it/s]"
     ]
    },
    {
     "name": "stdout",
     "output_type": "stream",
     "text": [
      "missed : ('https://www.debate.org/debates/A-Moderate-President-Would-Be-Much-More-Likely-to-have-Positive-Approval-Ratings/1/', \"Sorry but that's not very much of an argument. A shaky opinion at best. What proof do you have? Also, president FDR, on the complete different end from Reagan, had one of the highest approval ratings of any president while in office. He is the only president to have ever been elected more than twice. In-fact he was elected 4 times. History doesn't seem to serve you justice.\")\n",
      "missed : ('https://www.debate.org/debates/A-Moderate-President-Would-Be-Much-More-Likely-to-have-Positive-Approval-Ratings/1/', \"First I'm going to assume that we're talking about US presidents. Second, I'd like to point out that president Ronald Reagan had one of the largest approval ratings of any US president while in office and was extremely far from being a moderate. Third, I will point out that my opponent has the burden of proof. I need prove nothing but rather negate supposed proofs.\")\n"
     ]
    },
    {
     "name": "stderr",
     "output_type": "stream",
     "text": [
      " 68%|██████▊   | 262493/387740 [00:07<00:03, 37309.15it/s]"
     ]
    },
    {
     "name": "stdout",
     "output_type": "stream",
     "text": [
      "missed : ('https://www.debate.org/debates/Bad-politicians-should-face-deportation-from-the-US-when-their-terms-end/1/', \"Ladies and Gentlemen, the US government has a problem. Ok they have a sh*tload of problems but one of them stands out more than just about anything else. Its not the threat of nuclear war or inflation or unemployment or Decepticons........ No I am talking about bad politicians...... There is a saying in Israel that everyone on both sides want peace, but that all it takes is for one zealot to mess up everything. The same concept can be applied to the American government, where the few good politicians we have cannot bring America the change it needs because of the actions of one a**hole always undo's any progress made. What becomes of these bad politicians when they're term ends? bad publicity, low poll ratings, and that's about it. This nation needs to take a tougher stance against bad politicians, and I would recommend that they all be violated with a loaded shotgun in the behind but Chick-Fil-A is against that so I had to go with this instead.... Lets get to the point, When a politicians term ends (Politician = President, Senator, Representative, and Governor) then public approval ratings will determine if a president should FACE the option of being deported. If that politicians approval rating is below a critical point (lets put it at 19% for no reason at all) then the nation will be able to decide the fate of the politician and determine whether or not they will be allowed to stay in this country or get deported through a nation wide public vote. If the public votes in favor of deportation, then the politician is removed from the US. To recap this process 1) Approval ratings determine if a politician should be subjected to possible deportation 2) If approval rating is below 19% then the public will choose to vote in favor of or against deportation 3) If the public approves of deportation, politician is deported. If not, then he/she gets to stay 3 round debate so fire away!\")\n"
     ]
    },
    {
     "name": "stderr",
     "output_type": "stream",
     "text": [
      "100%|██████████| 387740/387740 [00:10<00:00, 35683.22it/s]\n"
     ]
    }
   ],
   "source": [
    "from tqdm import tqdm\n",
    "import ir_datasets\n",
    "dataset = ir_datasets.load('argsme/2020-04-01')\n",
    "for doc in tqdm(dataset.docs_iter(), total=387740):\n",
    "\n",
    "    if doc.doc_id in missed:\n",
    "        print(f'missed : {doc.source_url, doc.premises_texts}')\n",
    "    elif doc.doc_id in founded:\n",
    "          print(f'founded : {doc.source_url, doc.premises_texts}')"
   ]
  },
  {
   "cell_type": "code",
   "execution_count": 198,
   "metadata": {},
   "outputs": [
    {
     "name": "stdout",
     "output_type": "stream",
     "text": [
      "number of documents both retrieved by deepct and original dataset, but not considered relevant : 7 from 25\n"
     ]
    },
    {
     "data": {
      "text/plain": [
       "['Sb0fc3466-A5a151ade',\n",
       " 'S5c22eb90-A7cc8f4ff',\n",
       " 'S6fc99c30-Ae718e9a8',\n",
       " 'S80b17c10-A8144f295',\n",
       " 'S9dd3f3ac-A99a8f66d',\n",
       " 'S81403cf6-A1a77b26e',\n",
       " 'Se4117131-Aaac9d692']"
      ]
     },
     "execution_count": 198,
     "metadata": {},
     "output_type": "execute_result"
    }
   ],
   "source": [
    "#docnos that are retrieved both by original dataset and deepct but not considered relevant \n",
    "overlap = [docno for docno in top25_orig if ((docno in top25_deepct) and (docno not in docnos))]\n",
    "print(f'number of documents both retrieved by deepct and original dataset, but not considered relevant : {len(overlap)} from 25')\n",
    "\n",
    "overlap"
   ]
  },
  {
   "cell_type": "code",
   "execution_count": 228,
   "metadata": {},
   "outputs": [
    {
     "name": "stderr",
     "output_type": "stream",
     "text": [
      " 98%|█████████▊| 379275/387740 [00:10<00:00, 31270.03it/s]"
     ]
    },
    {
     "name": "stdout",
     "output_type": "stream",
     "text": [
      "first_unrelevant_deepct : ('https://debatewise.org/debates/2853-drug-testing-mandatory-for-public-officials/', 'Drugs are illegal. Holders of public office and those elected to power should set an example by demonstrating that they do not break the law. We have a right to hold our leaders to a higher standard. And if they are breaking the law, the public is entitled to know about it.')\n"
     ]
    },
    {
     "name": "stderr",
     "output_type": "stream",
     "text": [
      "100%|██████████| 387740/387740 [00:10<00:00, 36544.36it/s]\n"
     ]
    }
   ],
   "source": [
    "first_unrelevant_deepct = 'S6fc99c30-Ae718e9a8'\n",
    "for doc in tqdm(dataset.docs_iter(), total=387740):\n",
    "    if doc.doc_id == first_unrelevant_deepct:\n",
    "        print(f'first_unrelevant_deepct : {doc.source_url, doc.premises_texts}')"
   ]
  },
  {
   "cell_type": "code",
   "execution_count": 229,
   "metadata": {},
   "outputs": [
    {
     "name": "stderr",
     "output_type": "stream",
     "text": [
      " 68%|██████▊   | 262443/387740 [00:06<00:03, 38313.42it/s]"
     ]
    },
    {
     "name": "stdout",
     "output_type": "stream",
     "text": [
      "arg_relevance_one : ('https://www.debate.org/debates/Bad-politicians-should-face-deportation-from-the-US-when-their-terms-end/1/', \"Ladies and Gentlemen, the US government has a problem. Ok they have a sh*tload of problems but one of them stands out more than just about anything else. Its not the threat of nuclear war or inflation or unemployment or Decepticons........ No I am talking about bad politicians...... There is a saying in Israel that everyone on both sides want peace, but that all it takes is for one zealot to mess up everything. The same concept can be applied to the American government, where the few good politicians we have cannot bring America the change it needs because of the actions of one a**hole always undo's any progress made. What becomes of these bad politicians when they're term ends? bad publicity, low poll ratings, and that's about it. This nation needs to take a tougher stance against bad politicians, and I would recommend that they all be violated with a loaded shotgun in the behind but Chick-Fil-A is against that so I had to go with this instead.... Lets get to the point, When a politicians term ends (Politician = President, Senator, Representative, and Governor) then public approval ratings will determine if a president should FACE the option of being deported. If that politicians approval rating is below a critical point (lets put it at 19% for no reason at all) then the nation will be able to decide the fate of the politician and determine whether or not they will be allowed to stay in this country or get deported through a nation wide public vote. If the public votes in favor of deportation, then the politician is removed from the US. To recap this process 1) Approval ratings determine if a politician should be subjected to possible deportation 2) If approval rating is below 19% then the public will choose to vote in favor of or against deportation 3) If the public approves of deportation, politician is deported. If not, then he/she gets to stay 3 round debate so fire away!\")\n"
     ]
    },
    {
     "name": "stderr",
     "output_type": "stream",
     "text": [
      "100%|██████████| 387740/387740 [00:10<00:00, 36692.03it/s]\n"
     ]
    }
   ],
   "source": [
    "arg_relevance_one = 'Sce1fe489-Aa0395e1d'\n",
    "for doc in tqdm(dataset.docs_iter(), total=387740):\n",
    "    if doc.doc_id == arg_relevance_one:\n",
    "        print(f'arg_relevance_one : {doc.source_url, doc.premises_texts}')"
   ]
  }
 ],
 "metadata": {
  "kernelspec": {
   "display_name": "Python 3",
   "language": "python",
   "name": "python3"
  },
  "language_info": {
   "codemirror_mode": {
    "name": "ipython",
    "version": 3
   },
   "file_extension": ".py",
   "mimetype": "text/x-python",
   "name": "python",
   "nbconvert_exporter": "python",
   "pygments_lexer": "ipython3",
   "version": "3.6.9"
  }
 },
 "nbformat": 4,
 "nbformat_minor": 4
}
