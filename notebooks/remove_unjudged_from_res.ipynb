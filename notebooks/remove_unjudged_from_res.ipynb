{
 "nbformat": 4,
 "nbformat_minor": 0,
 "metadata": {
  "colab": {
   "name": "webis_remove_unjudged_from_res.ipynb",
   "provenance": []
  },
  "kernelspec": {
   "name": "python3",
   "display_name": "Python 3"
  },
  "language_info": {
   "name": "python"
  }
 },
 "cells": [
  {
   "cell_type": "code",
   "metadata": {
    "id": "oKFv9glEsTEE"
   },
   "source": [
    "%%capture\n",
    "import pyterrier as pt\n",
    "if not pt.started():\n",
    "  pt.init()"
   ],
   "execution_count": 1,
   "outputs": []
  },
  {
   "cell_type": "code",
   "metadata": {
    "id": "iobF1g_NseoO"
   },
   "source": [
    "import pandas as pd\n",
    "df = pd.read_csv('/content/drive/MyDrive/workspace/corpus.csv')\n",
    "\n",
    "from xml.etree import ElementTree\n",
    "tree = ElementTree.parse('/content/drive/MyDrive/workspace/topics.xml')\n",
    "data = tree.getroot()\n",
    "titles = []\n",
    "title_ids = []\n",
    "for topic in data:\n",
    "    titles.append(topic.find('title').text.lower()[:-1])\n",
    "    num = topic.find('number').text\n",
    "    title_ids.append(num)\n",
    "topics = pd.DataFrame(titles,columns = ['query'])\n",
    "topics['qid'] = topics.index + 51\n",
    "columns_titles = [\"qid\",\"query\"]\n",
    "topics=topics.reindex(columns=columns_titles)\n",
    "\n",
    "qrels_path=(\"/content/drive/MyDrive/workspace/qrels.qrels\")\n",
    "qrels = pt.io.read_qrels(qrels_path)\n",
    "\n",
    "docnos = qrels.docno\n"
   ],
   "execution_count": 2,
   "outputs": []
  },
  {
   "cell_type": "code",
   "metadata": {
    "colab": {
     "base_uri": "https://localhost:8080/",
     "height": 424
    },
    "id": "Bp8EgLc-smqk",
    "outputId": "2791f6fc-9706-4ff9-cecd-b26568bbc819"
   },
   "source": [
    "pd_indexer = pt.DFIndexer(\"./pd_index\")\n",
    "indexref = pd_indexer.index(df[\"text\"], df[\"docno\"])\n",
    "\n",
    "index = pt.IndexFactory.of(indexref)\n",
    "retr = pt.BatchRetrieve(index, controls = {\"wmodel\": \"TF_IDF\"})\n",
    "res=retr.transform(topics)\n",
    "\n",
    "res"
   ],
   "execution_count": 3,
   "outputs": [
    {
     "output_type": "execute_result",
     "data": {
      "text/html": [
       "<div>\n",
       "<style scoped>\n",
       "    .dataframe tbody tr th:only-of-type {\n",
       "        vertical-align: middle;\n",
       "    }\n",
       "\n",
       "    .dataframe tbody tr th {\n",
       "        vertical-align: top;\n",
       "    }\n",
       "\n",
       "    .dataframe thead th {\n",
       "        text-align: right;\n",
       "    }\n",
       "</style>\n",
       "<table border=\"1\" class=\"dataframe\">\n",
       "  <thead>\n",
       "    <tr style=\"text-align: right;\">\n",
       "      <th></th>\n",
       "      <th>qid</th>\n",
       "      <th>docid</th>\n",
       "      <th>docno</th>\n",
       "      <th>rank</th>\n",
       "      <th>score</th>\n",
       "      <th>query</th>\n",
       "    </tr>\n",
       "  </thead>\n",
       "  <tbody>\n",
       "    <tr>\n",
       "      <th>0</th>\n",
       "      <td>51</td>\n",
       "      <td>297468</td>\n",
       "      <td>S885c6b4f-Ad3259e81</td>\n",
       "      <td>0</td>\n",
       "      <td>15.174829</td>\n",
       "      <td>do we need sex education in schools</td>\n",
       "    </tr>\n",
       "    <tr>\n",
       "      <th>1</th>\n",
       "      <td>51</td>\n",
       "      <td>330918</td>\n",
       "      <td>S6353b9ac-A9cb2062c</td>\n",
       "      <td>1</td>\n",
       "      <td>14.984042</td>\n",
       "      <td>do we need sex education in schools</td>\n",
       "    </tr>\n",
       "    <tr>\n",
       "      <th>2</th>\n",
       "      <td>51</td>\n",
       "      <td>222529</td>\n",
       "      <td>S428a8bea-Aba4c7b80</td>\n",
       "      <td>2</td>\n",
       "      <td>14.776028</td>\n",
       "      <td>do we need sex education in schools</td>\n",
       "    </tr>\n",
       "    <tr>\n",
       "      <th>3</th>\n",
       "      <td>51</td>\n",
       "      <td>279241</td>\n",
       "      <td>Sd32774d-A5bbc95</td>\n",
       "      <td>3</td>\n",
       "      <td>14.715350</td>\n",
       "      <td>do we need sex education in schools</td>\n",
       "    </tr>\n",
       "    <tr>\n",
       "      <th>4</th>\n",
       "      <td>51</td>\n",
       "      <td>330916</td>\n",
       "      <td>S6353b9ac-A2df6348e</td>\n",
       "      <td>4</td>\n",
       "      <td>14.638091</td>\n",
       "      <td>do we need sex education in schools</td>\n",
       "    </tr>\n",
       "    <tr>\n",
       "      <th>...</th>\n",
       "      <td>...</td>\n",
       "      <td>...</td>\n",
       "      <td>...</td>\n",
       "      <td>...</td>\n",
       "      <td>...</td>\n",
       "      <td>...</td>\n",
       "    </tr>\n",
       "    <tr>\n",
       "      <th>49995</th>\n",
       "      <td>100</td>\n",
       "      <td>256729</td>\n",
       "      <td>S2ea519c-Aed35ffc8</td>\n",
       "      <td>995</td>\n",
       "      <td>3.581751</td>\n",
       "      <td>do we need cash</td>\n",
       "    </tr>\n",
       "    <tr>\n",
       "      <th>49996</th>\n",
       "      <td>100</td>\n",
       "      <td>29220</td>\n",
       "      <td>Sa68e9864-Af79ef325</td>\n",
       "      <td>996</td>\n",
       "      <td>3.580354</td>\n",
       "      <td>do we need cash</td>\n",
       "    </tr>\n",
       "    <tr>\n",
       "      <th>49997</th>\n",
       "      <td>100</td>\n",
       "      <td>231260</td>\n",
       "      <td>Sfb30ce24-Aa94950e7</td>\n",
       "      <td>997</td>\n",
       "      <td>3.580354</td>\n",
       "      <td>do we need cash</td>\n",
       "    </tr>\n",
       "    <tr>\n",
       "      <th>49998</th>\n",
       "      <td>100</td>\n",
       "      <td>294707</td>\n",
       "      <td>S78819fc5-Ae076e471</td>\n",
       "      <td>998</td>\n",
       "      <td>3.576581</td>\n",
       "      <td>do we need cash</td>\n",
       "    </tr>\n",
       "    <tr>\n",
       "      <th>49999</th>\n",
       "      <td>100</td>\n",
       "      <td>192896</td>\n",
       "      <td>S3312f86-A87f18ad1</td>\n",
       "      <td>999</td>\n",
       "      <td>3.575312</td>\n",
       "      <td>do we need cash</td>\n",
       "    </tr>\n",
       "  </tbody>\n",
       "</table>\n",
       "<p>50000 rows × 6 columns</p>\n",
       "</div>"
      ],
      "text/plain": [
       "       qid   docid  ...      score                                query\n",
       "0       51  297468  ...  15.174829  do we need sex education in schools\n",
       "1       51  330918  ...  14.984042  do we need sex education in schools\n",
       "2       51  222529  ...  14.776028  do we need sex education in schools\n",
       "3       51  279241  ...  14.715350  do we need sex education in schools\n",
       "4       51  330916  ...  14.638091  do we need sex education in schools\n",
       "...    ...     ...  ...        ...                                  ...\n",
       "49995  100  256729  ...   3.581751                      do we need cash\n",
       "49996  100   29220  ...   3.580354                      do we need cash\n",
       "49997  100  231260  ...   3.580354                      do we need cash\n",
       "49998  100  294707  ...   3.576581                      do we need cash\n",
       "49999  100  192896  ...   3.575312                      do we need cash\n",
       "\n",
       "[50000 rows x 6 columns]"
      ]
     },
     "metadata": {},
     "execution_count": 3
    }
   ]
  },
  {
   "cell_type": "code",
   "metadata": {
    "colab": {
     "base_uri": "https://localhost:8080/",
     "height": 363
    },
    "id": "vzUOtxCQsqTn",
    "outputId": "5e91c1bd-5d7b-4a70-ceb1-8eaf956fbce0"
   },
   "source": [
    "res_copy = res.copy()\n",
    "# res_copy = res_copy[res_copy['rank']<5]\n",
    "res_copy = res_copy[res_copy['docno'].isin(docnos)]\n",
    "res_copy.head(10)"
   ],
   "execution_count": 7,
   "outputs": [
    {
     "output_type": "execute_result",
     "data": {
      "text/html": [
       "<div>\n",
       "<style scoped>\n",
       "    .dataframe tbody tr th:only-of-type {\n",
       "        vertical-align: middle;\n",
       "    }\n",
       "\n",
       "    .dataframe tbody tr th {\n",
       "        vertical-align: top;\n",
       "    }\n",
       "\n",
       "    .dataframe thead th {\n",
       "        text-align: right;\n",
       "    }\n",
       "</style>\n",
       "<table border=\"1\" class=\"dataframe\">\n",
       "  <thead>\n",
       "    <tr style=\"text-align: right;\">\n",
       "      <th></th>\n",
       "      <th>qid</th>\n",
       "      <th>docid</th>\n",
       "      <th>docno</th>\n",
       "      <th>rank</th>\n",
       "      <th>score</th>\n",
       "      <th>query</th>\n",
       "    </tr>\n",
       "  </thead>\n",
       "  <tbody>\n",
       "    <tr>\n",
       "      <th>0</th>\n",
       "      <td>51</td>\n",
       "      <td>297468</td>\n",
       "      <td>S885c6b4f-Ad3259e81</td>\n",
       "      <td>0</td>\n",
       "      <td>15.174829</td>\n",
       "      <td>do we need sex education in schools</td>\n",
       "    </tr>\n",
       "    <tr>\n",
       "      <th>1</th>\n",
       "      <td>51</td>\n",
       "      <td>330918</td>\n",
       "      <td>S6353b9ac-A9cb2062c</td>\n",
       "      <td>1</td>\n",
       "      <td>14.984042</td>\n",
       "      <td>do we need sex education in schools</td>\n",
       "    </tr>\n",
       "    <tr>\n",
       "      <th>2</th>\n",
       "      <td>51</td>\n",
       "      <td>222529</td>\n",
       "      <td>S428a8bea-Aba4c7b80</td>\n",
       "      <td>2</td>\n",
       "      <td>14.776028</td>\n",
       "      <td>do we need sex education in schools</td>\n",
       "    </tr>\n",
       "    <tr>\n",
       "      <th>5</th>\n",
       "      <td>51</td>\n",
       "      <td>213692</td>\n",
       "      <td>S11b834b9-Aabe96a35</td>\n",
       "      <td>5</td>\n",
       "      <td>14.538698</td>\n",
       "      <td>do we need sex education in schools</td>\n",
       "    </tr>\n",
       "    <tr>\n",
       "      <th>6</th>\n",
       "      <td>51</td>\n",
       "      <td>314475</td>\n",
       "      <td>S937b1a96-A198bbc54</td>\n",
       "      <td>6</td>\n",
       "      <td>14.524366</td>\n",
       "      <td>do we need sex education in schools</td>\n",
       "    </tr>\n",
       "    <tr>\n",
       "      <th>7</th>\n",
       "      <td>51</td>\n",
       "      <td>239957</td>\n",
       "      <td>S3497c718-A2e6437a0</td>\n",
       "      <td>7</td>\n",
       "      <td>14.516631</td>\n",
       "      <td>do we need sex education in schools</td>\n",
       "    </tr>\n",
       "    <tr>\n",
       "      <th>8</th>\n",
       "      <td>51</td>\n",
       "      <td>198593</td>\n",
       "      <td>S471f6d0a-A6a764709</td>\n",
       "      <td>8</td>\n",
       "      <td>14.431860</td>\n",
       "      <td>do we need sex education in schools</td>\n",
       "    </tr>\n",
       "    <tr>\n",
       "      <th>14</th>\n",
       "      <td>51</td>\n",
       "      <td>37968</td>\n",
       "      <td>S13f4e445-A8e79d876</td>\n",
       "      <td>14</td>\n",
       "      <td>14.208333</td>\n",
       "      <td>do we need sex education in schools</td>\n",
       "    </tr>\n",
       "    <tr>\n",
       "      <th>15</th>\n",
       "      <td>51</td>\n",
       "      <td>182595</td>\n",
       "      <td>S471f6ceb-Ab64777b5</td>\n",
       "      <td>15</td>\n",
       "      <td>14.197628</td>\n",
       "      <td>do we need sex education in schools</td>\n",
       "    </tr>\n",
       "    <tr>\n",
       "      <th>16</th>\n",
       "      <td>51</td>\n",
       "      <td>4205</td>\n",
       "      <td>Sf27da082-A442fab1b</td>\n",
       "      <td>16</td>\n",
       "      <td>14.165045</td>\n",
       "      <td>do we need sex education in schools</td>\n",
       "    </tr>\n",
       "  </tbody>\n",
       "</table>\n",
       "</div>"
      ],
      "text/plain": [
       "   qid   docid  ...      score                                query\n",
       "0   51  297468  ...  15.174829  do we need sex education in schools\n",
       "1   51  330918  ...  14.984042  do we need sex education in schools\n",
       "2   51  222529  ...  14.776028  do we need sex education in schools\n",
       "5   51  213692  ...  14.538698  do we need sex education in schools\n",
       "6   51  314475  ...  14.524366  do we need sex education in schools\n",
       "7   51  239957  ...  14.516631  do we need sex education in schools\n",
       "8   51  198593  ...  14.431860  do we need sex education in schools\n",
       "14  51   37968  ...  14.208333  do we need sex education in schools\n",
       "15  51  182595  ...  14.197628  do we need sex education in schools\n",
       "16  51    4205  ...  14.165045  do we need sex education in schools\n",
       "\n",
       "[10 rows x 6 columns]"
      ]
     },
     "metadata": {},
     "execution_count": 7
    }
   ]
  },
  {
   "cell_type": "code",
   "metadata": {
    "colab": {
     "base_uri": "https://localhost:8080/"
    },
    "id": "ewxscQxOs-ae",
    "outputId": "0038fe19-f6c6-4db4-9d27-b7704b3288d0"
   },
   "source": [
    "eval = pt.Utils.evaluate(res_copy,qrels,metrics=[\"ndcg_cut_5\", \"bpref\", \"ndcg_cut_25\"])\n",
    "eval"
   ],
   "execution_count": 5,
   "outputs": [
    {
     "output_type": "execute_result",
     "data": {
      "text/plain": [
       "{'bpref': 0.6261477227722415,\n",
       " 'ndcg_cut_25': 0.6332115060794034,\n",
       " 'ndcg_cut_5': 0.6118904950108662}"
      ]
     },
     "metadata": {},
     "execution_count": 5
    }
   ]
  },
  {
   "cell_type": "code",
   "metadata": {
    "colab": {
     "base_uri": "https://localhost:8080/"
    },
    "id": "LFwfrCE6uD8Y",
    "outputId": "7119b210-a9d4-4079-d3ae-372d5d863d20"
   },
   "source": [
    "eval = pt.Utils.evaluate(res,qrels,metrics=[\"ndcg_cut_5\", \"bpref\", \"ndcg_cut_25\"])\n",
    "eval"
   ],
   "execution_count": 6,
   "outputs": [
    {
     "output_type": "execute_result",
     "data": {
      "text/plain": [
       "{'bpref': 0.6261477227722415,\n",
       " 'ndcg_cut_25': 0.45749865160257747,\n",
       " 'ndcg_cut_5': 0.5527540851759042}"
      ]
     },
     "metadata": {},
     "execution_count": 6
    }
   ]
  }
 ]
}
