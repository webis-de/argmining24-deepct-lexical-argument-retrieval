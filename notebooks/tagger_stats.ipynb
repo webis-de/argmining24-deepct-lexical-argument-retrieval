{
 "nbformat": 4,
 "nbformat_minor": 0,
 "metadata": {
  "colab": {
   "name": "webis_tagger_stats.ipynb",
   "provenance": []
  },
  "kernelspec": {
   "name": "python3",
   "display_name": "Python 3"
  },
  "language_info": {
   "name": "python"
  }
 },
 "cells": [
  {
   "cell_type": "code",
   "execution_count": 1,
   "metadata": {
    "id": "doxhA94x38Ht"
   },
   "outputs": [],
   "source": [
    "import numpy as np\n",
    "from nltk.tokenize import RegexpTokenizer\n",
    "tokenizer = RegexpTokenizer(r'\\w+')\n",
    "import pandas as pd\n",
    "tagged_df = pd.read_csv('/content/drive/MyDrive/workspace/tagged_corpus.csv')\n",
    "tagged_df.replace(np.nan, '', inplace = True)\n",
    "df = pd.read_csv('/content/drive/MyDrive/workspace/corpus.csv')"
   ]
  },
  {
   "cell_type": "code",
   "source": [
    "all_claims = tagged_df['claims']\n",
    "all_premises = tagged_df['premises']\n",
    "# for claim in all_premises:\n",
    "#   try:\n",
    "#     ' '.join(claim)\n",
    "#   except:\n",
    "#     print(claim)\n",
    "text_claim_and_premise = []\n",
    "for claim, premise in zip(all_claims, all_premises):\n",
    "    text_claim_and_premise.append(claim + \" \" + premise)"
   ],
   "metadata": {
    "id": "5h55GDZl4o17"
   },
   "execution_count": 2,
   "outputs": []
  },
  {
   "cell_type": "code",
   "source": [
    "df_claim_and_premise = pd.DataFrame()\n",
    "df_claim_and_premise['docno'] = tagged_df['docno']\n",
    "df_claim_and_premise['text'] = text_claim_and_premise\n",
    "df_claim_and_premise"
   ],
   "metadata": {
    "colab": {
     "base_uri": "https://localhost:8080/",
     "height": 424
    },
    "id": "MyegbatH4Xnp",
    "outputId": "0586ff85-d4af-4b04-85b0-4cc192efd91e"
   },
   "execution_count": 3,
   "outputs": [
    {
     "output_type": "execute_result",
     "data": {
      "text/html": [
       "<div>\n",
       "<style scoped>\n",
       "    .dataframe tbody tr th:only-of-type {\n",
       "        vertical-align: middle;\n",
       "    }\n",
       "\n",
       "    .dataframe tbody tr th {\n",
       "        vertical-align: top;\n",
       "    }\n",
       "\n",
       "    .dataframe thead th {\n",
       "        text-align: right;\n",
       "    }\n",
       "</style>\n",
       "<table border=\"1\" class=\"dataframe\">\n",
       "  <thead>\n",
       "    <tr style=\"text-align: right;\">\n",
       "      <th></th>\n",
       "      <th>docno</th>\n",
       "      <th>text</th>\n",
       "    </tr>\n",
       "  </thead>\n",
       "  <tbody>\n",
       "    <tr>\n",
       "      <th>0</th>\n",
       "      <td>S1f6b58eb-A5c530110</td>\n",
       "      <td>I have my hair in braids much like I have had...</td>\n",
       "    </tr>\n",
       "    <tr>\n",
       "      <th>1</th>\n",
       "      <td>S1a9db4fc-Acc4206f5</td>\n",
       "      <td>On November 10 UN Women elected its first exe...</td>\n",
       "    </tr>\n",
       "    <tr>\n",
       "      <th>2</th>\n",
       "      <td>S1a924cd4-A994e77ca</td>\n",
       "      <td>Research want disease Madam October is Women '...</td>\n",
       "    </tr>\n",
       "    <tr>\n",
       "      <th>3</th>\n",
       "      <td>S1a3be6ac-A873cd7aa</td>\n",
       "      <td>rise today to recognize Frederick Couchie fat...</td>\n",
       "    </tr>\n",
       "    <tr>\n",
       "      <th>4</th>\n",
       "      <td>S1beff81f-A1206f3ee</td>\n",
       "      <td>I find the continued existence of and the inc...</td>\n",
       "    </tr>\n",
       "    <tr>\n",
       "      <th>...</th>\n",
       "      <td>...</td>\n",
       "      <td>...</td>\n",
       "    </tr>\n",
       "    <tr>\n",
       "      <th>338615</th>\n",
       "      <td>Sca72da7d-A5cd811ac</td>\n",
       "      <td>give of justified hitting is in response annoy...</td>\n",
       "    </tr>\n",
       "    <tr>\n",
       "      <th>338616</th>\n",
       "      <td>Sca72da7d-Af008e63e</td>\n",
       "      <td>the world would be a better place , as annoyin...</td>\n",
       "    </tr>\n",
       "    <tr>\n",
       "      <th>338617</th>\n",
       "      <td>Sca72da7d-Ac77ea7a1</td>\n",
       "      <td>my opponent online yesterday and assumed that...</td>\n",
       "    </tr>\n",
       "    <tr>\n",
       "      <th>338618</th>\n",
       "      <td>Sca72da7d-Ae83ab999</td>\n",
       "      <td>one is going to be prosecuted for a genuinely...</td>\n",
       "    </tr>\n",
       "    <tr>\n",
       "      <th>338619</th>\n",
       "      <td>Sca72da7d-Adbd84fd2</td>\n",
       "      <td>there should be other limitations such as ins...</td>\n",
       "    </tr>\n",
       "  </tbody>\n",
       "</table>\n",
       "<p>338620 rows × 2 columns</p>\n",
       "</div>"
      ],
      "text/plain": [
       "                      docno                                               text\n",
       "0       S1f6b58eb-A5c530110   I have my hair in braids much like I have had...\n",
       "1       S1a9db4fc-Acc4206f5   On November 10 UN Women elected its first exe...\n",
       "2       S1a924cd4-A994e77ca  Research want disease Madam October is Women '...\n",
       "3       S1a3be6ac-A873cd7aa   rise today to recognize Frederick Couchie fat...\n",
       "4       S1beff81f-A1206f3ee   I find the continued existence of and the inc...\n",
       "...                     ...                                                ...\n",
       "338615  Sca72da7d-A5cd811ac  give of justified hitting is in response annoy...\n",
       "338616  Sca72da7d-Af008e63e  the world would be a better place , as annoyin...\n",
       "338617  Sca72da7d-Ac77ea7a1   my opponent online yesterday and assumed that...\n",
       "338618  Sca72da7d-Ae83ab999   one is going to be prosecuted for a genuinely...\n",
       "338619  Sca72da7d-Adbd84fd2   there should be other limitations such as ins...\n",
       "\n",
       "[338620 rows x 2 columns]"
      ]
     },
     "metadata": {},
     "execution_count": 3
    }
   ]
  },
  {
   "cell_type": "code",
   "source": [
    "len_orig = []\n",
    "len_tag = []\n",
    "\n",
    "i = 0\n",
    "for tag_text, orig_text in zip(df_claim_and_premise['text'], df['text']):\n",
    "  len_orig.append(len(tokenizer.tokenize(orig_text)))\n",
    "  len_tag.append(len(tokenizer.tokenize(tag_text)))\n",
    "  if(len(tokenizer.tokenize(orig_text)) == 0):\n",
    "    print(i)\n",
    "    print(orig_text)\n",
    "    print(tag_text)\n",
    "    print('-------')\n",
    "    break\n",
    "  i += 1"
   ],
   "metadata": {
    "id": "qgKd-iUW9VnT"
   },
   "execution_count": 15,
   "outputs": []
  },
  {
   "cell_type": "code",
   "source": [
    "lens = np.array([len_orig, len_tag])\n",
    "print(f'Mean of original lenghtes in tokens: {np.mean(len_orig)}')\n",
    "print(f'Mean of tagged lenghtes in tokens: {np.mean(len_tag)}')\n",
    "\n",
    "print(f'Variance of original lenghtes in tokens: {np.var(len_orig)}')\n",
    "print(f'Variance of tagged lenghtes in tokens: {np.var(len_tag)}')\n",
    "\n",
    "print(f'Standard deviation of original lenghtes in tokens: {np.std(len_orig)}')\n",
    "print(f'Standard deviation of tagged lenghtes in tokens: {np.std(len_tag)}')\n",
    "\n",
    "print(f'Median of original lenghtes in tokens: {np.median(len_orig)}')\n",
    "print(f'Median of tagged lenghtes in tokens: {np.median(len_tag)}')\n",
    "\n",
    "print(f'Max of original lenghtes in tokens: {np.max(len_orig)}')\n",
    "print(f'Max of tagged lenghtes in tokens: {np.max(len_tag)}')\n",
    "\n",
    "print(f'Min of original lenghtes in tokens: {np.min(len_orig)}')\n",
    "print(f'Min of tagged lenghtes in tokens: {np.min(len_tag)}')\n"
   ],
   "metadata": {
    "colab": {
     "base_uri": "https://localhost:8080/"
    },
    "id": "i-UwWQASCcl4",
    "outputId": "ba010e94-d5bb-4192-ad4a-1557a4a73315"
   },
   "execution_count": 16,
   "outputs": [
    {
     "output_type": "stream",
     "name": "stdout",
     "text": [
      "Mean of original lenghtes in tokens: 316.5804323430394\n",
      "Mean of tagged lenghtes in tokens: 212.31169157167326\n",
      "Variance of original lenghtes in tokens: 165157.84620620374\n",
      "Variance of tagged lenghtes in tokens: 81037.37138241413\n",
      "Standard deviation of original lenghtes in tokens: 406.3961690348517\n",
      "Standard deviation of tagged lenghtes in tokens: 284.67063667054623\n",
      "Median of original lenghtes in tokens: 140.0\n",
      "Median of tagged lenghtes in tokens: 92.0\n",
      "Max of original lenghtes in tokens: 16751\n",
      "Max of tagged lenghtes in tokens: 15955\n",
      "Min of original lenghtes in tokens: 1\n",
      "Min of tagged lenghtes in tokens: 0\n"
     ]
    }
   ]
  }
 ]
}
