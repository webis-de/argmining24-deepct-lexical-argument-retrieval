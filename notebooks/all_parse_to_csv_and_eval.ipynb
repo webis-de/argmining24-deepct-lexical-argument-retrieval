{
 "nbformat": 4,
 "nbformat_minor": 0,
 "metadata": {
  "colab": {
   "name": "all_parse_to_csv_and_eval.ipynb",
   "provenance": []
  },
  "kernelspec": {
   "name": "python3",
   "display_name": "Python 3"
  },
  "language_info": {
   "name": "python"
  }
 },
 "cells": [
  {
   "cell_type": "code",
   "metadata": {
    "id": "MnvPDVxxKpad"
   },
   "source": [
    "'''\n",
    "Done: whole corpus parsed (only 'text' and 'conclusion' are saved') to\n",
    "the single .csv file. Whole corpus is then indexed and \n",
    "evaluated via 'map' and 'ndcg'.\n",
    "'''"
   ],
   "execution_count": null,
   "outputs": []
  },
  {
   "cell_type": "code",
   "metadata": {
    "colab": {
     "base_uri": "https://localhost:8080/"
    },
    "id": "UQxBM-VeHMO4",
    "outputId": "5fbaa9e9-0301-4761-aeac-b3cb24aa120d"
   },
   "source": [
    "!pip install ijson"
   ],
   "execution_count": 6,
   "outputs": [
    {
     "output_type": "stream",
     "name": "stdout",
     "text": [
      "Collecting ijson\n",
      "  Downloading ijson-3.1.4-cp37-cp37m-manylinux2010_x86_64.whl (126 kB)\n",
      "\u001B[?25l\r\u001B[K     |██▋                             | 10 kB 20.0 MB/s eta 0:00:01\r\u001B[K     |█████▏                          | 20 kB 22.9 MB/s eta 0:00:01\r\u001B[K     |███████▉                        | 30 kB 26.3 MB/s eta 0:00:01\r\u001B[K     |██████████▍                     | 40 kB 23.3 MB/s eta 0:00:01\r\u001B[K     |█████████████                   | 51 kB 24.0 MB/s eta 0:00:01\r\u001B[K     |███████████████▋                | 61 kB 14.2 MB/s eta 0:00:01\r\u001B[K     |██████████████████▏             | 71 kB 12.4 MB/s eta 0:00:01\r\u001B[K     |████████████████████▊           | 81 kB 13.5 MB/s eta 0:00:01\r\u001B[K     |███████████████████████▍        | 92 kB 14.6 MB/s eta 0:00:01\r\u001B[K     |██████████████████████████      | 102 kB 15.7 MB/s eta 0:00:01\r\u001B[K     |████████████████████████████▌   | 112 kB 15.7 MB/s eta 0:00:01\r\u001B[K     |███████████████████████████████▏| 122 kB 15.7 MB/s eta 0:00:01\r\u001B[K     |████████████████████████████████| 126 kB 15.7 MB/s \n",
      "\u001B[?25hInstalling collected packages: ijson\n",
      "Successfully installed ijson-3.1.4\n"
     ]
    }
   ]
  },
  {
   "cell_type": "code",
   "metadata": {
    "id": "6LQZ4wbpuwfY"
   },
   "source": [
    "import ijson\n",
    "import re\n",
    "data_set = set()\n",
    "id_text = {}\n",
    "filenames = ['debateorg', 'debatepedia', 'debatewise', 'idebate', 'parliamentary']\n",
    "for filename in filenames:\n",
    "  path = '/content/drive/MyDrive/Bachelor_webis/' + filename + '.json'\n",
    "  with open(path, 'r', encoding='utf-8') as f:\n",
    "      objects = ijson.items(f, 'arguments.item')\n",
    "      for i, o in enumerate(objects):\n",
    "        # text = \n",
    "        id_text[i] = o['id'], o[\"premises\"][0][\"text\"] + o[\"conclusion\"] "
   ],
   "execution_count": 15,
   "outputs": []
  },
  {
   "cell_type": "code",
   "metadata": {
    "id": "bwLI4qBZHba2"
   },
   "source": [
    "import pandas as pd\n",
    "df = pd.DataFrame.from_dict(id_text).transpose()\n",
    "df = df.rename(columns={0: \"docno\", 1: \"text\"})\n"
   ],
   "execution_count": 16,
   "outputs": []
  },
  {
   "cell_type": "code",
   "metadata": {
    "id": "icehGmjRHtd2"
   },
   "source": [
    "df.to_csv(index=False, path_or_buf='/content/drive/MyDrive/workspace/corpus.csv')"
   ],
   "execution_count": 17,
   "outputs": []
  },
  {
   "cell_type": "code",
   "metadata": {
    "id": "DEJMWjl1I74x"
   },
   "source": [
    "!pip install python-terrier\n",
    "import pyterrier as pt\n",
    "if not pt.started():\n",
    "  pt.init()"
   ],
   "execution_count": null,
   "outputs": []
  },
  {
   "cell_type": "code",
   "metadata": {
    "colab": {
     "base_uri": "https://localhost:8080/"
    },
    "id": "cmCQLfFxJBUI",
    "outputId": "e572cf07-011c-4ddb-ddf8-9e07ba4d3b2f"
   },
   "source": [
    "pd_indexer = pt.DFIndexer(\"./pd_index\")\n",
    "indexref = pd_indexer.index(df[\"text\"], df[\"docno\"])"
   ],
   "execution_count": 26,
   "outputs": [
    {
     "output_type": "stream",
     "name": "stdout",
     "text": [
      "13:46:17.839 [main] WARN org.terrier.structures.indexing.Indexer - Adding an empty document to the index (Sdbc891ec-A55b98352) - further warnings are suppressed\n",
      "13:50:40.562 [main] WARN org.terrier.structures.indexing.Indexer - Indexed 57 empty documents\n",
      "13:50:40.918 [main] ERROR org.terrier.structures.indexing.Indexer - Could not finish MetaIndexBuilder: \n",
      "java.io.IOException: Key Saeff5ad8-Afba459ff is not unique: 160773,160770\n",
      "For MetaIndex, to suppress, set metaindex.compressed.reverse.allow.duplicates=true\n",
      "\tat org.terrier.structures.collections.FSOrderedMapFile$MultiFSOMapWriter.mergeTwo(FSOrderedMapFile.java:1374)\n",
      "\tat org.terrier.structures.collections.FSOrderedMapFile$MultiFSOMapWriter.close(FSOrderedMapFile.java:1308)\n",
      "\tat org.terrier.structures.indexing.BaseMetaIndexBuilder.close(BaseMetaIndexBuilder.java:321)\n",
      "\tat org.terrier.structures.indexing.classical.BasicIndexer.createDirectIndex(BasicIndexer.java:346)\n",
      "\tat org.terrier.structures.indexing.Indexer.index(Indexer.java:369)\n"
     ]
    }
   ]
  },
  {
   "cell_type": "code",
   "metadata": {
    "id": "u0yuj9rVJCkU"
   },
   "source": [
    "from xml.etree import ElementTree\n",
    "tree = ElementTree.parse('/content/drive/MyDrive/workspace/topics.xml')\n",
    "data = tree.getroot()\n",
    "titles = []\n",
    "title_ids = []\n",
    "for topic in data:\n",
    "    titles.append(topic.find('title').text.lower()[:-1])\n",
    "    num = topic.find('number').text\n",
    "    title_ids.append(num)\n"
   ],
   "execution_count": 20,
   "outputs": []
  },
  {
   "cell_type": "code",
   "metadata": {
    "id": "1AwjvgnOJDwm"
   },
   "source": [
    "topics = pd.DataFrame(titles,columns = ['query'])\n",
    "topics['qid'] = topics.index + 51\n",
    "columns_titles = [\"qid\",\"query\"]\n",
    "topics=topics.reindex(columns=columns_titles)"
   ],
   "execution_count": 21,
   "outputs": []
  },
  {
   "cell_type": "code",
   "metadata": {
    "id": "vIYIUOSgJFC4"
   },
   "source": [
    "index = pt.IndexFactory.of(indexref)\n",
    "retr = pt.BatchRetrieve(index, controls = {\"wmodel\": \"TF_IDF\"})\n",
    "res=retr.transform(topics)\n",
    "qrels_path=(\"/content/drive/MyDrive/workspace/qrels.qrels\")\n",
    "qrels = pt.io.read_qrels(qrels_path)"
   ],
   "execution_count": 27,
   "outputs": []
  },
  {
   "cell_type": "code",
   "metadata": {
    "colab": {
     "base_uri": "https://localhost:8080/",
     "height": 419
    },
    "id": "5kOiUqDLJPUt",
    "outputId": "c0df3034-7585-47fa-ff2c-eb5ad552f144"
   },
   "source": [
    "res"
   ],
   "execution_count": 28,
   "outputs": [
    {
     "output_type": "execute_result",
     "data": {
      "text/html": [
       "<div>\n",
       "<style scoped>\n",
       "    .dataframe tbody tr th:only-of-type {\n",
       "        vertical-align: middle;\n",
       "    }\n",
       "\n",
       "    .dataframe tbody tr th {\n",
       "        vertical-align: top;\n",
       "    }\n",
       "\n",
       "    .dataframe thead th {\n",
       "        text-align: right;\n",
       "    }\n",
       "</style>\n",
       "<table border=\"1\" class=\"dataframe\">\n",
       "  <thead>\n",
       "    <tr style=\"text-align: right;\">\n",
       "      <th></th>\n",
       "      <th>qid</th>\n",
       "      <th>docid</th>\n",
       "      <th>docno</th>\n",
       "      <th>rank</th>\n",
       "      <th>score</th>\n",
       "      <th>query</th>\n",
       "    </tr>\n",
       "  </thead>\n",
       "  <tbody>\n",
       "    <tr>\n",
       "      <th>0</th>\n",
       "      <td>51</td>\n",
       "      <td>297468</td>\n",
       "      <td>S885c6b4f-Ad3259e81</td>\n",
       "      <td>0</td>\n",
       "      <td>15.174829</td>\n",
       "      <td>do we need sex education in schools</td>\n",
       "    </tr>\n",
       "    <tr>\n",
       "      <th>1</th>\n",
       "      <td>51</td>\n",
       "      <td>330918</td>\n",
       "      <td>S6353b9ac-A9cb2062c</td>\n",
       "      <td>1</td>\n",
       "      <td>14.984042</td>\n",
       "      <td>do we need sex education in schools</td>\n",
       "    </tr>\n",
       "    <tr>\n",
       "      <th>2</th>\n",
       "      <td>51</td>\n",
       "      <td>222529</td>\n",
       "      <td>S428a8bea-Aba4c7b80</td>\n",
       "      <td>2</td>\n",
       "      <td>14.776028</td>\n",
       "      <td>do we need sex education in schools</td>\n",
       "    </tr>\n",
       "    <tr>\n",
       "      <th>3</th>\n",
       "      <td>51</td>\n",
       "      <td>279241</td>\n",
       "      <td>Sd32774d-A5bbc95</td>\n",
       "      <td>3</td>\n",
       "      <td>14.715350</td>\n",
       "      <td>do we need sex education in schools</td>\n",
       "    </tr>\n",
       "    <tr>\n",
       "      <th>4</th>\n",
       "      <td>51</td>\n",
       "      <td>330916</td>\n",
       "      <td>S6353b9ac-A2df6348e</td>\n",
       "      <td>4</td>\n",
       "      <td>14.638091</td>\n",
       "      <td>do we need sex education in schools</td>\n",
       "    </tr>\n",
       "    <tr>\n",
       "      <th>...</th>\n",
       "      <td>...</td>\n",
       "      <td>...</td>\n",
       "      <td>...</td>\n",
       "      <td>...</td>\n",
       "      <td>...</td>\n",
       "      <td>...</td>\n",
       "    </tr>\n",
       "    <tr>\n",
       "      <th>49995</th>\n",
       "      <td>100</td>\n",
       "      <td>256729</td>\n",
       "      <td>S2ea519c-Aed35ffc8</td>\n",
       "      <td>995</td>\n",
       "      <td>3.581751</td>\n",
       "      <td>do we need cash</td>\n",
       "    </tr>\n",
       "    <tr>\n",
       "      <th>49996</th>\n",
       "      <td>100</td>\n",
       "      <td>29220</td>\n",
       "      <td>Sa68e9864-Af79ef325</td>\n",
       "      <td>996</td>\n",
       "      <td>3.580354</td>\n",
       "      <td>do we need cash</td>\n",
       "    </tr>\n",
       "    <tr>\n",
       "      <th>49997</th>\n",
       "      <td>100</td>\n",
       "      <td>231260</td>\n",
       "      <td>Sfb30ce24-Aa94950e7</td>\n",
       "      <td>997</td>\n",
       "      <td>3.580354</td>\n",
       "      <td>do we need cash</td>\n",
       "    </tr>\n",
       "    <tr>\n",
       "      <th>49998</th>\n",
       "      <td>100</td>\n",
       "      <td>294707</td>\n",
       "      <td>S78819fc5-Ae076e471</td>\n",
       "      <td>998</td>\n",
       "      <td>3.576581</td>\n",
       "      <td>do we need cash</td>\n",
       "    </tr>\n",
       "    <tr>\n",
       "      <th>49999</th>\n",
       "      <td>100</td>\n",
       "      <td>192896</td>\n",
       "      <td>S3312f86-A87f18ad1</td>\n",
       "      <td>999</td>\n",
       "      <td>3.575312</td>\n",
       "      <td>do we need cash</td>\n",
       "    </tr>\n",
       "  </tbody>\n",
       "</table>\n",
       "<p>50000 rows × 6 columns</p>\n",
       "</div>"
      ],
      "text/plain": [
       "       qid   docid  ...      score                                query\n",
       "0       51  297468  ...  15.174829  do we need sex education in schools\n",
       "1       51  330918  ...  14.984042  do we need sex education in schools\n",
       "2       51  222529  ...  14.776028  do we need sex education in schools\n",
       "3       51  279241  ...  14.715350  do we need sex education in schools\n",
       "4       51  330916  ...  14.638091  do we need sex education in schools\n",
       "...    ...     ...  ...        ...                                  ...\n",
       "49995  100  256729  ...   3.581751                      do we need cash\n",
       "49996  100   29220  ...   3.580354                      do we need cash\n",
       "49997  100  231260  ...   3.580354                      do we need cash\n",
       "49998  100  294707  ...   3.576581                      do we need cash\n",
       "49999  100  192896  ...   3.575312                      do we need cash\n",
       "\n",
       "[50000 rows x 6 columns]"
      ]
     },
     "metadata": {},
     "execution_count": 28
    }
   ]
  },
  {
   "cell_type": "code",
   "metadata": {
    "colab": {
     "base_uri": "https://localhost:8080/"
    },
    "id": "CXK6koC3JGNs",
    "outputId": "a9c9e0e4-91f1-4084-b07b-2510deba7370"
   },
   "source": [
    "eval = pt.Utils.evaluate(res,qrels,metrics=[\"ndcg_cut_5\"])\n",
    "eval"
   ],
   "execution_count": 57,
   "outputs": [
    {
     "output_type": "execute_result",
     "data": {
      "text/plain": [
       "{'ndcg_cut_5': 0.5527540851759042}"
      ]
     },
     "metadata": {},
     "execution_count": 57
    }
   ]
  }
 ]
}
