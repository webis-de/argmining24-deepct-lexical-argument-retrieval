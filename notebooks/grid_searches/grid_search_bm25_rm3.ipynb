{
 "cells": [
  {
   "cell_type": "code",
   "execution_count": 1,
   "id": "a25bdf08",
   "metadata": {},
   "outputs": [
    {
     "name": "stderr",
     "output_type": "stream",
     "text": [
      "PyTerrier 0.8.0 has loaded Terrier 5.6 (built by craigmacdonald on 2021-09-17 13:27)\n",
      "\n"
     ]
    }
   ],
   "source": [
    "import pandas as pd\n",
    "import numpy as np\n",
    "import pyterrier_deepct\n",
    "import pyterrier as pt\n",
    "if not pt.started():\n",
    "  pt.init(boot_packages=[\"com.github.terrierteam:terrier-prf:-SNAPSHOT\"])"
   ]
  },
  {
   "cell_type": "code",
   "execution_count": 2,
   "id": "b1064689",
   "metadata": {},
   "outputs": [],
   "source": [
    "from xml.etree import ElementTree\n",
    "tree = ElementTree.parse('/workspace/src/evaluate_targers/topics2020.xml')\n",
    "data = tree.getroot()\n",
    "titles20 = []\n",
    "titles21 = []\n",
    "title_ids20 = []\n",
    "title_ids21 = []\n",
    "nums20 = []\n",
    "nums21 = []\n",
    "for topic in data:\n",
    "    titles20.append(topic.find('title').text.lower()[:-1])\n",
    "    num20 = topic.find('number').text\n",
    "    nums20.append(num20)\n",
    "tree = ElementTree.parse('/workspace/src/evaluate_targers/topics.xml')\n",
    "data = tree.getroot()    \n",
    "for topic in data:\n",
    "    titles21.append(topic.find('title').text.lower()[:-1])\n",
    "    num21 = topic.find('number').text\n",
    "    nums21.append(num21)\n",
    "topics = pd.DataFrame()\n",
    "topics['qid'] = nums20 + nums21\n",
    "topics['query'] = titles20 + titles21\n",
    "\n",
    "topics21 = pd.DataFrame()\n",
    "topics21['qid'] = nums21\n",
    "topics21['query'] = titles21\n",
    "\n",
    "topics20 = pd.DataFrame()\n",
    "topics20['qid'] = nums20\n",
    "topics20['query'] = titles20\n",
    "\n",
    "qrels_path=(\"/workspace/src/evaluate_targers/new_qrels.qrels\")\n",
    "qrels = pt.io.read_qrels(qrels_path)\n",
    "\n",
    "qrels21_path=(\"/workspace/src/evaluate_targers/qrels.qrels\")\n",
    "qrels21 = pt.io.read_qrels(qrels21_path)\n",
    "\n",
    "qrels20_path=(\"/workspace/src/evaluate_targers/qrels20.qrels\")\n",
    "qrels20 = pt.io.read_qrels(qrels20_path)\n",
    "\n",
    "docnos = qrels.docno"
   ]
  },
  {
   "cell_type": "code",
   "execution_count": 17,
   "id": "64ef591f",
   "metadata": {},
   "outputs": [
    {
     "name": "stdout",
     "output_type": "stream",
     "text": [
      "\n",
      "/mnt/ceph/storage/data-in-progress/data-teaching/theses/wstud-thesis-hollatz/targer_indexes/pd_index_original-100\n",
      "Fold 1\n",
      "Best ndcg_cut_5 is 0.584666\n",
      "Best setting is ['<pyterrier.rewrite.RM3 object at 0x7f2319f92bd0> fb_terms=12', '<pyterrier.rewrite.RM3 object at 0x7f2319f92bd0> fb_docs=4', '<pyterrier.rewrite.RM3 object at 0x7f2319f92bd0> fb_lambda=0.6']\n",
      "Fold 2\n",
      "Best ndcg_cut_5 is 0.325742\n",
      "Best setting is ['<pyterrier.rewrite.RM3 object at 0x7f2319f92bd0> fb_terms=14', '<pyterrier.rewrite.RM3 object at 0x7f2319f92bd0> fb_docs=8', '<pyterrier.rewrite.RM3 object at 0x7f2319f92bd0> fb_lambda=0.4']\n"
     ]
    },
    {
     "ename": "ValueError",
     "evalue": "save_dir /workspace/src/runs_bm25_rm3 does not exist",
     "output_type": "error",
     "traceback": [
      "\u001b[0;31m---------------------------------------------------------------------------\u001b[0m",
      "\u001b[0;31mValueError\u001b[0m                                Traceback (most recent call last)",
      "\u001b[0;32m<ipython-input-17-18bfd71ae087>\u001b[0m in \u001b[0;36m<module>\u001b[0;34m\u001b[0m\n\u001b[1;32m     35\u001b[0m             print(pt.Experiment([pipe_qe, bm25_for_qe], topics, qrels, \n\u001b[1;32m     36\u001b[0m                                 \u001b[0mnames\u001b[0m\u001b[0;34m=\u001b[0m\u001b[0;34m[\u001b[0m\u001b[0;34m'tuned_bm25_rm3'\u001b[0m\u001b[0;34m,\u001b[0m\u001b[0;34m'orignal_bm25_rm3'\u001b[0m\u001b[0;34m]\u001b[0m\u001b[0;34m,\u001b[0m \u001b[0msave_mode\u001b[0m \u001b[0;34m=\u001b[0m \u001b[0;34m\"overwrite\"\u001b[0m\u001b[0;34m,\u001b[0m\u001b[0;34m\u001b[0m\u001b[0;34m\u001b[0m\u001b[0m\n\u001b[0;32m---> 37\u001b[0;31m                                 eval_metrics=[\"ndcg_cut_5\", \"ndcg_cut_25\", \"bpref\"],  save_dir = \"/workspace/src/runs_bm25_rm3\"))\n\u001b[0m\u001b[1;32m     38\u001b[0m \u001b[0;34m\u001b[0m\u001b[0m\n\u001b[1;32m     39\u001b[0m             print(pt.Experiment([pipe_qe, bm25_for_qe], topics20, qrels, names=['20original_tuned_bm25_rm3', '20orignal_bm25_rm3'], \n",
      "\u001b[0;32m/opt/conda/lib/python3.7/site-packages/pyterrier/pipelines.py\u001b[0m in \u001b[0;36mExperiment\u001b[0;34m(retr_systems, topics, qrels, eval_metrics, names, perquery, dataframe, batch_size, filter_by_qrels, filter_by_topics, baseline, test, correction, correction_alpha, highlight, round, verbose, save_dir, save_mode, **kwargs)\u001b[0m\n\u001b[1;32m    406\u001b[0m     \u001b[0;32mif\u001b[0m \u001b[0msave_dir\u001b[0m \u001b[0;32mis\u001b[0m \u001b[0;32mnot\u001b[0m \u001b[0;32mNone\u001b[0m\u001b[0;34m:\u001b[0m\u001b[0;34m\u001b[0m\u001b[0;34m\u001b[0m\u001b[0m\n\u001b[1;32m    407\u001b[0m         \u001b[0;32mif\u001b[0m \u001b[0;32mnot\u001b[0m \u001b[0mos\u001b[0m\u001b[0;34m.\u001b[0m\u001b[0mpath\u001b[0m\u001b[0;34m.\u001b[0m\u001b[0mexists\u001b[0m\u001b[0;34m(\u001b[0m\u001b[0msave_dir\u001b[0m\u001b[0;34m)\u001b[0m\u001b[0;34m:\u001b[0m\u001b[0;34m\u001b[0m\u001b[0;34m\u001b[0m\u001b[0m\n\u001b[0;32m--> 408\u001b[0;31m             \u001b[0;32mraise\u001b[0m \u001b[0mValueError\u001b[0m\u001b[0;34m(\u001b[0m\u001b[0;34m\"save_dir %s does not exist\"\u001b[0m \u001b[0;34m%\u001b[0m \u001b[0msave_dir\u001b[0m\u001b[0;34m)\u001b[0m\u001b[0;34m\u001b[0m\u001b[0;34m\u001b[0m\u001b[0m\n\u001b[0m\u001b[1;32m    409\u001b[0m         \u001b[0;32mif\u001b[0m \u001b[0;32mnot\u001b[0m \u001b[0mos\u001b[0m\u001b[0;34m.\u001b[0m\u001b[0mpath\u001b[0m\u001b[0;34m.\u001b[0m\u001b[0misdir\u001b[0m\u001b[0;34m(\u001b[0m\u001b[0msave_dir\u001b[0m\u001b[0;34m)\u001b[0m\u001b[0;34m:\u001b[0m\u001b[0;34m\u001b[0m\u001b[0;34m\u001b[0m\u001b[0m\n\u001b[1;32m    410\u001b[0m             \u001b[0;32mraise\u001b[0m \u001b[0mValueError\u001b[0m\u001b[0;34m(\u001b[0m\u001b[0;34m\"save_dir %s is not a directory\"\u001b[0m \u001b[0;34m%\u001b[0m \u001b[0msave_dir\u001b[0m\u001b[0;34m)\u001b[0m\u001b[0;34m\u001b[0m\u001b[0;34m\u001b[0m\u001b[0m\n",
      "\u001b[0;31mValueError\u001b[0m: save_dir /workspace/src/runs_bm25_rm3 does not exist"
     ]
    }
   ],
   "source": [
    "import os\n",
    "# rootdir = \"/mnt/ceph/storage/data-in-progress/data-teaching/theses/wstud-thesis-hollatz/DeepCT_indexes/\"\n",
    "rootdir = \"/mnt/ceph/storage/data-in-progress/data-teaching/theses/wstud-thesis-hollatz/targer_indexes/pd_index_original-100\"\n",
    "\n",
    "objective=\"ndcg_cut_5\"\n",
    "for i, (subdir, dirs, files) in enumerate(os.walk(rootdir)):\n",
    "    for file in files:\n",
    "        if(file == 'data.properties'):\n",
    "            path = subdir + '/'+ file\n",
    "            print('\\n' + subdir)\n",
    "            indexref = pt.IndexRef.of(path)\n",
    "            index = pt.IndexFactory.of(indexref)\n",
    "#             bm25_rm3 = (pt.BatchRetrieve(indexref, wmodel=\"BM25\") >> \n",
    "#             pt.rewrite.RM3(indexref) >> \n",
    "#             pt.BatchRetrieve(indexref, wmodel=\"BM25\"))\n",
    "            bm25_for_qe = pt.BatchRetrieve(index, wmodel=\"BM25\")\n",
    "            rm3 = pt.rewrite.RM3(index, fb_terms=10, fb_docs=3)\n",
    "            pipe_qe = bm25_for_qe >> rm3 >> bm25_for_qe\n",
    "            \n",
    "            param_map = {\n",
    "                rm3 : {\n",
    "                    \"fb_terms\" : list(range(4, 16, 2)),\n",
    "                    \"fb_docs\" : list(range(4, 10, 2)),\n",
    "                    \"fb_lambda\": [0.2,0.4,0.6,0.8,1.0]\n",
    "                }\n",
    "            }\n",
    "            \n",
    "            pipe_qe, parameters = pt.KFoldGridSearch(\n",
    "                pipe_qe,\n",
    "                param_map,\n",
    "                [topics20, topics21],\n",
    "                [qrels20, qrels21],\n",
    "                objective\n",
    "            )\n",
    "            print(pt.Experiment([pipe_qe, bm25_for_qe], topics, qrels, \n",
    "                                names=['tuned_bm25_rm3','orignal_bm25_rm3'], save_mode = \"overwrite\", \n",
    "                                eval_metrics=[\"ndcg_cut_5\", \"ndcg_cut_25\", \"bpref\"],  save_dir = \"/workspace/src/runs_bm25_rm3\"))\n",
    "            \n",
    "            print(pt.Experiment([pipe_qe, bm25_for_qe], topics20, qrels, names=['20original_tuned_bm25_rm3', '20orignal_bm25_rm3'], \n",
    "                                eval_metrics=[\"ndcg_cut_5\", \"ndcg_cut_25\", \"bpref\"]))\n",
    "            \n",
    "            print(pt.Experiment([pipe_qe, bm25_for_qe], topics21, qrels, names=['21original_tuned_bm25_rm3', '21orignal_bm25_rm3'], \n",
    "                                eval_metrics=[\"ndcg_cut_5\", \"ndcg_cut_25\", \"bpref\"]))\n",
    "            pipe_qe.to_csv(path_or_buf=f\"/workspace/src/runs_bm25_rm3/original_tuned_bm25_rm3.csv\")\n",
    "            "
   ]
  },
  {
   "cell_type": "code",
   "execution_count": 18,
   "id": "7b627639",
   "metadata": {},
   "outputs": [
    {
     "name": "stdout",
     "output_type": "stream",
     "text": [
      "\n",
      "/mnt/ceph/storage/data-in-progress/data-teaching/theses/wstud-thesis-hollatz/DeepCT_indexes/conclusionspd_index\n",
      "Fold 1\n",
      "Best ndcg_cut_5 is 0.558365\n",
      "Best setting is ['<pyterrier.rewrite.RM3 object at 0x7f2319f27e10> fb_terms=6', '<pyterrier.rewrite.RM3 object at 0x7f2319f27e10> fb_docs=4', '<pyterrier.rewrite.RM3 object at 0x7f2319f27e10> fb_lambda=0.8']\n",
      "Fold 2\n",
      "Best ndcg_cut_5 is 0.339332\n",
      "Best setting is ['<pyterrier.rewrite.RM3 object at 0x7f2319f27e10> fb_terms=6', '<pyterrier.rewrite.RM3 object at 0x7f2319f27e10> fb_docs=8', '<pyterrier.rewrite.RM3 object at 0x7f2319f27e10> fb_lambda=0.8']\n"
     ]
    },
    {
     "ename": "NameError",
     "evalue": "name 'bm25_rm3' is not defined",
     "output_type": "error",
     "traceback": [
      "\u001b[0;31m---------------------------------------------------------------------------\u001b[0m",
      "\u001b[0;31mNameError\u001b[0m                                 Traceback (most recent call last)",
      "\u001b[0;32m<ipython-input-18-25463c44a0a8>\u001b[0m in \u001b[0;36m<module>\u001b[0;34m\u001b[0m\n\u001b[1;32m     30\u001b[0m                 \u001b[0mobjective\u001b[0m\u001b[0;34m\u001b[0m\u001b[0;34m\u001b[0m\u001b[0m\n\u001b[1;32m     31\u001b[0m             )\n\u001b[0;32m---> 32\u001b[0;31m             print(pt.Experiment([pipe_qe, bm25_rm3], topics, qrels, \n\u001b[0m\u001b[1;32m     33\u001b[0m                                 \u001b[0mnames\u001b[0m\u001b[0;34m=\u001b[0m\u001b[0;34m[\u001b[0m\u001b[0;34m'tuned_bm25_rm3'\u001b[0m\u001b[0;34m,\u001b[0m\u001b[0;34m'orignal_bm25_rm3'\u001b[0m\u001b[0;34m]\u001b[0m\u001b[0;34m,\u001b[0m \u001b[0msave_mode\u001b[0m \u001b[0;34m=\u001b[0m \u001b[0;34m\"overwrite\"\u001b[0m\u001b[0;34m,\u001b[0m\u001b[0;34m\u001b[0m\u001b[0;34m\u001b[0m\u001b[0m\n\u001b[1;32m     34\u001b[0m                                 eval_metrics=[\"ndcg_cut_5\", \"ndcg_cut_25\", \"bpref\"],  save_dir = \"/workspace/src/runs_bm25_rm3\"))\n",
      "\u001b[0;31mNameError\u001b[0m: name 'bm25_rm3' is not defined"
     ]
    }
   ],
   "source": [
    "import os\n",
    "rootdir = \"/mnt/ceph/storage/data-in-progress/data-teaching/theses/wstud-thesis-hollatz/DeepCT_indexes/\"\n",
    "folders = ['conclusions','pool_topics','topics','topics_conclusion','topics_conclusion_leakage','topics_leakage','pool_topics_conclusions','conclusions_leakage','pools_conclusions']\n",
    "metrics=\"ndcg_cut_5\"\n",
    "i = 0\n",
    "for subdir, dirs, files in os.walk(rootdir):\n",
    "    for file in files:\n",
    "        if(file == 'data.properties'):\n",
    "            path = subdir + '/'+ file\n",
    "            print('\\n' + subdir)\n",
    "            indexref = pt.IndexRef.of(path)\n",
    "            index = pt.IndexFactory.of(indexref)\n",
    "            bm25_for_qe = pt.BatchRetrieve(index, wmodel=\"BM25\")\n",
    "            rm3 = pt.rewrite.RM3(index, fb_terms=10, fb_docs=3)\n",
    "            pipe_qe = bm25_for_qe >> rm3 >> bm25_for_qe\n",
    "            \n",
    "            param_map = {\n",
    "                rm3 : {\n",
    "                    \"fb_terms\" : list(range(4, 16, 2)),\n",
    "                    \"fb_docs\" : list(range(4, 10, 2)),\n",
    "                    \"fb_lambda\": [0.2,0.4,0.6,0.8,1.0]\n",
    "                }\n",
    "            }\n",
    "            \n",
    "            pipe_qe, parameters = pt.KFoldGridSearch(\n",
    "                pipe_qe,\n",
    "                param_map,\n",
    "                [topics20, topics21],\n",
    "                [qrels20, qrels21],\n",
    "                objective\n",
    "            )\n",
    "            print(pt.Experiment([pipe_qe, bm25_rm3], topics, qrels, \n",
    "                                names=['tuned_bm25_rm3','orignal_bm25_rm3'], save_mode = \"overwrite\", \n",
    "                                eval_metrics=[\"ndcg_cut_5\", \"ndcg_cut_25\", \"bpref\"],  save_dir = \"/workspace/src/runs_bm25_rm3\"))\n",
    "            \n",
    "            print(pt.Experiment([pipe_qe, bm25_rm3], topics20, qrels, names=['20original_tuned_bm25_rm3', '20orignal_bm25_rm3'], \n",
    "                                eval_metrics=[\"ndcg_cut_5\", \"ndcg_cut_25\", \"bpref\"]))\n",
    "            \n",
    "            print(pt.Experiment([pipe_qe, bm25_rm3], topics21, qrels, names=['21original_tuned_bm25_rm3', '21orignal_bm25_rm3'], \n",
    "                                eval_metrics=[\"ndcg_cut_5\", \"ndcg_cut_25\", \"bpref\"]))\n",
    "            pipe_qe.to_csv(path_or_buf=f\"/workspace/src/runs_bm25_rm3/original_tuned_bm25_rm3.csv\")\n",
    "            i+=1"
   ]
  }
 ],
 "metadata": {
  "kernelspec": {
   "display_name": "Python 3",
   "language": "python",
   "name": "python3"
  },
  "language_info": {
   "codemirror_mode": {
    "name": "ipython",
    "version": 3
   },
   "file_extension": ".py",
   "mimetype": "text/x-python",
   "name": "python",
   "nbconvert_exporter": "python",
   "pygments_lexer": "ipython3",
   "version": "3.7.12"
  }
 },
 "nbformat": 4,
 "nbformat_minor": 5
}
