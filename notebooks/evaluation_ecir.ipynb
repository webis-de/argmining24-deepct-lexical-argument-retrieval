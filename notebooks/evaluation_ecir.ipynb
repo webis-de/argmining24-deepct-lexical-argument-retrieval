{
 "cells": [
  {
   "cell_type": "code",
   "execution_count": 115,
   "outputs": [],
   "source": [
    "from itertools import groupby\n",
    "from math import inf\n",
    "from pathlib import Path\n",
    "from typing import NamedTuple\n",
    "\n",
    "from ir_datasets import load\n",
    "from ir_measures import Measure, nDCG, Bpref, define_byquery, P\n",
    "from pandas import read_csv, DataFrame\n",
    "from tqdm.auto import tqdm"
   ],
   "metadata": {
    "collapsed": false,
    "ExecuteTime": {
     "end_time": "2023-10-17T15:59:06.689317832Z",
     "start_time": "2023-10-17T15:59:06.605294079Z"
    }
   },
   "id": "d177086cb593403a"
  },
  {
   "cell_type": "code",
   "execution_count": 23,
   "outputs": [],
   "source": [
    "runs_path = Path(\"../data/runs_saved\")"
   ],
   "metadata": {
    "collapsed": false,
    "ExecuteTime": {
     "end_time": "2023-10-17T10:47:58.095072848Z",
     "start_time": "2023-10-17T10:47:57.704072976Z"
    }
   },
   "id": "78fd5d43c8ade9ec"
  },
  {
   "cell_type": "code",
   "execution_count": 85,
   "id": "initial_id",
   "metadata": {
    "collapsed": true,
    "ExecuteTime": {
     "end_time": "2023-10-17T11:30:58.656724127Z",
     "start_time": "2023-10-17T11:30:58.549426104Z"
    }
   },
   "outputs": [],
   "source": [
    "class RunConf(NamedTuple):\n",
    "    year: int\n",
    "    model: str\n",
    "    transformation: str\n",
    "    path: Path\n",
    "\n",
    "\n",
    "run_confs = (\n",
    "    RunConf(2020, r\"BM25\", r\"With pools + T \\& C\", runs_path / \"topics_conclusion_tuned_bm25.csv\"),\n",
    "    RunConf(2020, r\"BM25 + RM3\", r\"With pools + T \\& C\", runs_path / \"topics_conclusion_tuned_bm_rm3.csv\"),\n",
    "    RunConf(2020, r\"DLM\", r\"With pools + T \\& C\", runs_path / \"topics_conclusion_tuned_dlm.csv\"),\n",
    "    RunConf(2020, r\"DLM + RM3\", r\"All doc.\\ + C\", runs_path / \"conclusions_leakage_tuned_dlm_rm3.csv\"),\n",
    "    RunConf(2021, r\"BM25\", r\"Without pools + T \\& C\", runs_path / \"pool_topics_conclusions_tuned_bm25.csv\"),\n",
    "    RunConf(2021, r\"BM25 + RM3\", r\"With pools + T \\& C\", runs_path / \"topics_conclusion_tuned_bm_rm3.csv\"),\n",
    "    RunConf(2021, r\"DLM\", r\"All doc. + T \\& C\", runs_path / \"topics_conclusion_leakage_tuned_dlm.csv\"),\n",
    "    RunConf(2021, r\"DLM + RM3\", r\"All doc.\\ + T \\& C\", runs_path / \"topics_conclusion_leakage_tuned_dlm_rm3.csv\"),\n",
    ")"
   ]
  },
  {
   "cell_type": "code",
   "execution_count": 129,
   "outputs": [],
   "source": [
    "def read_run(path: Path) -> DataFrame:\n",
    "    df = read_csv(path)\n",
    "    df[\"query_id\"] = df[\"qid\"].astype(str)\n",
    "    df[\"doc_id\"] = df[\"docno\"].astype(str)\n",
    "    df = df[df[\"query_id\"] != \"25\"]  # Unjudged topic from 2020.\n",
    "    return df"
   ],
   "metadata": {
    "collapsed": false,
    "ExecuteTime": {
     "end_time": "2023-10-17T19:55:55.631518301Z",
     "start_time": "2023-10-17T19:55:55.585836716Z"
    }
   },
   "id": "e506435fed99d1a5"
  },
  {
   "cell_type": "code",
   "execution_count": 130,
   "outputs": [],
   "source": [
    "runs = {\n",
    "    run_conf: read_run(run_conf.path)\n",
    "    for run_conf in run_confs\n",
    "}"
   ],
   "metadata": {
    "collapsed": false,
    "ExecuteTime": {
     "end_time": "2023-10-17T19:55:59.043813215Z",
     "start_time": "2023-10-17T19:55:55.626520487Z"
    }
   },
   "id": "d8a25556f9439320"
  },
  {
   "cell_type": "code",
   "execution_count": 131,
   "outputs": [],
   "source": [
    "datasets = {\n",
    "    2020: load(\"argsme/2020-04-01/touche-2020-task-1\"),\n",
    "    2021: load(\"argsme/2020-04-01/touche-2021-task-1\"),\n",
    "}"
   ],
   "metadata": {
    "collapsed": false,
    "ExecuteTime": {
     "end_time": "2023-10-17T19:55:59.064104312Z",
     "start_time": "2023-10-17T19:55:59.048996480Z"
    }
   },
   "id": "bb09c554d862935c"
  },
  {
   "cell_type": "code",
   "execution_count": 132,
   "outputs": [
    {
     "name": "stdout",
     "output_type": "stream",
     "text": [
      "/home/heinrich/.ir_datasets/touche/2020/task-1/qrels.qrels\n"
     ]
    }
   ],
   "source": [
    "qrels = {\n",
    "    year: dataset.qrels_dict()\n",
    "    for year, dataset in datasets.items()\n",
    "}"
   ],
   "metadata": {
    "collapsed": false,
    "ExecuteTime": {
     "end_time": "2023-10-17T19:55:59.122363366Z",
     "start_time": "2023-10-17T19:55:59.061974306Z"
    }
   },
   "id": "213478bcb4d5d6f2"
  },
  {
   "cell_type": "code",
   "execution_count": 133,
   "outputs": [],
   "source": [
    "class MeasureConf(NamedTuple):\n",
    "    unjudged_removed: bool\n",
    "    name: str\n",
    "    measure: Measure\n",
    "    maximize: bool\n",
    "\n",
    "\n",
    "def _hole_impl(qrels: DataFrame, run: DataFrame):\n",
    "    query_document_ids = set((qrels[\"query_id\"] + qrels[\"doc_id\"]).unique())\n",
    "    return len(run[~(run[\"query_id\"] + run[\"doc_id\"]).isin(query_document_ids)]) / len(run)\n",
    "\n",
    "\n",
    "Hole = define_byquery(impl=_hole_impl, name=\"Hole\", support_cutoff=True)\n",
    "\n",
    "measure_confs = (\n",
    "    MeasureConf(False, \"nDCG@5\", nDCG @ 5, True),\n",
    "    MeasureConf(False, \"P@3\", P @ 3, True),\n",
    "    MeasureConf(False, \"P@5\", P @ 5, True),\n",
    "    MeasureConf(False, \"Hole@5\", Hole @ 5, False),\n",
    "    MeasureConf(True, \"nDCG@5\", nDCG(judged_only=True) @ 5, True),\n",
    "    MeasureConf(True, \"P@3\", P(judged_only=True) @ 3, True),\n",
    "    MeasureConf(True, \"P@5\", P(judged_only=True) @ 5, True),\n",
    "    MeasureConf(True, \"Bpref\", Bpref, True),\n",
    ")"
   ],
   "metadata": {
    "collapsed": false,
    "ExecuteTime": {
     "end_time": "2023-10-17T19:55:59.212495206Z",
     "start_time": "2023-10-17T19:55:59.166619378Z"
    }
   },
   "id": "e2041a278568b76"
  },
  {
   "cell_type": "code",
   "execution_count": 135,
   "outputs": [
    {
     "name": "stdout",
     "output_type": "stream",
     "text": [
      "  &  & nDCG@5 & P@3 & P@5 & Bpref & nDCG@5 & P@3 & P@5 & Hole@5 \\\\\n",
      "  \\midrule\n",
      "  \\multicolumn{5}{c}{2020} \\\\\n",
      "  \\midrule\n",
      "  BM25 & With pools + T \\& C & 0.84 & 0.92 & 0.89 & 0.71 & 0.42 & 0.47 & 0.43 & 0.77 \\\\\n",
      "  BM25 + RM3 & With pools + T \\& C & 0.87 & 0.95 & 0.93 & 0.77 & 0.40 & 0.43 & 0.40 & 0.77 \\\\\n",
      "  DLM & With pools + T \\& C & 0.82 & 0.90 & 0.87 & 0.68 & 0.45 & 0.51 & 0.44 & 0.77 \\\\\n",
      "  DLM + RM3 & All doc.\\ + C & 0.88 & 0.95 & 0.94 & 0.71 & 0.42 & 0.49 & 0.42 & 0.78 \\\\\n",
      "  \\midrule\n",
      "  \\multicolumn{5}{c}{2021} \\\\\n",
      "  \\midrule\n",
      "  BM25 & Without pools + T \\& C & 0.74 & 0.83 & 0.83 & 0.74 & 0.61 & 0.71 & 0.64 & 0.60 \\\\\n",
      "  BM25 + RM3 & With pools + T \\& C & 0.74 & 0.82 & 0.84 & 0.74 & 0.53 & 0.62 & 0.58 & 0.64 \\\\\n",
      "  DLM & All doc. + T \\& C & 0.74 & 0.85 & 0.83 & 0.72 & 0.61 & 0.69 & 0.68 & 0.60 \\\\\n",
      "  DLM + RM3 & All doc.\\ + T \\& C & 0.70 & 0.82 & 0.80 & 0.73 & 0.51 & 0.62 & 0.59 & 0.64 \\\\\n"
     ]
    }
   ],
   "source": [
    "print(r\"  & \", end=\"\")\n",
    "for should_unjudged_removed in (True, False):\n",
    "    for measure_conf in measure_confs:\n",
    "        if measure_conf.unjudged_removed != should_unjudged_removed:\n",
    "            continue\n",
    "        print(r\" & \" + measure_conf.name, end=\"\")\n",
    "print(r\" \\\\\")\n",
    "for year, run_conf_group in groupby(run_confs, lambda run_conf: run_conf.year):\n",
    "    print(r\"  \\midrule\")\n",
    "    print(r\"  \\multicolumn{5}{c}{\" + f\"{year}\" + r\"} \\\\\")\n",
    "    print(r\"  \\midrule\")\n",
    "    qrel = qrels[year]\n",
    "    query_document_ids = {\n",
    "        f\"{query_id}{doc_id}\"\n",
    "        for query_id, doc_rel in qrel.items()\n",
    "        for doc_id, _ in doc_rel.items()\n",
    "    }\n",
    "    for run_conf in run_conf_group:\n",
    "        cols = [\n",
    "            run_conf.model,\n",
    "            run_conf.transformation,\n",
    "        ]\n",
    "        run = runs[run_conf]\n",
    "        for should_unjudged_removed in (True, False):\n",
    "            for measure_conf in measure_confs:\n",
    "                if measure_conf.unjudged_removed != should_unjudged_removed:\n",
    "                    continue\n",
    "                aggregated = measure_conf.measure.calc_aggregate(qrel, run)\n",
    "                cols += [f\"{aggregated:.2f}\"]\n",
    "        print(r\"  \" + r\" & \".join(cols) + r\" \\\\\")"
   ],
   "metadata": {
    "collapsed": false,
    "ExecuteTime": {
     "end_time": "2023-10-17T19:59:25.368750501Z",
     "start_time": "2023-10-17T19:58:50.365790391Z"
    }
   },
   "id": "89be739946d4b901"
  },
  {
   "cell_type": "code",
   "execution_count": 121,
   "outputs": [],
   "source": [
    "touche_runs_paths = (\n",
    "    (2020, Path(\"../data/touche2020-task1-runs-args-me-corpus-version-2020-04-01\")),\n",
    "    (2021, Path(\"../data/touche2021-task1-runs\")),\n",
    ")"
   ],
   "metadata": {
    "collapsed": false,
    "ExecuteTime": {
     "end_time": "2023-10-17T16:08:45.264598449Z",
     "start_time": "2023-10-17T16:08:45.024052442Z"
    }
   },
   "id": "4363078f52400d0d"
  },
  {
   "cell_type": "code",
   "execution_count": 127,
   "outputs": [],
   "source": [
    "def read_touche_run(path: Path) -> DataFrame:\n",
    "    df = read_csv(path, sep=\" \", header=None, names=[\"qid\", \"Q0\", \"docno\", \"rank\", \"score\", \"run_id\"])\n",
    "    df[\"query_id\"] = df[\"qid\"].astype(str)\n",
    "    df[\"doc_id\"] = df[\"docno\"].astype(str)\n",
    "    df = df[df[\"query_id\"] != \"25\"]  # Unjudged topic from 2020.\n",
    "    return df"
   ],
   "metadata": {
    "collapsed": false,
    "ExecuteTime": {
     "end_time": "2023-10-17T19:53:56.202517969Z",
     "start_time": "2023-10-17T19:53:56.160920310Z"
    }
   },
   "id": "50a9de60f9292db2"
  },
  {
   "cell_type": "code",
   "execution_count": 138,
   "outputs": [
    {
     "name": "stdout",
     "output_type": "stream",
     "text": [
      "2020\n"
     ]
    },
    {
     "data": {
      "text/plain": "  0%|          | 0/12 [00:00<?, ?it/s]",
      "application/vnd.jupyter.widget-view+json": {
       "version_major": 2,
       "version_minor": 0,
       "model_id": "7759a333dcc44beb9c3f6e148f9ba4a5"
      }
     },
     "metadata": {},
     "output_type": "display_data"
    },
    {
     "name": "stdout",
     "output_type": "stream",
     "text": [
      "0.83 Swordsmandirichlet_new_dataset MeasureConf(unjudged_removed=False, name='nDCG@5', measure=nDCG@5, maximize=True)\n",
      "0.88 Swordsmandirichlet_new_dataset MeasureConf(unjudged_removed=False, name='P@3', measure=P@3, maximize=True)\n",
      "0.88 Swordsmandirichlet_new_dataset MeasureConf(unjudged_removed=False, name='P@5', measure=P@5, maximize=True)\n",
      "0.0 AragornAragorncedr_knrm MeasureConf(unjudged_removed=False, name='Hole@5', measure=Hole@5, maximize=False)\n",
      "0.83 Swordsmandirichlet_new_dataset MeasureConf(unjudged_removed=True, name='nDCG@5', measure=nDCG(judged_only=True)@5, maximize=True)\n",
      "0.88 Swordsmandirichlet_new_dataset MeasureConf(unjudged_removed=True, name='P@3', measure=P(judged_only=True)@3, maximize=True)\n",
      "0.89 Swordsmandirichlet_new_dataset MeasureConf(unjudged_removed=True, name='P@5', measure=P(judged_only=True)@5, maximize=True)\n",
      "0.7 Swordsmandirichlet_new_dataset MeasureConf(unjudged_removed=True, name='Bpref', measure=Bpref, maximize=True)\n",
      "2021\n"
     ]
    },
    {
     "data": {
      "text/plain": "  0%|          | 0/71 [00:00<?, ?it/s]",
      "application/vnd.jupyter.widget-view+json": {
       "version_major": 2,
       "version_minor": 0,
       "model_id": "2890e5c119c9434fbc0aef52eedb96e9"
      }
     },
     "metadata": {},
     "output_type": "display_data"
    },
    {
     "name": "stdout",
     "output_type": "stream",
     "text": [
      "0.72 ElrondElrondKRun MeasureConf(unjudged_removed=False, name='nDCG@5', measure=nDCG@5, maximize=True)\n",
      "0.83 Pippin-Tookseupd2021-rck-stop-kstem-doShingle-false-shingle-size-0-Dirichlet-mu-2000.0-topics-2021 MeasureConf(unjudged_removed=False, name='P@3', measure=P@3, maximize=True)\n",
      "0.8 Pippin-Tookseupd2021-rck-stop-kstem-doShingle-false-shingle-size-0-Dirichlet-mu-2000.0-topics-2021 MeasureConf(unjudged_removed=False, name='P@5', measure=P@5, maximize=True)\n",
      "0.0 Heimdallargrank_r1_c10.0_q5.0 MeasureConf(unjudged_removed=False, name='Hole@5', measure=Hole@5, maximize=False)\n",
      "0.74 ElrondElrondSimpleRun MeasureConf(unjudged_removed=True, name='nDCG@5', measure=nDCG(judged_only=True)@5, maximize=True)\n",
      "0.86 Robin-Hoodrobinhood_use MeasureConf(unjudged_removed=True, name='P@3', measure=P(judged_only=True)@3, maximize=True)\n",
      "0.83 Dread-Pirate-Robertsdreadpirateroberts_universal-sentence-encoder-qa MeasureConf(unjudged_removed=True, name='P@5', measure=P(judged_only=True)@5, maximize=True)\n",
      "0.73 Pippin-Tookseupd2021-rck-stop-kstem-doShingle-false-shingle-size-0-Dirichlet-mu-1500.0-topics-2021 MeasureConf(unjudged_removed=True, name='Bpref', measure=Bpref, maximize=True)\n"
     ]
    }
   ],
   "source": [
    "for year, runs_path in touche_runs_paths:\n",
    "    print(year)\n",
    "    qrel = qrels[year]\n",
    "    best_metrics = {\n",
    "        measure_conf: -inf if measure_conf.maximize else inf\n",
    "        for measure_conf in measure_confs\n",
    "    }\n",
    "    best_metric_system = {    }\n",
    "    run_paths = list(runs_path.rglob(\"run*.txt\"))\n",
    "    for run_path in tqdm(run_paths):\n",
    "        run = read_touche_run(run_path)\n",
    "        for measure_conf in measure_confs:\n",
    "            aggregated = measure_conf.measure.calc_aggregate(qrel, run)\n",
    "            if measure_conf.maximize and  aggregated > best_metrics[measure_conf]:\n",
    "                best_metrics[measure_conf] = aggregated\n",
    "                best_metric_system[measure_conf] = run_path.parent.name + run[\"run_id\"].iloc[0]\n",
    "            elif not measure_conf.maximize and aggregated < best_metrics[measure_conf]:\n",
    "                best_metrics[measure_conf] = aggregated\n",
    "                best_metric_system[measure_conf] = run_path.parent.name + run[\"run_id\"].iloc[0]\n",
    "\n",
    "    for measure_conf, metric in best_metrics.items():\n",
    "        print(round(metric, 2), best_metric_system[measure_conf], measure_conf)"
   ],
   "metadata": {
    "collapsed": false,
    "ExecuteTime": {
     "end_time": "2023-10-17T20:28:18.700222823Z",
     "start_time": "2023-10-17T20:26:04.779939128Z"
    }
   },
   "id": "b519bac7805f47f2"
  },
  {
   "cell_type": "code",
   "execution_count": 5,
   "outputs": [
    {
     "name": "stdout",
     "output_type": "stream",
     "text": [
      "112\n",
      "41\n",
      "140\n",
      "15680\n",
      "5740\n",
      "0.9910714285714286\n"
     ]
    }
   ],
   "source": [
    "from numpy import arange\n",
    "\n",
    "params_bm25 = (\n",
    "        len(arange(0.15,0.75+0.001,0.2))\n",
    "        *len(arange(0.6,4.4+0.01,0.6))\n",
    "        *len([2,5,8,10])\n",
    ")\n",
    "print(params_bm25)\n",
    "params_dlm = (\n",
    "        len(arange(0,10000+1,250))\n",
    ")\n",
    "print(params_dlm)\n",
    "params_rm3 = (\n",
    "        len(arange(4,16+1,2))\n",
    "        *len(arange(4,10+1,2))\n",
    "        *len(arange(0.2,1+0.1,0.2))\n",
    ")\n",
    "print(params_rm3)\n",
    "print(params_bm25 * params_rm3)\n",
    "print(params_dlm * params_rm3)\n",
    "print(1-1/params_bm25)"
   ],
   "metadata": {
    "collapsed": false,
    "ExecuteTime": {
     "end_time": "2023-10-18T19:06:47.742432649Z",
     "start_time": "2023-10-18T19:06:47.623520107Z"
    }
   },
   "id": "517617036d733e99"
  },
  {
   "cell_type": "code",
   "execution_count": null,
   "outputs": [],
   "source": [],
   "metadata": {
    "collapsed": false
   },
   "id": "3c08506c536ab5c3"
  }
 ],
 "metadata": {
  "kernelspec": {
   "display_name": "Python 3",
   "language": "python",
   "name": "python3"
  },
  "language_info": {
   "codemirror_mode": {
    "name": "ipython",
    "version": 2
   },
   "file_extension": ".py",
   "mimetype": "text/x-python",
   "name": "python",
   "nbconvert_exporter": "python",
   "pygments_lexer": "ipython2",
   "version": "2.7.6"
  }
 },
 "nbformat": 4,
 "nbformat_minor": 5
}
