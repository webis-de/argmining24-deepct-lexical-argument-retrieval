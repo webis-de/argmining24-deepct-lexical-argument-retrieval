{
 "cells": [
  {
   "cell_type": "code",
   "execution_count": 1,
   "id": "04aacdb7",
   "metadata": {},
   "outputs": [
    {
     "name": "stderr",
     "output_type": "stream",
     "text": [
      "PyTerrier 0.8.0 has loaded Terrier 5.6 (built by craigmacdonald on 2021-09-17 13:27)\n",
      "\n"
     ]
    }
   ],
   "source": [
    "import pandas as pd\n",
    "import numpy as np\n",
    "import pyterrier_deepct\n",
    "import pyterrier as pt\n",
    "if not pt.started():\n",
    "  pt.init(boot_packages=[\"com.github.terrierteam:terrier-prf:-SNAPSHOT\"])"
   ]
  },
  {
   "cell_type": "code",
   "execution_count": 2,
   "id": "00e34437",
   "metadata": {},
   "outputs": [],
   "source": [
    "from xml.etree import ElementTree\n",
    "tree = ElementTree.parse('/workspace/src/evaluate_targers/topics2020.xml')\n",
    "data = tree.getroot()\n",
    "titles = []\n",
    "title_ids = []\n",
    "nums = []\n",
    "for topic in data:\n",
    "    titles.append(topic.find('title').text.lower()[:-1])\n",
    "    num = topic.find('number').text\n",
    "    nums.append(num)\n",
    "tree = ElementTree.parse('/workspace/src/evaluate_targers/topics.xml')\n",
    "data = tree.getroot()    \n",
    "for topic in data:\n",
    "    titles.append(topic.find('title').text.lower()[:-1])\n",
    "    num = topic.find('number').text\n",
    "    nums.append(num)\n",
    "topics = pd.DataFrame()\n",
    "topics['qid'] = nums\n",
    "topics['query'] = titles\n",
    "\n",
    "qrels_path=(\"/workspace/src/evaluate_targers/qrels.qrels\")\n",
    "qrels = pt.io.read_qrels(qrels_path)\n",
    "\n",
    "docnos = qrels.docno"
   ]
  },
  {
   "cell_type": "code",
   "execution_count": null,
   "id": "19e0064f",
   "metadata": {},
   "outputs": [
    {
     "name": "stdout",
     "output_type": "stream",
     "text": [
      "\n",
      "/mnt/ceph/storage/data-in-progress/data-teaching/theses/wstud-thesis-hollatz/DeepCT_indexes/conclusionspd_index\n",
      "model : BR(TF_IDF), res: {'ndcg_cut_5': 0.6283797590144036, 'bpref': 0.7247708473797921, 'ndcg_cut_25': 0.6753707122077693}\n",
      "model : Compose(Compose(BR(BM25), <pyterrier.rewrite.RM3 object at 0x7fe14d477610>), BR(BM25)), res: {'ndcg_cut_5': 0.6704911407713139, 'bpref': 0.7493722124385017, 'ndcg_cut_25': 0.7055810321214193}\n",
      "model : BR(BM25), res: {'ndcg_cut_5': 0.629094689978407, 'bpref': 0.7250523093453518, 'ndcg_cut_25': 0.6765302738349726}\n",
      "model : BR(DirichletLM), res: {'ndcg_cut_5': 0.7111994374419488, 'bpref': 0.7264330830118617, 'ndcg_cut_25': 0.7229021475536862}\n",
      "model : Compose(Compose(BR(DirichletLM), <pyterrier.rewrite.RM3 object at 0x7fe14ec2ce10>), BR(DirichletLM)), res: {'ndcg_cut_5': 0.7016733022048054, 'bpref': 0.702216595811059, 'ndcg_cut_25': 0.6842281926611758}\n",
      "\n",
      "/mnt/ceph/storage/data-in-progress/data-teaching/theses/wstud-thesis-hollatz/DeepCT_indexes/pool_topicspd_index\n",
      "model : BR(TF_IDF), res: {'ndcg_cut_5': 0.642341683143697, 'bpref': 0.7204280566738166, 'ndcg_cut_25': 0.6857458417060763}\n",
      "model : Compose(Compose(BR(BM25), <pyterrier.rewrite.RM3 object at 0x7fe14e41d7d0>), BR(BM25)), res: {'ndcg_cut_5': 0.6858085904068897, 'bpref': 0.7524243750930804, 'ndcg_cut_25': 0.7155137400853717}\n",
      "model : BR(BM25), res: {'ndcg_cut_5': 0.6393443031490417, 'bpref': 0.7190479895900244, 'ndcg_cut_25': 0.6821182756312493}\n",
      "model : BR(DirichletLM), res: {'ndcg_cut_5': 0.7063696387713557, 'bpref': 0.7181172056274511, 'ndcg_cut_25': 0.7200118026790665}\n",
      "model : Compose(Compose(BR(DirichletLM), <pyterrier.rewrite.RM3 object at 0x7fe1d8060c10>), BR(DirichletLM)), res: {'ndcg_cut_5': 0.6711489415216131, 'bpref': 0.7001859279145797, 'ndcg_cut_25': 0.675224747160787}\n",
      "\n",
      "/mnt/ceph/storage/data-in-progress/data-teaching/theses/wstud-thesis-hollatz/DeepCT_indexes/topicspd_index\n",
      "model : BR(TF_IDF), res: {'ndcg_cut_5': 0.6409956931566105, 'bpref': 0.7158968690415939, 'ndcg_cut_25': 0.6834214040150587}\n",
      "model : Compose(Compose(BR(BM25), <pyterrier.rewrite.RM3 object at 0x7fe14f001d90>), BR(BM25)), res: {'ndcg_cut_5': 0.6872701510108606, 'bpref': 0.7441159089391892, 'ndcg_cut_25': 0.713118206707489}\n",
      "model : BR(BM25), res: {'ndcg_cut_5': 0.6400701100321647, 'bpref': 0.7161733032069233, 'ndcg_cut_25': 0.6837273619734789}\n",
      "model : BR(DirichletLM), res: {'ndcg_cut_5': 0.7120821460794182, 'bpref': 0.7174126728235154, 'ndcg_cut_25': 0.7198017558071734}\n",
      "model : Compose(Compose(BR(DirichletLM), <pyterrier.rewrite.RM3 object at 0x7fe14c0d4f90>), BR(DirichletLM)), res: {'ndcg_cut_5': 0.6625066807540021, 'bpref': 0.6944203800997444, 'ndcg_cut_25': 0.6762363877742604}\n",
      "\n",
      "/mnt/ceph/storage/data-in-progress/data-teaching/theses/wstud-thesis-hollatz/DeepCT_indexes/topics_conclusionpd_index\n",
      "model : BR(TF_IDF), res: {'ndcg_cut_5': 0.6400720886643866, 'bpref': 0.7242943268980462, 'ndcg_cut_25': 0.681433282113226}\n",
      "model : Compose(Compose(BR(BM25), <pyterrier.rewrite.RM3 object at 0x7fe14c0d7450>), BR(BM25)), res: {'ndcg_cut_5': 0.6953813883122281, 'bpref': 0.7457805412921279, 'ndcg_cut_25': 0.7174066506436556}\n",
      "model : BR(BM25), res: {'ndcg_cut_5': 0.641619256967451, 'bpref': 0.7245149879304652, 'ndcg_cut_25': 0.6809854511173838}\n",
      "model : BR(DirichletLM), res: {'ndcg_cut_5': 0.7281212264052805, 'bpref': 0.7216817459984961, 'ndcg_cut_25': 0.7331215339001784}\n",
      "model : Compose(Compose(BR(DirichletLM), <pyterrier.rewrite.RM3 object at 0x7fe14e953fd0>), BR(DirichletLM)), res: {'ndcg_cut_5': 0.6882742491343911, 'bpref': 0.6965860015561904, 'ndcg_cut_25': 0.6868997006083454}\n",
      "\n",
      "/mnt/ceph/storage/data-in-progress/data-teaching/theses/wstud-thesis-hollatz/DeepCT_indexes/topics_conclusions_leakage/pd_index\n",
      "model : BR(TF_IDF), res: {'ndcg_cut_5': 0.6461647685042127, 'bpref': 0.7222308581063366, 'ndcg_cut_25': 0.6896237863882954}\n",
      "model : Compose(Compose(BR(BM25), <pyterrier.rewrite.RM3 object at 0x7fe14ec47150>), BR(BM25)), res: {'ndcg_cut_5': 0.6921326040150655, 'bpref': 0.7439441864390762, 'ndcg_cut_25': 0.7143941893826762}\n",
      "model : BR(BM25), res: {'ndcg_cut_5': 0.6477192113648966, 'bpref': 0.7222752819843672, 'ndcg_cut_25': 0.6881784573431523}\n",
      "model : BR(DirichletLM), res: {'ndcg_cut_5': 0.7296209217234144, 'bpref': 0.7235667530221975, 'ndcg_cut_25': 0.7341943692236991}\n",
      "model : Compose(Compose(BR(DirichletLM), <pyterrier.rewrite.RM3 object at 0x7fe19a0441d0>), BR(DirichletLM)), res: {'ndcg_cut_5': 0.665946354295464, 'bpref': 0.7009623404697739, 'ndcg_cut_25': 0.6870805448754359}\n",
      "\n",
      "/mnt/ceph/storage/data-in-progress/data-teaching/theses/wstud-thesis-hollatz/DeepCT_indexes/topics_leakage/pd_index\n",
      "model : BR(TF_IDF), res: {'ndcg_cut_5': 0.6465386502974776, 'bpref': 0.7259658278924052, 'ndcg_cut_25': 0.6908980526943503}\n",
      "model : Compose(Compose(BR(BM25), <pyterrier.rewrite.RM3 object at 0x7fe14e432550>), BR(BM25)), res: {'ndcg_cut_5': 0.6915248444030242, 'bpref': 0.7482933395069611, 'ndcg_cut_25': 0.7219873619090654}\n",
      "model : BR(BM25), res: {'ndcg_cut_5': 0.6486557744049192, 'bpref': 0.7260375106659882, 'ndcg_cut_25': 0.691438832226641}\n",
      "model : BR(DirichletLM), res: {'ndcg_cut_5': 0.7179362344375068, 'bpref': 0.7267506669643486, 'ndcg_cut_25': 0.72782765355362}\n"
     ]
    }
   ],
   "source": [
    "import os\n",
    "rootdir = \"/mnt/ceph/storage/data-in-progress/data-teaching/theses/wstud-thesis-hollatz/DeepCT_indexes/\"\n",
    "\n",
    "for subdir, dirs, files in os.walk(rootdir):\n",
    "    for file in files:\n",
    "        if(file == 'data.properties'):\n",
    "            print('\\n' + subdir)\n",
    "            path = subdir + '/'+ file\n",
    "            indexref = pt.IndexRef.of(path)\n",
    "            index = pt.IndexFactory.of(indexref)\n",
    "            bm25_rm3 = (pt.BatchRetrieve(indexref, wmodel=\"BM25\") >> \n",
    "            pt.rewrite.RM3(indexref) >> \n",
    "            pt.BatchRetrieve(indexref, wmodel=\"BM25\"))\n",
    "            tf_idf = pt.BatchRetrieve(index, wmodel=\"TF_IDF\")\n",
    "            bm25 = pt.BatchRetrieve(index, wmodel=\"BM25\")\n",
    "            dlm = pt.BatchRetrieve(index, wmodel=\"DirichletLM\")\n",
    "            dlm_rm3 = (pt.BatchRetrieve(indexref, wmodel=\"DirichletLM\") >> \n",
    "            pt.rewrite.RM3(indexref) >> \n",
    "            pt.BatchRetrieve(indexref, wmodel=\"DirichletLM\"))\n",
    "            models = [tf_idf, bm25_rm3, bm25, dlm, dlm_rm3]\n",
    "        \n",
    "            for model in models:\n",
    "                res= model.transform(topics)\n",
    "                res_copy = res[res['docno'].isin(docnos)].copy()\n",
    "                print(f'model : {model}, res: {pt.Utils.evaluate(res_copy,qrels,metrics=[\"ndcg_cut_5\", \"bpref\", \"ndcg_cut_25\"])}')\n",
    "            "
   ]
  }
 ],
 "metadata": {
  "kernelspec": {
   "display_name": "Python 3",
   "language": "python",
   "name": "python3"
  },
  "language_info": {
   "codemirror_mode": {
    "name": "ipython",
    "version": 3
   },
   "file_extension": ".py",
   "mimetype": "text/x-python",
   "name": "python",
   "nbconvert_exporter": "python",
   "pygments_lexer": "ipython3",
   "version": "3.7.12"
  }
 },
 "nbformat": 4,
 "nbformat_minor": 5
}
