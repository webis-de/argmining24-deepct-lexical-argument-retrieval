{
 "cells": [
  {
   "cell_type": "code",
   "execution_count": 3,
   "id": "1b662951",
   "metadata": {},
   "outputs": [],
   "source": [
    "import importlib\n",
    "import sys\n",
    "import numpy as np\n",
    "# the mock-0.3.1 dir contains testcase.py, testutils.py & mock.py\n",
    "sys.path.append('/workspace/src/')\n",
    "sys.path.append('/workspace/src/deepct')"
   ]
  },
  {
   "cell_type": "code",
   "execution_count": 2,
   "id": "2a6ffa2b",
   "metadata": {},
   "outputs": [
    {
     "name": "stdout",
     "output_type": "stream",
     "text": [
      "Requirement already satisfied: nltk in /opt/conda/lib/python3.9/site-packages (3.6.5)\n",
      "Requirement already satisfied: regex>=2021.8.3 in /opt/conda/lib/python3.9/site-packages (from nltk) (2021.11.10)\n",
      "Requirement already satisfied: tqdm in /opt/conda/lib/python3.9/site-packages (from nltk) (4.62.3)\n",
      "Requirement already satisfied: joblib in /opt/conda/lib/python3.9/site-packages (from nltk) (1.1.0)\n",
      "Requirement already satisfied: click in /opt/conda/lib/python3.9/site-packages (from nltk) (8.0.3)\n",
      "\u001b[33mWARNING: Running pip as the 'root' user can result in broken permissions and conflicting behaviour with the system package manager. It is recommended to use a virtual environment instead: https://pip.pypa.io/warnings/venv\u001b[0m\n",
      "['i', 'me', 'my', 'myself', 'we', 'our', 'ours', 'ourselves', 'you', \"you're\", \"you've\", \"you'll\", \"you'd\", 'your', 'yours', 'yourself', 'yourselves', 'he', 'him', 'his', 'himself', 'she', \"she's\", 'her', 'hers', 'herself', 'it', \"it's\", 'its', 'itself', 'they', 'them', 'their', 'theirs', 'themselves', 'what', 'which', 'who', 'whom', 'this', 'that', \"that'll\", 'these', 'those', 'am', 'is', 'are', 'was', 'were', 'be', 'been', 'being', 'have', 'has', 'had', 'having', 'do', 'does', 'did', 'doing', 'a', 'an', 'the', 'and', 'but', 'if', 'or', 'because', 'as', 'until', 'while', 'of', 'at', 'by', 'for', 'with', 'about', 'against', 'between', 'into', 'through', 'during', 'before', 'after', 'above', 'below', 'to', 'from', 'up', 'down', 'in', 'out', 'on', 'off', 'over', 'under', 'again', 'further', 'then', 'once', 'here', 'there', 'when', 'where', 'why', 'how', 'all', 'any', 'both', 'each', 'few', 'more', 'most', 'other', 'some', 'such', 'no', 'nor', 'not', 'only', 'own', 'same', 'so', 'than', 'too', 'very', 's', 't', 'can', 'will', 'just', 'don', \"don't\", 'should', \"should've\", 'now', 'd', 'll', 'm', 'o', 're', 've', 'y', 'ain', 'aren', \"aren't\", 'couldn', \"couldn't\", 'didn', \"didn't\", 'doesn', \"doesn't\", 'hadn', \"hadn't\", 'hasn', \"hasn't\", 'haven', \"haven't\", 'isn', \"isn't\", 'ma', 'mightn', \"mightn't\", 'mustn', \"mustn't\", 'needn', \"needn't\", 'shan', \"shan't\", 'shouldn', \"shouldn't\", 'wasn', \"wasn't\", 'weren', \"weren't\", 'won', \"won't\", 'wouldn', \"wouldn't\"]\n",
      "/bin/bash: nosetests: command not found\n"
     ]
    },
    {
     "name": "stderr",
     "output_type": "stream",
     "text": [
      "[nltk_data] Downloading package stopwords to /mnt/ceph/storage/data-\n",
      "[nltk_data]     tmp/2021//angwr/nltk_data...\n",
      "[nltk_data]   Package stopwords is already up-to-date!\n",
      "[nltk_data] Downloading package punkt to /mnt/ceph/storage/data-\n",
      "[nltk_data]     tmp/2021//angwr/nltk_data...\n",
      "[nltk_data]   Package punkt is already up-to-date!\n"
     ]
    }
   ],
   "source": [
    "!pip install nltk\n",
    "import ir_datasets\n",
    "dataset = ir_datasets.load('argsme/2020-04-01')\n",
    "\n",
    "import nltk\n",
    "nltk.download('stopwords')\n",
    "nltk.download('punkt')\n",
    "from tqdm import tqdm\n",
    "import json\n",
    "calculate_doc_term_recall = importlib.import_module('deepct.train-deep-ct').calculate_doc_term_recall\n",
    "calculate_qtokens = importlib.import_module('deepct.train-deep-ct').calculate_qtokens\n",
    "text_clean = importlib.import_module('deepct.train-deep-ct').text_clean\n",
    "\n",
    "!nosetests\n",
    "from deepct.util import clean_qtokens\n",
    "\n",
    "from nltk.stem.porter import PorterStemmer\n",
    "stemmer = PorterStemmer()\n",
    "\n",
    "def calculate_qtokens2(query):\n",
    "    ret = set()\n",
    "    qtext = text_clean(query, True, True)\n",
    "    tokens = set(qtext.split(' '))\n",
    "    for t in tokens:\n",
    "        ret.add(t)\n",
    "\n",
    "    return ret\n",
    "\n",
    "def calculate_doc_term_recall2(lines, tokens):\n",
    "    i=1\n",
    "#     args = recommended_args()\n",
    "    for json_dict in lines:\n",
    "        json_dict[\"term_recall\"] = {}\n",
    "\n",
    "        doc_text = json_dict['doc']['title']\n",
    "        doc_text = text_clean(doc_text, False, True)# doc_text = text_clean(doc_text, False, args.stop)\n",
    "        doc_tokens = set(doc_text.split(' '))\n",
    "        doc_term_recall = {}\n",
    "        for ttoken in doc_tokens:\n",
    "            ttoken2 = ttoken\n",
    "            if True: ttoken2 = stemmer.stem(ttoken) # if args.stem: ttoken2 = stemmer.stem(ttoken)\n",
    "            if ttoken2 in tokens:\n",
    "                doc_term_recall[ttoken] = 1.0\n",
    "        json_dict[\"term_recall\"] = doc_term_recall\n",
    "        json_dict[\"doc\"][\"position\"] = 1\n",
    "        json_dict[\"doc\"][\"id\"] = i\n",
    "        i=i+1\n",
    "\n",
    "        yield json_dict"
   ]
  },
  {
   "cell_type": "code",
   "execution_count": 5,
   "id": "28e79355",
   "metadata": {},
   "outputs": [
    {
     "name": "stderr",
     "output_type": "stream",
     "text": [
      "100%|█████████████████████████████████████████████████████████████████████████| 387740/387740 [01:25<00:00, 4549.54it/s]\n"
     ]
    }
   ],
   "source": [
    "path = '/mnt/ceph/storage/data-in-progress/data-teaching/theses/wstud-thesis-hollatz/'\n",
    "dirname = 'DeepCT_data/'\n",
    "conclusion_tokens = {}\n",
    "labeled_arguments_ids = np.load('labeled_arguments.npy')\n",
    "for doc in tqdm(dataset.docs_iter(), total=387740):\n",
    "    if doc.doc_id not in labeled_arguments_ids:\n",
    "        conclusion_tokens[doc.doc_id] = list(calculate_qtokens2(doc.conclusion))\n",
    "\n",
    "# #replacement to 'cc-2019-47-deepct-qtokens.json'\n",
    "json.dump(conclusion_tokens, open(path + 'argsme2020-04-01-conclusions-tokens.json', 'w')) "
   ]
  },
  {
   "cell_type": "code",
   "execution_count": 9,
   "id": "c2765643",
   "metadata": {},
   "outputs": [
    {
     "name": "stderr",
     "output_type": "stream",
     "text": [
      " 99%|█████████████████████████████████████████████████████████████████████████▎| 384334/387740 [18:03<00:09, 354.73it/s]\n"
     ]
    }
   ],
   "source": [
    "with open(path + dirname + 'argsme2020-04-01-passages-without-conclusions-and-leakage.jsonl') as docs, open(path + dirname + 'argsme2020-04-0-train-data-conclusions-no-leakage.jsonl', 'w') as out_file:\n",
    "    for k, doc in tqdm(enumerate(docs), total=387740):\n",
    "        doc = json.loads(doc)\n",
    "        doc_id = doc['id']\n",
    "        if doc_id not in labeled_arguments_ids:\n",
    "            if doc_id not in conclusion_tokens:\n",
    "                continue\n",
    "\n",
    "            for passage_id, passage in doc['passages']:\n",
    "                for i in calculate_doc_term_recall2([{\"doc\":{\"title\": passage}}], conclusion_tokens[doc_id]):\n",
    "                    i['doc']['position'] = passage_id\n",
    "                    i['doc']['id'] = doc_id + '___' + str(passage_id)\n",
    "                    out_file.write(json.dumps(i) + '\\n')"
   ]
  }
 ],
 "metadata": {
  "kernelspec": {
   "display_name": "Python 3 (ipykernel)",
   "language": "python",
   "name": "python3"
  },
  "language_info": {
   "codemirror_mode": {
    "name": "ipython",
    "version": 3
   },
   "file_extension": ".py",
   "mimetype": "text/x-python",
   "name": "python",
   "nbconvert_exporter": "python",
   "pygments_lexer": "ipython3",
   "version": "3.9.7"
  }
 },
 "nbformat": 4,
 "nbformat_minor": 5
}
