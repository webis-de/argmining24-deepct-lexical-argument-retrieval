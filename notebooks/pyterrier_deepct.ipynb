{
 "nbformat": 4,
 "nbformat_minor": 0,
 "metadata": {
  "colab": {
   "name": "webis_pyterrier3.ipynb",
   "provenance": []
  },
  "kernelspec": {
   "name": "python3",
   "display_name": "Python 3"
  },
  "language_info": {
   "name": "python"
  }
 },
 "cells": [
  {
   "cell_type": "code",
   "metadata": {
    "id": "ik06DbFju3uy"
   },
   "source": [
    "'''\n",
    "Done: getting ndcg-value for debateorg.json \n",
    "Running: getting debateorg corpus re-created by deepct\n",
    "'''"
   ],
   "execution_count": null,
   "outputs": []
  },
  {
   "cell_type": "code",
   "metadata": {
    "colab": {
     "base_uri": "https://localhost:8080/"
    },
    "id": "-S9U5AAcMalM",
    "outputId": "969a86dd-d85b-44c2-98c1-a9fc9b3de5b7"
   },
   "source": [
    "!pip install python-terrier\n",
    "!pip install json\n",
    "import pyterrier as pt\n",
    "if not pt.started():\n",
    "  pt.init()"
   ],
   "execution_count": 1,
   "outputs": [
    {
     "output_type": "stream",
     "name": "stdout",
     "text": [
      "Collecting python-terrier\n",
      "  Downloading python-terrier-0.7.1.tar.gz (95 kB)\n",
      "\u001B[?25l\r\u001B[K     |███▍                            | 10 kB 25.3 MB/s eta 0:00:01\r\u001B[K     |██████▉                         | 20 kB 30.2 MB/s eta 0:00:01\r\u001B[K     |██████████▎                     | 30 kB 36.3 MB/s eta 0:00:01\r\u001B[K     |█████████████▊                  | 40 kB 38.8 MB/s eta 0:00:01\r\u001B[K     |█████████████████▏              | 51 kB 36.9 MB/s eta 0:00:01\r\u001B[K     |████████████████████▋           | 61 kB 29.8 MB/s eta 0:00:01\r\u001B[K     |████████████████████████        | 71 kB 27.8 MB/s eta 0:00:01\r\u001B[K     |███████████████████████████▍    | 81 kB 29.8 MB/s eta 0:00:01\r\u001B[K     |██████████████████████████████▉ | 92 kB 32.1 MB/s eta 0:00:01\r\u001B[K     |████████████████████████████████| 95 kB 4.4 MB/s \n",
      "\u001B[?25hRequirement already satisfied: numpy in /usr/local/lib/python3.7/dist-packages (from python-terrier) (1.19.5)\n",
      "Requirement already satisfied: pandas in /usr/local/lib/python3.7/dist-packages (from python-terrier) (1.1.5)\n",
      "Collecting wget\n",
      "  Downloading wget-3.2.zip (10 kB)\n",
      "Requirement already satisfied: tqdm in /usr/local/lib/python3.7/dist-packages (from python-terrier) (4.62.3)\n",
      "Collecting pyjnius~=1.3.0\n",
      "  Downloading pyjnius-1.3.0-cp37-cp37m-manylinux2010_x86_64.whl (1.1 MB)\n",
      "\u001B[K     |████████████████████████████████| 1.1 MB 49.4 MB/s \n",
      "\u001B[?25hCollecting matchpy\n",
      "  Downloading matchpy-0.5.5-py3-none-any.whl (69 kB)\n",
      "\u001B[K     |████████████████████████████████| 69 kB 9.6 MB/s \n",
      "\u001B[?25hRequirement already satisfied: sklearn in /usr/local/lib/python3.7/dist-packages (from python-terrier) (0.0)\n",
      "Collecting deprecation\n",
      "  Downloading deprecation-2.1.0-py2.py3-none-any.whl (11 kB)\n",
      "Collecting chest\n",
      "  Downloading chest-0.2.3.tar.gz (9.6 kB)\n",
      "Requirement already satisfied: scipy in /usr/local/lib/python3.7/dist-packages (from python-terrier) (1.4.1)\n",
      "Requirement already satisfied: requests in /usr/local/lib/python3.7/dist-packages (from python-terrier) (2.23.0)\n",
      "Requirement already satisfied: joblib in /usr/local/lib/python3.7/dist-packages (from python-terrier) (1.1.0)\n",
      "Collecting nptyping\n",
      "  Downloading nptyping-1.4.4-py3-none-any.whl (31 kB)\n",
      "Requirement already satisfied: more_itertools in /usr/local/lib/python3.7/dist-packages (from python-terrier) (8.11.0)\n",
      "Collecting ir_datasets>=0.3.2\n",
      "  Downloading ir_datasets-0.4.3-py3-none-any.whl (222 kB)\n",
      "\u001B[K     |████████████████████████████████| 222 kB 57.0 MB/s \n",
      "\u001B[?25hRequirement already satisfied: jinja2 in /usr/local/lib/python3.7/dist-packages (from python-terrier) (2.11.3)\n",
      "Requirement already satisfied: statsmodels in /usr/local/lib/python3.7/dist-packages (from python-terrier) (0.10.2)\n",
      "Collecting ir_measures>=0.2.0\n",
      "  Downloading ir_measures-0.2.1.tar.gz (36 kB)\n",
      "Requirement already satisfied: dill in /usr/local/lib/python3.7/dist-packages (from python-terrier) (0.3.4)\n",
      "Collecting pyyaml>=5.3.1\n",
      "  Downloading PyYAML-6.0-cp37-cp37m-manylinux_2_5_x86_64.manylinux1_x86_64.manylinux_2_12_x86_64.manylinux2010_x86_64.whl (596 kB)\n",
      "\u001B[K     |████████████████████████████████| 596 kB 58.4 MB/s \n",
      "\u001B[?25hCollecting lxml>=4.5.2\n",
      "  Downloading lxml-4.6.4-cp37-cp37m-manylinux_2_17_x86_64.manylinux2014_x86_64.manylinux_2_24_x86_64.whl (6.3 MB)\n",
      "\u001B[K     |████████████████████████████████| 6.3 MB 29.8 MB/s \n",
      "\u001B[?25hCollecting warc3-wet-clueweb09>=0.2.5\n",
      "  Downloading warc3-wet-clueweb09-0.2.5.tar.gz (17 kB)\n",
      "Collecting lz4>=3.1.1\n",
      "  Downloading lz4-3.1.3-cp37-cp37m-manylinux2010_x86_64.whl (1.8 MB)\n",
      "\u001B[K     |████████████████████████████████| 1.8 MB 35.4 MB/s \n",
      "\u001B[?25hCollecting pyautocorpus>=0.1.1\n",
      "  Downloading pyautocorpus-0.1.6-cp37-cp37m-manylinux_2_12_x86_64.manylinux2010_x86_64.whl (294 kB)\n",
      "\u001B[K     |████████████████████████████████| 294 kB 72.2 MB/s \n",
      "\u001B[?25hCollecting ijson>=3.1.3\n",
      "  Downloading ijson-3.1.4-cp37-cp37m-manylinux2010_x86_64.whl (126 kB)\n",
      "\u001B[K     |████████████████████████████████| 126 kB 68.8 MB/s \n",
      "\u001B[?25hCollecting warc3-wet>=0.2.3\n",
      "  Downloading warc3_wet-0.2.3-py3-none-any.whl (13 kB)\n",
      "Requirement already satisfied: beautifulsoup4>=4.4.1 in /usr/local/lib/python3.7/dist-packages (from ir_datasets>=0.3.2->python-terrier) (4.6.3)\n",
      "Collecting zlib-state>=0.1.3\n",
      "  Downloading zlib_state-0.1.3-cp37-cp37m-manylinux2010_x86_64.whl (72 kB)\n",
      "\u001B[K     |████████████████████████████████| 72 kB 1.4 MB/s \n",
      "\u001B[?25hCollecting trec-car-tools>=2.5.4\n",
      "  Downloading trec_car_tools-2.5.4-py3-none-any.whl (8.1 kB)\n",
      "Collecting pytrec-eval-terrier==0.5.1\n",
      "  Downloading pytrec_eval_terrier-0.5.1-cp37-cp37m-manylinux2010_x86_64.whl (291 kB)\n",
      "\u001B[K     |████████████████████████████████| 291 kB 66.7 MB/s \n",
      "\u001B[?25hCollecting cwl-eval>=1.0.10\n",
      "  Downloading cwl-eval-1.0.10.tar.gz (31 kB)\n",
      "Requirement already satisfied: six>=1.7.0 in /usr/local/lib/python3.7/dist-packages (from pyjnius~=1.3.0->python-terrier) (1.15.0)\n",
      "Requirement already satisfied: cython in /usr/local/lib/python3.7/dist-packages (from pyjnius~=1.3.0->python-terrier) (0.29.24)\n",
      "Requirement already satisfied: idna<3,>=2.5 in /usr/local/lib/python3.7/dist-packages (from requests->python-terrier) (2.10)\n",
      "Requirement already satisfied: certifi>=2017.4.17 in /usr/local/lib/python3.7/dist-packages (from requests->python-terrier) (2021.10.8)\n",
      "Requirement already satisfied: chardet<4,>=3.0.2 in /usr/local/lib/python3.7/dist-packages (from requests->python-terrier) (3.0.4)\n",
      "Requirement already satisfied: urllib3!=1.25.0,!=1.25.1,<1.26,>=1.21.1 in /usr/local/lib/python3.7/dist-packages (from requests->python-terrier) (1.24.3)\n",
      "Collecting cbor>=1.0.0\n",
      "  Downloading cbor-1.0.0.tar.gz (20 kB)\n",
      "Requirement already satisfied: heapdict in /usr/local/lib/python3.7/dist-packages (from chest->python-terrier) (1.0.1)\n",
      "Requirement already satisfied: packaging in /usr/local/lib/python3.7/dist-packages (from deprecation->python-terrier) (21.2)\n",
      "Requirement already satisfied: MarkupSafe>=0.23 in /usr/local/lib/python3.7/dist-packages (from jinja2->python-terrier) (2.0.1)\n",
      "Collecting multiset<3.0,>=2.0\n",
      "  Downloading multiset-2.1.1-py2.py3-none-any.whl (8.8 kB)\n",
      "Collecting typish>=1.7.0\n",
      "  Downloading typish-1.9.3-py3-none-any.whl (45 kB)\n",
      "\u001B[K     |████████████████████████████████| 45 kB 3.7 MB/s \n",
      "\u001B[?25hRequirement already satisfied: pyparsing<3,>=2.0.2 in /usr/local/lib/python3.7/dist-packages (from packaging->deprecation->python-terrier) (2.4.7)\n",
      "Requirement already satisfied: python-dateutil>=2.7.3 in /usr/local/lib/python3.7/dist-packages (from pandas->python-terrier) (2.8.2)\n",
      "Requirement already satisfied: pytz>=2017.2 in /usr/local/lib/python3.7/dist-packages (from pandas->python-terrier) (2018.9)\n",
      "Requirement already satisfied: scikit-learn in /usr/local/lib/python3.7/dist-packages (from sklearn->python-terrier) (1.0.1)\n",
      "Requirement already satisfied: threadpoolctl>=2.0.0 in /usr/local/lib/python3.7/dist-packages (from scikit-learn->sklearn->python-terrier) (3.0.0)\n",
      "Requirement already satisfied: patsy>=0.4.0 in /usr/local/lib/python3.7/dist-packages (from statsmodels->python-terrier) (0.5.2)\n",
      "Building wheels for collected packages: python-terrier, ir-measures, cwl-eval, cbor, warc3-wet-clueweb09, chest, wget\n",
      "  Building wheel for python-terrier (setup.py) ... \u001B[?25l\u001B[?25hdone\n",
      "  Created wheel for python-terrier: filename=python_terrier-0.7.1-py3-none-any.whl size=102452 sha256=c557f196f787ab967e057fe450448e53b7ce72e2c1e8cc999f122434b79c1317\n",
      "  Stored in directory: /root/.cache/pip/wheels/c0/9a/c8/1c2d9ec6a1494bb54f47e0d2627b5ed7b2de704b66723d3417\n",
      "  Building wheel for ir-measures (setup.py) ... \u001B[?25l\u001B[?25hdone\n",
      "  Created wheel for ir-measures: filename=ir_measures-0.2.1-py3-none-any.whl size=46421 sha256=b00394f890cb5485a04fcb25495d2fd439e26fa29556952034b93d91260885fe\n",
      "  Stored in directory: /root/.cache/pip/wheels/38/a4/34/d0b2e6c329f3d0fab3d3c3ed296b963cee47872811acdc3628\n",
      "  Building wheel for cwl-eval (setup.py) ... \u001B[?25l\u001B[?25hdone\n",
      "  Created wheel for cwl-eval: filename=cwl_eval-1.0.10-py3-none-any.whl size=37795 sha256=7b521907b7ea1644b4490e2219b0098c1fe792b97689bce408097aea91abc022\n",
      "  Stored in directory: /root/.cache/pip/wheels/ff/e9/ff/d2b6d72d9feb0d0b1b11aacfaf5cd866717034615c2d194093\n",
      "  Building wheel for cbor (setup.py) ... \u001B[?25l\u001B[?25hdone\n",
      "  Created wheel for cbor: filename=cbor-1.0.0-cp37-cp37m-linux_x86_64.whl size=51309 sha256=82ab8f58625bde5928697545e5967c71ae29567dab447bbe4e99e507af069a9a\n",
      "  Stored in directory: /root/.cache/pip/wheels/19/77/49/c9c2c8dc5848502e606e8579d0bbda18b850fb056a6c62239d\n",
      "  Building wheel for warc3-wet-clueweb09 (setup.py) ... \u001B[?25l\u001B[?25hdone\n",
      "  Created wheel for warc3-wet-clueweb09: filename=warc3_wet_clueweb09-0.2.5-py3-none-any.whl size=18921 sha256=d291555a178dc135de5866f87722321133a59226e0dc56885db776f4c7bea222\n",
      "  Stored in directory: /root/.cache/pip/wheels/42/d4/3c/7c2b0c3d400ad744e4db69f2fde166655da2ed2198bfc02db6\n",
      "  Building wheel for chest (setup.py) ... \u001B[?25l\u001B[?25hdone\n",
      "  Created wheel for chest: filename=chest-0.2.3-py3-none-any.whl size=7632 sha256=284d65370a37cbc3498b46bdcec5be52de34f97719adf69cb5586cb091838efb\n",
      "  Stored in directory: /root/.cache/pip/wheels/fc/f5/b9/c436e11300809e6b40d46a5d2592fb0bff89e0712f2e878dc7\n",
      "  Building wheel for wget (setup.py) ... \u001B[?25l\u001B[?25hdone\n",
      "  Created wheel for wget: filename=wget-3.2-py3-none-any.whl size=9672 sha256=a70ce08e178abe458be5b5b90ea990f22ac85a633cb34eda447a5b245dbfc247\n",
      "  Stored in directory: /root/.cache/pip/wheels/a1/b6/7c/0e63e34eb06634181c63adacca38b79ff8f35c37e3c13e3c02\n",
      "Successfully built python-terrier ir-measures cwl-eval cbor warc3-wet-clueweb09 chest wget\n",
      "Installing collected packages: cbor, zlib-state, warc3-wet-clueweb09, warc3-wet, typish, trec-car-tools, pyyaml, pytrec-eval-terrier, pyautocorpus, multiset, lz4, lxml, ijson, deprecation, cwl-eval, wget, pyjnius, nptyping, matchpy, ir-measures, ir-datasets, chest, python-terrier\n",
      "  Attempting uninstall: pyyaml\n",
      "    Found existing installation: PyYAML 3.13\n",
      "    Uninstalling PyYAML-3.13:\n",
      "      Successfully uninstalled PyYAML-3.13\n",
      "  Attempting uninstall: lxml\n",
      "    Found existing installation: lxml 4.2.6\n",
      "    Uninstalling lxml-4.2.6:\n",
      "      Successfully uninstalled lxml-4.2.6\n",
      "Successfully installed cbor-1.0.0 chest-0.2.3 cwl-eval-1.0.10 deprecation-2.1.0 ijson-3.1.4 ir-datasets-0.4.3 ir-measures-0.2.1 lxml-4.6.4 lz4-3.1.3 matchpy-0.5.5 multiset-2.1.1 nptyping-1.4.4 pyautocorpus-0.1.6 pyjnius-1.3.0 python-terrier-0.7.1 pytrec-eval-terrier-0.5.1 pyyaml-6.0 trec-car-tools-2.5.4 typish-1.9.3 warc3-wet-0.2.3 warc3-wet-clueweb09-0.2.5 wget-3.2 zlib-state-0.1.3\n",
      "\u001B[31mERROR: Could not find a version that satisfies the requirement json (from versions: none)\u001B[0m\n",
      "\u001B[31mERROR: No matching distribution found for json\u001B[0m\n",
      "terrier-assemblies 5.6 jar-with-dependencies not found, downloading to /root/.pyterrier...\n",
      "Done\n",
      "terrier-python-helper 0.0.6 jar not found, downloading to /root/.pyterrier...\n",
      "Done\n",
      "PyTerrier 0.7.1 has loaded Terrier 5.6 (built by craigmacdonald on 2021-09-17 13:27)\n"
     ]
    }
   ]
  },
  {
   "cell_type": "code",
   "metadata": {
    "id": "OmR6leBJaHdQ"
   },
   "source": [
    "from typing import List, Set, Callable\n",
    "\n",
    "def tokenize_text(text: str, stopwords: Set[str] = None) -> List[str]:\n",
    "    if stopwords is None:\n",
    "        stopwords = set()\n",
    "\n",
    "    raw_tokens = re.split('\\W', text)\n",
    "    normalized_tokens = map(lambda w: w.lower().strip(\".:,;?!\"), raw_tokens)\n",
    "    return ' '.join(list(filter(lambda w: w != '' and w not in stopwords, normalized_tokens)))"
   ],
   "execution_count": 2,
   "outputs": []
  },
  {
   "cell_type": "code",
   "metadata": {
    "id": "BytCMmLKMiRL"
   },
   "source": [
    "import ijson\n",
    "import re\n",
    "data_set = set()\n",
    "id_text = {}\n",
    "# only parliamentary.json from args.me corpus\n",
    "# filename = \"/content/drive/MyDrive/workspace/parliamentary.json\"\n",
    "filename = \"/content/drive/MyDrive/workspace/debateorg.json\"\n",
    "with open(filename, 'r', encoding='utf-8') as f:\n",
    "    objects = ijson.items(f, 'arguments.item')\n",
    "    for i, o in enumerate(objects):\n",
    "        id_text[i] = str(i), o['id'], tokenize_text(o[\"premises\"][0][\"text\"])"
   ],
   "execution_count": 3,
   "outputs": []
  },
  {
   "cell_type": "code",
   "metadata": {
    "id": "TAa4rXuoMjt4"
   },
   "source": [
    "import pandas as pd\n",
    "test_df = pd.DataFrame.from_dict(id_text).transpose()\n",
    "test_df = test_df.rename(columns={0: \"docid\", 1: \"docno\", 2: \"text\"})"
   ],
   "execution_count": 4,
   "outputs": []
  },
  {
   "cell_type": "code",
   "metadata": {
    "colab": {
     "base_uri": "https://localhost:8080/"
    },
    "id": "e95AExSnMmMq",
    "outputId": "76570b96-cf2f-495b-b0a3-ca7bf6830bbe"
   },
   "source": [
    "pd_indexer = pt.DFIndexer(\"./pd_index\")\n",
    "indexref = pd_indexer.index(test_df[\"text\"], test_df[\"docno\"])"
   ],
   "execution_count": 5,
   "outputs": [
    {
     "output_type": "stream",
     "name": "stdout",
     "text": [
      "09:17:38.301 [main] WARN org.terrier.structures.indexing.Indexer - Adding an empty document to the index (Sb38112c8-A443a9828) - further warnings are suppressed\n",
      "09:22:15.776 [main] WARN org.terrier.structures.indexing.Indexer - Indexed 1686 empty documents\n",
      "09:22:16.544 [main] ERROR org.terrier.structures.indexing.Indexer - Could not finish MetaIndexBuilder: \n",
      "java.io.IOException: Key S2db48a61-A430a7cb1 is not unique: 265281,131561\n",
      "For MetaIndex, to suppress, set metaindex.compressed.reverse.allow.duplicates=true\n",
      "\tat org.terrier.structures.collections.FSOrderedMapFile$MultiFSOMapWriter.mergeTwo(FSOrderedMapFile.java:1374)\n",
      "\tat org.terrier.structures.collections.FSOrderedMapFile$MultiFSOMapWriter.close(FSOrderedMapFile.java:1308)\n",
      "\tat org.terrier.structures.indexing.BaseMetaIndexBuilder.close(BaseMetaIndexBuilder.java:321)\n",
      "\tat org.terrier.structures.indexing.classical.BasicIndexer.createDirectIndex(BasicIndexer.java:346)\n",
      "\tat org.terrier.structures.indexing.Indexer.index(Indexer.java:369)\n"
     ]
    }
   ]
  },
  {
   "cell_type": "code",
   "metadata": {
    "id": "9wZ6p97EMoK_"
   },
   "source": [
    "from xml.etree import ElementTree\n",
    "tree = ElementTree.parse('/content/drive/MyDrive/workspace/topics.xml')\n",
    "data = tree.getroot()\n",
    "titles = []\n",
    "title_ids = []\n",
    "for topic in data:\n",
    "    titles.append(topic.find('title').text.lower()[:-1])\n",
    "    num = topic.find('number').text\n",
    "    title_ids.append(num)\n"
   ],
   "execution_count": 6,
   "outputs": []
  },
  {
   "cell_type": "code",
   "metadata": {
    "id": "XoGFernQMoFh"
   },
   "source": [
    "topics = pd.DataFrame(titles,columns = ['query'])\n",
    "topics['qid'] = topics.index + 51\n",
    "columns_titles = [\"qid\",\"query\"]\n",
    "topics=topics.reindex(columns=columns_titles)"
   ],
   "execution_count": 7,
   "outputs": []
  },
  {
   "cell_type": "code",
   "metadata": {
    "id": "yLYxqt5wMq_x"
   },
   "source": [
    "index = pt.IndexFactory.of(indexref)\n",
    "retr = pt.BatchRetrieve(index, controls = {\"wmodel\": \"TF_IDF\"})\n",
    "res=retr.transform(topics)"
   ],
   "execution_count": 8,
   "outputs": []
  },
  {
   "cell_type": "code",
   "metadata": {
    "id": "T4W6Bd5xMsL1"
   },
   "source": [
    "qrels_path=(\"/content/drive/MyDrive/workspace/qrels.qrels\")\n",
    "qrels = pt.io.read_qrels(qrels_path)"
   ],
   "execution_count": 9,
   "outputs": []
  },
  {
   "cell_type": "code",
   "metadata": {
    "colab": {
     "base_uri": "https://localhost:8080/"
    },
    "id": "3ueoM3XkMtWx",
    "outputId": "b1512075-a80a-463b-b9e2-10921766ddfb"
   },
   "source": [
    "eval = pt.Utils.evaluate(res,qrels,metrics=[\"map\", \"ndcg\"])\n",
    "eval"
   ],
   "execution_count": 10,
   "outputs": [
    {
     "output_type": "execute_result",
     "data": {
      "text/plain": [
       "{'map': 0.32764634921508384, 'ndcg': 0.5676840565415017}"
      ]
     },
     "metadata": {},
     "execution_count": 10
    }
   ]
  },
  {
   "cell_type": "code",
   "metadata": {
    "colab": {
     "base_uri": "https://localhost:8080/"
    },
    "id": "O15eG7ZGNvF4",
    "outputId": "0514c43f-7aa4-44a4-ec45-bf518b91d8da"
   },
   "source": [
    "import os\n",
    "if not os.path.exists(\"uncased_L-12_H-768_A-12.zip\"):\n",
    "  !wget https://storage.googleapis.com/bert_models/2020_02_20/uncased_L-12_H-768_A-12.zip\n",
    "  !unzip uncased_L-12_H-768_A-12.zip\n",
    "  !mkdir -p bert-base-uncased\n",
    "  !mv vocab.txt bert_* bert-base-uncased/"
   ],
   "execution_count": 11,
   "outputs": [
    {
     "output_type": "stream",
     "name": "stdout",
     "text": [
      "--2021-11-17 09:22:34--  https://storage.googleapis.com/bert_models/2020_02_20/uncased_L-12_H-768_A-12.zip\n",
      "Resolving storage.googleapis.com (storage.googleapis.com)... 142.251.33.208, 172.217.9.208, 172.217.12.240, ...\n",
      "Connecting to storage.googleapis.com (storage.googleapis.com)|142.251.33.208|:443... connected.\n",
      "HTTP request sent, awaiting response... 200 OK\n",
      "Length: 408102251 (389M) [application/zip]\n",
      "Saving to: ‘uncased_L-12_H-768_A-12.zip’\n",
      "\n",
      "uncased_L-12_H-768_ 100%[===================>] 389.20M  38.6MB/s    in 7.4s    \n",
      "\n",
      "2021-11-17 09:22:41 (52.3 MB/s) - ‘uncased_L-12_H-768_A-12.zip’ saved [408102251/408102251]\n",
      "\n",
      "Archive:  uncased_L-12_H-768_A-12.zip\n",
      "  inflating: bert_model.ckpt.data-00000-of-00001  \n",
      "  inflating: bert_config.json        \n",
      "  inflating: vocab.txt               \n",
      "  inflating: bert_model.ckpt.index   \n"
     ]
    }
   ]
  },
  {
   "cell_type": "code",
   "metadata": {
    "colab": {
     "base_uri": "https://localhost:8080/"
    },
    "id": "sRnKoSQfRB4P",
    "outputId": "dfe3b3b7-6fa2-437e-8b1e-7faea8a9d8dc"
   },
   "source": [
    "%tensorflow_version 1.x\n",
    "\n",
    "!pip install --upgrade git+https://github.com/terrier-org/pyterrier.git#egg=python-terrier\n",
    "!pip install --upgrade git+https://github.com/terrierteam/pyterrier_deepct.git"
   ],
   "execution_count": 12,
   "outputs": [
    {
     "output_type": "stream",
     "name": "stdout",
     "text": [
      "TensorFlow 1.x selected.\n",
      "Collecting python-terrier\n",
      "  Cloning https://github.com/terrier-org/pyterrier.git to /tmp/pip-install-0qr9nmaf/python-terrier_18c92245ff73438f99b21281ae81ef27\n",
      "  Running command git clone -q https://github.com/terrier-org/pyterrier.git /tmp/pip-install-0qr9nmaf/python-terrier_18c92245ff73438f99b21281ae81ef27\n",
      "Requirement already satisfied: numpy in /usr/local/lib/python3.7/dist-packages (from python-terrier) (1.19.5)\n",
      "Requirement already satisfied: pandas in /usr/local/lib/python3.7/dist-packages (from python-terrier) (1.1.5)\n",
      "Requirement already satisfied: wget in /usr/local/lib/python3.7/dist-packages (from python-terrier) (3.2)\n",
      "Requirement already satisfied: tqdm in /usr/local/lib/python3.7/dist-packages (from python-terrier) (4.62.3)\n",
      "Requirement already satisfied: pyjnius~=1.3.0 in /usr/local/lib/python3.7/dist-packages (from python-terrier) (1.3.0)\n",
      "Requirement already satisfied: matchpy in /usr/local/lib/python3.7/dist-packages (from python-terrier) (0.5.5)\n",
      "Requirement already satisfied: sklearn in /usr/local/lib/python3.7/dist-packages (from python-terrier) (0.0)\n",
      "Requirement already satisfied: deprecation in /usr/local/lib/python3.7/dist-packages (from python-terrier) (2.1.0)\n",
      "Requirement already satisfied: chest in /usr/local/lib/python3.7/dist-packages (from python-terrier) (0.2.3)\n",
      "Requirement already satisfied: scipy in /usr/local/lib/python3.7/dist-packages (from python-terrier) (1.4.1)\n",
      "Requirement already satisfied: requests in /usr/local/lib/python3.7/dist-packages (from python-terrier) (2.23.0)\n",
      "Requirement already satisfied: joblib in /usr/local/lib/python3.7/dist-packages (from python-terrier) (1.1.0)\n",
      "Requirement already satisfied: nptyping in /usr/local/lib/python3.7/dist-packages (from python-terrier) (1.4.4)\n",
      "Requirement already satisfied: more_itertools in /usr/local/lib/python3.7/dist-packages (from python-terrier) (8.11.0)\n",
      "Requirement already satisfied: ir_datasets>=0.3.2 in /usr/local/lib/python3.7/dist-packages (from python-terrier) (0.4.3)\n",
      "Requirement already satisfied: jinja2 in /usr/local/lib/python3.7/dist-packages (from python-terrier) (2.11.3)\n",
      "Requirement already satisfied: statsmodels in /usr/local/lib/python3.7/dist-packages (from python-terrier) (0.10.2)\n",
      "Requirement already satisfied: ir_measures>=0.2.0 in /usr/local/lib/python3.7/dist-packages (from python-terrier) (0.2.1)\n",
      "Requirement already satisfied: dill in /usr/local/lib/python3.7/dist-packages (from python-terrier) (0.3.4)\n",
      "Requirement already satisfied: pyyaml>=5.3.1 in /usr/local/lib/python3.7/dist-packages (from ir_datasets>=0.3.2->python-terrier) (6.0)\n",
      "Requirement already satisfied: beautifulsoup4>=4.4.1 in /usr/local/lib/python3.7/dist-packages (from ir_datasets>=0.3.2->python-terrier) (4.6.3)\n",
      "Requirement already satisfied: warc3-wet-clueweb09>=0.2.5 in /usr/local/lib/python3.7/dist-packages (from ir_datasets>=0.3.2->python-terrier) (0.2.5)\n",
      "Requirement already satisfied: zlib-state>=0.1.3 in /usr/local/lib/python3.7/dist-packages (from ir_datasets>=0.3.2->python-terrier) (0.1.3)\n",
      "Requirement already satisfied: pyautocorpus>=0.1.1 in /usr/local/lib/python3.7/dist-packages (from ir_datasets>=0.3.2->python-terrier) (0.1.6)\n",
      "Requirement already satisfied: trec-car-tools>=2.5.4 in /usr/local/lib/python3.7/dist-packages (from ir_datasets>=0.3.2->python-terrier) (2.5.4)\n",
      "Requirement already satisfied: ijson>=3.1.3 in /usr/local/lib/python3.7/dist-packages (from ir_datasets>=0.3.2->python-terrier) (3.1.4)\n",
      "Requirement already satisfied: lxml>=4.5.2 in /usr/local/lib/python3.7/dist-packages (from ir_datasets>=0.3.2->python-terrier) (4.6.4)\n",
      "Requirement already satisfied: warc3-wet>=0.2.3 in /usr/local/lib/python3.7/dist-packages (from ir_datasets>=0.3.2->python-terrier) (0.2.3)\n",
      "Requirement already satisfied: lz4>=3.1.1 in /usr/local/lib/python3.7/dist-packages (from ir_datasets>=0.3.2->python-terrier) (3.1.3)\n",
      "Requirement already satisfied: pytrec-eval-terrier==0.5.1 in /usr/local/lib/python3.7/dist-packages (from ir_measures>=0.2.0->python-terrier) (0.5.1)\n",
      "Requirement already satisfied: cwl-eval>=1.0.10 in /usr/local/lib/python3.7/dist-packages (from ir_measures>=0.2.0->python-terrier) (1.0.10)\n",
      "Requirement already satisfied: six>=1.7.0 in /usr/local/lib/python3.7/dist-packages (from pyjnius~=1.3.0->python-terrier) (1.15.0)\n",
      "Requirement already satisfied: cython in /usr/local/lib/python3.7/dist-packages (from pyjnius~=1.3.0->python-terrier) (0.29.24)\n",
      "Requirement already satisfied: certifi>=2017.4.17 in /usr/local/lib/python3.7/dist-packages (from requests->python-terrier) (2021.10.8)\n",
      "Requirement already satisfied: urllib3!=1.25.0,!=1.25.1,<1.26,>=1.21.1 in /usr/local/lib/python3.7/dist-packages (from requests->python-terrier) (1.24.3)\n",
      "Requirement already satisfied: idna<3,>=2.5 in /usr/local/lib/python3.7/dist-packages (from requests->python-terrier) (2.10)\n",
      "Requirement already satisfied: chardet<4,>=3.0.2 in /usr/local/lib/python3.7/dist-packages (from requests->python-terrier) (3.0.4)\n",
      "Requirement already satisfied: cbor>=1.0.0 in /usr/local/lib/python3.7/dist-packages (from trec-car-tools>=2.5.4->ir_datasets>=0.3.2->python-terrier) (1.0.0)\n",
      "Requirement already satisfied: heapdict in /usr/local/lib/python3.7/dist-packages (from chest->python-terrier) (1.0.1)\n",
      "Requirement already satisfied: packaging in /usr/local/lib/python3.7/dist-packages (from deprecation->python-terrier) (21.2)\n",
      "Requirement already satisfied: MarkupSafe>=0.23 in /usr/local/lib/python3.7/dist-packages (from jinja2->python-terrier) (2.0.1)\n",
      "Requirement already satisfied: multiset<3.0,>=2.0 in /usr/local/lib/python3.7/dist-packages (from matchpy->python-terrier) (2.1.1)\n",
      "Requirement already satisfied: typish>=1.7.0 in /usr/local/lib/python3.7/dist-packages (from nptyping->python-terrier) (1.9.3)\n",
      "Requirement already satisfied: pyparsing<3,>=2.0.2 in /usr/local/lib/python3.7/dist-packages (from packaging->deprecation->python-terrier) (2.4.7)\n",
      "Requirement already satisfied: python-dateutil>=2.7.3 in /usr/local/lib/python3.7/dist-packages (from pandas->python-terrier) (2.8.2)\n",
      "Requirement already satisfied: pytz>=2017.2 in /usr/local/lib/python3.7/dist-packages (from pandas->python-terrier) (2018.9)\n",
      "Requirement already satisfied: scikit-learn in /usr/local/lib/python3.7/dist-packages (from sklearn->python-terrier) (1.0.1)\n",
      "Requirement already satisfied: threadpoolctl>=2.0.0 in /usr/local/lib/python3.7/dist-packages (from scikit-learn->sklearn->python-terrier) (3.0.0)\n",
      "Requirement already satisfied: patsy>=0.4.0 in /usr/local/lib/python3.7/dist-packages (from statsmodels->python-terrier) (0.5.2)\n",
      "Collecting git+https://github.com/terrierteam/pyterrier_deepct.git\n",
      "  Cloning https://github.com/terrierteam/pyterrier_deepct.git to /tmp/pip-req-build-oohov4b8\n",
      "  Running command git clone -q https://github.com/terrierteam/pyterrier_deepct.git /tmp/pip-req-build-oohov4b8\n",
      "Collecting DeepCT@ git+https://github.com/cmacdonald/DeepCT.git@tf1#egg=DeepCT\n",
      "  Cloning https://github.com/cmacdonald/DeepCT.git (to revision tf1) to /tmp/pip-install-d25p22bb/deepct_f74210c0b1ff4a9da0181a1a8f2f1951\n",
      "  Running command git clone -q https://github.com/cmacdonald/DeepCT.git /tmp/pip-install-d25p22bb/deepct_f74210c0b1ff4a9da0181a1a8f2f1951\n",
      "  Running command git checkout -b tf1 --track origin/tf1\n",
      "  Switched to a new branch 'tf1'\n",
      "  Branch 'tf1' set up to track remote branch 'tf1' from 'origin'.\n",
      "Requirement already satisfied: python-terrier in /usr/local/lib/python3.7/dist-packages (from pyterrier-deepct==0.0.1) (0.7.1)\n",
      "Requirement already satisfied: pandas in /usr/local/lib/python3.7/dist-packages (from pyterrier-deepct==0.0.1) (1.1.5)\n",
      "Requirement already satisfied: tensorflow in /tensorflow-1.15.2/python3.7 (from DeepCT@ git+https://github.com/cmacdonald/DeepCT.git@tf1#egg=DeepCT->pyterrier-deepct==0.0.1) (1.15.2)\n",
      "Requirement already satisfied: pytz>=2017.2 in /usr/local/lib/python3.7/dist-packages (from pandas->pyterrier-deepct==0.0.1) (2018.9)\n",
      "Requirement already satisfied: numpy>=1.15.4 in /usr/local/lib/python3.7/dist-packages (from pandas->pyterrier-deepct==0.0.1) (1.19.5)\n",
      "Requirement already satisfied: python-dateutil>=2.7.3 in /usr/local/lib/python3.7/dist-packages (from pandas->pyterrier-deepct==0.0.1) (2.8.2)\n",
      "Requirement already satisfied: six>=1.5 in /usr/local/lib/python3.7/dist-packages (from python-dateutil>=2.7.3->pandas->pyterrier-deepct==0.0.1) (1.15.0)\n",
      "Requirement already satisfied: statsmodels in /usr/local/lib/python3.7/dist-packages (from python-terrier->pyterrier-deepct==0.0.1) (0.10.2)\n",
      "Requirement already satisfied: requests in /usr/local/lib/python3.7/dist-packages (from python-terrier->pyterrier-deepct==0.0.1) (2.23.0)\n",
      "Requirement already satisfied: nptyping in /usr/local/lib/python3.7/dist-packages (from python-terrier->pyterrier-deepct==0.0.1) (1.4.4)\n",
      "Requirement already satisfied: more-itertools in /usr/local/lib/python3.7/dist-packages (from python-terrier->pyterrier-deepct==0.0.1) (8.11.0)\n",
      "Requirement already satisfied: tqdm in /usr/local/lib/python3.7/dist-packages (from python-terrier->pyterrier-deepct==0.0.1) (4.62.3)\n",
      "Requirement already satisfied: ir-measures>=0.2.0 in /usr/local/lib/python3.7/dist-packages (from python-terrier->pyterrier-deepct==0.0.1) (0.2.1)\n",
      "Requirement already satisfied: scipy in /usr/local/lib/python3.7/dist-packages (from python-terrier->pyterrier-deepct==0.0.1) (1.4.1)\n",
      "Requirement already satisfied: deprecation in /usr/local/lib/python3.7/dist-packages (from python-terrier->pyterrier-deepct==0.0.1) (2.1.0)\n",
      "Requirement already satisfied: jinja2 in /usr/local/lib/python3.7/dist-packages (from python-terrier->pyterrier-deepct==0.0.1) (2.11.3)\n",
      "Requirement already satisfied: ir-datasets>=0.3.2 in /usr/local/lib/python3.7/dist-packages (from python-terrier->pyterrier-deepct==0.0.1) (0.4.3)\n",
      "Requirement already satisfied: dill in /usr/local/lib/python3.7/dist-packages (from python-terrier->pyterrier-deepct==0.0.1) (0.3.4)\n",
      "Requirement already satisfied: sklearn in /usr/local/lib/python3.7/dist-packages (from python-terrier->pyterrier-deepct==0.0.1) (0.0)\n",
      "Requirement already satisfied: wget in /usr/local/lib/python3.7/dist-packages (from python-terrier->pyterrier-deepct==0.0.1) (3.2)\n",
      "Requirement already satisfied: joblib in /usr/local/lib/python3.7/dist-packages (from python-terrier->pyterrier-deepct==0.0.1) (1.1.0)\n",
      "Requirement already satisfied: matchpy in /usr/local/lib/python3.7/dist-packages (from python-terrier->pyterrier-deepct==0.0.1) (0.5.5)\n",
      "Requirement already satisfied: pyjnius~=1.3.0 in /usr/local/lib/python3.7/dist-packages (from python-terrier->pyterrier-deepct==0.0.1) (1.3.0)\n",
      "Requirement already satisfied: chest in /usr/local/lib/python3.7/dist-packages (from python-terrier->pyterrier-deepct==0.0.1) (0.2.3)\n",
      "Requirement already satisfied: warc3-wet-clueweb09>=0.2.5 in /usr/local/lib/python3.7/dist-packages (from ir-datasets>=0.3.2->python-terrier->pyterrier-deepct==0.0.1) (0.2.5)\n",
      "Requirement already satisfied: lxml>=4.5.2 in /usr/local/lib/python3.7/dist-packages (from ir-datasets>=0.3.2->python-terrier->pyterrier-deepct==0.0.1) (4.6.4)\n",
      "Requirement already satisfied: beautifulsoup4>=4.4.1 in /usr/local/lib/python3.7/dist-packages (from ir-datasets>=0.3.2->python-terrier->pyterrier-deepct==0.0.1) (4.6.3)\n",
      "Requirement already satisfied: warc3-wet>=0.2.3 in /usr/local/lib/python3.7/dist-packages (from ir-datasets>=0.3.2->python-terrier->pyterrier-deepct==0.0.1) (0.2.3)\n",
      "Requirement already satisfied: lz4>=3.1.1 in /usr/local/lib/python3.7/dist-packages (from ir-datasets>=0.3.2->python-terrier->pyterrier-deepct==0.0.1) (3.1.3)\n",
      "Requirement already satisfied: zlib-state>=0.1.3 in /usr/local/lib/python3.7/dist-packages (from ir-datasets>=0.3.2->python-terrier->pyterrier-deepct==0.0.1) (0.1.3)\n",
      "Requirement already satisfied: ijson>=3.1.3 in /usr/local/lib/python3.7/dist-packages (from ir-datasets>=0.3.2->python-terrier->pyterrier-deepct==0.0.1) (3.1.4)\n",
      "Requirement already satisfied: pyyaml>=5.3.1 in /usr/local/lib/python3.7/dist-packages (from ir-datasets>=0.3.2->python-terrier->pyterrier-deepct==0.0.1) (6.0)\n",
      "Requirement already satisfied: pyautocorpus>=0.1.1 in /usr/local/lib/python3.7/dist-packages (from ir-datasets>=0.3.2->python-terrier->pyterrier-deepct==0.0.1) (0.1.6)\n",
      "Requirement already satisfied: trec-car-tools>=2.5.4 in /usr/local/lib/python3.7/dist-packages (from ir-datasets>=0.3.2->python-terrier->pyterrier-deepct==0.0.1) (2.5.4)\n",
      "Requirement already satisfied: pytrec-eval-terrier==0.5.1 in /usr/local/lib/python3.7/dist-packages (from ir-measures>=0.2.0->python-terrier->pyterrier-deepct==0.0.1) (0.5.1)\n",
      "Requirement already satisfied: cwl-eval>=1.0.10 in /usr/local/lib/python3.7/dist-packages (from ir-measures>=0.2.0->python-terrier->pyterrier-deepct==0.0.1) (1.0.10)\n",
      "Requirement already satisfied: cython in /usr/local/lib/python3.7/dist-packages (from pyjnius~=1.3.0->python-terrier->pyterrier-deepct==0.0.1) (0.29.24)\n",
      "Requirement already satisfied: certifi>=2017.4.17 in /usr/local/lib/python3.7/dist-packages (from requests->python-terrier->pyterrier-deepct==0.0.1) (2021.10.8)\n",
      "Requirement already satisfied: idna<3,>=2.5 in /usr/local/lib/python3.7/dist-packages (from requests->python-terrier->pyterrier-deepct==0.0.1) (2.10)\n",
      "Requirement already satisfied: chardet<4,>=3.0.2 in /usr/local/lib/python3.7/dist-packages (from requests->python-terrier->pyterrier-deepct==0.0.1) (3.0.4)\n",
      "Requirement already satisfied: urllib3!=1.25.0,!=1.25.1,<1.26,>=1.21.1 in /usr/local/lib/python3.7/dist-packages (from requests->python-terrier->pyterrier-deepct==0.0.1) (1.24.3)\n",
      "Requirement already satisfied: cbor>=1.0.0 in /usr/local/lib/python3.7/dist-packages (from trec-car-tools>=2.5.4->ir-datasets>=0.3.2->python-terrier->pyterrier-deepct==0.0.1) (1.0.0)\n",
      "Requirement already satisfied: heapdict in /usr/local/lib/python3.7/dist-packages (from chest->python-terrier->pyterrier-deepct==0.0.1) (1.0.1)\n",
      "Requirement already satisfied: packaging in /usr/local/lib/python3.7/dist-packages (from deprecation->python-terrier->pyterrier-deepct==0.0.1) (21.2)\n",
      "Requirement already satisfied: MarkupSafe>=0.23 in /usr/local/lib/python3.7/dist-packages (from jinja2->python-terrier->pyterrier-deepct==0.0.1) (2.0.1)\n",
      "Requirement already satisfied: multiset<3.0,>=2.0 in /usr/local/lib/python3.7/dist-packages (from matchpy->python-terrier->pyterrier-deepct==0.0.1) (2.1.1)\n",
      "Requirement already satisfied: typish>=1.7.0 in /usr/local/lib/python3.7/dist-packages (from nptyping->python-terrier->pyterrier-deepct==0.0.1) (1.9.3)\n",
      "Requirement already satisfied: pyparsing<3,>=2.0.2 in /usr/local/lib/python3.7/dist-packages (from packaging->deprecation->python-terrier->pyterrier-deepct==0.0.1) (2.4.7)\n",
      "Requirement already satisfied: scikit-learn in /usr/local/lib/python3.7/dist-packages (from sklearn->python-terrier->pyterrier-deepct==0.0.1) (1.0.1)\n",
      "Requirement already satisfied: threadpoolctl>=2.0.0 in /usr/local/lib/python3.7/dist-packages (from scikit-learn->sklearn->python-terrier->pyterrier-deepct==0.0.1) (3.0.0)\n",
      "Requirement already satisfied: patsy>=0.4.0 in /usr/local/lib/python3.7/dist-packages (from statsmodels->python-terrier->pyterrier-deepct==0.0.1) (0.5.2)\n",
      "Requirement already satisfied: wrapt>=1.11.1 in /usr/local/lib/python3.7/dist-packages (from tensorflow->DeepCT@ git+https://github.com/cmacdonald/DeepCT.git@tf1#egg=DeepCT->pyterrier-deepct==0.0.1) (1.13.3)\n",
      "Collecting gast==0.2.2\n",
      "  Downloading gast-0.2.2.tar.gz (10 kB)\n",
      "Requirement already satisfied: protobuf>=3.6.1 in /usr/local/lib/python3.7/dist-packages (from tensorflow->DeepCT@ git+https://github.com/cmacdonald/DeepCT.git@tf1#egg=DeepCT->pyterrier-deepct==0.0.1) (3.17.3)\n",
      "Requirement already satisfied: grpcio>=1.8.6 in /usr/local/lib/python3.7/dist-packages (from tensorflow->DeepCT@ git+https://github.com/cmacdonald/DeepCT.git@tf1#egg=DeepCT->pyterrier-deepct==0.0.1) (1.41.1)\n",
      "Requirement already satisfied: wheel>=0.26 in /usr/local/lib/python3.7/dist-packages (from tensorflow->DeepCT@ git+https://github.com/cmacdonald/DeepCT.git@tf1#egg=DeepCT->pyterrier-deepct==0.0.1) (0.37.0)\n",
      "Requirement already satisfied: absl-py>=0.7.0 in /usr/local/lib/python3.7/dist-packages (from tensorflow->DeepCT@ git+https://github.com/cmacdonald/DeepCT.git@tf1#egg=DeepCT->pyterrier-deepct==0.0.1) (0.12.0)\n",
      "Requirement already satisfied: opt-einsum>=2.3.2 in /usr/local/lib/python3.7/dist-packages (from tensorflow->DeepCT@ git+https://github.com/cmacdonald/DeepCT.git@tf1#egg=DeepCT->pyterrier-deepct==0.0.1) (3.3.0)\n",
      "Requirement already satisfied: google-pasta>=0.1.6 in /usr/local/lib/python3.7/dist-packages (from tensorflow->DeepCT@ git+https://github.com/cmacdonald/DeepCT.git@tf1#egg=DeepCT->pyterrier-deepct==0.0.1) (0.2.0)\n",
      "Requirement already satisfied: keras-applications>=1.0.8 in /tensorflow-1.15.2/python3.7 (from tensorflow->DeepCT@ git+https://github.com/cmacdonald/DeepCT.git@tf1#egg=DeepCT->pyterrier-deepct==0.0.1) (1.0.8)\n",
      "Requirement already satisfied: astor>=0.6.0 in /usr/local/lib/python3.7/dist-packages (from tensorflow->DeepCT@ git+https://github.com/cmacdonald/DeepCT.git@tf1#egg=DeepCT->pyterrier-deepct==0.0.1) (0.8.1)\n",
      "Requirement already satisfied: termcolor>=1.1.0 in /usr/local/lib/python3.7/dist-packages (from tensorflow->DeepCT@ git+https://github.com/cmacdonald/DeepCT.git@tf1#egg=DeepCT->pyterrier-deepct==0.0.1) (1.1.0)\n",
      "Requirement already satisfied: keras-preprocessing>=1.0.5 in /usr/local/lib/python3.7/dist-packages (from tensorflow->DeepCT@ git+https://github.com/cmacdonald/DeepCT.git@tf1#egg=DeepCT->pyterrier-deepct==0.0.1) (1.1.2)\n",
      "Requirement already satisfied: tensorboard<1.16.0,>=1.15.0 in /tensorflow-1.15.2/python3.7 (from tensorflow->DeepCT@ git+https://github.com/cmacdonald/DeepCT.git@tf1#egg=DeepCT->pyterrier-deepct==0.0.1) (1.15.0)\n",
      "Requirement already satisfied: tensorflow-estimator==1.15.1 in /tensorflow-1.15.2/python3.7 (from tensorflow->DeepCT@ git+https://github.com/cmacdonald/DeepCT.git@tf1#egg=DeepCT->pyterrier-deepct==0.0.1) (1.15.1)\n",
      "Requirement already satisfied: h5py in /usr/local/lib/python3.7/dist-packages (from keras-applications>=1.0.8->tensorflow->DeepCT@ git+https://github.com/cmacdonald/DeepCT.git@tf1#egg=DeepCT->pyterrier-deepct==0.0.1) (3.1.0)\n",
      "Requirement already satisfied: werkzeug>=0.11.15 in /usr/local/lib/python3.7/dist-packages (from tensorboard<1.16.0,>=1.15.0->tensorflow->DeepCT@ git+https://github.com/cmacdonald/DeepCT.git@tf1#egg=DeepCT->pyterrier-deepct==0.0.1) (1.0.1)\n",
      "Requirement already satisfied: setuptools>=41.0.0 in /usr/local/lib/python3.7/dist-packages (from tensorboard<1.16.0,>=1.15.0->tensorflow->DeepCT@ git+https://github.com/cmacdonald/DeepCT.git@tf1#egg=DeepCT->pyterrier-deepct==0.0.1) (57.4.0)\n",
      "Requirement already satisfied: markdown>=2.6.8 in /usr/local/lib/python3.7/dist-packages (from tensorboard<1.16.0,>=1.15.0->tensorflow->DeepCT@ git+https://github.com/cmacdonald/DeepCT.git@tf1#egg=DeepCT->pyterrier-deepct==0.0.1) (3.3.4)\n",
      "Requirement already satisfied: importlib-metadata in /usr/local/lib/python3.7/dist-packages (from markdown>=2.6.8->tensorboard<1.16.0,>=1.15.0->tensorflow->DeepCT@ git+https://github.com/cmacdonald/DeepCT.git@tf1#egg=DeepCT->pyterrier-deepct==0.0.1) (4.8.2)\n",
      "Requirement already satisfied: cached-property in /usr/local/lib/python3.7/dist-packages (from h5py->keras-applications>=1.0.8->tensorflow->DeepCT@ git+https://github.com/cmacdonald/DeepCT.git@tf1#egg=DeepCT->pyterrier-deepct==0.0.1) (1.5.2)\n",
      "Requirement already satisfied: zipp>=0.5 in /usr/local/lib/python3.7/dist-packages (from importlib-metadata->markdown>=2.6.8->tensorboard<1.16.0,>=1.15.0->tensorflow->DeepCT@ git+https://github.com/cmacdonald/DeepCT.git@tf1#egg=DeepCT->pyterrier-deepct==0.0.1) (3.6.0)\n",
      "Requirement already satisfied: typing-extensions>=3.6.4 in /usr/local/lib/python3.7/dist-packages (from importlib-metadata->markdown>=2.6.8->tensorboard<1.16.0,>=1.15.0->tensorflow->DeepCT@ git+https://github.com/cmacdonald/DeepCT.git@tf1#egg=DeepCT->pyterrier-deepct==0.0.1) (3.10.0.2)\n",
      "Building wheels for collected packages: pyterrier-deepct, DeepCT, gast\n",
      "  Building wheel for pyterrier-deepct (setup.py) ... \u001B[?25l\u001B[?25hdone\n",
      "  Created wheel for pyterrier-deepct: filename=pyterrier_deepct-0.0.1-py3-none-any.whl size=3473 sha256=d48f8efdd00500a24d0f284371956687ea63b69c1b4233e749d4d1711a4038ea\n",
      "  Stored in directory: /tmp/pip-ephem-wheel-cache-7kgot4c_/wheels/64/c2/a2/5ff6f8f55d7c2db53b357967d0fbaab04cce59ac718a505c6e\n",
      "  Building wheel for DeepCT (setup.py) ... \u001B[?25l\u001B[?25hdone\n",
      "  Created wheel for DeepCT: filename=DeepCT-0.1.0-py3-none-any.whl size=32072 sha256=4137eac64a609f416a4f8b2bb57ae987c0de1ec57b7c07c2647ae8cc311a8474\n",
      "  Stored in directory: /tmp/pip-ephem-wheel-cache-7kgot4c_/wheels/99/73/af/850a4f04590f50a4de0b6d69d784bde75a2ac2d9592d3e7c80\n",
      "  Building wheel for gast (setup.py) ... \u001B[?25l\u001B[?25hdone\n",
      "  Created wheel for gast: filename=gast-0.2.2-py3-none-any.whl size=7554 sha256=fd92614e6d130f6ef9be6a69c3b222a700250f54fd6833f9dada4fbb734f6073\n",
      "  Stored in directory: /root/.cache/pip/wheels/21/7f/02/420f32a803f7d0967b48dd823da3f558c5166991bfd204eef3\n",
      "Successfully built pyterrier-deepct DeepCT gast\n",
      "Installing collected packages: gast, DeepCT, pyterrier-deepct\n",
      "  Attempting uninstall: gast\n",
      "    Found existing installation: gast 0.4.0\n",
      "    Uninstalling gast-0.4.0:\n",
      "      Successfully uninstalled gast-0.4.0\n",
      "\u001B[31mERROR: pip's dependency resolver does not currently take into account all the packages that are installed. This behaviour is the source of the following dependency conflicts.\n",
      "kapre 0.3.5 requires tensorflow>=2.0.0, but you have tensorflow 1.15.2 which is incompatible.\u001B[0m\n",
      "Successfully installed DeepCT-0.1.0 gast-0.2.2 pyterrier-deepct-0.0.1\n"
     ]
    }
   ]
  },
  {
   "cell_type": "code",
   "metadata": {
    "colab": {
     "base_uri": "https://localhost:8080/"
    },
    "id": "C_g78wFLclOY",
    "outputId": "d6951d4e-519c-4e2e-9887-ff92bfb4275b"
   },
   "source": [
    "if not os.path.exists(\"marco.zip\"):\n",
    "  !wget http://boston.lti.cs.cmu.edu/appendices/arXiv2019-DeepCT-Zhuyun-Dai/outputs/marco.zip\n",
    "  !unzip marco.zip"
   ],
   "execution_count": 13,
   "outputs": [
    {
     "output_type": "stream",
     "name": "stdout",
     "text": [
      "--2021-11-17 09:23:14--  http://boston.lti.cs.cmu.edu/appendices/arXiv2019-DeepCT-Zhuyun-Dai/outputs/marco.zip\n",
      "Resolving boston.lti.cs.cmu.edu (boston.lti.cs.cmu.edu)... 128.2.207.139, 128.2.207.32\n",
      "Connecting to boston.lti.cs.cmu.edu (boston.lti.cs.cmu.edu)|128.2.207.139|:80... connected.\n",
      "HTTP request sent, awaiting response... 200 OK\n",
      "Length: 1237248594 (1.2G) [application/zip]\n",
      "Saving to: ‘marco.zip’\n",
      "\n",
      "marco.zip           100%[===================>]   1.15G  36.8MB/s    in 30s     \n",
      "\n",
      "2021-11-17 09:23:44 (39.8 MB/s) - ‘marco.zip’ saved [1237248594/1237248594]\n",
      "\n",
      "Archive:  marco.zip\n",
      "   creating: marco/\n",
      "  inflating: marco/checkpoint        \n",
      "  inflating: marco/graph.pbtxt       \n",
      "  inflating: marco/model.ckpt-65816.data-00000-of-00001  \n",
      "  inflating: marco/model.ckpt-65816.index  \n",
      "  inflating: marco/model.ckpt-65816.meta  \n",
      "  inflating: marco/train.tf_record   \n"
     ]
    }
   ]
  },
  {
   "cell_type": "code",
   "metadata": {
    "id": "WDmf_1vVQ9Uj"
   },
   "source": [
    "import pyterrier_deepct\n",
    "os.environ['TF_CPP_MIN_LOG_LEVEL'] = '2' \n",
    "import tensorflow as tf\n",
    "assert tf.__version__.startswith(\"1\"), \"TF 1 is required by DeepCT; on Colab, use %tensorflow_version 1.x\"\n",
    "tf.logging.set_verbosity(tf.logging.ERROR)\n",
    "deepct = pyterrier_deepct.DeepCTTransformer(\"bert-base-uncased/bert_config.json\", \"marco/model.ckpt-65816\")"
   ],
   "execution_count": 14,
   "outputs": []
  },
  {
   "cell_type": "code",
   "metadata": {
    "id": "Z495LjVET3yQ"
   },
   "source": [
    "super_df = test_df.copy()\n",
    "# super_df"
   ],
   "execution_count": 15,
   "outputs": []
  },
  {
   "cell_type": "code",
   "metadata": {
    "id": "7t-ZHtHSfFPW"
   },
   "source": [
    "# !rm -rf /content/pd_super_index"
   ],
   "execution_count": 16,
   "outputs": []
  },
  {
   "cell_type": "code",
   "metadata": {
    "colab": {
     "base_uri": "https://localhost:8080/",
     "height": 204
    },
    "id": "vovq5MPNN2PY",
    "outputId": "50c8ba25-4d71-44cc-8daa-14abe6723834"
   },
   "source": [
    "xd = test_df.head().copy()\n",
    "xd"
   ],
   "execution_count": 18,
   "outputs": [
    {
     "output_type": "execute_result",
     "data": {
      "text/html": [
       "<div>\n",
       "<style scoped>\n",
       "    .dataframe tbody tr th:only-of-type {\n",
       "        vertical-align: middle;\n",
       "    }\n",
       "\n",
       "    .dataframe tbody tr th {\n",
       "        vertical-align: top;\n",
       "    }\n",
       "\n",
       "    .dataframe thead th {\n",
       "        text-align: right;\n",
       "    }\n",
       "</style>\n",
       "<table border=\"1\" class=\"dataframe\">\n",
       "  <thead>\n",
       "    <tr style=\"text-align: right;\">\n",
       "      <th></th>\n",
       "      <th>docid</th>\n",
       "      <th>docno</th>\n",
       "      <th>text</th>\n",
       "    </tr>\n",
       "  </thead>\n",
       "  <tbody>\n",
       "    <tr>\n",
       "      <th>0</th>\n",
       "      <td>0</td>\n",
       "      <td>Sb38112c8-A443a9828</td>\n",
       "      <td>done</td>\n",
       "    </tr>\n",
       "    <tr>\n",
       "      <th>1</th>\n",
       "      <td>1</td>\n",
       "      <td>Sb38112c8-A48f87c39</td>\n",
       "      <td>let s get this over with</td>\n",
       "    </tr>\n",
       "    <tr>\n",
       "      <th>2</th>\n",
       "      <td>2</td>\n",
       "      <td>Sb38112c8-A85a910e8</td>\n",
       "      <td>you have not stated a resolution position you ...</td>\n",
       "    </tr>\n",
       "    <tr>\n",
       "      <th>3</th>\n",
       "      <td>3</td>\n",
       "      <td>Sb38112c8-A96d2d2c7</td>\n",
       "      <td>should schools have open campus why or why not...</td>\n",
       "    </tr>\n",
       "    <tr>\n",
       "      <th>4</th>\n",
       "      <td>4</td>\n",
       "      <td>S4468ab0b-Af7993e79</td>\n",
       "      <td>it seems we are at an impasse 1 in rounds 1 3 ...</td>\n",
       "    </tr>\n",
       "  </tbody>\n",
       "</table>\n",
       "</div>"
      ],
      "text/plain": [
       "  docid                docno                                               text\n",
       "0     0  Sb38112c8-A443a9828                                               done\n",
       "1     1  Sb38112c8-A48f87c39                           let s get this over with\n",
       "2     2  Sb38112c8-A85a910e8  you have not stated a resolution position you ...\n",
       "3     3  Sb38112c8-A96d2d2c7  should schools have open campus why or why not...\n",
       "4     4  S4468ab0b-Af7993e79  it seems we are at an impasse 1 in rounds 1 3 ..."
      ]
     },
     "metadata": {},
     "execution_count": 18
    }
   ]
  },
  {
   "cell_type": "code",
   "metadata": {
    "colab": {
     "base_uri": "https://localhost:8080/",
     "height": 204
    },
    "id": "hWQAu8UWN7Dg",
    "outputId": "7197decc-2fa0-4629-cb94-674b6b5c820b"
   },
   "source": [
    "deepct.transform(xd)"
   ],
   "execution_count": 19,
   "outputs": [
    {
     "output_type": "execute_result",
     "data": {
      "text/html": [
       "<div>\n",
       "<style scoped>\n",
       "    .dataframe tbody tr th:only-of-type {\n",
       "        vertical-align: middle;\n",
       "    }\n",
       "\n",
       "    .dataframe tbody tr th {\n",
       "        vertical-align: top;\n",
       "    }\n",
       "\n",
       "    .dataframe thead th {\n",
       "        text-align: right;\n",
       "    }\n",
       "</style>\n",
       "<table border=\"1\" class=\"dataframe\">\n",
       "  <thead>\n",
       "    <tr style=\"text-align: right;\">\n",
       "      <th></th>\n",
       "      <th>docno</th>\n",
       "      <th>text</th>\n",
       "    </tr>\n",
       "  </thead>\n",
       "  <tbody>\n",
       "    <tr>\n",
       "      <th>0</th>\n",
       "      <td>Sb38112c8-A443a9828</td>\n",
       "      <td>done done done done done done done done done d...</td>\n",
       "    </tr>\n",
       "    <tr>\n",
       "      <th>1</th>\n",
       "      <td>Sb38112c8-A48f87c39</td>\n",
       "      <td>let let let let s s s s s get get get get get ...</td>\n",
       "    </tr>\n",
       "    <tr>\n",
       "      <th>2</th>\n",
       "      <td>Sb38112c8-A85a910e8</td>\n",
       "      <td>have not not stated stated stated stated state...</td>\n",
       "    </tr>\n",
       "    <tr>\n",
       "      <th>3</th>\n",
       "      <td>Sb38112c8-A96d2d2c7</td>\n",
       "      <td>schools schools schools schools schools school...</td>\n",
       "    </tr>\n",
       "    <tr>\n",
       "      <th>4</th>\n",
       "      <td>S4468ab0b-Af7993e79</td>\n",
       "      <td>at impasse impasse impasse impasse impasse imp...</td>\n",
       "    </tr>\n",
       "  </tbody>\n",
       "</table>\n",
       "</div>"
      ],
      "text/plain": [
       "                 docno                                               text\n",
       "0  Sb38112c8-A443a9828  done done done done done done done done done d...\n",
       "1  Sb38112c8-A48f87c39  let let let let s s s s s get get get get get ...\n",
       "2  Sb38112c8-A85a910e8  have not not stated stated stated stated state...\n",
       "3  Sb38112c8-A96d2d2c7  schools schools schools schools schools school...\n",
       "4  S4468ab0b-Af7993e79  at impasse impasse impasse impasse impasse imp..."
      ]
     },
     "metadata": {},
     "execution_count": 19
    }
   ]
  },
  {
   "cell_type": "code",
   "metadata": {
    "id": "7UAavNi-UALk"
   },
   "source": [
    "super_df = deepct.transform(super_df)"
   ],
   "execution_count": null,
   "outputs": []
  },
  {
   "cell_type": "code",
   "metadata": {
    "id": "8j8L96KO_LbH"
   },
   "source": [
    "super_df.to_csv(index=False, path_or_buf='/content/drive/MyDrive/workspace/superdf.csv')"
   ],
   "execution_count": null,
   "outputs": []
  },
  {
   "cell_type": "code",
   "metadata": {
    "id": "TrLAuX2sfgnx"
   },
   "source": [
    "super_df"
   ],
   "execution_count": null,
   "outputs": []
  },
  {
   "cell_type": "code",
   "metadata": {
    "id": "Yyw5rtTmdUDL"
   },
   "source": [
    "pd_super_indexer = pt.DFIndexer(\"./pd_super_index\")\n",
    "index_super_ref = pd_super_indexer.index(super_df[\"text\"], super_df[\"docno\"])"
   ],
   "execution_count": null,
   "outputs": []
  },
  {
   "cell_type": "code",
   "metadata": {
    "id": "Doi_SnJJdjEI"
   },
   "source": [
    "index_super = pt.IndexFactory.of(index_super_ref)"
   ],
   "execution_count": null,
   "outputs": []
  },
  {
   "cell_type": "code",
   "metadata": {
    "id": "KlXd1_8pdnbK"
   },
   "source": [
    "retr_super = pt.BatchRetrieve(index_super, controls = {\"wmodel\": \"BM25\"})\n",
    "res_super=retr_super.transform(topics)"
   ],
   "execution_count": null,
   "outputs": []
  },
  {
   "cell_type": "code",
   "metadata": {
    "id": "HOLUBhDHdsJk"
   },
   "source": [
    "res_super"
   ],
   "execution_count": null,
   "outputs": []
  },
  {
   "cell_type": "code",
   "metadata": {
    "id": "1A7ZOFp9Q5Fd"
   },
   "source": [
    "# # dataset = pt.get_dataset(\"irds:vaswani\")\n",
    "# # index_loc = \"./deepct_index_path\"\n",
    "# indexer = deepct >> pd_indexer\n",
    "# indexref = pd_indexer.index(test_df[\"text\"], test_df[\"docno\"])\n"
   ],
   "execution_count": null,
   "outputs": []
  }
 ]
}
