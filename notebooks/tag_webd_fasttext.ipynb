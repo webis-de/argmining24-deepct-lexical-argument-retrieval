{
 "cells": [
  {
   "cell_type": "code",
   "execution_count": null,
   "id": "8f5f4747",
   "metadata": {},
   "outputs": [
    {
     "name": "stderr",
     "output_type": "stream",
     "text": [
      " 26%|██████████████████▋                                                     | 87946/338620 [3:50:57<7:24:18,  9.40it/s]"
     ]
    }
   ],
   "source": [
    "import pandas as pd\n",
    "import json\n",
    "import requests\n",
    "from tqdm import tqdm\n",
    "import time\n",
    "path = '/workspace/'\n",
    "df = pd.read_csv(path + 'corpus.csv')\n",
    "url = \"https://demo.webis.de/targer-api/targer-api/\" \n",
    "headers = {\"accept\" : \"application/json\", \"Content-Type\": \"text/plain\"} \n",
    "tagger = 'tag-webd-fasttext'\n",
    "######\n",
    "tagged_df = df.copy()\n",
    "all_claims = []\n",
    "all_premises = []\n",
    "for i, text in tqdm(enumerate(tagged_df['text']),total = 338620):\n",
    "    converted = True\n",
    "    try:\n",
    "        data = requests.post(url+tagger, headers=headers, data=text.encode('utf-8'))\n",
    "        data = data.json()\n",
    "    except:\n",
    "        converted = False\n",
    "        while (converted == False):\n",
    "            time.sleep(1)\n",
    "            try:\n",
    "                data = requests.post(url+tagger, headers=headers, data=text.encode('utf-8'))\n",
    "                data = data.json()\n",
    "                converted = True\n",
    "                print(i)\n",
    "                print('Current TimeStamp is : %d-%d-%d %d:%d:%d' % (timeObj.tm_mday, timeObj.tm_mon, timeObj.tm_year, timeObj.tm_hour, timeObj.tm_min, timeObj.tm_sec))\n",
    "            except:\n",
    "                pass\n",
    "    claims = []\n",
    "    premises = []\n",
    "    for chunk in data:\n",
    "        for description in chunk:\n",
    "            label = description['label']\n",
    "            token = description['token']\n",
    "            if(label[0] == 'C' or label[:2] == 'MC'):\n",
    "                claims.append(token)\n",
    "            elif(label[0] == 'P'):\n",
    "                premises.append(token)\n",
    "    all_claims.append(claims)\n",
    "    all_premises.append(premises)\n",
    "    all_premises.append(premises)\n",
    "    \n",
    "text_all_claims = []\n",
    "text_all_premises = []\n",
    "for claim, premise in zip(all_claims, all_premises):\n",
    "    text_all_claims.append(' '.join(claim))\n",
    "    text_all_premises.append(' '.join(premise))\n",
    "    \n",
    "tagged_df['claims'] = text_all_claims\n",
    "tagged_df['premises'] = text_all_premises\n",
    "\n",
    "tagged_df.to_csv(path_or_buf = path + tagger + '.csv')"
   ]
  }
 ],
 "metadata": {
  "kernelspec": {
   "display_name": "Python 3 (ipykernel)",
   "language": "python",
   "name": "python3"
  },
  "language_info": {
   "codemirror_mode": {
    "name": "ipython",
    "version": 3
   },
   "file_extension": ".py",
   "mimetype": "text/x-python",
   "name": "python",
   "nbconvert_exporter": "python",
   "pygments_lexer": "ipython3",
   "version": "3.9.7"
  }
 },
 "nbformat": 4,
 "nbformat_minor": 5
}
