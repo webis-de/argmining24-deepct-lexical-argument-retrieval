{
 "cells": [
  {
   "cell_type": "code",
   "execution_count": 96,
   "id": "d177086cb593403a",
   "metadata": {
    "ExecuteTime": {
     "end_time": "2023-10-17T15:59:06.689317832Z",
     "start_time": "2023-10-17T15:59:06.605294079Z"
    },
    "collapsed": false
   },
   "outputs": [],
   "source": [
    "from itertools import groupby\n",
    "from math import inf\n",
    "from pathlib import Path\n",
    "from typing import NamedTuple\n",
    "from tira.rest_api_client import Client\n",
    "\n",
    "from ir_datasets import load\n",
    "from ir_measures import Measure, nDCG, Bpref, define_byquery, P, Judged, Recall\n",
    "from pandas import read_csv, DataFrame\n",
    "from tqdm.auto import tqdm"
   ]
  },
  {
   "cell_type": "code",
   "execution_count": 97,
   "id": "f8ba2c29",
   "metadata": {},
   "outputs": [],
   "source": [
    "class RunConf(NamedTuple):\n",
    "    year: int\n",
    "    model: str\n",
    "    transformation: str\n",
    "    path: Path"
   ]
  },
  {
   "cell_type": "code",
   "execution_count": 98,
   "id": "8d93f2fb",
   "metadata": {},
   "outputs": [],
   "source": [
    "tira_client = Client()"
   ]
  },
  {
   "cell_type": "code",
   "execution_count": 99,
   "id": "70b2e2d0",
   "metadata": {},
   "outputs": [],
   "source": [
    "runs_path = Path(\"../data/runs_saved\")"
   ]
  },
  {
   "cell_type": "code",
   "execution_count": 110,
   "id": "initial_id",
   "metadata": {
    "ExecuteTime": {
     "end_time": "2023-10-17T11:30:58.656724127Z",
     "start_time": "2023-10-17T11:30:58.549426104Z"
    },
    "collapsed": true
   },
   "outputs": [],
   "source": [
    "run_confs = (\n",
    "    RunConf(\n",
    "        year=2020,\n",
    "        model=r\"BM25\",\n",
    "        transformation=r\"n/a\",\n",
    "        path=Path(tira_client.get_run_output(\n",
    "            approach=\"ir-benchmarks/tira-ir-starter/BM25 (tira-ir-starter-pyterrier)\",\n",
    "            dataset=\"argsme-touche-2020-task-1-20230209-training\"\n",
    "        )) / \"run.txt\"\n",
    "    ),\n",
    "    RunConf(\n",
    "        year=2020,\n",
    "        model=r\"BM25\",\n",
    "        transformation=r\"With pools + T \\& C\",\n",
    "        path=runs_path / \"topics_conclusion_tuned_bm25.csv\"\n",
    "    ),\n",
    "    RunConf(\n",
    "        year=2020,\n",
    "        model=r\"BM25 + RM3\",\n",
    "        transformation=r\"With pools + T \\& C\",\n",
    "        path=runs_path / \"topics_conclusion_tuned_bm_rm3.csv\"\n",
    "    ),\n",
    "    RunConf(\n",
    "        year=2020,\n",
    "        model=r\"DLM\",\n",
    "        transformation=r\"n/a\",\n",
    "        path=Path(tira_client.get_run_output(\n",
    "            approach=\"ir-benchmarks/tira-ir-starter/DirichletLM (tira-ir-starter-pyterrier)\",\n",
    "            dataset=\"argsme-touche-2020-task-1-20230209-training\"\n",
    "        )) / \"run.txt\"\n",
    "    ),\n",
    "    RunConf(\n",
    "        year=2020,\n",
    "        model=r\"DLM\",\n",
    "        transformation=r\"With pools + T \\& C\",\n",
    "        path=runs_path / \"topics_conclusion_tuned_dlm.csv\"\n",
    "    ),\n",
    "    RunConf(\n",
    "        year=2020,\n",
    "        model=r\"DLM + RM3\",\n",
    "        transformation=r\"All doc.\\ + C\",\n",
    "        path=runs_path / \"conclusions_leakage_tuned_dlm_rm3.csv\"\n",
    "    ),\n",
    "    RunConf(\n",
    "        year=2020,\n",
    "        model=r\"BM25 + monoBERT\",\n",
    "        transformation=r\"n/a\",\n",
    "        path=Path(tira_client.get_run_output(\n",
    "            approach=\"ir-benchmarks/tira-ir-starter/MonoBERT Large (tira-ir-starter-gygaggle)\",\n",
    "            dataset=\"argsme-touche-2020-task-1-20230209-training\"\n",
    "        )) / \"run.txt\"\n",
    "    ),\n",
    "    RunConf(\n",
    "        year=2020,\n",
    "        model=r\"BM25 + monoT5\",\n",
    "        transformation=r\"n/a\",\n",
    "        path=Path(tira_client.get_run_output(\n",
    "            approach=\"ir-benchmarks/tira-ir-starter/MonoT5 3b (tira-ir-starter-gygaggle)\",\n",
    "            dataset=\"argsme-touche-2020-task-1-20230209-training\"\n",
    "        )) / \"run.txt\"\n",
    "    ),\n",
    "    RunConf(\n",
    "        year=2020,\n",
    "        model=r\"BM25 + LiT5\",\n",
    "        transformation=r\"n/a\",\n",
    "        path=Path(tira_client.get_run_output(\n",
    "            approach=\"ir-benchmarks/fschlatt/castorini-list-in-t5-300\",\n",
    "            dataset=\"argsme-touche-2020-task-1-20230209-training\"\n",
    "        )) / \"run.txt\"\n",
    "    ),\n",
    "    RunConf(\n",
    "        year=2020,\n",
    "        model=r\"ColBERT\",\n",
    "        transformation=r\"n/a\",\n",
    "        path=Path(tira_client.get_run_output(\n",
    "            approach=\"ir-benchmarks/tira-ir-starter/ColBERT Re-Rank (tira-ir-starter-pyterrier)\",\n",
    "            dataset=\"argsme-touche-2020-task-1-20230209-training\"\n",
    "        )) / \"run.txt\"\n",
    "    ),\n",
    "    RunConf(\n",
    "        year=2021,\n",
    "        model=r\"BM25\",\n",
    "        transformation=r\"n/a\",\n",
    "        path=Path(tira_client.get_run_output(\n",
    "            approach=\"ir-benchmarks/tira-ir-starter/BM25 (tira-ir-starter-pyterrier)\",\n",
    "            dataset=\"argsme-touche-2021-task-1-20230209-training\"\n",
    "        )) / \"run.txt\"\n",
    "    ),\n",
    "    RunConf(\n",
    "        year=2021,\n",
    "        model=r\"BM25\",\n",
    "        transformation=r\"Without pools + T \\& C\",\n",
    "        path=runs_path / \"pool_topics_conclusions_tuned_bm25.csv\"\n",
    "    ),\n",
    "    RunConf(\n",
    "        year=2021,\n",
    "        model=r\"BM25 + RM3\",\n",
    "        transformation=r\"With pools + T \\& C\",\n",
    "        path=runs_path / \"topics_conclusion_tuned_bm_rm3.csv\"\n",
    "    ),\n",
    "    RunConf(\n",
    "        year=2021,\n",
    "        model=r\"DLM\",\n",
    "        transformation=r\"n/a\",\n",
    "        path=Path(tira_client.get_run_output(\n",
    "            approach=\"ir-benchmarks/tira-ir-starter/DirichletLM (tira-ir-starter-pyterrier)\",\n",
    "            dataset=\"argsme-touche-2021-task-1-20230209-training\"\n",
    "        )) / \"run.txt\"\n",
    "    ),\n",
    "    RunConf(\n",
    "        year=2021,\n",
    "        model=r\"DLM\",\n",
    "        transformation=r\"All doc. + T \\& C\",\n",
    "        path=runs_path / \"topics_conclusion_leakage_tuned_dlm.csv\"\n",
    "    ),\n",
    "    RunConf(\n",
    "        year=2021,\n",
    "        model=r\"DLM + RM3\",\n",
    "        transformation=r\"All doc.\\ + T \\& C\",\n",
    "        path=runs_path / \"topics_conclusion_leakage_tuned_dlm_rm3.csv\"\n",
    "    ),\n",
    "    # RunConf(\n",
    "    #     year=2021,\n",
    "    #     model=r\"monoBERT\",\n",
    "    #     transformation=r\"n/a\",\n",
    "    #     path=Path(tira_client.get_run_output(\n",
    "    #         approach=\"ir-benchmarks/tira-ir-starter/MonoBERT Large (tira-ir-starter-gygaggle)\",\n",
    "    #         dataset=\"argsme-touche-2021-task-1-20230209-training\"\n",
    "    #     )) / \"run.txt\"\n",
    "    # ),\n",
    "    # RunConf(\n",
    "    #     year=2021,\n",
    "    #     model=r\"monoT5\",\n",
    "    #     transformation=r\"n/a\",\n",
    "    #     path=Path(tira_client.get_run_output(\n",
    "    #         approach=\"ir-benchmarks/tira-ir-starter/MonoT5 3b (tira-ir-starter-gygaggle)\",\n",
    "    #         dataset=\"argsme-touche-2021-task-1-20230209-training\"\n",
    "    #     )) / \"run.txt\"\n",
    "    # ),\n",
    "    # RunConf(\n",
    "    #     year=2021,\n",
    "    #     model=r\"LiT5\",\n",
    "    #     transformation=r\"n/a\",\n",
    "    #     path=Path(tira_client.get_run_output(\n",
    "    #         approach=\"ir-benchmarks/fschlatt/castorini-list-in-t5-300\",\n",
    "    #         dataset=\"argsme-touche-2021-task-1-20230209-training\"\n",
    "    #     )) / \"run.txt\"\n",
    "    # ),\n",
    "    # RunConf(\n",
    "    #     year=2021,\n",
    "    #     model=r\"ColBERT\",\n",
    "    #     transformation=r\"n/a\",\n",
    "    #     path=Path(tira_client.get_run_output(\n",
    "    #         approach=\"ir-benchmarks/tira-ir-starter/ColBERT Re-Rank (tira-ir-starter-pyterrier)\",\n",
    "    #         dataset=\"argsme-touche-2021-task-1-20230209-training\"\n",
    "    #     )) / \"run.txt\"\n",
    "    # ),\n",
    ")"
   ]
  },
  {
   "cell_type": "code",
   "execution_count": 111,
   "id": "e506435fed99d1a5",
   "metadata": {
    "ExecuteTime": {
     "end_time": "2023-10-17T19:55:55.631518301Z",
     "start_time": "2023-10-17T19:55:55.585836716Z"
    },
    "collapsed": false
   },
   "outputs": [],
   "source": [
    "def read_run(path: Path) -> DataFrame:\n",
    "    if path.suffix == \".csv\":\n",
    "        df = read_csv(path)\n",
    "        df[\"query_id\"] = df[\"qid\"].astype(str)\n",
    "        df[\"doc_id\"] = df[\"docno\"].astype(str)\n",
    "        df = df[df[\"query_id\"] != \"25\"]  # Unjudged topic from 2020.\n",
    "        return df\n",
    "    elif path.suffix == \".txt\":\n",
    "        df = read_csv(path, sep=\"\\s+\", names=[\"query_id\", None, \"doc_id\", \"rank\", \"score\", \"name\"])\n",
    "        df[\"query_id\"] = df[\"query_id\"].astype(str)\n",
    "        df[\"doc_id\"] = df[\"doc_id\"].astype(str)\n",
    "        df = df[df[\"query_id\"] != \"25\"]  # Unjudged topic from 2020.\n",
    "        return df\n",
    "    else:\n",
    "        raise RuntimeError(\"Run file not supported.\")\n",
    "\n",
    "    "
   ]
  },
  {
   "cell_type": "code",
   "execution_count": 112,
   "id": "d8a25556f9439320",
   "metadata": {
    "ExecuteTime": {
     "end_time": "2023-10-17T19:55:59.043813215Z",
     "start_time": "2023-10-17T19:55:55.626520487Z"
    },
    "collapsed": false
   },
   "outputs": [],
   "source": [
    "runs = {\n",
    "    run_conf: read_run(run_conf.path)\n",
    "    for run_conf in run_confs\n",
    "}"
   ]
  },
  {
   "cell_type": "code",
   "execution_count": 113,
   "id": "4363078f52400d0d",
   "metadata": {
    "ExecuteTime": {
     "end_time": "2023-10-17T16:08:45.264598449Z",
     "start_time": "2023-10-17T16:08:45.024052442Z"
    },
    "collapsed": false
   },
   "outputs": [],
   "source": [
    "touche_runs_paths = {\n",
    "    2020: Path(\"../data/runs_touche/2020\"),\n",
    "    2021: Path(\"../data/runs_touche/2021\"),\n",
    "}"
   ]
  },
  {
   "cell_type": "code",
   "execution_count": 114,
   "id": "50a9de60f9292db2",
   "metadata": {
    "ExecuteTime": {
     "end_time": "2023-10-17T19:53:56.202517969Z",
     "start_time": "2023-10-17T19:53:56.160920310Z"
    },
    "collapsed": false
   },
   "outputs": [],
   "source": [
    "def read_touche_run(path: Path) -> DataFrame:\n",
    "    df = read_csv(path, sep=\" \", header=None, names=[\"qid\", \"Q0\", \"docno\", \"rank\", \"score\", \"run_id\"])\n",
    "    df[\"query_id\"] = df[\"qid\"].astype(str)\n",
    "    df[\"doc_id\"] = df[\"docno\"].astype(str)\n",
    "    df = df[df[\"query_id\"] != \"25\"]  # Unjudged topic from 2020.\n",
    "    return df"
   ]
  },
  {
   "cell_type": "code",
   "execution_count": 115,
   "id": "4a1f1508",
   "metadata": {},
   "outputs": [
    {
     "data": {
      "application/vnd.jupyter.widget-view+json": {
       "model_id": "cd540bed17374412b4a5203f3125068d",
       "version_major": 2,
       "version_minor": 0
      },
      "text/plain": [
       "  0%|          | 0/12 [00:00<?, ?it/s]"
      ]
     },
     "metadata": {},
     "output_type": "display_data"
    },
    {
     "data": {
      "application/vnd.jupyter.widget-view+json": {
       "model_id": "eb57af6f9bbc4daebed5647292747152",
       "version_major": 2,
       "version_minor": 0
      },
      "text/plain": [
       "  0%|          | 0/71 [00:00<?, ?it/s]"
      ]
     },
     "metadata": {},
     "output_type": "display_data"
    }
   ],
   "source": [
    "touche_runs = {\n",
    "    year: [\n",
    "        (f\"{run_path.parent.stem.replace('-', ' ')} {run_path.stem[:-1]} {run_path.stem[-1]}\", read_touche_run(run_path))\n",
    "        for run_path in tqdm(list(path.rglob(\"run*.txt\")))\n",
    "    ]\n",
    "    for year, path in touche_runs_paths.items()\n",
    "}"
   ]
  },
  {
   "cell_type": "code",
   "execution_count": 116,
   "id": "bb09c554d862935c",
   "metadata": {
    "ExecuteTime": {
     "end_time": "2023-10-17T19:55:59.064104312Z",
     "start_time": "2023-10-17T19:55:59.048996480Z"
    },
    "collapsed": false
   },
   "outputs": [],
   "source": [
    "datasets = {\n",
    "    2020: load(\"argsme/2020-04-01/touche-2020-task-1\"),\n",
    "    2021: load(\"argsme/2020-04-01/touche-2021-task-1\"),\n",
    "}"
   ]
  },
  {
   "cell_type": "code",
   "execution_count": 117,
   "id": "213478bcb4d5d6f2",
   "metadata": {
    "ExecuteTime": {
     "end_time": "2023-10-17T19:55:59.122363366Z",
     "start_time": "2023-10-17T19:55:59.061974306Z"
    },
    "collapsed": false
   },
   "outputs": [
    {
     "name": "stdout",
     "output_type": "stream",
     "text": [
      "/home/heinrich/.ir_datasets/touche/2020/task-1/qrels.qrels\n"
     ]
    }
   ],
   "source": [
    "qrels = {\n",
    "    year: dataset.qrels_dict()\n",
    "    for year, dataset in datasets.items()\n",
    "}"
   ]
  },
  {
   "cell_type": "code",
   "execution_count": 123,
   "id": "e2041a278568b76",
   "metadata": {
    "ExecuteTime": {
     "end_time": "2023-10-17T19:55:59.212495206Z",
     "start_time": "2023-10-17T19:55:59.166619378Z"
    },
    "collapsed": false
   },
   "outputs": [],
   "source": [
    "class MeasureConf(NamedTuple):\n",
    "    name: str\n",
    "    measure: Measure\n",
    "    maximize: bool\n",
    "\n",
    "\n",
    "def _hole_impl(qrels: DataFrame, run: DataFrame):\n",
    "    query_document_ids = set((qrels[\"query_id\"] + qrels[\"doc_id\"]).unique())\n",
    "    return len(run[~(run[\"query_id\"] + run[\"doc_id\"]).isin(query_document_ids)]) / len(run)\n",
    "\n",
    "\n",
    "Hole = define_byquery(impl=_hole_impl, name=\"Hole\", support_cutoff=True)\n",
    "\n",
    "measure_confs = (\n",
    "    # MeasureConf(r\"Recall@100\", Recall(judged_only=True) @ 100, True),\n",
    "    # MeasureConf(r\"Recall@1000\", Recall(judged_only=True) @ 1000, True),\n",
    "    MeasureConf(r\"nDCG@5\", nDCG(judged_only=True) @ 5, True),\n",
    "    # MeasureConf(r\"P@3\", P(judged_only=True) @ 3, True),\n",
    "    # MeasureConf(r\"P@5\", P(judged_only=True) @ 5, True),\n",
    "    # MeasureConf(r\"bpref\", Bpref, True),\n",
    "    # MeasureConf(r\"judged@5\", Judged @ 5, False),\n",
    ")"
   ]
  },
  {
   "cell_type": "code",
   "execution_count": 124,
   "id": "89be739946d4b901",
   "metadata": {
    "ExecuteTime": {
     "end_time": "2023-10-17T19:59:25.368750501Z",
     "start_time": "2023-10-17T19:58:50.365790391Z"
    },
    "collapsed": false
   },
   "outputs": [
    {
     "name": "stdout",
     "output_type": "stream",
     "text": [
      "  &  & nDCG@5 \\\\\n",
      "  \\midrule\n",
      "  \\multicolumn{5}{c}{2020} \\\\\n",
      "  \\midrule\n",
      "  BM25 & --- & 0.84 \\\\\n",
      "  BM25 & With pools + T \\& C & 0.84 \\\\\n",
      "  BM25 + RM3 & With pools + T \\& C & 0.87 \\\\\n",
      "  DLM & --- & 0.85 \\\\\n",
      "  DLM & With pools + T \\& C & 0.82 \\\\\n",
      "  DLM + RM3 & All doc.\\ + C & 0.88 \\\\\n",
      "  Best Touch{\\'e} & --- & 0.83 \\\\\n",
      "  \\midrule\n",
      "  \\multicolumn{5}{c}{2021} \\\\\n",
      "  \\midrule\n",
      "  BM25 & --- & 0.67 \\\\\n",
      "  BM25 & Without pools + T \\& C & 0.74 \\\\\n",
      "  BM25 + RM3 & With pools + T \\& C & 0.74 \\\\\n",
      "  DLM & --- & 0.68 \\\\\n",
      "  DLM & All doc. + T \\& C & 0.74 \\\\\n",
      "  DLM + RM3 & All doc.\\ + T \\& C & 0.70 \\\\\n",
      "  Best Touch{\\'e} & --- & 0.74 \\\\\n"
     ]
    }
   ],
   "source": [
    "print(r\"  & \", end=\"\")\n",
    "for measure_conf in measure_confs:\n",
    "    print(r\" & \" + measure_conf.name, end=\"\")\n",
    "print(r\" \\\\\")\n",
    "for year, run_conf_group in groupby(run_confs, lambda run_conf: run_conf.year):\n",
    "    print(r\"  \\midrule\")\n",
    "    print(r\"  \\multicolumn{5}{c}{\" + f\"{year}\" + r\"} \\\\\")\n",
    "    print(r\"  \\midrule\")\n",
    "    qrel = qrels[year]\n",
    "    query_document_ids = {\n",
    "        f\"{query_id}{doc_id}\"\n",
    "        for query_id, doc_rel in qrel.items()\n",
    "        for doc_id, _ in doc_rel.items()\n",
    "    }\n",
    "    for run_conf in run_conf_group:\n",
    "        cols = [\n",
    "            run_conf.model,\n",
    "            run_conf.transformation,\n",
    "        ]\n",
    "        run = runs[run_conf]\n",
    "        for measure_conf in measure_confs:\n",
    "            aggregated = measure_conf.measure.calc_aggregate(qrel, run)\n",
    "            cols += [f\"{aggregated:.2f}\"]\n",
    "        print(r\"  \" + r\" & \".join(cols) + r\" \\\\\")\n",
    "    cols = [\n",
    "        r\"Best Touch{\\'e}\",\n",
    "        r\"n/a\",\n",
    "    ]\n",
    "    for measure_conf in measure_confs:\n",
    "        metrics = (\n",
    "            (run_name, measure_conf.measure.calc_aggregate(qrels[year], run))\n",
    "            for run_name, run in touche_runs[year]\n",
    "        )\n",
    "        best = max if measure_conf.maximize else min\n",
    "        best_name, best_metric = best(metrics, key=lambda name_metric: name_metric[1])\n",
    "        # print(best_name, measure_conf)\n",
    "        cols += [f\"{best_metric:.2f}\"]\n",
    "    print(r\"  \" + r\" & \".join(cols) + r\" \\\\\")"
   ]
  },
  {
   "cell_type": "code",
   "execution_count": null,
   "id": "3c08506c536ab5c3",
   "metadata": {
    "collapsed": false
   },
   "outputs": [],
   "source": []
  }
 ],
 "metadata": {
  "kernelspec": {
   "display_name": "Python 3",
   "language": "python",
   "name": "python3"
  },
  "language_info": {
   "codemirror_mode": {
    "name": "ipython",
    "version": 3
   },
   "file_extension": ".py",
   "mimetype": "text/x-python",
   "name": "python",
   "nbconvert_exporter": "python",
   "pygments_lexer": "ipython3",
   "version": "3.11.0rc1"
  }
 },
 "nbformat": 4,
 "nbformat_minor": 5
}
