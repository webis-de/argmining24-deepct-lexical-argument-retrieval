{
 "nbformat": 4,
 "nbformat_minor": 0,
 "metadata": {
  "colab": {
   "name": "webis_remove_unjudged.ipynb",
   "provenance": []
  },
  "kernelspec": {
   "name": "python3",
   "display_name": "Python 3"
  },
  "language_info": {
   "name": "python"
  }
 },
 "cells": [
  {
   "cell_type": "code",
   "metadata": {
    "colab": {
     "base_uri": "https://localhost:8080/"
    },
    "id": "gwx_1Zfpm7Lj",
    "outputId": "18f8e608-70ee-41b4-a21c-fe561eb60fb0"
   },
   "source": [
    "import pyterrier as pt\n",
    "if not pt.started():\n",
    "  pt.init()"
   ],
   "execution_count": null,
   "outputs": [
    {
     "output_type": "stream",
     "name": "stdout",
     "text": [
      "Collecting ijson\n",
      "  Downloading ijson-3.1.4-cp37-cp37m-manylinux2010_x86_64.whl (126 kB)\n",
      "\u001B[?25l\r\u001B[K     |██▋                             | 10 kB 24.0 MB/s eta 0:00:01\r\u001B[K     |█████▏                          | 20 kB 27.0 MB/s eta 0:00:01\r\u001B[K     |███████▉                        | 30 kB 20.3 MB/s eta 0:00:01\r\u001B[K     |██████████▍                     | 40 kB 17.3 MB/s eta 0:00:01\r\u001B[K     |█████████████                   | 51 kB 8.2 MB/s eta 0:00:01\r\u001B[K     |███████████████▋                | 61 kB 7.7 MB/s eta 0:00:01\r\u001B[K     |██████████████████▏             | 71 kB 8.3 MB/s eta 0:00:01\r\u001B[K     |████████████████████▊           | 81 kB 9.2 MB/s eta 0:00:01\r\u001B[K     |███████████████████████▍        | 92 kB 9.6 MB/s eta 0:00:01\r\u001B[K     |██████████████████████████      | 102 kB 7.7 MB/s eta 0:00:01\r\u001B[K     |████████████████████████████▌   | 112 kB 7.7 MB/s eta 0:00:01\r\u001B[K     |███████████████████████████████▏| 122 kB 7.7 MB/s eta 0:00:01\r\u001B[K     |████████████████████████████████| 126 kB 7.7 MB/s \n",
      "\u001B[?25hInstalling collected packages: ijson\n",
      "Successfully installed ijson-3.1.4\n",
      "Collecting python-terrier\n",
      "  Downloading python-terrier-0.7.1.tar.gz (95 kB)\n",
      "\u001B[K     |████████████████████████████████| 95 kB 3.8 MB/s \n",
      "\u001B[?25hRequirement already satisfied: numpy in /usr/local/lib/python3.7/dist-packages (from python-terrier) (1.19.5)\n",
      "Requirement already satisfied: pandas in /usr/local/lib/python3.7/dist-packages (from python-terrier) (1.1.5)\n",
      "Collecting wget\n",
      "  Downloading wget-3.2.zip (10 kB)\n",
      "Requirement already satisfied: tqdm in /usr/local/lib/python3.7/dist-packages (from python-terrier) (4.62.3)\n",
      "Collecting pyjnius~=1.3.0\n",
      "  Downloading pyjnius-1.3.0-cp37-cp37m-manylinux2010_x86_64.whl (1.1 MB)\n",
      "\u001B[K     |████████████████████████████████| 1.1 MB 52.2 MB/s \n",
      "\u001B[?25hCollecting matchpy\n",
      "  Downloading matchpy-0.5.5-py3-none-any.whl (69 kB)\n",
      "\u001B[K     |████████████████████████████████| 69 kB 8.8 MB/s \n",
      "\u001B[?25hRequirement already satisfied: sklearn in /usr/local/lib/python3.7/dist-packages (from python-terrier) (0.0)\n",
      "Collecting deprecation\n",
      "  Downloading deprecation-2.1.0-py2.py3-none-any.whl (11 kB)\n",
      "Collecting chest\n",
      "  Downloading chest-0.2.3.tar.gz (9.6 kB)\n",
      "Requirement already satisfied: scipy in /usr/local/lib/python3.7/dist-packages (from python-terrier) (1.4.1)\n",
      "Requirement already satisfied: requests in /usr/local/lib/python3.7/dist-packages (from python-terrier) (2.23.0)\n",
      "Requirement already satisfied: joblib in /usr/local/lib/python3.7/dist-packages (from python-terrier) (1.1.0)\n",
      "Collecting nptyping\n",
      "  Downloading nptyping-1.4.4-py3-none-any.whl (31 kB)\n",
      "Requirement already satisfied: more_itertools in /usr/local/lib/python3.7/dist-packages (from python-terrier) (8.11.0)\n",
      "Collecting ir_datasets>=0.3.2\n",
      "  Downloading ir_datasets-0.4.3-py3-none-any.whl (222 kB)\n",
      "\u001B[K     |████████████████████████████████| 222 kB 56.4 MB/s \n",
      "\u001B[?25hRequirement already satisfied: jinja2 in /usr/local/lib/python3.7/dist-packages (from python-terrier) (2.11.3)\n",
      "Requirement already satisfied: statsmodels in /usr/local/lib/python3.7/dist-packages (from python-terrier) (0.10.2)\n",
      "Collecting ir_measures>=0.2.0\n",
      "  Downloading ir_measures-0.2.1.tar.gz (36 kB)\n",
      "Requirement already satisfied: dill in /usr/local/lib/python3.7/dist-packages (from python-terrier) (0.3.4)\n",
      "Requirement already satisfied: ijson>=3.1.3 in /usr/local/lib/python3.7/dist-packages (from ir_datasets>=0.3.2->python-terrier) (3.1.4)\n",
      "Collecting lxml>=4.5.2\n",
      "  Downloading lxml-4.6.4-cp37-cp37m-manylinux_2_17_x86_64.manylinux2014_x86_64.manylinux_2_24_x86_64.whl (6.3 MB)\n",
      "\u001B[K     |████████████████████████████████| 6.3 MB 57.3 MB/s \n",
      "\u001B[?25hCollecting pyyaml>=5.3.1\n",
      "  Downloading PyYAML-6.0-cp37-cp37m-manylinux_2_5_x86_64.manylinux1_x86_64.manylinux_2_12_x86_64.manylinux2010_x86_64.whl (596 kB)\n",
      "\u001B[K     |████████████████████████████████| 596 kB 58.9 MB/s \n",
      "\u001B[?25hCollecting trec-car-tools>=2.5.4\n",
      "  Downloading trec_car_tools-2.5.4-py3-none-any.whl (8.1 kB)\n",
      "Collecting pyautocorpus>=0.1.1\n",
      "  Downloading pyautocorpus-0.1.6-cp37-cp37m-manylinux_2_12_x86_64.manylinux2010_x86_64.whl (294 kB)\n",
      "\u001B[K     |████████████████████████████████| 294 kB 69.4 MB/s \n",
      "\u001B[?25hCollecting zlib-state>=0.1.3\n",
      "  Downloading zlib_state-0.1.3-cp37-cp37m-manylinux2010_x86_64.whl (72 kB)\n",
      "\u001B[K     |████████████████████████████████| 72 kB 1.1 MB/s \n",
      "\u001B[?25hCollecting lz4>=3.1.1\n",
      "  Downloading lz4-3.1.3-cp37-cp37m-manylinux2010_x86_64.whl (1.8 MB)\n",
      "\u001B[K     |████████████████████████████████| 1.8 MB 44.4 MB/s \n",
      "\u001B[?25hCollecting warc3-wet>=0.2.3\n",
      "  Downloading warc3_wet-0.2.3-py3-none-any.whl (13 kB)\n",
      "Requirement already satisfied: beautifulsoup4>=4.4.1 in /usr/local/lib/python3.7/dist-packages (from ir_datasets>=0.3.2->python-terrier) (4.6.3)\n",
      "Collecting warc3-wet-clueweb09>=0.2.5\n",
      "  Downloading warc3-wet-clueweb09-0.2.5.tar.gz (17 kB)\n",
      "Collecting pytrec-eval-terrier==0.5.1\n",
      "  Downloading pytrec_eval_terrier-0.5.1-cp37-cp37m-manylinux2010_x86_64.whl (291 kB)\n",
      "\u001B[K     |████████████████████████████████| 291 kB 69.7 MB/s \n",
      "\u001B[?25hCollecting cwl-eval>=1.0.10\n",
      "  Downloading cwl-eval-1.0.10.tar.gz (31 kB)\n",
      "Requirement already satisfied: cython in /usr/local/lib/python3.7/dist-packages (from pyjnius~=1.3.0->python-terrier) (0.29.24)\n",
      "Requirement already satisfied: six>=1.7.0 in /usr/local/lib/python3.7/dist-packages (from pyjnius~=1.3.0->python-terrier) (1.15.0)\n",
      "Requirement already satisfied: certifi>=2017.4.17 in /usr/local/lib/python3.7/dist-packages (from requests->python-terrier) (2021.10.8)\n",
      "Requirement already satisfied: chardet<4,>=3.0.2 in /usr/local/lib/python3.7/dist-packages (from requests->python-terrier) (3.0.4)\n",
      "Requirement already satisfied: idna<3,>=2.5 in /usr/local/lib/python3.7/dist-packages (from requests->python-terrier) (2.10)\n",
      "Requirement already satisfied: urllib3!=1.25.0,!=1.25.1,<1.26,>=1.21.1 in /usr/local/lib/python3.7/dist-packages (from requests->python-terrier) (1.24.3)\n",
      "Collecting cbor>=1.0.0\n",
      "  Downloading cbor-1.0.0.tar.gz (20 kB)\n",
      "Requirement already satisfied: heapdict in /usr/local/lib/python3.7/dist-packages (from chest->python-terrier) (1.0.1)\n",
      "Requirement already satisfied: packaging in /usr/local/lib/python3.7/dist-packages (from deprecation->python-terrier) (21.3)\n",
      "Requirement already satisfied: MarkupSafe>=0.23 in /usr/local/lib/python3.7/dist-packages (from jinja2->python-terrier) (2.0.1)\n",
      "Collecting multiset<3.0,>=2.0\n",
      "  Downloading multiset-2.1.1-py2.py3-none-any.whl (8.8 kB)\n",
      "Collecting typish>=1.7.0\n",
      "  Downloading typish-1.9.3-py3-none-any.whl (45 kB)\n",
      "\u001B[K     |████████████████████████████████| 45 kB 3.5 MB/s \n",
      "\u001B[?25hRequirement already satisfied: pyparsing!=3.0.5,>=2.0.2 in /usr/local/lib/python3.7/dist-packages (from packaging->deprecation->python-terrier) (3.0.6)\n",
      "Requirement already satisfied: pytz>=2017.2 in /usr/local/lib/python3.7/dist-packages (from pandas->python-terrier) (2018.9)\n",
      "Requirement already satisfied: python-dateutil>=2.7.3 in /usr/local/lib/python3.7/dist-packages (from pandas->python-terrier) (2.8.2)\n",
      "Requirement already satisfied: scikit-learn in /usr/local/lib/python3.7/dist-packages (from sklearn->python-terrier) (1.0.1)\n",
      "Requirement already satisfied: threadpoolctl>=2.0.0 in /usr/local/lib/python3.7/dist-packages (from scikit-learn->sklearn->python-terrier) (3.0.0)\n",
      "Requirement already satisfied: patsy>=0.4.0 in /usr/local/lib/python3.7/dist-packages (from statsmodels->python-terrier) (0.5.2)\n",
      "Building wheels for collected packages: python-terrier, ir-measures, cwl-eval, cbor, warc3-wet-clueweb09, chest, wget\n",
      "  Building wheel for python-terrier (setup.py) ... \u001B[?25l\u001B[?25hdone\n",
      "  Created wheel for python-terrier: filename=python_terrier-0.7.1-py3-none-any.whl size=102452 sha256=e4a1648fdc598f59c7caafab912304bc93587b179424d49fb4321d3f024c1e9e\n",
      "  Stored in directory: /root/.cache/pip/wheels/c0/9a/c8/1c2d9ec6a1494bb54f47e0d2627b5ed7b2de704b66723d3417\n",
      "  Building wheel for ir-measures (setup.py) ... \u001B[?25l\u001B[?25hdone\n",
      "  Created wheel for ir-measures: filename=ir_measures-0.2.1-py3-none-any.whl size=46421 sha256=b969fb7d26b9c107fddbc42aaa6ed8a3b26bcab340a9b4f552814f99a58a7b52\n",
      "  Stored in directory: /root/.cache/pip/wheels/38/a4/34/d0b2e6c329f3d0fab3d3c3ed296b963cee47872811acdc3628\n",
      "  Building wheel for cwl-eval (setup.py) ... \u001B[?25l\u001B[?25hdone\n",
      "  Created wheel for cwl-eval: filename=cwl_eval-1.0.10-py3-none-any.whl size=37795 sha256=cb221b8647e69edbceeb08c5add9caac19bd4de4bef99ea78de8801a3213e926\n",
      "  Stored in directory: /root/.cache/pip/wheels/ff/e9/ff/d2b6d72d9feb0d0b1b11aacfaf5cd866717034615c2d194093\n",
      "  Building wheel for cbor (setup.py) ... \u001B[?25l\u001B[?25hdone\n",
      "  Created wheel for cbor: filename=cbor-1.0.0-cp37-cp37m-linux_x86_64.whl size=51304 sha256=15298893a9dacbb2ce486012b249050026a9d84d23f839d7e07b58a398b6a240\n",
      "  Stored in directory: /root/.cache/pip/wheels/19/77/49/c9c2c8dc5848502e606e8579d0bbda18b850fb056a6c62239d\n",
      "  Building wheel for warc3-wet-clueweb09 (setup.py) ... \u001B[?25l\u001B[?25hdone\n",
      "  Created wheel for warc3-wet-clueweb09: filename=warc3_wet_clueweb09-0.2.5-py3-none-any.whl size=18921 sha256=d5f9c7b41702c3e4c05780d7cc1d372782446d7fe873947fd7cc6306a03187a7\n",
      "  Stored in directory: /root/.cache/pip/wheels/42/d4/3c/7c2b0c3d400ad744e4db69f2fde166655da2ed2198bfc02db6\n",
      "  Building wheel for chest (setup.py) ... \u001B[?25l\u001B[?25hdone\n",
      "  Created wheel for chest: filename=chest-0.2.3-py3-none-any.whl size=7632 sha256=850fa5b2458421c0b78db086fe85c5d89da9ec949827a24c2f5eda79c478d582\n",
      "  Stored in directory: /root/.cache/pip/wheels/fc/f5/b9/c436e11300809e6b40d46a5d2592fb0bff89e0712f2e878dc7\n",
      "  Building wheel for wget (setup.py) ... \u001B[?25l\u001B[?25hdone\n",
      "  Created wheel for wget: filename=wget-3.2-py3-none-any.whl size=9672 sha256=66782c610b1a48eb7a61e8ce622f668b6592cce449a9b8dc20c07b4345ed218c\n",
      "  Stored in directory: /root/.cache/pip/wheels/a1/b6/7c/0e63e34eb06634181c63adacca38b79ff8f35c37e3c13e3c02\n",
      "Successfully built python-terrier ir-measures cwl-eval cbor warc3-wet-clueweb09 chest wget\n",
      "Installing collected packages: cbor, zlib-state, warc3-wet-clueweb09, warc3-wet, typish, trec-car-tools, pyyaml, pytrec-eval-terrier, pyautocorpus, multiset, lz4, lxml, deprecation, cwl-eval, wget, pyjnius, nptyping, matchpy, ir-measures, ir-datasets, chest, python-terrier\n",
      "  Attempting uninstall: pyyaml\n",
      "    Found existing installation: PyYAML 3.13\n",
      "    Uninstalling PyYAML-3.13:\n",
      "      Successfully uninstalled PyYAML-3.13\n",
      "  Attempting uninstall: lxml\n",
      "    Found existing installation: lxml 4.2.6\n",
      "    Uninstalling lxml-4.2.6:\n",
      "      Successfully uninstalled lxml-4.2.6\n",
      "Successfully installed cbor-1.0.0 chest-0.2.3 cwl-eval-1.0.10 deprecation-2.1.0 ir-datasets-0.4.3 ir-measures-0.2.1 lxml-4.6.4 lz4-3.1.3 matchpy-0.5.5 multiset-2.1.1 nptyping-1.4.4 pyautocorpus-0.1.6 pyjnius-1.3.0 python-terrier-0.7.1 pytrec-eval-terrier-0.5.1 pyyaml-6.0 trec-car-tools-2.5.4 typish-1.9.3 warc3-wet-0.2.3 warc3-wet-clueweb09-0.2.5 wget-3.2 zlib-state-0.1.3\n",
      "terrier-assemblies 5.6 jar-with-dependencies not found, downloading to /root/.pyterrier...\n",
      "Done\n",
      "terrier-python-helper 0.0.6 jar not found, downloading to /root/.pyterrier...\n",
      "Done\n",
      "PyTerrier 0.7.1 has loaded Terrier 5.6 (built by craigmacdonald on 2021-09-17 13:27)\n"
     ]
    }
   ]
  },
  {
   "cell_type": "code",
   "metadata": {
    "id": "Xt1ATgWDnEXN"
   },
   "source": [
    "import pandas as pd\n",
    "df = pd.read_csv('/content/drive/MyDrive/workspace/corpus.csv')"
   ],
   "execution_count": null,
   "outputs": []
  },
  {
   "cell_type": "code",
   "metadata": {
    "colab": {
     "base_uri": "https://localhost:8080/",
     "height": 424
    },
    "id": "rtx1XTc9o32I",
    "outputId": "90596ff4-fe74-424b-f5fd-c61de27635ab"
   },
   "source": [
    "df"
   ],
   "execution_count": null,
   "outputs": [
    {
     "output_type": "execute_result",
     "data": {
      "text/html": [
       "<div>\n",
       "<style scoped>\n",
       "    .dataframe tbody tr th:only-of-type {\n",
       "        vertical-align: middle;\n",
       "    }\n",
       "\n",
       "    .dataframe tbody tr th {\n",
       "        vertical-align: top;\n",
       "    }\n",
       "\n",
       "    .dataframe thead th {\n",
       "        text-align: right;\n",
       "    }\n",
       "</style>\n",
       "<table border=\"1\" class=\"dataframe\">\n",
       "  <thead>\n",
       "    <tr style=\"text-align: right;\">\n",
       "      <th></th>\n",
       "      <th>docno</th>\n",
       "      <th>text</th>\n",
       "    </tr>\n",
       "  </thead>\n",
       "  <tbody>\n",
       "    <tr>\n",
       "      <th>0</th>\n",
       "      <td>S1f6b58eb-A5c530110</td>\n",
       "      <td>This week I have my hair in braids, much like ...</td>\n",
       "    </tr>\n",
       "    <tr>\n",
       "      <th>1</th>\n",
       "      <td>S1a9db4fc-Acc4206f5</td>\n",
       "      <td>On November 10, UN Women elected its first exe...</td>\n",
       "    </tr>\n",
       "    <tr>\n",
       "      <th>2</th>\n",
       "      <td>S1a924cd4-A994e77ca</td>\n",
       "      <td>Madam, October is Women's History Month and al...</td>\n",
       "    </tr>\n",
       "    <tr>\n",
       "      <th>3</th>\n",
       "      <td>S1a3be6ac-A873cd7aa</td>\n",
       "      <td>I rise today to recognize Frederick Couchie, f...</td>\n",
       "    </tr>\n",
       "    <tr>\n",
       "      <th>4</th>\n",
       "      <td>S1beff81f-A1206f3ee</td>\n",
       "      <td>I find the continued existence of and the incr...</td>\n",
       "    </tr>\n",
       "    <tr>\n",
       "      <th>...</th>\n",
       "      <td>...</td>\n",
       "      <td>...</td>\n",
       "    </tr>\n",
       "    <tr>\n",
       "      <th>338615</th>\n",
       "      <td>Sca72da7d-A5cd811ac</td>\n",
       "      <td>Thanks Lifeisgood, a pleasure to debate you to...</td>\n",
       "    </tr>\n",
       "    <tr>\n",
       "      <th>338616</th>\n",
       "      <td>Sca72da7d-Af008e63e</td>\n",
       "      <td>It is a a great pleasure to debate you, feveri...</td>\n",
       "    </tr>\n",
       "    <tr>\n",
       "      <th>338617</th>\n",
       "      <td>Sca72da7d-Ac77ea7a1</td>\n",
       "      <td>Oh, a forfeit. How disappointing, I didn't see...</td>\n",
       "    </tr>\n",
       "    <tr>\n",
       "      <th>338618</th>\n",
       "      <td>Sca72da7d-Ae83ab999</td>\n",
       "      <td>Thanks to my opponent for instigating this deb...</td>\n",
       "    </tr>\n",
       "    <tr>\n",
       "      <th>338619</th>\n",
       "      <td>Sca72da7d-Adbd84fd2</td>\n",
       "      <td>In this debate, I will argue that occasionally...</td>\n",
       "    </tr>\n",
       "  </tbody>\n",
       "</table>\n",
       "<p>338620 rows × 2 columns</p>\n",
       "</div>"
      ],
      "text/plain": [
       "                      docno                                               text\n",
       "0       S1f6b58eb-A5c530110  This week I have my hair in braids, much like ...\n",
       "1       S1a9db4fc-Acc4206f5  On November 10, UN Women elected its first exe...\n",
       "2       S1a924cd4-A994e77ca  Madam, October is Women's History Month and al...\n",
       "3       S1a3be6ac-A873cd7aa  I rise today to recognize Frederick Couchie, f...\n",
       "4       S1beff81f-A1206f3ee  I find the continued existence of and the incr...\n",
       "...                     ...                                                ...\n",
       "338615  Sca72da7d-A5cd811ac  Thanks Lifeisgood, a pleasure to debate you to...\n",
       "338616  Sca72da7d-Af008e63e  It is a a great pleasure to debate you, feveri...\n",
       "338617  Sca72da7d-Ac77ea7a1  Oh, a forfeit. How disappointing, I didn't see...\n",
       "338618  Sca72da7d-Ae83ab999  Thanks to my opponent for instigating this deb...\n",
       "338619  Sca72da7d-Adbd84fd2  In this debate, I will argue that occasionally...\n",
       "\n",
       "[338620 rows x 2 columns]"
      ]
     },
     "metadata": {},
     "execution_count": 3
    }
   ]
  },
  {
   "cell_type": "code",
   "metadata": {
    "id": "9E5915L0oh9w"
   },
   "source": [
    "from xml.etree import ElementTree\n",
    "tree = ElementTree.parse('/content/drive/MyDrive/workspace/topics.xml')\n",
    "data = tree.getroot()\n",
    "titles = []\n",
    "title_ids = []\n",
    "for topic in data:\n",
    "    titles.append(topic.find('title').text.lower()[:-1])\n",
    "    num = topic.find('number').text\n",
    "    title_ids.append(num)\n",
    "topics = pd.DataFrame(titles,columns = ['query'])\n",
    "topics['qid'] = topics.index + 51\n",
    "columns_titles = [\"qid\",\"query\"]\n",
    "topics=topics.reindex(columns=columns_titles)"
   ],
   "execution_count": null,
   "outputs": []
  },
  {
   "cell_type": "code",
   "metadata": {
    "id": "yh4FfAVMoql1"
   },
   "source": [
    "qrels_path=(\"/content/drive/MyDrive/workspace/qrels.qrels\")\n",
    "qrels = pt.io.read_qrels(qrels_path)"
   ],
   "execution_count": null,
   "outputs": []
  },
  {
   "cell_type": "code",
   "metadata": {
    "id": "pi0uCNkVo7OB"
   },
   "source": [
    "docnos = qrels.docno\n",
    "# list(docnos)"
   ],
   "execution_count": null,
   "outputs": []
  },
  {
   "cell_type": "code",
   "metadata": {
    "colab": {
     "base_uri": "https://localhost:8080/",
     "height": 424
    },
    "id": "DZKWDn5Ao5dL",
    "outputId": "51863e39-0a7d-4175-c49f-9aa20067313b"
   },
   "source": [
    "df_test = df.copy()\n",
    "df_test = df_test[df_test['docno'].isin(docnos)]\n",
    "df_test"
   ],
   "execution_count": null,
   "outputs": [
    {
     "output_type": "execute_result",
     "data": {
      "text/html": [
       "<div>\n",
       "<style scoped>\n",
       "    .dataframe tbody tr th:only-of-type {\n",
       "        vertical-align: middle;\n",
       "    }\n",
       "\n",
       "    .dataframe tbody tr th {\n",
       "        vertical-align: top;\n",
       "    }\n",
       "\n",
       "    .dataframe thead th {\n",
       "        text-align: right;\n",
       "    }\n",
       "</style>\n",
       "<table border=\"1\" class=\"dataframe\">\n",
       "  <thead>\n",
       "    <tr style=\"text-align: right;\">\n",
       "      <th></th>\n",
       "      <th>docno</th>\n",
       "      <th>text</th>\n",
       "    </tr>\n",
       "  </thead>\n",
       "  <tbody>\n",
       "    <tr>\n",
       "      <th>143</th>\n",
       "      <td>Sa4c647b7-A684d37f3</td>\n",
       "      <td>Bullfighting is too dangerous to humans to jus...</td>\n",
       "    </tr>\n",
       "    <tr>\n",
       "      <th>144</th>\n",
       "      <td>Sa4c647b7-Abf0df4fc</td>\n",
       "      <td>Bullfighting constitutes animal torture becaus...</td>\n",
       "    </tr>\n",
       "    <tr>\n",
       "      <th>145</th>\n",
       "      <td>Sa4c647b7-A664695d4</td>\n",
       "      <td>Many matadors are gored each year. In 2010, fa...</td>\n",
       "    </tr>\n",
       "    <tr>\n",
       "      <th>146</th>\n",
       "      <td>Sa4c647b7-A75929e8c</td>\n",
       "      <td>Robert Elms argued in 2010 that \"Those who see...</td>\n",
       "    </tr>\n",
       "    <tr>\n",
       "      <th>148</th>\n",
       "      <td>Sa4c647b7-A91d0525</td>\n",
       "      <td>Harming animals for entertainment is immoralal...</td>\n",
       "    </tr>\n",
       "    <tr>\n",
       "      <th>...</th>\n",
       "      <td>...</td>\n",
       "      <td>...</td>\n",
       "    </tr>\n",
       "    <tr>\n",
       "      <th>337759</th>\n",
       "      <td>Safa455cc-A3bd6a0ca</td>\n",
       "      <td>Nuclear energy is a reasonable approach to gen...</td>\n",
       "    </tr>\n",
       "    <tr>\n",
       "      <th>338026</th>\n",
       "      <td>S51231cdf-Aaf2014c7</td>\n",
       "      <td>Media in general does not need to be rated. Th...</td>\n",
       "    </tr>\n",
       "    <tr>\n",
       "      <th>338223</th>\n",
       "      <td>Se34330e5-Aa7bf18da</td>\n",
       "      <td>My position is that concealed weapon laws and ...</td>\n",
       "    </tr>\n",
       "    <tr>\n",
       "      <th>338410</th>\n",
       "      <td>Scdea971a-A6a6d8e98</td>\n",
       "      <td>Communism is not the only government that soun...</td>\n",
       "    </tr>\n",
       "    <tr>\n",
       "      <th>338412</th>\n",
       "      <td>Scdea971a-A2e619185</td>\n",
       "      <td>I would like to thank my opponent before I beg...</td>\n",
       "    </tr>\n",
       "  </tbody>\n",
       "</table>\n",
       "<p>2927 rows × 2 columns</p>\n",
       "</div>"
      ],
      "text/plain": [
       "                      docno                                               text\n",
       "143     Sa4c647b7-A684d37f3  Bullfighting is too dangerous to humans to jus...\n",
       "144     Sa4c647b7-Abf0df4fc  Bullfighting constitutes animal torture becaus...\n",
       "145     Sa4c647b7-A664695d4  Many matadors are gored each year. In 2010, fa...\n",
       "146     Sa4c647b7-A75929e8c  Robert Elms argued in 2010 that \"Those who see...\n",
       "148      Sa4c647b7-A91d0525  Harming animals for entertainment is immoralal...\n",
       "...                     ...                                                ...\n",
       "337759  Safa455cc-A3bd6a0ca  Nuclear energy is a reasonable approach to gen...\n",
       "338026  S51231cdf-Aaf2014c7  Media in general does not need to be rated. Th...\n",
       "338223  Se34330e5-Aa7bf18da  My position is that concealed weapon laws and ...\n",
       "338410  Scdea971a-A6a6d8e98  Communism is not the only government that soun...\n",
       "338412  Scdea971a-A2e619185  I would like to thank my opponent before I beg...\n",
       "\n",
       "[2927 rows x 2 columns]"
      ]
     },
     "metadata": {},
     "execution_count": 8
    }
   ]
  },
  {
   "cell_type": "code",
   "metadata": {
    "id": "uROQ2yWBpuk5"
   },
   "source": [
    "pd_indexer = pt.DFIndexer(\"./pd_index\")\n",
    "indexref = pd_indexer.index(df_test[\"text\"], df_test[\"docno\"])"
   ],
   "execution_count": null,
   "outputs": []
  },
  {
   "cell_type": "code",
   "metadata": {
    "id": "PdYayCUKnJyF"
   },
   "source": [
    "index = pt.IndexFactory.of(indexref)\n",
    "retr = pt.BatchRetrieve(index, controls = {\"wmodel\": \"TF_IDF\"})\n",
    "res=retr.transform(topics)"
   ],
   "execution_count": null,
   "outputs": []
  },
  {
   "cell_type": "code",
   "metadata": {
    "colab": {
     "base_uri": "https://localhost:8080/",
     "height": 424
    },
    "id": "OmD6aKX-p94j",
    "outputId": "5d0a2902-d6ef-4f3b-c0ec-1897daea818c"
   },
   "source": [
    "res"
   ],
   "execution_count": null,
   "outputs": [
    {
     "output_type": "execute_result",
     "data": {
      "text/html": [
       "<div>\n",
       "<style scoped>\n",
       "    .dataframe tbody tr th:only-of-type {\n",
       "        vertical-align: middle;\n",
       "    }\n",
       "\n",
       "    .dataframe tbody tr th {\n",
       "        vertical-align: top;\n",
       "    }\n",
       "\n",
       "    .dataframe thead th {\n",
       "        text-align: right;\n",
       "    }\n",
       "</style>\n",
       "<table border=\"1\" class=\"dataframe\">\n",
       "  <thead>\n",
       "    <tr style=\"text-align: right;\">\n",
       "      <th></th>\n",
       "      <th>qid</th>\n",
       "      <th>docid</th>\n",
       "      <th>docno</th>\n",
       "      <th>rank</th>\n",
       "      <th>score</th>\n",
       "      <th>query</th>\n",
       "    </tr>\n",
       "  </thead>\n",
       "  <tbody>\n",
       "    <tr>\n",
       "      <th>0</th>\n",
       "      <td>51</td>\n",
       "      <td>2523</td>\n",
       "      <td>S885c6b4f-Ad3259e81</td>\n",
       "      <td>0</td>\n",
       "      <td>12.112106</td>\n",
       "      <td>do we need sex education in schools</td>\n",
       "    </tr>\n",
       "    <tr>\n",
       "      <th>1</th>\n",
       "      <td>51</td>\n",
       "      <td>1963</td>\n",
       "      <td>S428a8bea-Aba4c7b80</td>\n",
       "      <td>1</td>\n",
       "      <td>11.959569</td>\n",
       "      <td>do we need sex education in schools</td>\n",
       "    </tr>\n",
       "    <tr>\n",
       "      <th>2</th>\n",
       "      <td>51</td>\n",
       "      <td>1773</td>\n",
       "      <td>S471f6d0a-A6a764709</td>\n",
       "      <td>2</td>\n",
       "      <td>11.783293</td>\n",
       "      <td>do we need sex education in schools</td>\n",
       "    </tr>\n",
       "    <tr>\n",
       "      <th>3</th>\n",
       "      <td>51</td>\n",
       "      <td>1866</td>\n",
       "      <td>S11b834b9-Aabe96a35</td>\n",
       "      <td>3</td>\n",
       "      <td>11.758555</td>\n",
       "      <td>do we need sex education in schools</td>\n",
       "    </tr>\n",
       "    <tr>\n",
       "      <th>4</th>\n",
       "      <td>51</td>\n",
       "      <td>2691</td>\n",
       "      <td>S937b1a96-A198bbc54</td>\n",
       "      <td>4</td>\n",
       "      <td>11.745463</td>\n",
       "      <td>do we need sex education in schools</td>\n",
       "    </tr>\n",
       "    <tr>\n",
       "      <th>...</th>\n",
       "      <td>...</td>\n",
       "      <td>...</td>\n",
       "      <td>...</td>\n",
       "      <td>...</td>\n",
       "      <td>...</td>\n",
       "      <td>...</td>\n",
       "    </tr>\n",
       "    <tr>\n",
       "      <th>33622</th>\n",
       "      <td>100</td>\n",
       "      <td>2366</td>\n",
       "      <td>Sbe07bde7-Ae09eaaa5</td>\n",
       "      <td>995</td>\n",
       "      <td>0.868738</td>\n",
       "      <td>do we need cash</td>\n",
       "    </tr>\n",
       "    <tr>\n",
       "      <th>33623</th>\n",
       "      <td>100</td>\n",
       "      <td>933</td>\n",
       "      <td>Sf81067da-A42e35728</td>\n",
       "      <td>996</td>\n",
       "      <td>0.867737</td>\n",
       "      <td>do we need cash</td>\n",
       "    </tr>\n",
       "    <tr>\n",
       "      <th>33624</th>\n",
       "      <td>100</td>\n",
       "      <td>468</td>\n",
       "      <td>S86d37902-Acbd25d3c</td>\n",
       "      <td>997</td>\n",
       "      <td>0.865740</td>\n",
       "      <td>do we need cash</td>\n",
       "    </tr>\n",
       "    <tr>\n",
       "      <th>33625</th>\n",
       "      <td>100</td>\n",
       "      <td>1541</td>\n",
       "      <td>Sf22d60dd-A51890018</td>\n",
       "      <td>998</td>\n",
       "      <td>0.865740</td>\n",
       "      <td>do we need cash</td>\n",
       "    </tr>\n",
       "    <tr>\n",
       "      <th>33626</th>\n",
       "      <td>100</td>\n",
       "      <td>2710</td>\n",
       "      <td>Sf074f877-A86857c20</td>\n",
       "      <td>999</td>\n",
       "      <td>0.865587</td>\n",
       "      <td>do we need cash</td>\n",
       "    </tr>\n",
       "  </tbody>\n",
       "</table>\n",
       "<p>33627 rows × 6 columns</p>\n",
       "</div>"
      ],
      "text/plain": [
       "       qid  docid  ...      score                                query\n",
       "0       51   2523  ...  12.112106  do we need sex education in schools\n",
       "1       51   1963  ...  11.959569  do we need sex education in schools\n",
       "2       51   1773  ...  11.783293  do we need sex education in schools\n",
       "3       51   1866  ...  11.758555  do we need sex education in schools\n",
       "4       51   2691  ...  11.745463  do we need sex education in schools\n",
       "...    ...    ...  ...        ...                                  ...\n",
       "33622  100   2366  ...   0.868738                      do we need cash\n",
       "33623  100    933  ...   0.867737                      do we need cash\n",
       "33624  100    468  ...   0.865740                      do we need cash\n",
       "33625  100   1541  ...   0.865740                      do we need cash\n",
       "33626  100   2710  ...   0.865587                      do we need cash\n",
       "\n",
       "[33627 rows x 6 columns]"
      ]
     },
     "metadata": {},
     "execution_count": 11
    }
   ]
  },
  {
   "cell_type": "code",
   "metadata": {
    "colab": {
     "base_uri": "https://localhost:8080/"
    },
    "id": "hnQW3gOlqB0r",
    "outputId": "b28c6273-827e-4801-95d1-8701944c8479"
   },
   "source": [
    "eval = pt.Utils.evaluate(res,qrels,metrics=[\"ndcg_cut_5\", \"bpref\"])\n",
    "eval"
   ],
   "execution_count": null,
   "outputs": [
    {
     "output_type": "execute_result",
     "data": {
      "text/plain": [
       "{'bpref': 0.6375908840552834, 'ndcg_cut_5': 0.6683541337521044}"
      ]
     },
     "metadata": {},
     "execution_count": 12
    }
   ]
  },
  {
   "cell_type": "code",
   "metadata": {
    "colab": {
     "base_uri": "https://localhost:8080/"
    },
    "id": "NFvR9WOgs3GP",
    "outputId": "1e7f1662-7a19-497c-cee2-0cae64b58547"
   },
   "source": [
    "pd_indexer = pt.DFIndexer(\"./pd_index_full\")\n",
    "indexref = pd_indexer.index(df[\"text\"], df[\"docno\"])"
   ],
   "execution_count": null,
   "outputs": [
    {
     "output_type": "stream",
     "name": "stdout",
     "text": [
      "16:16:05.790 [main] WARN org.terrier.structures.indexing.Indexer - Adding an empty document to the index (Sdbc891ec-A55b98352) - further warnings are suppressed\n",
      "16:20:28.497 [main] WARN org.terrier.structures.indexing.Indexer - Indexed 57 empty documents\n",
      "16:20:29.053 [main] ERROR org.terrier.structures.indexing.Indexer - Could not finish MetaIndexBuilder: \n",
      "java.io.IOException: Key Saeff5ad8-Afba459ff is not unique: 160773,160770\n",
      "For MetaIndex, to suppress, set metaindex.compressed.reverse.allow.duplicates=true\n",
      "\tat org.terrier.structures.collections.FSOrderedMapFile$MultiFSOMapWriter.mergeTwo(FSOrderedMapFile.java:1374)\n",
      "\tat org.terrier.structures.collections.FSOrderedMapFile$MultiFSOMapWriter.close(FSOrderedMapFile.java:1308)\n",
      "\tat org.terrier.structures.indexing.BaseMetaIndexBuilder.close(BaseMetaIndexBuilder.java:321)\n",
      "\tat org.terrier.structures.indexing.classical.BasicIndexer.createDirectIndex(BasicIndexer.java:346)\n",
      "\tat org.terrier.structures.indexing.Indexer.index(Indexer.java:369)\n"
     ]
    }
   ]
  },
  {
   "cell_type": "code",
   "metadata": {
    "id": "Fdj-OusQtfBJ"
   },
   "source": [
    "index = pt.IndexFactory.of(indexref)\n",
    "retr = pt.BatchRetrieve(index, controls = {\"wmodel\": \"TF_IDF\"})\n",
    "res=retr.transform(topics)"
   ],
   "execution_count": null,
   "outputs": []
  },
  {
   "cell_type": "code",
   "metadata": {
    "colab": {
     "base_uri": "https://localhost:8080/"
    },
    "id": "YlB8JR_btpki",
    "outputId": "f9392c36-643f-4e25-c004-81391e6b9ff0"
   },
   "source": [
    "eval = pt.Utils.evaluate(res,qrels,metrics=[\"ndcg_cut_5\", \"bpref\"])\n",
    "eval"
   ],
   "execution_count": null,
   "outputs": [
    {
     "output_type": "execute_result",
     "data": {
      "text/plain": [
       "{'bpref': 0.6261477227722415, 'ndcg_cut_5': 0.5527540851759042}"
      ]
     },
     "metadata": {},
     "execution_count": 15
    }
   ]
  }
 ]
}
