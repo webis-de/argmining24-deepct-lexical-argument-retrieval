{
 "cells": [
  {
   "cell_type": "code",
   "execution_count": 3,
   "id": "3355a198",
   "metadata": {},
   "outputs": [],
   "source": [
    "%%capture\n",
    "!pip install ijson\n",
    "!pip install python-terrier\n",
    "import pyterrier as pt\n",
    "if not pt.started():\n",
    "  pt.init(boot_packages=[\"com.github.terrierteam:terrier-prf:-SNAPSHOT\"])\n",
    "import pandas as pd\n",
    "import numpy as np\n",
    "\n"
   ]
  },
  {
   "cell_type": "code",
   "execution_count": 9,
   "id": "aa1f6d0a",
   "metadata": {},
   "outputs": [],
   "source": [
    "from xml.etree import ElementTree\n",
    "tree = ElementTree.parse('/workspace/src/evaluate_targers/topics2020.xml')\n",
    "data = tree.getroot()\n",
    "titles = []\n",
    "title_ids = []\n",
    "nums = []\n",
    "for topic in data:\n",
    "    titles.append(topic.find('title').text.lower()[:-1])\n",
    "    num = topic.find('number').text\n",
    "    nums.append(num)\n",
    "tree = ElementTree.parse('/workspace/src/evaluate_targers/topics.xml')\n",
    "data = tree.getroot()    \n",
    "for topic in data:\n",
    "    titles.append(topic.find('title').text.lower()[:-1])\n",
    "    num = topic.find('number').text\n",
    "    nums.append(num)\n",
    "topics = pd.DataFrame()\n",
    "topics['qid'] = nums\n",
    "topics['query'] = titles\n",
    "\n",
    "qrels_path=(\"/workspace/src/evaluate_targers/qrels.qrels\")\n",
    "qrels = pt.io.read_qrels(qrels_path)\n",
    "\n",
    "docnos = qrels.docno\n"
   ]
  },
  {
   "cell_type": "code",
   "execution_count": 7,
   "id": "96c214a7",
   "metadata": {},
   "outputs": [
    {
     "name": "stdout",
     "output_type": "stream",
     "text": [
      "\n",
      "/mnt/ceph/storage/data-in-progress/data-teaching/theses/wstud-thesis-hollatz/targer_indexes/pd_index_original-100\n",
      "                                                name  ndcg_cut_5     bpref  \\\n",
      "0                                            BR(DPH)    0.640618  0.627961   \n",
      "1  Compose(Compose(BR(DPH), <pyterrier.rewrite.RM...    0.629165  0.639889   \n",
      "2                                         BR(TF_IDF)    0.552754  0.626148   \n",
      "3  Compose(Compose(BR(BM25), <pyterrier.rewrite.R...    0.583558  0.645344   \n",
      "4                                           BR(BM25)    0.554767  0.626163   \n",
      "5                                    BR(DirichletLM)    0.639554  0.599241   \n",
      "6  Compose(Compose(BR(DirichletLM), <pyterrier.re...    0.514243  0.547045   \n",
      "\n",
      "   ndcg_cut_25  \n",
      "0     0.534502  \n",
      "1     0.534129  \n",
      "2     0.457499  \n",
      "3     0.473546  \n",
      "4     0.460291  \n",
      "5     0.517360  \n",
      "6     0.350469  \n"
     ]
    }
   ],
   "source": [
    "import os\n",
    "rootdir = \"/mnt/ceph/storage/data-in-progress/data-teaching/theses/wstud-thesis-hollatz/targer_indexes/pd_index_original-100\"\n",
    "\n",
    "for subdir, dirs, files in os.walk(rootdir):\n",
    "    for file in files:\n",
    "        if(file == 'data.properties'):\n",
    "            print('\\n' + subdir)\n",
    "            path = subdir + '/'+ file\n",
    "            indexref = pt.IndexRef.of(path)\n",
    "            index = pt.IndexFactory.of(indexref)\n",
    "            dph = pt.BatchRetrieve(index, wmodel=\"DPH\")\n",
    "            dph_rm3 = (pt.BatchRetrieve(indexref, wmodel=\"DPH\") >> \n",
    "            pt.rewrite.RM3(indexref) >> \n",
    "            pt.BatchRetrieve(indexref, wmodel=\"DPH\"))\n",
    "            bm25_rm3 = (pt.BatchRetrieve(indexref, wmodel=\"BM25\") >> \n",
    "            pt.rewrite.RM3(indexref) >> \n",
    "            pt.BatchRetrieve(indexref, wmodel=\"BM25\"))\n",
    "            tf_idf = pt.BatchRetrieve(index, wmodel=\"TF_IDF\")\n",
    "            bm25 = pt.BatchRetrieve(index, wmodel=\"BM25\")\n",
    "            dlm = pt.BatchRetrieve(index, wmodel=\"DirichletLM\")\n",
    "            dlm_rm3 = (pt.BatchRetrieve(indexref, wmodel=\"DirichletLM\") >> \n",
    "            pt.rewrite.RM3(indexref) >> \n",
    "            pt.BatchRetrieve(indexref, wmodel=\"DirichletLM\"))\n",
    "            models = [dph, dph_rm3, tf_idf, bm25_rm3, bm25, dlm, dlm_rm3]\n",
    "            print(pt.Experiment(models, topics, qrels, eval_metrics=[\"ndcg_cut_5\", \"bpref\", \"ndcg_cut_25\"]))"
   ]
  },
  {
   "cell_type": "code",
   "execution_count": 10,
   "id": "4e618726",
   "metadata": {},
   "outputs": [
    {
     "name": "stdout",
     "output_type": "stream",
     "text": [
      "\n",
      "/mnt/ceph/storage/data-in-progress/data-teaching/theses/wstud-thesis-hollatz/targer_indexes/pd_index_original-100\n",
      "model : BR(DPH), res: {'ndcg_cut_5': 0.6764085089131627, 'bpref': 0.6279613513936027, 'ndcg_cut_25': 0.6664826868151493}\n",
      "model : Compose(Compose(BR(DPH), <pyterrier.rewrite.RM3 object at 0x7f6661585b90>), BR(DPH)), res: {'ndcg_cut_5': 0.6806878542050084, 'bpref': 0.6398893119563615, 'ndcg_cut_25': 0.6746344404708747}\n",
      "model : BR(TF_IDF), res: {'ndcg_cut_5': 0.6118904950108662, 'bpref': 0.6261477227722415, 'ndcg_cut_25': 0.6332115060794034}\n",
      "model : Compose(Compose(BR(BM25), <pyterrier.rewrite.RM3 object at 0x7f6661595a90>), BR(BM25)), res: {'ndcg_cut_5': 0.6448762370447452, 'bpref': 0.6453442081592141, 'ndcg_cut_25': 0.64542825542097}\n",
      "model : BR(BM25), res: {'ndcg_cut_5': 0.6129710858217261, 'bpref': 0.6261632902519492, 'ndcg_cut_25': 0.6332690354359014}\n",
      "model : BR(DirichletLM), res: {'ndcg_cut_5': 0.6629903601351183, 'bpref': 0.5992405823459444, 'ndcg_cut_25': 0.641744556584284}\n",
      "model : Compose(Compose(BR(DirichletLM), <pyterrier.rewrite.RM3 object at 0x7f66615785d0>), BR(DirichletLM)), res: {'ndcg_cut_5': 0.607428028407941, 'bpref': 0.5470449191037935, 'ndcg_cut_25': 0.5786987847313363}\n"
     ]
    }
   ],
   "source": [
    "import os\n",
    "\n",
    "for subdir, dirs, files in os.walk(rootdir):\n",
    "    for file in files:\n",
    "        if(file == 'data.properties'):\n",
    "            print('\\n' + subdir)\n",
    "            for model in models:\n",
    "                res= model.transform(topics)\n",
    "                res_copy = res[res['docno'].isin(docnos)].copy()\n",
    "                print(f'model : {model}, res: {pt.Utils.evaluate(res_copy,qrels,metrics=[\"ndcg_cut_5\", \"bpref\", \"ndcg_cut_25\"])}')"
   ]
  }
 ],
 "metadata": {
  "kernelspec": {
   "display_name": "Python 3",
   "language": "python",
   "name": "python3"
  },
  "language_info": {
   "codemirror_mode": {
    "name": "ipython",
    "version": 3
   },
   "file_extension": ".py",
   "mimetype": "text/x-python",
   "name": "python",
   "nbconvert_exporter": "python",
   "pygments_lexer": "ipython3",
   "version": "3.7.12"
  }
 },
 "nbformat": 4,
 "nbformat_minor": 5
}
