{
 "cells": [
  {
   "cell_type": "code",
   "execution_count": 1,
   "id": "7de37d4c",
   "metadata": {},
   "outputs": [
    {
     "name": "stderr",
     "output_type": "stream",
     "text": [
      "PyTerrier 0.8.1 has loaded Terrier 5.6 (built by craigmacdonald on 2021-09-17 13:27)\n",
      "\n",
      "No etc/terrier.properties, using terrier.default.properties for bootstrap configuration.\n"
     ]
    }
   ],
   "source": [
    "import pandas as pd\n",
    "import numpy as np\n",
    "# import pyterrier_deepct\n",
    "import pyterrier as pt\n",
    "if not pt.started():\n",
    "  pt.init(boot_packages=[\"com.github.terrierteam:terrier-prf:-SNAPSHOT\"])\n",
    "\n",
    "from xml.etree import ElementTree\n",
    "tree = ElementTree.parse('/workspace/src/evaluate_targers/topics2020.xml')\n",
    "data = tree.getroot()\n",
    "titles20 = []\n",
    "titles21 = []\n",
    "title_ids20 = []\n",
    "title_ids21 = []\n",
    "nums20 = []\n",
    "nums21 = []\n",
    "for topic in data:\n",
    "    titles20.append(topic.find('title').text.lower()[:-1])\n",
    "    num20 = topic.find('number').text\n",
    "    nums20.append(num20)\n",
    "tree = ElementTree.parse('/workspace/src/evaluate_targers/topics.xml')\n",
    "data = tree.getroot()    \n",
    "for topic in data:\n",
    "    titles21.append(topic.find('title').text.lower()[:-1])\n",
    "    num21 = topic.find('number').text\n",
    "    nums21.append(num21)\n",
    "topics = pd.DataFrame()\n",
    "topics['qid'] = nums20 + nums21\n",
    "topics['query'] = titles20 + titles21\n",
    "\n",
    "topics21 = pd.DataFrame()\n",
    "topics21['qid'] = nums21\n",
    "topics21['query'] = titles21\n",
    "\n",
    "topics20 = pd.DataFrame()\n",
    "topics20['qid'] = nums20\n",
    "topics20['query'] = titles20\n",
    "\n",
    "qrels_path=(\"/workspace/src/evaluate_targers/all_qrels.qrels\")\n",
    "qrels = pt.io.read_qrels(qrels_path)\n",
    "\n",
    "qrels21_path=(\"/workspace/src/evaluate_targers/qrels2021.qrels\")\n",
    "qrels21 = pt.io.read_qrels(qrels21_path)\n",
    "\n",
    "qrels20_path=(\"/workspace/src/evaluate_targers/qrels2020.qrels\")\n",
    "qrels20 = pt.io.read_qrels(qrels20_path)\n",
    "\n",
    "docnos = qrels.docno\n",
    "docnos21 = qrels21.docno\n",
    "docnos20 = qrels20.docno"
   ]
  },
  {
   "cell_type": "code",
   "execution_count": 2,
   "id": "fd18f5d9",
   "metadata": {},
   "outputs": [
    {
     "name": "stdout",
     "output_type": "stream",
     "text": [
      "\n",
      "/mnt/ceph/storage/data-in-progress/data-teaching/theses/wstud-thesis-hollatz/targer_indexes/pd_index_original-100\n",
      "Fold 1\n",
      "Best ndcg_cut_5 is 0.652732\n",
      "Best setting is ['BR(DirichletLM) dirichletlm.mu=3000']\n",
      "Fold 2\n",
      "Best ndcg_cut_5 is 0.513757\n",
      "Best setting is ['BR(DirichletLM) dirichletlm.mu=750']\n"
     ]
    },
    {
     "name": "stderr",
     "output_type": "stream",
     "text": [
      "/tmp/ipykernel_3689098/4171921949.py:21: FutureWarning: In future versions `DataFrame.to_latex` is expected to utilise the base implementation of `Styler.to_latex` for formatting and rendering. The arguments signature may therefore change. It is recommended instead to use `DataFrame.style.to_latex` which also contains additional functionality.\n",
      "  print(pt.Experiment([tuned_dlm, dlm], topics, qrels,\n"
     ]
    },
    {
     "name": "stdout",
     "output_type": "stream",
     "text": [
      "\\begin{tabular}{llrrr}\n",
      "\\toprule\n",
      "{} &         name &  ndcg\\_cut\\_5 &  ndcg\\_cut\\_25 &     bpref \\\\\n",
      "\\midrule\n",
      "0 &    tuned\\_dlm &    0.569517 &     0.466434 &  0.594445 \\\\\n",
      "1 &  orignal\\_dlm &    0.573641 &     0.452373 &  0.590270 \\\\\n",
      "\\bottomrule\n",
      "\\end{tabular}\n",
      "\n"
     ]
    },
    {
     "name": "stderr",
     "output_type": "stream",
     "text": [
      "/tmp/ipykernel_3689098/4171921949.py:25: FutureWarning: In future versions `DataFrame.to_latex` is expected to utilise the base implementation of `Styler.to_latex` for formatting and rendering. The arguments signature may therefore change. It is recommended instead to use `DataFrame.style.to_latex` which also contains additional functionality.\n",
      "  print(pt.Experiment([tuned_dlm, dlm], topics20, qrels, names=['20original_tuned_dlm', '20orignal_dlm'],\n"
     ]
    },
    {
     "name": "stdout",
     "output_type": "stream",
     "text": [
      "\\begin{tabular}{llrrr}\n",
      "\\toprule\n",
      "{} &                  name &  ndcg\\_cut\\_5 &  ndcg\\_cut\\_25 &     bpref \\\\\n",
      "\\midrule\n",
      "0 &  20original\\_tuned\\_dlm &    0.502843 &     0.381891 &  0.573064 \\\\\n",
      "1 &         20orignal\\_dlm &    0.506382 &     0.386060 &  0.581117 \\\\\n",
      "\\bottomrule\n",
      "\\end{tabular}\n",
      "\n"
     ]
    },
    {
     "name": "stderr",
     "output_type": "stream",
     "text": [
      "/tmp/ipykernel_3689098/4171921949.py:28: FutureWarning: In future versions `DataFrame.to_latex` is expected to utilise the base implementation of `Styler.to_latex` for formatting and rendering. The arguments signature may therefore change. It is recommended instead to use `DataFrame.style.to_latex` which also contains additional functionality.\n",
      "  print(pt.Experiment([tuned_dlm, dlm], topics21, qrels, names=['21original_tuned_dlm', '21orignal_dlm'],\n"
     ]
    },
    {
     "name": "stdout",
     "output_type": "stream",
     "text": [
      "\\begin{tabular}{llrrr}\n",
      "\\toprule\n",
      "{} &                  name &  ndcg\\_cut\\_5 &  ndcg\\_cut\\_25 &     bpref \\\\\n",
      "\\midrule\n",
      "0 &  21original\\_tuned\\_dlm &    0.634858 &     0.549287 &  0.615399 \\\\\n",
      "1 &         21orignal\\_dlm &    0.639554 &     0.517360 &  0.599241 \\\\\n",
      "\\bottomrule\n",
      "\\end{tabular}\n",
      "\n"
     ]
    }
   ],
   "source": [
    "import os\n",
    "# rootdir = \"/mnt/ceph/storage/data-in-progress/data-teaching/theses/wstud-thesis-hollatz/DeepCT_indexes/\"\n",
    "rootdir = \"/mnt/ceph/storage/data-in-progress/data-teaching/theses/wstud-thesis-hollatz/targer_indexes/pd_index_original-100\"\n",
    "\n",
    "objective=\"ndcg_cut_5\"\n",
    "for i, (subdir, dirs, files) in enumerate(os.walk(rootdir)):\n",
    "    for file in files:\n",
    "        if(file == 'data.properties'):\n",
    "            path = subdir + '/'+ file\n",
    "            print('\\n' + subdir)\n",
    "            indexref = pt.IndexRef.of(path)\n",
    "            index = pt.IndexFactory.of(indexref)\n",
    "            dlm = pt.BatchRetrieve(index, wmodel=\"DirichletLM\", controls={\"dirichletlm.mu\" : 2500})\n",
    "            tuned_dlm, parameters = pt.KFoldGridSearch(\n",
    "                dlm,\n",
    "                {dlm: {\"dirichletlm.mu\" : list(range(0,10000,250))}},\n",
    "                [topics20, topics21],\n",
    "                [qrels20, qrels21],\n",
    "                objective\n",
    "            )\n",
    "            print(pt.Experiment([tuned_dlm, dlm], topics, qrels, \n",
    "                                names=['tuned_dlm','orignal_dlm'], \n",
    "                                eval_metrics=[\"ndcg_cut_5\", \"ndcg_cut_25\", \"bpref\"]).to_latex())\n",
    "            \n",
    "            print(pt.Experiment([tuned_dlm, dlm], topics20, qrels, names=['20original_tuned_dlm', '20orignal_dlm'], \n",
    "                                eval_metrics=[\"ndcg_cut_5\", \"ndcg_cut_25\", \"bpref\"]).to_latex())\n",
    "            \n",
    "            print(pt.Experiment([tuned_dlm, dlm], topics21, qrels, names=['21original_tuned_dlm', '21orignal_dlm'], \n",
    "                                eval_metrics=[\"ndcg_cut_5\", \"ndcg_cut_25\", \"bpref\"]).to_latex())\n",
    "            tuned_dlm.to_csv(path_or_buf=f\"/workspace/src/grid_search_right_qrels/final_right/run/original_tuned_dlm.csv\")\n",
    "#             tuned_dlm.to_csv(path_or_buf=f\"/workspace/src/runs_dlm/original_tuned_dlm.csv\")\n",
    "            "
   ]
  },
  {
   "cell_type": "code",
   "execution_count": 3,
   "id": "92ee0b5e",
   "metadata": {
    "scrolled": true
   },
   "outputs": [
    {
     "name": "stdout",
     "output_type": "stream",
     "text": [
      "\n",
      "/mnt/ceph/storage/data-in-progress/data-teaching/theses/wstud-thesis-hollatz/DeepCT_indexes/conclusionspd_index\n",
      "Fold 1\n",
      "Best ndcg_cut_5 is 0.607973\n",
      "Best setting is ['BR(DirichletLM) dirichletlm.mu=3750']\n",
      "Fold 2\n",
      "Best ndcg_cut_5 is 0.450963\n",
      "Best setting is ['BR(DirichletLM) dirichletlm.mu=5750']\n"
     ]
    },
    {
     "name": "stderr",
     "output_type": "stream",
     "text": [
      "/tmp/ipykernel_3689098/2513816004.py:25: FutureWarning: In future versions `DataFrame.to_latex` is expected to utilise the base implementation of `Styler.to_latex` for formatting and rendering. The arguments signature may therefore change. It is recommended instead to use `DataFrame.style.to_latex` which also contains additional functionality.\n",
      "  print(pt.Experiment([tuned_dlm, dlm], topics, qrels, names=[folders[i] + '_tuned_dlm', folders[i] + '_orignal_dlm'],\n"
     ]
    },
    {
     "name": "stdout",
     "output_type": "stream",
     "text": [
      "\\begin{tabular}{llrrr}\n",
      "\\toprule\n",
      "{} &                     name &  ndcg\\_cut\\_5 &  ndcg\\_cut\\_25 &     bpref \\\\\n",
      "\\midrule\n",
      "0 &    conclusions\\_tuned\\_dlm &    0.525312 &     0.444128 &  0.700047 \\\\\n",
      "1 &  conclusions\\_orignal\\_dlm &    0.524059 &     0.448322 &  0.705230 \\\\\n",
      "\\bottomrule\n",
      "\\end{tabular}\n",
      "\n"
     ]
    },
    {
     "name": "stderr",
     "output_type": "stream",
     "text": [
      "/tmp/ipykernel_3689098/2513816004.py:28: FutureWarning: In future versions `DataFrame.to_latex` is expected to utilise the base implementation of `Styler.to_latex` for formatting and rendering. The arguments signature may therefore change. It is recommended instead to use `DataFrame.style.to_latex` which also contains additional functionality.\n",
      "  print(pt.Experiment([tuned_dlm, dlm], topics20, qrels, names=['20' + folders[i] + 'tuned_dlm', '20' + folders[i] + '_dlm'],\n"
     ]
    },
    {
     "name": "stdout",
     "output_type": "stream",
     "text": [
      "\\begin{tabular}{llrrr}\n",
      "\\toprule\n",
      "{} &                    name &  ndcg\\_cut\\_5 &  ndcg\\_cut\\_25 &     bpref \\\\\n",
      "\\midrule\n",
      "0 &  20conclusionstuned\\_dlm &    0.448751 &     0.373309 &  0.680320 \\\\\n",
      "1 &       20conclusions\\_dlm &    0.441318 &     0.370764 &  0.683595 \\\\\n",
      "\\bottomrule\n",
      "\\end{tabular}\n",
      "\n"
     ]
    },
    {
     "name": "stderr",
     "output_type": "stream",
     "text": [
      "/tmp/ipykernel_3689098/2513816004.py:31: FutureWarning: In future versions `DataFrame.to_latex` is expected to utilise the base implementation of `Styler.to_latex` for formatting and rendering. The arguments signature may therefore change. It is recommended instead to use `DataFrame.style.to_latex` which also contains additional functionality.\n",
      "  print(pt.Experiment([tuned_dlm, dlm], topics21, qrels, names=['21' + folders[i] + 'tuned_dlm', '21'+ folders[i] + '_dlm'],\n"
     ]
    },
    {
     "name": "stdout",
     "output_type": "stream",
     "text": [
      "\\begin{tabular}{llrrr}\n",
      "\\toprule\n",
      "{} &                    name &  ndcg\\_cut\\_5 &  ndcg\\_cut\\_25 &     bpref \\\\\n",
      "\\midrule\n",
      "0 &  21conclusionstuned\\_dlm &    0.600342 &     0.513530 &  0.719380 \\\\\n",
      "1 &       21conclusions\\_dlm &    0.605145 &     0.524329 &  0.726433 \\\\\n",
      "\\bottomrule\n",
      "\\end{tabular}\n",
      "\n",
      "\n",
      "/mnt/ceph/storage/data-in-progress/data-teaching/theses/wstud-thesis-hollatz/DeepCT_indexes/pool_topicspd_index\n",
      "Fold 1\n",
      "Best ndcg_cut_5 is 0.624379\n",
      "Best setting is ['BR(DirichletLM) dirichletlm.mu=2250']\n",
      "Fold 2\n",
      "Best ndcg_cut_5 is 0.412219\n",
      "Best setting is ['BR(DirichletLM) dirichletlm.mu=4750']\n"
     ]
    },
    {
     "name": "stderr",
     "output_type": "stream",
     "text": [
      "/tmp/ipykernel_3689098/2513816004.py:25: FutureWarning: In future versions `DataFrame.to_latex` is expected to utilise the base implementation of `Styler.to_latex` for formatting and rendering. The arguments signature may therefore change. It is recommended instead to use `DataFrame.style.to_latex` which also contains additional functionality.\n",
      "  print(pt.Experiment([tuned_dlm, dlm], topics, qrels, names=[folders[i] + '_tuned_dlm', folders[i] + '_orignal_dlm'],\n"
     ]
    },
    {
     "name": "stdout",
     "output_type": "stream",
     "text": [
      "\\begin{tabular}{llrrr}\n",
      "\\toprule\n",
      "{} &                     name &  ndcg\\_cut\\_5 &  ndcg\\_cut\\_25 &     bpref \\\\\n",
      "\\midrule\n",
      "0 &    pool\\_topics\\_tuned\\_dlm &    0.503504 &     0.436641 &  0.693835 \\\\\n",
      "1 &  pool\\_topics\\_orignal\\_dlm &    0.510127 &     0.442593 &  0.696906 \\\\\n",
      "\\bottomrule\n",
      "\\end{tabular}\n",
      "\n"
     ]
    },
    {
     "name": "stderr",
     "output_type": "stream",
     "text": [
      "/tmp/ipykernel_3689098/2513816004.py:28: FutureWarning: In future versions `DataFrame.to_latex` is expected to utilise the base implementation of `Styler.to_latex` for formatting and rendering. The arguments signature may therefore change. It is recommended instead to use `DataFrame.style.to_latex` which also contains additional functionality.\n",
      "  print(pt.Experiment([tuned_dlm, dlm], topics20, qrels, names=['20' + folders[i] + 'tuned_dlm', '20' + folders[i] + '_dlm'],\n"
     ]
    },
    {
     "name": "stdout",
     "output_type": "stream",
     "text": [
      "\\begin{tabular}{llrrr}\n",
      "\\toprule\n",
      "{} &                    name &  ndcg\\_cut\\_5 &  ndcg\\_cut\\_25 &     bpref \\\\\n",
      "\\midrule\n",
      "0 &  20pool\\_topicstuned\\_dlm &    0.399033 &     0.359071 &  0.676231 \\\\\n",
      "1 &       20pool\\_topics\\_dlm &    0.399289 &     0.360595 &  0.675262 \\\\\n",
      "\\bottomrule\n",
      "\\end{tabular}\n",
      "\n"
     ]
    },
    {
     "name": "stderr",
     "output_type": "stream",
     "text": [
      "/tmp/ipykernel_3689098/2513816004.py:31: FutureWarning: In future versions `DataFrame.to_latex` is expected to utilise the base implementation of `Styler.to_latex` for formatting and rendering. The arguments signature may therefore change. It is recommended instead to use `DataFrame.style.to_latex` which also contains additional functionality.\n",
      "  print(pt.Experiment([tuned_dlm, dlm], topics21, qrels, names=['21' + folders[i] + 'tuned_dlm', '21'+ folders[i] + '_dlm'],\n"
     ]
    },
    {
     "name": "stdout",
     "output_type": "stream",
     "text": [
      "\\begin{tabular}{llrrr}\n",
      "\\toprule\n",
      "{} &                    name &  ndcg\\_cut\\_5 &  ndcg\\_cut\\_25 &     bpref \\\\\n",
      "\\midrule\n",
      "0 &  21pool\\_topicstuned\\_dlm &    0.605886 &      0.51266 &  0.711088 \\\\\n",
      "1 &       21pool\\_topics\\_dlm &    0.618747 &      0.52295 &  0.718117 \\\\\n",
      "\\bottomrule\n",
      "\\end{tabular}\n",
      "\n",
      "\n",
      "/mnt/ceph/storage/data-in-progress/data-teaching/theses/wstud-thesis-hollatz/DeepCT_indexes/topicspd_index\n",
      "Fold 1\n",
      "Best ndcg_cut_5 is 0.605028\n",
      "Best setting is ['BR(DirichletLM) dirichletlm.mu=9000']\n",
      "Fold 2\n",
      "Best ndcg_cut_5 is 0.454940\n",
      "Best setting is ['BR(DirichletLM) dirichletlm.mu=4500']\n"
     ]
    },
    {
     "name": "stderr",
     "output_type": "stream",
     "text": [
      "/tmp/ipykernel_3689098/2513816004.py:25: FutureWarning: In future versions `DataFrame.to_latex` is expected to utilise the base implementation of `Styler.to_latex` for formatting and rendering. The arguments signature may therefore change. It is recommended instead to use `DataFrame.style.to_latex` which also contains additional functionality.\n",
      "  print(pt.Experiment([tuned_dlm, dlm], topics, qrels, names=[folders[i] + '_tuned_dlm', folders[i] + '_orignal_dlm'],\n"
     ]
    },
    {
     "name": "stdout",
     "output_type": "stream",
     "text": [
      "\\begin{tabular}{llrrr}\n",
      "\\toprule\n",
      "{} &                name &  ndcg\\_cut\\_5 &  ndcg\\_cut\\_25 &     bpref \\\\\n",
      "\\midrule\n",
      "0 &    topics\\_tuned\\_dlm &     0.52094 &     0.442950 &  0.688400 \\\\\n",
      "1 &  topics\\_orignal\\_dlm &     0.51930 &     0.445862 &  0.697755 \\\\\n",
      "\\bottomrule\n",
      "\\end{tabular}\n",
      "\n"
     ]
    },
    {
     "name": "stderr",
     "output_type": "stream",
     "text": [
      "/tmp/ipykernel_3689098/2513816004.py:28: FutureWarning: In future versions `DataFrame.to_latex` is expected to utilise the base implementation of `Styler.to_latex` for formatting and rendering. The arguments signature may therefore change. It is recommended instead to use `DataFrame.style.to_latex` which also contains additional functionality.\n",
      "  print(pt.Experiment([tuned_dlm, dlm], topics20, qrels, names=['20' + folders[i] + 'tuned_dlm', '20' + folders[i] + '_dlm'],\n"
     ]
    },
    {
     "name": "stdout",
     "output_type": "stream",
     "text": [
      "\\begin{tabular}{llrrr}\n",
      "\\toprule\n",
      "{} &               name &  ndcg\\_cut\\_5 &  ndcg\\_cut\\_25 &     bpref \\\\\n",
      "\\midrule\n",
      "0 &  20topicstuned\\_dlm &    0.445224 &     0.363835 &  0.662596 \\\\\n",
      "1 &       20topics\\_dlm &    0.445884 &     0.367172 &  0.677695 \\\\\n",
      "\\bottomrule\n",
      "\\end{tabular}\n",
      "\n"
     ]
    },
    {
     "name": "stderr",
     "output_type": "stream",
     "text": [
      "/tmp/ipykernel_3689098/2513816004.py:31: FutureWarning: In future versions `DataFrame.to_latex` is expected to utilise the base implementation of `Styler.to_latex` for formatting and rendering. The arguments signature may therefore change. It is recommended instead to use `DataFrame.style.to_latex` which also contains additional functionality.\n",
      "  print(pt.Experiment([tuned_dlm, dlm], topics21, qrels, names=['21' + folders[i] + 'tuned_dlm', '21'+ folders[i] + '_dlm'],\n"
     ]
    },
    {
     "name": "stdout",
     "output_type": "stream",
     "text": [
      "\\begin{tabular}{llrrr}\n",
      "\\toprule\n",
      "{} &               name &  ndcg\\_cut\\_5 &  ndcg\\_cut\\_25 &     bpref \\\\\n",
      "\\midrule\n",
      "0 &  21topicstuned\\_dlm &    0.595141 &     0.520484 &  0.713687 \\\\\n",
      "1 &       21topics\\_dlm &    0.591248 &     0.522979 &  0.717413 \\\\\n",
      "\\bottomrule\n",
      "\\end{tabular}\n",
      "\n",
      "\n",
      "/mnt/ceph/storage/data-in-progress/data-teaching/theses/wstud-thesis-hollatz/DeepCT_indexes/topics_conclusionpd_index\n",
      "Fold 1\n",
      "Best ndcg_cut_5 is 0.612548\n",
      "Best setting is ['BR(DirichletLM) dirichletlm.mu=4250']\n",
      "Fold 2\n",
      "Best ndcg_cut_5 is 0.449623\n",
      "Best setting is ['BR(DirichletLM) dirichletlm.mu=2250']\n"
     ]
    },
    {
     "name": "stderr",
     "output_type": "stream",
     "text": [
      "/tmp/ipykernel_3689098/2513816004.py:25: FutureWarning: In future versions `DataFrame.to_latex` is expected to utilise the base implementation of `Styler.to_latex` for formatting and rendering. The arguments signature may therefore change. It is recommended instead to use `DataFrame.style.to_latex` which also contains additional functionality.\n",
      "  print(pt.Experiment([tuned_dlm, dlm], topics, qrels, names=[folders[i] + '_tuned_dlm', folders[i] + '_orignal_dlm'],\n"
     ]
    },
    {
     "name": "stdout",
     "output_type": "stream",
     "text": [
      "\\begin{tabular}{llrrr}\n",
      "\\toprule\n",
      "{} &                           name &  ndcg\\_cut\\_5 &  ndcg\\_cut\\_25 &     bpref \\\\\n",
      "\\midrule\n",
      "0 &    topics\\_conclusion\\_tuned\\_dlm &    0.524720 &     0.443030 &  0.701040 \\\\\n",
      "1 &  topics\\_conclusion\\_orignal\\_dlm &    0.523626 &     0.444796 &  0.703587 \\\\\n",
      "\\bottomrule\n",
      "\\end{tabular}\n",
      "\n"
     ]
    },
    {
     "name": "stderr",
     "output_type": "stream",
     "text": [
      "/tmp/ipykernel_3689098/2513816004.py:28: FutureWarning: In future versions `DataFrame.to_latex` is expected to utilise the base implementation of `Styler.to_latex` for formatting and rendering. The arguments signature may therefore change. It is recommended instead to use `DataFrame.style.to_latex` which also contains additional functionality.\n",
      "  print(pt.Experiment([tuned_dlm, dlm], topics20, qrels, names=['20' + folders[i] + 'tuned_dlm', '20' + folders[i] + '_dlm'],\n"
     ]
    },
    {
     "name": "stdout",
     "output_type": "stream",
     "text": [
      "\\begin{tabular}{llrrr}\n",
      "\\toprule\n",
      "{} &                          name &  ndcg\\_cut\\_5 &  ndcg\\_cut\\_25 &     bpref \\\\\n",
      "\\midrule\n",
      "0 &  20topics\\_conclusiontuned\\_dlm &    0.446575 &     0.366045 &  0.679276 \\\\\n",
      "1 &       20topics\\_conclusion\\_dlm &    0.445133 &     0.364409 &  0.685123 \\\\\n",
      "\\bottomrule\n",
      "\\end{tabular}\n",
      "\n"
     ]
    },
    {
     "name": "stderr",
     "output_type": "stream",
     "text": [
      "/tmp/ipykernel_3689098/2513816004.py:31: FutureWarning: In future versions `DataFrame.to_latex` is expected to utilise the base implementation of `Styler.to_latex` for formatting and rendering. The arguments signature may therefore change. It is recommended instead to use `DataFrame.style.to_latex` which also contains additional functionality.\n",
      "  print(pt.Experiment([tuned_dlm, dlm], topics21, qrels, names=['21' + folders[i] + 'tuned_dlm', '21'+ folders[i] + '_dlm'],\n"
     ]
    },
    {
     "name": "stdout",
     "output_type": "stream",
     "text": [
      "\\begin{tabular}{llrrr}\n",
      "\\toprule\n",
      "{} &                          name &  ndcg\\_cut\\_5 &  ndcg\\_cut\\_25 &     bpref \\\\\n",
      "\\midrule\n",
      "0 &  21topics\\_conclusiontuned\\_dlm &    0.601303 &     0.518474 &  0.722369 \\\\\n",
      "1 &       21topics\\_conclusion\\_dlm &    0.600549 &     0.523576 &  0.721682 \\\\\n",
      "\\bottomrule\n",
      "\\end{tabular}\n",
      "\n",
      "\n",
      "/mnt/ceph/storage/data-in-progress/data-teaching/theses/wstud-thesis-hollatz/DeepCT_indexes/topics_conclusions_leakage/pd_index\n",
      "Fold 1\n",
      "Best ndcg_cut_5 is 0.619953\n",
      "Best setting is ['BR(DirichletLM) dirichletlm.mu=6250']\n",
      "Fold 2\n",
      "Best ndcg_cut_5 is 0.441171\n",
      "Best setting is ['BR(DirichletLM) dirichletlm.mu=7500']\n"
     ]
    },
    {
     "name": "stderr",
     "output_type": "stream",
     "text": [
      "/tmp/ipykernel_3689098/2513816004.py:25: FutureWarning: In future versions `DataFrame.to_latex` is expected to utilise the base implementation of `Styler.to_latex` for formatting and rendering. The arguments signature may therefore change. It is recommended instead to use `DataFrame.style.to_latex` which also contains additional functionality.\n",
      "  print(pt.Experiment([tuned_dlm, dlm], topics, qrels, names=[folders[i] + '_tuned_dlm', folders[i] + '_orignal_dlm'],\n"
     ]
    },
    {
     "name": "stdout",
     "output_type": "stream",
     "text": [
      "\\begin{tabular}{llrrr}\n",
      "\\toprule\n",
      "{} &                                   name &  ndcg\\_cut\\_5 &  ndcg\\_cut\\_25 &     bpref \\\\\n",
      "\\midrule\n",
      "0 &    topics\\_conclusion\\_leakage\\_tuned\\_dlm &    0.524998 &     0.447618 &  0.696288 \\\\\n",
      "1 &  topics\\_conclusion\\_leakage\\_orignal\\_dlm &    0.517538 &     0.451477 &  0.704657 \\\\\n",
      "\\bottomrule\n",
      "\\end{tabular}\n",
      "\n"
     ]
    },
    {
     "name": "stderr",
     "output_type": "stream",
     "text": [
      "/tmp/ipykernel_3689098/2513816004.py:28: FutureWarning: In future versions `DataFrame.to_latex` is expected to utilise the base implementation of `Styler.to_latex` for formatting and rendering. The arguments signature may therefore change. It is recommended instead to use `DataFrame.style.to_latex` which also contains additional functionality.\n",
      "  print(pt.Experiment([tuned_dlm, dlm], topics20, qrels, names=['20' + folders[i] + 'tuned_dlm', '20' + folders[i] + '_dlm'],\n"
     ]
    },
    {
     "name": "stdout",
     "output_type": "stream",
     "text": [
      "\\begin{tabular}{llrrr}\n",
      "\\toprule\n",
      "{} &                                  name &  ndcg\\_cut\\_5 &  ndcg\\_cut\\_25 &     bpref \\\\\n",
      "\\midrule\n",
      "0 &  20topics\\_conclusion\\_leakagetuned\\_dlm &    0.433550 &     0.360757 &  0.672526 \\\\\n",
      "1 &       20topics\\_conclusion\\_leakage\\_dlm &    0.427563 &     0.360789 &  0.685361 \\\\\n",
      "\\bottomrule\n",
      "\\end{tabular}\n",
      "\n"
     ]
    },
    {
     "name": "stderr",
     "output_type": "stream",
     "text": [
      "/tmp/ipykernel_3689098/2513816004.py:31: FutureWarning: In future versions `DataFrame.to_latex` is expected to utilise the base implementation of `Styler.to_latex` for formatting and rendering. The arguments signature may therefore change. It is recommended instead to use `DataFrame.style.to_latex` which also contains additional functionality.\n",
      "  print(pt.Experiment([tuned_dlm, dlm], topics21, qrels, names=['21' + folders[i] + 'tuned_dlm', '21'+ folders[i] + '_dlm'],\n"
     ]
    },
    {
     "name": "stdout",
     "output_type": "stream",
     "text": [
      "\\begin{tabular}{llrrr}\n",
      "\\toprule\n",
      "{} &                                  name &  ndcg\\_cut\\_5 &  ndcg\\_cut\\_25 &     bpref \\\\\n",
      "\\midrule\n",
      "0 &  21topics\\_conclusion\\_leakagetuned\\_dlm &    0.614617 &     0.532742 &  0.719574 \\\\\n",
      "1 &       21topics\\_conclusion\\_leakage\\_dlm &    0.605714 &     0.540352 &  0.723567 \\\\\n",
      "\\bottomrule\n",
      "\\end{tabular}\n",
      "\n",
      "\n",
      "/mnt/ceph/storage/data-in-progress/data-teaching/theses/wstud-thesis-hollatz/DeepCT_indexes/topics_leakage/pd_index\n",
      "Fold 1\n",
      "Best ndcg_cut_5 is 0.616651\n",
      "Best setting is ['BR(DirichletLM) dirichletlm.mu=3750']\n",
      "Fold 2\n",
      "Best ndcg_cut_5 is 0.462460\n",
      "Best setting is ['BR(DirichletLM) dirichletlm.mu=7500']\n"
     ]
    },
    {
     "name": "stderr",
     "output_type": "stream",
     "text": [
      "/tmp/ipykernel_3689098/2513816004.py:25: FutureWarning: In future versions `DataFrame.to_latex` is expected to utilise the base implementation of `Styler.to_latex` for formatting and rendering. The arguments signature may therefore change. It is recommended instead to use `DataFrame.style.to_latex` which also contains additional functionality.\n",
      "  print(pt.Experiment([tuned_dlm, dlm], topics, qrels, names=[folders[i] + '_tuned_dlm', folders[i] + '_orignal_dlm'],\n"
     ]
    },
    {
     "name": "stdout",
     "output_type": "stream",
     "text": [
      "\\begin{tabular}{llrrr}\n",
      "\\toprule\n",
      "{} &                        name &  ndcg\\_cut\\_5 &  ndcg\\_cut\\_25 &     bpref \\\\\n",
      "\\midrule\n",
      "0 &    topics\\_leakage\\_tuned\\_dlm &    0.531982 &     0.446635 &  0.699114 \\\\\n",
      "1 &  topics\\_leakage\\_orignal\\_dlm &    0.529111 &     0.448171 &  0.703937 \\\\\n",
      "\\bottomrule\n",
      "\\end{tabular}\n",
      "\n"
     ]
    },
    {
     "name": "stderr",
     "output_type": "stream",
     "text": [
      "/tmp/ipykernel_3689098/2513816004.py:28: FutureWarning: In future versions `DataFrame.to_latex` is expected to utilise the base implementation of `Styler.to_latex` for formatting and rendering. The arguments signature may therefore change. It is recommended instead to use `DataFrame.style.to_latex` which also contains additional functionality.\n",
      "  print(pt.Experiment([tuned_dlm, dlm], topics20, qrels, names=['20' + folders[i] + 'tuned_dlm', '20' + folders[i] + '_dlm'],\n"
     ]
    },
    {
     "name": "stdout",
     "output_type": "stream",
     "text": [
      "\\begin{tabular}{llrrr}\n",
      "\\toprule\n",
      "{} &                       name &  ndcg\\_cut\\_5 &  ndcg\\_cut\\_25 &     bpref \\\\\n",
      "\\midrule\n",
      "0 &  20topics\\_leakagetuned\\_dlm &    0.451994 &     0.365184 &  0.676154 \\\\\n",
      "1 &       20topics\\_leakage\\_dlm &    0.455846 &     0.366653 &  0.680657 \\\\\n",
      "\\bottomrule\n",
      "\\end{tabular}\n",
      "\n"
     ]
    },
    {
     "name": "stderr",
     "output_type": "stream",
     "text": [
      "/tmp/ipykernel_3689098/2513816004.py:31: FutureWarning: In future versions `DataFrame.to_latex` is expected to utilise the base implementation of `Styler.to_latex` for formatting and rendering. The arguments signature may therefore change. It is recommended instead to use `DataFrame.style.to_latex` which also contains additional functionality.\n",
      "  print(pt.Experiment([tuned_dlm, dlm], topics21, qrels, names=['21' + folders[i] + 'tuned_dlm', '21'+ folders[i] + '_dlm'],\n"
     ]
    },
    {
     "name": "stdout",
     "output_type": "stream",
     "text": [
      "\\begin{tabular}{llrrr}\n",
      "\\toprule\n",
      "{} &                       name &  ndcg\\_cut\\_5 &  ndcg\\_cut\\_25 &     bpref \\\\\n",
      "\\midrule\n",
      "0 &  21topics\\_leakagetuned\\_dlm &    0.610371 &     0.526456 &  0.721615 \\\\\n",
      "1 &       21topics\\_leakage\\_dlm &    0.600911 &     0.528058 &  0.726751 \\\\\n",
      "\\bottomrule\n",
      "\\end{tabular}\n",
      "\n",
      "\n",
      "/mnt/ceph/storage/data-in-progress/data-teaching/theses/wstud-thesis-hollatz/DeepCT_indexes/pools_topics_conclusionspd_index\n",
      "Fold 1\n",
      "Best ndcg_cut_5 is 0.642154\n",
      "Best setting is ['BR(DirichletLM) dirichletlm.mu=3000']\n",
      "Fold 2\n",
      "Best ndcg_cut_5 is 0.441008\n",
      "Best setting is ['BR(DirichletLM) dirichletlm.mu=2750']\n"
     ]
    },
    {
     "name": "stderr",
     "output_type": "stream",
     "text": [
      "/tmp/ipykernel_3689098/2513816004.py:25: FutureWarning: In future versions `DataFrame.to_latex` is expected to utilise the base implementation of `Styler.to_latex` for formatting and rendering. The arguments signature may therefore change. It is recommended instead to use `DataFrame.style.to_latex` which also contains additional functionality.\n",
      "  print(pt.Experiment([tuned_dlm, dlm], topics, qrels, names=[folders[i] + '_tuned_dlm', folders[i] + '_orignal_dlm'],\n"
     ]
    },
    {
     "name": "stdout",
     "output_type": "stream",
     "text": [
      "\\begin{tabular}{llrrr}\n",
      "\\toprule\n",
      "{} &                                 name &  ndcg\\_cut\\_5 &  ndcg\\_cut\\_25 &     bpref \\\\\n",
      "\\midrule\n",
      "0 &    pool\\_topics\\_conclusions\\_tuned\\_dlm &    0.537389 &     0.444841 &  0.699466 \\\\\n",
      "1 &  pool\\_topics\\_conclusions\\_orignal\\_dlm &    0.540907 &     0.445626 &  0.700548 \\\\\n",
      "\\bottomrule\n",
      "\\end{tabular}\n",
      "\n"
     ]
    },
    {
     "name": "stderr",
     "output_type": "stream",
     "text": [
      "/tmp/ipykernel_3689098/2513816004.py:28: FutureWarning: In future versions `DataFrame.to_latex` is expected to utilise the base implementation of `Styler.to_latex` for formatting and rendering. The arguments signature may therefore change. It is recommended instead to use `DataFrame.style.to_latex` which also contains additional functionality.\n",
      "  print(pt.Experiment([tuned_dlm, dlm], topics20, qrels, names=['20' + folders[i] + 'tuned_dlm', '20' + folders[i] + '_dlm'],\n"
     ]
    },
    {
     "name": "stdout",
     "output_type": "stream",
     "text": [
      "\\begin{tabular}{llrrr}\n",
      "\\toprule\n",
      "{} &                                name &  ndcg\\_cut\\_5 &  ndcg\\_cut\\_25 &     bpref \\\\\n",
      "\\midrule\n",
      "0 &  20pool\\_topics\\_conclusionstuned\\_dlm &    0.435439 &     0.356580 &  0.675033 \\\\\n",
      "1 &       20pool\\_topics\\_conclusions\\_dlm &    0.438810 &     0.356641 &  0.676382 \\\\\n",
      "\\bottomrule\n",
      "\\end{tabular}\n",
      "\n"
     ]
    },
    {
     "name": "stderr",
     "output_type": "stream",
     "text": [
      "/tmp/ipykernel_3689098/2513816004.py:31: FutureWarning: In future versions `DataFrame.to_latex` is expected to utilise the base implementation of `Styler.to_latex` for formatting and rendering. The arguments signature may therefore change. It is recommended instead to use `DataFrame.style.to_latex` which also contains additional functionality.\n",
      "  print(pt.Experiment([tuned_dlm, dlm], topics21, qrels, names=['21' + folders[i] + 'tuned_dlm', '21'+ folders[i] + '_dlm'],\n"
     ]
    },
    {
     "name": "stdout",
     "output_type": "stream",
     "text": [
      "\\begin{tabular}{llrrr}\n",
      "\\toprule\n",
      "{} &                                name &  ndcg\\_cut\\_5 &  ndcg\\_cut\\_25 &    bpref \\\\\n",
      "\\midrule\n",
      "0 &  21pool\\_topics\\_conclusionstuned\\_dlm &    0.637300 &     0.531336 &  0.72341 \\\\\n",
      "1 &       21pool\\_topics\\_conclusions\\_dlm &    0.640963 &     0.532831 &  0.72423 \\\\\n",
      "\\bottomrule\n",
      "\\end{tabular}\n",
      "\n",
      "\n",
      "/mnt/ceph/storage/data-in-progress/data-teaching/theses/wstud-thesis-hollatz/DeepCT_indexes/conclusions_leakage/pd_index\n",
      "Fold 1\n",
      "Best ndcg_cut_5 is 0.623032\n",
      "Best setting is ['BR(DirichletLM) dirichletlm.mu=6000']\n",
      "Fold 2\n",
      "Best ndcg_cut_5 is 0.465499\n",
      "Best setting is ['BR(DirichletLM) dirichletlm.mu=4750']\n"
     ]
    },
    {
     "name": "stderr",
     "output_type": "stream",
     "text": [
      "/tmp/ipykernel_3689098/2513816004.py:25: FutureWarning: In future versions `DataFrame.to_latex` is expected to utilise the base implementation of `Styler.to_latex` for formatting and rendering. The arguments signature may therefore change. It is recommended instead to use `DataFrame.style.to_latex` which also contains additional functionality.\n",
      "  print(pt.Experiment([tuned_dlm, dlm], topics, qrels, names=[folders[i] + '_tuned_dlm', folders[i] + '_orignal_dlm'],\n"
     ]
    },
    {
     "name": "stdout",
     "output_type": "stream",
     "text": [
      "\\begin{tabular}{llrrr}\n",
      "\\toprule\n",
      "{} &                             name &  ndcg\\_cut\\_5 &  ndcg\\_cut\\_25 &     bpref \\\\\n",
      "\\midrule\n",
      "0 &    conclusions\\_leakage\\_tuned\\_dlm &    0.539261 &     0.445753 &  0.695927 \\\\\n",
      "1 &  conclusions\\_leakage\\_orignal\\_dlm &    0.531793 &     0.444508 &  0.702956 \\\\\n",
      "\\bottomrule\n",
      "\\end{tabular}\n",
      "\n"
     ]
    },
    {
     "name": "stderr",
     "output_type": "stream",
     "text": [
      "/tmp/ipykernel_3689098/2513816004.py:28: FutureWarning: In future versions `DataFrame.to_latex` is expected to utilise the base implementation of `Styler.to_latex` for formatting and rendering. The arguments signature may therefore change. It is recommended instead to use `DataFrame.style.to_latex` which also contains additional functionality.\n",
      "  print(pt.Experiment([tuned_dlm, dlm], topics20, qrels, names=['20' + folders[i] + 'tuned_dlm', '20' + folders[i] + '_dlm'],\n"
     ]
    },
    {
     "name": "stdout",
     "output_type": "stream",
     "text": [
      "\\begin{tabular}{llrrr}\n",
      "\\toprule\n",
      "{} &                            name &  ndcg\\_cut\\_5 &  ndcg\\_cut\\_25 &     bpref \\\\\n",
      "\\midrule\n",
      "0 &  20conclusions\\_leakagetuned\\_dlm &    0.462755 &     0.367386 &  0.671135 \\\\\n",
      "1 &       20conclusions\\_leakage\\_dlm &    0.451147 &     0.364674 &  0.680787 \\\\\n",
      "\\bottomrule\n",
      "\\end{tabular}\n",
      "\n"
     ]
    },
    {
     "name": "stderr",
     "output_type": "stream",
     "text": [
      "/tmp/ipykernel_3689098/2513816004.py:31: FutureWarning: In future versions `DataFrame.to_latex` is expected to utilise the base implementation of `Styler.to_latex` for formatting and rendering. The arguments signature may therefore change. It is recommended instead to use `DataFrame.style.to_latex` which also contains additional functionality.\n",
      "  print(pt.Experiment([tuned_dlm, dlm], topics21, qrels, names=['21' + folders[i] + 'tuned_dlm', '21'+ folders[i] + '_dlm'],\n"
     ]
    },
    {
     "name": "stdout",
     "output_type": "stream",
     "text": [
      "\\begin{tabular}{llrrr}\n",
      "\\toprule\n",
      "{} &                            name &  ndcg\\_cut\\_5 &  ndcg\\_cut\\_25 &     bpref \\\\\n",
      "\\midrule\n",
      "0 &  21conclusions\\_leakagetuned\\_dlm &    0.614237 &     0.522553 &  0.720224 \\\\\n",
      "1 &       21conclusions\\_leakage\\_dlm &    0.610826 &     0.522746 &  0.724681 \\\\\n",
      "\\bottomrule\n",
      "\\end{tabular}\n",
      "\n",
      "\n",
      "/mnt/ceph/storage/data-in-progress/data-teaching/theses/wstud-thesis-hollatz/DeepCT_indexes/pools_conclusionspd_index\n",
      "Fold 1\n",
      "Best ndcg_cut_5 is 0.618876\n",
      "Best setting is ['BR(DirichletLM) dirichletlm.mu=2750']\n",
      "Fold 2\n",
      "Best ndcg_cut_5 is 0.416576\n",
      "Best setting is ['BR(DirichletLM) dirichletlm.mu=2500']\n"
     ]
    },
    {
     "name": "stderr",
     "output_type": "stream",
     "text": [
      "/tmp/ipykernel_3689098/2513816004.py:25: FutureWarning: In future versions `DataFrame.to_latex` is expected to utilise the base implementation of `Styler.to_latex` for formatting and rendering. The arguments signature may therefore change. It is recommended instead to use `DataFrame.style.to_latex` which also contains additional functionality.\n",
      "  print(pt.Experiment([tuned_dlm, dlm], topics, qrels, names=[folders[i] + '_tuned_dlm', folders[i] + '_orignal_dlm'],\n"
     ]
    },
    {
     "name": "stdout",
     "output_type": "stream",
     "text": [
      "\\begin{tabular}{llrrr}\n",
      "\\toprule\n",
      "{} &                           name &  ndcg\\_cut\\_5 &  ndcg\\_cut\\_25 &     bpref \\\\\n",
      "\\midrule\n",
      "0 &    pools\\_conclusions\\_tuned\\_dlm &    0.516184 &     0.435566 &  0.696440 \\\\\n",
      "1 &  pools\\_conclusions\\_orignal\\_dlm &    0.517417 &     0.435083 &  0.697605 \\\\\n",
      "\\bottomrule\n",
      "\\end{tabular}\n",
      "\n"
     ]
    },
    {
     "name": "stderr",
     "output_type": "stream",
     "text": [
      "/tmp/ipykernel_3689098/2513816004.py:28: FutureWarning: In future versions `DataFrame.to_latex` is expected to utilise the base implementation of `Styler.to_latex` for formatting and rendering. The arguments signature may therefore change. It is recommended instead to use `DataFrame.style.to_latex` which also contains additional functionality.\n",
      "  print(pt.Experiment([tuned_dlm, dlm], topics20, qrels, names=['20' + folders[i] + 'tuned_dlm', '20' + folders[i] + '_dlm'],\n"
     ]
    },
    {
     "name": "stdout",
     "output_type": "stream",
     "text": [
      "\\begin{tabular}{llrrr}\n",
      "\\toprule\n",
      "{} &                          name &  ndcg\\_cut\\_5 &  ndcg\\_cut\\_25 &     bpref \\\\\n",
      "\\midrule\n",
      "0 &  20pools\\_conclusionstuned\\_dlm &    0.414085 &     0.349236 &  0.677383 \\\\\n",
      "1 &       20pools\\_conclusions\\_dlm &    0.416576 &     0.348261 &  0.679737 \\\\\n",
      "\\bottomrule\n",
      "\\end{tabular}\n",
      "\n"
     ]
    },
    {
     "name": "stderr",
     "output_type": "stream",
     "text": [
      "/tmp/ipykernel_3689098/2513816004.py:31: FutureWarning: In future versions `DataFrame.to_latex` is expected to utilise the base implementation of `Styler.to_latex` for formatting and rendering. The arguments signature may therefore change. It is recommended instead to use `DataFrame.style.to_latex` which also contains additional functionality.\n",
      "  print(pt.Experiment([tuned_dlm, dlm], topics21, qrels, names=['21' + folders[i] + 'tuned_dlm', '21'+ folders[i] + '_dlm'],\n"
     ]
    },
    {
     "name": "stdout",
     "output_type": "stream",
     "text": [
      "\\begin{tabular}{llrrr}\n",
      "\\toprule\n",
      "{} &                          name &  ndcg\\_cut\\_5 &  ndcg\\_cut\\_25 &     bpref \\\\\n",
      "\\midrule\n",
      "0 &  21pools\\_conclusionstuned\\_dlm &     0.61624 &     0.520169 &  0.715116 \\\\\n",
      "1 &       21pools\\_conclusions\\_dlm &     0.61624 &     0.520169 &  0.715116 \\\\\n",
      "\\bottomrule\n",
      "\\end{tabular}\n",
      "\n"
     ]
    }
   ],
   "source": [
    "'''\n",
    "Example of simple tuning dlm and its not saving to the folder \n",
    "'''\n",
    "\n",
    "import os\n",
    "rootdir = \"/mnt/ceph/storage/data-in-progress/data-teaching/theses/wstud-thesis-hollatz/DeepCT_indexes/\"\n",
    "folders = ['conclusions','pool_topics','topics','topics_conclusion','topics_conclusion_leakage','topics_leakage','pool_topics_conclusions','conclusions_leakage','pools_conclusions']\n",
    "objective=\"ndcg_cut_5\"\n",
    "i = 0\n",
    "for subdir, dirs, files in os.walk(rootdir):\n",
    "    for file in files:\n",
    "        if(file == 'data.properties'):\n",
    "            path = subdir + '/'+ file\n",
    "            print('\\n' + subdir)\n",
    "            indexref = pt.IndexRef.of(path)\n",
    "            index = pt.IndexFactory.of(indexref)\n",
    "            dlm = pt.BatchRetrieve(index, wmodel=\"DirichletLM\", controls={\"dirichletlm.mu\" : 2500})\n",
    "            tuned_dlm, parameters = pt.KFoldGridSearch(\n",
    "                dlm,\n",
    "                {dlm: {\"dirichletlm.mu\" : list(range(0,10000,250))}},\n",
    "                [topics20, topics21],\n",
    "                [qrels20, qrels21],\n",
    "                objective\n",
    "            )\n",
    "            print(pt.Experiment([tuned_dlm, dlm], topics, qrels, names=[folders[i] + '_tuned_dlm', folders[i] + '_orignal_dlm'], \n",
    "                eval_metrics=[\"ndcg_cut_5\", \"ndcg_cut_25\", \"bpref\"]).to_latex())\n",
    "            \n",
    "            print(pt.Experiment([tuned_dlm, dlm], topics20, qrels, names=['20' + folders[i] + 'tuned_dlm', '20' + folders[i] + '_dlm'], \n",
    "                eval_metrics=[\"ndcg_cut_5\", \"ndcg_cut_25\", \"bpref\"]).to_latex())\n",
    "            \n",
    "            print(pt.Experiment([tuned_dlm, dlm], topics21, qrels, names=['21' + folders[i] + 'tuned_dlm', '21'+ folders[i] + '_dlm'], \n",
    "                eval_metrics=[\"ndcg_cut_5\", \"ndcg_cut_25\", \"bpref\"]).to_latex())\n",
    "            tuned_dlm.to_csv(path_or_buf=f\"/workspace/src/grid_search_right_qrels/final_right/run/{folders[i]}_tuned_dlm.csv\")\n",
    "#             tuned_dlm.to_csv(path_or_buf=f\"/workspace/src/runs_dlm/{folders[i]}_tuned_dlm.csv\")\n",
    "            i += 1\n",
    "            "
   ]
  },
  {
   "cell_type": "code",
   "execution_count": 4,
   "id": "08be9e42",
   "metadata": {},
   "outputs": [
    {
     "name": "stdout",
     "output_type": "stream",
     "text": [
      "\n",
      "/workspace/src/grid_search_right_qrels/super_folder/\n",
      "Fold 1\n",
      "Best ndcg_cut_5 is 0.455074\n",
      "Best setting is ['BR(DirichletLM) dirichletlm.mu=1000']\n",
      "Fold 2\n",
      "Best ndcg_cut_5 is 0.250555\n",
      "Best setting is ['BR(DirichletLM) dirichletlm.mu=1500']\n"
     ]
    },
    {
     "name": "stderr",
     "output_type": "stream",
     "text": [
      "/tmp/ipykernel_3689098/676691230.py:25: FutureWarning: In future versions `DataFrame.to_latex` is expected to utilise the base implementation of `Styler.to_latex` for formatting and rendering. The arguments signature may therefore change. It is recommended instead to use `DataFrame.style.to_latex` which also contains additional functionality.\n",
      "  print(pt.Experiment([tuned_dlm, dlm], topics, qrels, names=[folders[i] + '_tuned_dlm', folders[i] + '_orignal_dlm'],\n"
     ]
    },
    {
     "name": "stdout",
     "output_type": "stream",
     "text": [
      "\\begin{tabular}{llrrr}\n",
      "\\toprule\n",
      "{} &                          name &  ndcg\\_cut\\_5 &  ndcg\\_cut\\_25 &     bpref \\\\\n",
      "\\midrule\n",
      "0 &    marco-pretrained\\_tuned\\_dlm &    0.348440 &     0.311509 &  0.610536 \\\\\n",
      "1 &  marco-pretrained\\_orignal\\_dlm &    0.339255 &     0.310085 &  0.608835 \\\\\n",
      "\\bottomrule\n",
      "\\end{tabular}\n",
      "\n"
     ]
    },
    {
     "name": "stderr",
     "output_type": "stream",
     "text": [
      "/tmp/ipykernel_3689098/676691230.py:28: FutureWarning: In future versions `DataFrame.to_latex` is expected to utilise the base implementation of `Styler.to_latex` for formatting and rendering. The arguments signature may therefore change. It is recommended instead to use `DataFrame.style.to_latex` which also contains additional functionality.\n",
      "  print(pt.Experiment([tuned_dlm, dlm], topics20, qrels, names=['20' + folders[i] + 'tuned_dlm', '20' + folders[i] + '_dlm'],\n"
     ]
    },
    {
     "name": "stdout",
     "output_type": "stream",
     "text": [
      "\\begin{tabular}{llrrr}\n",
      "\\toprule\n",
      "{} &                         name &  ndcg\\_cut\\_5 &  ndcg\\_cut\\_25 &     bpref \\\\\n",
      "\\midrule\n",
      "0 &  20marco-pretrainedtuned\\_dlm &    0.247279 &     0.252619 &  0.601926 \\\\\n",
      "1 &       20marco-pretrained\\_dlm &    0.235450 &     0.248456 &  0.599014 \\\\\n",
      "\\bottomrule\n",
      "\\end{tabular}\n",
      "\n"
     ]
    },
    {
     "name": "stderr",
     "output_type": "stream",
     "text": [
      "/tmp/ipykernel_3689098/676691230.py:31: FutureWarning: In future versions `DataFrame.to_latex` is expected to utilise the base implementation of `Styler.to_latex` for formatting and rendering. The arguments signature may therefore change. It is recommended instead to use `DataFrame.style.to_latex` which also contains additional functionality.\n",
      "  print(pt.Experiment([tuned_dlm, dlm], topics21, qrels, names=['21' + folders[i] + 'tuned_dlm', '21'+ folders[i] + '_dlm'],\n"
     ]
    },
    {
     "name": "stdout",
     "output_type": "stream",
     "text": [
      "\\begin{tabular}{llrrr}\n",
      "\\toprule\n",
      "{} &                         name &  ndcg\\_cut\\_5 &  ndcg\\_cut\\_25 &     bpref \\\\\n",
      "\\midrule\n",
      "0 &  21marco-pretrainedtuned\\_dlm &    0.447577 &      0.36922 &  0.618973 \\\\\n",
      "1 &       21marco-pretrained\\_dlm &    0.440984 &      0.37048 &  0.618459 \\\\\n",
      "\\bottomrule\n",
      "\\end{tabular}\n",
      "\n"
     ]
    }
   ],
   "source": [
    "'''\n",
    "Example of simple tuning dlm and its not saving to the folder \n",
    "'''\n",
    "\n",
    "import os\n",
    "rootdir = \"/workspace/src/grid_search_right_qrels/super_folder/\"\n",
    "folders = ['marco-pretrained']\n",
    "objective=\"ndcg_cut_5\"\n",
    "i = 0\n",
    "for subdir, dirs, files in os.walk(rootdir):\n",
    "    for file in files:\n",
    "        if(file == 'data.properties'):\n",
    "            path = subdir + '/'+ file\n",
    "            print('\\n' + subdir)\n",
    "            indexref = pt.IndexRef.of(path)\n",
    "            index = pt.IndexFactory.of(indexref)\n",
    "            dlm = pt.BatchRetrieve(index, wmodel=\"DirichletLM\", controls={\"dirichletlm.mu\" : 2500})\n",
    "            tuned_dlm, parameters = pt.KFoldGridSearch(\n",
    "                dlm,\n",
    "                {dlm: {\"dirichletlm.mu\" : list(range(0,10000,250))}},\n",
    "                [topics20, topics21],\n",
    "                [qrels20, qrels21],\n",
    "                objective\n",
    "            )\n",
    "            print(pt.Experiment([tuned_dlm, dlm], topics, qrels, names=[folders[i] + '_tuned_dlm', folders[i] + '_orignal_dlm'], \n",
    "                eval_metrics=[\"ndcg_cut_5\", \"ndcg_cut_25\", \"bpref\"]).to_latex())\n",
    "            \n",
    "            print(pt.Experiment([tuned_dlm, dlm], topics20, qrels, names=['20' + folders[i] + 'tuned_dlm', '20' + folders[i] + '_dlm'], \n",
    "                eval_metrics=[\"ndcg_cut_5\", \"ndcg_cut_25\", \"bpref\"]).to_latex())\n",
    "            \n",
    "            print(pt.Experiment([tuned_dlm, dlm], topics21, qrels, names=['21' + folders[i] + 'tuned_dlm', '21'+ folders[i] + '_dlm'], \n",
    "                eval_metrics=[\"ndcg_cut_5\", \"ndcg_cut_25\", \"bpref\"]).to_latex())\n",
    "            tuned_dlm.to_csv(path_or_buf=f\"/workspace/src/grid_search_right_qrels/final_right/run/{folders[i]}_tuned_dlm.csv\")\n",
    "#             tuned_dlm.to_csv(path_or_buf=f\"/workspace/src/runs_dlm/{folders[i]}_tuned_dlm.csv\")\n",
    "            i += 1\n",
    "            "
   ]
  }
 ],
 "metadata": {
  "kernelspec": {
   "display_name": "Python 3 (ipykernel)",
   "language": "python",
   "name": "python3"
  },
  "language_info": {
   "codemirror_mode": {
    "name": "ipython",
    "version": 3
   },
   "file_extension": ".py",
   "mimetype": "text/x-python",
   "name": "python",
   "nbconvert_exporter": "python",
   "pygments_lexer": "ipython3",
   "version": "3.9.10"
  }
 },
 "nbformat": 4,
 "nbformat_minor": 5
}
