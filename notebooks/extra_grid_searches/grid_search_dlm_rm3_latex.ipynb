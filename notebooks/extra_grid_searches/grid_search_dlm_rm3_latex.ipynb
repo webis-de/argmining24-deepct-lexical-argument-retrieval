{
 "cells": [
  {
   "cell_type": "code",
   "execution_count": 1,
   "id": "ed504204",
   "metadata": {},
   "outputs": [
    {
     "name": "stderr",
     "output_type": "stream",
     "text": [
      "PyTerrier 0.8.1 has loaded Terrier 5.6 (built by craigmacdonald on 2021-09-17 13:27)\n",
      "\n",
      "No etc/terrier.properties, using terrier.default.properties for bootstrap configuration.\n"
     ]
    }
   ],
   "source": [
    "import pandas as pd\n",
    "import numpy as np\n",
    "# import pyterrier_deepct\n",
    "import pyterrier as pt\n",
    "if not pt.started():\n",
    "  pt.init(boot_packages=[\"com.github.terrierteam:terrier-prf:-SNAPSHOT\"])\n",
    "\n",
    "from xml.etree import ElementTree\n",
    "tree = ElementTree.parse('/workspace/src/evaluate_targers/topics2020.xml')\n",
    "data = tree.getroot()\n",
    "titles20 = []\n",
    "titles21 = []\n",
    "title_ids20 = []\n",
    "title_ids21 = []\n",
    "nums20 = []\n",
    "nums21 = []\n",
    "for topic in data:\n",
    "    titles20.append(topic.find('title').text.lower()[:-1])\n",
    "    num20 = topic.find('number').text\n",
    "    nums20.append(num20)\n",
    "tree = ElementTree.parse('/workspace/src/evaluate_targers/topics.xml')\n",
    "data = tree.getroot()    \n",
    "for topic in data:\n",
    "    titles21.append(topic.find('title').text.lower()[:-1])\n",
    "    num21 = topic.find('number').text\n",
    "    nums21.append(num21)\n",
    "topics = pd.DataFrame()\n",
    "topics['qid'] = nums20 + nums21\n",
    "topics['query'] = titles20 + titles21\n",
    "\n",
    "topics21 = pd.DataFrame()\n",
    "topics21['qid'] = nums21\n",
    "topics21['query'] = titles21\n",
    "\n",
    "topics20 = pd.DataFrame()\n",
    "topics20['qid'] = nums20\n",
    "topics20['query'] = titles20\n",
    "\n",
    "qrels_path=(\"/workspace/src/evaluate_targers/all_qrels.qrels\")\n",
    "qrels = pt.io.read_qrels(qrels_path)\n",
    "\n",
    "qrels21_path=(\"/workspace/src/evaluate_targers/qrels2021.qrels\")\n",
    "qrels21 = pt.io.read_qrels(qrels21_path)\n",
    "\n",
    "qrels20_path=(\"/workspace/src/evaluate_targers/qrels2020.qrels\")\n",
    "qrels20 = pt.io.read_qrels(qrels20_path)\n",
    "\n",
    "docnos = qrels.docno"
   ]
  },
  {
   "cell_type": "code",
   "execution_count": 3,
   "id": "bebd6d7e",
   "metadata": {
    "scrolled": false
   },
   "outputs": [
    {
     "name": "stdout",
     "output_type": "stream",
     "text": [
      "\n",
      "/mnt/ceph/storage/data-in-progress/data-teaching/theses/wstud-thesis-hollatz/targer_indexes/pd_index_original-100\n",
      "Fold 1\n",
      "Best ndcg_cut_5 is 0.559156\n",
      "Best setting is ['QueryExpansion(/mnt/ceph/storage/data-in-progress/data-teaching/theses/wstud-thesis-hollatz/targer_indexes/pd_index_original-100/data.properties,8,14,<org.terrier.querying.RM3 at 0x7f5da87a8bd0 jclass=org/terrier/querying/RM3 jself=<LocalRef obj=0x55768bc87f18 at 0x7f5da89497f0>>) fb_terms=6', 'QueryExpansion(/mnt/ceph/storage/data-in-progress/data-teaching/theses/wstud-thesis-hollatz/targer_indexes/pd_index_original-100/data.properties,8,14,<org.terrier.querying.RM3 at 0x7f5da87a8bd0 jclass=org/terrier/querying/RM3 jself=<LocalRef obj=0x55768bc87f18 at 0x7f5da89497f0>>) fb_docs=4', 'QueryExpansion(/mnt/ceph/storage/data-in-progress/data-teaching/theses/wstud-thesis-hollatz/targer_indexes/pd_index_original-100/data.properties,8,14,<org.terrier.querying.RM3 at 0x7f5da87a8bd0 jclass=org/terrier/querying/RM3 jself=<LocalRef obj=0x55768bc87f18 at 0x7f5da89497f0>>) fb_lambda=0.2']\n",
      "Fold 2\n",
      "Best ndcg_cut_5 is 0.514496\n",
      "Best setting is ['QueryExpansion(/mnt/ceph/storage/data-in-progress/data-teaching/theses/wstud-thesis-hollatz/targer_indexes/pd_index_original-100/data.properties,8,14,<org.terrier.querying.RM3 at 0x7f5da87a8bd0 jclass=org/terrier/querying/RM3 jself=<LocalRef obj=0x55768bc87f18 at 0x7f5da89497f0>>) fb_terms=6', 'QueryExpansion(/mnt/ceph/storage/data-in-progress/data-teaching/theses/wstud-thesis-hollatz/targer_indexes/pd_index_original-100/data.properties,8,14,<org.terrier.querying.RM3 at 0x7f5da87a8bd0 jclass=org/terrier/querying/RM3 jself=<LocalRef obj=0x55768bc87f18 at 0x7f5da89497f0>>) fb_docs=8', 'QueryExpansion(/mnt/ceph/storage/data-in-progress/data-teaching/theses/wstud-thesis-hollatz/targer_indexes/pd_index_original-100/data.properties,8,14,<org.terrier.querying.RM3 at 0x7f5da87a8bd0 jclass=org/terrier/querying/RM3 jself=<LocalRef obj=0x55768bc87f18 at 0x7f5da89497f0>>) fb_lambda=0.2']\n"
     ]
    },
    {
     "name": "stderr",
     "output_type": "stream",
     "text": [
      "/tmp/ipykernel_3683520/1523456533.py:32: FutureWarning: In future versions `DataFrame.to_latex` is expected to utilise the base implementation of `Styler.to_latex` for formatting and rendering. The arguments signature may therefore change. It is recommended instead to use `DataFrame.style.to_latex` which also contains additional functionality.\n",
      "  print(pt.Experiment([pipe_qe, dlm_rm3_for_qe], topics, qrels,\n"
     ]
    },
    {
     "name": "stdout",
     "output_type": "stream",
     "text": [
      "\\begin{tabular}{llrrr}\n",
      "\\toprule\n",
      "{} &             name &  ndcg\\_cut\\_5 &  ndcg\\_cut\\_25 &     bpref \\\\\n",
      "\\midrule\n",
      "0 &    tuned\\_dlm\\_rm3 &    0.497589 &     0.363329 &  0.570722 \\\\\n",
      "1 &  orignal\\_dlm\\_rm3 &    0.573641 &     0.452373 &  0.590270 \\\\\n",
      "\\bottomrule\n",
      "\\end{tabular}\n",
      "\n"
     ]
    },
    {
     "name": "stderr",
     "output_type": "stream",
     "text": [
      "/tmp/ipykernel_3683520/1523456533.py:36: FutureWarning: In future versions `DataFrame.to_latex` is expected to utilise the base implementation of `Styler.to_latex` for formatting and rendering. The arguments signature may therefore change. It is recommended instead to use `DataFrame.style.to_latex` which also contains additional functionality.\n",
      "  print(pt.Experiment([pipe_qe, dlm_rm3_for_qe], topics20, qrels, names=['20original_tuned_dlm_rm3', '20orignal_dlm_rm3'],\n"
     ]
    },
    {
     "name": "stdout",
     "output_type": "stream",
     "text": [
      "\\begin{tabular}{llrrr}\n",
      "\\toprule\n",
      "{} &                      name &  ndcg\\_cut\\_5 &  ndcg\\_cut\\_25 &     bpref \\\\\n",
      "\\midrule\n",
      "0 &  20original\\_tuned\\_dlm\\_rm3 &    0.451997 &     0.346067 &  0.582728 \\\\\n",
      "1 &         20orignal\\_dlm\\_rm3 &    0.506382 &     0.386060 &  0.581117 \\\\\n",
      "\\bottomrule\n",
      "\\end{tabular}\n",
      "\n"
     ]
    },
    {
     "name": "stderr",
     "output_type": "stream",
     "text": [
      "/tmp/ipykernel_3683520/1523456533.py:39: FutureWarning: In future versions `DataFrame.to_latex` is expected to utilise the base implementation of `Styler.to_latex` for formatting and rendering. The arguments signature may therefore change. It is recommended instead to use `DataFrame.style.to_latex` which also contains additional functionality.\n",
      "  print(pt.Experiment([pipe_qe, dlm_rm3_for_qe], topics21, qrels, names=['21original_tuned_dlm_rm3', '21orignal_dlm_rm3'],\n"
     ]
    },
    {
     "name": "stdout",
     "output_type": "stream",
     "text": [
      "\\begin{tabular}{llrrr}\n",
      "\\toprule\n",
      "{} &                      name &  ndcg\\_cut\\_5 &  ndcg\\_cut\\_25 &     bpref \\\\\n",
      "\\midrule\n",
      "0 &  21original\\_tuned\\_dlm\\_rm3 &    0.542269 &     0.380245 &  0.558956 \\\\\n",
      "1 &         21orignal\\_dlm\\_rm3 &    0.639554 &     0.517360 &  0.599241 \\\\\n",
      "\\bottomrule\n",
      "\\end{tabular}\n",
      "\n"
     ]
    }
   ],
   "source": [
    "import os\n",
    "# rootdir = \"/mnt/ceph/storage/data-in-progress/data-teaching/theses/wstud-thesis-hollatz/DeepCT_indexes/\"\n",
    "rootdir = \"/mnt/ceph/storage/data-in-progress/data-teaching/theses/wstud-thesis-hollatz/targer_indexes/pd_index_original-100\"\n",
    "\n",
    "objective=\"ndcg_cut_5\"\n",
    "for i, (subdir, dirs, files) in enumerate(os.walk(rootdir)):\n",
    "    for file in files:\n",
    "        if(file == 'data.properties'):\n",
    "            path = subdir + '/'+ file\n",
    "            print('\\n' + subdir)\n",
    "            indexref = pt.IndexRef.of(path)\n",
    "            index = pt.IndexFactory.of(indexref)\n",
    "            dlm_rm3_for_qe = pt.BatchRetrieve(index, wmodel=\"DirichletLM\")\n",
    "            rm3 = pt.rewrite.RM3(index, fb_terms=10, fb_docs=3)\n",
    "            pipe_qe = dlm_rm3_for_qe >> rm3 >> dlm_rm3_for_qe\n",
    "            \n",
    "            param_map = {\n",
    "                rm3 : {\n",
    "                    \"fb_terms\" : list(range(4, 16, 2)),\n",
    "                    \"fb_docs\" : list(range(4, 10, 2)),\n",
    "                    \"fb_lambda\": [0.2,0.4,0.6,0.8,1.0]\n",
    "                }\n",
    "            }\n",
    "            \n",
    "            pipe_qe, parameters = pt.KFoldGridSearch(\n",
    "                pipe_qe,\n",
    "                param_map,\n",
    "                [topics20, topics21],\n",
    "                [qrels20, qrels21],\n",
    "                objective\n",
    "            )\n",
    "            print(pt.Experiment([pipe_qe, dlm_rm3_for_qe], topics, qrels, \n",
    "                                names=['tuned_dlm_rm3','orignal_dlm_rm3'], \n",
    "                                eval_metrics=[\"ndcg_cut_5\", \"ndcg_cut_25\", \"bpref\"]).to_latex())\n",
    "            \n",
    "            print(pt.Experiment([pipe_qe, dlm_rm3_for_qe], topics20, qrels, names=['20original_tuned_dlm_rm3', '20orignal_dlm_rm3'], \n",
    "                                eval_metrics=[\"ndcg_cut_5\", \"ndcg_cut_25\", \"bpref\"]).to_latex())\n",
    "            \n",
    "            print(pt.Experiment([pipe_qe, dlm_rm3_for_qe], topics21, qrels, names=['21original_tuned_dlm_rm3', '21orignal_dlm_rm3'], \n",
    "                                eval_metrics=[\"ndcg_cut_5\", \"ndcg_cut_25\", \"bpref\"]).to_latex())\n",
    "#             pipe_qe.to_csv(path_or_buf=f\"/workspace/src/grid_search_right_qrels/final_right/run/{folders[i]}_tuned_dlm_rm3.csv\")\n",
    "            pipe_qe.to_csv(path_or_buf=f\"/workspace/src/grid_search_right_qrels/final_right/run/original_tuned_dlm_rm3.csv\")\n",
    "            "
   ]
  },
  {
   "cell_type": "code",
   "execution_count": 4,
   "id": "7b55a58e",
   "metadata": {
    "scrolled": false
   },
   "outputs": [
    {
     "name": "stdout",
     "output_type": "stream",
     "text": [
      "\n",
      "/mnt/ceph/storage/data-in-progress/data-teaching/theses/wstud-thesis-hollatz/DeepCT_indexes/conclusionspd_index\n",
      "Fold 1\n",
      "Best ndcg_cut_5 is 0.518446\n",
      "Best setting is ['QueryExpansion(/mnt/ceph/storage/data-in-progress/data-teaching/theses/wstud-thesis-hollatz/DeepCT_indexes/conclusionspd_index/data.properties,8,14,<org.terrier.querying.RM3 at 0x7f5d6229de50 jclass=org/terrier/querying/RM3 jself=<LocalRef obj=0x55768bc87f78 at 0x7f5d61df6930>>) fb_terms=12', 'QueryExpansion(/mnt/ceph/storage/data-in-progress/data-teaching/theses/wstud-thesis-hollatz/DeepCT_indexes/conclusionspd_index/data.properties,8,14,<org.terrier.querying.RM3 at 0x7f5d6229de50 jclass=org/terrier/querying/RM3 jself=<LocalRef obj=0x55768bc87f78 at 0x7f5d61df6930>>) fb_docs=6', 'QueryExpansion(/mnt/ceph/storage/data-in-progress/data-teaching/theses/wstud-thesis-hollatz/DeepCT_indexes/conclusionspd_index/data.properties,8,14,<org.terrier.querying.RM3 at 0x7f5d6229de50 jclass=org/terrier/querying/RM3 jself=<LocalRef obj=0x55768bc87f78 at 0x7f5d61df6930>>) fb_lambda=0.2']\n",
      "Fold 2\n",
      "Best ndcg_cut_5 is 0.457215\n",
      "Best setting is ['QueryExpansion(/mnt/ceph/storage/data-in-progress/data-teaching/theses/wstud-thesis-hollatz/DeepCT_indexes/conclusionspd_index/data.properties,8,14,<org.terrier.querying.RM3 at 0x7f5d6229de50 jclass=org/terrier/querying/RM3 jself=<LocalRef obj=0x55768bc87f78 at 0x7f5d61df6930>>) fb_terms=8', 'QueryExpansion(/mnt/ceph/storage/data-in-progress/data-teaching/theses/wstud-thesis-hollatz/DeepCT_indexes/conclusionspd_index/data.properties,8,14,<org.terrier.querying.RM3 at 0x7f5d6229de50 jclass=org/terrier/querying/RM3 jself=<LocalRef obj=0x55768bc87f78 at 0x7f5d61df6930>>) fb_docs=4', 'QueryExpansion(/mnt/ceph/storage/data-in-progress/data-teaching/theses/wstud-thesis-hollatz/DeepCT_indexes/conclusionspd_index/data.properties,8,14,<org.terrier.querying.RM3 at 0x7f5d6229de50 jclass=org/terrier/querying/RM3 jself=<LocalRef obj=0x55768bc87f78 at 0x7f5d61df6930>>) fb_lambda=0.2']\n"
     ]
    },
    {
     "name": "stderr",
     "output_type": "stream",
     "text": [
      "/tmp/ipykernel_3683520/4091487451.py:32: FutureWarning: In future versions `DataFrame.to_latex` is expected to utilise the base implementation of `Styler.to_latex` for formatting and rendering. The arguments signature may therefore change. It is recommended instead to use `DataFrame.style.to_latex` which also contains additional functionality.\n",
      "  print(pt.Experiment([pipe_qe, dlm_rm3_for_qe], topics, qrels, names=[folders[i] + '_tuned_dlm_rm3', folders[i] + '_orignal_dlm_rm3'], eval_metrics=[\"ndcg_cut_5\", \"ndcg_cut_25\", \"bpref\"]).to_latex())\n"
     ]
    },
    {
     "name": "stdout",
     "output_type": "stream",
     "text": [
      "\\begin{tabular}{llrrr}\n",
      "\\toprule\n",
      "{} &                         name &  ndcg\\_cut\\_5 &  ndcg\\_cut\\_25 &     bpref \\\\\n",
      "\\midrule\n",
      "0 &    conclusions\\_tuned\\_dlm\\_rm3 &    0.443514 &     0.363653 &  0.711345 \\\\\n",
      "1 &  conclusions\\_orignal\\_dlm\\_rm3 &    0.524059 &     0.448322 &  0.705230 \\\\\n",
      "\\bottomrule\n",
      "\\end{tabular}\n",
      "\n"
     ]
    },
    {
     "name": "stderr",
     "output_type": "stream",
     "text": [
      "/tmp/ipykernel_3683520/4091487451.py:34: FutureWarning: In future versions `DataFrame.to_latex` is expected to utilise the base implementation of `Styler.to_latex` for formatting and rendering. The arguments signature may therefore change. It is recommended instead to use `DataFrame.style.to_latex` which also contains additional functionality.\n",
      "  print(pt.Experiment([pipe_qe, dlm_rm3_for_qe], topics20, qrels, names=['20' + folders[i] + 'tuned_dlm_rm3', '20' + folders[i] + '_dlm_rm3'],\n"
     ]
    },
    {
     "name": "stdout",
     "output_type": "stream",
     "text": [
      "\\begin{tabular}{llrrr}\n",
      "\\toprule\n",
      "{} &                        name &  ndcg\\_cut\\_5 &  ndcg\\_cut\\_25 &     bpref \\\\\n",
      "\\midrule\n",
      "0 &  20conclusionstuned\\_dlm\\_rm3 &    0.393261 &     0.346387 &  0.715838 \\\\\n",
      "1 &       20conclusions\\_dlm\\_rm3 &    0.441318 &     0.370764 &  0.683595 \\\\\n",
      "\\bottomrule\n",
      "\\end{tabular}\n",
      "\n"
     ]
    },
    {
     "name": "stderr",
     "output_type": "stream",
     "text": [
      "/tmp/ipykernel_3683520/4091487451.py:37: FutureWarning: In future versions `DataFrame.to_latex` is expected to utilise the base implementation of `Styler.to_latex` for formatting and rendering. The arguments signature may therefore change. It is recommended instead to use `DataFrame.style.to_latex` which also contains additional functionality.\n",
      "  print(pt.Experiment([pipe_qe, dlm_rm3_for_qe], topics21, qrels, names=['21' + folders[i] + 'tuned_dlm_rm3', '21'+ folders[i] + '_dlm_rm3'],\n"
     ]
    },
    {
     "name": "stdout",
     "output_type": "stream",
     "text": [
      "\\begin{tabular}{llrrr}\n",
      "\\toprule\n",
      "{} &                        name &  ndcg\\_cut\\_5 &  ndcg\\_cut\\_25 &     bpref \\\\\n",
      "\\midrule\n",
      "0 &  21conclusionstuned\\_dlm\\_rm3 &    0.492761 &     0.380574 &  0.706942 \\\\\n",
      "1 &       21conclusions\\_dlm\\_rm3 &    0.605145 &     0.524329 &  0.726433 \\\\\n",
      "\\bottomrule\n",
      "\\end{tabular}\n",
      "\n",
      "\n",
      "/mnt/ceph/storage/data-in-progress/data-teaching/theses/wstud-thesis-hollatz/DeepCT_indexes/pool_topicspd_index\n",
      "Fold 1\n",
      "Best ndcg_cut_5 is 0.518249\n",
      "Best setting is ['QueryExpansion(/mnt/ceph/storage/data-in-progress/data-teaching/theses/wstud-thesis-hollatz/DeepCT_indexes/pool_topicspd_index/data.properties,8,14,<org.terrier.querying.RM3 at 0x7f5d61db7590 jclass=org/terrier/querying/RM3 jself=<LocalRef obj=0x55768bc87f30 at 0x7f5d610011d0>>) fb_terms=4', 'QueryExpansion(/mnt/ceph/storage/data-in-progress/data-teaching/theses/wstud-thesis-hollatz/DeepCT_indexes/pool_topicspd_index/data.properties,8,14,<org.terrier.querying.RM3 at 0x7f5d61db7590 jclass=org/terrier/querying/RM3 jself=<LocalRef obj=0x55768bc87f30 at 0x7f5d610011d0>>) fb_docs=8', 'QueryExpansion(/mnt/ceph/storage/data-in-progress/data-teaching/theses/wstud-thesis-hollatz/DeepCT_indexes/pool_topicspd_index/data.properties,8,14,<org.terrier.querying.RM3 at 0x7f5d61db7590 jclass=org/terrier/querying/RM3 jself=<LocalRef obj=0x55768bc87f30 at 0x7f5d610011d0>>) fb_lambda=0.2']\n",
      "Fold 2\n",
      "Best ndcg_cut_5 is 0.405189\n",
      "Best setting is ['QueryExpansion(/mnt/ceph/storage/data-in-progress/data-teaching/theses/wstud-thesis-hollatz/DeepCT_indexes/pool_topicspd_index/data.properties,8,14,<org.terrier.querying.RM3 at 0x7f5d61db7590 jclass=org/terrier/querying/RM3 jself=<LocalRef obj=0x55768bc87f30 at 0x7f5d610011d0>>) fb_terms=4', 'QueryExpansion(/mnt/ceph/storage/data-in-progress/data-teaching/theses/wstud-thesis-hollatz/DeepCT_indexes/pool_topicspd_index/data.properties,8,14,<org.terrier.querying.RM3 at 0x7f5d61db7590 jclass=org/terrier/querying/RM3 jself=<LocalRef obj=0x55768bc87f30 at 0x7f5d610011d0>>) fb_docs=8', 'QueryExpansion(/mnt/ceph/storage/data-in-progress/data-teaching/theses/wstud-thesis-hollatz/DeepCT_indexes/pool_topicspd_index/data.properties,8,14,<org.terrier.querying.RM3 at 0x7f5d61db7590 jclass=org/terrier/querying/RM3 jself=<LocalRef obj=0x55768bc87f30 at 0x7f5d610011d0>>) fb_lambda=0.2']\n"
     ]
    },
    {
     "name": "stderr",
     "output_type": "stream",
     "text": [
      "/tmp/ipykernel_3683520/4091487451.py:32: FutureWarning: In future versions `DataFrame.to_latex` is expected to utilise the base implementation of `Styler.to_latex` for formatting and rendering. The arguments signature may therefore change. It is recommended instead to use `DataFrame.style.to_latex` which also contains additional functionality.\n",
      "  print(pt.Experiment([pipe_qe, dlm_rm3_for_qe], topics, qrels, names=[folders[i] + '_tuned_dlm_rm3', folders[i] + '_orignal_dlm_rm3'], eval_metrics=[\"ndcg_cut_5\", \"ndcg_cut_25\", \"bpref\"]).to_latex())\n"
     ]
    },
    {
     "name": "stdout",
     "output_type": "stream",
     "text": [
      "\\begin{tabular}{llrrr}\n",
      "\\toprule\n",
      "{} &                         name &  ndcg\\_cut\\_5 &  ndcg\\_cut\\_25 &     bpref \\\\\n",
      "\\midrule\n",
      "0 &    pool\\_topics\\_tuned\\_dlm\\_rm3 &    0.462290 &     0.387583 &  0.723074 \\\\\n",
      "1 &  pool\\_topics\\_orignal\\_dlm\\_rm3 &    0.510127 &     0.442593 &  0.696906 \\\\\n",
      "\\bottomrule\n",
      "\\end{tabular}\n",
      "\n"
     ]
    },
    {
     "name": "stderr",
     "output_type": "stream",
     "text": [
      "/tmp/ipykernel_3683520/4091487451.py:34: FutureWarning: In future versions `DataFrame.to_latex` is expected to utilise the base implementation of `Styler.to_latex` for formatting and rendering. The arguments signature may therefore change. It is recommended instead to use `DataFrame.style.to_latex` which also contains additional functionality.\n",
      "  print(pt.Experiment([pipe_qe, dlm_rm3_for_qe], topics20, qrels, names=['20' + folders[i] + 'tuned_dlm_rm3', '20' + folders[i] + '_dlm_rm3'],\n"
     ]
    },
    {
     "name": "stdout",
     "output_type": "stream",
     "text": [
      "\\begin{tabular}{llrrr}\n",
      "\\toprule\n",
      "{} &                        name &  ndcg\\_cut\\_5 &  ndcg\\_cut\\_25 &     bpref \\\\\n",
      "\\midrule\n",
      "0 &  20pool\\_topicstuned\\_dlm\\_rm3 &    0.405189 &     0.357759 &  0.743247 \\\\\n",
      "1 &       20pool\\_topics\\_dlm\\_rm3 &    0.399289 &     0.360595 &  0.675262 \\\\\n",
      "\\bottomrule\n",
      "\\end{tabular}\n",
      "\n"
     ]
    },
    {
     "name": "stderr",
     "output_type": "stream",
     "text": [
      "/tmp/ipykernel_3683520/4091487451.py:37: FutureWarning: In future versions `DataFrame.to_latex` is expected to utilise the base implementation of `Styler.to_latex` for formatting and rendering. The arguments signature may therefore change. It is recommended instead to use `DataFrame.style.to_latex` which also contains additional functionality.\n",
      "  print(pt.Experiment([pipe_qe, dlm_rm3_for_qe], topics21, qrels, names=['21' + folders[i] + 'tuned_dlm_rm3', '21'+ folders[i] + '_dlm_rm3'],\n"
     ]
    },
    {
     "name": "stdout",
     "output_type": "stream",
     "text": [
      "\\begin{tabular}{llrrr}\n",
      "\\toprule\n",
      "{} &                        name &  ndcg\\_cut\\_5 &  ndcg\\_cut\\_25 &     bpref \\\\\n",
      "\\midrule\n",
      "0 &  21pool\\_topicstuned\\_dlm\\_rm3 &    0.518249 &     0.416812 &  0.703304 \\\\\n",
      "1 &       21pool\\_topics\\_dlm\\_rm3 &    0.618747 &     0.522950 &  0.718117 \\\\\n",
      "\\bottomrule\n",
      "\\end{tabular}\n",
      "\n",
      "\n",
      "/mnt/ceph/storage/data-in-progress/data-teaching/theses/wstud-thesis-hollatz/DeepCT_indexes/topicspd_index\n",
      "Fold 1\n",
      "Best ndcg_cut_5 is 0.514084\n",
      "Best setting is ['QueryExpansion(/mnt/ceph/storage/data-in-progress/data-teaching/theses/wstud-thesis-hollatz/DeepCT_indexes/topicspd_index/data.properties,8,14,<org.terrier.querying.RM3 at 0x7f5d61db7180 jclass=org/terrier/querying/RM3 jself=<LocalRef obj=0x55768bc87f78 at 0x7f5d60ec5f50>>) fb_terms=4', 'QueryExpansion(/mnt/ceph/storage/data-in-progress/data-teaching/theses/wstud-thesis-hollatz/DeepCT_indexes/topicspd_index/data.properties,8,14,<org.terrier.querying.RM3 at 0x7f5d61db7180 jclass=org/terrier/querying/RM3 jself=<LocalRef obj=0x55768bc87f78 at 0x7f5d60ec5f50>>) fb_docs=8', 'QueryExpansion(/mnt/ceph/storage/data-in-progress/data-teaching/theses/wstud-thesis-hollatz/DeepCT_indexes/topicspd_index/data.properties,8,14,<org.terrier.querying.RM3 at 0x7f5d61db7180 jclass=org/terrier/querying/RM3 jself=<LocalRef obj=0x55768bc87f78 at 0x7f5d60ec5f50>>) fb_lambda=0.2']\n",
      "Fold 2\n",
      "Best ndcg_cut_5 is 0.475770\n",
      "Best setting is ['QueryExpansion(/mnt/ceph/storage/data-in-progress/data-teaching/theses/wstud-thesis-hollatz/DeepCT_indexes/topicspd_index/data.properties,8,14,<org.terrier.querying.RM3 at 0x7f5d61db7180 jclass=org/terrier/querying/RM3 jself=<LocalRef obj=0x55768bc87f78 at 0x7f5d60ec5f50>>) fb_terms=4', 'QueryExpansion(/mnt/ceph/storage/data-in-progress/data-teaching/theses/wstud-thesis-hollatz/DeepCT_indexes/topicspd_index/data.properties,8,14,<org.terrier.querying.RM3 at 0x7f5d61db7180 jclass=org/terrier/querying/RM3 jself=<LocalRef obj=0x55768bc87f78 at 0x7f5d60ec5f50>>) fb_docs=6', 'QueryExpansion(/mnt/ceph/storage/data-in-progress/data-teaching/theses/wstud-thesis-hollatz/DeepCT_indexes/topicspd_index/data.properties,8,14,<org.terrier.querying.RM3 at 0x7f5d61db7180 jclass=org/terrier/querying/RM3 jself=<LocalRef obj=0x55768bc87f78 at 0x7f5d60ec5f50>>) fb_lambda=0.2']\n"
     ]
    },
    {
     "name": "stderr",
     "output_type": "stream",
     "text": [
      "/tmp/ipykernel_3683520/4091487451.py:32: FutureWarning: In future versions `DataFrame.to_latex` is expected to utilise the base implementation of `Styler.to_latex` for formatting and rendering. The arguments signature may therefore change. It is recommended instead to use `DataFrame.style.to_latex` which also contains additional functionality.\n",
      "  print(pt.Experiment([pipe_qe, dlm_rm3_for_qe], topics, qrels, names=[folders[i] + '_tuned_dlm_rm3', folders[i] + '_orignal_dlm_rm3'], eval_metrics=[\"ndcg_cut_5\", \"ndcg_cut_25\", \"bpref\"]).to_latex())\n"
     ]
    },
    {
     "name": "stdout",
     "output_type": "stream",
     "text": [
      "\\begin{tabular}{llrrr}\n",
      "\\toprule\n",
      "{} &                    name &  ndcg\\_cut\\_5 &  ndcg\\_cut\\_25 &     bpref \\\\\n",
      "\\midrule\n",
      "0 &    topics\\_tuned\\_dlm\\_rm3 &    0.480054 &     0.393018 &  0.721832 \\\\\n",
      "1 &  topics\\_orignal\\_dlm\\_rm3 &    0.519300 &     0.445862 &  0.697755 \\\\\n",
      "\\bottomrule\n",
      "\\end{tabular}\n",
      "\n"
     ]
    },
    {
     "name": "stderr",
     "output_type": "stream",
     "text": [
      "/tmp/ipykernel_3683520/4091487451.py:34: FutureWarning: In future versions `DataFrame.to_latex` is expected to utilise the base implementation of `Styler.to_latex` for formatting and rendering. The arguments signature may therefore change. It is recommended instead to use `DataFrame.style.to_latex` which also contains additional functionality.\n",
      "  print(pt.Experiment([pipe_qe, dlm_rm3_for_qe], topics20, qrels, names=['20' + folders[i] + 'tuned_dlm_rm3', '20' + folders[i] + '_dlm_rm3'],\n"
     ]
    },
    {
     "name": "stdout",
     "output_type": "stream",
     "text": [
      "\\begin{tabular}{llrrr}\n",
      "\\toprule\n",
      "{} &                   name &  ndcg\\_cut\\_5 &  ndcg\\_cut\\_25 &     bpref \\\\\n",
      "\\midrule\n",
      "0 &  20topicstuned\\_dlm\\_rm3 &    0.449439 &     0.367313 &  0.737375 \\\\\n",
      "1 &       20topics\\_dlm\\_rm3 &    0.445884 &     0.367172 &  0.677695 \\\\\n",
      "\\bottomrule\n",
      "\\end{tabular}\n",
      "\n"
     ]
    },
    {
     "name": "stderr",
     "output_type": "stream",
     "text": [
      "/tmp/ipykernel_3683520/4091487451.py:37: FutureWarning: In future versions `DataFrame.to_latex` is expected to utilise the base implementation of `Styler.to_latex` for formatting and rendering. The arguments signature may therefore change. It is recommended instead to use `DataFrame.style.to_latex` which also contains additional functionality.\n",
      "  print(pt.Experiment([pipe_qe, dlm_rm3_for_qe], topics21, qrels, names=['21' + folders[i] + 'tuned_dlm_rm3', '21'+ folders[i] + '_dlm_rm3'],\n"
     ]
    },
    {
     "name": "stdout",
     "output_type": "stream",
     "text": [
      "\\begin{tabular}{llrrr}\n",
      "\\toprule\n",
      "{} &                   name &  ndcg\\_cut\\_5 &  ndcg\\_cut\\_25 &     bpref \\\\\n",
      "\\midrule\n",
      "0 &  21topicstuned\\_dlm\\_rm3 &    0.510057 &     0.418210 &  0.706601 \\\\\n",
      "1 &       21topics\\_dlm\\_rm3 &    0.591248 &     0.522979 &  0.717413 \\\\\n",
      "\\bottomrule\n",
      "\\end{tabular}\n",
      "\n",
      "\n",
      "/mnt/ceph/storage/data-in-progress/data-teaching/theses/wstud-thesis-hollatz/DeepCT_indexes/topics_conclusionpd_index\n",
      "Fold 1\n",
      "Best ndcg_cut_5 is 0.504945\n",
      "Best setting is ['QueryExpansion(/mnt/ceph/storage/data-in-progress/data-teaching/theses/wstud-thesis-hollatz/DeepCT_indexes/topics_conclusionpd_index/data.properties,8,14,<org.terrier.querying.RM3 at 0x7f5d60db5a40 jclass=org/terrier/querying/RM3 jself=<LocalRef obj=0x55768bc87f48 at 0x7f5d6155a0b0>>) fb_terms=14', 'QueryExpansion(/mnt/ceph/storage/data-in-progress/data-teaching/theses/wstud-thesis-hollatz/DeepCT_indexes/topics_conclusionpd_index/data.properties,8,14,<org.terrier.querying.RM3 at 0x7f5d60db5a40 jclass=org/terrier/querying/RM3 jself=<LocalRef obj=0x55768bc87f48 at 0x7f5d6155a0b0>>) fb_docs=4', 'QueryExpansion(/mnt/ceph/storage/data-in-progress/data-teaching/theses/wstud-thesis-hollatz/DeepCT_indexes/topics_conclusionpd_index/data.properties,8,14,<org.terrier.querying.RM3 at 0x7f5d60db5a40 jclass=org/terrier/querying/RM3 jself=<LocalRef obj=0x55768bc87f48 at 0x7f5d6155a0b0>>) fb_lambda=0.2']\n",
      "Fold 2\n",
      "Best ndcg_cut_5 is 0.466965\n",
      "Best setting is ['QueryExpansion(/mnt/ceph/storage/data-in-progress/data-teaching/theses/wstud-thesis-hollatz/DeepCT_indexes/topics_conclusionpd_index/data.properties,8,14,<org.terrier.querying.RM3 at 0x7f5d60db5a40 jclass=org/terrier/querying/RM3 jself=<LocalRef obj=0x55768bc87f48 at 0x7f5d6155a0b0>>) fb_terms=6', 'QueryExpansion(/mnt/ceph/storage/data-in-progress/data-teaching/theses/wstud-thesis-hollatz/DeepCT_indexes/topics_conclusionpd_index/data.properties,8,14,<org.terrier.querying.RM3 at 0x7f5d60db5a40 jclass=org/terrier/querying/RM3 jself=<LocalRef obj=0x55768bc87f48 at 0x7f5d6155a0b0>>) fb_docs=6', 'QueryExpansion(/mnt/ceph/storage/data-in-progress/data-teaching/theses/wstud-thesis-hollatz/DeepCT_indexes/topics_conclusionpd_index/data.properties,8,14,<org.terrier.querying.RM3 at 0x7f5d60db5a40 jclass=org/terrier/querying/RM3 jself=<LocalRef obj=0x55768bc87f48 at 0x7f5d6155a0b0>>) fb_lambda=0.2']\n"
     ]
    },
    {
     "name": "stderr",
     "output_type": "stream",
     "text": [
      "/tmp/ipykernel_3683520/4091487451.py:32: FutureWarning: In future versions `DataFrame.to_latex` is expected to utilise the base implementation of `Styler.to_latex` for formatting and rendering. The arguments signature may therefore change. It is recommended instead to use `DataFrame.style.to_latex` which also contains additional functionality.\n",
      "  print(pt.Experiment([pipe_qe, dlm_rm3_for_qe], topics, qrels, names=[folders[i] + '_tuned_dlm_rm3', folders[i] + '_orignal_dlm_rm3'], eval_metrics=[\"ndcg_cut_5\", \"ndcg_cut_25\", \"bpref\"]).to_latex())\n"
     ]
    },
    {
     "name": "stdout",
     "output_type": "stream",
     "text": [
      "\\begin{tabular}{llrrr}\n",
      "\\toprule\n",
      "{} &                               name &  ndcg\\_cut\\_5 &  ndcg\\_cut\\_25 &     bpref \\\\\n",
      "\\midrule\n",
      "0 &    topics\\_conclusion\\_tuned\\_dlm\\_rm3 &    0.422050 &     0.356754 &  0.701001 \\\\\n",
      "1 &  topics\\_conclusion\\_orignal\\_dlm\\_rm3 &    0.523626 &     0.444796 &  0.703587 \\\\\n",
      "\\bottomrule\n",
      "\\end{tabular}\n",
      "\n"
     ]
    },
    {
     "name": "stderr",
     "output_type": "stream",
     "text": [
      "/tmp/ipykernel_3683520/4091487451.py:34: FutureWarning: In future versions `DataFrame.to_latex` is expected to utilise the base implementation of `Styler.to_latex` for formatting and rendering. The arguments signature may therefore change. It is recommended instead to use `DataFrame.style.to_latex` which also contains additional functionality.\n",
      "  print(pt.Experiment([pipe_qe, dlm_rm3_for_qe], topics20, qrels, names=['20' + folders[i] + 'tuned_dlm_rm3', '20' + folders[i] + '_dlm_rm3'],\n"
     ]
    },
    {
     "name": "stdout",
     "output_type": "stream",
     "text": [
      "\\begin{tabular}{llrrr}\n",
      "\\toprule\n",
      "{} &                              name &  ndcg\\_cut\\_5 &  ndcg\\_cut\\_25 &     bpref \\\\\n",
      "\\midrule\n",
      "0 &  20topics\\_conclusiontuned\\_dlm\\_rm3 &    0.409637 &     0.339616 &  0.692710 \\\\\n",
      "1 &       20topics\\_conclusion\\_dlm\\_rm3 &    0.445133 &     0.364409 &  0.685123 \\\\\n",
      "\\bottomrule\n",
      "\\end{tabular}\n",
      "\n"
     ]
    },
    {
     "name": "stderr",
     "output_type": "stream",
     "text": [
      "/tmp/ipykernel_3683520/4091487451.py:37: FutureWarning: In future versions `DataFrame.to_latex` is expected to utilise the base implementation of `Styler.to_latex` for formatting and rendering. The arguments signature may therefore change. It is recommended instead to use `DataFrame.style.to_latex` which also contains additional functionality.\n",
      "  print(pt.Experiment([pipe_qe, dlm_rm3_for_qe], topics21, qrels, names=['21' + folders[i] + 'tuned_dlm_rm3', '21'+ folders[i] + '_dlm_rm3'],\n"
     ]
    },
    {
     "name": "stdout",
     "output_type": "stream",
     "text": [
      "\\begin{tabular}{llrrr}\n",
      "\\toprule\n",
      "{} &                              name &  ndcg\\_cut\\_5 &  ndcg\\_cut\\_25 &     bpref \\\\\n",
      "\\midrule\n",
      "0 &  21topics\\_conclusiontuned\\_dlm\\_rm3 &    0.434215 &     0.373548 &  0.709125 \\\\\n",
      "1 &       21topics\\_conclusion\\_dlm\\_rm3 &    0.600549 &     0.523576 &  0.721682 \\\\\n",
      "\\bottomrule\n",
      "\\end{tabular}\n",
      "\n",
      "\n",
      "/mnt/ceph/storage/data-in-progress/data-teaching/theses/wstud-thesis-hollatz/DeepCT_indexes/topics_conclusions_leakage/pd_index\n",
      "Fold 1\n",
      "Best ndcg_cut_5 is 0.508601\n",
      "Best setting is ['QueryExpansion(/mnt/ceph/storage/data-in-progress/data-teaching/theses/wstud-thesis-hollatz/DeepCT_indexes/topics_conclusions_leakage/pd_index/data.properties,8,14,<org.terrier.querying.RM3 at 0x7f5d60db58b0 jclass=org/terrier/querying/RM3 jself=<LocalRef obj=0x55768bc87f78 at 0x7f5d61c89e10>>) fb_terms=4', 'QueryExpansion(/mnt/ceph/storage/data-in-progress/data-teaching/theses/wstud-thesis-hollatz/DeepCT_indexes/topics_conclusions_leakage/pd_index/data.properties,8,14,<org.terrier.querying.RM3 at 0x7f5d60db58b0 jclass=org/terrier/querying/RM3 jself=<LocalRef obj=0x55768bc87f78 at 0x7f5d61c89e10>>) fb_docs=6', 'QueryExpansion(/mnt/ceph/storage/data-in-progress/data-teaching/theses/wstud-thesis-hollatz/DeepCT_indexes/topics_conclusions_leakage/pd_index/data.properties,8,14,<org.terrier.querying.RM3 at 0x7f5d60db58b0 jclass=org/terrier/querying/RM3 jself=<LocalRef obj=0x55768bc87f78 at 0x7f5d61c89e10>>) fb_lambda=0.2']\n",
      "Fold 2\n",
      "Best ndcg_cut_5 is 0.489893\n",
      "Best setting is ['QueryExpansion(/mnt/ceph/storage/data-in-progress/data-teaching/theses/wstud-thesis-hollatz/DeepCT_indexes/topics_conclusions_leakage/pd_index/data.properties,8,14,<org.terrier.querying.RM3 at 0x7f5d60db58b0 jclass=org/terrier/querying/RM3 jself=<LocalRef obj=0x55768bc87f78 at 0x7f5d61c89e10>>) fb_terms=4', 'QueryExpansion(/mnt/ceph/storage/data-in-progress/data-teaching/theses/wstud-thesis-hollatz/DeepCT_indexes/topics_conclusions_leakage/pd_index/data.properties,8,14,<org.terrier.querying.RM3 at 0x7f5d60db58b0 jclass=org/terrier/querying/RM3 jself=<LocalRef obj=0x55768bc87f78 at 0x7f5d61c89e10>>) fb_docs=6', 'QueryExpansion(/mnt/ceph/storage/data-in-progress/data-teaching/theses/wstud-thesis-hollatz/DeepCT_indexes/topics_conclusions_leakage/pd_index/data.properties,8,14,<org.terrier.querying.RM3 at 0x7f5d60db58b0 jclass=org/terrier/querying/RM3 jself=<LocalRef obj=0x55768bc87f78 at 0x7f5d61c89e10>>) fb_lambda=0.2']\n"
     ]
    },
    {
     "name": "stderr",
     "output_type": "stream",
     "text": [
      "/tmp/ipykernel_3683520/4091487451.py:32: FutureWarning: In future versions `DataFrame.to_latex` is expected to utilise the base implementation of `Styler.to_latex` for formatting and rendering. The arguments signature may therefore change. It is recommended instead to use `DataFrame.style.to_latex` which also contains additional functionality.\n",
      "  print(pt.Experiment([pipe_qe, dlm_rm3_for_qe], topics, qrels, names=[folders[i] + '_tuned_dlm_rm3', folders[i] + '_orignal_dlm_rm3'], eval_metrics=[\"ndcg_cut_5\", \"ndcg_cut_25\", \"bpref\"]).to_latex())\n"
     ]
    },
    {
     "name": "stdout",
     "output_type": "stream",
     "text": [
      "\\begin{tabular}{llrrr}\n",
      "\\toprule\n",
      "{} &                                       name &  ndcg\\_cut\\_5 &  ndcg\\_cut\\_25 &     bpref \\\\\n",
      "\\midrule\n",
      "0 &    topics\\_conclusion\\_leakage\\_tuned\\_dlm\\_rm3 &    0.499341 &     0.397121 &  0.740435 \\\\\n",
      "1 &  topics\\_conclusion\\_leakage\\_orignal\\_dlm\\_rm3 &    0.517538 &     0.451477 &  0.704657 \\\\\n",
      "\\bottomrule\n",
      "\\end{tabular}\n",
      "\n"
     ]
    },
    {
     "name": "stderr",
     "output_type": "stream",
     "text": [
      "/tmp/ipykernel_3683520/4091487451.py:34: FutureWarning: In future versions `DataFrame.to_latex` is expected to utilise the base implementation of `Styler.to_latex` for formatting and rendering. The arguments signature may therefore change. It is recommended instead to use `DataFrame.style.to_latex` which also contains additional functionality.\n",
      "  print(pt.Experiment([pipe_qe, dlm_rm3_for_qe], topics20, qrels, names=['20' + folders[i] + 'tuned_dlm_rm3', '20' + folders[i] + '_dlm_rm3'],\n"
     ]
    },
    {
     "name": "stdout",
     "output_type": "stream",
     "text": [
      "\\begin{tabular}{llrrr}\n",
      "\\toprule\n",
      "{} &                                      name &  ndcg\\_cut\\_5 &  ndcg\\_cut\\_25 &     bpref \\\\\n",
      "\\midrule\n",
      "0 &  20topics\\_conclusion\\_leakagetuned\\_dlm\\_rm3 &    0.489893 &     0.380579 &  0.753749 \\\\\n",
      "1 &       20topics\\_conclusion\\_leakage\\_dlm\\_rm3 &    0.427563 &     0.360789 &  0.685361 \\\\\n",
      "\\bottomrule\n",
      "\\end{tabular}\n",
      "\n"
     ]
    },
    {
     "name": "stderr",
     "output_type": "stream",
     "text": [
      "/tmp/ipykernel_3683520/4091487451.py:37: FutureWarning: In future versions `DataFrame.to_latex` is expected to utilise the base implementation of `Styler.to_latex` for formatting and rendering. The arguments signature may therefore change. It is recommended instead to use `DataFrame.style.to_latex` which also contains additional functionality.\n",
      "  print(pt.Experiment([pipe_qe, dlm_rm3_for_qe], topics21, qrels, names=['21' + folders[i] + 'tuned_dlm_rm3', '21'+ folders[i] + '_dlm_rm3'],\n"
     ]
    },
    {
     "name": "stdout",
     "output_type": "stream",
     "text": [
      "\\begin{tabular}{llrrr}\n",
      "\\toprule\n",
      "{} &                                      name &  ndcg\\_cut\\_5 &  ndcg\\_cut\\_25 &     bpref \\\\\n",
      "\\midrule\n",
      "0 &  21topics\\_conclusion\\_leakagetuned\\_dlm\\_rm3 &    0.508601 &     0.413333 &  0.727387 \\\\\n",
      "1 &       21topics\\_conclusion\\_leakage\\_dlm\\_rm3 &    0.605714 &     0.540352 &  0.723567 \\\\\n",
      "\\bottomrule\n",
      "\\end{tabular}\n",
      "\n",
      "\n",
      "/mnt/ceph/storage/data-in-progress/data-teaching/theses/wstud-thesis-hollatz/DeepCT_indexes/topics_leakage/pd_index\n",
      "Fold 1\n",
      "Best ndcg_cut_5 is 0.502672\n",
      "Best setting is ['QueryExpansion(/mnt/ceph/storage/data-in-progress/data-teaching/theses/wstud-thesis-hollatz/DeepCT_indexes/topics_leakage/pd_index/data.properties,8,14,<org.terrier.querying.RM3 at 0x7f5d61032a40 jclass=org/terrier/querying/RM3 jself=<LocalRef obj=0x55768bc87f50 at 0x7f5d61cb50d0>>) fb_terms=4', 'QueryExpansion(/mnt/ceph/storage/data-in-progress/data-teaching/theses/wstud-thesis-hollatz/DeepCT_indexes/topics_leakage/pd_index/data.properties,8,14,<org.terrier.querying.RM3 at 0x7f5d61032a40 jclass=org/terrier/querying/RM3 jself=<LocalRef obj=0x55768bc87f50 at 0x7f5d61cb50d0>>) fb_docs=6', 'QueryExpansion(/mnt/ceph/storage/data-in-progress/data-teaching/theses/wstud-thesis-hollatz/DeepCT_indexes/topics_leakage/pd_index/data.properties,8,14,<org.terrier.querying.RM3 at 0x7f5d61032a40 jclass=org/terrier/querying/RM3 jself=<LocalRef obj=0x55768bc87f50 at 0x7f5d61cb50d0>>) fb_lambda=0.2']\n",
      "Fold 2\n",
      "Best ndcg_cut_5 is 0.469070\n",
      "Best setting is ['QueryExpansion(/mnt/ceph/storage/data-in-progress/data-teaching/theses/wstud-thesis-hollatz/DeepCT_indexes/topics_leakage/pd_index/data.properties,8,14,<org.terrier.querying.RM3 at 0x7f5d61032a40 jclass=org/terrier/querying/RM3 jself=<LocalRef obj=0x55768bc87f50 at 0x7f5d61cb50d0>>) fb_terms=8', 'QueryExpansion(/mnt/ceph/storage/data-in-progress/data-teaching/theses/wstud-thesis-hollatz/DeepCT_indexes/topics_leakage/pd_index/data.properties,8,14,<org.terrier.querying.RM3 at 0x7f5d61032a40 jclass=org/terrier/querying/RM3 jself=<LocalRef obj=0x55768bc87f50 at 0x7f5d61cb50d0>>) fb_docs=4', 'QueryExpansion(/mnt/ceph/storage/data-in-progress/data-teaching/theses/wstud-thesis-hollatz/DeepCT_indexes/topics_leakage/pd_index/data.properties,8,14,<org.terrier.querying.RM3 at 0x7f5d61032a40 jclass=org/terrier/querying/RM3 jself=<LocalRef obj=0x55768bc87f50 at 0x7f5d61cb50d0>>) fb_lambda=0.2']\n"
     ]
    },
    {
     "name": "stderr",
     "output_type": "stream",
     "text": [
      "/tmp/ipykernel_3683520/4091487451.py:32: FutureWarning: In future versions `DataFrame.to_latex` is expected to utilise the base implementation of `Styler.to_latex` for formatting and rendering. The arguments signature may therefore change. It is recommended instead to use `DataFrame.style.to_latex` which also contains additional functionality.\n",
      "  print(pt.Experiment([pipe_qe, dlm_rm3_for_qe], topics, qrels, names=[folders[i] + '_tuned_dlm_rm3', folders[i] + '_orignal_dlm_rm3'], eval_metrics=[\"ndcg_cut_5\", \"ndcg_cut_25\", \"bpref\"]).to_latex())\n"
     ]
    },
    {
     "name": "stdout",
     "output_type": "stream",
     "text": [
      "\\begin{tabular}{llrrr}\n",
      "\\toprule\n",
      "{} &                            name &  ndcg\\_cut\\_5 &  ndcg\\_cut\\_25 &     bpref \\\\\n",
      "\\midrule\n",
      "0 &    topics\\_leakage\\_tuned\\_dlm\\_rm3 &    0.455479 &     0.372372 &  0.724809 \\\\\n",
      "1 &  topics\\_leakage\\_orignal\\_dlm\\_rm3 &    0.529111 &     0.448171 &  0.703937 \\\\\n",
      "\\bottomrule\n",
      "\\end{tabular}\n",
      "\n"
     ]
    },
    {
     "name": "stderr",
     "output_type": "stream",
     "text": [
      "/tmp/ipykernel_3683520/4091487451.py:34: FutureWarning: In future versions `DataFrame.to_latex` is expected to utilise the base implementation of `Styler.to_latex` for formatting and rendering. The arguments signature may therefore change. It is recommended instead to use `DataFrame.style.to_latex` which also contains additional functionality.\n",
      "  print(pt.Experiment([pipe_qe, dlm_rm3_for_qe], topics20, qrels, names=['20' + folders[i] + 'tuned_dlm_rm3', '20' + folders[i] + '_dlm_rm3'],\n"
     ]
    },
    {
     "name": "stdout",
     "output_type": "stream",
     "text": [
      "\\begin{tabular}{llrrr}\n",
      "\\toprule\n",
      "{} &                           name &  ndcg\\_cut\\_5 &  ndcg\\_cut\\_25 &     bpref \\\\\n",
      "\\midrule\n",
      "0 &  20topics\\_leakagetuned\\_dlm\\_rm3 &    0.459737 &     0.375928 &  0.749331 \\\\\n",
      "1 &       20topics\\_leakage\\_dlm\\_rm3 &    0.455846 &     0.366653 &  0.680657 \\\\\n",
      "\\bottomrule\n",
      "\\end{tabular}\n",
      "\n"
     ]
    },
    {
     "name": "stderr",
     "output_type": "stream",
     "text": [
      "/tmp/ipykernel_3683520/4091487451.py:37: FutureWarning: In future versions `DataFrame.to_latex` is expected to utilise the base implementation of `Styler.to_latex` for formatting and rendering. The arguments signature may therefore change. It is recommended instead to use `DataFrame.style.to_latex` which also contains additional functionality.\n",
      "  print(pt.Experiment([pipe_qe, dlm_rm3_for_qe], topics21, qrels, names=['21' + folders[i] + 'tuned_dlm_rm3', '21'+ folders[i] + '_dlm_rm3'],\n"
     ]
    },
    {
     "name": "stdout",
     "output_type": "stream",
     "text": [
      "\\begin{tabular}{llrrr}\n",
      "\\toprule\n",
      "{} &                           name &  ndcg\\_cut\\_5 &  ndcg\\_cut\\_25 &     bpref \\\\\n",
      "\\midrule\n",
      "0 &  21topics\\_leakagetuned\\_dlm\\_rm3 &    0.451306 &     0.368888 &  0.700777 \\\\\n",
      "1 &       21topics\\_leakage\\_dlm\\_rm3 &    0.600911 &     0.528058 &  0.726751 \\\\\n",
      "\\bottomrule\n",
      "\\end{tabular}\n",
      "\n",
      "\n",
      "/mnt/ceph/storage/data-in-progress/data-teaching/theses/wstud-thesis-hollatz/DeepCT_indexes/pools_topics_conclusionspd_index\n",
      "Fold 1\n",
      "Best ndcg_cut_5 is 0.533532\n",
      "Best setting is ['QueryExpansion(/mnt/ceph/storage/data-in-progress/data-teaching/theses/wstud-thesis-hollatz/DeepCT_indexes/pools_topics_conclusionspd_index/data.properties,8,14,<org.terrier.querying.RM3 at 0x7f5d51a2e9f0 jclass=org/terrier/querying/RM3 jself=<LocalRef obj=0x55768bc87f30 at 0x7f5d614810b0>>) fb_terms=12', 'QueryExpansion(/mnt/ceph/storage/data-in-progress/data-teaching/theses/wstud-thesis-hollatz/DeepCT_indexes/pools_topics_conclusionspd_index/data.properties,8,14,<org.terrier.querying.RM3 at 0x7f5d51a2e9f0 jclass=org/terrier/querying/RM3 jself=<LocalRef obj=0x55768bc87f30 at 0x7f5d614810b0>>) fb_docs=4', 'QueryExpansion(/mnt/ceph/storage/data-in-progress/data-teaching/theses/wstud-thesis-hollatz/DeepCT_indexes/pools_topics_conclusionspd_index/data.properties,8,14,<org.terrier.querying.RM3 at 0x7f5d51a2e9f0 jclass=org/terrier/querying/RM3 jself=<LocalRef obj=0x55768bc87f30 at 0x7f5d614810b0>>) fb_lambda=0.2']\n",
      "Fold 2\n",
      "Best ndcg_cut_5 is 0.448969\n",
      "Best setting is ['QueryExpansion(/mnt/ceph/storage/data-in-progress/data-teaching/theses/wstud-thesis-hollatz/DeepCT_indexes/pools_topics_conclusionspd_index/data.properties,8,14,<org.terrier.querying.RM3 at 0x7f5d51a2e9f0 jclass=org/terrier/querying/RM3 jself=<LocalRef obj=0x55768bc87f30 at 0x7f5d614810b0>>) fb_terms=4', 'QueryExpansion(/mnt/ceph/storage/data-in-progress/data-teaching/theses/wstud-thesis-hollatz/DeepCT_indexes/pools_topics_conclusionspd_index/data.properties,8,14,<org.terrier.querying.RM3 at 0x7f5d51a2e9f0 jclass=org/terrier/querying/RM3 jself=<LocalRef obj=0x55768bc87f30 at 0x7f5d614810b0>>) fb_docs=4', 'QueryExpansion(/mnt/ceph/storage/data-in-progress/data-teaching/theses/wstud-thesis-hollatz/DeepCT_indexes/pools_topics_conclusionspd_index/data.properties,8,14,<org.terrier.querying.RM3 at 0x7f5d51a2e9f0 jclass=org/terrier/querying/RM3 jself=<LocalRef obj=0x55768bc87f30 at 0x7f5d614810b0>>) fb_lambda=0.2']\n"
     ]
    },
    {
     "name": "stderr",
     "output_type": "stream",
     "text": [
      "/tmp/ipykernel_3683520/4091487451.py:32: FutureWarning: In future versions `DataFrame.to_latex` is expected to utilise the base implementation of `Styler.to_latex` for formatting and rendering. The arguments signature may therefore change. It is recommended instead to use `DataFrame.style.to_latex` which also contains additional functionality.\n",
      "  print(pt.Experiment([pipe_qe, dlm_rm3_for_qe], topics, qrels, names=[folders[i] + '_tuned_dlm_rm3', folders[i] + '_orignal_dlm_rm3'], eval_metrics=[\"ndcg_cut_5\", \"ndcg_cut_25\", \"bpref\"]).to_latex())\n"
     ]
    },
    {
     "name": "stdout",
     "output_type": "stream",
     "text": [
      "\\begin{tabular}{llrrr}\n",
      "\\toprule\n",
      "{} &                                     name &  ndcg\\_cut\\_5 &  ndcg\\_cut\\_25 &     bpref \\\\\n",
      "\\midrule\n",
      "0 &    pool\\_topics\\_conclusions\\_tuned\\_dlm\\_rm3 &    0.457913 &     0.379185 &  0.708333 \\\\\n",
      "1 &  pool\\_topics\\_conclusions\\_orignal\\_dlm\\_rm3 &    0.540907 &     0.445626 &  0.700548 \\\\\n",
      "\\bottomrule\n",
      "\\end{tabular}\n",
      "\n"
     ]
    },
    {
     "name": "stderr",
     "output_type": "stream",
     "text": [
      "/tmp/ipykernel_3683520/4091487451.py:34: FutureWarning: In future versions `DataFrame.to_latex` is expected to utilise the base implementation of `Styler.to_latex` for formatting and rendering. The arguments signature may therefore change. It is recommended instead to use `DataFrame.style.to_latex` which also contains additional functionality.\n",
      "  print(pt.Experiment([pipe_qe, dlm_rm3_for_qe], topics20, qrels, names=['20' + folders[i] + 'tuned_dlm_rm3', '20' + folders[i] + '_dlm_rm3'],\n"
     ]
    },
    {
     "name": "stdout",
     "output_type": "stream",
     "text": [
      "\\begin{tabular}{llrrr}\n",
      "\\toprule\n",
      "{} &                                    name &  ndcg\\_cut\\_5 &  ndcg\\_cut\\_25 &     bpref \\\\\n",
      "\\midrule\n",
      "0 &  20pool\\_topics\\_conclusionstuned\\_dlm\\_rm3 &    0.383546 &     0.335388 &  0.705638 \\\\\n",
      "1 &       20pool\\_topics\\_conclusions\\_dlm\\_rm3 &    0.438810 &     0.356641 &  0.676382 \\\\\n",
      "\\bottomrule\n",
      "\\end{tabular}\n",
      "\n"
     ]
    },
    {
     "name": "stderr",
     "output_type": "stream",
     "text": [
      "/tmp/ipykernel_3683520/4091487451.py:37: FutureWarning: In future versions `DataFrame.to_latex` is expected to utilise the base implementation of `Styler.to_latex` for formatting and rendering. The arguments signature may therefore change. It is recommended instead to use `DataFrame.style.to_latex` which also contains additional functionality.\n",
      "  print(pt.Experiment([pipe_qe, dlm_rm3_for_qe], topics21, qrels, names=['21' + folders[i] + 'tuned_dlm_rm3', '21'+ folders[i] + '_dlm_rm3'],\n"
     ]
    },
    {
     "name": "stdout",
     "output_type": "stream",
     "text": [
      "\\begin{tabular}{llrrr}\n",
      "\\toprule\n",
      "{} &                                    name &  ndcg\\_cut\\_5 &  ndcg\\_cut\\_25 &     bpref \\\\\n",
      "\\midrule\n",
      "0 &  21pool\\_topics\\_conclusionstuned\\_dlm\\_rm3 &    0.530793 &     0.422106 &  0.710974 \\\\\n",
      "1 &       21pool\\_topics\\_conclusions\\_dlm\\_rm3 &    0.640963 &     0.532831 &  0.724230 \\\\\n",
      "\\bottomrule\n",
      "\\end{tabular}\n",
      "\n",
      "\n",
      "/mnt/ceph/storage/data-in-progress/data-teaching/theses/wstud-thesis-hollatz/DeepCT_indexes/conclusions_leakage/pd_index\n",
      "Fold 1\n",
      "Best ndcg_cut_5 is 0.499859\n",
      "Best setting is ['QueryExpansion(/mnt/ceph/storage/data-in-progress/data-teaching/theses/wstud-thesis-hollatz/DeepCT_indexes/conclusions_leakage/pd_index/data.properties,8,14,<org.terrier.querying.RM3 at 0x7f5d60cb4270 jclass=org/terrier/querying/RM3 jself=<LocalRef obj=0x55768bc87f50 at 0x7f5d61196210>>) fb_terms=14', 'QueryExpansion(/mnt/ceph/storage/data-in-progress/data-teaching/theses/wstud-thesis-hollatz/DeepCT_indexes/conclusions_leakage/pd_index/data.properties,8,14,<org.terrier.querying.RM3 at 0x7f5d60cb4270 jclass=org/terrier/querying/RM3 jself=<LocalRef obj=0x55768bc87f50 at 0x7f5d61196210>>) fb_docs=6', 'QueryExpansion(/mnt/ceph/storage/data-in-progress/data-teaching/theses/wstud-thesis-hollatz/DeepCT_indexes/conclusions_leakage/pd_index/data.properties,8,14,<org.terrier.querying.RM3 at 0x7f5d60cb4270 jclass=org/terrier/querying/RM3 jself=<LocalRef obj=0x55768bc87f50 at 0x7f5d61196210>>) fb_lambda=0.2']\n",
      "Fold 2\n",
      "Best ndcg_cut_5 is 0.448702\n",
      "Best setting is ['QueryExpansion(/mnt/ceph/storage/data-in-progress/data-teaching/theses/wstud-thesis-hollatz/DeepCT_indexes/conclusions_leakage/pd_index/data.properties,8,14,<org.terrier.querying.RM3 at 0x7f5d60cb4270 jclass=org/terrier/querying/RM3 jself=<LocalRef obj=0x55768bc87f50 at 0x7f5d61196210>>) fb_terms=10', 'QueryExpansion(/mnt/ceph/storage/data-in-progress/data-teaching/theses/wstud-thesis-hollatz/DeepCT_indexes/conclusions_leakage/pd_index/data.properties,8,14,<org.terrier.querying.RM3 at 0x7f5d60cb4270 jclass=org/terrier/querying/RM3 jself=<LocalRef obj=0x55768bc87f50 at 0x7f5d61196210>>) fb_docs=6', 'QueryExpansion(/mnt/ceph/storage/data-in-progress/data-teaching/theses/wstud-thesis-hollatz/DeepCT_indexes/conclusions_leakage/pd_index/data.properties,8,14,<org.terrier.querying.RM3 at 0x7f5d60cb4270 jclass=org/terrier/querying/RM3 jself=<LocalRef obj=0x55768bc87f50 at 0x7f5d61196210>>) fb_lambda=0.2']\n"
     ]
    },
    {
     "name": "stderr",
     "output_type": "stream",
     "text": [
      "/tmp/ipykernel_3683520/4091487451.py:32: FutureWarning: In future versions `DataFrame.to_latex` is expected to utilise the base implementation of `Styler.to_latex` for formatting and rendering. The arguments signature may therefore change. It is recommended instead to use `DataFrame.style.to_latex` which also contains additional functionality.\n",
      "  print(pt.Experiment([pipe_qe, dlm_rm3_for_qe], topics, qrels, names=[folders[i] + '_tuned_dlm_rm3', folders[i] + '_orignal_dlm_rm3'], eval_metrics=[\"ndcg_cut_5\", \"ndcg_cut_25\", \"bpref\"]).to_latex())\n"
     ]
    },
    {
     "name": "stdout",
     "output_type": "stream",
     "text": [
      "\\begin{tabular}{llrrr}\n",
      "\\toprule\n",
      "{} &                                 name &  ndcg\\_cut\\_5 &  ndcg\\_cut\\_25 &     bpref \\\\\n",
      "\\midrule\n",
      "0 &    conclusions\\_leakage\\_tuned\\_dlm\\_rm3 &    0.444615 &     0.368324 &  0.700421 \\\\\n",
      "1 &  conclusions\\_leakage\\_orignal\\_dlm\\_rm3 &    0.531793 &     0.444508 &  0.702956 \\\\\n",
      "\\bottomrule\n",
      "\\end{tabular}\n",
      "\n"
     ]
    },
    {
     "name": "stderr",
     "output_type": "stream",
     "text": [
      "/tmp/ipykernel_3683520/4091487451.py:34: FutureWarning: In future versions `DataFrame.to_latex` is expected to utilise the base implementation of `Styler.to_latex` for formatting and rendering. The arguments signature may therefore change. It is recommended instead to use `DataFrame.style.to_latex` which also contains additional functionality.\n",
      "  print(pt.Experiment([pipe_qe, dlm_rm3_for_qe], topics20, qrels, names=['20' + folders[i] + 'tuned_dlm_rm3', '20' + folders[i] + '_dlm_rm3'],\n"
     ]
    },
    {
     "name": "stdout",
     "output_type": "stream",
     "text": [
      "\\begin{tabular}{llrrr}\n",
      "\\toprule\n",
      "{} &                                name &  ndcg\\_cut\\_5 &  ndcg\\_cut\\_25 &     bpref \\\\\n",
      "\\midrule\n",
      "0 &  20conclusions\\_leakagetuned\\_dlm\\_rm3 &    0.422037 &     0.354889 &  0.710512 \\\\\n",
      "1 &       20conclusions\\_leakage\\_dlm\\_rm3 &    0.451147 &     0.364674 &  0.680787 \\\\\n",
      "\\bottomrule\n",
      "\\end{tabular}\n",
      "\n"
     ]
    },
    {
     "name": "stderr",
     "output_type": "stream",
     "text": [
      "/tmp/ipykernel_3683520/4091487451.py:37: FutureWarning: In future versions `DataFrame.to_latex` is expected to utilise the base implementation of `Styler.to_latex` for formatting and rendering. The arguments signature may therefore change. It is recommended instead to use `DataFrame.style.to_latex` which also contains additional functionality.\n",
      "  print(pt.Experiment([pipe_qe, dlm_rm3_for_qe], topics21, qrels, names=['21' + folders[i] + 'tuned_dlm_rm3', '21'+ folders[i] + '_dlm_rm3'],\n"
     ]
    },
    {
     "name": "stdout",
     "output_type": "stream",
     "text": [
      "\\begin{tabular}{llrrr}\n",
      "\\toprule\n",
      "{} &                                name &  ndcg\\_cut\\_5 &  ndcg\\_cut\\_25 &     bpref \\\\\n",
      "\\midrule\n",
      "0 &  21conclusions\\_leakagetuned\\_dlm\\_rm3 &    0.466743 &     0.381489 &  0.690531 \\\\\n",
      "1 &       21conclusions\\_leakage\\_dlm\\_rm3 &    0.610826 &     0.522746 &  0.724681 \\\\\n",
      "\\bottomrule\n",
      "\\end{tabular}\n",
      "\n",
      "\n",
      "/mnt/ceph/storage/data-in-progress/data-teaching/theses/wstud-thesis-hollatz/DeepCT_indexes/pools_conclusionspd_index\n",
      "Fold 1\n",
      "Best ndcg_cut_5 is 0.509156\n",
      "Best setting is ['QueryExpansion(/mnt/ceph/storage/data-in-progress/data-teaching/theses/wstud-thesis-hollatz/DeepCT_indexes/pools_conclusionspd_index/data.properties,8,14,<org.terrier.querying.RM3 at 0x7f5d51f07ae0 jclass=org/terrier/querying/RM3 jself=<LocalRef obj=0x55768bc87f48 at 0x7f5d612f7e30>>) fb_terms=14', 'QueryExpansion(/mnt/ceph/storage/data-in-progress/data-teaching/theses/wstud-thesis-hollatz/DeepCT_indexes/pools_conclusionspd_index/data.properties,8,14,<org.terrier.querying.RM3 at 0x7f5d51f07ae0 jclass=org/terrier/querying/RM3 jself=<LocalRef obj=0x55768bc87f48 at 0x7f5d612f7e30>>) fb_docs=4', 'QueryExpansion(/mnt/ceph/storage/data-in-progress/data-teaching/theses/wstud-thesis-hollatz/DeepCT_indexes/pools_conclusionspd_index/data.properties,8,14,<org.terrier.querying.RM3 at 0x7f5d51f07ae0 jclass=org/terrier/querying/RM3 jself=<LocalRef obj=0x55768bc87f48 at 0x7f5d612f7e30>>) fb_lambda=0.2']\n",
      "Fold 2\n",
      "Best ndcg_cut_5 is 0.464866\n",
      "Best setting is ['QueryExpansion(/mnt/ceph/storage/data-in-progress/data-teaching/theses/wstud-thesis-hollatz/DeepCT_indexes/pools_conclusionspd_index/data.properties,8,14,<org.terrier.querying.RM3 at 0x7f5d51f07ae0 jclass=org/terrier/querying/RM3 jself=<LocalRef obj=0x55768bc87f48 at 0x7f5d612f7e30>>) fb_terms=4', 'QueryExpansion(/mnt/ceph/storage/data-in-progress/data-teaching/theses/wstud-thesis-hollatz/DeepCT_indexes/pools_conclusionspd_index/data.properties,8,14,<org.terrier.querying.RM3 at 0x7f5d51f07ae0 jclass=org/terrier/querying/RM3 jself=<LocalRef obj=0x55768bc87f48 at 0x7f5d612f7e30>>) fb_docs=4', 'QueryExpansion(/mnt/ceph/storage/data-in-progress/data-teaching/theses/wstud-thesis-hollatz/DeepCT_indexes/pools_conclusionspd_index/data.properties,8,14,<org.terrier.querying.RM3 at 0x7f5d51f07ae0 jclass=org/terrier/querying/RM3 jself=<LocalRef obj=0x55768bc87f48 at 0x7f5d612f7e30>>) fb_lambda=0.2']\n"
     ]
    },
    {
     "name": "stderr",
     "output_type": "stream",
     "text": [
      "/tmp/ipykernel_3683520/4091487451.py:32: FutureWarning: In future versions `DataFrame.to_latex` is expected to utilise the base implementation of `Styler.to_latex` for formatting and rendering. The arguments signature may therefore change. It is recommended instead to use `DataFrame.style.to_latex` which also contains additional functionality.\n",
      "  print(pt.Experiment([pipe_qe, dlm_rm3_for_qe], topics, qrels, names=[folders[i] + '_tuned_dlm_rm3', folders[i] + '_orignal_dlm_rm3'], eval_metrics=[\"ndcg_cut_5\", \"ndcg_cut_25\", \"bpref\"]).to_latex())\n"
     ]
    },
    {
     "name": "stdout",
     "output_type": "stream",
     "text": [
      "\\begin{tabular}{llrrr}\n",
      "\\toprule\n",
      "{} &                               name &  ndcg\\_cut\\_5 &  ndcg\\_cut\\_25 &     bpref \\\\\n",
      "\\midrule\n",
      "0 &    pools\\_conclusions\\_tuned\\_dlm\\_rm3 &    0.445642 &     0.381946 &  0.710577 \\\\\n",
      "1 &  pools\\_conclusions\\_orignal\\_dlm\\_rm3 &    0.517417 &     0.435083 &  0.697605 \\\\\n",
      "\\bottomrule\n",
      "\\end{tabular}\n",
      "\n"
     ]
    },
    {
     "name": "stderr",
     "output_type": "stream",
     "text": [
      "/tmp/ipykernel_3683520/4091487451.py:34: FutureWarning: In future versions `DataFrame.to_latex` is expected to utilise the base implementation of `Styler.to_latex` for formatting and rendering. The arguments signature may therefore change. It is recommended instead to use `DataFrame.style.to_latex` which also contains additional functionality.\n",
      "  print(pt.Experiment([pipe_qe, dlm_rm3_for_qe], topics20, qrels, names=['20' + folders[i] + 'tuned_dlm_rm3', '20' + folders[i] + '_dlm_rm3'],\n"
     ]
    },
    {
     "name": "stdout",
     "output_type": "stream",
     "text": [
      "\\begin{tabular}{llrrr}\n",
      "\\toprule\n",
      "{} &                              name &  ndcg\\_cut\\_5 &  ndcg\\_cut\\_25 &     bpref \\\\\n",
      "\\midrule\n",
      "0 &  20pools\\_conclusionstuned\\_dlm\\_rm3 &    0.393539 &     0.345183 &  0.699785 \\\\\n",
      "1 &       20pools\\_conclusions\\_dlm\\_rm3 &    0.416576 &     0.348261 &  0.679737 \\\\\n",
      "\\bottomrule\n",
      "\\end{tabular}\n",
      "\n"
     ]
    },
    {
     "name": "stderr",
     "output_type": "stream",
     "text": [
      "/tmp/ipykernel_3683520/4091487451.py:37: FutureWarning: In future versions `DataFrame.to_latex` is expected to utilise the base implementation of `Styler.to_latex` for formatting and rendering. The arguments signature may therefore change. It is recommended instead to use `DataFrame.style.to_latex` which also contains additional functionality.\n",
      "  print(pt.Experiment([pipe_qe, dlm_rm3_for_qe], topics21, qrels, names=['21' + folders[i] + 'tuned_dlm_rm3', '21'+ folders[i] + '_dlm_rm3'],\n"
     ]
    },
    {
     "name": "stdout",
     "output_type": "stream",
     "text": [
      "\\begin{tabular}{llrrr}\n",
      "\\toprule\n",
      "{} &                              name &  ndcg\\_cut\\_5 &  ndcg\\_cut\\_25 &     bpref \\\\\n",
      "\\midrule\n",
      "0 &  21pools\\_conclusionstuned\\_dlm\\_rm3 &    0.496703 &     0.417974 &  0.721152 \\\\\n",
      "1 &       21pools\\_conclusions\\_dlm\\_rm3 &    0.616240 &     0.520169 &  0.715116 \\\\\n",
      "\\bottomrule\n",
      "\\end{tabular}\n",
      "\n"
     ]
    }
   ],
   "source": [
    "import os\n",
    "rootdir = \"/mnt/ceph/storage/data-in-progress/data-teaching/theses/wstud-thesis-hollatz/DeepCT_indexes/\"\n",
    "folders = ['conclusions','pool_topics','topics','topics_conclusion','topics_conclusion_leakage','topics_leakage','pool_topics_conclusions','conclusions_leakage','pools_conclusions']\n",
    "metrics=\"ndcg_cut_5\"\n",
    "i = 0\n",
    "for subdir, dirs, files in os.walk(rootdir):\n",
    "    for file in files:\n",
    "        if(file == 'data.properties'):\n",
    "            path = subdir + '/'+ file\n",
    "            print('\\n' + subdir)\n",
    "            indexref = pt.IndexRef.of(path)\n",
    "            index = pt.IndexFactory.of(indexref)\n",
    "            dlm_rm3_for_qe = pt.BatchRetrieve(index, wmodel=\"DirichletLM\")\n",
    "            rm3 = pt.rewrite.RM3(index, fb_terms=10, fb_docs=3)\n",
    "            pipe_qe = dlm_rm3_for_qe >> rm3 >> dlm_rm3_for_qe\n",
    "            \n",
    "            param_map = {\n",
    "                rm3 : {\n",
    "                    \"fb_terms\" : list(range(4, 16, 2)),\n",
    "                    \"fb_docs\" : list(range(4, 10, 2)),\n",
    "                    \"fb_lambda\": [0.2,0.4,0.6,0.8,1.0]\n",
    "                }\n",
    "            }\n",
    "            \n",
    "            pipe_qe, parameters = pt.KFoldGridSearch(\n",
    "                pipe_qe,\n",
    "                param_map,\n",
    "                [topics20, topics21],\n",
    "                [qrels20, qrels21],\n",
    "                objective\n",
    "            )\n",
    "            print(pt.Experiment([pipe_qe, dlm_rm3_for_qe], topics, qrels, names=[folders[i] + '_tuned_dlm_rm3', folders[i] + '_orignal_dlm_rm3'], eval_metrics=[\"ndcg_cut_5\", \"ndcg_cut_25\", \"bpref\"]).to_latex())\n",
    "            \n",
    "            print(pt.Experiment([pipe_qe, dlm_rm3_for_qe], topics20, qrels, names=['20' + folders[i] + 'tuned_dlm_rm3', '20' + folders[i] + '_dlm_rm3'], \n",
    "                eval_metrics=[\"ndcg_cut_5\", \"ndcg_cut_25\", \"bpref\"]).to_latex())\n",
    "            \n",
    "            print(pt.Experiment([pipe_qe, dlm_rm3_for_qe], topics21, qrels, names=['21' + folders[i] + 'tuned_dlm_rm3', '21'+ folders[i] + '_dlm_rm3'], \n",
    "                eval_metrics=[\"ndcg_cut_5\", \"ndcg_cut_25\", \"bpref\"]).to_latex())\n",
    "            pipe_qe.to_csv(path_or_buf=f\"/workspace/src/grid_search_right_qrels/final_right/run/{folders[i]}_tuned_dlm_rm3.csv\")\n",
    "#             pipe_qe.to_csv(path_or_buf=f\"/workspace/src/runs_dlm_rm3/{folders[i]}_tuned_dlm_rm3.csv\")\n",
    "            i += 1\n",
    "            "
   ]
  },
  {
   "cell_type": "code",
   "execution_count": 5,
   "id": "c8740178",
   "metadata": {},
   "outputs": [
    {
     "name": "stdout",
     "output_type": "stream",
     "text": [
      "\n",
      "/workspace/src/grid_search_right_qrels/super_folder/\n",
      "Fold 1\n",
      "Best ndcg_cut_5 is 0.411759\n",
      "Best setting is ['QueryExpansion(/workspace/src/grid_search_right_qrels/super_folder/data.properties,8,14,<org.terrier.querying.RM3 at 0x7f5d523fa400 jclass=org/terrier/querying/RM3 jself=<LocalRef obj=0x55768bc87f50 at 0x7f5d615bdc10>>) fb_terms=4', 'QueryExpansion(/workspace/src/grid_search_right_qrels/super_folder/data.properties,8,14,<org.terrier.querying.RM3 at 0x7f5d523fa400 jclass=org/terrier/querying/RM3 jself=<LocalRef obj=0x55768bc87f50 at 0x7f5d615bdc10>>) fb_docs=6', 'QueryExpansion(/workspace/src/grid_search_right_qrels/super_folder/data.properties,8,14,<org.terrier.querying.RM3 at 0x7f5d523fa400 jclass=org/terrier/querying/RM3 jself=<LocalRef obj=0x55768bc87f50 at 0x7f5d615bdc10>>) fb_lambda=0.2']\n",
      "Fold 2\n",
      "Best ndcg_cut_5 is 0.258482\n",
      "Best setting is ['QueryExpansion(/workspace/src/grid_search_right_qrels/super_folder/data.properties,8,14,<org.terrier.querying.RM3 at 0x7f5d523fa400 jclass=org/terrier/querying/RM3 jself=<LocalRef obj=0x55768bc87f50 at 0x7f5d615bdc10>>) fb_terms=4', 'QueryExpansion(/workspace/src/grid_search_right_qrels/super_folder/data.properties,8,14,<org.terrier.querying.RM3 at 0x7f5d523fa400 jclass=org/terrier/querying/RM3 jself=<LocalRef obj=0x55768bc87f50 at 0x7f5d615bdc10>>) fb_docs=4', 'QueryExpansion(/workspace/src/grid_search_right_qrels/super_folder/data.properties,8,14,<org.terrier.querying.RM3 at 0x7f5d523fa400 jclass=org/terrier/querying/RM3 jself=<LocalRef obj=0x55768bc87f50 at 0x7f5d615bdc10>>) fb_lambda=0.2']\n"
     ]
    },
    {
     "name": "stderr",
     "output_type": "stream",
     "text": [
      "/tmp/ipykernel_3683520/313570147.py:32: FutureWarning: In future versions `DataFrame.to_latex` is expected to utilise the base implementation of `Styler.to_latex` for formatting and rendering. The arguments signature may therefore change. It is recommended instead to use `DataFrame.style.to_latex` which also contains additional functionality.\n",
      "  print(pt.Experiment([pipe_qe, dlm_rm3_for_qe], topics, qrels, names=[folders[i] + '_tuned_dlm_rm3', folders[i] + '_orignal_dlm_rm3'], eval_metrics=[\"ndcg_cut_5\", \"ndcg_cut_25\", \"bpref\"]).to_latex())\n"
     ]
    },
    {
     "name": "stdout",
     "output_type": "stream",
     "text": [
      "\\begin{tabular}{llrrr}\n",
      "\\toprule\n",
      "{} &                              name &  ndcg\\_cut\\_5 &  ndcg\\_cut\\_25 &     bpref \\\\\n",
      "\\midrule\n",
      "0 &    marco-pretrained\\_tuned\\_dlm\\_rm3 &    0.321715 &     0.282920 &  0.625945 \\\\\n",
      "1 &  marco-pretrained\\_orignal\\_dlm\\_rm3 &    0.339255 &     0.310085 &  0.608835 \\\\\n",
      "\\bottomrule\n",
      "\\end{tabular}\n",
      "\n"
     ]
    },
    {
     "name": "stderr",
     "output_type": "stream",
     "text": [
      "/tmp/ipykernel_3683520/313570147.py:34: FutureWarning: In future versions `DataFrame.to_latex` is expected to utilise the base implementation of `Styler.to_latex` for formatting and rendering. The arguments signature may therefore change. It is recommended instead to use `DataFrame.style.to_latex` which also contains additional functionality.\n",
      "  print(pt.Experiment([pipe_qe, dlm_rm3_for_qe], topics20, qrels, names=['20' + folders[i] + 'tuned_dlm_rm3', '20' + folders[i] + '_dlm_rm3'],\n"
     ]
    },
    {
     "name": "stdout",
     "output_type": "stream",
     "text": [
      "\\begin{tabular}{llrrr}\n",
      "\\toprule\n",
      "{} &                             name &  ndcg\\_cut\\_5 &  ndcg\\_cut\\_25 &     bpref \\\\\n",
      "\\midrule\n",
      "0 &  20marco-pretrainedtuned\\_dlm\\_rm3 &     0.25162 &     0.246023 &  0.635986 \\\\\n",
      "1 &       20marco-pretrained\\_dlm\\_rm3 &     0.23545 &     0.248456 &  0.599014 \\\\\n",
      "\\bottomrule\n",
      "\\end{tabular}\n",
      "\n"
     ]
    },
    {
     "name": "stderr",
     "output_type": "stream",
     "text": [
      "/tmp/ipykernel_3683520/313570147.py:37: FutureWarning: In future versions `DataFrame.to_latex` is expected to utilise the base implementation of `Styler.to_latex` for formatting and rendering. The arguments signature may therefore change. It is recommended instead to use `DataFrame.style.to_latex` which also contains additional functionality.\n",
      "  print(pt.Experiment([pipe_qe, dlm_rm3_for_qe], topics21, qrels, names=['21' + folders[i] + 'tuned_dlm_rm3', '21'+ folders[i] + '_dlm_rm3'],\n"
     ]
    },
    {
     "name": "stdout",
     "output_type": "stream",
     "text": [
      "\\begin{tabular}{llrrr}\n",
      "\\toprule\n",
      "{} &                             name &  ndcg\\_cut\\_5 &  ndcg\\_cut\\_25 &     bpref \\\\\n",
      "\\midrule\n",
      "0 &  21marco-pretrainedtuned\\_dlm\\_rm3 &    0.390407 &     0.319079 &  0.616105 \\\\\n",
      "1 &       21marco-pretrained\\_dlm\\_rm3 &    0.440984 &     0.370480 &  0.618459 \\\\\n",
      "\\bottomrule\n",
      "\\end{tabular}\n",
      "\n"
     ]
    }
   ],
   "source": [
    "import os\n",
    "rootdir = \"/workspace/src/grid_search_right_qrels/super_folder/\"\n",
    "folders = ['marco-pretrained']\n",
    "objective=\"ndcg_cut_5\"\n",
    "i = 0\n",
    "for subdir, dirs, files in os.walk(rootdir):\n",
    "    for file in files:\n",
    "        if(file == 'data.properties'):\n",
    "            path = subdir + '/'+ file\n",
    "            print('\\n' + subdir)\n",
    "            indexref = pt.IndexRef.of(path)\n",
    "            index = pt.IndexFactory.of(indexref)\n",
    "            dlm_rm3_for_qe = pt.BatchRetrieve(index, wmodel=\"DirichletLM\")\n",
    "            rm3 = pt.rewrite.RM3(index, fb_terms=10, fb_docs=3)\n",
    "            pipe_qe = dlm_rm3_for_qe >> rm3 >> dlm_rm3_for_qe\n",
    "            \n",
    "            param_map = {\n",
    "                rm3 : {\n",
    "                    \"fb_terms\" : list(range(4, 16, 2)),\n",
    "                    \"fb_docs\" : list(range(4, 10, 2)),\n",
    "                    \"fb_lambda\": [0.2,0.4,0.6,0.8,1.0]\n",
    "                }\n",
    "            }\n",
    "            \n",
    "            pipe_qe, parameters = pt.KFoldGridSearch(\n",
    "                pipe_qe,\n",
    "                param_map,\n",
    "                [topics20, topics21],\n",
    "                [qrels20, qrels21],\n",
    "                objective\n",
    "            )\n",
    "            print(pt.Experiment([pipe_qe, dlm_rm3_for_qe], topics, qrels, names=[folders[i] + '_tuned_dlm_rm3', folders[i] + '_orignal_dlm_rm3'], eval_metrics=[\"ndcg_cut_5\", \"ndcg_cut_25\", \"bpref\"]).to_latex())\n",
    "            \n",
    "            print(pt.Experiment([pipe_qe, dlm_rm3_for_qe], topics20, qrels, names=['20' + folders[i] + 'tuned_dlm_rm3', '20' + folders[i] + '_dlm_rm3'], \n",
    "                eval_metrics=[\"ndcg_cut_5\", \"ndcg_cut_25\", \"bpref\"]).to_latex())\n",
    "            \n",
    "            print(pt.Experiment([pipe_qe, dlm_rm3_for_qe], topics21, qrels, names=['21' + folders[i] + 'tuned_dlm_rm3', '21'+ folders[i] + '_dlm_rm3'], \n",
    "                eval_metrics=[\"ndcg_cut_5\", \"ndcg_cut_25\", \"bpref\"]).to_latex())\n",
    "            pipe_qe.to_csv(path_or_buf=f\"/workspace/src/grid_search_right_qrels/final_right/run/{folders[i]}_tuned_dlm_rm3.csv\")\n",
    "#             pipe_qe.to_csv(path_or_buf=f\"/workspace/src/runs_dlm_rm3/{folders[i]}_tuned_dlm_rm3.csv\")\n",
    "            i += 1\n",
    "            "
   ]
  }
 ],
 "metadata": {
  "kernelspec": {
   "display_name": "Python 3 (ipykernel)",
   "language": "python",
   "name": "python3"
  },
  "language_info": {
   "codemirror_mode": {
    "name": "ipython",
    "version": 3
   },
   "file_extension": ".py",
   "mimetype": "text/x-python",
   "name": "python",
   "nbconvert_exporter": "python",
   "pygments_lexer": "ipython3",
   "version": "3.9.10"
  }
 },
 "nbformat": 4,
 "nbformat_minor": 5
}
