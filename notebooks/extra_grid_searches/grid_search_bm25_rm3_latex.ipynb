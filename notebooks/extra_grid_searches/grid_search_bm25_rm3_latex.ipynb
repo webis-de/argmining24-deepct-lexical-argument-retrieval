{
 "cells": [
  {
   "cell_type": "code",
   "execution_count": 3,
   "id": "e190262b",
   "metadata": {},
   "outputs": [
    {
     "name": "stderr",
     "output_type": "stream",
     "text": [
      "PyTerrier 0.8.1 has loaded Terrier 5.6 (built by craigmacdonald on 2021-09-17 13:27)\n",
      "\n",
      "No etc/terrier.properties, using terrier.default.properties for bootstrap configuration.\n"
     ]
    }
   ],
   "source": [
    "import pandas as pd\n",
    "import numpy as np\n",
    "# import pyterrier_deepct\n",
    "import pyterrier as pt\n",
    "if not pt.started():\n",
    "  pt.init(boot_packages=[\"com.github.terrierteam:terrier-prf:-SNAPSHOT\"])\n",
    "\n",
    "from xml.etree import ElementTree\n",
    "tree = ElementTree.parse('/workspace/src/evaluate_targers/topics2020.xml')\n",
    "data = tree.getroot()\n",
    "titles20 = []\n",
    "titles21 = []\n",
    "title_ids20 = []\n",
    "title_ids21 = []\n",
    "nums20 = []\n",
    "nums21 = []\n",
    "for topic in data:\n",
    "    titles20.append(topic.find('title').text.lower()[:-1])\n",
    "    num20 = topic.find('number').text\n",
    "    nums20.append(num20)\n",
    "tree = ElementTree.parse('/workspace/src/evaluate_targers/topics.xml')\n",
    "data = tree.getroot()    \n",
    "for topic in data:\n",
    "    titles21.append(topic.find('title').text.lower()[:-1])\n",
    "    num21 = topic.find('number').text\n",
    "    nums21.append(num21)\n",
    "topics = pd.DataFrame()\n",
    "topics['qid'] = nums20 + nums21\n",
    "topics['query'] = titles20 + titles21\n",
    "\n",
    "topics21 = pd.DataFrame()\n",
    "topics21['qid'] = nums21\n",
    "topics21['query'] = titles21\n",
    "\n",
    "topics20 = pd.DataFrame()\n",
    "topics20['qid'] = nums20\n",
    "topics20['query'] = titles20\n",
    "\n",
    "qrels_path=(\"/workspace/src/evaluate_targers/all_qrels.qrels\")\n",
    "qrels = pt.io.read_qrels(qrels_path)\n",
    "\n",
    "qrels21_path=(\"/workspace/src/evaluate_targers/qrels2021.qrels\")\n",
    "qrels21 = pt.io.read_qrels(qrels21_path)\n",
    "\n",
    "qrels20_path=(\"/workspace/src/evaluate_targers/qrels2020.qrels\")\n",
    "qrels20 = pt.io.read_qrels(qrels20_path)\n",
    "\n",
    "docnos = qrels.docno\n",
    "docnos21 = qrels21.docno\n",
    "docnos20 = qrels20.docno"
   ]
  },
  {
   "cell_type": "code",
   "execution_count": 4,
   "id": "747e6ae7",
   "metadata": {
    "scrolled": true
   },
   "outputs": [
    {
     "name": "stdout",
     "output_type": "stream",
     "text": [
      "\n",
      "/mnt/ceph/storage/data-in-progress/data-teaching/theses/wstud-thesis-hollatz/targer_indexes/pd_index_original-100\n",
      "Fold 1\n",
      "Best ndcg_cut_5 is 0.584666\n",
      "Best setting is ['QueryExpansion(/mnt/ceph/storage/data-in-progress/data-teaching/theses/wstud-thesis-hollatz/targer_indexes/pd_index_original-100/data.properties,8,14,<org.terrier.querying.RM3 at 0x7f9f19c7af90 jclass=org/terrier/querying/RM3 jself=<LocalRef obj=0x55dc18334b98 at 0x7f9f19e385b0>>) fb_terms=12', 'QueryExpansion(/mnt/ceph/storage/data-in-progress/data-teaching/theses/wstud-thesis-hollatz/targer_indexes/pd_index_original-100/data.properties,8,14,<org.terrier.querying.RM3 at 0x7f9f19c7af90 jclass=org/terrier/querying/RM3 jself=<LocalRef obj=0x55dc18334b98 at 0x7f9f19e385b0>>) fb_docs=4', 'QueryExpansion(/mnt/ceph/storage/data-in-progress/data-teaching/theses/wstud-thesis-hollatz/targer_indexes/pd_index_original-100/data.properties,8,14,<org.terrier.querying.RM3 at 0x7f9f19c7af90 jclass=org/terrier/querying/RM3 jself=<LocalRef obj=0x55dc18334b98 at 0x7f9f19e385b0>>) fb_lambda=0.6']\n",
      "Fold 2\n",
      "Best ndcg_cut_5 is 0.367525\n",
      "Best setting is ['QueryExpansion(/mnt/ceph/storage/data-in-progress/data-teaching/theses/wstud-thesis-hollatz/targer_indexes/pd_index_original-100/data.properties,8,14,<org.terrier.querying.RM3 at 0x7f9f19c7af90 jclass=org/terrier/querying/RM3 jself=<LocalRef obj=0x55dc18334b98 at 0x7f9f19e385b0>>) fb_terms=14', 'QueryExpansion(/mnt/ceph/storage/data-in-progress/data-teaching/theses/wstud-thesis-hollatz/targer_indexes/pd_index_original-100/data.properties,8,14,<org.terrier.querying.RM3 at 0x7f9f19c7af90 jclass=org/terrier/querying/RM3 jself=<LocalRef obj=0x55dc18334b98 at 0x7f9f19e385b0>>) fb_docs=8', 'QueryExpansion(/mnt/ceph/storage/data-in-progress/data-teaching/theses/wstud-thesis-hollatz/targer_indexes/pd_index_original-100/data.properties,8,14,<org.terrier.querying.RM3 at 0x7f9f19c7af90 jclass=org/terrier/querying/RM3 jself=<LocalRef obj=0x55dc18334b98 at 0x7f9f19e385b0>>) fb_lambda=0.4']\n"
     ]
    },
    {
     "name": "stderr",
     "output_type": "stream",
     "text": [
      "/tmp/ipykernel_1615848/489219154.py:35: FutureWarning: In future versions `DataFrame.to_latex` is expected to utilise the base implementation of `Styler.to_latex` for formatting and rendering. The arguments signature may therefore change. It is recommended instead to use `DataFrame.style.to_latex` which also contains additional functionality.\n",
      "  print(pt.Experiment([pipe_qe, bm25_for_qe], topics, qrels,\n"
     ]
    },
    {
     "name": "stdout",
     "output_type": "stream",
     "text": [
      "\\begin{tabular}{llrrr}\n",
      "\\toprule\n",
      "{} &              name &  ndcg\\_cut\\_5 &  ndcg\\_cut\\_25 &     bpref \\\\\n",
      "\\midrule\n",
      "0 &    tuned\\_bm25\\_rm3 &    0.457078 &     0.411862 &  0.679850 \\\\\n",
      "1 &  orignal\\_bm25\\_rm3 &    0.433057 &     0.384884 &  0.634694 \\\\\n",
      "\\bottomrule\n",
      "\\end{tabular}\n",
      "\n"
     ]
    },
    {
     "name": "stderr",
     "output_type": "stream",
     "text": [
      "/tmp/ipykernel_1615848/489219154.py:39: FutureWarning: In future versions `DataFrame.to_latex` is expected to utilise the base implementation of `Styler.to_latex` for formatting and rendering. The arguments signature may therefore change. It is recommended instead to use `DataFrame.style.to_latex` which also contains additional functionality.\n",
      "  print(pt.Experiment([pipe_qe, bm25_for_qe], topics20, qrels, names=['20original_tuned_bm25_rm3', '20orignal_bm25_rm3'],\n"
     ]
    },
    {
     "name": "stdout",
     "output_type": "stream",
     "text": [
      "\\begin{tabular}{llrrr}\n",
      "\\toprule\n",
      "{} &                       name &  ndcg\\_cut\\_5 &  ndcg\\_cut\\_25 &     bpref \\\\\n",
      "\\midrule\n",
      "0 &  20original\\_tuned\\_bm25\\_rm3 &    0.355583 &     0.352399 &  0.708930 \\\\\n",
      "1 &         20orignal\\_bm25\\_rm3 &    0.308863 &     0.307938 &  0.643398 \\\\\n",
      "\\bottomrule\n",
      "\\end{tabular}\n",
      "\n"
     ]
    },
    {
     "name": "stderr",
     "output_type": "stream",
     "text": [
      "/tmp/ipykernel_1615848/489219154.py:42: FutureWarning: In future versions `DataFrame.to_latex` is expected to utilise the base implementation of `Styler.to_latex` for formatting and rendering. The arguments signature may therefore change. It is recommended instead to use `DataFrame.style.to_latex` which also contains additional functionality.\n",
      "  print(pt.Experiment([pipe_qe, bm25_for_qe], topics21, qrels, names=['21original_tuned_bm25_rm3', '21orignal_bm25_rm3'],\n"
     ]
    },
    {
     "name": "stdout",
     "output_type": "stream",
     "text": [
      "\\begin{tabular}{llrrr}\n",
      "\\toprule\n",
      "{} &                       name &  ndcg\\_cut\\_5 &  ndcg\\_cut\\_25 &     bpref \\\\\n",
      "\\midrule\n",
      "0 &  21original\\_tuned\\_bm25\\_rm3 &    0.556543 &     0.470135 &  0.651351 \\\\\n",
      "1 &         21orignal\\_bm25\\_rm3 &    0.554767 &     0.460291 &  0.626163 \\\\\n",
      "\\bottomrule\n",
      "\\end{tabular}\n",
      "\n"
     ]
    }
   ],
   "source": [
    "import os\n",
    "# rootdir = \"/mnt/ceph/storage/data-in-progress/data-teaching/theses/wstud-thesis-hollatz/DeepCT_indexes/\"\n",
    "rootdir = \"/mnt/ceph/storage/data-in-progress/data-teaching/theses/wstud-thesis-hollatz/targer_indexes/pd_index_original-100\"\n",
    "\n",
    "objective=\"ndcg_cut_5\"\n",
    "for i, (subdir, dirs, files) in enumerate(os.walk(rootdir)):\n",
    "    for file in files:\n",
    "        if(file == 'data.properties'):\n",
    "            path = subdir + '/'+ file\n",
    "            print('\\n' + subdir)\n",
    "            indexref = pt.IndexRef.of(path)\n",
    "            index = pt.IndexFactory.of(indexref)\n",
    "#             bm25_rm3 = (pt.BatchRetrieve(indexref, wmodel=\"BM25\") >> \n",
    "#             pt.rewrite.RM3(indexref) >> \n",
    "#             pt.BatchRetrieve(indexref, wmodel=\"BM25\"))\n",
    "            bm25_for_qe = pt.BatchRetrieve(index, wmodel=\"BM25\")\n",
    "            rm3 = pt.rewrite.RM3(index, fb_terms=10, fb_docs=3)\n",
    "            pipe_qe = bm25_for_qe >> rm3 >> bm25_for_qe\n",
    "            \n",
    "            param_map = {\n",
    "                rm3 : {\n",
    "                    \"fb_terms\" : list(range(4, 16, 2)),\n",
    "                    \"fb_docs\" : list(range(4, 10, 2)),\n",
    "                    \"fb_lambda\": [0.2,0.4,0.6,0.8,1.0]\n",
    "                }\n",
    "            }\n",
    "            \n",
    "            pipe_qe, parameters = pt.KFoldGridSearch(\n",
    "                pipe_qe,\n",
    "                param_map,\n",
    "                [topics20, topics21],\n",
    "                [qrels20, qrels21],\n",
    "                objective\n",
    "            )\n",
    "            print(pt.Experiment([pipe_qe, bm25_for_qe], topics, qrels, \n",
    "                                names=['tuned_bm25_rm3','orignal_bm25_rm3'], \n",
    "                                eval_metrics=[\"ndcg_cut_5\", \"ndcg_cut_25\", \"bpref\"]).to_latex())\n",
    "            \n",
    "            print(pt.Experiment([pipe_qe, bm25_for_qe], topics20, qrels, names=['20original_tuned_bm25_rm3', '20orignal_bm25_rm3'], \n",
    "                                eval_metrics=[\"ndcg_cut_5\", \"ndcg_cut_25\", \"bpref\"]).to_latex())\n",
    "            \n",
    "            print(pt.Experiment([pipe_qe, bm25_for_qe], topics21, qrels, names=['21original_tuned_bm25_rm3', '21orignal_bm25_rm3'], \n",
    "                                eval_metrics=[\"ndcg_cut_5\", \"ndcg_cut_25\", \"bpref\"]).to_latex())\n",
    "            pipe_qe.to_csv(path_or_buf=f\"/workspace/src/grid_search_right_qrels/final_right/run/original_tuned_bm25_rm3.csv\")\n",
    "            "
   ]
  },
  {
   "cell_type": "code",
   "execution_count": 5,
   "id": "382af950",
   "metadata": {},
   "outputs": [
    {
     "name": "stdout",
     "output_type": "stream",
     "text": [
      "\n",
      "/mnt/ceph/storage/data-in-progress/data-teaching/theses/wstud-thesis-hollatz/DeepCT_indexes/conclusionspd_index\n",
      "Fold 1\n",
      "Best ndcg_cut_5 is 0.558365\n",
      "Best setting is ['QueryExpansion(/mnt/ceph/storage/data-in-progress/data-teaching/theses/wstud-thesis-hollatz/DeepCT_indexes/conclusionspd_index/data.properties,8,14,<org.terrier.querying.RM3 at 0x7f9fa8d2b1d0 jclass=org/terrier/querying/RM3 jself=<LocalRef obj=0x55dc18ff8970 at 0x7f9f19d91ed0>>) fb_terms=6', 'QueryExpansion(/mnt/ceph/storage/data-in-progress/data-teaching/theses/wstud-thesis-hollatz/DeepCT_indexes/conclusionspd_index/data.properties,8,14,<org.terrier.querying.RM3 at 0x7f9fa8d2b1d0 jclass=org/terrier/querying/RM3 jself=<LocalRef obj=0x55dc18ff8970 at 0x7f9f19d91ed0>>) fb_docs=4', 'QueryExpansion(/mnt/ceph/storage/data-in-progress/data-teaching/theses/wstud-thesis-hollatz/DeepCT_indexes/conclusionspd_index/data.properties,8,14,<org.terrier.querying.RM3 at 0x7f9fa8d2b1d0 jclass=org/terrier/querying/RM3 jself=<LocalRef obj=0x55dc18ff8970 at 0x7f9f19d91ed0>>) fb_lambda=0.8']\n",
      "Fold 2\n",
      "Best ndcg_cut_5 is 0.405507\n",
      "Best setting is ['QueryExpansion(/mnt/ceph/storage/data-in-progress/data-teaching/theses/wstud-thesis-hollatz/DeepCT_indexes/conclusionspd_index/data.properties,8,14,<org.terrier.querying.RM3 at 0x7f9fa8d2b1d0 jclass=org/terrier/querying/RM3 jself=<LocalRef obj=0x55dc18ff8970 at 0x7f9f19d91ed0>>) fb_terms=6', 'QueryExpansion(/mnt/ceph/storage/data-in-progress/data-teaching/theses/wstud-thesis-hollatz/DeepCT_indexes/conclusionspd_index/data.properties,8,14,<org.terrier.querying.RM3 at 0x7f9fa8d2b1d0 jclass=org/terrier/querying/RM3 jself=<LocalRef obj=0x55dc18ff8970 at 0x7f9f19d91ed0>>) fb_docs=6', 'QueryExpansion(/mnt/ceph/storage/data-in-progress/data-teaching/theses/wstud-thesis-hollatz/DeepCT_indexes/conclusionspd_index/data.properties,8,14,<org.terrier.querying.RM3 at 0x7f9fa8d2b1d0 jclass=org/terrier/querying/RM3 jself=<LocalRef obj=0x55dc18ff8970 at 0x7f9f19d91ed0>>) fb_lambda=0.8']\n"
     ]
    },
    {
     "name": "stderr",
     "output_type": "stream",
     "text": [
      "/tmp/ipykernel_1615848/2031853054.py:32: FutureWarning: In future versions `DataFrame.to_latex` is expected to utilise the base implementation of `Styler.to_latex` for formatting and rendering. The arguments signature may therefore change. It is recommended instead to use `DataFrame.style.to_latex` which also contains additional functionality.\n",
      "  print(pt.Experiment([pipe_qe, bm25_for_qe], topics, qrels, names=[folders[i] + '_tuned_bm_rm3', folders[i] + '_orignal_bm_rm3'],\n"
     ]
    },
    {
     "name": "stdout",
     "output_type": "stream",
     "text": [
      "\\begin{tabular}{llrrr}\n",
      "\\toprule\n",
      "{} &                        name &  ndcg\\_cut\\_5 &  ndcg\\_cut\\_25 &     bpref \\\\\n",
      "\\midrule\n",
      "0 &    conclusions\\_tuned\\_bm\\_rm3 &    0.457201 &     0.413853 &  0.757675 \\\\\n",
      "1 &  conclusions\\_orignal\\_bm\\_rm3 &    0.394756 &     0.375585 &  0.710391 \\\\\n",
      "\\bottomrule\n",
      "\\end{tabular}\n",
      "\n"
     ]
    },
    {
     "name": "stderr",
     "output_type": "stream",
     "text": [
      "/tmp/ipykernel_1615848/2031853054.py:35: FutureWarning: In future versions `DataFrame.to_latex` is expected to utilise the base implementation of `Styler.to_latex` for formatting and rendering. The arguments signature may therefore change. It is recommended instead to use `DataFrame.style.to_latex` which also contains additional functionality.\n",
      "  print(pt.Experiment([pipe_qe, bm25_for_qe], topics20, qrels, names=['20' + folders[i] + 'tuned_bm_rm3', '20' + folders[i] + '_bm_rm3'],\n"
     ]
    },
    {
     "name": "stdout",
     "output_type": "stream",
     "text": [
      "\\begin{tabular}{llrrr}\n",
      "\\toprule\n",
      "{} &                       name &  ndcg\\_cut\\_5 &  ndcg\\_cut\\_25 &     bpref \\\\\n",
      "\\midrule\n",
      "0 &  20conclusionstuned\\_bm\\_rm3 &    0.381014 &     0.358802 &  0.770298 \\\\\n",
      "1 &       20conclusions\\_bm\\_rm3 &    0.305337 &     0.304660 &  0.695431 \\\\\n",
      "\\bottomrule\n",
      "\\end{tabular}\n",
      "\n"
     ]
    },
    {
     "name": "stderr",
     "output_type": "stream",
     "text": [
      "/tmp/ipykernel_1615848/2031853054.py:38: FutureWarning: In future versions `DataFrame.to_latex` is expected to utilise the base implementation of `Styler.to_latex` for formatting and rendering. The arguments signature may therefore change. It is recommended instead to use `DataFrame.style.to_latex` which also contains additional functionality.\n",
      "  print(pt.Experiment([pipe_qe, bm25_for_qe], topics21, qrels, names=['21' + folders[i] + 'tuned_bm_rm3', '21'+ folders[i] + '_bm_rm3'],\n"
     ]
    },
    {
     "name": "stdout",
     "output_type": "stream",
     "text": [
      "\\begin{tabular}{llrrr}\n",
      "\\toprule\n",
      "{} &                       name &  ndcg\\_cut\\_5 &  ndcg\\_cut\\_25 &     bpref \\\\\n",
      "\\midrule\n",
      "0 &  21conclusionstuned\\_bm\\_rm3 &    0.531864 &     0.467803 &  0.745304 \\\\\n",
      "1 &       21conclusions\\_bm\\_rm3 &    0.482386 &     0.445090 &  0.725052 \\\\\n",
      "\\bottomrule\n",
      "\\end{tabular}\n",
      "\n",
      "\n",
      "/mnt/ceph/storage/data-in-progress/data-teaching/theses/wstud-thesis-hollatz/DeepCT_indexes/pool_topicspd_index\n",
      "Fold 1\n",
      "Best ndcg_cut_5 is 0.563813\n",
      "Best setting is ['QueryExpansion(/mnt/ceph/storage/data-in-progress/data-teaching/theses/wstud-thesis-hollatz/DeepCT_indexes/pool_topicspd_index/data.properties,8,14,<org.terrier.querying.RM3 at 0x7f9f19c67db0 jclass=org/terrier/querying/RM3 jself=<LocalRef obj=0x55dc18ff8918 at 0x7f9f18ed1e30>>) fb_terms=12', 'QueryExpansion(/mnt/ceph/storage/data-in-progress/data-teaching/theses/wstud-thesis-hollatz/DeepCT_indexes/pool_topicspd_index/data.properties,8,14,<org.terrier.querying.RM3 at 0x7f9f19c67db0 jclass=org/terrier/querying/RM3 jself=<LocalRef obj=0x55dc18ff8918 at 0x7f9f18ed1e30>>) fb_docs=6', 'QueryExpansion(/mnt/ceph/storage/data-in-progress/data-teaching/theses/wstud-thesis-hollatz/DeepCT_indexes/pool_topicspd_index/data.properties,8,14,<org.terrier.querying.RM3 at 0x7f9f19c67db0 jclass=org/terrier/querying/RM3 jself=<LocalRef obj=0x55dc18ff8918 at 0x7f9f18ed1e30>>) fb_lambda=0.8']\n",
      "Fold 2\n",
      "Best ndcg_cut_5 is 0.388054\n",
      "Best setting is ['QueryExpansion(/mnt/ceph/storage/data-in-progress/data-teaching/theses/wstud-thesis-hollatz/DeepCT_indexes/pool_topicspd_index/data.properties,8,14,<org.terrier.querying.RM3 at 0x7f9f19c67db0 jclass=org/terrier/querying/RM3 jself=<LocalRef obj=0x55dc18ff8918 at 0x7f9f18ed1e30>>) fb_terms=12', 'QueryExpansion(/mnt/ceph/storage/data-in-progress/data-teaching/theses/wstud-thesis-hollatz/DeepCT_indexes/pool_topicspd_index/data.properties,8,14,<org.terrier.querying.RM3 at 0x7f9f19c67db0 jclass=org/terrier/querying/RM3 jself=<LocalRef obj=0x55dc18ff8918 at 0x7f9f18ed1e30>>) fb_docs=8', 'QueryExpansion(/mnt/ceph/storage/data-in-progress/data-teaching/theses/wstud-thesis-hollatz/DeepCT_indexes/pool_topicspd_index/data.properties,8,14,<org.terrier.querying.RM3 at 0x7f9f19c67db0 jclass=org/terrier/querying/RM3 jself=<LocalRef obj=0x55dc18ff8918 at 0x7f9f18ed1e30>>) fb_lambda=0.4']\n"
     ]
    },
    {
     "name": "stderr",
     "output_type": "stream",
     "text": [
      "/tmp/ipykernel_1615848/2031853054.py:32: FutureWarning: In future versions `DataFrame.to_latex` is expected to utilise the base implementation of `Styler.to_latex` for formatting and rendering. The arguments signature may therefore change. It is recommended instead to use `DataFrame.style.to_latex` which also contains additional functionality.\n",
      "  print(pt.Experiment([pipe_qe, bm25_for_qe], topics, qrels, names=[folders[i] + '_tuned_bm_rm3', folders[i] + '_orignal_bm_rm3'],\n"
     ]
    },
    {
     "name": "stdout",
     "output_type": "stream",
     "text": [
      "\\begin{tabular}{llrrr}\n",
      "\\toprule\n",
      "{} &                        name &  ndcg\\_cut\\_5 &  ndcg\\_cut\\_25 &     bpref \\\\\n",
      "\\midrule\n",
      "0 &    pool\\_topics\\_tuned\\_bm\\_rm3 &    0.439490 &     0.408236 &  0.756732 \\\\\n",
      "1 &  pool\\_topics\\_orignal\\_bm\\_rm3 &    0.396287 &     0.373634 &  0.706102 \\\\\n",
      "\\bottomrule\n",
      "\\end{tabular}\n",
      "\n"
     ]
    },
    {
     "name": "stderr",
     "output_type": "stream",
     "text": [
      "/tmp/ipykernel_1615848/2031853054.py:35: FutureWarning: In future versions `DataFrame.to_latex` is expected to utilise the base implementation of `Styler.to_latex` for formatting and rendering. The arguments signature may therefore change. It is recommended instead to use `DataFrame.style.to_latex` which also contains additional functionality.\n",
      "  print(pt.Experiment([pipe_qe, bm25_for_qe], topics20, qrels, names=['20' + folders[i] + 'tuned_bm_rm3', '20' + folders[i] + '_bm_rm3'],\n"
     ]
    },
    {
     "name": "stdout",
     "output_type": "stream",
     "text": [
      "\\begin{tabular}{llrrr}\n",
      "\\toprule\n",
      "{} &                       name &  ndcg\\_cut\\_5 &  ndcg\\_cut\\_25 &     bpref \\\\\n",
      "\\midrule\n",
      "0 &  20pool\\_topicstuned\\_bm\\_rm3 &    0.370338 &     0.352976 &  0.763596 \\\\\n",
      "1 &       20pool\\_topics\\_bm\\_rm3 &    0.299930 &     0.297103 &  0.692893 \\\\\n",
      "\\bottomrule\n",
      "\\end{tabular}\n",
      "\n"
     ]
    },
    {
     "name": "stderr",
     "output_type": "stream",
     "text": [
      "/tmp/ipykernel_1615848/2031853054.py:38: FutureWarning: In future versions `DataFrame.to_latex` is expected to utilise the base implementation of `Styler.to_latex` for formatting and rendering. The arguments signature may therefore change. It is recommended instead to use `DataFrame.style.to_latex` which also contains additional functionality.\n",
      "  print(pt.Experiment([pipe_qe, bm25_for_qe], topics21, qrels, names=['21' + folders[i] + 'tuned_bm_rm3', '21'+ folders[i] + '_bm_rm3'],\n"
     ]
    },
    {
     "name": "stdout",
     "output_type": "stream",
     "text": [
      "\\begin{tabular}{llrrr}\n",
      "\\toprule\n",
      "{} &                       name &  ndcg\\_cut\\_5 &  ndcg\\_cut\\_25 &     bpref \\\\\n",
      "\\midrule\n",
      "0 &  21pool\\_topicstuned\\_bm\\_rm3 &    0.507259 &     0.462390 &  0.750005 \\\\\n",
      "1 &       21pool\\_topics\\_bm\\_rm3 &    0.490716 &     0.448634 &  0.719048 \\\\\n",
      "\\bottomrule\n",
      "\\end{tabular}\n",
      "\n",
      "\n",
      "/mnt/ceph/storage/data-in-progress/data-teaching/theses/wstud-thesis-hollatz/DeepCT_indexes/topicspd_index\n",
      "Fold 1\n",
      "Best ndcg_cut_5 is 0.532393\n",
      "Best setting is ['QueryExpansion(/mnt/ceph/storage/data-in-progress/data-teaching/theses/wstud-thesis-hollatz/DeepCT_indexes/topicspd_index/data.properties,8,14,<org.terrier.querying.RM3 at 0x7f9f19c67f90 jclass=org/terrier/querying/RM3 jself=<LocalRef obj=0x55dc18ff8968 at 0x7f9f1902b190>>) fb_terms=10', 'QueryExpansion(/mnt/ceph/storage/data-in-progress/data-teaching/theses/wstud-thesis-hollatz/DeepCT_indexes/topicspd_index/data.properties,8,14,<org.terrier.querying.RM3 at 0x7f9f19c67f90 jclass=org/terrier/querying/RM3 jself=<LocalRef obj=0x55dc18ff8968 at 0x7f9f1902b190>>) fb_docs=8', 'QueryExpansion(/mnt/ceph/storage/data-in-progress/data-teaching/theses/wstud-thesis-hollatz/DeepCT_indexes/topicspd_index/data.properties,8,14,<org.terrier.querying.RM3 at 0x7f9f19c67f90 jclass=org/terrier/querying/RM3 jself=<LocalRef obj=0x55dc18ff8968 at 0x7f9f1902b190>>) fb_lambda=0.8']\n",
      "Fold 2\n",
      "Best ndcg_cut_5 is 0.400595\n",
      "Best setting is ['QueryExpansion(/mnt/ceph/storage/data-in-progress/data-teaching/theses/wstud-thesis-hollatz/DeepCT_indexes/topicspd_index/data.properties,8,14,<org.terrier.querying.RM3 at 0x7f9f19c67f90 jclass=org/terrier/querying/RM3 jself=<LocalRef obj=0x55dc18ff8968 at 0x7f9f1902b190>>) fb_terms=12', 'QueryExpansion(/mnt/ceph/storage/data-in-progress/data-teaching/theses/wstud-thesis-hollatz/DeepCT_indexes/topicspd_index/data.properties,8,14,<org.terrier.querying.RM3 at 0x7f9f19c67f90 jclass=org/terrier/querying/RM3 jself=<LocalRef obj=0x55dc18ff8968 at 0x7f9f1902b190>>) fb_docs=4', 'QueryExpansion(/mnt/ceph/storage/data-in-progress/data-teaching/theses/wstud-thesis-hollatz/DeepCT_indexes/topicspd_index/data.properties,8,14,<org.terrier.querying.RM3 at 0x7f9f19c67f90 jclass=org/terrier/querying/RM3 jself=<LocalRef obj=0x55dc18ff8968 at 0x7f9f1902b190>>) fb_lambda=0.8']\n"
     ]
    },
    {
     "name": "stderr",
     "output_type": "stream",
     "text": [
      "/tmp/ipykernel_1615848/2031853054.py:32: FutureWarning: In future versions `DataFrame.to_latex` is expected to utilise the base implementation of `Styler.to_latex` for formatting and rendering. The arguments signature may therefore change. It is recommended instead to use `DataFrame.style.to_latex` which also contains additional functionality.\n",
      "  print(pt.Experiment([pipe_qe, bm25_for_qe], topics, qrels, names=[folders[i] + '_tuned_bm_rm3', folders[i] + '_orignal_bm_rm3'],\n"
     ]
    },
    {
     "name": "stdout",
     "output_type": "stream",
     "text": [
      "\\begin{tabular}{llrrr}\n",
      "\\toprule\n",
      "{} &                   name &  ndcg\\_cut\\_5 &  ndcg\\_cut\\_25 &     bpref \\\\\n",
      "\\midrule\n",
      "0 &    topics\\_tuned\\_bm\\_rm3 &    0.443857 &     0.404896 &  0.751742 \\\\\n",
      "1 &  topics\\_orignal\\_bm\\_rm3 &    0.390876 &     0.372884 &  0.705937 \\\\\n",
      "\\bottomrule\n",
      "\\end{tabular}\n",
      "\n"
     ]
    },
    {
     "name": "stderr",
     "output_type": "stream",
     "text": [
      "/tmp/ipykernel_1615848/2031853054.py:35: FutureWarning: In future versions `DataFrame.to_latex` is expected to utilise the base implementation of `Styler.to_latex` for formatting and rendering. The arguments signature may therefore change. It is recommended instead to use `DataFrame.style.to_latex` which also contains additional functionality.\n",
      "  print(pt.Experiment([pipe_qe, bm25_for_qe], topics20, qrels, names=['20' + folders[i] + 'tuned_bm_rm3', '20' + folders[i] + '_bm_rm3'],\n"
     ]
    },
    {
     "name": "stdout",
     "output_type": "stream",
     "text": [
      "\\begin{tabular}{llrrr}\n",
      "\\toprule\n",
      "{} &                  name &  ndcg\\_cut\\_5 &  ndcg\\_cut\\_25 &     bpref \\\\\n",
      "\\midrule\n",
      "0 &  20topicstuned\\_bm\\_rm3 &    0.394363 &     0.361511 &  0.766854 \\\\\n",
      "1 &       20topics\\_bm\\_rm3 &    0.315130 &     0.306843 &  0.695491 \\\\\n",
      "\\bottomrule\n",
      "\\end{tabular}\n",
      "\n"
     ]
    },
    {
     "name": "stderr",
     "output_type": "stream",
     "text": [
      "/tmp/ipykernel_1615848/2031853054.py:38: FutureWarning: In future versions `DataFrame.to_latex` is expected to utilise the base implementation of `Styler.to_latex` for formatting and rendering. The arguments signature may therefore change. It is recommended instead to use `DataFrame.style.to_latex` which also contains additional functionality.\n",
      "  print(pt.Experiment([pipe_qe, bm25_for_qe], topics21, qrels, names=['21' + folders[i] + 'tuned_bm_rm3', '21'+ folders[i] + '_bm_rm3'],\n"
     ]
    },
    {
     "name": "stdout",
     "output_type": "stream",
     "text": [
      "\\begin{tabular}{llrrr}\n",
      "\\toprule\n",
      "{} &                  name &  ndcg\\_cut\\_5 &  ndcg\\_cut\\_25 &     bpref \\\\\n",
      "\\midrule\n",
      "0 &  21topicstuned\\_bm\\_rm3 &    0.492362 &     0.447412 &  0.736933 \\\\\n",
      "1 &       21topics\\_bm\\_rm3 &    0.465107 &     0.437603 &  0.716173 \\\\\n",
      "\\bottomrule\n",
      "\\end{tabular}\n",
      "\n",
      "\n",
      "/mnt/ceph/storage/data-in-progress/data-teaching/theses/wstud-thesis-hollatz/DeepCT_indexes/topics_conclusionpd_index\n",
      "Fold 1\n",
      "Best ndcg_cut_5 is 0.550537\n",
      "Best setting is ['QueryExpansion(/mnt/ceph/storage/data-in-progress/data-teaching/theses/wstud-thesis-hollatz/DeepCT_indexes/topics_conclusionpd_index/data.properties,8,14,<org.terrier.querying.RM3 at 0x7f9eccb79e00 jclass=org/terrier/querying/RM3 jself=<LocalRef obj=0x55dc18ff8918 at 0x7f9f190def10>>) fb_terms=14', 'QueryExpansion(/mnt/ceph/storage/data-in-progress/data-teaching/theses/wstud-thesis-hollatz/DeepCT_indexes/topics_conclusionpd_index/data.properties,8,14,<org.terrier.querying.RM3 at 0x7f9eccb79e00 jclass=org/terrier/querying/RM3 jself=<LocalRef obj=0x55dc18ff8918 at 0x7f9f190def10>>) fb_docs=8', 'QueryExpansion(/mnt/ceph/storage/data-in-progress/data-teaching/theses/wstud-thesis-hollatz/DeepCT_indexes/topics_conclusionpd_index/data.properties,8,14,<org.terrier.querying.RM3 at 0x7f9eccb79e00 jclass=org/terrier/querying/RM3 jself=<LocalRef obj=0x55dc18ff8918 at 0x7f9f190def10>>) fb_lambda=0.8']\n",
      "Fold 2\n",
      "Best ndcg_cut_5 is 0.433392\n",
      "Best setting is ['QueryExpansion(/mnt/ceph/storage/data-in-progress/data-teaching/theses/wstud-thesis-hollatz/DeepCT_indexes/topics_conclusionpd_index/data.properties,8,14,<org.terrier.querying.RM3 at 0x7f9eccb79e00 jclass=org/terrier/querying/RM3 jself=<LocalRef obj=0x55dc18ff8918 at 0x7f9f190def10>>) fb_terms=12', 'QueryExpansion(/mnt/ceph/storage/data-in-progress/data-teaching/theses/wstud-thesis-hollatz/DeepCT_indexes/topics_conclusionpd_index/data.properties,8,14,<org.terrier.querying.RM3 at 0x7f9eccb79e00 jclass=org/terrier/querying/RM3 jself=<LocalRef obj=0x55dc18ff8918 at 0x7f9f190def10>>) fb_docs=6', 'QueryExpansion(/mnt/ceph/storage/data-in-progress/data-teaching/theses/wstud-thesis-hollatz/DeepCT_indexes/topics_conclusionpd_index/data.properties,8,14,<org.terrier.querying.RM3 at 0x7f9eccb79e00 jclass=org/terrier/querying/RM3 jself=<LocalRef obj=0x55dc18ff8918 at 0x7f9f190def10>>) fb_lambda=0.8']\n"
     ]
    },
    {
     "name": "stderr",
     "output_type": "stream",
     "text": [
      "/tmp/ipykernel_1615848/2031853054.py:32: FutureWarning: In future versions `DataFrame.to_latex` is expected to utilise the base implementation of `Styler.to_latex` for formatting and rendering. The arguments signature may therefore change. It is recommended instead to use `DataFrame.style.to_latex` which also contains additional functionality.\n",
      "  print(pt.Experiment([pipe_qe, bm25_for_qe], topics, qrels, names=[folders[i] + '_tuned_bm_rm3', folders[i] + '_orignal_bm_rm3'],\n"
     ]
    },
    {
     "name": "stdout",
     "output_type": "stream",
     "text": [
      "\\begin{tabular}{llrrr}\n",
      "\\toprule\n",
      "{} &                              name &  ndcg\\_cut\\_5 &  ndcg\\_cut\\_25 &     bpref \\\\\n",
      "\\midrule\n",
      "0 &    topics\\_conclusion\\_tuned\\_bm\\_rm3 &    0.465493 &     0.417468 &  0.759479 \\\\\n",
      "1 &  topics\\_conclusion\\_orignal\\_bm\\_rm3 &    0.393813 &     0.367047 &  0.712358 \\\\\n",
      "\\bottomrule\n",
      "\\end{tabular}\n",
      "\n"
     ]
    },
    {
     "name": "stderr",
     "output_type": "stream",
     "text": [
      "/tmp/ipykernel_1615848/2031853054.py:35: FutureWarning: In future versions `DataFrame.to_latex` is expected to utilise the base implementation of `Styler.to_latex` for formatting and rendering. The arguments signature may therefore change. It is recommended instead to use `DataFrame.style.to_latex` which also contains additional functionality.\n",
      "  print(pt.Experiment([pipe_qe, bm25_for_qe], topics20, qrels, names=['20' + folders[i] + 'tuned_bm_rm3', '20' + folders[i] + '_bm_rm3'],\n"
     ]
    },
    {
     "name": "stdout",
     "output_type": "stream",
     "text": [
      "\\begin{tabular}{llrrr}\n",
      "\\toprule\n",
      "{} &                             name &  ndcg\\_cut\\_5 &  ndcg\\_cut\\_25 &     bpref \\\\\n",
      "\\midrule\n",
      "0 &  20topics\\_conclusiontuned\\_bm\\_rm3 &    0.402367 &     0.367530 &  0.774805 \\\\\n",
      "1 &       20topics\\_conclusion\\_bm\\_rm3 &    0.321787 &     0.305624 &  0.699953 \\\\\n",
      "\\bottomrule\n",
      "\\end{tabular}\n",
      "\n"
     ]
    },
    {
     "name": "stderr",
     "output_type": "stream",
     "text": [
      "/tmp/ipykernel_1615848/2031853054.py:38: FutureWarning: In future versions `DataFrame.to_latex` is expected to utilise the base implementation of `Styler.to_latex` for formatting and rendering. The arguments signature may therefore change. It is recommended instead to use `DataFrame.style.to_latex` which also contains additional functionality.\n",
      "  print(pt.Experiment([pipe_qe, bm25_for_qe], topics21, qrels, names=['21' + folders[i] + 'tuned_bm_rm3', '21'+ folders[i] + '_bm_rm3'],\n"
     ]
    },
    {
     "name": "stdout",
     "output_type": "stream",
     "text": [
      "\\begin{tabular}{llrrr}\n",
      "\\toprule\n",
      "{} &                             name &  ndcg\\_cut\\_5 &  ndcg\\_cut\\_25 &     bpref \\\\\n",
      "\\midrule\n",
      "0 &  21topics\\_conclusiontuned\\_bm\\_rm3 &    0.527356 &     0.466407 &  0.744459 \\\\\n",
      "1 &       21topics\\_conclusion\\_bm\\_rm3 &    0.464399 &     0.427242 &  0.724515 \\\\\n",
      "\\bottomrule\n",
      "\\end{tabular}\n",
      "\n",
      "\n",
      "/mnt/ceph/storage/data-in-progress/data-teaching/theses/wstud-thesis-hollatz/DeepCT_indexes/topics_conclusions_leakage/pd_index\n",
      "Fold 1\n",
      "Best ndcg_cut_5 is 0.530818\n",
      "Best setting is ['QueryExpansion(/mnt/ceph/storage/data-in-progress/data-teaching/theses/wstud-thesis-hollatz/DeepCT_indexes/topics_conclusions_leakage/pd_index/data.properties,8,14,<org.terrier.querying.RM3 at 0x7f9ecd3c6040 jclass=org/terrier/querying/RM3 jself=<LocalRef obj=0x55dc18ff8968 at 0x7f9f18af6e70>>) fb_terms=8', 'QueryExpansion(/mnt/ceph/storage/data-in-progress/data-teaching/theses/wstud-thesis-hollatz/DeepCT_indexes/topics_conclusions_leakage/pd_index/data.properties,8,14,<org.terrier.querying.RM3 at 0x7f9ecd3c6040 jclass=org/terrier/querying/RM3 jself=<LocalRef obj=0x55dc18ff8968 at 0x7f9f18af6e70>>) fb_docs=8', 'QueryExpansion(/mnt/ceph/storage/data-in-progress/data-teaching/theses/wstud-thesis-hollatz/DeepCT_indexes/topics_conclusions_leakage/pd_index/data.properties,8,14,<org.terrier.querying.RM3 at 0x7f9ecd3c6040 jclass=org/terrier/querying/RM3 jself=<LocalRef obj=0x55dc18ff8968 at 0x7f9f18af6e70>>) fb_lambda=0.8']\n",
      "Fold 2\n",
      "Best ndcg_cut_5 is 0.373907\n",
      "Best setting is ['QueryExpansion(/mnt/ceph/storage/data-in-progress/data-teaching/theses/wstud-thesis-hollatz/DeepCT_indexes/topics_conclusions_leakage/pd_index/data.properties,8,14,<org.terrier.querying.RM3 at 0x7f9ecd3c6040 jclass=org/terrier/querying/RM3 jself=<LocalRef obj=0x55dc18ff8968 at 0x7f9f18af6e70>>) fb_terms=10', 'QueryExpansion(/mnt/ceph/storage/data-in-progress/data-teaching/theses/wstud-thesis-hollatz/DeepCT_indexes/topics_conclusions_leakage/pd_index/data.properties,8,14,<org.terrier.querying.RM3 at 0x7f9ecd3c6040 jclass=org/terrier/querying/RM3 jself=<LocalRef obj=0x55dc18ff8968 at 0x7f9f18af6e70>>) fb_docs=6', 'QueryExpansion(/mnt/ceph/storage/data-in-progress/data-teaching/theses/wstud-thesis-hollatz/DeepCT_indexes/topics_conclusions_leakage/pd_index/data.properties,8,14,<org.terrier.querying.RM3 at 0x7f9ecd3c6040 jclass=org/terrier/querying/RM3 jself=<LocalRef obj=0x55dc18ff8968 at 0x7f9f18af6e70>>) fb_lambda=0.4']\n"
     ]
    },
    {
     "name": "stderr",
     "output_type": "stream",
     "text": [
      "/tmp/ipykernel_1615848/2031853054.py:32: FutureWarning: In future versions `DataFrame.to_latex` is expected to utilise the base implementation of `Styler.to_latex` for formatting and rendering. The arguments signature may therefore change. It is recommended instead to use `DataFrame.style.to_latex` which also contains additional functionality.\n",
      "  print(pt.Experiment([pipe_qe, bm25_for_qe], topics, qrels, names=[folders[i] + '_tuned_bm_rm3', folders[i] + '_orignal_bm_rm3'],\n"
     ]
    },
    {
     "name": "stdout",
     "output_type": "stream",
     "text": [
      "\\begin{tabular}{llrrr}\n",
      "\\toprule\n",
      "{} &                                      name &  ndcg\\_cut\\_5 &  ndcg\\_cut\\_25 &     bpref \\\\\n",
      "\\midrule\n",
      "0 &    topics\\_conclusion\\_leakage\\_tuned\\_bm\\_rm3 &    0.421850 &     0.390009 &  0.744593 \\\\\n",
      "1 &  topics\\_conclusion\\_leakage\\_orignal\\_bm\\_rm3 &    0.391703 &     0.377510 &  0.710018 \\\\\n",
      "\\bottomrule\n",
      "\\end{tabular}\n",
      "\n"
     ]
    },
    {
     "name": "stderr",
     "output_type": "stream",
     "text": [
      "/tmp/ipykernel_1615848/2031853054.py:35: FutureWarning: In future versions `DataFrame.to_latex` is expected to utilise the base implementation of `Styler.to_latex` for formatting and rendering. The arguments signature may therefore change. It is recommended instead to use `DataFrame.style.to_latex` which also contains additional functionality.\n",
      "  print(pt.Experiment([pipe_qe, bm25_for_qe], topics20, qrels, names=['20' + folders[i] + 'tuned_bm_rm3', '20' + folders[i] + '_bm_rm3'],\n"
     ]
    },
    {
     "name": "stdout",
     "output_type": "stream",
     "text": [
      "\\begin{tabular}{llrrr}\n",
      "\\toprule\n",
      "{} &                                     name &  ndcg\\_cut\\_5 &  ndcg\\_cut\\_25 &     bpref \\\\\n",
      "\\midrule\n",
      "0 &  20topics\\_conclusion\\_leakagetuned\\_bm\\_rm3 &    0.359022 &     0.338492 &  0.763565 \\\\\n",
      "1 &       20topics\\_conclusion\\_leakage\\_bm\\_rm3 &    0.303513 &     0.300454 &  0.697511 \\\\\n",
      "\\bottomrule\n",
      "\\end{tabular}\n",
      "\n"
     ]
    },
    {
     "name": "stderr",
     "output_type": "stream",
     "text": [
      "/tmp/ipykernel_1615848/2031853054.py:38: FutureWarning: In future versions `DataFrame.to_latex` is expected to utilise the base implementation of `Styler.to_latex` for formatting and rendering. The arguments signature may therefore change. It is recommended instead to use `DataFrame.style.to_latex` which also contains additional functionality.\n",
      "  print(pt.Experiment([pipe_qe, bm25_for_qe], topics21, qrels, names=['21' + folders[i] + 'tuned_bm_rm3', '21'+ folders[i] + '_bm_rm3'],\n"
     ]
    },
    {
     "name": "stdout",
     "output_type": "stream",
     "text": [
      "\\begin{tabular}{llrrr}\n",
      "\\toprule\n",
      "{} &                                     name &  ndcg\\_cut\\_5 &  ndcg\\_cut\\_25 &     bpref \\\\\n",
      "\\midrule\n",
      "0 &  21topics\\_conclusion\\_leakagetuned\\_bm\\_rm3 &    0.483423 &     0.440495 &  0.726001 \\\\\n",
      "1 &       21topics\\_conclusion\\_leakage\\_bm\\_rm3 &    0.478129 &     0.453024 &  0.722275 \\\\\n",
      "\\bottomrule\n",
      "\\end{tabular}\n",
      "\n",
      "\n",
      "/mnt/ceph/storage/data-in-progress/data-teaching/theses/wstud-thesis-hollatz/DeepCT_indexes/topics_leakage/pd_index\n",
      "Fold 1\n",
      "Best ndcg_cut_5 is 0.523600\n",
      "Best setting is ['QueryExpansion(/mnt/ceph/storage/data-in-progress/data-teaching/theses/wstud-thesis-hollatz/DeepCT_indexes/topics_leakage/pd_index/data.properties,8,14,<org.terrier.querying.RM3 at 0x7f9eccb79a40 jclass=org/terrier/querying/RM3 jself=<LocalRef obj=0x55dc18ff8920 at 0x7f9f1889eeb0>>) fb_terms=4', 'QueryExpansion(/mnt/ceph/storage/data-in-progress/data-teaching/theses/wstud-thesis-hollatz/DeepCT_indexes/topics_leakage/pd_index/data.properties,8,14,<org.terrier.querying.RM3 at 0x7f9eccb79a40 jclass=org/terrier/querying/RM3 jself=<LocalRef obj=0x55dc18ff8920 at 0x7f9f1889eeb0>>) fb_docs=8', 'QueryExpansion(/mnt/ceph/storage/data-in-progress/data-teaching/theses/wstud-thesis-hollatz/DeepCT_indexes/topics_leakage/pd_index/data.properties,8,14,<org.terrier.querying.RM3 at 0x7f9eccb79a40 jclass=org/terrier/querying/RM3 jself=<LocalRef obj=0x55dc18ff8920 at 0x7f9f1889eeb0>>) fb_lambda=0.8']\n",
      "Fold 2\n",
      "Best ndcg_cut_5 is 0.385253\n",
      "Best setting is ['QueryExpansion(/mnt/ceph/storage/data-in-progress/data-teaching/theses/wstud-thesis-hollatz/DeepCT_indexes/topics_leakage/pd_index/data.properties,8,14,<org.terrier.querying.RM3 at 0x7f9eccb79a40 jclass=org/terrier/querying/RM3 jself=<LocalRef obj=0x55dc18ff8920 at 0x7f9f1889eeb0>>) fb_terms=10', 'QueryExpansion(/mnt/ceph/storage/data-in-progress/data-teaching/theses/wstud-thesis-hollatz/DeepCT_indexes/topics_leakage/pd_index/data.properties,8,14,<org.terrier.querying.RM3 at 0x7f9eccb79a40 jclass=org/terrier/querying/RM3 jself=<LocalRef obj=0x55dc18ff8920 at 0x7f9f1889eeb0>>) fb_docs=4', 'QueryExpansion(/mnt/ceph/storage/data-in-progress/data-teaching/theses/wstud-thesis-hollatz/DeepCT_indexes/topics_leakage/pd_index/data.properties,8,14,<org.terrier.querying.RM3 at 0x7f9eccb79a40 jclass=org/terrier/querying/RM3 jself=<LocalRef obj=0x55dc18ff8920 at 0x7f9f1889eeb0>>) fb_lambda=0.8']\n"
     ]
    },
    {
     "name": "stderr",
     "output_type": "stream",
     "text": [
      "/tmp/ipykernel_1615848/2031853054.py:32: FutureWarning: In future versions `DataFrame.to_latex` is expected to utilise the base implementation of `Styler.to_latex` for formatting and rendering. The arguments signature may therefore change. It is recommended instead to use `DataFrame.style.to_latex` which also contains additional functionality.\n",
      "  print(pt.Experiment([pipe_qe, bm25_for_qe], topics, qrels, names=[folders[i] + '_tuned_bm_rm3', folders[i] + '_orignal_bm_rm3'],\n"
     ]
    },
    {
     "name": "stdout",
     "output_type": "stream",
     "text": [
      "\\begin{tabular}{llrrr}\n",
      "\\toprule\n",
      "{} &                           name &  ndcg\\_cut\\_5 &  ndcg\\_cut\\_25 &     bpref \\\\\n",
      "\\midrule\n",
      "0 &    topics\\_leakage\\_tuned\\_bm\\_rm3 &    0.422633 &     0.394401 &  0.753297 \\\\\n",
      "1 &  topics\\_leakage\\_orignal\\_bm\\_rm3 &    0.398625 &     0.375118 &  0.710066 \\\\\n",
      "\\bottomrule\n",
      "\\end{tabular}\n",
      "\n"
     ]
    },
    {
     "name": "stderr",
     "output_type": "stream",
     "text": [
      "/tmp/ipykernel_1615848/2031853054.py:35: FutureWarning: In future versions `DataFrame.to_latex` is expected to utilise the base implementation of `Styler.to_latex` for formatting and rendering. The arguments signature may therefore change. It is recommended instead to use `DataFrame.style.to_latex` which also contains additional functionality.\n",
      "  print(pt.Experiment([pipe_qe, bm25_for_qe], topics20, qrels, names=['20' + folders[i] + 'tuned_bm_rm3', '20' + folders[i] + '_bm_rm3'],\n"
     ]
    },
    {
     "name": "stdout",
     "output_type": "stream",
     "text": [
      "\\begin{tabular}{llrrr}\n",
      "\\toprule\n",
      "{} &                          name &  ndcg\\_cut\\_5 &  ndcg\\_cut\\_25 &     bpref \\\\\n",
      "\\midrule\n",
      "0 &  20topics\\_leakagetuned\\_bm\\_rm3 &    0.361151 &     0.337301 &  0.760414 \\\\\n",
      "1 &       20topics\\_leakage\\_bm\\_rm3 &    0.319409 &     0.304263 &  0.693769 \\\\\n",
      "\\bottomrule\n",
      "\\end{tabular}\n",
      "\n"
     ]
    },
    {
     "name": "stderr",
     "output_type": "stream",
     "text": [
      "/tmp/ipykernel_1615848/2031853054.py:38: FutureWarning: In future versions `DataFrame.to_latex` is expected to utilise the base implementation of `Styler.to_latex` for formatting and rendering. The arguments signature may therefore change. It is recommended instead to use `DataFrame.style.to_latex` which also contains additional functionality.\n",
      "  print(pt.Experiment([pipe_qe, bm25_for_qe], topics21, qrels, names=['21' + folders[i] + 'tuned_bm_rm3', '21'+ folders[i] + '_bm_rm3'],\n"
     ]
    },
    {
     "name": "stdout",
     "output_type": "stream",
     "text": [
      "\\begin{tabular}{llrrr}\n",
      "\\toprule\n",
      "{} &                          name &  ndcg\\_cut\\_5 &  ndcg\\_cut\\_25 &     bpref \\\\\n",
      "\\midrule\n",
      "0 &  21topics\\_leakagetuned\\_bm\\_rm3 &    0.482885 &     0.450359 &  0.746322 \\\\\n",
      "1 &       21topics\\_leakage\\_bm\\_rm3 &    0.476256 &     0.444556 &  0.726038 \\\\\n",
      "\\bottomrule\n",
      "\\end{tabular}\n",
      "\n",
      "\n",
      "/mnt/ceph/storage/data-in-progress/data-teaching/theses/wstud-thesis-hollatz/DeepCT_indexes/pools_topics_conclusionspd_index\n",
      "Fold 1\n",
      "Best ndcg_cut_5 is 0.541903\n",
      "Best setting is ['QueryExpansion(/mnt/ceph/storage/data-in-progress/data-teaching/theses/wstud-thesis-hollatz/DeepCT_indexes/pools_topics_conclusionspd_index/data.properties,8,14,<org.terrier.querying.RM3 at 0x7f9ecd7c1d60 jclass=org/terrier/querying/RM3 jself=<LocalRef obj=0x55dc18ff8968 at 0x7f9f18aa90b0>>) fb_terms=14', 'QueryExpansion(/mnt/ceph/storage/data-in-progress/data-teaching/theses/wstud-thesis-hollatz/DeepCT_indexes/pools_topics_conclusionspd_index/data.properties,8,14,<org.terrier.querying.RM3 at 0x7f9ecd7c1d60 jclass=org/terrier/querying/RM3 jself=<LocalRef obj=0x55dc18ff8968 at 0x7f9f18aa90b0>>) fb_docs=6', 'QueryExpansion(/mnt/ceph/storage/data-in-progress/data-teaching/theses/wstud-thesis-hollatz/DeepCT_indexes/pools_topics_conclusionspd_index/data.properties,8,14,<org.terrier.querying.RM3 at 0x7f9ecd7c1d60 jclass=org/terrier/querying/RM3 jself=<LocalRef obj=0x55dc18ff8968 at 0x7f9f18aa90b0>>) fb_lambda=0.8']\n",
      "Fold 2\n",
      "Best ndcg_cut_5 is 0.378632\n",
      "Best setting is ['QueryExpansion(/mnt/ceph/storage/data-in-progress/data-teaching/theses/wstud-thesis-hollatz/DeepCT_indexes/pools_topics_conclusionspd_index/data.properties,8,14,<org.terrier.querying.RM3 at 0x7f9ecd7c1d60 jclass=org/terrier/querying/RM3 jself=<LocalRef obj=0x55dc18ff8968 at 0x7f9f18aa90b0>>) fb_terms=14', 'QueryExpansion(/mnt/ceph/storage/data-in-progress/data-teaching/theses/wstud-thesis-hollatz/DeepCT_indexes/pools_topics_conclusionspd_index/data.properties,8,14,<org.terrier.querying.RM3 at 0x7f9ecd7c1d60 jclass=org/terrier/querying/RM3 jself=<LocalRef obj=0x55dc18ff8968 at 0x7f9f18aa90b0>>) fb_docs=4', 'QueryExpansion(/mnt/ceph/storage/data-in-progress/data-teaching/theses/wstud-thesis-hollatz/DeepCT_indexes/pools_topics_conclusionspd_index/data.properties,8,14,<org.terrier.querying.RM3 at 0x7f9ecd7c1d60 jclass=org/terrier/querying/RM3 jself=<LocalRef obj=0x55dc18ff8968 at 0x7f9f18aa90b0>>) fb_lambda=0.4']\n"
     ]
    },
    {
     "name": "stderr",
     "output_type": "stream",
     "text": [
      "/tmp/ipykernel_1615848/2031853054.py:32: FutureWarning: In future versions `DataFrame.to_latex` is expected to utilise the base implementation of `Styler.to_latex` for formatting and rendering. The arguments signature may therefore change. It is recommended instead to use `DataFrame.style.to_latex` which also contains additional functionality.\n",
      "  print(pt.Experiment([pipe_qe, bm25_for_qe], topics, qrels, names=[folders[i] + '_tuned_bm_rm3', folders[i] + '_orignal_bm_rm3'],\n"
     ]
    },
    {
     "name": "stdout",
     "output_type": "stream",
     "text": [
      "\\begin{tabular}{llrrr}\n",
      "\\toprule\n",
      "{} &                                    name &  ndcg\\_cut\\_5 &  ndcg\\_cut\\_25 &     bpref \\\\\n",
      "\\midrule\n",
      "0 &    pool\\_topics\\_conclusions\\_tuned\\_bm\\_rm3 &    0.423045 &     0.402593 &  0.758526 \\\\\n",
      "1 &  pool\\_topics\\_conclusions\\_orignal\\_bm\\_rm3 &    0.395869 &     0.376193 &  0.710128 \\\\\n",
      "\\bottomrule\n",
      "\\end{tabular}\n",
      "\n"
     ]
    },
    {
     "name": "stderr",
     "output_type": "stream",
     "text": [
      "/tmp/ipykernel_1615848/2031853054.py:35: FutureWarning: In future versions `DataFrame.to_latex` is expected to utilise the base implementation of `Styler.to_latex` for formatting and rendering. The arguments signature may therefore change. It is recommended instead to use `DataFrame.style.to_latex` which also contains additional functionality.\n",
      "  print(pt.Experiment([pipe_qe, bm25_for_qe], topics20, qrels, names=['20' + folders[i] + 'tuned_bm_rm3', '20' + folders[i] + '_bm_rm3'],\n"
     ]
    },
    {
     "name": "stdout",
     "output_type": "stream",
     "text": [
      "\\begin{tabular}{llrrr}\n",
      "\\toprule\n",
      "{} &                                   name &  ndcg\\_cut\\_5 &  ndcg\\_cut\\_25 &     bpref \\\\\n",
      "\\midrule\n",
      "0 &  20pool\\_topics\\_conclusionstuned\\_bm\\_rm3 &    0.362496 &     0.352595 &  0.768932 \\\\\n",
      "1 &       20pool\\_topics\\_conclusions\\_bm\\_rm3 &    0.298354 &     0.297958 &  0.696999 \\\\\n",
      "\\bottomrule\n",
      "\\end{tabular}\n",
      "\n"
     ]
    },
    {
     "name": "stderr",
     "output_type": "stream",
     "text": [
      "/tmp/ipykernel_1615848/2031853054.py:38: FutureWarning: In future versions `DataFrame.to_latex` is expected to utilise the base implementation of `Styler.to_latex` for formatting and rendering. The arguments signature may therefore change. It is recommended instead to use `DataFrame.style.to_latex` which also contains additional functionality.\n",
      "  print(pt.Experiment([pipe_qe, bm25_for_qe], topics21, qrels, names=['21' + folders[i] + 'tuned_bm_rm3', '21'+ folders[i] + '_bm_rm3'],\n"
     ]
    },
    {
     "name": "stdout",
     "output_type": "stream",
     "text": [
      "\\begin{tabular}{llrrr}\n",
      "\\toprule\n",
      "{} &                                   name &  ndcg\\_cut\\_5 &  ndcg\\_cut\\_25 &     bpref \\\\\n",
      "\\midrule\n",
      "0 &  21pool\\_topics\\_conclusionstuned\\_bm\\_rm3 &    0.482384 &     0.451591 &  0.748328 \\\\\n",
      "1 &       21pool\\_topics\\_conclusions\\_bm\\_rm3 &    0.491433 &     0.452863 &  0.722995 \\\\\n",
      "\\bottomrule\n",
      "\\end{tabular}\n",
      "\n",
      "\n",
      "/mnt/ceph/storage/data-in-progress/data-teaching/theses/wstud-thesis-hollatz/DeepCT_indexes/conclusions_leakage/pd_index\n",
      "Fold 1\n",
      "Best ndcg_cut_5 is 0.550328\n",
      "Best setting is ['QueryExpansion(/mnt/ceph/storage/data-in-progress/data-teaching/theses/wstud-thesis-hollatz/DeepCT_indexes/conclusions_leakage/pd_index/data.properties,8,14,<org.terrier.querying.RM3 at 0x7f9ecc1bc040 jclass=org/terrier/querying/RM3 jself=<LocalRef obj=0x55dc18ff8920 at 0x7f9f181ece10>>) fb_terms=6', 'QueryExpansion(/mnt/ceph/storage/data-in-progress/data-teaching/theses/wstud-thesis-hollatz/DeepCT_indexes/conclusions_leakage/pd_index/data.properties,8,14,<org.terrier.querying.RM3 at 0x7f9ecc1bc040 jclass=org/terrier/querying/RM3 jself=<LocalRef obj=0x55dc18ff8920 at 0x7f9f181ece10>>) fb_docs=8', 'QueryExpansion(/mnt/ceph/storage/data-in-progress/data-teaching/theses/wstud-thesis-hollatz/DeepCT_indexes/conclusions_leakage/pd_index/data.properties,8,14,<org.terrier.querying.RM3 at 0x7f9ecc1bc040 jclass=org/terrier/querying/RM3 jself=<LocalRef obj=0x55dc18ff8920 at 0x7f9f181ece10>>) fb_lambda=0.8']\n",
      "Fold 2\n",
      "Best ndcg_cut_5 is 0.386576\n",
      "Best setting is ['QueryExpansion(/mnt/ceph/storage/data-in-progress/data-teaching/theses/wstud-thesis-hollatz/DeepCT_indexes/conclusions_leakage/pd_index/data.properties,8,14,<org.terrier.querying.RM3 at 0x7f9ecc1bc040 jclass=org/terrier/querying/RM3 jself=<LocalRef obj=0x55dc18ff8920 at 0x7f9f181ece10>>) fb_terms=12', 'QueryExpansion(/mnt/ceph/storage/data-in-progress/data-teaching/theses/wstud-thesis-hollatz/DeepCT_indexes/conclusions_leakage/pd_index/data.properties,8,14,<org.terrier.querying.RM3 at 0x7f9ecc1bc040 jclass=org/terrier/querying/RM3 jself=<LocalRef obj=0x55dc18ff8920 at 0x7f9f181ece10>>) fb_docs=4', 'QueryExpansion(/mnt/ceph/storage/data-in-progress/data-teaching/theses/wstud-thesis-hollatz/DeepCT_indexes/conclusions_leakage/pd_index/data.properties,8,14,<org.terrier.querying.RM3 at 0x7f9ecc1bc040 jclass=org/terrier/querying/RM3 jself=<LocalRef obj=0x55dc18ff8920 at 0x7f9f181ece10>>) fb_lambda=0.8']\n"
     ]
    },
    {
     "name": "stderr",
     "output_type": "stream",
     "text": [
      "/tmp/ipykernel_1615848/2031853054.py:32: FutureWarning: In future versions `DataFrame.to_latex` is expected to utilise the base implementation of `Styler.to_latex` for formatting and rendering. The arguments signature may therefore change. It is recommended instead to use `DataFrame.style.to_latex` which also contains additional functionality.\n",
      "  print(pt.Experiment([pipe_qe, bm25_for_qe], topics, qrels, names=[folders[i] + '_tuned_bm_rm3', folders[i] + '_orignal_bm_rm3'],\n"
     ]
    },
    {
     "name": "stdout",
     "output_type": "stream",
     "text": [
      "\\begin{tabular}{llrrr}\n",
      "\\toprule\n",
      "{} &                                name &  ndcg\\_cut\\_5 &  ndcg\\_cut\\_25 &     bpref \\\\\n",
      "\\midrule\n",
      "0 &    conclusions\\_leakage\\_tuned\\_bm\\_rm3 &    0.445023 &     0.402419 &  0.751980 \\\\\n",
      "1 &  conclusions\\_leakage\\_orignal\\_bm\\_rm3 &    0.410775 &     0.379499 &  0.710769 \\\\\n",
      "\\bottomrule\n",
      "\\end{tabular}\n",
      "\n"
     ]
    },
    {
     "name": "stderr",
     "output_type": "stream",
     "text": [
      "/tmp/ipykernel_1615848/2031853054.py:35: FutureWarning: In future versions `DataFrame.to_latex` is expected to utilise the base implementation of `Styler.to_latex` for formatting and rendering. The arguments signature may therefore change. It is recommended instead to use `DataFrame.style.to_latex` which also contains additional functionality.\n",
      "  print(pt.Experiment([pipe_qe, bm25_for_qe], topics20, qrels, names=['20' + folders[i] + 'tuned_bm_rm3', '20' + folders[i] + '_bm_rm3'],\n"
     ]
    },
    {
     "name": "stdout",
     "output_type": "stream",
     "text": [
      "\\begin{tabular}{llrrr}\n",
      "\\toprule\n",
      "{} &                               name &  ndcg\\_cut\\_5 &  ndcg\\_cut\\_25 &     bpref \\\\\n",
      "\\midrule\n",
      "0 &  20conclusions\\_leakagetuned\\_bm\\_rm3 &    0.367723 &     0.347465 &  0.764244 \\\\\n",
      "1 &       20conclusions\\_leakage\\_bm\\_rm3 &    0.302395 &     0.303155 &  0.696800 \\\\\n",
      "\\bottomrule\n",
      "\\end{tabular}\n",
      "\n"
     ]
    },
    {
     "name": "stderr",
     "output_type": "stream",
     "text": [
      "/tmp/ipykernel_1615848/2031853054.py:38: FutureWarning: In future versions `DataFrame.to_latex` is expected to utilise the base implementation of `Styler.to_latex` for formatting and rendering. The arguments signature may therefore change. It is recommended instead to use `DataFrame.style.to_latex` which also contains additional functionality.\n",
      "  print(pt.Experiment([pipe_qe, bm25_for_qe], topics21, qrels, names=['21' + folders[i] + 'tuned_bm_rm3', '21'+ folders[i] + '_bm_rm3'],\n"
     ]
    },
    {
     "name": "stdout",
     "output_type": "stream",
     "text": [
      "\\begin{tabular}{llrrr}\n",
      "\\toprule\n",
      "{} &                               name &  ndcg\\_cut\\_5 &  ndcg\\_cut\\_25 &     bpref \\\\\n",
      "\\midrule\n",
      "0 &  21conclusions\\_leakagetuned\\_bm\\_rm3 &    0.520777 &     0.456275 &  0.739960 \\\\\n",
      "1 &       21conclusions\\_leakage\\_bm\\_rm3 &    0.516987 &     0.454317 &  0.724458 \\\\\n",
      "\\bottomrule\n",
      "\\end{tabular}\n",
      "\n",
      "\n",
      "/mnt/ceph/storage/data-in-progress/data-teaching/theses/wstud-thesis-hollatz/DeepCT_indexes/pools_conclusionspd_index\n",
      "Fold 1\n",
      "Best ndcg_cut_5 is 0.539135\n",
      "Best setting is ['QueryExpansion(/mnt/ceph/storage/data-in-progress/data-teaching/theses/wstud-thesis-hollatz/DeepCT_indexes/pools_conclusionspd_index/data.properties,8,14,<org.terrier.querying.RM3 at 0x7f9ecdc73040 jclass=org/terrier/querying/RM3 jself=<LocalRef obj=0x55dc18ff8968 at 0x7f9f186b8dd0>>) fb_terms=12', 'QueryExpansion(/mnt/ceph/storage/data-in-progress/data-teaching/theses/wstud-thesis-hollatz/DeepCT_indexes/pools_conclusionspd_index/data.properties,8,14,<org.terrier.querying.RM3 at 0x7f9ecdc73040 jclass=org/terrier/querying/RM3 jself=<LocalRef obj=0x55dc18ff8968 at 0x7f9f186b8dd0>>) fb_docs=4', 'QueryExpansion(/mnt/ceph/storage/data-in-progress/data-teaching/theses/wstud-thesis-hollatz/DeepCT_indexes/pools_conclusionspd_index/data.properties,8,14,<org.terrier.querying.RM3 at 0x7f9ecdc73040 jclass=org/terrier/querying/RM3 jself=<LocalRef obj=0x55dc18ff8968 at 0x7f9f186b8dd0>>) fb_lambda=0.8']\n",
      "Fold 2\n",
      "Best ndcg_cut_5 is 0.397229\n",
      "Best setting is ['QueryExpansion(/mnt/ceph/storage/data-in-progress/data-teaching/theses/wstud-thesis-hollatz/DeepCT_indexes/pools_conclusionspd_index/data.properties,8,14,<org.terrier.querying.RM3 at 0x7f9ecdc73040 jclass=org/terrier/querying/RM3 jself=<LocalRef obj=0x55dc18ff8968 at 0x7f9f186b8dd0>>) fb_terms=14', 'QueryExpansion(/mnt/ceph/storage/data-in-progress/data-teaching/theses/wstud-thesis-hollatz/DeepCT_indexes/pools_conclusionspd_index/data.properties,8,14,<org.terrier.querying.RM3 at 0x7f9ecdc73040 jclass=org/terrier/querying/RM3 jself=<LocalRef obj=0x55dc18ff8968 at 0x7f9f186b8dd0>>) fb_docs=8', 'QueryExpansion(/mnt/ceph/storage/data-in-progress/data-teaching/theses/wstud-thesis-hollatz/DeepCT_indexes/pools_conclusionspd_index/data.properties,8,14,<org.terrier.querying.RM3 at 0x7f9ecdc73040 jclass=org/terrier/querying/RM3 jself=<LocalRef obj=0x55dc18ff8968 at 0x7f9f186b8dd0>>) fb_lambda=0.6']\n"
     ]
    },
    {
     "name": "stderr",
     "output_type": "stream",
     "text": [
      "/tmp/ipykernel_1615848/2031853054.py:32: FutureWarning: In future versions `DataFrame.to_latex` is expected to utilise the base implementation of `Styler.to_latex` for formatting and rendering. The arguments signature may therefore change. It is recommended instead to use `DataFrame.style.to_latex` which also contains additional functionality.\n",
      "  print(pt.Experiment([pipe_qe, bm25_for_qe], topics, qrels, names=[folders[i] + '_tuned_bm_rm3', folders[i] + '_orignal_bm_rm3'],\n"
     ]
    },
    {
     "name": "stdout",
     "output_type": "stream",
     "text": [
      "\\begin{tabular}{llrrr}\n",
      "\\toprule\n",
      "{} &                              name &  ndcg\\_cut\\_5 &  ndcg\\_cut\\_25 &     bpref \\\\\n",
      "\\midrule\n",
      "0 &    pools\\_conclusions\\_tuned\\_bm\\_rm3 &    0.432140 &     0.407370 &  0.755836 \\\\\n",
      "1 &  pools\\_conclusions\\_orignal\\_bm\\_rm3 &    0.396597 &     0.372488 &  0.708422 \\\\\n",
      "\\bottomrule\n",
      "\\end{tabular}\n",
      "\n"
     ]
    },
    {
     "name": "stderr",
     "output_type": "stream",
     "text": [
      "/tmp/ipykernel_1615848/2031853054.py:35: FutureWarning: In future versions `DataFrame.to_latex` is expected to utilise the base implementation of `Styler.to_latex` for formatting and rendering. The arguments signature may therefore change. It is recommended instead to use `DataFrame.style.to_latex` which also contains additional functionality.\n",
      "  print(pt.Experiment([pipe_qe, bm25_for_qe], topics20, qrels, names=['20' + folders[i] + 'tuned_bm_rm3', '20' + folders[i] + '_bm_rm3'],\n"
     ]
    },
    {
     "name": "stdout",
     "output_type": "stream",
     "text": [
      "\\begin{tabular}{llrrr}\n",
      "\\toprule\n",
      "{} &                             name &  ndcg\\_cut\\_5 &  ndcg\\_cut\\_25 &     bpref \\\\\n",
      "\\midrule\n",
      "0 &  20pools\\_conclusionstuned\\_bm\\_rm3 &    0.376738 &     0.356485 &  0.769025 \\\\\n",
      "1 &       20pools\\_conclusions\\_bm\\_rm3 &    0.294971 &     0.298600 &  0.698183 \\\\\n",
      "\\bottomrule\n",
      "\\end{tabular}\n",
      "\n"
     ]
    },
    {
     "name": "stderr",
     "output_type": "stream",
     "text": [
      "/tmp/ipykernel_1615848/2031853054.py:38: FutureWarning: In future versions `DataFrame.to_latex` is expected to utilise the base implementation of `Styler.to_latex` for formatting and rendering. The arguments signature may therefore change. It is recommended instead to use `DataFrame.style.to_latex` which also contains additional functionality.\n",
      "  print(pt.Experiment([pipe_qe, bm25_for_qe], topics21, qrels, names=['21' + folders[i] + 'tuned_bm_rm3', '21'+ folders[i] + '_bm_rm3'],\n"
     ]
    },
    {
     "name": "stdout",
     "output_type": "stream",
     "text": [
      "\\begin{tabular}{llrrr}\n",
      "\\toprule\n",
      "{} &                             name &  ndcg\\_cut\\_5 &  ndcg\\_cut\\_25 &     bpref \\\\\n",
      "\\midrule\n",
      "0 &  21pools\\_conclusionstuned\\_bm\\_rm3 &    0.486435 &     0.457238 &  0.742910 \\\\\n",
      "1 &       21pools\\_conclusions\\_bm\\_rm3 &    0.496191 &     0.444897 &  0.718457 \\\\\n",
      "\\bottomrule\n",
      "\\end{tabular}\n",
      "\n"
     ]
    }
   ],
   "source": [
    "import os\n",
    "rootdir = \"/mnt/ceph/storage/data-in-progress/data-teaching/theses/wstud-thesis-hollatz/DeepCT_indexes/\"\n",
    "folders = ['conclusions','pool_topics','topics','topics_conclusion','topics_conclusion_leakage','topics_leakage','pool_topics_conclusions','conclusions_leakage','pools_conclusions']\n",
    "objective=\"ndcg_cut_5\"\n",
    "i = 0\n",
    "for subdir, dirs, files in os.walk(rootdir):\n",
    "    for file in files:\n",
    "        if(file == 'data.properties'):\n",
    "            path = subdir + '/'+ file\n",
    "            print('\\n' + subdir)\n",
    "            indexref = pt.IndexRef.of(path)\n",
    "            index = pt.IndexFactory.of(indexref)\n",
    "            bm25_for_qe = pt.BatchRetrieve(index, wmodel=\"BM25\")\n",
    "            rm3 = pt.rewrite.RM3(index, fb_terms=10, fb_docs=3)\n",
    "            pipe_qe = bm25_for_qe >> rm3 >> bm25_for_qe\n",
    "            \n",
    "            param_map = {\n",
    "                rm3 : {\n",
    "                    \"fb_terms\" : list(range(4, 16, 2)),\n",
    "                    \"fb_docs\" : list(range(4, 10, 2)),\n",
    "                    \"fb_lambda\": [0.2,0.4,0.6,0.8,1.0]\n",
    "                }\n",
    "            }\n",
    "            \n",
    "            pipe_qe, parameters = pt.KFoldGridSearch(\n",
    "                pipe_qe,\n",
    "                param_map,\n",
    "                [topics20, topics21],\n",
    "                [qrels20, qrels21],\n",
    "                objective\n",
    "            )\n",
    "            print(pt.Experiment([pipe_qe, bm25_for_qe], topics, qrels, names=[folders[i] + '_tuned_bm_rm3', folders[i] + '_orignal_bm_rm3'],\n",
    "                eval_metrics=[\"ndcg_cut_5\", \"ndcg_cut_25\", \"bpref\"]).to_latex())\n",
    "            \n",
    "            print(pt.Experiment([pipe_qe, bm25_for_qe], topics20, qrels, names=['20' + folders[i] + 'tuned_bm_rm3', '20' + folders[i] + '_bm_rm3'], \n",
    "                eval_metrics=[\"ndcg_cut_5\", \"ndcg_cut_25\", \"bpref\"]).to_latex())\n",
    "            \n",
    "            print(pt.Experiment([pipe_qe, bm25_for_qe], topics21, qrels, names=['21' + folders[i] + 'tuned_bm_rm3', '21'+ folders[i] + '_bm_rm3'], \n",
    "                eval_metrics=[\"ndcg_cut_5\", \"ndcg_cut_25\", \"bpref\"]).to_latex())\n",
    "            \n",
    "            pipe_qe.to_csv(path_or_buf=f\"/workspace/src/grid_search_right_qrels/final_right/run/{folders[i]}_tuned_bm_rm3.csv\")\n",
    "            i+=1"
   ]
  },
  {
   "cell_type": "code",
   "execution_count": 6,
   "id": "3645766f",
   "metadata": {},
   "outputs": [
    {
     "name": "stdout",
     "output_type": "stream",
     "text": [
      "\n",
      "/workspace/src/grid_search_right_qrels/super_folder/\n",
      "Fold 1\n",
      "Best ndcg_cut_5 is 0.452738\n",
      "Best setting is ['QueryExpansion(/workspace/src/grid_search_right_qrels/super_folder/data.properties,8,14,<org.terrier.querying.RM3 at 0x7f9f19c5d9f0 jclass=org/terrier/querying/RM3 jself=<LocalRef obj=0x55dc18ff8920 at 0x7f9f182ce930>>) fb_terms=10', 'QueryExpansion(/workspace/src/grid_search_right_qrels/super_folder/data.properties,8,14,<org.terrier.querying.RM3 at 0x7f9f19c5d9f0 jclass=org/terrier/querying/RM3 jself=<LocalRef obj=0x55dc18ff8920 at 0x7f9f182ce930>>) fb_docs=8', 'QueryExpansion(/workspace/src/grid_search_right_qrels/super_folder/data.properties,8,14,<org.terrier.querying.RM3 at 0x7f9f19c5d9f0 jclass=org/terrier/querying/RM3 jself=<LocalRef obj=0x55dc18ff8920 at 0x7f9f182ce930>>) fb_lambda=0.4']\n",
      "Fold 2\n",
      "Best ndcg_cut_5 is 0.285510\n",
      "Best setting is ['QueryExpansion(/workspace/src/grid_search_right_qrels/super_folder/data.properties,8,14,<org.terrier.querying.RM3 at 0x7f9f19c5d9f0 jclass=org/terrier/querying/RM3 jself=<LocalRef obj=0x55dc18ff8920 at 0x7f9f182ce930>>) fb_terms=8', 'QueryExpansion(/workspace/src/grid_search_right_qrels/super_folder/data.properties,8,14,<org.terrier.querying.RM3 at 0x7f9f19c5d9f0 jclass=org/terrier/querying/RM3 jself=<LocalRef obj=0x55dc18ff8920 at 0x7f9f182ce930>>) fb_docs=6', 'QueryExpansion(/workspace/src/grid_search_right_qrels/super_folder/data.properties,8,14,<org.terrier.querying.RM3 at 0x7f9f19c5d9f0 jclass=org/terrier/querying/RM3 jself=<LocalRef obj=0x55dc18ff8920 at 0x7f9f182ce930>>) fb_lambda=0.8']\n"
     ]
    },
    {
     "name": "stderr",
     "output_type": "stream",
     "text": [
      "/tmp/ipykernel_1615848/3999278728.py:32: FutureWarning: In future versions `DataFrame.to_latex` is expected to utilise the base implementation of `Styler.to_latex` for formatting and rendering. The arguments signature may therefore change. It is recommended instead to use `DataFrame.style.to_latex` which also contains additional functionality.\n",
      "  print(pt.Experiment([pipe_qe, bm25_for_qe], topics, qrels, names=[folders[i] + '_tuned_bm_rm3', folders[i] + '_orignal_bm_rm3'],\n"
     ]
    },
    {
     "name": "stdout",
     "output_type": "stream",
     "text": [
      "\\begin{tabular}{llrrr}\n",
      "\\toprule\n",
      "{} &                             name &  ndcg\\_cut\\_5 &  ndcg\\_cut\\_25 &     bpref \\\\\n",
      "\\midrule\n",
      "0 &    marco-pretrained\\_tuned\\_bm\\_rm3 &    0.344765 &     0.314022 &  0.652304 \\\\\n",
      "1 &  marco-pretrained\\_orignal\\_bm\\_rm3 &    0.335913 &     0.305915 &  0.620544 \\\\\n",
      "\\bottomrule\n",
      "\\end{tabular}\n",
      "\n"
     ]
    },
    {
     "name": "stderr",
     "output_type": "stream",
     "text": [
      "/tmp/ipykernel_1615848/3999278728.py:35: FutureWarning: In future versions `DataFrame.to_latex` is expected to utilise the base implementation of `Styler.to_latex` for formatting and rendering. The arguments signature may therefore change. It is recommended instead to use `DataFrame.style.to_latex` which also contains additional functionality.\n",
      "  print(pt.Experiment([pipe_qe, bm25_for_qe], topics20, qrels, names=['20' + folders[i] + 'tuned_bm_rm3', '20' + folders[i] + '_bm_rm3'],\n"
     ]
    },
    {
     "name": "stdout",
     "output_type": "stream",
     "text": [
      "\\begin{tabular}{llrrr}\n",
      "\\toprule\n",
      "{} &                            name &  ndcg\\_cut\\_5 &  ndcg\\_cut\\_25 &     bpref \\\\\n",
      "\\midrule\n",
      "0 &  20marco-pretrainedtuned\\_bm\\_rm3 &    0.255034 &     0.263154 &  0.673901 \\\\\n",
      "1 &       20marco-pretrained\\_bm\\_rm3 &    0.272867 &     0.259365 &  0.618440 \\\\\n",
      "\\bottomrule\n",
      "\\end{tabular}\n",
      "\n"
     ]
    },
    {
     "name": "stderr",
     "output_type": "stream",
     "text": [
      "/tmp/ipykernel_1615848/3999278728.py:38: FutureWarning: In future versions `DataFrame.to_latex` is expected to utilise the base implementation of `Styler.to_latex` for formatting and rendering. The arguments signature may therefore change. It is recommended instead to use `DataFrame.style.to_latex` which also contains additional functionality.\n",
      "  print(pt.Experiment([pipe_qe, bm25_for_qe], topics21, qrels, names=['21' + folders[i] + 'tuned_bm_rm3', '21'+ folders[i] + '_bm_rm3'],\n"
     ]
    },
    {
     "name": "stdout",
     "output_type": "stream",
     "text": [
      "\\begin{tabular}{llrrr}\n",
      "\\toprule\n",
      "{} &                            name &  ndcg\\_cut\\_5 &  ndcg\\_cut\\_25 &     bpref \\\\\n",
      "\\midrule\n",
      "0 &  21marco-pretrainedtuned\\_bm\\_rm3 &    0.432702 &     0.363872 &  0.631139 \\\\\n",
      "1 &       21marco-pretrained\\_bm\\_rm3 &    0.397697 &     0.351533 &  0.622606 \\\\\n",
      "\\bottomrule\n",
      "\\end{tabular}\n",
      "\n"
     ]
    }
   ],
   "source": [
    "import os\n",
    "rootdir = \"/workspace/src/grid_search_right_qrels/super_folder/\"\n",
    "folders = ['marco-pretrained']\n",
    "objective=\"ndcg_cut_5\"\n",
    "i = 0\n",
    "for subdir, dirs, files in os.walk(rootdir):\n",
    "    for file in files:\n",
    "        if(file == 'data.properties'):\n",
    "            path = subdir + '/'+ file\n",
    "            print('\\n' + subdir)\n",
    "            indexref = pt.IndexRef.of(path)\n",
    "            index = pt.IndexFactory.of(indexref)\n",
    "            bm25_for_qe = pt.BatchRetrieve(index, wmodel=\"BM25\")\n",
    "            rm3 = pt.rewrite.RM3(index, fb_terms=10, fb_docs=3)\n",
    "            pipe_qe = bm25_for_qe >> rm3 >> bm25_for_qe\n",
    "            \n",
    "            param_map = {\n",
    "                rm3 : {\n",
    "                    \"fb_terms\" : list(range(4, 16, 2)),\n",
    "                    \"fb_docs\" : list(range(4, 10, 2)),\n",
    "                    \"fb_lambda\": [0.2,0.4,0.6,0.8,1.0]\n",
    "                }\n",
    "            }\n",
    "            \n",
    "            pipe_qe, parameters = pt.KFoldGridSearch(\n",
    "                pipe_qe,\n",
    "                param_map,\n",
    "                [topics20, topics21],\n",
    "                [qrels20, qrels21],\n",
    "                objective\n",
    "            )\n",
    "            print(pt.Experiment([pipe_qe, bm25_for_qe], topics, qrels, names=[folders[i] + '_tuned_bm_rm3', folders[i] + '_orignal_bm_rm3'],\n",
    "                eval_metrics=[\"ndcg_cut_5\", \"ndcg_cut_25\", \"bpref\"]).to_latex())\n",
    "            \n",
    "            print(pt.Experiment([pipe_qe, bm25_for_qe], topics20, qrels, names=['20' + folders[i] + 'tuned_bm_rm3', '20' + folders[i] + '_bm_rm3'], \n",
    "                eval_metrics=[\"ndcg_cut_5\", \"ndcg_cut_25\", \"bpref\"]).to_latex())\n",
    "            \n",
    "            print(pt.Experiment([pipe_qe, bm25_for_qe], topics21, qrels, names=['21' + folders[i] + 'tuned_bm_rm3', '21'+ folders[i] + '_bm_rm3'], \n",
    "                eval_metrics=[\"ndcg_cut_5\", \"ndcg_cut_25\", \"bpref\"]).to_latex())\n",
    "            pipe_qe.to_csv(path_or_buf=f\"/workspace/src/grid_search_right_qrels/final_right/run/{folders[i]}_tuned_bm_rm3.csv\")\n",
    "#             pipe_qe.to_csv(path_or_buf=f\"/workspace/src/runs_bm25_rm3/{folders[i]}_tuned_bm_rm3.csv\")\n",
    "            i+=1"
   ]
  }
 ],
 "metadata": {
  "kernelspec": {
   "display_name": "Python 3 (ipykernel)",
   "language": "python",
   "name": "python3"
  },
  "language_info": {
   "codemirror_mode": {
    "name": "ipython",
    "version": 3
   },
   "file_extension": ".py",
   "mimetype": "text/x-python",
   "name": "python",
   "nbconvert_exporter": "python",
   "pygments_lexer": "ipython3",
   "version": "3.9.10"
  }
 },
 "nbformat": 4,
 "nbformat_minor": 5
}
