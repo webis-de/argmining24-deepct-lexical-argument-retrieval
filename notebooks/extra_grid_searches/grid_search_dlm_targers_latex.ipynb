{
 "cells": [
  {
   "cell_type": "code",
   "execution_count": 2,
   "id": "a0a4fac2",
   "metadata": {},
   "outputs": [],
   "source": [
    "import pandas as pd\n",
    "import numpy as np\n",
    "# import pyterrier_deepct\n",
    "import pyterrier as pt\n",
    "if not pt.started():\n",
    "  pt.init(boot_packages=[\"com.github.terrierteam:terrier-prf:-SNAPSHOT\"])\n",
    "\n",
    "from xml.etree import ElementTree\n",
    "tree = ElementTree.parse('/workspace/src/evaluate_targers/topics2020.xml')\n",
    "data = tree.getroot()\n",
    "titles20 = []\n",
    "titles21 = []\n",
    "title_ids20 = []\n",
    "title_ids21 = []\n",
    "nums20 = []\n",
    "nums21 = []\n",
    "for topic in data:\n",
    "    titles20.append(topic.find('title').text.lower()[:-1])\n",
    "    num20 = topic.find('number').text\n",
    "    nums20.append(num20)\n",
    "tree = ElementTree.parse('/workspace/src/evaluate_targers/topics.xml')\n",
    "data = tree.getroot()    \n",
    "for topic in data:\n",
    "    titles21.append(topic.find('title').text.lower()[:-1])\n",
    "    num21 = topic.find('number').text\n",
    "    nums21.append(num21)\n",
    "topics = pd.DataFrame()\n",
    "topics['qid'] = nums20 + nums21\n",
    "topics['query'] = titles20 + titles21\n",
    "\n",
    "topics21 = pd.DataFrame()\n",
    "topics21['qid'] = nums21\n",
    "topics21['query'] = titles21\n",
    "\n",
    "topics20 = pd.DataFrame()\n",
    "topics20['qid'] = nums20\n",
    "topics20['query'] = titles20\n",
    "\n",
    "qrels_path=(\"/workspace/src/evaluate_targers/all_qrels.qrels\")\n",
    "qrels = pt.io.read_qrels(qrels_path)\n",
    "\n",
    "qrels21_path=(\"/workspace/src/evaluate_targers/qrels2021.qrels\")\n",
    "qrels21 = pt.io.read_qrels(qrels21_path)\n",
    "\n",
    "qrels20_path=(\"/workspace/src/evaluate_targers/qrels2020.qrels\")\n",
    "qrels20 = pt.io.read_qrels(qrels20_path)\n",
    "\n",
    "docnos = qrels.docno\n",
    "docnos21 = qrels21.docno\n",
    "docnos20 = qrels20.docno"
   ]
  },
  {
   "cell_type": "code",
   "execution_count": 3,
   "id": "24180411",
   "metadata": {
    "scrolled": true
   },
   "outputs": [
    {
     "name": "stdout",
     "output_type": "stream",
     "text": [
      "/mnt/ceph/storage/data-in-progress/data-teaching/theses/wstud-thesis-hollatz/targer_indexes/pd_index_webd-dependency-100/data.properties\n",
      "Fold 1\n",
      "Best ndcg_cut_5 is 0.387056\n",
      "Best setting is ['BR(DirichletLM) dirichletlm.mu=750']\n",
      "Fold 2\n",
      "Best ndcg_cut_5 is 0.344717\n",
      "Best setting is ['BR(DirichletLM) dirichletlm.mu=1750']\n"
     ]
    },
    {
     "name": "stderr",
     "output_type": "stream",
     "text": [
      "/tmp/ipykernel_3689045/2604357178.py:29: FutureWarning: In future versions `DataFrame.to_latex` is expected to utilise the base implementation of `Styler.to_latex` for formatting and rendering. The arguments signature may therefore change. It is recommended instead to use `DataFrame.style.to_latex` which also contains additional functionality.\n",
      "  print(pt.Experiment([tuned_dlm], topics, qrels, names=[folders[i] + '_tuned_dlm_'], eval_metrics=[\"ndcg_cut_5\", \"ndcg_cut_25\", \"bpref\"]).to_latex())\n"
     ]
    },
    {
     "name": "stdout",
     "output_type": "stream",
     "text": [
      "\\begin{tabular}{llrrr}\n",
      "\\toprule\n",
      "{} &                        name &  ndcg\\_cut\\_5 &  ndcg\\_cut\\_25 &     bpref \\\\\n",
      "\\midrule\n",
      "0 &  webd-dependency\\_tuned\\_dlm\\_ &    0.349104 &     0.259055 &  0.411606 \\\\\n",
      "\\bottomrule\n",
      "\\end{tabular}\n",
      "\n"
     ]
    },
    {
     "name": "stderr",
     "output_type": "stream",
     "text": [
      "/tmp/ipykernel_3689045/2604357178.py:30: FutureWarning: In future versions `DataFrame.to_latex` is expected to utilise the base implementation of `Styler.to_latex` for formatting and rendering. The arguments signature may therefore change. It is recommended instead to use `DataFrame.style.to_latex` which also contains additional functionality.\n",
      "  print(pt.Experiment([tuned_dlm], topics20, qrels, names=[folders[i] + '_tuned_dlm_20'], eval_metrics=[\"ndcg_cut_5\", \"ndcg_cut_25\", \"bpref\"]).to_latex())\n"
     ]
    },
    {
     "name": "stdout",
     "output_type": "stream",
     "text": [
      "\\begin{tabular}{llrrr}\n",
      "\\toprule\n",
      "{} &                          name &  ndcg\\_cut\\_5 &  ndcg\\_cut\\_25 &    bpref \\\\\n",
      "\\midrule\n",
      "0 &  webd-dependency\\_tuned\\_dlm\\_20 &    0.343726 &     0.262526 &  0.46289 \\\\\n",
      "\\bottomrule\n",
      "\\end{tabular}\n",
      "\n"
     ]
    },
    {
     "name": "stderr",
     "output_type": "stream",
     "text": [
      "/tmp/ipykernel_3689045/2604357178.py:31: FutureWarning: In future versions `DataFrame.to_latex` is expected to utilise the base implementation of `Styler.to_latex` for formatting and rendering. The arguments signature may therefore change. It is recommended instead to use `DataFrame.style.to_latex` which also contains additional functionality.\n",
      "  print(pt.Experiment([tuned_dlm], topics21, qrels, names=[folders[i] + '_tuned_dlm_21'], eval_metrics=[\"ndcg_cut_5\", \"ndcg_cut_25\", \"bpref\"]).to_latex())\n",
      "/tmp/ipykernel_3689045/2604357178.py:33: FutureWarning: In future versions `DataFrame.to_latex` is expected to utilise the base implementation of `Styler.to_latex` for formatting and rendering. The arguments signature may therefore change. It is recommended instead to use `DataFrame.style.to_latex` which also contains additional functionality.\n",
      "  print(pt.Experiment([tuned_dlm[tuned_dlm['docno'].isin(docnos)]], topics, qrels, names=[folders[i] + '_tuned_dlm__unjudged'], eval_metrics=[\"ndcg_cut_5\", \"ndcg_cut_25\", \"bpref\"]).to_latex())\n",
      "/tmp/ipykernel_3689045/2604357178.py:34: FutureWarning: In future versions `DataFrame.to_latex` is expected to utilise the base implementation of `Styler.to_latex` for formatting and rendering. The arguments signature may therefore change. It is recommended instead to use `DataFrame.style.to_latex` which also contains additional functionality.\n",
      "  print(pt.Experiment([tuned_dlm[tuned_dlm['docno'].isin(docnos20)]], topics20, qrels, names=[folders[i] + '_tuned_dlm__unjudged20'], eval_metrics=[\"ndcg_cut_5\", \"ndcg_cut_25\", \"bpref\"]).to_latex())\n"
     ]
    },
    {
     "name": "stdout",
     "output_type": "stream",
     "text": [
      "\\begin{tabular}{llrrr}\n",
      "\\toprule\n",
      "{} &                          name &  ndcg\\_cut\\_5 &  ndcg\\_cut\\_25 &     bpref \\\\\n",
      "\\midrule\n",
      "0 &  webd-dependency\\_tuned\\_dlm\\_21 &    0.354374 &     0.255653 &  0.361348 \\\\\n",
      "\\bottomrule\n",
      "\\end{tabular}\n",
      "\n",
      "\\begin{tabular}{llrrr}\n",
      "\\toprule\n",
      "{} &                                 name &  ndcg\\_cut\\_5 &  ndcg\\_cut\\_25 &     bpref \\\\\n",
      "\\midrule\n",
      "0 &  webd-dependency\\_tuned\\_dlm\\_\\_unjudged &    0.575754 &     0.476432 &  0.411606 \\\\\n",
      "\\bottomrule\n",
      "\\end{tabular}\n",
      "\n",
      "\\begin{tabular}{llrrr}\n",
      "\\toprule\n",
      "{} &                                   name &  ndcg\\_cut\\_5 &  ndcg\\_cut\\_25 &    bpref \\\\\n",
      "\\midrule\n",
      "0 &  webd-dependency\\_tuned\\_dlm\\_\\_unjudged20 &    0.691496 &     0.552893 &  0.46289 \\\\\n",
      "\\bottomrule\n",
      "\\end{tabular}\n",
      "\n"
     ]
    },
    {
     "name": "stderr",
     "output_type": "stream",
     "text": [
      "/tmp/ipykernel_3689045/2604357178.py:35: FutureWarning: In future versions `DataFrame.to_latex` is expected to utilise the base implementation of `Styler.to_latex` for formatting and rendering. The arguments signature may therefore change. It is recommended instead to use `DataFrame.style.to_latex` which also contains additional functionality.\n",
      "  print(pt.Experiment([tuned_dlm[tuned_dlm['docno'].isin(docnos21)]], topics21, qrels, names=[folders[i] + '_tuned_dlm__unjudged21'], eval_metrics=[\"ndcg_cut_5\", \"ndcg_cut_25\", \"bpref\"]).to_latex())\n"
     ]
    },
    {
     "name": "stdout",
     "output_type": "stream",
     "text": [
      "\\begin{tabular}{llrrr}\n",
      "\\toprule\n",
      "{} &                                   name &  ndcg\\_cut\\_5 &  ndcg\\_cut\\_25 &     bpref \\\\\n",
      "\\midrule\n",
      "0 &  webd-dependency\\_tuned\\_dlm\\_\\_unjudged21 &    0.537063 &     0.482002 &  0.361348 \\\\\n",
      "\\bottomrule\n",
      "\\end{tabular}\n",
      "\n",
      "/mnt/ceph/storage/data-in-progress/data-teaching/theses/wstud-thesis-hollatz/targer_indexes/pd_index_combined-fasttext-100/data.properties\n",
      "Fold 1\n",
      "Best ndcg_cut_5 is 0.645211\n",
      "Best setting is ['BR(DirichletLM) dirichletlm.mu=3000']\n",
      "Fold 2\n",
      "Best ndcg_cut_5 is 0.476885\n",
      "Best setting is ['BR(DirichletLM) dirichletlm.mu=1000']\n"
     ]
    },
    {
     "name": "stderr",
     "output_type": "stream",
     "text": [
      "/tmp/ipykernel_3689045/2604357178.py:29: FutureWarning: In future versions `DataFrame.to_latex` is expected to utilise the base implementation of `Styler.to_latex` for formatting and rendering. The arguments signature may therefore change. It is recommended instead to use `DataFrame.style.to_latex` which also contains additional functionality.\n",
      "  print(pt.Experiment([tuned_dlm], topics, qrels, names=[folders[i] + '_tuned_dlm_'], eval_metrics=[\"ndcg_cut_5\", \"ndcg_cut_25\", \"bpref\"]).to_latex())\n"
     ]
    },
    {
     "name": "stdout",
     "output_type": "stream",
     "text": [
      "\\begin{tabular}{llrrr}\n",
      "\\toprule\n",
      "{} &                          name &  ndcg\\_cut\\_5 &  ndcg\\_cut\\_25 &     bpref \\\\\n",
      "\\midrule\n",
      "0 &  combined-fasttext\\_tuned\\_dlm\\_ &    0.535142 &     0.423843 &  0.576016 \\\\\n",
      "\\bottomrule\n",
      "\\end{tabular}\n",
      "\n"
     ]
    },
    {
     "name": "stderr",
     "output_type": "stream",
     "text": [
      "/tmp/ipykernel_3689045/2604357178.py:30: FutureWarning: In future versions `DataFrame.to_latex` is expected to utilise the base implementation of `Styler.to_latex` for formatting and rendering. The arguments signature may therefore change. It is recommended instead to use `DataFrame.style.to_latex` which also contains additional functionality.\n",
      "  print(pt.Experiment([tuned_dlm], topics20, qrels, names=[folders[i] + '_tuned_dlm_20'], eval_metrics=[\"ndcg_cut_5\", \"ndcg_cut_25\", \"bpref\"]).to_latex())\n"
     ]
    },
    {
     "name": "stdout",
     "output_type": "stream",
     "text": [
      "\\begin{tabular}{llrrr}\n",
      "\\toprule\n",
      "{} &                            name &  ndcg\\_cut\\_5 &  ndcg\\_cut\\_25 &     bpref \\\\\n",
      "\\midrule\n",
      "0 &  combined-fasttext\\_tuned\\_dlm\\_20 &    0.433643 &     0.339384 &  0.556299 \\\\\n",
      "\\bottomrule\n",
      "\\end{tabular}\n",
      "\n"
     ]
    },
    {
     "name": "stderr",
     "output_type": "stream",
     "text": [
      "/tmp/ipykernel_3689045/2604357178.py:31: FutureWarning: In future versions `DataFrame.to_latex` is expected to utilise the base implementation of `Styler.to_latex` for formatting and rendering. The arguments signature may therefore change. It is recommended instead to use `DataFrame.style.to_latex` which also contains additional functionality.\n",
      "  print(pt.Experiment([tuned_dlm], topics21, qrels, names=[folders[i] + '_tuned_dlm_21'], eval_metrics=[\"ndcg_cut_5\", \"ndcg_cut_25\", \"bpref\"]).to_latex())\n",
      "/tmp/ipykernel_3689045/2604357178.py:33: FutureWarning: In future versions `DataFrame.to_latex` is expected to utilise the base implementation of `Styler.to_latex` for formatting and rendering. The arguments signature may therefore change. It is recommended instead to use `DataFrame.style.to_latex` which also contains additional functionality.\n",
      "  print(pt.Experiment([tuned_dlm[tuned_dlm['docno'].isin(docnos)]], topics, qrels, names=[folders[i] + '_tuned_dlm__unjudged'], eval_metrics=[\"ndcg_cut_5\", \"ndcg_cut_25\", \"bpref\"]).to_latex())\n"
     ]
    },
    {
     "name": "stdout",
     "output_type": "stream",
     "text": [
      "\\begin{tabular}{llrrr}\n",
      "\\toprule\n",
      "{} &                            name &  ndcg\\_cut\\_5 &  ndcg\\_cut\\_25 &     bpref \\\\\n",
      "\\midrule\n",
      "0 &  combined-fasttext\\_tuned\\_dlm\\_21 &    0.634612 &     0.506614 &  0.595338 \\\\\n",
      "\\bottomrule\n",
      "\\end{tabular}\n",
      "\n",
      "\\begin{tabular}{llrrr}\n",
      "\\toprule\n",
      "{} &                                   name &  ndcg\\_cut\\_5 &  ndcg\\_cut\\_25 &     bpref \\\\\n",
      "\\midrule\n",
      "0 &  combined-fasttext\\_tuned\\_dlm\\_\\_unjudged &    0.689157 &     0.620987 &  0.576016 \\\\\n",
      "\\bottomrule\n",
      "\\end{tabular}\n",
      "\n"
     ]
    },
    {
     "name": "stderr",
     "output_type": "stream",
     "text": [
      "/tmp/ipykernel_3689045/2604357178.py:34: FutureWarning: In future versions `DataFrame.to_latex` is expected to utilise the base implementation of `Styler.to_latex` for formatting and rendering. The arguments signature may therefore change. It is recommended instead to use `DataFrame.style.to_latex` which also contains additional functionality.\n",
      "  print(pt.Experiment([tuned_dlm[tuned_dlm['docno'].isin(docnos20)]], topics20, qrels, names=[folders[i] + '_tuned_dlm__unjudged20'], eval_metrics=[\"ndcg_cut_5\", \"ndcg_cut_25\", \"bpref\"]).to_latex())\n",
      "/tmp/ipykernel_3689045/2604357178.py:35: FutureWarning: In future versions `DataFrame.to_latex` is expected to utilise the base implementation of `Styler.to_latex` for formatting and rendering. The arguments signature may therefore change. It is recommended instead to use `DataFrame.style.to_latex` which also contains additional functionality.\n",
      "  print(pt.Experiment([tuned_dlm[tuned_dlm['docno'].isin(docnos21)]], topics21, qrels, names=[folders[i] + '_tuned_dlm__unjudged21'], eval_metrics=[\"ndcg_cut_5\", \"ndcg_cut_25\", \"bpref\"]).to_latex())\n"
     ]
    },
    {
     "name": "stdout",
     "output_type": "stream",
     "text": [
      "\\begin{tabular}{llrrr}\n",
      "\\toprule\n",
      "{} &                                     name &  ndcg\\_cut\\_5 &  ndcg\\_cut\\_25 &     bpref \\\\\n",
      "\\midrule\n",
      "0 &  combined-fasttext\\_tuned\\_dlm\\_\\_unjudged20 &    0.752615 &     0.647633 &  0.556299 \\\\\n",
      "\\bottomrule\n",
      "\\end{tabular}\n",
      "\n",
      "\\begin{tabular}{llrrr}\n",
      "\\toprule\n",
      "{} &                                     name &  ndcg\\_cut\\_5 &  ndcg\\_cut\\_25 &     bpref \\\\\n",
      "\\midrule\n",
      "0 &  combined-fasttext\\_tuned\\_dlm\\_\\_unjudged21 &     0.66415 &     0.651491 &  0.595338 \\\\\n",
      "\\bottomrule\n",
      "\\end{tabular}\n",
      "\n",
      "/mnt/ceph/storage/data-in-progress/data-teaching/theses/wstud-thesis-hollatz/targer_indexes/pd_index_essays-dependency-100/data.properties\n",
      "Fold 1\n",
      "Best ndcg_cut_5 is 0.606420\n",
      "Best setting is ['BR(DirichletLM) dirichletlm.mu=500']\n",
      "Fold 2\n",
      "Best ndcg_cut_5 is 0.437565\n",
      "Best setting is ['BR(DirichletLM) dirichletlm.mu=750']\n"
     ]
    },
    {
     "name": "stderr",
     "output_type": "stream",
     "text": [
      "/tmp/ipykernel_3689045/2604357178.py:29: FutureWarning: In future versions `DataFrame.to_latex` is expected to utilise the base implementation of `Styler.to_latex` for formatting and rendering. The arguments signature may therefore change. It is recommended instead to use `DataFrame.style.to_latex` which also contains additional functionality.\n",
      "  print(pt.Experiment([tuned_dlm], topics, qrels, names=[folders[i] + '_tuned_dlm_'], eval_metrics=[\"ndcg_cut_5\", \"ndcg_cut_25\", \"bpref\"]).to_latex())\n"
     ]
    },
    {
     "name": "stdout",
     "output_type": "stream",
     "text": [
      "\\begin{tabular}{llrrr}\n",
      "\\toprule\n",
      "{} &                          name &  ndcg\\_cut\\_5 &  ndcg\\_cut\\_25 &     bpref \\\\\n",
      "\\midrule\n",
      "0 &  essays-dependency\\_tuned\\_dlm\\_ &    0.517494 &     0.400124 &  0.567075 \\\\\n",
      "\\bottomrule\n",
      "\\end{tabular}\n",
      "\n"
     ]
    },
    {
     "name": "stderr",
     "output_type": "stream",
     "text": [
      "/tmp/ipykernel_3689045/2604357178.py:30: FutureWarning: In future versions `DataFrame.to_latex` is expected to utilise the base implementation of `Styler.to_latex` for formatting and rendering. The arguments signature may therefore change. It is recommended instead to use `DataFrame.style.to_latex` which also contains additional functionality.\n",
      "  print(pt.Experiment([tuned_dlm], topics20, qrels, names=[folders[i] + '_tuned_dlm_20'], eval_metrics=[\"ndcg_cut_5\", \"ndcg_cut_25\", \"bpref\"]).to_latex())\n"
     ]
    },
    {
     "name": "stdout",
     "output_type": "stream",
     "text": [
      "\\begin{tabular}{llrrr}\n",
      "\\toprule\n",
      "{} &                            name &  ndcg\\_cut\\_5 &  ndcg\\_cut\\_25 &    bpref \\\\\n",
      "\\midrule\n",
      "0 &  essays-dependency\\_tuned\\_dlm\\_20 &    0.428628 &     0.328651 &  0.55378 \\\\\n",
      "\\bottomrule\n",
      "\\end{tabular}\n",
      "\n"
     ]
    },
    {
     "name": "stderr",
     "output_type": "stream",
     "text": [
      "/tmp/ipykernel_3689045/2604357178.py:31: FutureWarning: In future versions `DataFrame.to_latex` is expected to utilise the base implementation of `Styler.to_latex` for formatting and rendering. The arguments signature may therefore change. It is recommended instead to use `DataFrame.style.to_latex` which also contains additional functionality.\n",
      "  print(pt.Experiment([tuned_dlm], topics21, qrels, names=[folders[i] + '_tuned_dlm_21'], eval_metrics=[\"ndcg_cut_5\", \"ndcg_cut_25\", \"bpref\"]).to_latex())\n",
      "/tmp/ipykernel_3689045/2604357178.py:33: FutureWarning: In future versions `DataFrame.to_latex` is expected to utilise the base implementation of `Styler.to_latex` for formatting and rendering. The arguments signature may therefore change. It is recommended instead to use `DataFrame.style.to_latex` which also contains additional functionality.\n",
      "  print(pt.Experiment([tuned_dlm[tuned_dlm['docno'].isin(docnos)]], topics, qrels, names=[folders[i] + '_tuned_dlm__unjudged'], eval_metrics=[\"ndcg_cut_5\", \"ndcg_cut_25\", \"bpref\"]).to_latex())\n",
      "/tmp/ipykernel_3689045/2604357178.py:34: FutureWarning: In future versions `DataFrame.to_latex` is expected to utilise the base implementation of `Styler.to_latex` for formatting and rendering. The arguments signature may therefore change. It is recommended instead to use `DataFrame.style.to_latex` which also contains additional functionality.\n",
      "  print(pt.Experiment([tuned_dlm[tuned_dlm['docno'].isin(docnos20)]], topics20, qrels, names=[folders[i] + '_tuned_dlm__unjudged20'], eval_metrics=[\"ndcg_cut_5\", \"ndcg_cut_25\", \"bpref\"]).to_latex())\n"
     ]
    },
    {
     "name": "stdout",
     "output_type": "stream",
     "text": [
      "\\begin{tabular}{llrrr}\n",
      "\\toprule\n",
      "{} &                            name &  ndcg\\_cut\\_5 &  ndcg\\_cut\\_25 &     bpref \\\\\n",
      "\\midrule\n",
      "0 &  essays-dependency\\_tuned\\_dlm\\_21 &    0.604584 &     0.470168 &  0.580103 \\\\\n",
      "\\bottomrule\n",
      "\\end{tabular}\n",
      "\n",
      "\\begin{tabular}{llrrr}\n",
      "\\toprule\n",
      "{} &                                   name &  ndcg\\_cut\\_5 &  ndcg\\_cut\\_25 &     bpref \\\\\n",
      "\\midrule\n",
      "0 &  essays-dependency\\_tuned\\_dlm\\_\\_unjudged &    0.687479 &     0.623304 &  0.567075 \\\\\n",
      "\\bottomrule\n",
      "\\end{tabular}\n",
      "\n",
      "\\begin{tabular}{llrrr}\n",
      "\\toprule\n",
      "{} &                                     name &  ndcg\\_cut\\_5 &  ndcg\\_cut\\_25 &    bpref \\\\\n",
      "\\midrule\n",
      "0 &  essays-dependency\\_tuned\\_dlm\\_\\_unjudged20 &    0.768237 &     0.661877 &  0.55378 \\\\\n",
      "\\bottomrule\n",
      "\\end{tabular}\n",
      "\n"
     ]
    },
    {
     "name": "stderr",
     "output_type": "stream",
     "text": [
      "/tmp/ipykernel_3689045/2604357178.py:35: FutureWarning: In future versions `DataFrame.to_latex` is expected to utilise the base implementation of `Styler.to_latex` for formatting and rendering. The arguments signature may therefore change. It is recommended instead to use `DataFrame.style.to_latex` which also contains additional functionality.\n",
      "  print(pt.Experiment([tuned_dlm[tuned_dlm['docno'].isin(docnos21)]], topics21, qrels, names=[folders[i] + '_tuned_dlm__unjudged21'], eval_metrics=[\"ndcg_cut_5\", \"ndcg_cut_25\", \"bpref\"]).to_latex())\n"
     ]
    },
    {
     "name": "stdout",
     "output_type": "stream",
     "text": [
      "\\begin{tabular}{llrrr}\n",
      "\\toprule\n",
      "{} &                                     name &  ndcg\\_cut\\_5 &  ndcg\\_cut\\_25 &     bpref \\\\\n",
      "\\midrule\n",
      "0 &  essays-dependency\\_tuned\\_dlm\\_\\_unjudged21 &    0.656679 &     0.641609 &  0.580103 \\\\\n",
      "\\bottomrule\n",
      "\\end{tabular}\n",
      "\n",
      "/mnt/ceph/storage/data-in-progress/data-teaching/theses/wstud-thesis-hollatz/targer_indexes/pd_index_original-100/data.properties\n",
      "Fold 1\n",
      "Best ndcg_cut_5 is 0.652732\n",
      "Best setting is ['BR(DirichletLM) dirichletlm.mu=3000']\n",
      "Fold 2\n",
      "Best ndcg_cut_5 is 0.513757\n",
      "Best setting is ['BR(DirichletLM) dirichletlm.mu=750']\n"
     ]
    },
    {
     "name": "stderr",
     "output_type": "stream",
     "text": [
      "/tmp/ipykernel_3689045/2604357178.py:29: FutureWarning: In future versions `DataFrame.to_latex` is expected to utilise the base implementation of `Styler.to_latex` for formatting and rendering. The arguments signature may therefore change. It is recommended instead to use `DataFrame.style.to_latex` which also contains additional functionality.\n",
      "  print(pt.Experiment([tuned_dlm], topics, qrels, names=[folders[i] + '_tuned_dlm_'], eval_metrics=[\"ndcg_cut_5\", \"ndcg_cut_25\", \"bpref\"]).to_latex())\n"
     ]
    },
    {
     "name": "stdout",
     "output_type": "stream",
     "text": [
      "\\begin{tabular}{llrrr}\n",
      "\\toprule\n",
      "{} &                 name &  ndcg\\_cut\\_5 &  ndcg\\_cut\\_25 &     bpref \\\\\n",
      "\\midrule\n",
      "0 &  original\\_tuned\\_dlm\\_ &    0.569517 &     0.466434 &  0.594445 \\\\\n",
      "\\bottomrule\n",
      "\\end{tabular}\n",
      "\n"
     ]
    },
    {
     "name": "stderr",
     "output_type": "stream",
     "text": [
      "/tmp/ipykernel_3689045/2604357178.py:30: FutureWarning: In future versions `DataFrame.to_latex` is expected to utilise the base implementation of `Styler.to_latex` for formatting and rendering. The arguments signature may therefore change. It is recommended instead to use `DataFrame.style.to_latex` which also contains additional functionality.\n",
      "  print(pt.Experiment([tuned_dlm], topics20, qrels, names=[folders[i] + '_tuned_dlm_20'], eval_metrics=[\"ndcg_cut_5\", \"ndcg_cut_25\", \"bpref\"]).to_latex())\n"
     ]
    },
    {
     "name": "stdout",
     "output_type": "stream",
     "text": [
      "\\begin{tabular}{llrrr}\n",
      "\\toprule\n",
      "{} &                   name &  ndcg\\_cut\\_5 &  ndcg\\_cut\\_25 &     bpref \\\\\n",
      "\\midrule\n",
      "0 &  original\\_tuned\\_dlm\\_20 &    0.502843 &     0.381891 &  0.573064 \\\\\n",
      "\\bottomrule\n",
      "\\end{tabular}\n",
      "\n"
     ]
    },
    {
     "name": "stderr",
     "output_type": "stream",
     "text": [
      "/tmp/ipykernel_3689045/2604357178.py:31: FutureWarning: In future versions `DataFrame.to_latex` is expected to utilise the base implementation of `Styler.to_latex` for formatting and rendering. The arguments signature may therefore change. It is recommended instead to use `DataFrame.style.to_latex` which also contains additional functionality.\n",
      "  print(pt.Experiment([tuned_dlm], topics21, qrels, names=[folders[i] + '_tuned_dlm_21'], eval_metrics=[\"ndcg_cut_5\", \"ndcg_cut_25\", \"bpref\"]).to_latex())\n",
      "/tmp/ipykernel_3689045/2604357178.py:33: FutureWarning: In future versions `DataFrame.to_latex` is expected to utilise the base implementation of `Styler.to_latex` for formatting and rendering. The arguments signature may therefore change. It is recommended instead to use `DataFrame.style.to_latex` which also contains additional functionality.\n",
      "  print(pt.Experiment([tuned_dlm[tuned_dlm['docno'].isin(docnos)]], topics, qrels, names=[folders[i] + '_tuned_dlm__unjudged'], eval_metrics=[\"ndcg_cut_5\", \"ndcg_cut_25\", \"bpref\"]).to_latex())\n"
     ]
    },
    {
     "name": "stdout",
     "output_type": "stream",
     "text": [
      "\\begin{tabular}{llrrr}\n",
      "\\toprule\n",
      "{} &                   name &  ndcg\\_cut\\_5 &  ndcg\\_cut\\_25 &     bpref \\\\\n",
      "\\midrule\n",
      "0 &  original\\_tuned\\_dlm\\_21 &    0.634858 &     0.549287 &  0.615399 \\\\\n",
      "\\bottomrule\n",
      "\\end{tabular}\n",
      "\n",
      "\\begin{tabular}{llrrr}\n",
      "\\toprule\n",
      "{} &                          name &  ndcg\\_cut\\_5 &  ndcg\\_cut\\_25 &     bpref \\\\\n",
      "\\midrule\n",
      "0 &  original\\_tuned\\_dlm\\_\\_unjudged &    0.697009 &      0.64147 &  0.594445 \\\\\n",
      "\\bottomrule\n",
      "\\end{tabular}\n",
      "\n"
     ]
    },
    {
     "name": "stderr",
     "output_type": "stream",
     "text": [
      "/tmp/ipykernel_3689045/2604357178.py:34: FutureWarning: In future versions `DataFrame.to_latex` is expected to utilise the base implementation of `Styler.to_latex` for formatting and rendering. The arguments signature may therefore change. It is recommended instead to use `DataFrame.style.to_latex` which also contains additional functionality.\n",
      "  print(pt.Experiment([tuned_dlm[tuned_dlm['docno'].isin(docnos20)]], topics20, qrels, names=[folders[i] + '_tuned_dlm__unjudged20'], eval_metrics=[\"ndcg_cut_5\", \"ndcg_cut_25\", \"bpref\"]).to_latex())\n",
      "/tmp/ipykernel_3689045/2604357178.py:35: FutureWarning: In future versions `DataFrame.to_latex` is expected to utilise the base implementation of `Styler.to_latex` for formatting and rendering. The arguments signature may therefore change. It is recommended instead to use `DataFrame.style.to_latex` which also contains additional functionality.\n",
      "  print(pt.Experiment([tuned_dlm[tuned_dlm['docno'].isin(docnos21)]], topics21, qrels, names=[folders[i] + '_tuned_dlm__unjudged21'], eval_metrics=[\"ndcg_cut_5\", \"ndcg_cut_25\", \"bpref\"]).to_latex())\n"
     ]
    },
    {
     "name": "stdout",
     "output_type": "stream",
     "text": [
      "\\begin{tabular}{llrrr}\n",
      "\\toprule\n",
      "{} &                            name &  ndcg\\_cut\\_5 &  ndcg\\_cut\\_25 &     bpref \\\\\n",
      "\\midrule\n",
      "0 &  original\\_tuned\\_dlm\\_\\_unjudged20 &    0.766289 &     0.679857 &  0.573064 \\\\\n",
      "\\bottomrule\n",
      "\\end{tabular}\n",
      "\n",
      "\\begin{tabular}{llrrr}\n",
      "\\toprule\n",
      "{} &                            name &  ndcg\\_cut\\_5 &  ndcg\\_cut\\_25 &     bpref \\\\\n",
      "\\midrule\n",
      "0 &  original\\_tuned\\_dlm\\_\\_unjudged21 &     0.66512 &     0.660926 &  0.615399 \\\\\n",
      "\\bottomrule\n",
      "\\end{tabular}\n",
      "\n",
      "/mnt/ceph/storage/data-in-progress/data-teaching/theses/wstud-thesis-hollatz/targer_indexes/pd_index_essays-fasttext-100/data.properties\n",
      "Fold 1\n",
      "Best ndcg_cut_5 is 0.618379\n",
      "Best setting is ['BR(DirichletLM) dirichletlm.mu=250']\n",
      "Fold 2\n",
      "Best ndcg_cut_5 is 0.464985\n",
      "Best setting is ['BR(DirichletLM) dirichletlm.mu=1000']\n"
     ]
    },
    {
     "name": "stderr",
     "output_type": "stream",
     "text": [
      "/tmp/ipykernel_3689045/2604357178.py:29: FutureWarning: In future versions `DataFrame.to_latex` is expected to utilise the base implementation of `Styler.to_latex` for formatting and rendering. The arguments signature may therefore change. It is recommended instead to use `DataFrame.style.to_latex` which also contains additional functionality.\n",
      "  print(pt.Experiment([tuned_dlm], topics, qrels, names=[folders[i] + '_tuned_dlm_'], eval_metrics=[\"ndcg_cut_5\", \"ndcg_cut_25\", \"bpref\"]).to_latex())\n"
     ]
    },
    {
     "name": "stdout",
     "output_type": "stream",
     "text": [
      "\\begin{tabular}{llrrr}\n",
      "\\toprule\n",
      "{} &                        name &  ndcg\\_cut\\_5 &  ndcg\\_cut\\_25 &     bpref \\\\\n",
      "\\midrule\n",
      "0 &  essays-fasttext\\_tuned\\_dlm\\_ &    0.520828 &     0.420716 &  0.588385 \\\\\n",
      "\\bottomrule\n",
      "\\end{tabular}\n",
      "\n"
     ]
    },
    {
     "name": "stderr",
     "output_type": "stream",
     "text": [
      "/tmp/ipykernel_3689045/2604357178.py:30: FutureWarning: In future versions `DataFrame.to_latex` is expected to utilise the base implementation of `Styler.to_latex` for formatting and rendering. The arguments signature may therefore change. It is recommended instead to use `DataFrame.style.to_latex` which also contains additional functionality.\n",
      "  print(pt.Experiment([tuned_dlm], topics20, qrels, names=[folders[i] + '_tuned_dlm_20'], eval_metrics=[\"ndcg_cut_5\", \"ndcg_cut_25\", \"bpref\"]).to_latex())\n"
     ]
    },
    {
     "name": "stdout",
     "output_type": "stream",
     "text": [
      "\\begin{tabular}{llrrr}\n",
      "\\toprule\n",
      "{} &                          name &  ndcg\\_cut\\_5 &  ndcg\\_cut\\_25 &     bpref \\\\\n",
      "\\midrule\n",
      "0 &  essays-fasttext\\_tuned\\_dlm\\_20 &    0.440047 &     0.355949 &  0.586776 \\\\\n",
      "\\bottomrule\n",
      "\\end{tabular}\n",
      "\n"
     ]
    },
    {
     "name": "stderr",
     "output_type": "stream",
     "text": [
      "/tmp/ipykernel_3689045/2604357178.py:31: FutureWarning: In future versions `DataFrame.to_latex` is expected to utilise the base implementation of `Styler.to_latex` for formatting and rendering. The arguments signature may therefore change. It is recommended instead to use `DataFrame.style.to_latex` which also contains additional functionality.\n",
      "  print(pt.Experiment([tuned_dlm], topics21, qrels, names=[folders[i] + '_tuned_dlm_21'], eval_metrics=[\"ndcg_cut_5\", \"ndcg_cut_25\", \"bpref\"]).to_latex())\n",
      "/tmp/ipykernel_3689045/2604357178.py:33: FutureWarning: In future versions `DataFrame.to_latex` is expected to utilise the base implementation of `Styler.to_latex` for formatting and rendering. The arguments signature may therefore change. It is recommended instead to use `DataFrame.style.to_latex` which also contains additional functionality.\n",
      "  print(pt.Experiment([tuned_dlm[tuned_dlm['docno'].isin(docnos)]], topics, qrels, names=[folders[i] + '_tuned_dlm__unjudged'], eval_metrics=[\"ndcg_cut_5\", \"ndcg_cut_25\", \"bpref\"]).to_latex())\n",
      "/tmp/ipykernel_3689045/2604357178.py:34: FutureWarning: In future versions `DataFrame.to_latex` is expected to utilise the base implementation of `Styler.to_latex` for formatting and rendering. The arguments signature may therefore change. It is recommended instead to use `DataFrame.style.to_latex` which also contains additional functionality.\n",
      "  print(pt.Experiment([tuned_dlm[tuned_dlm['docno'].isin(docnos20)]], topics20, qrels, names=[folders[i] + '_tuned_dlm__unjudged20'], eval_metrics=[\"ndcg_cut_5\", \"ndcg_cut_25\", \"bpref\"]).to_latex())\n",
      "/tmp/ipykernel_3689045/2604357178.py:35: FutureWarning: In future versions `DataFrame.to_latex` is expected to utilise the base implementation of `Styler.to_latex` for formatting and rendering. The arguments signature may therefore change. It is recommended instead to use `DataFrame.style.to_latex` which also contains additional functionality.\n",
      "  print(pt.Experiment([tuned_dlm[tuned_dlm['docno'].isin(docnos21)]], topics21, qrels, names=[folders[i] + '_tuned_dlm__unjudged21'], eval_metrics=[\"ndcg_cut_5\", \"ndcg_cut_25\", \"bpref\"]).to_latex())\n"
     ]
    },
    {
     "name": "stdout",
     "output_type": "stream",
     "text": [
      "\\begin{tabular}{llrrr}\n",
      "\\toprule\n",
      "{} &                          name &  ndcg\\_cut\\_5 &  ndcg\\_cut\\_25 &     bpref \\\\\n",
      "\\midrule\n",
      "0 &  essays-fasttext\\_tuned\\_dlm\\_21 &    0.599993 &     0.484187 &  0.589962 \\\\\n",
      "\\bottomrule\n",
      "\\end{tabular}\n",
      "\n",
      "\\begin{tabular}{llrrr}\n",
      "\\toprule\n",
      "{} &                                 name &  ndcg\\_cut\\_5 &  ndcg\\_cut\\_25 &     bpref \\\\\n",
      "\\midrule\n",
      "0 &  essays-fasttext\\_tuned\\_dlm\\_\\_unjudged &    0.688485 &     0.641658 &  0.588385 \\\\\n",
      "\\bottomrule\n",
      "\\end{tabular}\n",
      "\n",
      "\\begin{tabular}{llrrr}\n",
      "\\toprule\n",
      "{} &                                   name &  ndcg\\_cut\\_5 &  ndcg\\_cut\\_25 &     bpref \\\\\n",
      "\\midrule\n",
      "0 &  essays-fasttext\\_tuned\\_dlm\\_\\_unjudged20 &    0.782964 &     0.693276 &  0.586776 \\\\\n",
      "\\bottomrule\n",
      "\\end{tabular}\n",
      "\n",
      "\\begin{tabular}{llrrr}\n",
      "\\toprule\n",
      "{} &                                   name &  ndcg\\_cut\\_5 &  ndcg\\_cut\\_25 &     bpref \\\\\n",
      "\\midrule\n",
      "0 &  essays-fasttext\\_tuned\\_dlm\\_\\_unjudged21 &    0.638793 &     0.646449 &  0.589962 \\\\\n",
      "\\bottomrule\n",
      "\\end{tabular}\n",
      "\n",
      "/mnt/ceph/storage/data-in-progress/data-teaching/theses/wstud-thesis-hollatz/targer_indexes/pd_index_ibm-fasttext-100/data.properties\n",
      "Fold 1\n",
      "Best ndcg_cut_5 is 0.653425\n",
      "Best setting is ['BR(DirichletLM) dirichletlm.mu=3250']\n",
      "Fold 2\n",
      "Best ndcg_cut_5 is 0.513009\n",
      "Best setting is ['BR(DirichletLM) dirichletlm.mu=1250']\n"
     ]
    },
    {
     "name": "stderr",
     "output_type": "stream",
     "text": [
      "/tmp/ipykernel_3689045/2604357178.py:29: FutureWarning: In future versions `DataFrame.to_latex` is expected to utilise the base implementation of `Styler.to_latex` for formatting and rendering. The arguments signature may therefore change. It is recommended instead to use `DataFrame.style.to_latex` which also contains additional functionality.\n",
      "  print(pt.Experiment([tuned_dlm], topics, qrels, names=[folders[i] + '_tuned_dlm_'], eval_metrics=[\"ndcg_cut_5\", \"ndcg_cut_25\", \"bpref\"]).to_latex())\n"
     ]
    },
    {
     "name": "stdout",
     "output_type": "stream",
     "text": [
      "\\begin{tabular}{llrrr}\n",
      "\\toprule\n",
      "{} &                     name &  ndcg\\_cut\\_5 &  ndcg\\_cut\\_25 &     bpref \\\\\n",
      "\\midrule\n",
      "0 &  ibm-fasttext\\_tuned\\_dlm\\_ &    0.572663 &     0.462116 &  0.589899 \\\\\n",
      "\\bottomrule\n",
      "\\end{tabular}\n",
      "\n"
     ]
    },
    {
     "name": "stderr",
     "output_type": "stream",
     "text": [
      "/tmp/ipykernel_3689045/2604357178.py:30: FutureWarning: In future versions `DataFrame.to_latex` is expected to utilise the base implementation of `Styler.to_latex` for formatting and rendering. The arguments signature may therefore change. It is recommended instead to use `DataFrame.style.to_latex` which also contains additional functionality.\n",
      "  print(pt.Experiment([tuned_dlm], topics20, qrels, names=[folders[i] + '_tuned_dlm_20'], eval_metrics=[\"ndcg_cut_5\", \"ndcg_cut_25\", \"bpref\"]).to_latex())\n"
     ]
    },
    {
     "name": "stdout",
     "output_type": "stream",
     "text": [
      "\\begin{tabular}{llrrr}\n",
      "\\toprule\n",
      "{} &                       name &  ndcg\\_cut\\_5 &  ndcg\\_cut\\_25 &     bpref \\\\\n",
      "\\midrule\n",
      "0 &  ibm-fasttext\\_tuned\\_dlm\\_20 &    0.500273 &     0.380321 &  0.571547 \\\\\n",
      "\\bottomrule\n",
      "\\end{tabular}\n",
      "\n"
     ]
    },
    {
     "name": "stderr",
     "output_type": "stream",
     "text": [
      "/tmp/ipykernel_3689045/2604357178.py:31: FutureWarning: In future versions `DataFrame.to_latex` is expected to utilise the base implementation of `Styler.to_latex` for formatting and rendering. The arguments signature may therefore change. It is recommended instead to use `DataFrame.style.to_latex` which also contains additional functionality.\n",
      "  print(pt.Experiment([tuned_dlm], topics21, qrels, names=[folders[i] + '_tuned_dlm_21'], eval_metrics=[\"ndcg_cut_5\", \"ndcg_cut_25\", \"bpref\"]).to_latex())\n"
     ]
    },
    {
     "name": "stdout",
     "output_type": "stream",
     "text": [
      "\\begin{tabular}{llrrr}\n",
      "\\toprule\n",
      "{} &                       name &  ndcg\\_cut\\_5 &  ndcg\\_cut\\_25 &     bpref \\\\\n",
      "\\midrule\n",
      "0 &  ibm-fasttext\\_tuned\\_dlm\\_21 &    0.643606 &     0.542275 &  0.607884 \\\\\n",
      "\\bottomrule\n",
      "\\end{tabular}\n",
      "\n"
     ]
    },
    {
     "name": "stderr",
     "output_type": "stream",
     "text": [
      "/tmp/ipykernel_3689045/2604357178.py:33: FutureWarning: In future versions `DataFrame.to_latex` is expected to utilise the base implementation of `Styler.to_latex` for formatting and rendering. The arguments signature may therefore change. It is recommended instead to use `DataFrame.style.to_latex` which also contains additional functionality.\n",
      "  print(pt.Experiment([tuned_dlm[tuned_dlm['docno'].isin(docnos)]], topics, qrels, names=[folders[i] + '_tuned_dlm__unjudged'], eval_metrics=[\"ndcg_cut_5\", \"ndcg_cut_25\", \"bpref\"]).to_latex())\n",
      "/tmp/ipykernel_3689045/2604357178.py:34: FutureWarning: In future versions `DataFrame.to_latex` is expected to utilise the base implementation of `Styler.to_latex` for formatting and rendering. The arguments signature may therefore change. It is recommended instead to use `DataFrame.style.to_latex` which also contains additional functionality.\n",
      "  print(pt.Experiment([tuned_dlm[tuned_dlm['docno'].isin(docnos20)]], topics20, qrels, names=[folders[i] + '_tuned_dlm__unjudged20'], eval_metrics=[\"ndcg_cut_5\", \"ndcg_cut_25\", \"bpref\"]).to_latex())\n",
      "/tmp/ipykernel_3689045/2604357178.py:35: FutureWarning: In future versions `DataFrame.to_latex` is expected to utilise the base implementation of `Styler.to_latex` for formatting and rendering. The arguments signature may therefore change. It is recommended instead to use `DataFrame.style.to_latex` which also contains additional functionality.\n",
      "  print(pt.Experiment([tuned_dlm[tuned_dlm['docno'].isin(docnos21)]], topics21, qrels, names=[folders[i] + '_tuned_dlm__unjudged21'], eval_metrics=[\"ndcg_cut_5\", \"ndcg_cut_25\", \"bpref\"]).to_latex())\n"
     ]
    },
    {
     "name": "stdout",
     "output_type": "stream",
     "text": [
      "\\begin{tabular}{llrrr}\n",
      "\\toprule\n",
      "{} &                              name &  ndcg\\_cut\\_5 &  ndcg\\_cut\\_25 &     bpref \\\\\n",
      "\\midrule\n",
      "0 &  ibm-fasttext\\_tuned\\_dlm\\_\\_unjudged &    0.695131 &     0.637064 &  0.589899 \\\\\n",
      "\\bottomrule\n",
      "\\end{tabular}\n",
      "\n",
      "\\begin{tabular}{llrrr}\n",
      "\\toprule\n",
      "{} &                                name &  ndcg\\_cut\\_5 &  ndcg\\_cut\\_25 &     bpref \\\\\n",
      "\\midrule\n",
      "0 &  ibm-fasttext\\_tuned\\_dlm\\_\\_unjudged20 &    0.765573 &     0.678571 &  0.571547 \\\\\n",
      "\\bottomrule\n",
      "\\end{tabular}\n",
      "\n",
      "\\begin{tabular}{llrrr}\n",
      "\\toprule\n",
      "{} &                                name &  ndcg\\_cut\\_5 &  ndcg\\_cut\\_25 &     bpref \\\\\n",
      "\\midrule\n",
      "0 &  ibm-fasttext\\_tuned\\_dlm\\_\\_unjudged21 &     0.66314 &     0.655665 &  0.607884 \\\\\n",
      "\\bottomrule\n",
      "\\end{tabular}\n",
      "\n",
      "/mnt/ceph/storage/data-in-progress/data-teaching/theses/wstud-thesis-hollatz/targer_indexes/pd_index_webd-fasttext-100/data.properties\n",
      "Fold 1\n",
      "Best ndcg_cut_5 is 0.395804\n",
      "Best setting is ['BR(DirichletLM) dirichletlm.mu=250']\n",
      "Fold 2\n",
      "Best ndcg_cut_5 is 0.277246\n",
      "Best setting is ['BR(DirichletLM) dirichletlm.mu=500']\n"
     ]
    },
    {
     "name": "stderr",
     "output_type": "stream",
     "text": [
      "/tmp/ipykernel_3689045/2604357178.py:29: FutureWarning: In future versions `DataFrame.to_latex` is expected to utilise the base implementation of `Styler.to_latex` for formatting and rendering. The arguments signature may therefore change. It is recommended instead to use `DataFrame.style.to_latex` which also contains additional functionality.\n",
      "  print(pt.Experiment([tuned_dlm], topics, qrels, names=[folders[i] + '_tuned_dlm_'], eval_metrics=[\"ndcg_cut_5\", \"ndcg_cut_25\", \"bpref\"]).to_latex())\n"
     ]
    },
    {
     "name": "stdout",
     "output_type": "stream",
     "text": [
      "\\begin{tabular}{llrrr}\n",
      "\\toprule\n",
      "{} &                      name &  ndcg\\_cut\\_5 &  ndcg\\_cut\\_25 &     bpref \\\\\n",
      "\\midrule\n",
      "0 &  webd-fasttext\\_tuned\\_dlm\\_ &     0.32813 &     0.241347 &  0.401374 \\\\\n",
      "\\bottomrule\n",
      "\\end{tabular}\n",
      "\n"
     ]
    },
    {
     "name": "stderr",
     "output_type": "stream",
     "text": [
      "/tmp/ipykernel_3689045/2604357178.py:30: FutureWarning: In future versions `DataFrame.to_latex` is expected to utilise the base implementation of `Styler.to_latex` for formatting and rendering. The arguments signature may therefore change. It is recommended instead to use `DataFrame.style.to_latex` which also contains additional functionality.\n",
      "  print(pt.Experiment([tuned_dlm], topics20, qrels, names=[folders[i] + '_tuned_dlm_20'], eval_metrics=[\"ndcg_cut_5\", \"ndcg_cut_25\", \"bpref\"]).to_latex())\n"
     ]
    },
    {
     "name": "stdout",
     "output_type": "stream",
     "text": [
      "\\begin{tabular}{llrrr}\n",
      "\\toprule\n",
      "{} &                        name &  ndcg\\_cut\\_5 &  ndcg\\_cut\\_25 &     bpref \\\\\n",
      "\\midrule\n",
      "0 &  webd-fasttext\\_tuned\\_dlm\\_20 &    0.266989 &     0.207011 &  0.434627 \\\\\n",
      "\\bottomrule\n",
      "\\end{tabular}\n",
      "\n"
     ]
    },
    {
     "name": "stderr",
     "output_type": "stream",
     "text": [
      "/tmp/ipykernel_3689045/2604357178.py:31: FutureWarning: In future versions `DataFrame.to_latex` is expected to utilise the base implementation of `Styler.to_latex` for formatting and rendering. The arguments signature may therefore change. It is recommended instead to use `DataFrame.style.to_latex` which also contains additional functionality.\n",
      "  print(pt.Experiment([tuned_dlm], topics21, qrels, names=[folders[i] + '_tuned_dlm_21'], eval_metrics=[\"ndcg_cut_5\", \"ndcg_cut_25\", \"bpref\"]).to_latex())\n",
      "/tmp/ipykernel_3689045/2604357178.py:33: FutureWarning: In future versions `DataFrame.to_latex` is expected to utilise the base implementation of `Styler.to_latex` for formatting and rendering. The arguments signature may therefore change. It is recommended instead to use `DataFrame.style.to_latex` which also contains additional functionality.\n",
      "  print(pt.Experiment([tuned_dlm[tuned_dlm['docno'].isin(docnos)]], topics, qrels, names=[folders[i] + '_tuned_dlm__unjudged'], eval_metrics=[\"ndcg_cut_5\", \"ndcg_cut_25\", \"bpref\"]).to_latex())\n",
      "/tmp/ipykernel_3689045/2604357178.py:34: FutureWarning: In future versions `DataFrame.to_latex` is expected to utilise the base implementation of `Styler.to_latex` for formatting and rendering. The arguments signature may therefore change. It is recommended instead to use `DataFrame.style.to_latex` which also contains additional functionality.\n",
      "  print(pt.Experiment([tuned_dlm[tuned_dlm['docno'].isin(docnos20)]], topics20, qrels, names=[folders[i] + '_tuned_dlm__unjudged20'], eval_metrics=[\"ndcg_cut_5\", \"ndcg_cut_25\", \"bpref\"]).to_latex())\n",
      "/tmp/ipykernel_3689045/2604357178.py:35: FutureWarning: In future versions `DataFrame.to_latex` is expected to utilise the base implementation of `Styler.to_latex` for formatting and rendering. The arguments signature may therefore change. It is recommended instead to use `DataFrame.style.to_latex` which also contains additional functionality.\n",
      "  print(pt.Experiment([tuned_dlm[tuned_dlm['docno'].isin(docnos21)]], topics21, qrels, names=[folders[i] + '_tuned_dlm__unjudged21'], eval_metrics=[\"ndcg_cut_5\", \"ndcg_cut_25\", \"bpref\"]).to_latex())\n"
     ]
    },
    {
     "name": "stdout",
     "output_type": "stream",
     "text": [
      "\\begin{tabular}{llrrr}\n",
      "\\toprule\n",
      "{} &                        name &  ndcg\\_cut\\_5 &  ndcg\\_cut\\_25 &     bpref \\\\\n",
      "\\midrule\n",
      "0 &  webd-fasttext\\_tuned\\_dlm\\_21 &    0.388048 &     0.274997 &  0.368786 \\\\\n",
      "\\bottomrule\n",
      "\\end{tabular}\n",
      "\n",
      "\\begin{tabular}{llrrr}\n",
      "\\toprule\n",
      "{} &                               name &  ndcg\\_cut\\_5 &  ndcg\\_cut\\_25 &     bpref \\\\\n",
      "\\midrule\n",
      "0 &  webd-fasttext\\_tuned\\_dlm\\_\\_unjudged &     0.58949 &     0.473152 &  0.401374 \\\\\n",
      "\\bottomrule\n",
      "\\end{tabular}\n",
      "\n",
      "\\begin{tabular}{llrrr}\n",
      "\\toprule\n",
      "{} &                                 name &  ndcg\\_cut\\_5 &  ndcg\\_cut\\_25 &     bpref \\\\\n",
      "\\midrule\n",
      "0 &  webd-fasttext\\_tuned\\_dlm\\_\\_unjudged20 &     0.68873 &     0.531272 &  0.434627 \\\\\n",
      "\\bottomrule\n",
      "\\end{tabular}\n",
      "\n",
      "\\begin{tabular}{llrrr}\n",
      "\\toprule\n",
      "{} &                                 name &  ndcg\\_cut\\_5 &  ndcg\\_cut\\_25 &     bpref \\\\\n",
      "\\midrule\n",
      "0 &  webd-fasttext\\_tuned\\_dlm\\_\\_unjudged21 &     0.57304 &     0.493779 &  0.368786 \\\\\n",
      "\\bottomrule\n",
      "\\end{tabular}\n",
      "\n"
     ]
    }
   ],
   "source": [
    "'''\n",
    "Example of simple tuning bm25 and its not saving to the folder \n",
    "'''\n",
    "\n",
    "import os\n",
    "rootdir = \"/mnt/ceph/storage/data-in-progress/data-teaching/theses/wstud-thesis-hollatz/targer_indexes\"\n",
    "# folders = ['conclusions','pool_topics','topics','topics_conclusion','topics_conclusion_leakage','topics_leakage','pool_topics_conclusions','conclusions_leakage','pools_conclusions']\n",
    "folders = ['webd-dependency', 'combined-fasttext', 'essays-dependency',\n",
    "          'original', 'essays-fasttext', 'ibm-fasttext', 'webd-fasttext']\n",
    "objective=\"ndcg_cut_5\"\n",
    "i = 0\n",
    "for subdir, dirs, files in os.walk(rootdir):\n",
    "    for file in files:\n",
    "        if(file == 'data.properties'):\n",
    "            path = subdir + '/'+ file\n",
    "            if subdir.endswith('100'):\n",
    "                print(path)\n",
    "                indexref = pt.IndexRef.of(path)\n",
    "                index = pt.IndexFactory.of(indexref)\n",
    "                dlm = pt.BatchRetrieve(index, wmodel=\"DirichletLM\", controls={\"dirichletlm.mu\" : 2500})\n",
    "                tuned_dlm, parameters = pt.KFoldGridSearch(\n",
    "                    dlm,\n",
    "                    {dlm: {\"dirichletlm.mu\" : list(range(0,10000,250))}},\n",
    "                    [topics20, topics21],\n",
    "                    [qrels20, qrels21],\n",
    "                    objective\n",
    "                )\n",
    "                \n",
    "                print(pt.Experiment([tuned_dlm], topics, qrels, names=[folders[i] + '_tuned_dlm_'], eval_metrics=[\"ndcg_cut_5\", \"ndcg_cut_25\", \"bpref\"]).to_latex())\n",
    "                print(pt.Experiment([tuned_dlm], topics20, qrels, names=[folders[i] + '_tuned_dlm_20'], eval_metrics=[\"ndcg_cut_5\", \"ndcg_cut_25\", \"bpref\"]).to_latex())\n",
    "                print(pt.Experiment([tuned_dlm], topics21, qrels, names=[folders[i] + '_tuned_dlm_21'], eval_metrics=[\"ndcg_cut_5\", \"ndcg_cut_25\", \"bpref\"]).to_latex())\n",
    "\n",
    "                print(pt.Experiment([tuned_dlm[tuned_dlm['docno'].isin(docnos)]], topics, qrels, names=[folders[i] + '_tuned_dlm__unjudged'], eval_metrics=[\"ndcg_cut_5\", \"ndcg_cut_25\", \"bpref\"]).to_latex())\n",
    "                print(pt.Experiment([tuned_dlm[tuned_dlm['docno'].isin(docnos20)]], topics20, qrels, names=[folders[i] + '_tuned_dlm__unjudged20'], eval_metrics=[\"ndcg_cut_5\", \"ndcg_cut_25\", \"bpref\"]).to_latex())\n",
    "                print(pt.Experiment([tuned_dlm[tuned_dlm['docno'].isin(docnos21)]], topics21, qrels, names=[folders[i] + '_tuned_dlm__unjudged21'], eval_metrics=[\"ndcg_cut_5\", \"ndcg_cut_25\", \"bpref\"]).to_latex())\n",
    "                tuned_dlm.to_csv(path_or_buf=f\"/workspace/src/grid_search_right_qrels/final_right/run/{folders[i]}_tuned_dlm.csv\")\n",
    "                i += 1\n",
    "            "
   ]
  },
  {
   "cell_type": "code",
   "execution_count": 5,
   "id": "dfea6557",
   "metadata": {},
   "outputs": [
    {
     "name": "stdout",
     "output_type": "stream",
     "text": [
      "/workspace/src/grid_search_right_qrels/super_folder//data.properties\n",
      "Fold 1\n",
      "Best ndcg_cut_5 is 0.455074\n",
      "Best setting is ['BR(DirichletLM) dirichletlm.mu=1000']\n",
      "Fold 2\n",
      "Best ndcg_cut_5 is 0.250555\n",
      "Best setting is ['BR(DirichletLM) dirichletlm.mu=1500']\n"
     ]
    },
    {
     "name": "stderr",
     "output_type": "stream",
     "text": [
      "/tmp/ipykernel_2391636/1037287187.py:26: FutureWarning: In future versions `DataFrame.to_latex` is expected to utilise the base implementation of `Styler.to_latex` for formatting and rendering. The arguments signature may therefore change. It is recommended instead to use `DataFrame.style.to_latex` which also contains additional functionality.\n",
      "  print(pt.Experiment([tuned_dlm], topics, qrels, names=[folders[i] + '_tuned_dlm_'], eval_metrics=[\"ndcg_cut_5\", \"ndcg_cut_25\", \"bpref\"]).to_latex())\n"
     ]
    },
    {
     "name": "stdout",
     "output_type": "stream",
     "text": [
      "\\begin{tabular}{llrrr}\n",
      "\\toprule\n",
      "{} &                         name &  ndcg\\_cut\\_5 &  ndcg\\_cut\\_25 &     bpref \\\\\n",
      "\\midrule\n",
      "0 &  marco-pretrained\\_tuned\\_dlm\\_ &     0.34844 &     0.311509 &  0.610536 \\\\\n",
      "\\bottomrule\n",
      "\\end{tabular}\n",
      "\n"
     ]
    },
    {
     "name": "stderr",
     "output_type": "stream",
     "text": [
      "/tmp/ipykernel_2391636/1037287187.py:27: FutureWarning: In future versions `DataFrame.to_latex` is expected to utilise the base implementation of `Styler.to_latex` for formatting and rendering. The arguments signature may therefore change. It is recommended instead to use `DataFrame.style.to_latex` which also contains additional functionality.\n",
      "  print(pt.Experiment([tuned_dlm], topics20, qrels, names=[folders[i] + '_tuned_dlm_20'], eval_metrics=[\"ndcg_cut_5\", \"ndcg_cut_25\", \"bpref\"]).to_latex())\n"
     ]
    },
    {
     "name": "stdout",
     "output_type": "stream",
     "text": [
      "\\begin{tabular}{llrrr}\n",
      "\\toprule\n",
      "{} &                           name &  ndcg\\_cut\\_5 &  ndcg\\_cut\\_25 &     bpref \\\\\n",
      "\\midrule\n",
      "0 &  marco-pretrained\\_tuned\\_dlm\\_20 &    0.247279 &     0.252619 &  0.601926 \\\\\n",
      "\\bottomrule\n",
      "\\end{tabular}\n",
      "\n"
     ]
    },
    {
     "name": "stderr",
     "output_type": "stream",
     "text": [
      "/tmp/ipykernel_2391636/1037287187.py:28: FutureWarning: In future versions `DataFrame.to_latex` is expected to utilise the base implementation of `Styler.to_latex` for formatting and rendering. The arguments signature may therefore change. It is recommended instead to use `DataFrame.style.to_latex` which also contains additional functionality.\n",
      "  print(pt.Experiment([tuned_dlm], topics21, qrels, names=[folders[i] + '_tuned_dlm_21'], eval_metrics=[\"ndcg_cut_5\", \"ndcg_cut_25\", \"bpref\"]).to_latex())\n",
      "/tmp/ipykernel_2391636/1037287187.py:30: FutureWarning: In future versions `DataFrame.to_latex` is expected to utilise the base implementation of `Styler.to_latex` for formatting and rendering. The arguments signature may therefore change. It is recommended instead to use `DataFrame.style.to_latex` which also contains additional functionality.\n",
      "  print(pt.Experiment([tuned_dlm[tuned_dlm['docno'].isin(docnos)]], topics, qrels, names=[folders[i] + '_tuned_dlm__unjudged'], eval_metrics=[\"ndcg_cut_5\", \"ndcg_cut_25\", \"bpref\"]).to_latex())\n"
     ]
    },
    {
     "name": "stdout",
     "output_type": "stream",
     "text": [
      "\\begin{tabular}{llrrr}\n",
      "\\toprule\n",
      "{} &                           name &  ndcg\\_cut\\_5 &  ndcg\\_cut\\_25 &     bpref \\\\\n",
      "\\midrule\n",
      "0 &  marco-pretrained\\_tuned\\_dlm\\_21 &    0.447577 &      0.36922 &  0.618973 \\\\\n",
      "\\bottomrule\n",
      "\\end{tabular}\n",
      "\n",
      "\\begin{tabular}{llrrr}\n",
      "\\toprule\n",
      "{} &                                  name &  ndcg\\_cut\\_5 &  ndcg\\_cut\\_25 &     bpref \\\\\n",
      "\\midrule\n",
      "0 &  marco-pretrained\\_tuned\\_dlm\\_\\_unjudged &     0.59213 &     0.608695 &  0.610536 \\\\\n",
      "\\bottomrule\n",
      "\\end{tabular}\n",
      "\n",
      "\\begin{tabular}{llrrr}\n",
      "\\toprule\n",
      "{} &                                    name &  ndcg\\_cut\\_5 &  ndcg\\_cut\\_25 &     bpref \\\\\n",
      "\\midrule\n",
      "0 &  marco-pretrained\\_tuned\\_dlm\\_\\_unjudged20 &    0.606138 &     0.625352 &  0.601926 \\\\\n",
      "\\bottomrule\n",
      "\\end{tabular}\n",
      "\n",
      "\\begin{tabular}{llrrr}\n",
      "\\toprule\n",
      "{} &                                    name &  ndcg\\_cut\\_5 &  ndcg\\_cut\\_25 &     bpref \\\\\n",
      "\\midrule\n",
      "0 &  marco-pretrained\\_tuned\\_dlm\\_\\_unjudged21 &    0.601868 &     0.638206 &  0.618973 \\\\\n",
      "\\bottomrule\n",
      "\\end{tabular}\n",
      "\n"
     ]
    },
    {
     "name": "stderr",
     "output_type": "stream",
     "text": [
      "/tmp/ipykernel_2391636/1037287187.py:31: FutureWarning: In future versions `DataFrame.to_latex` is expected to utilise the base implementation of `Styler.to_latex` for formatting and rendering. The arguments signature may therefore change. It is recommended instead to use `DataFrame.style.to_latex` which also contains additional functionality.\n",
      "  print(pt.Experiment([tuned_dlm[tuned_dlm['docno'].isin(docnos20)]], topics20, qrels, names=[folders[i] + '_tuned_dlm__unjudged20'], eval_metrics=[\"ndcg_cut_5\", \"ndcg_cut_25\", \"bpref\"]).to_latex())\n",
      "/tmp/ipykernel_2391636/1037287187.py:32: FutureWarning: In future versions `DataFrame.to_latex` is expected to utilise the base implementation of `Styler.to_latex` for formatting and rendering. The arguments signature may therefore change. It is recommended instead to use `DataFrame.style.to_latex` which also contains additional functionality.\n",
      "  print(pt.Experiment([tuned_dlm[tuned_dlm['docno'].isin(docnos21)]], topics21, qrels, names=[folders[i] + '_tuned_dlm__unjudged21'], eval_metrics=[\"ndcg_cut_5\", \"ndcg_cut_25\", \"bpref\"]).to_latex())\n"
     ]
    }
   ],
   "source": [
    "'''\n",
    "Example of simple tuning bm25 and its not saving to the folder \n",
    "'''\n",
    "\n",
    "import os\n",
    "rootdir = \"/workspace/src/grid_search_right_qrels/super_folder/\"\n",
    "folders = ['marco-pretrained']\n",
    "objective=\"ndcg_cut_5\"\n",
    "i = 0\n",
    "for subdir, dirs, files in os.walk(rootdir):\n",
    "    for file in files:\n",
    "        if(file == 'data.properties'):\n",
    "            path = subdir + '/'+ file\n",
    "            print(path)\n",
    "            indexref = pt.IndexRef.of(path)\n",
    "            index = pt.IndexFactory.of(indexref)\n",
    "            dlm = pt.BatchRetrieve(index, wmodel=\"DirichletLM\", controls={\"dirichletlm.mu\" : 2500})\n",
    "            tuned_dlm, parameters = pt.KFoldGridSearch(\n",
    "                dlm,\n",
    "                {dlm: {\"dirichletlm.mu\" : list(range(0,10000,250))}},\n",
    "                [topics20, topics21],\n",
    "                [qrels20, qrels21],\n",
    "                objective\n",
    "            )\n",
    "\n",
    "            print(pt.Experiment([tuned_dlm], topics, qrels, names=[folders[i] + '_tuned_dlm_'], eval_metrics=[\"ndcg_cut_5\", \"ndcg_cut_25\", \"bpref\"]).to_latex())\n",
    "            print(pt.Experiment([tuned_dlm], topics20, qrels, names=[folders[i] + '_tuned_dlm_20'], eval_metrics=[\"ndcg_cut_5\", \"ndcg_cut_25\", \"bpref\"]).to_latex())\n",
    "            print(pt.Experiment([tuned_dlm], topics21, qrels, names=[folders[i] + '_tuned_dlm_21'], eval_metrics=[\"ndcg_cut_5\", \"ndcg_cut_25\", \"bpref\"]).to_latex())\n",
    "\n",
    "            print(pt.Experiment([tuned_dlm[tuned_dlm['docno'].isin(docnos)]], topics, qrels, names=[folders[i] + '_tuned_dlm__unjudged'], eval_metrics=[\"ndcg_cut_5\", \"ndcg_cut_25\", \"bpref\"]).to_latex())\n",
    "            print(pt.Experiment([tuned_dlm[tuned_dlm['docno'].isin(docnos20)]], topics20, qrels, names=[folders[i] + '_tuned_dlm__unjudged20'], eval_metrics=[\"ndcg_cut_5\", \"ndcg_cut_25\", \"bpref\"]).to_latex())\n",
    "            print(pt.Experiment([tuned_dlm[tuned_dlm['docno'].isin(docnos21)]], topics21, qrels, names=[folders[i] + '_tuned_dlm__unjudged21'], eval_metrics=[\"ndcg_cut_5\", \"ndcg_cut_25\", \"bpref\"]).to_latex())\n",
    "\n",
    "            i += 1\n",
    "            "
   ]
  }
 ],
 "metadata": {
  "kernelspec": {
   "display_name": "Python 3 (ipykernel)",
   "language": "python",
   "name": "python3"
  },
  "language_info": {
   "codemirror_mode": {
    "name": "ipython",
    "version": 3
   },
   "file_extension": ".py",
   "mimetype": "text/x-python",
   "name": "python",
   "nbconvert_exporter": "python",
   "pygments_lexer": "ipython3",
   "version": "3.9.10"
  }
 },
 "nbformat": 4,
 "nbformat_minor": 5
}
