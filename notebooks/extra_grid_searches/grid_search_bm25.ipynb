{
 "cells": [
  {
   "cell_type": "code",
   "execution_count": 3,
   "id": "8ba1dd94",
   "metadata": {},
   "outputs": [],
   "source": [
    "import pandas as pd\n",
    "import numpy as np\n",
    "# import pyterrier_deepct\n",
    "import pyterrier as pt\n",
    "if not pt.started():\n",
    "  pt.init(boot_packages=[\"com.github.terrierteam:terrier-prf:-SNAPSHOT\"])\n",
    "\n",
    "from xml.etree import ElementTree\n",
    "tree = ElementTree.parse('/workspace/src/evaluate_targers/topics2020.xml')\n",
    "data = tree.getroot()\n",
    "titles20 = []\n",
    "titles21 = []\n",
    "title_ids20 = []\n",
    "title_ids21 = []\n",
    "nums20 = []\n",
    "nums21 = []\n",
    "for topic in data:\n",
    "    titles20.append(topic.find('title').text.lower()[:-1])\n",
    "    num20 = topic.find('number').text\n",
    "    nums20.append(num20)\n",
    "tree = ElementTree.parse('/workspace/src/evaluate_targers/topics.xml')\n",
    "data = tree.getroot()    \n",
    "for topic in data:\n",
    "    titles21.append(topic.find('title').text.lower()[:-1])\n",
    "    num21 = topic.find('number').text\n",
    "    nums21.append(num21)\n",
    "topics = pd.DataFrame()\n",
    "topics['qid'] = nums20 + nums21\n",
    "topics['query'] = titles20 + titles21\n",
    "\n",
    "topics21 = pd.DataFrame()\n",
    "topics21['qid'] = nums21\n",
    "topics21['query'] = titles21\n",
    "\n",
    "topics20 = pd.DataFrame()\n",
    "topics20['qid'] = nums20\n",
    "topics20['query'] = titles20\n",
    "\n",
    "qrels_path=(\"/workspace/src/evaluate_targers/all_qrels.qrels\")\n",
    "qrels = pt.io.read_qrels(qrels_path)\n",
    "\n",
    "qrels21_path=(\"/workspace/src/evaluate_targers/qrels2021.qrels\")\n",
    "qrels21 = pt.io.read_qrels(qrels21_path)\n",
    "\n",
    "qrels20_path=(\"/workspace/src/evaluate_targers/qrels2020.qrels\")\n",
    "qrels20 = pt.io.read_qrels(qrels20_path)\n",
    "\n",
    "docnos = qrels.docno\n",
    "docnos21 = qrels21.docno\n",
    "docnos20 = qrels20.docno"
   ]
  },
  {
   "cell_type": "code",
   "execution_count": 6,
   "id": "6902eab5",
   "metadata": {
    "scrolled": true
   },
   "outputs": [
    {
     "name": "stdout",
     "output_type": "stream",
     "text": [
      "\n",
      "/mnt/ceph/storage/data-in-progress/data-teaching/theses/wstud-thesis-hollatz/targer_indexes/pd_index_original-100\n",
      "Fold 1\n",
      "Best ndcg_cut_5 is 0.683724\n",
      "Best setting is ['BR(BM25) c=0.55', 'BR(BM25) bm25.k_1=2.2', 'BR(BM25) bm25.k_3=2']\n",
      "Fold 2\n",
      "Best ndcg_cut_5 is 0.526937\n",
      "Best setting is ['BR(BM25) c=0.15', 'BR(BM25) bm25.k_1=4.4', 'BR(BM25) bm25.k_3=2']\n",
      "           name  ndcg_cut_5  ndcg_cut_25     bpref\n",
      "0    tuned_bm25    0.519366     0.446745  0.632032\n",
      "1  orignal_bm25    0.433057     0.384884  0.634694\n",
      "                    name  ndcg_cut_5  ndcg_cut_25     bpref\n",
      "0  20original_tuned_bm25    0.380818     0.346446  0.642787\n",
      "1         20orignal_bm25    0.308863     0.307938  0.643398\n",
      "                    name  ndcg_cut_5  ndcg_cut_25     bpref\n",
      "0  21original_tuned_bm25    0.655142     0.545039  0.621493\n",
      "1         21orignal_bm25    0.554767     0.460291  0.626163\n"
     ]
    }
   ],
   "source": [
    "import os\n",
    "# rootdir = \"/mnt/ceph/storage/data-in-progress/data-teaching/theses/wstud-thesis-hollatz/DeepCT_indexes/\"\n",
    "rootdir = \"/mnt/ceph/storage/data-in-progress/data-teaching/theses/wstud-thesis-hollatz/targer_indexes/pd_index_original-100\"\n",
    "\n",
    "objective=\"ndcg_cut_5\"\n",
    "for i, (subdir, dirs, files) in enumerate(os.walk(rootdir)):\n",
    "    for file in files:\n",
    "        if(file == 'data.properties'):\n",
    "            path = subdir + '/'+ file\n",
    "            print('\\n' + subdir)\n",
    "            indexref = pt.IndexRef.of(path)\n",
    "            index = pt.IndexFactory.of(indexref)\n",
    "            bm25 = pt.BatchRetrieve(index, wmodel=\"BM25\", controls={\"c\" : 0.75, \"bm25.k_1\": 1.2, \"bm25.k_3\": 8})\n",
    "            tuned_bm25, parameters = pt.KFoldGridSearch(\n",
    "                bm25,\n",
    "                {bm25: {\"c\" : [0.15, 0.35, 0.55, 0.75],\n",
    "                \"bm25.k_1\": [0.6, 1.2, 1.6, 2.2, 2.8, 3.4, 4.0, 4.4],\n",
    "                \"bm25.k_3\": [2, 5, 8, 10]\n",
    "                }},\n",
    "                [topics20, topics21],\n",
    "                [qrels20, qrels21],\n",
    "                objective\n",
    "            )\n",
    "            print(pt.Experiment([tuned_bm25, bm25], topics, qrels, \n",
    "                                names=['tuned_bm25','orignal_bm25'],\n",
    "                                eval_metrics=[\"ndcg_cut_5\", \"ndcg_cut_25\", \"bpref\"]))\n",
    "            \n",
    "            print(pt.Experiment([tuned_bm25, bm25], topics20, qrels, names=['20original_tuned_bm25', '20orignal_bm25'], \n",
    "                                eval_metrics=[\"ndcg_cut_5\", \"ndcg_cut_25\", \"bpref\"]))\n",
    "            \n",
    "            print(pt.Experiment([tuned_bm25, bm25], topics21, qrels, names=['21original_tuned_bm25', '21orignal_bm25'], \n",
    "                                eval_metrics=[\"ndcg_cut_5\", \"ndcg_cut_25\", \"bpref\"]))\n",
    "            tuned_bm25.to_csv(path_or_buf=f\"/workspace/src/grid_search_right_qrels/final_right/run/original_tuned_bm.csv\")\n",
    "#             tuned_bm25.to_csv(path_or_buf=f\"/workspace/src/runs_bm25/original_tuned_bm25.csv\")\n",
    "            "
   ]
  },
  {
   "cell_type": "code",
   "execution_count": 7,
   "id": "0dcfbd9e",
   "metadata": {
    "scrolled": false
   },
   "outputs": [
    {
     "name": "stdout",
     "output_type": "stream",
     "text": [
      "\n",
      "/mnt/ceph/storage/data-in-progress/data-teaching/theses/wstud-thesis-hollatz/DeepCT_indexes/conclusionspd_index\n",
      "Fold 1\n",
      "Best ndcg_cut_5 is 0.580154\n",
      "Best setting is ['BR(BM25) c=0.15', 'BR(BM25) bm25.k_1=4.4', 'BR(BM25) bm25.k_3=2']\n",
      "Fold 2\n",
      "Best ndcg_cut_5 is 0.405992\n",
      "Best setting is ['BR(BM25) c=0.15', 'BR(BM25) bm25.k_1=4.4', 'BR(BM25) bm25.k_3=2']\n"
     ]
    },
    {
     "name": "stderr",
     "output_type": "stream",
     "text": [
      "/tmp/ipykernel_3684168/494468316.py:28: FutureWarning: In future versions `DataFrame.to_latex` is expected to utilise the base implementation of `Styler.to_latex` for formatting and rendering. The arguments signature may therefore change. It is recommended instead to use `DataFrame.style.to_latex` which also contains additional functionality.\n",
      "  print(pt.Experiment([tuned_bm25, bm25], topics, qrels, names=[folders[i] + '_tuned_bm25', folders[i] + '_orignal_bm25'], eval_metrics=[\"ndcg_cut_5\", \"ndcg_cut_25\", \"bpref\"]).to_latex())\n"
     ]
    },
    {
     "name": "stdout",
     "output_type": "stream",
     "text": [
      "\\begin{tabular}{llrrr}\n",
      "\\toprule\n",
      "{} &                      name &  ndcg\\_cut\\_5 &  ndcg\\_cut\\_25 &     bpref \\\\\n",
      "\\midrule\n",
      "0 &    conclusions\\_tuned\\_bm25 &    0.493952 &     0.441997 &  0.717687 \\\\\n",
      "1 &  conclusions\\_orignal\\_bm25 &    0.394756 &     0.375585 &  0.710391 \\\\\n",
      "\\bottomrule\n",
      "\\end{tabular}\n",
      "\n"
     ]
    },
    {
     "name": "stderr",
     "output_type": "stream",
     "text": [
      "/tmp/ipykernel_3684168/494468316.py:30: FutureWarning: In future versions `DataFrame.to_latex` is expected to utilise the base implementation of `Styler.to_latex` for formatting and rendering. The arguments signature may therefore change. It is recommended instead to use `DataFrame.style.to_latex` which also contains additional functionality.\n",
      "  print(pt.Experiment([tuned_bm25, bm25], topics20, qrels, names=['20' + folders[i] + 'tuned_bm25', '20' + folders[i] + '_bm25'],\n"
     ]
    },
    {
     "name": "stdout",
     "output_type": "stream",
     "text": [
      "\\begin{tabular}{llrrr}\n",
      "\\toprule\n",
      "{} &                     name &  ndcg\\_cut\\_5 &  ndcg\\_cut\\_25 &     bpref \\\\\n",
      "\\midrule\n",
      "0 &  20conclusionstuned\\_bm25 &    0.405992 &     0.363616 &  0.703588 \\\\\n",
      "1 &       20conclusions\\_bm25 &    0.305337 &     0.304660 &  0.695431 \\\\\n",
      "\\bottomrule\n",
      "\\end{tabular}\n",
      "\n"
     ]
    },
    {
     "name": "stderr",
     "output_type": "stream",
     "text": [
      "/tmp/ipykernel_3684168/494468316.py:33: FutureWarning: In future versions `DataFrame.to_latex` is expected to utilise the base implementation of `Styler.to_latex` for formatting and rendering. The arguments signature may therefore change. It is recommended instead to use `DataFrame.style.to_latex` which also contains additional functionality.\n",
      "  print(pt.Experiment([tuned_bm25, bm25], topics21, qrels, names=['21' + folders[i] + 'tuned_bm25', '21'+ folders[i] + '_bm25'],\n"
     ]
    },
    {
     "name": "stdout",
     "output_type": "stream",
     "text": [
      "\\begin{tabular}{llrrr}\n",
      "\\toprule\n",
      "{} &                     name &  ndcg\\_cut\\_5 &  ndcg\\_cut\\_25 &     bpref \\\\\n",
      "\\midrule\n",
      "0 &  21conclusionstuned\\_bm25 &    0.580154 &     0.518811 &  0.731503 \\\\\n",
      "1 &       21conclusions\\_bm25 &    0.482386 &     0.445090 &  0.725052 \\\\\n",
      "\\bottomrule\n",
      "\\end{tabular}\n",
      "\n",
      "\n",
      "/mnt/ceph/storage/data-in-progress/data-teaching/theses/wstud-thesis-hollatz/DeepCT_indexes/pool_topicspd_index\n",
      "Fold 1\n",
      "Best ndcg_cut_5 is 0.607403\n",
      "Best setting is ['BR(BM25) c=0.15', 'BR(BM25) bm25.k_1=4.0', 'BR(BM25) bm25.k_3=2']\n",
      "Fold 2\n",
      "Best ndcg_cut_5 is 0.400238\n",
      "Best setting is ['BR(BM25) c=0.15', 'BR(BM25) bm25.k_1=4.0', 'BR(BM25) bm25.k_3=5']\n"
     ]
    },
    {
     "name": "stderr",
     "output_type": "stream",
     "text": [
      "/tmp/ipykernel_3684168/494468316.py:28: FutureWarning: In future versions `DataFrame.to_latex` is expected to utilise the base implementation of `Styler.to_latex` for formatting and rendering. The arguments signature may therefore change. It is recommended instead to use `DataFrame.style.to_latex` which also contains additional functionality.\n",
      "  print(pt.Experiment([tuned_bm25, bm25], topics, qrels, names=[folders[i] + '_tuned_bm25', folders[i] + '_orignal_bm25'], eval_metrics=[\"ndcg_cut_5\", \"ndcg_cut_25\", \"bpref\"]).to_latex())\n"
     ]
    },
    {
     "name": "stdout",
     "output_type": "stream",
     "text": [
      "\\begin{tabular}{llrrr}\n",
      "\\toprule\n",
      "{} &                      name &  ndcg\\_cut\\_5 &  ndcg\\_cut\\_25 &     bpref \\\\\n",
      "\\midrule\n",
      "0 &    pool\\_topics\\_tuned\\_bm25 &    0.503514 &     0.437603 &  0.716742 \\\\\n",
      "1 &  pool\\_topics\\_orignal\\_bm25 &    0.396287 &     0.373634 &  0.706102 \\\\\n",
      "\\bottomrule\n",
      "\\end{tabular}\n",
      "\n"
     ]
    },
    {
     "name": "stderr",
     "output_type": "stream",
     "text": [
      "/tmp/ipykernel_3684168/494468316.py:30: FutureWarning: In future versions `DataFrame.to_latex` is expected to utilise the base implementation of `Styler.to_latex` for formatting and rendering. The arguments signature may therefore change. It is recommended instead to use `DataFrame.style.to_latex` which also contains additional functionality.\n",
      "  print(pt.Experiment([tuned_bm25, bm25], topics20, qrels, names=['20' + folders[i] + 'tuned_bm25', '20' + folders[i] + '_bm25'],\n"
     ]
    },
    {
     "name": "stdout",
     "output_type": "stream",
     "text": [
      "\\begin{tabular}{llrrr}\n",
      "\\toprule\n",
      "{} &                     name &  ndcg\\_cut\\_5 &  ndcg\\_cut\\_25 &     bpref \\\\\n",
      "\\midrule\n",
      "0 &  20pool\\_topicstuned\\_bm25 &    0.397504 &     0.354153 &  0.703227 \\\\\n",
      "1 &       20pool\\_topics\\_bm25 &    0.299930 &     0.297103 &  0.692893 \\\\\n",
      "\\bottomrule\n",
      "\\end{tabular}\n",
      "\n"
     ]
    },
    {
     "name": "stderr",
     "output_type": "stream",
     "text": [
      "/tmp/ipykernel_3684168/494468316.py:33: FutureWarning: In future versions `DataFrame.to_latex` is expected to utilise the base implementation of `Styler.to_latex` for formatting and rendering. The arguments signature may therefore change. It is recommended instead to use `DataFrame.style.to_latex` which also contains additional functionality.\n",
      "  print(pt.Experiment([tuned_bm25, bm25], topics21, qrels, names=['21' + folders[i] + 'tuned_bm25', '21'+ folders[i] + '_bm25'],\n"
     ]
    },
    {
     "name": "stdout",
     "output_type": "stream",
     "text": [
      "\\begin{tabular}{llrrr}\n",
      "\\toprule\n",
      "{} &                     name &  ndcg\\_cut\\_5 &  ndcg\\_cut\\_25 &     bpref \\\\\n",
      "\\midrule\n",
      "0 &  21pool\\_topicstuned\\_bm25 &    0.607403 &     0.519384 &  0.729987 \\\\\n",
      "1 &       21pool\\_topics\\_bm25 &    0.490716 &     0.448634 &  0.719048 \\\\\n",
      "\\bottomrule\n",
      "\\end{tabular}\n",
      "\n",
      "\n",
      "/mnt/ceph/storage/data-in-progress/data-teaching/theses/wstud-thesis-hollatz/DeepCT_indexes/topicspd_index\n",
      "Fold 1\n",
      "Best ndcg_cut_5 is 0.584967\n",
      "Best setting is ['BR(BM25) c=0.15', 'BR(BM25) bm25.k_1=4.4', 'BR(BM25) bm25.k_3=2']\n",
      "Fold 2\n",
      "Best ndcg_cut_5 is 0.417639\n",
      "Best setting is ['BR(BM25) c=0.15', 'BR(BM25) bm25.k_1=4.4', 'BR(BM25) bm25.k_3=2']\n"
     ]
    },
    {
     "name": "stderr",
     "output_type": "stream",
     "text": [
      "/tmp/ipykernel_3684168/494468316.py:28: FutureWarning: In future versions `DataFrame.to_latex` is expected to utilise the base implementation of `Styler.to_latex` for formatting and rendering. The arguments signature may therefore change. It is recommended instead to use `DataFrame.style.to_latex` which also contains additional functionality.\n",
      "  print(pt.Experiment([tuned_bm25, bm25], topics, qrels, names=[folders[i] + '_tuned_bm25', folders[i] + '_orignal_bm25'], eval_metrics=[\"ndcg_cut_5\", \"ndcg_cut_25\", \"bpref\"]).to_latex())\n"
     ]
    },
    {
     "name": "stdout",
     "output_type": "stream",
     "text": [
      "\\begin{tabular}{llrrr}\n",
      "\\toprule\n",
      "{} &                 name &  ndcg\\_cut\\_5 &  ndcg\\_cut\\_25 &     bpref \\\\\n",
      "\\midrule\n",
      "0 &    topics\\_tuned\\_bm25 &    0.502148 &     0.438876 &  0.714941 \\\\\n",
      "1 &  topics\\_orignal\\_bm25 &    0.390876 &     0.372884 &  0.705937 \\\\\n",
      "\\bottomrule\n",
      "\\end{tabular}\n",
      "\n"
     ]
    },
    {
     "name": "stderr",
     "output_type": "stream",
     "text": [
      "/tmp/ipykernel_3684168/494468316.py:30: FutureWarning: In future versions `DataFrame.to_latex` is expected to utilise the base implementation of `Styler.to_latex` for formatting and rendering. The arguments signature may therefore change. It is recommended instead to use `DataFrame.style.to_latex` which also contains additional functionality.\n",
      "  print(pt.Experiment([tuned_bm25, bm25], topics20, qrels, names=['20' + folders[i] + 'tuned_bm25', '20' + folders[i] + '_bm25'],\n"
     ]
    },
    {
     "name": "stdout",
     "output_type": "stream",
     "text": [
      "\\begin{tabular}{llrrr}\n",
      "\\toprule\n",
      "{} &                name &  ndcg\\_cut\\_5 &  ndcg\\_cut\\_25 &     bpref \\\\\n",
      "\\midrule\n",
      "0 &  20topicstuned\\_bm25 &    0.417639 &     0.361886 &  0.703821 \\\\\n",
      "1 &       20topics\\_bm25 &    0.315130 &     0.306843 &  0.695491 \\\\\n",
      "\\bottomrule\n",
      "\\end{tabular}\n",
      "\n"
     ]
    },
    {
     "name": "stderr",
     "output_type": "stream",
     "text": [
      "/tmp/ipykernel_3684168/494468316.py:33: FutureWarning: In future versions `DataFrame.to_latex` is expected to utilise the base implementation of `Styler.to_latex` for formatting and rendering. The arguments signature may therefore change. It is recommended instead to use `DataFrame.style.to_latex` which also contains additional functionality.\n",
      "  print(pt.Experiment([tuned_bm25, bm25], topics21, qrels, names=['21' + folders[i] + 'tuned_bm25', '21'+ folders[i] + '_bm25'],\n"
     ]
    },
    {
     "name": "stdout",
     "output_type": "stream",
     "text": [
      "\\begin{tabular}{llrrr}\n",
      "\\toprule\n",
      "{} &                name &  ndcg\\_cut\\_5 &  ndcg\\_cut\\_25 &     bpref \\\\\n",
      "\\midrule\n",
      "0 &  21topicstuned\\_bm25 &    0.584967 &     0.514327 &  0.725838 \\\\\n",
      "1 &       21topics\\_bm25 &    0.465107 &     0.437603 &  0.716173 \\\\\n",
      "\\bottomrule\n",
      "\\end{tabular}\n",
      "\n",
      "\n",
      "/mnt/ceph/storage/data-in-progress/data-teaching/theses/wstud-thesis-hollatz/DeepCT_indexes/topics_conclusionpd_index\n",
      "Fold 1\n",
      "Best ndcg_cut_5 is 0.603917\n",
      "Best setting is ['BR(BM25) c=0.15', 'BR(BM25) bm25.k_1=4.4', 'BR(BM25) bm25.k_3=2']\n",
      "Fold 2\n",
      "Best ndcg_cut_5 is 0.425033\n",
      "Best setting is ['BR(BM25) c=0.15', 'BR(BM25) bm25.k_1=2.8', 'BR(BM25) bm25.k_3=2']\n"
     ]
    },
    {
     "name": "stderr",
     "output_type": "stream",
     "text": [
      "/tmp/ipykernel_3684168/494468316.py:28: FutureWarning: In future versions `DataFrame.to_latex` is expected to utilise the base implementation of `Styler.to_latex` for formatting and rendering. The arguments signature may therefore change. It is recommended instead to use `DataFrame.style.to_latex` which also contains additional functionality.\n",
      "  print(pt.Experiment([tuned_bm25, bm25], topics, qrels, names=[folders[i] + '_tuned_bm25', folders[i] + '_orignal_bm25'], eval_metrics=[\"ndcg_cut_5\", \"ndcg_cut_25\", \"bpref\"]).to_latex())\n"
     ]
    },
    {
     "name": "stdout",
     "output_type": "stream",
     "text": [
      "\\begin{tabular}{llrrr}\n",
      "\\toprule\n",
      "{} &                            name &  ndcg\\_cut\\_5 &  ndcg\\_cut\\_25 &     bpref \\\\\n",
      "\\midrule\n",
      "0 &    topics\\_conclusion\\_tuned\\_bm25 &    0.510007 &     0.435414 &  0.718965 \\\\\n",
      "1 &  topics\\_conclusion\\_orignal\\_bm25 &    0.393813 &     0.367047 &  0.712358 \\\\\n",
      "\\bottomrule\n",
      "\\end{tabular}\n",
      "\n"
     ]
    },
    {
     "name": "stderr",
     "output_type": "stream",
     "text": [
      "/tmp/ipykernel_3684168/494468316.py:30: FutureWarning: In future versions `DataFrame.to_latex` is expected to utilise the base implementation of `Styler.to_latex` for formatting and rendering. The arguments signature may therefore change. It is recommended instead to use `DataFrame.style.to_latex` which also contains additional functionality.\n",
      "  print(pt.Experiment([tuned_bm25, bm25], topics20, qrels, names=['20' + folders[i] + 'tuned_bm25', '20' + folders[i] + '_bm25'],\n"
     ]
    },
    {
     "name": "stdout",
     "output_type": "stream",
     "text": [
      "\\begin{tabular}{llrrr}\n",
      "\\toprule\n",
      "{} &                           name &  ndcg\\_cut\\_5 &  ndcg\\_cut\\_25 &     bpref \\\\\n",
      "\\midrule\n",
      "0 &  20topics\\_conclusiontuned\\_bm25 &    0.422275 &     0.358484 &  0.707636 \\\\\n",
      "1 &       20topics\\_conclusion\\_bm25 &    0.321787 &     0.305624 &  0.699953 \\\\\n",
      "\\bottomrule\n",
      "\\end{tabular}\n",
      "\n"
     ]
    },
    {
     "name": "stderr",
     "output_type": "stream",
     "text": [
      "/tmp/ipykernel_3684168/494468316.py:33: FutureWarning: In future versions `DataFrame.to_latex` is expected to utilise the base implementation of `Styler.to_latex` for formatting and rendering. The arguments signature may therefore change. It is recommended instead to use `DataFrame.style.to_latex` which also contains additional functionality.\n",
      "  print(pt.Experiment([tuned_bm25, bm25], topics21, qrels, names=['21' + folders[i] + 'tuned_bm25', '21'+ folders[i] + '_bm25'],\n"
     ]
    },
    {
     "name": "stdout",
     "output_type": "stream",
     "text": [
      "\\begin{tabular}{llrrr}\n",
      "\\toprule\n",
      "{} &                           name &  ndcg\\_cut\\_5 &  ndcg\\_cut\\_25 &     bpref \\\\\n",
      "\\midrule\n",
      "0 &  21topics\\_conclusiontuned\\_bm25 &    0.595984 &     0.510805 &  0.730068 \\\\\n",
      "1 &       21topics\\_conclusion\\_bm25 &    0.464399 &     0.427242 &  0.724515 \\\\\n",
      "\\bottomrule\n",
      "\\end{tabular}\n",
      "\n",
      "\n",
      "/mnt/ceph/storage/data-in-progress/data-teaching/theses/wstud-thesis-hollatz/DeepCT_indexes/topics_conclusions_leakage/pd_index\n",
      "Fold 1\n",
      "Best ndcg_cut_5 is 0.591699\n",
      "Best setting is ['BR(BM25) c=0.15', 'BR(BM25) bm25.k_1=4.4', 'BR(BM25) bm25.k_3=2']\n",
      "Fold 2\n",
      "Best ndcg_cut_5 is 0.391153\n",
      "Best setting is ['BR(BM25) c=0.15', 'BR(BM25) bm25.k_1=4.4', 'BR(BM25) bm25.k_3=2']\n"
     ]
    },
    {
     "name": "stderr",
     "output_type": "stream",
     "text": [
      "/tmp/ipykernel_3684168/494468316.py:28: FutureWarning: In future versions `DataFrame.to_latex` is expected to utilise the base implementation of `Styler.to_latex` for formatting and rendering. The arguments signature may therefore change. It is recommended instead to use `DataFrame.style.to_latex` which also contains additional functionality.\n",
      "  print(pt.Experiment([tuned_bm25, bm25], topics, qrels, names=[folders[i] + '_tuned_bm25', folders[i] + '_orignal_bm25'], eval_metrics=[\"ndcg_cut_5\", \"ndcg_cut_25\", \"bpref\"]).to_latex())\n"
     ]
    },
    {
     "name": "stdout",
     "output_type": "stream",
     "text": [
      "\\begin{tabular}{llrrr}\n",
      "\\toprule\n",
      "{} &                                    name &  ndcg\\_cut\\_5 &  ndcg\\_cut\\_25 &     bpref \\\\\n",
      "\\midrule\n",
      "0 &    topics\\_conclusion\\_leakage\\_tuned\\_bm25 &    0.492439 &     0.437261 &  0.715590 \\\\\n",
      "1 &  topics\\_conclusion\\_leakage\\_orignal\\_bm25 &    0.391703 &     0.377510 &  0.710018 \\\\\n",
      "\\bottomrule\n",
      "\\end{tabular}\n",
      "\n"
     ]
    },
    {
     "name": "stderr",
     "output_type": "stream",
     "text": [
      "/tmp/ipykernel_3684168/494468316.py:30: FutureWarning: In future versions `DataFrame.to_latex` is expected to utilise the base implementation of `Styler.to_latex` for formatting and rendering. The arguments signature may therefore change. It is recommended instead to use `DataFrame.style.to_latex` which also contains additional functionality.\n",
      "  print(pt.Experiment([tuned_bm25, bm25], topics20, qrels, names=['20' + folders[i] + 'tuned_bm25', '20' + folders[i] + '_bm25'],\n"
     ]
    },
    {
     "name": "stdout",
     "output_type": "stream",
     "text": [
      "\\begin{tabular}{llrrr}\n",
      "\\toprule\n",
      "{} &                                   name &  ndcg\\_cut\\_5 &  ndcg\\_cut\\_25 &     bpref \\\\\n",
      "\\midrule\n",
      "0 &  20topics\\_conclusion\\_leakagetuned\\_bm25 &    0.391153 &     0.355208 &  0.701609 \\\\\n",
      "1 &       20topics\\_conclusion\\_leakage\\_bm25 &    0.303513 &     0.300454 &  0.697511 \\\\\n",
      "\\bottomrule\n",
      "\\end{tabular}\n",
      "\n"
     ]
    },
    {
     "name": "stderr",
     "output_type": "stream",
     "text": [
      "/tmp/ipykernel_3684168/494468316.py:33: FutureWarning: In future versions `DataFrame.to_latex` is expected to utilise the base implementation of `Styler.to_latex` for formatting and rendering. The arguments signature may therefore change. It is recommended instead to use `DataFrame.style.to_latex` which also contains additional functionality.\n",
      "  print(pt.Experiment([tuned_bm25, bm25], topics21, qrels, names=['21' + folders[i] + 'tuned_bm25', '21'+ folders[i] + '_bm25'],\n"
     ]
    },
    {
     "name": "stdout",
     "output_type": "stream",
     "text": [
      "\\begin{tabular}{llrrr}\n",
      "\\toprule\n",
      "{} &                                   name &  ndcg\\_cut\\_5 &  ndcg\\_cut\\_25 &     bpref \\\\\n",
      "\\midrule\n",
      "0 &  21topics\\_conclusion\\_leakagetuned\\_bm25 &    0.591699 &     0.517674 &  0.729292 \\\\\n",
      "1 &       21topics\\_conclusion\\_leakage\\_bm25 &    0.478129 &     0.453024 &  0.722275 \\\\\n",
      "\\bottomrule\n",
      "\\end{tabular}\n",
      "\n",
      "\n",
      "/mnt/ceph/storage/data-in-progress/data-teaching/theses/wstud-thesis-hollatz/DeepCT_indexes/topics_leakage/pd_index\n",
      "Fold 1\n",
      "Best ndcg_cut_5 is 0.583433\n",
      "Best setting is ['BR(BM25) c=0.15', 'BR(BM25) bm25.k_1=4.4', 'BR(BM25) bm25.k_3=2']\n",
      "Fold 2\n",
      "Best ndcg_cut_5 is 0.428185\n",
      "Best setting is ['BR(BM25) c=0.15', 'BR(BM25) bm25.k_1=4.0', 'BR(BM25) bm25.k_3=2']\n"
     ]
    },
    {
     "name": "stderr",
     "output_type": "stream",
     "text": [
      "/tmp/ipykernel_3684168/494468316.py:28: FutureWarning: In future versions `DataFrame.to_latex` is expected to utilise the base implementation of `Styler.to_latex` for formatting and rendering. The arguments signature may therefore change. It is recommended instead to use `DataFrame.style.to_latex` which also contains additional functionality.\n",
      "  print(pt.Experiment([tuned_bm25, bm25], topics, qrels, names=[folders[i] + '_tuned_bm25', folders[i] + '_orignal_bm25'], eval_metrics=[\"ndcg_cut_5\", \"ndcg_cut_25\", \"bpref\"]).to_latex())\n"
     ]
    },
    {
     "name": "stdout",
     "output_type": "stream",
     "text": [
      "\\begin{tabular}{llrrr}\n",
      "\\toprule\n",
      "{} &                         name &  ndcg\\_cut\\_5 &  ndcg\\_cut\\_25 &     bpref \\\\\n",
      "\\midrule\n",
      "0 &    topics\\_leakage\\_tuned\\_bm25 &    0.503645 &     0.427306 &  0.717026 \\\\\n",
      "1 &  topics\\_leakage\\_orignal\\_bm25 &    0.398625 &     0.375118 &  0.710066 \\\\\n",
      "\\bottomrule\n",
      "\\end{tabular}\n",
      "\n"
     ]
    },
    {
     "name": "stderr",
     "output_type": "stream",
     "text": [
      "/tmp/ipykernel_3684168/494468316.py:30: FutureWarning: In future versions `DataFrame.to_latex` is expected to utilise the base implementation of `Styler.to_latex` for formatting and rendering. The arguments signature may therefore change. It is recommended instead to use `DataFrame.style.to_latex` which also contains additional functionality.\n",
      "  print(pt.Experiment([tuned_bm25, bm25], topics20, qrels, names=['20' + folders[i] + 'tuned_bm25', '20' + folders[i] + '_bm25'],\n"
     ]
    },
    {
     "name": "stdout",
     "output_type": "stream",
     "text": [
      "\\begin{tabular}{llrrr}\n",
      "\\toprule\n",
      "{} &                        name &  ndcg\\_cut\\_5 &  ndcg\\_cut\\_25 &     bpref \\\\\n",
      "\\midrule\n",
      "0 &  20topics\\_leakagetuned\\_bm25 &    0.425027 &     0.349697 &  0.703001 \\\\\n",
      "1 &       20topics\\_leakage\\_bm25 &    0.319409 &     0.304263 &  0.693769 \\\\\n",
      "\\bottomrule\n",
      "\\end{tabular}\n",
      "\n"
     ]
    },
    {
     "name": "stderr",
     "output_type": "stream",
     "text": [
      "/tmp/ipykernel_3684168/494468316.py:33: FutureWarning: In future versions `DataFrame.to_latex` is expected to utilise the base implementation of `Styler.to_latex` for formatting and rendering. The arguments signature may therefore change. It is recommended instead to use `DataFrame.style.to_latex` which also contains additional functionality.\n",
      "  print(pt.Experiment([tuned_bm25, bm25], topics21, qrels, names=['21' + folders[i] + 'tuned_bm25', '21'+ folders[i] + '_bm25'],\n"
     ]
    },
    {
     "name": "stdout",
     "output_type": "stream",
     "text": [
      "\\begin{tabular}{llrrr}\n",
      "\\toprule\n",
      "{} &                        name &  ndcg\\_cut\\_5 &  ndcg\\_cut\\_25 &     bpref \\\\\n",
      "\\midrule\n",
      "0 &  21topics\\_leakagetuned\\_bm25 &    0.580691 &     0.503363 &  0.730772 \\\\\n",
      "1 &       21topics\\_leakage\\_bm25 &    0.476256 &     0.444556 &  0.726038 \\\\\n",
      "\\bottomrule\n",
      "\\end{tabular}\n",
      "\n",
      "\n",
      "/mnt/ceph/storage/data-in-progress/data-teaching/theses/wstud-thesis-hollatz/DeepCT_indexes/pools_topics_conclusionspd_index\n",
      "Fold 1\n",
      "Best ndcg_cut_5 is 0.610077\n",
      "Best setting is ['BR(BM25) c=0.15', 'BR(BM25) bm25.k_1=4.4', 'BR(BM25) bm25.k_3=2']\n",
      "Fold 2\n",
      "Best ndcg_cut_5 is 0.400264\n",
      "Best setting is ['BR(BM25) c=0.15', 'BR(BM25) bm25.k_1=4.4', 'BR(BM25) bm25.k_3=2']\n"
     ]
    },
    {
     "name": "stderr",
     "output_type": "stream",
     "text": [
      "/tmp/ipykernel_3684168/494468316.py:28: FutureWarning: In future versions `DataFrame.to_latex` is expected to utilise the base implementation of `Styler.to_latex` for formatting and rendering. The arguments signature may therefore change. It is recommended instead to use `DataFrame.style.to_latex` which also contains additional functionality.\n",
      "  print(pt.Experiment([tuned_bm25, bm25], topics, qrels, names=[folders[i] + '_tuned_bm25', folders[i] + '_orignal_bm25'], eval_metrics=[\"ndcg_cut_5\", \"ndcg_cut_25\", \"bpref\"]).to_latex())\n"
     ]
    },
    {
     "name": "stdout",
     "output_type": "stream",
     "text": [
      "\\begin{tabular}{llrrr}\n",
      "\\toprule\n",
      "{} &                                  name &  ndcg\\_cut\\_5 &  ndcg\\_cut\\_25 &     bpref \\\\\n",
      "\\midrule\n",
      "0 &    pool\\_topics\\_conclusions\\_tuned\\_bm25 &    0.506230 &     0.442977 &  0.718180 \\\\\n",
      "1 &  pool\\_topics\\_conclusions\\_orignal\\_bm25 &    0.395869 &     0.376193 &  0.710128 \\\\\n",
      "\\bottomrule\n",
      "\\end{tabular}\n",
      "\n"
     ]
    },
    {
     "name": "stderr",
     "output_type": "stream",
     "text": [
      "/tmp/ipykernel_3684168/494468316.py:30: FutureWarning: In future versions `DataFrame.to_latex` is expected to utilise the base implementation of `Styler.to_latex` for formatting and rendering. The arguments signature may therefore change. It is recommended instead to use `DataFrame.style.to_latex` which also contains additional functionality.\n",
      "  print(pt.Experiment([tuned_bm25, bm25], topics20, qrels, names=['20' + folders[i] + 'tuned_bm25', '20' + folders[i] + '_bm25'],\n"
     ]
    },
    {
     "name": "stdout",
     "output_type": "stream",
     "text": [
      "\\begin{tabular}{llrrr}\n",
      "\\toprule\n",
      "{} &                                 name &  ndcg\\_cut\\_5 &  ndcg\\_cut\\_25 &     bpref \\\\\n",
      "\\midrule\n",
      "0 &  20pool\\_topics\\_conclusionstuned\\_bm25 &    0.400264 &     0.350552 &  0.697920 \\\\\n",
      "1 &       20pool\\_topics\\_conclusions\\_bm25 &    0.298354 &     0.297958 &  0.696999 \\\\\n",
      "\\bottomrule\n",
      "\\end{tabular}\n",
      "\n"
     ]
    },
    {
     "name": "stderr",
     "output_type": "stream",
     "text": [
      "/tmp/ipykernel_3684168/494468316.py:33: FutureWarning: In future versions `DataFrame.to_latex` is expected to utilise the base implementation of `Styler.to_latex` for formatting and rendering. The arguments signature may therefore change. It is recommended instead to use `DataFrame.style.to_latex` which also contains additional functionality.\n",
      "  print(pt.Experiment([tuned_bm25, bm25], topics21, qrels, names=['21' + folders[i] + 'tuned_bm25', '21'+ folders[i] + '_bm25'],\n"
     ]
    },
    {
     "name": "stdout",
     "output_type": "stream",
     "text": [
      "\\begin{tabular}{llrrr}\n",
      "\\toprule\n",
      "{} &                                 name &  ndcg\\_cut\\_5 &  ndcg\\_cut\\_25 &     bpref \\\\\n",
      "\\midrule\n",
      "0 &  21pool\\_topics\\_conclusionstuned\\_bm25 &    0.610077 &     0.533554 &  0.738035 \\\\\n",
      "1 &       21pool\\_topics\\_conclusions\\_bm25 &    0.491433 &     0.452863 &  0.722995 \\\\\n",
      "\\bottomrule\n",
      "\\end{tabular}\n",
      "\n",
      "\n",
      "/mnt/ceph/storage/data-in-progress/data-teaching/theses/wstud-thesis-hollatz/DeepCT_indexes/conclusions_leakage/pd_index\n",
      "Fold 1\n",
      "Best ndcg_cut_5 is 0.607799\n",
      "Best setting is ['BR(BM25) c=0.15', 'BR(BM25) bm25.k_1=4.4', 'BR(BM25) bm25.k_3=2']\n",
      "Fold 2\n",
      "Best ndcg_cut_5 is 0.408486\n",
      "Best setting is ['BR(BM25) c=0.15', 'BR(BM25) bm25.k_1=4.4', 'BR(BM25) bm25.k_3=2']\n"
     ]
    },
    {
     "name": "stderr",
     "output_type": "stream",
     "text": [
      "/tmp/ipykernel_3684168/494468316.py:28: FutureWarning: In future versions `DataFrame.to_latex` is expected to utilise the base implementation of `Styler.to_latex` for formatting and rendering. The arguments signature may therefore change. It is recommended instead to use `DataFrame.style.to_latex` which also contains additional functionality.\n",
      "  print(pt.Experiment([tuned_bm25, bm25], topics, qrels, names=[folders[i] + '_tuned_bm25', folders[i] + '_orignal_bm25'], eval_metrics=[\"ndcg_cut_5\", \"ndcg_cut_25\", \"bpref\"]).to_latex())\n"
     ]
    },
    {
     "name": "stdout",
     "output_type": "stream",
     "text": [
      "\\begin{tabular}{llrrr}\n",
      "\\toprule\n",
      "{} &                              name &  ndcg\\_cut\\_5 &  ndcg\\_cut\\_25 &     bpref \\\\\n",
      "\\midrule\n",
      "0 &    conclusions\\_leakage\\_tuned\\_bm25 &    0.509149 &     0.437241 &  0.718364 \\\\\n",
      "1 &  conclusions\\_leakage\\_orignal\\_bm25 &    0.410775 &     0.379499 &  0.710769 \\\\\n",
      "\\bottomrule\n",
      "\\end{tabular}\n",
      "\n"
     ]
    },
    {
     "name": "stderr",
     "output_type": "stream",
     "text": [
      "/tmp/ipykernel_3684168/494468316.py:30: FutureWarning: In future versions `DataFrame.to_latex` is expected to utilise the base implementation of `Styler.to_latex` for formatting and rendering. The arguments signature may therefore change. It is recommended instead to use `DataFrame.style.to_latex` which also contains additional functionality.\n",
      "  print(pt.Experiment([tuned_bm25, bm25], topics20, qrels, names=['20' + folders[i] + 'tuned_bm25', '20' + folders[i] + '_bm25'],\n"
     ]
    },
    {
     "name": "stdout",
     "output_type": "stream",
     "text": [
      "\\begin{tabular}{llrrr}\n",
      "\\toprule\n",
      "{} &                             name &  ndcg\\_cut\\_5 &  ndcg\\_cut\\_25 &     bpref \\\\\n",
      "\\midrule\n",
      "0 &  20conclusions\\_leakagetuned\\_bm25 &    0.408486 &     0.356986 &  0.704273 \\\\\n",
      "1 &       20conclusions\\_leakage\\_bm25 &    0.302395 &     0.303155 &  0.696800 \\\\\n",
      "\\bottomrule\n",
      "\\end{tabular}\n",
      "\n"
     ]
    },
    {
     "name": "stderr",
     "output_type": "stream",
     "text": [
      "/tmp/ipykernel_3684168/494468316.py:33: FutureWarning: In future versions `DataFrame.to_latex` is expected to utilise the base implementation of `Styler.to_latex` for formatting and rendering. The arguments signature may therefore change. It is recommended instead to use `DataFrame.style.to_latex` which also contains additional functionality.\n",
      "  print(pt.Experiment([tuned_bm25, bm25], topics21, qrels, names=['21' + folders[i] + 'tuned_bm25', '21'+ folders[i] + '_bm25'],\n"
     ]
    },
    {
     "name": "stdout",
     "output_type": "stream",
     "text": [
      "\\begin{tabular}{llrrr}\n",
      "\\toprule\n",
      "{} &                             name &  ndcg\\_cut\\_5 &  ndcg\\_cut\\_25 &     bpref \\\\\n",
      "\\midrule\n",
      "0 &  21conclusions\\_leakagetuned\\_bm25 &    0.607799 &     0.515891 &  0.732173 \\\\\n",
      "1 &       21conclusions\\_leakage\\_bm25 &    0.516987 &     0.454317 &  0.724458 \\\\\n",
      "\\bottomrule\n",
      "\\end{tabular}\n",
      "\n",
      "\n",
      "/mnt/ceph/storage/data-in-progress/data-teaching/theses/wstud-thesis-hollatz/DeepCT_indexes/pools_conclusionspd_index\n",
      "Fold 1\n",
      "Best ndcg_cut_5 is 0.593132\n",
      "Best setting is ['BR(BM25) c=0.15', 'BR(BM25) bm25.k_1=4.4', 'BR(BM25) bm25.k_3=2']\n",
      "Fold 2\n",
      "Best ndcg_cut_5 is 0.377257\n",
      "Best setting is ['BR(BM25) c=0.15', 'BR(BM25) bm25.k_1=4.0', 'BR(BM25) bm25.k_3=5']\n"
     ]
    },
    {
     "name": "stderr",
     "output_type": "stream",
     "text": [
      "/tmp/ipykernel_3684168/494468316.py:28: FutureWarning: In future versions `DataFrame.to_latex` is expected to utilise the base implementation of `Styler.to_latex` for formatting and rendering. The arguments signature may therefore change. It is recommended instead to use `DataFrame.style.to_latex` which also contains additional functionality.\n",
      "  print(pt.Experiment([tuned_bm25, bm25], topics, qrels, names=[folders[i] + '_tuned_bm25', folders[i] + '_orignal_bm25'], eval_metrics=[\"ndcg_cut_5\", \"ndcg_cut_25\", \"bpref\"]).to_latex())\n"
     ]
    },
    {
     "name": "stdout",
     "output_type": "stream",
     "text": [
      "\\begin{tabular}{llrrr}\n",
      "\\toprule\n",
      "{} &                            name &  ndcg\\_cut\\_5 &  ndcg\\_cut\\_25 &     bpref \\\\\n",
      "\\midrule\n",
      "0 &    pools\\_conclusions\\_tuned\\_bm25 &    0.486016 &     0.433605 &  0.715633 \\\\\n",
      "1 &  pools\\_conclusions\\_orignal\\_bm25 &    0.396597 &     0.372488 &  0.708422 \\\\\n",
      "\\bottomrule\n",
      "\\end{tabular}\n",
      "\n"
     ]
    },
    {
     "name": "stderr",
     "output_type": "stream",
     "text": [
      "/tmp/ipykernel_3684168/494468316.py:30: FutureWarning: In future versions `DataFrame.to_latex` is expected to utilise the base implementation of `Styler.to_latex` for formatting and rendering. The arguments signature may therefore change. It is recommended instead to use `DataFrame.style.to_latex` which also contains additional functionality.\n",
      "  print(pt.Experiment([tuned_bm25, bm25], topics20, qrels, names=['20' + folders[i] + 'tuned_bm25', '20' + folders[i] + '_bm25'],\n"
     ]
    },
    {
     "name": "stdout",
     "output_type": "stream",
     "text": [
      "\\begin{tabular}{llrrr}\n",
      "\\toprule\n",
      "{} &                           name &  ndcg\\_cut\\_5 &  ndcg\\_cut\\_25 &     bpref \\\\\n",
      "\\midrule\n",
      "0 &  20pools\\_conclusionstuned\\_bm25 &    0.377257 &     0.345495 &  0.703909 \\\\\n",
      "1 &       20pools\\_conclusions\\_bm25 &    0.294971 &     0.298600 &  0.698183 \\\\\n",
      "\\bottomrule\n",
      "\\end{tabular}\n",
      "\n"
     ]
    },
    {
     "name": "stderr",
     "output_type": "stream",
     "text": [
      "/tmp/ipykernel_3684168/494468316.py:33: FutureWarning: In future versions `DataFrame.to_latex` is expected to utilise the base implementation of `Styler.to_latex` for formatting and rendering. The arguments signature may therefore change. It is recommended instead to use `DataFrame.style.to_latex` which also contains additional functionality.\n",
      "  print(pt.Experiment([tuned_bm25, bm25], topics21, qrels, names=['21' + folders[i] + 'tuned_bm25', '21'+ folders[i] + '_bm25'],\n"
     ]
    },
    {
     "name": "stdout",
     "output_type": "stream",
     "text": [
      "\\begin{tabular}{llrrr}\n",
      "\\toprule\n",
      "{} &                           name &  ndcg\\_cut\\_5 &  ndcg\\_cut\\_25 &     bpref \\\\\n",
      "\\midrule\n",
      "0 &  21pools\\_conclusionstuned\\_bm25 &    0.592600 &     0.519952 &  0.727122 \\\\\n",
      "1 &       21pools\\_conclusions\\_bm25 &    0.496191 &     0.444897 &  0.718457 \\\\\n",
      "\\bottomrule\n",
      "\\end{tabular}\n",
      "\n"
     ]
    }
   ],
   "source": [
    "'''\n",
    "Example of simple tuning bm25 and its not saving to the folder \n",
    "'''\n",
    "\n",
    "import os\n",
    "rootdir = \"/mnt/ceph/storage/data-in-progress/data-teaching/theses/wstud-thesis-hollatz/DeepCT_indexes/\"\n",
    "folders = ['conclusions','pool_topics','topics','topics_conclusion','topics_conclusion_leakage','topics_leakage','pool_topics_conclusions','conclusions_leakage','pools_conclusions']\n",
    "metrics=\"ndcg_cut_5\"\n",
    "i = 0\n",
    "for subdir, dirs, files in os.walk(rootdir):\n",
    "    for file in files:\n",
    "        if(file == 'data.properties'):\n",
    "            path = subdir + '/'+ file\n",
    "            print('\\n' + subdir)\n",
    "            indexref = pt.IndexRef.of(path)\n",
    "            index = pt.IndexFactory.of(indexref)\n",
    "            bm25 = pt.BatchRetrieve(index, wmodel=\"BM25\", controls={\"c\" : 0.75, \"bm25.k_1\": 1.2, \"bm25.k_3\": 8})\n",
    "            tuned_bm25, _ = pt.KFoldGridSearch(\n",
    "                bm25,\n",
    "                {bm25: {\"c\" : [0.15, 0.35, 0.55, 0.75],\n",
    "                \"bm25.k_1\": [0.6, 1.2, 1.6, 2.2, 2.8, 3.4, 4.0, 4.4],\n",
    "                \"bm25.k_3\": [2, 5, 8, 10]\n",
    "                }},\n",
    "                [topics20, topics21],\n",
    "                [qrels20, qrels21],\n",
    "                metrics\n",
    "            )\n",
    "            print(pt.Experiment([tuned_bm25, bm25], topics, qrels, names=[folders[i] + '_tuned_bm25', folders[i] + '_orignal_bm25'], eval_metrics=[\"ndcg_cut_5\", \"ndcg_cut_25\", \"bpref\"]).to_latex())\n",
    "            \n",
    "            print(pt.Experiment([tuned_bm25, bm25], topics20, qrels, names=['20' + folders[i] + 'tuned_bm25', '20' + folders[i] + '_bm25'], \n",
    "                eval_metrics=[\"ndcg_cut_5\", \"ndcg_cut_25\", \"bpref\"]).to_latex())\n",
    "            \n",
    "            print(pt.Experiment([tuned_bm25, bm25], topics21, qrels, names=['21' + folders[i] + 'tuned_bm25', '21'+ folders[i] + '_bm25'], \n",
    "                eval_metrics=[\"ndcg_cut_5\", \"ndcg_cut_25\", \"bpref\"]).to_latex())\n",
    "            tuned_bm25.to_csv(path_or_buf=f\"/workspace/src/grid_search_right_qrels/final_right/run/{folders[i]}_tuned_bm25.csv\")\n",
    "#             tuned_bm25.to_csv(path_or_buf=f\"/workspace/src/runs_bm25/{folders[i]}_tuned_bm25.csv\")\n",
    "            i += 1\n",
    "            "
   ]
  },
  {
   "cell_type": "code",
   "execution_count": 8,
   "id": "f64ba72b",
   "metadata": {},
   "outputs": [
    {
     "name": "stdout",
     "output_type": "stream",
     "text": [
      "\n",
      "/workspace/src/grid_search_right_qrels/super_folder/\n",
      "Fold 1\n",
      "Best ndcg_cut_5 is 0.460400\n",
      "Best setting is ['BR(BM25) c=0.15', 'BR(BM25) bm25.k_1=3.4', 'BR(BM25) bm25.k_3=2']\n",
      "Fold 2\n",
      "Best ndcg_cut_5 is 0.278232\n",
      "Best setting is ['BR(BM25) c=0.75', 'BR(BM25) bm25.k_1=0.6', 'BR(BM25) bm25.k_3=2']\n"
     ]
    },
    {
     "name": "stderr",
     "output_type": "stream",
     "text": [
      "/tmp/ipykernel_3684168/3015958913.py:28: FutureWarning: In future versions `DataFrame.to_latex` is expected to utilise the base implementation of `Styler.to_latex` for formatting and rendering. The arguments signature may therefore change. It is recommended instead to use `DataFrame.style.to_latex` which also contains additional functionality.\n",
      "  print(pt.Experiment([tuned_bm25, bm25], topics, qrels, names=[folders[i] + '_tuned_bm25', folders[i] + '_orignal_bm25'], eval_metrics=[\"ndcg_cut_5\", \"ndcg_cut_25\", \"bpref\"]).to_latex())\n"
     ]
    },
    {
     "name": "stdout",
     "output_type": "stream",
     "text": [
      "\\begin{tabular}{llrrr}\n",
      "\\toprule\n",
      "{} &                           name &  ndcg\\_cut\\_5 &  ndcg\\_cut\\_25 &     bpref \\\\\n",
      "\\midrule\n",
      "0 &    marco-pretrained\\_tuned\\_bm25 &    0.329196 &     0.304758 &  0.622564 \\\\\n",
      "1 &  marco-pretrained\\_orignal\\_bm25 &    0.335913 &     0.305915 &  0.620544 \\\\\n",
      "\\bottomrule\n",
      "\\end{tabular}\n",
      "\n"
     ]
    },
    {
     "name": "stderr",
     "output_type": "stream",
     "text": [
      "/tmp/ipykernel_3684168/3015958913.py:30: FutureWarning: In future versions `DataFrame.to_latex` is expected to utilise the base implementation of `Styler.to_latex` for formatting and rendering. The arguments signature may therefore change. It is recommended instead to use `DataFrame.style.to_latex` which also contains additional functionality.\n",
      "  print(pt.Experiment([tuned_bm25, bm25], topics20, qrels, names=['20' + folders[i] + 'tuned_bm25', '20' + folders[i] + '_bm25'],\n"
     ]
    },
    {
     "name": "stdout",
     "output_type": "stream",
     "text": [
      "\\begin{tabular}{llrrr}\n",
      "\\toprule\n",
      "{} &                          name &  ndcg\\_cut\\_5 &  ndcg\\_cut\\_25 &     bpref \\\\\n",
      "\\midrule\n",
      "0 &  20marco-pretrainedtuned\\_bm25 &    0.257784 &     0.261112 &  0.621228 \\\\\n",
      "1 &       20marco-pretrained\\_bm25 &    0.272867 &     0.259365 &  0.618440 \\\\\n",
      "\\bottomrule\n",
      "\\end{tabular}\n",
      "\n"
     ]
    },
    {
     "name": "stderr",
     "output_type": "stream",
     "text": [
      "/tmp/ipykernel_3684168/3015958913.py:33: FutureWarning: In future versions `DataFrame.to_latex` is expected to utilise the base implementation of `Styler.to_latex` for formatting and rendering. The arguments signature may therefore change. It is recommended instead to use `DataFrame.style.to_latex` which also contains additional functionality.\n",
      "  print(pt.Experiment([tuned_bm25, bm25], topics21, qrels, names=['21' + folders[i] + 'tuned_bm25', '21'+ folders[i] + '_bm25'],\n"
     ]
    },
    {
     "name": "stdout",
     "output_type": "stream",
     "text": [
      "\\begin{tabular}{llrrr}\n",
      "\\toprule\n",
      "{} &                          name &  ndcg\\_cut\\_5 &  ndcg\\_cut\\_25 &     bpref \\\\\n",
      "\\midrule\n",
      "0 &  21marco-pretrainedtuned\\_bm25 &    0.399179 &     0.347531 &  0.623873 \\\\\n",
      "1 &       21marco-pretrained\\_bm25 &    0.397697 &     0.351533 &  0.622606 \\\\\n",
      "\\bottomrule\n",
      "\\end{tabular}\n",
      "\n"
     ]
    }
   ],
   "source": [
    "'''\n",
    "Example of simple tuning bm25 and its not saving to the folder \n",
    "'''\n",
    "\n",
    "import os\n",
    "rootdir = \"/workspace/src/grid_search_right_qrels/super_folder/\"\n",
    "folders = ['marco-pretrained']\n",
    "metrics=\"ndcg_cut_5\"\n",
    "i = 0\n",
    "for subdir, dirs, files in os.walk(rootdir):\n",
    "    for file in files:\n",
    "        if(file == 'data.properties'):\n",
    "            path = subdir + '/'+ file\n",
    "            print('\\n' + subdir)\n",
    "            indexref = pt.IndexRef.of(path)\n",
    "            index = pt.IndexFactory.of(indexref)\n",
    "            bm25 = pt.BatchRetrieve(index, wmodel=\"BM25\", controls={\"c\" : 0.75, \"bm25.k_1\": 1.2, \"bm25.k_3\": 8})\n",
    "            tuned_bm25, _ = pt.KFoldGridSearch(\n",
    "                bm25,\n",
    "                {bm25: {\"c\" : [0.15, 0.35, 0.55, 0.75],\n",
    "                \"bm25.k_1\": [0.6, 1.2, 1.6, 2.2, 2.8, 3.4, 4.0, 4.4],\n",
    "                \"bm25.k_3\": [2, 5, 8, 10]\n",
    "                }},\n",
    "                [topics20, topics21],\n",
    "                [qrels20, qrels21],\n",
    "                metrics\n",
    "            )\n",
    "            print(pt.Experiment([tuned_bm25, bm25], topics, qrels, names=[folders[i] + '_tuned_bm25', folders[i] + '_orignal_bm25'], eval_metrics=[\"ndcg_cut_5\", \"ndcg_cut_25\", \"bpref\"]).to_latex())\n",
    "            \n",
    "            print(pt.Experiment([tuned_bm25, bm25], topics20, qrels, names=['20' + folders[i] + 'tuned_bm25', '20' + folders[i] + '_bm25'], \n",
    "                eval_metrics=[\"ndcg_cut_5\", \"ndcg_cut_25\", \"bpref\"]).to_latex())\n",
    "            \n",
    "            print(pt.Experiment([tuned_bm25, bm25], topics21, qrels, names=['21' + folders[i] + 'tuned_bm25', '21'+ folders[i] + '_bm25'], \n",
    "                eval_metrics=[\"ndcg_cut_5\", \"ndcg_cut_25\", \"bpref\"]).to_latex())\n",
    "            tuned_bm25.to_csv(path_or_buf=f\"/workspace/src/grid_search_right_qrels/final_right/run/{folders[i]}_tuned_bm25.csv\")\n",
    "#             tuned_bm25.to_csv(path_or_buf=f\"/workspace/src/runs_bm25/{folders[i]}_tuned_bm25.csv\")\n",
    "            i += 1\n",
    "            "
   ]
  }
 ],
 "metadata": {
  "kernelspec": {
   "display_name": "Python 3 (ipykernel)",
   "language": "python",
   "name": "python3"
  },
  "language_info": {
   "codemirror_mode": {
    "name": "ipython",
    "version": 3
   },
   "file_extension": ".py",
   "mimetype": "text/x-python",
   "name": "python",
   "nbconvert_exporter": "python",
   "pygments_lexer": "ipython3",
   "version": "3.9.10"
  }
 },
 "nbformat": 4,
 "nbformat_minor": 5
}
