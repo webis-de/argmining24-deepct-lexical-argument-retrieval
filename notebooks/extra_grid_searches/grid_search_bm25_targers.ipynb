{
 "cells": [
  {
   "cell_type": "code",
   "execution_count": 1,
   "id": "c6873d77",
   "metadata": {},
   "outputs": [
    {
     "name": "stderr",
     "output_type": "stream",
     "text": [
      "PyTerrier 0.8.1 has loaded Terrier 5.6 (built by craigmacdonald on 2021-09-17 13:27)\n",
      "\n",
      "No etc/terrier.properties, using terrier.default.properties for bootstrap configuration.\n"
     ]
    }
   ],
   "source": [
    "import pandas as pd\n",
    "import numpy as np\n",
    "# import pyterrier_deepct\n",
    "import pyterrier as pt\n",
    "if not pt.started():\n",
    "  pt.init(boot_packages=[\"com.github.terrierteam:terrier-prf:-SNAPSHOT\"])\n",
    "\n",
    "from xml.etree import ElementTree\n",
    "tree = ElementTree.parse('/workspace/src/evaluate_targers/topics2020.xml')\n",
    "data = tree.getroot()\n",
    "titles20 = []\n",
    "titles21 = []\n",
    "title_ids20 = []\n",
    "title_ids21 = []\n",
    "nums20 = []\n",
    "nums21 = []\n",
    "for topic in data:\n",
    "    titles20.append(topic.find('title').text.lower()[:-1])\n",
    "    num20 = topic.find('number').text\n",
    "    nums20.append(num20)\n",
    "tree = ElementTree.parse('/workspace/src/evaluate_targers/topics.xml')\n",
    "data = tree.getroot()    \n",
    "for topic in data:\n",
    "    titles21.append(topic.find('title').text.lower()[:-1])\n",
    "    num21 = topic.find('number').text\n",
    "    nums21.append(num21)\n",
    "topics = pd.DataFrame()\n",
    "topics['qid'] = nums20 + nums21\n",
    "topics['query'] = titles20 + titles21\n",
    "\n",
    "topics21 = pd.DataFrame()\n",
    "topics21['qid'] = nums21\n",
    "topics21['query'] = titles21\n",
    "\n",
    "topics20 = pd.DataFrame()\n",
    "topics20['qid'] = nums20\n",
    "topics20['query'] = titles20\n",
    "\n",
    "qrels_path=(\"/workspace/src/evaluate_targers/all_qrels.qrels\")\n",
    "qrels = pt.io.read_qrels(qrels_path)\n",
    "\n",
    "qrels21_path=(\"/workspace/src/evaluate_targers/qrels2021.qrels\")\n",
    "qrels21 = pt.io.read_qrels(qrels21_path)\n",
    "\n",
    "qrels20_path=(\"/workspace/src/evaluate_targers/qrels2020.qrels\")\n",
    "qrels20 = pt.io.read_qrels(qrels20_path)\n",
    "\n",
    "docnos = qrels.docno\n",
    "docnos21 = qrels21.docno\n",
    "docnos20 = qrels20.docno"
   ]
  },
  {
   "cell_type": "code",
   "execution_count": 2,
   "id": "b2e21ac8",
   "metadata": {
    "scrolled": true
   },
   "outputs": [
    {
     "name": "stdout",
     "output_type": "stream",
     "text": [
      "/mnt/ceph/storage/data-in-progress/data-teaching/theses/wstud-thesis-hollatz/targer_indexes/pd_index_webd-dependency-100/data.properties\n",
      "Fold 1\n",
      "Best ndcg_cut_5 is 0.374316\n",
      "Best setting is ['BR(BM25) c=0.15', 'BR(BM25) bm25.k_1=1.2', 'BR(BM25) bm25.k_3=2']\n",
      "Fold 2\n",
      "Best ndcg_cut_5 is 0.263423\n",
      "Best setting is ['BR(BM25) c=0.15', 'BR(BM25) bm25.k_1=1.6', 'BR(BM25) bm25.k_3=2']\n"
     ]
    },
    {
     "name": "stderr",
     "output_type": "stream",
     "text": [
      "/tmp/ipykernel_3684173/4231427746.py:32: FutureWarning: In future versions `DataFrame.to_latex` is expected to utilise the base implementation of `Styler.to_latex` for formatting and rendering. The arguments signature may therefore change. It is recommended instead to use `DataFrame.style.to_latex` which also contains additional functionality.\n",
      "  print(pt.Experiment([tuned_bm25], topics, qrels, names=[folders[i] + '_tuned_bm25_'], eval_metrics=[\"ndcg_cut_5\", \"ndcg_cut_25\", \"bpref\"]).to_latex())\n"
     ]
    },
    {
     "name": "stdout",
     "output_type": "stream",
     "text": [
      "\\begin{tabular}{llrrr}\n",
      "\\toprule\n",
      "{} &                         name &  ndcg\\_cut\\_5 &  ndcg\\_cut\\_25 &     bpref \\\\\n",
      "\\midrule\n",
      "0 &  webd-dependency\\_tuned\\_bm25\\_ &    0.314561 &     0.250217 &  0.423577 \\\\\n",
      "\\bottomrule\n",
      "\\end{tabular}\n",
      "\n"
     ]
    },
    {
     "name": "stderr",
     "output_type": "stream",
     "text": [
      "/tmp/ipykernel_3684173/4231427746.py:33: FutureWarning: In future versions `DataFrame.to_latex` is expected to utilise the base implementation of `Styler.to_latex` for formatting and rendering. The arguments signature may therefore change. It is recommended instead to use `DataFrame.style.to_latex` which also contains additional functionality.\n",
      "  print(pt.Experiment([tuned_bm25], topics20, qrels, names=[folders[i] + '_tuned_bm25_20'], eval_metrics=[\"ndcg_cut_5\", \"ndcg_cut_25\", \"bpref\"]).to_latex())\n"
     ]
    },
    {
     "name": "stdout",
     "output_type": "stream",
     "text": [
      "\\begin{tabular}{llrrr}\n",
      "\\toprule\n",
      "{} &                           name &  ndcg\\_cut\\_5 &  ndcg\\_cut\\_25 &     bpref \\\\\n",
      "\\midrule\n",
      "0 &  webd-dependency\\_tuned\\_bm25\\_20 &     0.25835 &     0.224005 &  0.473815 \\\\\n",
      "\\bottomrule\n",
      "\\end{tabular}\n",
      "\n"
     ]
    },
    {
     "name": "stderr",
     "output_type": "stream",
     "text": [
      "/tmp/ipykernel_3684173/4231427746.py:34: FutureWarning: In future versions `DataFrame.to_latex` is expected to utilise the base implementation of `Styler.to_latex` for formatting and rendering. The arguments signature may therefore change. It is recommended instead to use `DataFrame.style.to_latex` which also contains additional functionality.\n",
      "  print(pt.Experiment([tuned_bm25], topics21, qrels, names=[folders[i] + '_tuned_bm25_21'], eval_metrics=[\"ndcg_cut_5\", \"ndcg_cut_25\", \"bpref\"]).to_latex())\n",
      "/tmp/ipykernel_3684173/4231427746.py:36: FutureWarning: In future versions `DataFrame.to_latex` is expected to utilise the base implementation of `Styler.to_latex` for formatting and rendering. The arguments signature may therefore change. It is recommended instead to use `DataFrame.style.to_latex` which also contains additional functionality.\n",
      "  print(pt.Experiment([tuned_bm25[tuned_bm25['docno'].isin(docnos)]], topics, qrels, names=[folders[i] + '_tuned_bm25__unjudged'], eval_metrics=[\"ndcg_cut_5\", \"ndcg_cut_25\", \"bpref\"]).to_latex())\n",
      "/tmp/ipykernel_3684173/4231427746.py:37: FutureWarning: In future versions `DataFrame.to_latex` is expected to utilise the base implementation of `Styler.to_latex` for formatting and rendering. The arguments signature may therefore change. It is recommended instead to use `DataFrame.style.to_latex` which also contains additional functionality.\n",
      "  print(pt.Experiment([tuned_bm25[tuned_bm25['docno'].isin(docnos20)]], topics20, qrels, names=[folders[i] + '_tuned_bm25__unjudged20'], eval_metrics=[\"ndcg_cut_5\", \"ndcg_cut_25\", \"bpref\"]).to_latex())\n",
      "/tmp/ipykernel_3684173/4231427746.py:38: FutureWarning: In future versions `DataFrame.to_latex` is expected to utilise the base implementation of `Styler.to_latex` for formatting and rendering. The arguments signature may therefore change. It is recommended instead to use `DataFrame.style.to_latex` which also contains additional functionality.\n",
      "  print(pt.Experiment([tuned_bm25[tuned_bm25['docno'].isin(docnos21)]], topics21, qrels, names=[folders[i] + '_tuned_bm25__unjudged21'], eval_metrics=[\"ndcg_cut_5\", \"ndcg_cut_25\", \"bpref\"]).to_latex())\n"
     ]
    },
    {
     "name": "stdout",
     "output_type": "stream",
     "text": [
      "\\begin{tabular}{llrrr}\n",
      "\\toprule\n",
      "{} &                           name &  ndcg\\_cut\\_5 &  ndcg\\_cut\\_25 &     bpref \\\\\n",
      "\\midrule\n",
      "0 &  webd-dependency\\_tuned\\_bm25\\_21 &    0.369648 &     0.275904 &  0.374344 \\\\\n",
      "\\bottomrule\n",
      "\\end{tabular}\n",
      "\n",
      "\\begin{tabular}{llrrr}\n",
      "\\toprule\n",
      "{} &                                  name &  ndcg\\_cut\\_5 &  ndcg\\_cut\\_25 &     bpref \\\\\n",
      "\\midrule\n",
      "0 &  webd-dependency\\_tuned\\_bm25\\_\\_unjudged &    0.610643 &     0.505118 &  0.423577 \\\\\n",
      "\\bottomrule\n",
      "\\end{tabular}\n",
      "\n",
      "\\begin{tabular}{llrrr}\n",
      "\\toprule\n",
      "{} &                                    name &  ndcg\\_cut\\_5 &  ndcg\\_cut\\_25 &     bpref \\\\\n",
      "\\midrule\n",
      "0 &  webd-dependency\\_tuned\\_bm25\\_\\_unjudged20 &     0.72369 &     0.576856 &  0.473815 \\\\\n",
      "\\bottomrule\n",
      "\\end{tabular}\n",
      "\n",
      "\\begin{tabular}{llrrr}\n",
      "\\toprule\n",
      "{} &                                    name &  ndcg\\_cut\\_5 &  ndcg\\_cut\\_25 &     bpref \\\\\n",
      "\\midrule\n",
      "0 &  webd-dependency\\_tuned\\_bm25\\_\\_unjudged21 &    0.557445 &      0.49741 &  0.374344 \\\\\n",
      "\\bottomrule\n",
      "\\end{tabular}\n",
      "\n",
      "/mnt/ceph/storage/data-in-progress/data-teaching/theses/wstud-thesis-hollatz/targer_indexes/pd_index_combined-fasttext-100/data.properties\n",
      "Fold 1\n",
      "Best ndcg_cut_5 is 0.664731\n",
      "Best setting is ['BR(BM25) c=0.35', 'BR(BM25) bm25.k_1=1.6', 'BR(BM25) bm25.k_3=2']\n",
      "Fold 2\n",
      "Best ndcg_cut_5 is 0.471424\n",
      "Best setting is ['BR(BM25) c=0.15', 'BR(BM25) bm25.k_1=1.6', 'BR(BM25) bm25.k_3=8']\n"
     ]
    },
    {
     "name": "stderr",
     "output_type": "stream",
     "text": [
      "/tmp/ipykernel_3684173/4231427746.py:32: FutureWarning: In future versions `DataFrame.to_latex` is expected to utilise the base implementation of `Styler.to_latex` for formatting and rendering. The arguments signature may therefore change. It is recommended instead to use `DataFrame.style.to_latex` which also contains additional functionality.\n",
      "  print(pt.Experiment([tuned_bm25], topics, qrels, names=[folders[i] + '_tuned_bm25_'], eval_metrics=[\"ndcg_cut_5\", \"ndcg_cut_25\", \"bpref\"]).to_latex())\n"
     ]
    },
    {
     "name": "stdout",
     "output_type": "stream",
     "text": [
      "\\begin{tabular}{llrrr}\n",
      "\\toprule\n",
      "{} &                           name &  ndcg\\_cut\\_5 &  ndcg\\_cut\\_25 &     bpref \\\\\n",
      "\\midrule\n",
      "0 &  combined-fasttext\\_tuned\\_bm25\\_ &    0.518082 &     0.427993 &  0.603578 \\\\\n",
      "\\bottomrule\n",
      "\\end{tabular}\n",
      "\n"
     ]
    },
    {
     "name": "stderr",
     "output_type": "stream",
     "text": [
      "/tmp/ipykernel_3684173/4231427746.py:33: FutureWarning: In future versions `DataFrame.to_latex` is expected to utilise the base implementation of `Styler.to_latex` for formatting and rendering. The arguments signature may therefore change. It is recommended instead to use `DataFrame.style.to_latex` which also contains additional functionality.\n",
      "  print(pt.Experiment([tuned_bm25], topics20, qrels, names=[folders[i] + '_tuned_bm25_20'], eval_metrics=[\"ndcg_cut_5\", \"ndcg_cut_25\", \"bpref\"]).to_latex())\n"
     ]
    },
    {
     "name": "stdout",
     "output_type": "stream",
     "text": [
      "\\begin{tabular}{llrrr}\n",
      "\\toprule\n",
      "{} &                             name &  ndcg\\_cut\\_5 &  ndcg\\_cut\\_25 &     bpref \\\\\n",
      "\\midrule\n",
      "0 &  combined-fasttext\\_tuned\\_bm25\\_20 &    0.387705 &     0.341782 &  0.607442 \\\\\n",
      "\\bottomrule\n",
      "\\end{tabular}\n",
      "\n"
     ]
    },
    {
     "name": "stderr",
     "output_type": "stream",
     "text": [
      "/tmp/ipykernel_3684173/4231427746.py:34: FutureWarning: In future versions `DataFrame.to_latex` is expected to utilise the base implementation of `Styler.to_latex` for formatting and rendering. The arguments signature may therefore change. It is recommended instead to use `DataFrame.style.to_latex` which also contains additional functionality.\n",
      "  print(pt.Experiment([tuned_bm25], topics21, qrels, names=[folders[i] + '_tuned_bm25_21'], eval_metrics=[\"ndcg_cut_5\", \"ndcg_cut_25\", \"bpref\"]).to_latex())\n",
      "/tmp/ipykernel_3684173/4231427746.py:36: FutureWarning: In future versions `DataFrame.to_latex` is expected to utilise the base implementation of `Styler.to_latex` for formatting and rendering. The arguments signature may therefore change. It is recommended instead to use `DataFrame.style.to_latex` which also contains additional functionality.\n",
      "  print(pt.Experiment([tuned_bm25[tuned_bm25['docno'].isin(docnos)]], topics, qrels, names=[folders[i] + '_tuned_bm25__unjudged'], eval_metrics=[\"ndcg_cut_5\", \"ndcg_cut_25\", \"bpref\"]).to_latex())\n",
      "/tmp/ipykernel_3684173/4231427746.py:37: FutureWarning: In future versions `DataFrame.to_latex` is expected to utilise the base implementation of `Styler.to_latex` for formatting and rendering. The arguments signature may therefore change. It is recommended instead to use `DataFrame.style.to_latex` which also contains additional functionality.\n",
      "  print(pt.Experiment([tuned_bm25[tuned_bm25['docno'].isin(docnos20)]], topics20, qrels, names=[folders[i] + '_tuned_bm25__unjudged20'], eval_metrics=[\"ndcg_cut_5\", \"ndcg_cut_25\", \"bpref\"]).to_latex())\n"
     ]
    },
    {
     "name": "stdout",
     "output_type": "stream",
     "text": [
      "\\begin{tabular}{llrrr}\n",
      "\\toprule\n",
      "{} &                             name &  ndcg\\_cut\\_5 &  ndcg\\_cut\\_25 &     bpref \\\\\n",
      "\\midrule\n",
      "0 &  combined-fasttext\\_tuned\\_bm25\\_21 &    0.645851 &      0.51248 &  0.599791 \\\\\n",
      "\\bottomrule\n",
      "\\end{tabular}\n",
      "\n",
      "\\begin{tabular}{llrrr}\n",
      "\\toprule\n",
      "{} &                                    name &  ndcg\\_cut\\_5 &  ndcg\\_cut\\_25 &     bpref \\\\\n",
      "\\midrule\n",
      "0 &  combined-fasttext\\_tuned\\_bm25\\_\\_unjudged &    0.707362 &     0.656004 &  0.603578 \\\\\n",
      "\\bottomrule\n",
      "\\end{tabular}\n",
      "\n",
      "\\begin{tabular}{llrrr}\n",
      "\\toprule\n",
      "{} &                                      name &  ndcg\\_cut\\_5 &  ndcg\\_cut\\_25 &     bpref \\\\\n",
      "\\midrule\n",
      "0 &  combined-fasttext\\_tuned\\_bm25\\_\\_unjudged20 &    0.772236 &     0.693541 &  0.607442 \\\\\n",
      "\\bottomrule\n",
      "\\end{tabular}\n",
      "\n"
     ]
    },
    {
     "name": "stderr",
     "output_type": "stream",
     "text": [
      "/tmp/ipykernel_3684173/4231427746.py:38: FutureWarning: In future versions `DataFrame.to_latex` is expected to utilise the base implementation of `Styler.to_latex` for formatting and rendering. The arguments signature may therefore change. It is recommended instead to use `DataFrame.style.to_latex` which also contains additional functionality.\n",
      "  print(pt.Experiment([tuned_bm25[tuned_bm25['docno'].isin(docnos21)]], topics21, qrels, names=[folders[i] + '_tuned_bm25__unjudged21'], eval_metrics=[\"ndcg_cut_5\", \"ndcg_cut_25\", \"bpref\"]).to_latex())\n"
     ]
    },
    {
     "name": "stdout",
     "output_type": "stream",
     "text": [
      "\\begin{tabular}{llrrr}\n",
      "\\toprule\n",
      "{} &                                      name &  ndcg\\_cut\\_5 &  ndcg\\_cut\\_25 &     bpref \\\\\n",
      "\\midrule\n",
      "0 &  combined-fasttext\\_tuned\\_bm25\\_\\_unjudged21 &    0.684018 &     0.662666 &  0.599791 \\\\\n",
      "\\bottomrule\n",
      "\\end{tabular}\n",
      "\n",
      "/mnt/ceph/storage/data-in-progress/data-teaching/theses/wstud-thesis-hollatz/targer_indexes/pd_index_essays-dependency-100/data.properties\n",
      "Fold 1\n",
      "Best ndcg_cut_5 is 0.621656\n",
      "Best setting is ['BR(BM25) c=0.15', 'BR(BM25) bm25.k_1=2.8', 'BR(BM25) bm25.k_3=2']\n",
      "Fold 2\n",
      "Best ndcg_cut_5 is 0.452947\n",
      "Best setting is ['BR(BM25) c=0.15', 'BR(BM25) bm25.k_1=2.8', 'BR(BM25) bm25.k_3=2']\n"
     ]
    },
    {
     "name": "stderr",
     "output_type": "stream",
     "text": [
      "/tmp/ipykernel_3684173/4231427746.py:32: FutureWarning: In future versions `DataFrame.to_latex` is expected to utilise the base implementation of `Styler.to_latex` for formatting and rendering. The arguments signature may therefore change. It is recommended instead to use `DataFrame.style.to_latex` which also contains additional functionality.\n",
      "  print(pt.Experiment([tuned_bm25], topics, qrels, names=[folders[i] + '_tuned_bm25_'], eval_metrics=[\"ndcg_cut_5\", \"ndcg_cut_25\", \"bpref\"]).to_latex())\n"
     ]
    },
    {
     "name": "stdout",
     "output_type": "stream",
     "text": [
      "\\begin{tabular}{llrrr}\n",
      "\\toprule\n",
      "{} &                           name &  ndcg\\_cut\\_5 &  ndcg\\_cut\\_25 &     bpref \\\\\n",
      "\\midrule\n",
      "0 &  essays-dependency\\_tuned\\_bm25\\_ &    0.538154 &     0.409545 &  0.567963 \\\\\n",
      "\\bottomrule\n",
      "\\end{tabular}\n",
      "\n"
     ]
    },
    {
     "name": "stderr",
     "output_type": "stream",
     "text": [
      "/tmp/ipykernel_3684173/4231427746.py:33: FutureWarning: In future versions `DataFrame.to_latex` is expected to utilise the base implementation of `Styler.to_latex` for formatting and rendering. The arguments signature may therefore change. It is recommended instead to use `DataFrame.style.to_latex` which also contains additional functionality.\n",
      "  print(pt.Experiment([tuned_bm25], topics20, qrels, names=[folders[i] + '_tuned_bm25_20'], eval_metrics=[\"ndcg_cut_5\", \"ndcg_cut_25\", \"bpref\"]).to_latex())\n"
     ]
    },
    {
     "name": "stdout",
     "output_type": "stream",
     "text": [
      "\\begin{tabular}{llrrr}\n",
      "\\toprule\n",
      "{} &                             name &  ndcg\\_cut\\_5 &  ndcg\\_cut\\_25 &    bpref \\\\\n",
      "\\midrule\n",
      "0 &  essays-dependency\\_tuned\\_bm25\\_20 &    0.452947 &       0.3365 &  0.55189 \\\\\n",
      "\\bottomrule\n",
      "\\end{tabular}\n",
      "\n"
     ]
    },
    {
     "name": "stderr",
     "output_type": "stream",
     "text": [
      "/tmp/ipykernel_3684173/4231427746.py:34: FutureWarning: In future versions `DataFrame.to_latex` is expected to utilise the base implementation of `Styler.to_latex` for formatting and rendering. The arguments signature may therefore change. It is recommended instead to use `DataFrame.style.to_latex` which also contains additional functionality.\n",
      "  print(pt.Experiment([tuned_bm25], topics21, qrels, names=[folders[i] + '_tuned_bm25_21'], eval_metrics=[\"ndcg_cut_5\", \"ndcg_cut_25\", \"bpref\"]).to_latex())\n",
      "/tmp/ipykernel_3684173/4231427746.py:36: FutureWarning: In future versions `DataFrame.to_latex` is expected to utilise the base implementation of `Styler.to_latex` for formatting and rendering. The arguments signature may therefore change. It is recommended instead to use `DataFrame.style.to_latex` which also contains additional functionality.\n",
      "  print(pt.Experiment([tuned_bm25[tuned_bm25['docno'].isin(docnos)]], topics, qrels, names=[folders[i] + '_tuned_bm25__unjudged'], eval_metrics=[\"ndcg_cut_5\", \"ndcg_cut_25\", \"bpref\"]).to_latex())\n",
      "/tmp/ipykernel_3684173/4231427746.py:37: FutureWarning: In future versions `DataFrame.to_latex` is expected to utilise the base implementation of `Styler.to_latex` for formatting and rendering. The arguments signature may therefore change. It is recommended instead to use `DataFrame.style.to_latex` which also contains additional functionality.\n",
      "  print(pt.Experiment([tuned_bm25[tuned_bm25['docno'].isin(docnos20)]], topics20, qrels, names=[folders[i] + '_tuned_bm25__unjudged20'], eval_metrics=[\"ndcg_cut_5\", \"ndcg_cut_25\", \"bpref\"]).to_latex())\n",
      "/tmp/ipykernel_3684173/4231427746.py:38: FutureWarning: In future versions `DataFrame.to_latex` is expected to utilise the base implementation of `Styler.to_latex` for formatting and rendering. The arguments signature may therefore change. It is recommended instead to use `DataFrame.style.to_latex` which also contains additional functionality.\n",
      "  print(pt.Experiment([tuned_bm25[tuned_bm25['docno'].isin(docnos21)]], topics21, qrels, names=[folders[i] + '_tuned_bm25__unjudged21'], eval_metrics=[\"ndcg_cut_5\", \"ndcg_cut_25\", \"bpref\"]).to_latex())\n"
     ]
    },
    {
     "name": "stdout",
     "output_type": "stream",
     "text": [
      "\\begin{tabular}{llrrr}\n",
      "\\toprule\n",
      "{} &                             name &  ndcg\\_cut\\_5 &  ndcg\\_cut\\_25 &     bpref \\\\\n",
      "\\midrule\n",
      "0 &  essays-dependency\\_tuned\\_bm25\\_21 &    0.621656 &     0.481129 &  0.583716 \\\\\n",
      "\\bottomrule\n",
      "\\end{tabular}\n",
      "\n",
      "\\begin{tabular}{llrrr}\n",
      "\\toprule\n",
      "{} &                                    name &  ndcg\\_cut\\_5 &  ndcg\\_cut\\_25 &     bpref \\\\\n",
      "\\midrule\n",
      "0 &  essays-dependency\\_tuned\\_bm25\\_\\_unjudged &    0.696707 &     0.631602 &  0.567963 \\\\\n",
      "\\bottomrule\n",
      "\\end{tabular}\n",
      "\n",
      "\\begin{tabular}{llrrr}\n",
      "\\toprule\n",
      "{} &                                      name &  ndcg\\_cut\\_5 &  ndcg\\_cut\\_25 &    bpref \\\\\n",
      "\\midrule\n",
      "0 &  essays-dependency\\_tuned\\_bm25\\_\\_unjudged20 &    0.768621 &     0.673598 &  0.55189 \\\\\n",
      "\\bottomrule\n",
      "\\end{tabular}\n",
      "\n",
      "\\begin{tabular}{llrrr}\n",
      "\\toprule\n",
      "{} &                                      name &  ndcg\\_cut\\_5 &  ndcg\\_cut\\_25 &     bpref \\\\\n",
      "\\midrule\n",
      "0 &  essays-dependency\\_tuned\\_bm25\\_\\_unjudged21 &    0.672019 &     0.652991 &  0.583716 \\\\\n",
      "\\bottomrule\n",
      "\\end{tabular}\n",
      "\n",
      "/mnt/ceph/storage/data-in-progress/data-teaching/theses/wstud-thesis-hollatz/targer_indexes/pd_index_original-100/data.properties\n",
      "Fold 1\n",
      "Best ndcg_cut_5 is 0.683724\n",
      "Best setting is ['BR(BM25) c=0.55', 'BR(BM25) bm25.k_1=2.2', 'BR(BM25) bm25.k_3=2']\n",
      "Fold 2\n",
      "Best ndcg_cut_5 is 0.526937\n",
      "Best setting is ['BR(BM25) c=0.15', 'BR(BM25) bm25.k_1=4.4', 'BR(BM25) bm25.k_3=2']\n"
     ]
    },
    {
     "name": "stderr",
     "output_type": "stream",
     "text": [
      "/tmp/ipykernel_3684173/4231427746.py:32: FutureWarning: In future versions `DataFrame.to_latex` is expected to utilise the base implementation of `Styler.to_latex` for formatting and rendering. The arguments signature may therefore change. It is recommended instead to use `DataFrame.style.to_latex` which also contains additional functionality.\n",
      "  print(pt.Experiment([tuned_bm25], topics, qrels, names=[folders[i] + '_tuned_bm25_'], eval_metrics=[\"ndcg_cut_5\", \"ndcg_cut_25\", \"bpref\"]).to_latex())\n"
     ]
    },
    {
     "name": "stdout",
     "output_type": "stream",
     "text": [
      "\\begin{tabular}{llrrr}\n",
      "\\toprule\n",
      "{} &                  name &  ndcg\\_cut\\_5 &  ndcg\\_cut\\_25 &     bpref \\\\\n",
      "\\midrule\n",
      "0 &  original\\_tuned\\_bm25\\_ &    0.519366 &     0.446745 &  0.632032 \\\\\n",
      "\\bottomrule\n",
      "\\end{tabular}\n",
      "\n"
     ]
    },
    {
     "name": "stderr",
     "output_type": "stream",
     "text": [
      "/tmp/ipykernel_3684173/4231427746.py:33: FutureWarning: In future versions `DataFrame.to_latex` is expected to utilise the base implementation of `Styler.to_latex` for formatting and rendering. The arguments signature may therefore change. It is recommended instead to use `DataFrame.style.to_latex` which also contains additional functionality.\n",
      "  print(pt.Experiment([tuned_bm25], topics20, qrels, names=[folders[i] + '_tuned_bm25_20'], eval_metrics=[\"ndcg_cut_5\", \"ndcg_cut_25\", \"bpref\"]).to_latex())\n"
     ]
    },
    {
     "name": "stdout",
     "output_type": "stream",
     "text": [
      "\\begin{tabular}{llrrr}\n",
      "\\toprule\n",
      "{} &                    name &  ndcg\\_cut\\_5 &  ndcg\\_cut\\_25 &     bpref \\\\\n",
      "\\midrule\n",
      "0 &  original\\_tuned\\_bm25\\_20 &    0.380818 &     0.346446 &  0.642787 \\\\\n",
      "\\bottomrule\n",
      "\\end{tabular}\n",
      "\n"
     ]
    },
    {
     "name": "stderr",
     "output_type": "stream",
     "text": [
      "/tmp/ipykernel_3684173/4231427746.py:34: FutureWarning: In future versions `DataFrame.to_latex` is expected to utilise the base implementation of `Styler.to_latex` for formatting and rendering. The arguments signature may therefore change. It is recommended instead to use `DataFrame.style.to_latex` which also contains additional functionality.\n",
      "  print(pt.Experiment([tuned_bm25], topics21, qrels, names=[folders[i] + '_tuned_bm25_21'], eval_metrics=[\"ndcg_cut_5\", \"ndcg_cut_25\", \"bpref\"]).to_latex())\n",
      "/tmp/ipykernel_3684173/4231427746.py:36: FutureWarning: In future versions `DataFrame.to_latex` is expected to utilise the base implementation of `Styler.to_latex` for formatting and rendering. The arguments signature may therefore change. It is recommended instead to use `DataFrame.style.to_latex` which also contains additional functionality.\n",
      "  print(pt.Experiment([tuned_bm25[tuned_bm25['docno'].isin(docnos)]], topics, qrels, names=[folders[i] + '_tuned_bm25__unjudged'], eval_metrics=[\"ndcg_cut_5\", \"ndcg_cut_25\", \"bpref\"]).to_latex())\n",
      "/tmp/ipykernel_3684173/4231427746.py:37: FutureWarning: In future versions `DataFrame.to_latex` is expected to utilise the base implementation of `Styler.to_latex` for formatting and rendering. The arguments signature may therefore change. It is recommended instead to use `DataFrame.style.to_latex` which also contains additional functionality.\n",
      "  print(pt.Experiment([tuned_bm25[tuned_bm25['docno'].isin(docnos20)]], topics20, qrels, names=[folders[i] + '_tuned_bm25__unjudged20'], eval_metrics=[\"ndcg_cut_5\", \"ndcg_cut_25\", \"bpref\"]).to_latex())\n",
      "/tmp/ipykernel_3684173/4231427746.py:38: FutureWarning: In future versions `DataFrame.to_latex` is expected to utilise the base implementation of `Styler.to_latex` for formatting and rendering. The arguments signature may therefore change. It is recommended instead to use `DataFrame.style.to_latex` which also contains additional functionality.\n",
      "  print(pt.Experiment([tuned_bm25[tuned_bm25['docno'].isin(docnos21)]], topics21, qrels, names=[folders[i] + '_tuned_bm25__unjudged21'], eval_metrics=[\"ndcg_cut_5\", \"ndcg_cut_25\", \"bpref\"]).to_latex())\n"
     ]
    },
    {
     "name": "stdout",
     "output_type": "stream",
     "text": [
      "\\begin{tabular}{llrrr}\n",
      "\\toprule\n",
      "{} &                    name &  ndcg\\_cut\\_5 &  ndcg\\_cut\\_25 &     bpref \\\\\n",
      "\\midrule\n",
      "0 &  original\\_tuned\\_bm25\\_21 &    0.655142 &     0.545039 &  0.621493 \\\\\n",
      "\\bottomrule\n",
      "\\end{tabular}\n",
      "\n",
      "\\begin{tabular}{llrrr}\n",
      "\\toprule\n",
      "{} &                           name &  ndcg\\_cut\\_5 &  ndcg\\_cut\\_25 &     bpref \\\\\n",
      "\\midrule\n",
      "0 &  original\\_tuned\\_bm25\\_\\_unjudged &    0.700509 &     0.668275 &  0.632032 \\\\\n",
      "\\bottomrule\n",
      "\\end{tabular}\n",
      "\n",
      "\\begin{tabular}{llrrr}\n",
      "\\toprule\n",
      "{} &                             name &  ndcg\\_cut\\_5 &  ndcg\\_cut\\_25 &     bpref \\\\\n",
      "\\midrule\n",
      "0 &  original\\_tuned\\_bm25\\_\\_unjudged20 &    0.763831 &     0.712075 &  0.642787 \\\\\n",
      "\\bottomrule\n",
      "\\end{tabular}\n",
      "\n",
      "\\begin{tabular}{llrrr}\n",
      "\\toprule\n",
      "{} &                             name &  ndcg\\_cut\\_5 &  ndcg\\_cut\\_25 &     bpref \\\\\n",
      "\\midrule\n",
      "0 &  original\\_tuned\\_bm25\\_\\_unjudged21 &    0.672243 &     0.663389 &  0.621493 \\\\\n",
      "\\bottomrule\n",
      "\\end{tabular}\n",
      "\n",
      "/mnt/ceph/storage/data-in-progress/data-teaching/theses/wstud-thesis-hollatz/targer_indexes/pd_index_essays-fasttext-100/data.properties\n",
      "Fold 1\n",
      "Best ndcg_cut_5 is 0.644101\n",
      "Best setting is ['BR(BM25) c=0.35', 'BR(BM25) bm25.k_1=1.6', 'BR(BM25) bm25.k_3=2']\n",
      "Fold 2\n",
      "Best ndcg_cut_5 is 0.465076\n",
      "Best setting is ['BR(BM25) c=0.15', 'BR(BM25) bm25.k_1=4.0', 'BR(BM25) bm25.k_3=2']\n"
     ]
    },
    {
     "name": "stderr",
     "output_type": "stream",
     "text": [
      "/tmp/ipykernel_3684173/4231427746.py:32: FutureWarning: In future versions `DataFrame.to_latex` is expected to utilise the base implementation of `Styler.to_latex` for formatting and rendering. The arguments signature may therefore change. It is recommended instead to use `DataFrame.style.to_latex` which also contains additional functionality.\n",
      "  print(pt.Experiment([tuned_bm25], topics, qrels, names=[folders[i] + '_tuned_bm25_'], eval_metrics=[\"ndcg_cut_5\", \"ndcg_cut_25\", \"bpref\"]).to_latex())\n"
     ]
    },
    {
     "name": "stdout",
     "output_type": "stream",
     "text": [
      "\\begin{tabular}{llrrr}\n",
      "\\toprule\n",
      "{} &                         name &  ndcg\\_cut\\_5 &  ndcg\\_cut\\_25 &     bpref \\\\\n",
      "\\midrule\n",
      "0 &  essays-fasttext\\_tuned\\_bm25\\_ &    0.506162 &     0.419756 &  0.592439 \\\\\n",
      "\\bottomrule\n",
      "\\end{tabular}\n",
      "\n"
     ]
    },
    {
     "name": "stderr",
     "output_type": "stream",
     "text": [
      "/tmp/ipykernel_3684173/4231427746.py:33: FutureWarning: In future versions `DataFrame.to_latex` is expected to utilise the base implementation of `Styler.to_latex` for formatting and rendering. The arguments signature may therefore change. It is recommended instead to use `DataFrame.style.to_latex` which also contains additional functionality.\n",
      "  print(pt.Experiment([tuned_bm25], topics20, qrels, names=[folders[i] + '_tuned_bm25_20'], eval_metrics=[\"ndcg_cut_5\", \"ndcg_cut_25\", \"bpref\"]).to_latex())\n"
     ]
    },
    {
     "name": "stdout",
     "output_type": "stream",
     "text": [
      "\\begin{tabular}{llrrr}\n",
      "\\toprule\n",
      "{} &                           name &  ndcg\\_cut\\_5 &  ndcg\\_cut\\_25 &     bpref \\\\\n",
      "\\midrule\n",
      "0 &  essays-fasttext\\_tuned\\_bm25\\_20 &    0.399409 &     0.343544 &  0.594935 \\\\\n",
      "\\bottomrule\n",
      "\\end{tabular}\n",
      "\n"
     ]
    },
    {
     "name": "stderr",
     "output_type": "stream",
     "text": [
      "/tmp/ipykernel_3684173/4231427746.py:34: FutureWarning: In future versions `DataFrame.to_latex` is expected to utilise the base implementation of `Styler.to_latex` for formatting and rendering. The arguments signature may therefore change. It is recommended instead to use `DataFrame.style.to_latex` which also contains additional functionality.\n",
      "  print(pt.Experiment([tuned_bm25], topics21, qrels, names=[folders[i] + '_tuned_bm25_21'], eval_metrics=[\"ndcg_cut_5\", \"ndcg_cut_25\", \"bpref\"]).to_latex())\n",
      "/tmp/ipykernel_3684173/4231427746.py:36: FutureWarning: In future versions `DataFrame.to_latex` is expected to utilise the base implementation of `Styler.to_latex` for formatting and rendering. The arguments signature may therefore change. It is recommended instead to use `DataFrame.style.to_latex` which also contains additional functionality.\n",
      "  print(pt.Experiment([tuned_bm25[tuned_bm25['docno'].isin(docnos)]], topics, qrels, names=[folders[i] + '_tuned_bm25__unjudged'], eval_metrics=[\"ndcg_cut_5\", \"ndcg_cut_25\", \"bpref\"]).to_latex())\n",
      "/tmp/ipykernel_3684173/4231427746.py:37: FutureWarning: In future versions `DataFrame.to_latex` is expected to utilise the base implementation of `Styler.to_latex` for formatting and rendering. The arguments signature may therefore change. It is recommended instead to use `DataFrame.style.to_latex` which also contains additional functionality.\n",
      "  print(pt.Experiment([tuned_bm25[tuned_bm25['docno'].isin(docnos20)]], topics20, qrels, names=[folders[i] + '_tuned_bm25__unjudged20'], eval_metrics=[\"ndcg_cut_5\", \"ndcg_cut_25\", \"bpref\"]).to_latex())\n"
     ]
    },
    {
     "name": "stdout",
     "output_type": "stream",
     "text": [
      "\\begin{tabular}{llrrr}\n",
      "\\toprule\n",
      "{} &                           name &  ndcg\\_cut\\_5 &  ndcg\\_cut\\_25 &     bpref \\\\\n",
      "\\midrule\n",
      "0 &  essays-fasttext\\_tuned\\_bm25\\_21 &     0.61078 &     0.494444 &  0.589992 \\\\\n",
      "\\bottomrule\n",
      "\\end{tabular}\n",
      "\n",
      "\\begin{tabular}{llrrr}\n",
      "\\toprule\n",
      "{} &                                  name &  ndcg\\_cut\\_5 &  ndcg\\_cut\\_25 &     bpref \\\\\n",
      "\\midrule\n",
      "0 &  essays-fasttext\\_tuned\\_bm25\\_\\_unjudged &    0.691615 &      0.64975 &  0.592439 \\\\\n",
      "\\bottomrule\n",
      "\\end{tabular}\n",
      "\n",
      "\\begin{tabular}{llrrr}\n",
      "\\toprule\n",
      "{} &                                    name &  ndcg\\_cut\\_5 &  ndcg\\_cut\\_25 &     bpref \\\\\n",
      "\\midrule\n",
      "0 &  essays-fasttext\\_tuned\\_bm25\\_\\_unjudged20 &    0.774379 &     0.698542 &  0.594935 \\\\\n",
      "\\bottomrule\n",
      "\\end{tabular}\n",
      "\n"
     ]
    },
    {
     "name": "stderr",
     "output_type": "stream",
     "text": [
      "/tmp/ipykernel_3684173/4231427746.py:38: FutureWarning: In future versions `DataFrame.to_latex` is expected to utilise the base implementation of `Styler.to_latex` for formatting and rendering. The arguments signature may therefore change. It is recommended instead to use `DataFrame.style.to_latex` which also contains additional functionality.\n",
      "  print(pt.Experiment([tuned_bm25[tuned_bm25['docno'].isin(docnos21)]], topics21, qrels, names=[folders[i] + '_tuned_bm25__unjudged21'], eval_metrics=[\"ndcg_cut_5\", \"ndcg_cut_25\", \"bpref\"]).to_latex())\n"
     ]
    },
    {
     "name": "stdout",
     "output_type": "stream",
     "text": [
      "\\begin{tabular}{llrrr}\n",
      "\\toprule\n",
      "{} &                                    name &  ndcg\\_cut\\_5 &  ndcg\\_cut\\_25 &     bpref \\\\\n",
      "\\midrule\n",
      "0 &  essays-fasttext\\_tuned\\_bm25\\_\\_unjudged21 &     0.65607 &      0.64954 &  0.589992 \\\\\n",
      "\\bottomrule\n",
      "\\end{tabular}\n",
      "\n",
      "/mnt/ceph/storage/data-in-progress/data-teaching/theses/wstud-thesis-hollatz/targer_indexes/pd_index_ibm-fasttext-100/data.properties\n",
      "Fold 1\n",
      "Best ndcg_cut_5 is 0.683797\n",
      "Best setting is ['BR(BM25) c=0.55', 'BR(BM25) bm25.k_1=2.8', 'BR(BM25) bm25.k_3=2']\n",
      "Fold 2\n",
      "Best ndcg_cut_5 is 0.526634\n",
      "Best setting is ['BR(BM25) c=0.15', 'BR(BM25) bm25.k_1=4.4', 'BR(BM25) bm25.k_3=2']\n"
     ]
    },
    {
     "name": "stderr",
     "output_type": "stream",
     "text": [
      "/tmp/ipykernel_3684173/4231427746.py:32: FutureWarning: In future versions `DataFrame.to_latex` is expected to utilise the base implementation of `Styler.to_latex` for formatting and rendering. The arguments signature may therefore change. It is recommended instead to use `DataFrame.style.to_latex` which also contains additional functionality.\n",
      "  print(pt.Experiment([tuned_bm25], topics, qrels, names=[folders[i] + '_tuned_bm25_'], eval_metrics=[\"ndcg_cut_5\", \"ndcg_cut_25\", \"bpref\"]).to_latex())\n"
     ]
    },
    {
     "name": "stdout",
     "output_type": "stream",
     "text": [
      "\\begin{tabular}{llrrr}\n",
      "\\toprule\n",
      "{} &                      name &  ndcg\\_cut\\_5 &  ndcg\\_cut\\_25 &     bpref \\\\\n",
      "\\midrule\n",
      "0 &  ibm-fasttext\\_tuned\\_bm25\\_ &    0.516938 &     0.444361 &  0.632027 \\\\\n",
      "\\bottomrule\n",
      "\\end{tabular}\n",
      "\n"
     ]
    },
    {
     "name": "stderr",
     "output_type": "stream",
     "text": [
      "/tmp/ipykernel_3684173/4231427746.py:33: FutureWarning: In future versions `DataFrame.to_latex` is expected to utilise the base implementation of `Styler.to_latex` for formatting and rendering. The arguments signature may therefore change. It is recommended instead to use `DataFrame.style.to_latex` which also contains additional functionality.\n",
      "  print(pt.Experiment([tuned_bm25], topics20, qrels, names=[folders[i] + '_tuned_bm25_20'], eval_metrics=[\"ndcg_cut_5\", \"ndcg_cut_25\", \"bpref\"]).to_latex())\n"
     ]
    },
    {
     "name": "stdout",
     "output_type": "stream",
     "text": [
      "\\begin{tabular}{llrrr}\n",
      "\\toprule\n",
      "{} &                        name &  ndcg\\_cut\\_5 &  ndcg\\_cut\\_25 &     bpref \\\\\n",
      "\\midrule\n",
      "0 &  ibm-fasttext\\_tuned\\_bm25\\_20 &    0.371869 &     0.340349 &  0.642587 \\\\\n",
      "\\bottomrule\n",
      "\\end{tabular}\n",
      "\n"
     ]
    },
    {
     "name": "stderr",
     "output_type": "stream",
     "text": [
      "/tmp/ipykernel_3684173/4231427746.py:34: FutureWarning: In future versions `DataFrame.to_latex` is expected to utilise the base implementation of `Styler.to_latex` for formatting and rendering. The arguments signature may therefore change. It is recommended instead to use `DataFrame.style.to_latex` which also contains additional functionality.\n",
      "  print(pt.Experiment([tuned_bm25], topics21, qrels, names=[folders[i] + '_tuned_bm25_21'], eval_metrics=[\"ndcg_cut_5\", \"ndcg_cut_25\", \"bpref\"]).to_latex())\n",
      "/tmp/ipykernel_3684173/4231427746.py:36: FutureWarning: In future versions `DataFrame.to_latex` is expected to utilise the base implementation of `Styler.to_latex` for formatting and rendering. The arguments signature may therefore change. It is recommended instead to use `DataFrame.style.to_latex` which also contains additional functionality.\n",
      "  print(pt.Experiment([tuned_bm25[tuned_bm25['docno'].isin(docnos)]], topics, qrels, names=[folders[i] + '_tuned_bm25__unjudged'], eval_metrics=[\"ndcg_cut_5\", \"ndcg_cut_25\", \"bpref\"]).to_latex())\n",
      "/tmp/ipykernel_3684173/4231427746.py:37: FutureWarning: In future versions `DataFrame.to_latex` is expected to utilise the base implementation of `Styler.to_latex` for formatting and rendering. The arguments signature may therefore change. It is recommended instead to use `DataFrame.style.to_latex` which also contains additional functionality.\n",
      "  print(pt.Experiment([tuned_bm25[tuned_bm25['docno'].isin(docnos20)]], topics20, qrels, names=[folders[i] + '_tuned_bm25__unjudged20'], eval_metrics=[\"ndcg_cut_5\", \"ndcg_cut_25\", \"bpref\"]).to_latex())\n",
      "/tmp/ipykernel_3684173/4231427746.py:38: FutureWarning: In future versions `DataFrame.to_latex` is expected to utilise the base implementation of `Styler.to_latex` for formatting and rendering. The arguments signature may therefore change. It is recommended instead to use `DataFrame.style.to_latex` which also contains additional functionality.\n",
      "  print(pt.Experiment([tuned_bm25[tuned_bm25['docno'].isin(docnos21)]], topics21, qrels, names=[folders[i] + '_tuned_bm25__unjudged21'], eval_metrics=[\"ndcg_cut_5\", \"ndcg_cut_25\", \"bpref\"]).to_latex())\n"
     ]
    },
    {
     "name": "stdout",
     "output_type": "stream",
     "text": [
      "\\begin{tabular}{llrrr}\n",
      "\\toprule\n",
      "{} &                        name &  ndcg\\_cut\\_5 &  ndcg\\_cut\\_25 &     bpref \\\\\n",
      "\\midrule\n",
      "0 &  ibm-fasttext\\_tuned\\_bm25\\_21 &    0.659106 &     0.546292 &  0.621679 \\\\\n",
      "\\bottomrule\n",
      "\\end{tabular}\n",
      "\n",
      "\\begin{tabular}{llrrr}\n",
      "\\toprule\n",
      "{} &                               name &  ndcg\\_cut\\_5 &  ndcg\\_cut\\_25 &     bpref \\\\\n",
      "\\midrule\n",
      "0 &  ibm-fasttext\\_tuned\\_bm25\\_\\_unjudged &    0.699073 &      0.66805 &  0.632027 \\\\\n",
      "\\bottomrule\n",
      "\\end{tabular}\n",
      "\n",
      "\\begin{tabular}{llrrr}\n",
      "\\toprule\n",
      "{} &                                 name &  ndcg\\_cut\\_5 &  ndcg\\_cut\\_25 &     bpref \\\\\n",
      "\\midrule\n",
      "0 &  ibm-fasttext\\_tuned\\_bm25\\_\\_unjudged20 &    0.766247 &     0.713511 &  0.642587 \\\\\n",
      "\\bottomrule\n",
      "\\end{tabular}\n",
      "\n",
      "\\begin{tabular}{llrrr}\n",
      "\\toprule\n",
      "{} &                                 name &  ndcg\\_cut\\_5 &  ndcg\\_cut\\_25 &     bpref \\\\\n",
      "\\midrule\n",
      "0 &  ibm-fasttext\\_tuned\\_bm25\\_\\_unjudged21 &    0.676207 &     0.663859 &  0.621679 \\\\\n",
      "\\bottomrule\n",
      "\\end{tabular}\n",
      "\n",
      "/mnt/ceph/storage/data-in-progress/data-teaching/theses/wstud-thesis-hollatz/targer_indexes/pd_index_webd-fasttext-100/data.properties\n",
      "Fold 1\n",
      "Best ndcg_cut_5 is 0.392959\n",
      "Best setting is ['BR(BM25) c=0.15', 'BR(BM25) bm25.k_1=1.6', 'BR(BM25) bm25.k_3=2']\n",
      "Fold 2\n",
      "Best ndcg_cut_5 is 0.255554\n",
      "Best setting is ['BR(BM25) c=0.15', 'BR(BM25) bm25.k_1=0.6', 'BR(BM25) bm25.k_3=2']\n"
     ]
    },
    {
     "name": "stderr",
     "output_type": "stream",
     "text": [
      "/tmp/ipykernel_3684173/4231427746.py:32: FutureWarning: In future versions `DataFrame.to_latex` is expected to utilise the base implementation of `Styler.to_latex` for formatting and rendering. The arguments signature may therefore change. It is recommended instead to use `DataFrame.style.to_latex` which also contains additional functionality.\n",
      "  print(pt.Experiment([tuned_bm25], topics, qrels, names=[folders[i] + '_tuned_bm25_'], eval_metrics=[\"ndcg_cut_5\", \"ndcg_cut_25\", \"bpref\"]).to_latex())\n"
     ]
    },
    {
     "name": "stdout",
     "output_type": "stream",
     "text": [
      "\\begin{tabular}{llrrr}\n",
      "\\toprule\n",
      "{} &                       name &  ndcg\\_cut\\_5 &  ndcg\\_cut\\_25 &     bpref \\\\\n",
      "\\midrule\n",
      "0 &  webd-fasttext\\_tuned\\_bm25\\_ &    0.309314 &     0.235246 &  0.407214 \\\\\n",
      "\\bottomrule\n",
      "\\end{tabular}\n",
      "\n"
     ]
    },
    {
     "name": "stderr",
     "output_type": "stream",
     "text": [
      "/tmp/ipykernel_3684173/4231427746.py:33: FutureWarning: In future versions `DataFrame.to_latex` is expected to utilise the base implementation of `Styler.to_latex` for formatting and rendering. The arguments signature may therefore change. It is recommended instead to use `DataFrame.style.to_latex` which also contains additional functionality.\n",
      "  print(pt.Experiment([tuned_bm25], topics20, qrels, names=[folders[i] + '_tuned_bm25_20'], eval_metrics=[\"ndcg_cut_5\", \"ndcg_cut_25\", \"bpref\"]).to_latex())\n"
     ]
    },
    {
     "name": "stdout",
     "output_type": "stream",
     "text": [
      "\\begin{tabular}{llrrr}\n",
      "\\toprule\n",
      "{} &                         name &  ndcg\\_cut\\_5 &  ndcg\\_cut\\_25 &     bpref \\\\\n",
      "\\midrule\n",
      "0 &  webd-fasttext\\_tuned\\_bm25\\_20 &    0.241371 &     0.187997 &  0.440268 \\\\\n",
      "\\bottomrule\n",
      "\\end{tabular}\n",
      "\n"
     ]
    },
    {
     "name": "stderr",
     "output_type": "stream",
     "text": [
      "/tmp/ipykernel_3684173/4231427746.py:34: FutureWarning: In future versions `DataFrame.to_latex` is expected to utilise the base implementation of `Styler.to_latex` for formatting and rendering. The arguments signature may therefore change. It is recommended instead to use `DataFrame.style.to_latex` which also contains additional functionality.\n",
      "  print(pt.Experiment([tuned_bm25], topics21, qrels, names=[folders[i] + '_tuned_bm25_21'], eval_metrics=[\"ndcg_cut_5\", \"ndcg_cut_25\", \"bpref\"]).to_latex())\n",
      "/tmp/ipykernel_3684173/4231427746.py:36: FutureWarning: In future versions `DataFrame.to_latex` is expected to utilise the base implementation of `Styler.to_latex` for formatting and rendering. The arguments signature may therefore change. It is recommended instead to use `DataFrame.style.to_latex` which also contains additional functionality.\n",
      "  print(pt.Experiment([tuned_bm25[tuned_bm25['docno'].isin(docnos)]], topics, qrels, names=[folders[i] + '_tuned_bm25__unjudged'], eval_metrics=[\"ndcg_cut_5\", \"ndcg_cut_25\", \"bpref\"]).to_latex())\n",
      "/tmp/ipykernel_3684173/4231427746.py:37: FutureWarning: In future versions `DataFrame.to_latex` is expected to utilise the base implementation of `Styler.to_latex` for formatting and rendering. The arguments signature may therefore change. It is recommended instead to use `DataFrame.style.to_latex` which also contains additional functionality.\n",
      "  print(pt.Experiment([tuned_bm25[tuned_bm25['docno'].isin(docnos20)]], topics20, qrels, names=[folders[i] + '_tuned_bm25__unjudged20'], eval_metrics=[\"ndcg_cut_5\", \"ndcg_cut_25\", \"bpref\"]).to_latex())\n",
      "/tmp/ipykernel_3684173/4231427746.py:38: FutureWarning: In future versions `DataFrame.to_latex` is expected to utilise the base implementation of `Styler.to_latex` for formatting and rendering. The arguments signature may therefore change. It is recommended instead to use `DataFrame.style.to_latex` which also contains additional functionality.\n",
      "  print(pt.Experiment([tuned_bm25[tuned_bm25['docno'].isin(docnos21)]], topics21, qrels, names=[folders[i] + '_tuned_bm25__unjudged21'], eval_metrics=[\"ndcg_cut_5\", \"ndcg_cut_25\", \"bpref\"]).to_latex())\n"
     ]
    },
    {
     "name": "stdout",
     "output_type": "stream",
     "text": [
      "\\begin{tabular}{llrrr}\n",
      "\\toprule\n",
      "{} &                         name &  ndcg\\_cut\\_5 &  ndcg\\_cut\\_25 &     bpref \\\\\n",
      "\\midrule\n",
      "0 &  webd-fasttext\\_tuned\\_bm25\\_21 &    0.375898 &     0.281551 &  0.374822 \\\\\n",
      "\\bottomrule\n",
      "\\end{tabular}\n",
      "\n",
      "\\begin{tabular}{llrrr}\n",
      "\\toprule\n",
      "{} &                                name &  ndcg\\_cut\\_5 &  ndcg\\_cut\\_25 &     bpref \\\\\n",
      "\\midrule\n",
      "0 &  webd-fasttext\\_tuned\\_bm25\\_\\_unjudged &    0.590416 &     0.488071 &  0.407214 \\\\\n",
      "\\bottomrule\n",
      "\\end{tabular}\n",
      "\n",
      "\\begin{tabular}{llrrr}\n",
      "\\toprule\n",
      "{} &                                  name &  ndcg\\_cut\\_5 &  ndcg\\_cut\\_25 &     bpref \\\\\n",
      "\\midrule\n",
      "0 &  webd-fasttext\\_tuned\\_bm25\\_\\_unjudged20 &    0.665406 &     0.535553 &  0.440268 \\\\\n",
      "\\bottomrule\n",
      "\\end{tabular}\n",
      "\n",
      "\\begin{tabular}{llrrr}\n",
      "\\toprule\n",
      "{} &                                  name &  ndcg\\_cut\\_5 &  ndcg\\_cut\\_25 &     bpref \\\\\n",
      "\\midrule\n",
      "0 &  webd-fasttext\\_tuned\\_bm25\\_\\_unjudged21 &    0.577869 &     0.507808 &  0.374822 \\\\\n",
      "\\bottomrule\n",
      "\\end{tabular}\n",
      "\n"
     ]
    }
   ],
   "source": [
    "'''\n",
    "Example of simple tuning bm25 and its not saving to the folder \n",
    "'''\n",
    "\n",
    "import os\n",
    "rootdir = \"/mnt/ceph/storage/data-in-progress/data-teaching/theses/wstud-thesis-hollatz/targer_indexes\"\n",
    "# folders = ['conclusions','pool_topics','topics','topics_conclusion','topics_conclusion_leakage','topics_leakage','pool_topics_conclusions','conclusions_leakage','pools_conclusions']\n",
    "folders = ['webd-dependency', 'combined-fasttext', 'essays-dependency',\n",
    "          'original', 'essays-fasttext', 'ibm-fasttext', 'webd-fasttext']\n",
    "objective=\"ndcg_cut_5\"\n",
    "i = 0\n",
    "for subdir, dirs, files in os.walk(rootdir):\n",
    "    for file in files:\n",
    "        if(file == 'data.properties'):\n",
    "            path = subdir + '/'+ file\n",
    "            if subdir.endswith('100'):\n",
    "                print(path)\n",
    "                indexref = pt.IndexRef.of(path)\n",
    "                index = pt.IndexFactory.of(indexref)\n",
    "                bm25 = pt.BatchRetrieve(index, wmodel=\"BM25\", controls={\"c\" : 0.75, \"bm25.k_1\": 1.2, \"bm25.k_3\": 8})\n",
    "                tuned_bm25, parameters = pt.KFoldGridSearch(\n",
    "                    bm25,\n",
    "                    {bm25: {\"c\" : [0.15, 0.35, 0.55, 0.75],\n",
    "                    \"bm25.k_1\": [0.6, 1.2, 1.6, 2.2, 2.8, 3.4, 4.0, 4.4],\n",
    "                    \"bm25.k_3\": [2, 5, 8, 10]\n",
    "                    }},\n",
    "                    [topics20, topics21],\n",
    "                    [qrels20, qrels21],\n",
    "                    objective\n",
    "                )\n",
    "                \n",
    "                print(pt.Experiment([tuned_bm25], topics, qrels, names=[folders[i] + '_tuned_bm25_'], eval_metrics=[\"ndcg_cut_5\", \"ndcg_cut_25\", \"bpref\"]).to_latex())\n",
    "                print(pt.Experiment([tuned_bm25], topics20, qrels, names=[folders[i] + '_tuned_bm25_20'], eval_metrics=[\"ndcg_cut_5\", \"ndcg_cut_25\", \"bpref\"]).to_latex())\n",
    "                print(pt.Experiment([tuned_bm25], topics21, qrels, names=[folders[i] + '_tuned_bm25_21'], eval_metrics=[\"ndcg_cut_5\", \"ndcg_cut_25\", \"bpref\"]).to_latex())\n",
    "\n",
    "                print(pt.Experiment([tuned_bm25[tuned_bm25['docno'].isin(docnos)]], topics, qrels, names=[folders[i] + '_tuned_bm25__unjudged'], eval_metrics=[\"ndcg_cut_5\", \"ndcg_cut_25\", \"bpref\"]).to_latex())\n",
    "                print(pt.Experiment([tuned_bm25[tuned_bm25['docno'].isin(docnos20)]], topics20, qrels, names=[folders[i] + '_tuned_bm25__unjudged20'], eval_metrics=[\"ndcg_cut_5\", \"ndcg_cut_25\", \"bpref\"]).to_latex())\n",
    "                print(pt.Experiment([tuned_bm25[tuned_bm25['docno'].isin(docnos21)]], topics21, qrels, names=[folders[i] + '_tuned_bm25__unjudged21'], eval_metrics=[\"ndcg_cut_5\", \"ndcg_cut_25\", \"bpref\"]).to_latex())\n",
    "                tuned_bm25.to_csv(path_or_buf=f\"/workspace/src/grid_search_right_qrels/final_right/run/{folders[i]}_tuned_bm25.csv\")\n",
    "                i += 1\n",
    "            "
   ]
  },
  {
   "cell_type": "code",
   "execution_count": 5,
   "id": "119b0296",
   "metadata": {},
   "outputs": [
    {
     "name": "stdout",
     "output_type": "stream",
     "text": [
      "/workspace/src/grid_search_right_qrels/super_folder//data.properties\n",
      "Fold 1\n",
      "Best ndcg_cut_5 is 0.460400\n",
      "Best setting is ['BR(BM25) c=0.15', 'BR(BM25) bm25.k_1=3.4', 'BR(BM25) bm25.k_3=2']\n",
      "Fold 2\n",
      "Best ndcg_cut_5 is 0.278232\n",
      "Best setting is ['BR(BM25) c=0.75', 'BR(BM25) bm25.k_1=0.6', 'BR(BM25) bm25.k_3=2']\n"
     ]
    },
    {
     "name": "stderr",
     "output_type": "stream",
     "text": [
      "/tmp/ipykernel_2391368/552348811.py:31: FutureWarning: In future versions `DataFrame.to_latex` is expected to utilise the base implementation of `Styler.to_latex` for formatting and rendering. The arguments signature may therefore change. It is recommended instead to use `DataFrame.style.to_latex` which also contains additional functionality.\n",
      "  print(pt.Experiment([tuned_bm25], topics, qrels, names=[folders[i] + '_tuned_bm25_'], eval_metrics=[\"ndcg_cut_5\", \"ndcg_cut_25\", \"bpref\"]).to_latex())\n"
     ]
    },
    {
     "name": "stdout",
     "output_type": "stream",
     "text": [
      "\\begin{tabular}{llrrr}\n",
      "\\toprule\n",
      "{} &                          name &  ndcg\\_cut\\_5 &  ndcg\\_cut\\_25 &     bpref \\\\\n",
      "\\midrule\n",
      "0 &  marco-pretrained\\_tuned\\_bm25\\_ &    0.329196 &     0.304758 &  0.622564 \\\\\n",
      "\\bottomrule\n",
      "\\end{tabular}\n",
      "\n"
     ]
    },
    {
     "name": "stderr",
     "output_type": "stream",
     "text": [
      "/tmp/ipykernel_2391368/552348811.py:32: FutureWarning: In future versions `DataFrame.to_latex` is expected to utilise the base implementation of `Styler.to_latex` for formatting and rendering. The arguments signature may therefore change. It is recommended instead to use `DataFrame.style.to_latex` which also contains additional functionality.\n",
      "  print(pt.Experiment([tuned_bm25], topics20, qrels, names=[folders[i] + '_tuned_bm25_20'], eval_metrics=[\"ndcg_cut_5\", \"ndcg_cut_25\", \"bpref\"]).to_latex())\n"
     ]
    },
    {
     "name": "stdout",
     "output_type": "stream",
     "text": [
      "\\begin{tabular}{llrrr}\n",
      "\\toprule\n",
      "{} &                            name &  ndcg\\_cut\\_5 &  ndcg\\_cut\\_25 &     bpref \\\\\n",
      "\\midrule\n",
      "0 &  marco-pretrained\\_tuned\\_bm25\\_20 &    0.257784 &     0.261112 &  0.621228 \\\\\n",
      "\\bottomrule\n",
      "\\end{tabular}\n",
      "\n"
     ]
    },
    {
     "name": "stderr",
     "output_type": "stream",
     "text": [
      "/tmp/ipykernel_2391368/552348811.py:33: FutureWarning: In future versions `DataFrame.to_latex` is expected to utilise the base implementation of `Styler.to_latex` for formatting and rendering. The arguments signature may therefore change. It is recommended instead to use `DataFrame.style.to_latex` which also contains additional functionality.\n",
      "  print(pt.Experiment([tuned_bm25], topics21, qrels, names=[folders[i] + '_tuned_bm25_21'], eval_metrics=[\"ndcg_cut_5\", \"ndcg_cut_25\", \"bpref\"]).to_latex())\n",
      "/tmp/ipykernel_2391368/552348811.py:35: FutureWarning: In future versions `DataFrame.to_latex` is expected to utilise the base implementation of `Styler.to_latex` for formatting and rendering. The arguments signature may therefore change. It is recommended instead to use `DataFrame.style.to_latex` which also contains additional functionality.\n",
      "  print(pt.Experiment([tuned_bm25[tuned_bm25['docno'].isin(docnos)]], topics, qrels, names=[folders[i] + '_tuned_bm25__unjudged'], eval_metrics=[\"ndcg_cut_5\", \"ndcg_cut_25\", \"bpref\"]).to_latex())\n"
     ]
    },
    {
     "name": "stdout",
     "output_type": "stream",
     "text": [
      "\\begin{tabular}{llrrr}\n",
      "\\toprule\n",
      "{} &                            name &  ndcg\\_cut\\_5 &  ndcg\\_cut\\_25 &     bpref \\\\\n",
      "\\midrule\n",
      "0 &  marco-pretrained\\_tuned\\_bm25\\_21 &    0.399179 &     0.347531 &  0.623873 \\\\\n",
      "\\bottomrule\n",
      "\\end{tabular}\n",
      "\n",
      "\\begin{tabular}{llrrr}\n",
      "\\toprule\n",
      "{} &                                   name &  ndcg\\_cut\\_5 &  ndcg\\_cut\\_25 &     bpref \\\\\n",
      "\\midrule\n",
      "0 &  marco-pretrained\\_tuned\\_bm25\\_\\_unjudged &    0.556162 &     0.601818 &  0.622564 \\\\\n",
      "\\bottomrule\n",
      "\\end{tabular}\n",
      "\n",
      "\\begin{tabular}{llrrr}\n",
      "\\toprule\n",
      "{} &                                     name &  ndcg\\_cut\\_5 &  ndcg\\_cut\\_25 &     bpref \\\\\n",
      "\\midrule\n",
      "0 &  marco-pretrained\\_tuned\\_bm25\\_\\_unjudged20 &    0.606965 &     0.637791 &  0.621228 \\\\\n",
      "\\bottomrule\n",
      "\\end{tabular}\n",
      "\n",
      "\\begin{tabular}{llrrr}\n",
      "\\toprule\n",
      "{} &                                     name &  ndcg\\_cut\\_5 &  ndcg\\_cut\\_25 &     bpref \\\\\n",
      "\\midrule\n",
      "0 &  marco-pretrained\\_tuned\\_bm25\\_\\_unjudged21 &    0.529812 &     0.609965 &  0.623873 \\\\\n",
      "\\bottomrule\n",
      "\\end{tabular}\n",
      "\n"
     ]
    },
    {
     "name": "stderr",
     "output_type": "stream",
     "text": [
      "/tmp/ipykernel_2391368/552348811.py:36: FutureWarning: In future versions `DataFrame.to_latex` is expected to utilise the base implementation of `Styler.to_latex` for formatting and rendering. The arguments signature may therefore change. It is recommended instead to use `DataFrame.style.to_latex` which also contains additional functionality.\n",
      "  print(pt.Experiment([tuned_bm25[tuned_bm25['docno'].isin(docnos20)]], topics20, qrels, names=[folders[i] + '_tuned_bm25__unjudged20'], eval_metrics=[\"ndcg_cut_5\", \"ndcg_cut_25\", \"bpref\"]).to_latex())\n",
      "/tmp/ipykernel_2391368/552348811.py:37: FutureWarning: In future versions `DataFrame.to_latex` is expected to utilise the base implementation of `Styler.to_latex` for formatting and rendering. The arguments signature may therefore change. It is recommended instead to use `DataFrame.style.to_latex` which also contains additional functionality.\n",
      "  print(pt.Experiment([tuned_bm25[tuned_bm25['docno'].isin(docnos21)]], topics21, qrels, names=[folders[i] + '_tuned_bm25__unjudged21'], eval_metrics=[\"ndcg_cut_5\", \"ndcg_cut_25\", \"bpref\"]).to_latex())\n"
     ]
    }
   ],
   "source": [
    "'''\n",
    "Example of simple tuning bm25 and its not saving to the folder \n",
    "'''\n",
    "\n",
    "import os\n",
    "rootdir = \"/workspace/src/grid_search_right_qrels/super_folder/\"\n",
    "folders = ['marco-pretrained']\n",
    "\n",
    "objective=\"ndcg_cut_5\"\n",
    "i = 0\n",
    "for subdir, dirs, files in os.walk(rootdir):\n",
    "    for file in files:\n",
    "        if(file == 'data.properties'):\n",
    "            path = subdir + '/'+ file\n",
    "\n",
    "            print(path)\n",
    "            indexref = pt.IndexRef.of(path)\n",
    "            index = pt.IndexFactory.of(indexref)\n",
    "            bm25 = pt.BatchRetrieve(index, wmodel=\"BM25\", controls={\"c\" : 0.75, \"bm25.k_1\": 1.2, \"bm25.k_3\": 8})\n",
    "            tuned_bm25, parameters = pt.KFoldGridSearch(\n",
    "                bm25,\n",
    "                {bm25: {\"c\" : [0.15, 0.35, 0.55, 0.75],\n",
    "                \"bm25.k_1\": [0.6, 1.2, 1.6, 2.2, 2.8, 3.4, 4.0, 4.4],\n",
    "                \"bm25.k_3\": [2, 5, 8, 10]\n",
    "                }},\n",
    "                [topics20, topics21],\n",
    "                [qrels20, qrels21],\n",
    "                objective\n",
    "            )\n",
    "\n",
    "            print(pt.Experiment([tuned_bm25], topics, qrels, names=[folders[i] + '_tuned_bm25_'], eval_metrics=[\"ndcg_cut_5\", \"ndcg_cut_25\", \"bpref\"]).to_latex())\n",
    "            print(pt.Experiment([tuned_bm25], topics20, qrels, names=[folders[i] + '_tuned_bm25_20'], eval_metrics=[\"ndcg_cut_5\", \"ndcg_cut_25\", \"bpref\"]).to_latex())\n",
    "            print(pt.Experiment([tuned_bm25], topics21, qrels, names=[folders[i] + '_tuned_bm25_21'], eval_metrics=[\"ndcg_cut_5\", \"ndcg_cut_25\", \"bpref\"]).to_latex())\n",
    "\n",
    "            print(pt.Experiment([tuned_bm25[tuned_bm25['docno'].isin(docnos)]], topics, qrels, names=[folders[i] + '_tuned_bm25__unjudged'], eval_metrics=[\"ndcg_cut_5\", \"ndcg_cut_25\", \"bpref\"]).to_latex())\n",
    "            print(pt.Experiment([tuned_bm25[tuned_bm25['docno'].isin(docnos20)]], topics20, qrels, names=[folders[i] + '_tuned_bm25__unjudged20'], eval_metrics=[\"ndcg_cut_5\", \"ndcg_cut_25\", \"bpref\"]).to_latex())\n",
    "            print(pt.Experiment([tuned_bm25[tuned_bm25['docno'].isin(docnos21)]], topics21, qrels, names=[folders[i] + '_tuned_bm25__unjudged21'], eval_metrics=[\"ndcg_cut_5\", \"ndcg_cut_25\", \"bpref\"]).to_latex())\n",
    "\n",
    "            i += 1\n",
    "            "
   ]
  }
 ],
 "metadata": {
  "kernelspec": {
   "display_name": "Python 3 (ipykernel)",
   "language": "python",
   "name": "python3"
  },
  "language_info": {
   "codemirror_mode": {
    "name": "ipython",
    "version": 3
   },
   "file_extension": ".py",
   "mimetype": "text/x-python",
   "name": "python",
   "nbconvert_exporter": "python",
   "pygments_lexer": "ipython3",
   "version": "3.9.10"
  }
 },
 "nbformat": 4,
 "nbformat_minor": 5
}
