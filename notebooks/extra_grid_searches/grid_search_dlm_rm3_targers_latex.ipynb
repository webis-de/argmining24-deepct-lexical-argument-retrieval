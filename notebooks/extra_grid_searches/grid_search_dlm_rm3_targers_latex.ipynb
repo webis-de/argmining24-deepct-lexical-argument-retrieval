{
 "cells": [
  {
   "cell_type": "code",
   "execution_count": 1,
   "id": "60b4af84",
   "metadata": {},
   "outputs": [
    {
     "name": "stderr",
     "output_type": "stream",
     "text": [
      "PyTerrier 0.8.1 has loaded Terrier 5.6 (built by craigmacdonald on 2021-09-17 13:27)\n",
      "\n",
      "No etc/terrier.properties, using terrier.default.properties for bootstrap configuration.\n"
     ]
    }
   ],
   "source": [
    "import pandas as pd\n",
    "import numpy as np\n",
    "# import pyterrier_deepct\n",
    "import pyterrier as pt\n",
    "if not pt.started():\n",
    "  pt.init(boot_packages=[\"com.github.terrierteam:terrier-prf:-SNAPSHOT\"])\n",
    "\n",
    "from xml.etree import ElementTree\n",
    "tree = ElementTree.parse('/workspace/src/evaluate_targers/topics2020.xml')\n",
    "data = tree.getroot()\n",
    "titles20 = []\n",
    "titles21 = []\n",
    "title_ids20 = []\n",
    "title_ids21 = []\n",
    "nums20 = []\n",
    "nums21 = []\n",
    "for topic in data:\n",
    "    titles20.append(topic.find('title').text.lower()[:-1])\n",
    "    num20 = topic.find('number').text\n",
    "    nums20.append(num20)\n",
    "tree = ElementTree.parse('/workspace/src/evaluate_targers/topics.xml')\n",
    "data = tree.getroot()    \n",
    "for topic in data:\n",
    "    titles21.append(topic.find('title').text.lower()[:-1])\n",
    "    num21 = topic.find('number').text\n",
    "    nums21.append(num21)\n",
    "topics = pd.DataFrame()\n",
    "topics['qid'] = nums20 + nums21\n",
    "topics['query'] = titles20 + titles21\n",
    "\n",
    "topics21 = pd.DataFrame()\n",
    "topics21['qid'] = nums21\n",
    "topics21['query'] = titles21\n",
    "\n",
    "topics20 = pd.DataFrame()\n",
    "topics20['qid'] = nums20\n",
    "topics20['query'] = titles20\n",
    "\n",
    "qrels_path=(\"/workspace/src/evaluate_targers/all_qrels.qrels\")\n",
    "qrels = pt.io.read_qrels(qrels_path)\n",
    "\n",
    "qrels21_path=(\"/workspace/src/evaluate_targers/qrels2021.qrels\")\n",
    "qrels21 = pt.io.read_qrels(qrels21_path)\n",
    "\n",
    "qrels20_path=(\"/workspace/src/evaluate_targers/qrels2020.qrels\")\n",
    "qrels20 = pt.io.read_qrels(qrels20_path)\n",
    "\n",
    "docnos = qrels.docno\n",
    "docnos21 = qrels21.docno\n",
    "docnos20 = qrels20.docno"
   ]
  },
  {
   "cell_type": "code",
   "execution_count": 2,
   "id": "c42f4b1d",
   "metadata": {
    "scrolled": true
   },
   "outputs": [
    {
     "name": "stdout",
     "output_type": "stream",
     "text": [
      "/mnt/ceph/storage/data-in-progress/data-teaching/theses/wstud-thesis-hollatz/targer_indexes/pd_index_webd-dependency-100/data.properties\n",
      "Fold 1\n",
      "Best ndcg_cut_5 is 0.334398\n",
      "Best setting is ['QueryExpansion(/mnt/ceph/storage/data-in-progress/data-teaching/theses/wstud-thesis-hollatz/targer_indexes/pd_index_webd-dependency-100/data.properties,8,14,<org.terrier.querying.RM3 at 0x7fe6ff5dacc0 jclass=org/terrier/querying/RM3 jself=<LocalRef obj=0x55c7a6cfd9a0 at 0x7fe6ff797370>>) fb_terms=4', 'QueryExpansion(/mnt/ceph/storage/data-in-progress/data-teaching/theses/wstud-thesis-hollatz/targer_indexes/pd_index_webd-dependency-100/data.properties,8,14,<org.terrier.querying.RM3 at 0x7fe6ff5dacc0 jclass=org/terrier/querying/RM3 jself=<LocalRef obj=0x55c7a6cfd9a0 at 0x7fe6ff797370>>) fb_docs=4', 'QueryExpansion(/mnt/ceph/storage/data-in-progress/data-teaching/theses/wstud-thesis-hollatz/targer_indexes/pd_index_webd-dependency-100/data.properties,8,14,<org.terrier.querying.RM3 at 0x7fe6ff5dacc0 jclass=org/terrier/querying/RM3 jself=<LocalRef obj=0x55c7a6cfd9a0 at 0x7fe6ff797370>>) fb_lambda=0.2']\n",
      "Fold 2\n",
      "Best ndcg_cut_5 is 0.365449\n",
      "Best setting is ['QueryExpansion(/mnt/ceph/storage/data-in-progress/data-teaching/theses/wstud-thesis-hollatz/targer_indexes/pd_index_webd-dependency-100/data.properties,8,14,<org.terrier.querying.RM3 at 0x7fe6ff5dacc0 jclass=org/terrier/querying/RM3 jself=<LocalRef obj=0x55c7a6cfd9a0 at 0x7fe6ff797370>>) fb_terms=6', 'QueryExpansion(/mnt/ceph/storage/data-in-progress/data-teaching/theses/wstud-thesis-hollatz/targer_indexes/pd_index_webd-dependency-100/data.properties,8,14,<org.terrier.querying.RM3 at 0x7fe6ff5dacc0 jclass=org/terrier/querying/RM3 jself=<LocalRef obj=0x55c7a6cfd9a0 at 0x7fe6ff797370>>) fb_docs=4', 'QueryExpansion(/mnt/ceph/storage/data-in-progress/data-teaching/theses/wstud-thesis-hollatz/targer_indexes/pd_index_webd-dependency-100/data.properties,8,14,<org.terrier.querying.RM3 at 0x7fe6ff5dacc0 jclass=org/terrier/querying/RM3 jself=<LocalRef obj=0x55c7a6cfd9a0 at 0x7fe6ff797370>>) fb_lambda=0.2']\n"
     ]
    },
    {
     "name": "stderr",
     "output_type": "stream",
     "text": [
      "/tmp/ipykernel_1663031/3362825214.py:39: FutureWarning: In future versions `DataFrame.to_latex` is expected to utilise the base implementation of `Styler.to_latex` for formatting and rendering. The arguments signature may therefore change. It is recommended instead to use `DataFrame.style.to_latex` which also contains additional functionality.\n",
      "  print(pt.Experiment([pipe_qe], topics, qrels, names=[folders[i] + '_tuned_dlm_rm3'], eval_metrics=[\"ndcg_cut_5\", \"ndcg_cut_25\", \"bpref\"]).to_latex())\n"
     ]
    },
    {
     "name": "stdout",
     "output_type": "stream",
     "text": [
      "\\begin{tabular}{llrrr}\n",
      "\\toprule\n",
      "{} &                           name &  ndcg\\_cut\\_5 &  ndcg\\_cut\\_25 &     bpref \\\\\n",
      "\\midrule\n",
      "0 &  webd-dependency\\_tuned\\_dlm\\_rm3 &    0.321377 &     0.233626 &  0.415613 \\\\\n",
      "\\bottomrule\n",
      "\\end{tabular}\n",
      "\n"
     ]
    },
    {
     "name": "stderr",
     "output_type": "stream",
     "text": [
      "/tmp/ipykernel_1663031/3362825214.py:40: FutureWarning: In future versions `DataFrame.to_latex` is expected to utilise the base implementation of `Styler.to_latex` for formatting and rendering. The arguments signature may therefore change. It is recommended instead to use `DataFrame.style.to_latex` which also contains additional functionality.\n",
      "  print(pt.Experiment([pipe_qe], topics20, qrels, names=[folders[i] + '_tuned_dlm_rm320'], eval_metrics=[\"ndcg_cut_5\", \"ndcg_cut_25\", \"bpref\"]).to_latex())\n"
     ]
    },
    {
     "name": "stdout",
     "output_type": "stream",
     "text": [
      "\\begin{tabular}{llrrr}\n",
      "\\toprule\n",
      "{} &                             name &  ndcg\\_cut\\_5 &  ndcg\\_cut\\_25 &     bpref \\\\\n",
      "\\midrule\n",
      "0 &  webd-dependency\\_tuned\\_dlm\\_rm320 &     0.34853 &     0.253126 &  0.479037 \\\\\n",
      "\\bottomrule\n",
      "\\end{tabular}\n",
      "\n"
     ]
    },
    {
     "name": "stderr",
     "output_type": "stream",
     "text": [
      "/tmp/ipykernel_1663031/3362825214.py:41: FutureWarning: In future versions `DataFrame.to_latex` is expected to utilise the base implementation of `Styler.to_latex` for formatting and rendering. The arguments signature may therefore change. It is recommended instead to use `DataFrame.style.to_latex` which also contains additional functionality.\n",
      "  print(pt.Experiment([pipe_qe], topics21, qrels, names=[folders[i] + '_tuned_dlm_rm321'], eval_metrics=[\"ndcg_cut_5\", \"ndcg_cut_25\", \"bpref\"]).to_latex())\n",
      "/tmp/ipykernel_1663031/3362825214.py:43: FutureWarning: In future versions `DataFrame.to_latex` is expected to utilise the base implementation of `Styler.to_latex` for formatting and rendering. The arguments signature may therefore change. It is recommended instead to use `DataFrame.style.to_latex` which also contains additional functionality.\n",
      "  print(pt.Experiment([pipe_qe[pipe_qe['docno'].isin(docnos)]], topics, qrels, names=[folders[i] + '_tuned_dlm_rm3_unjudged'], eval_metrics=[\"ndcg_cut_5\", \"ndcg_cut_25\", \"bpref\"]).to_latex())\n"
     ]
    },
    {
     "name": "stdout",
     "output_type": "stream",
     "text": [
      "\\begin{tabular}{llrrr}\n",
      "\\toprule\n",
      "{} &                             name &  ndcg\\_cut\\_5 &  ndcg\\_cut\\_25 &     bpref \\\\\n",
      "\\midrule\n",
      "0 &  webd-dependency\\_tuned\\_dlm\\_rm321 &    0.294768 &     0.214516 &  0.353457 \\\\\n",
      "\\bottomrule\n",
      "\\end{tabular}\n",
      "\n",
      "\\begin{tabular}{llrrr}\n",
      "\\toprule\n",
      "{} &                                    name &  ndcg\\_cut\\_5 &  ndcg\\_cut\\_25 &     bpref \\\\\n",
      "\\midrule\n",
      "0 &  webd-dependency\\_tuned\\_dlm\\_rm3\\_unjudged &    0.552611 &     0.446512 &  0.415613 \\\\\n",
      "\\bottomrule\n",
      "\\end{tabular}\n",
      "\n"
     ]
    },
    {
     "name": "stderr",
     "output_type": "stream",
     "text": [
      "/tmp/ipykernel_1663031/3362825214.py:44: FutureWarning: In future versions `DataFrame.to_latex` is expected to utilise the base implementation of `Styler.to_latex` for formatting and rendering. The arguments signature may therefore change. It is recommended instead to use `DataFrame.style.to_latex` which also contains additional functionality.\n",
      "  print(pt.Experiment([pipe_qe[pipe_qe['docno'].isin(docnos20)]], topics20, qrels, names=[folders[i] + '_tuned_dlm_rm3_unjudged20'], eval_metrics=[\"ndcg_cut_5\", \"ndcg_cut_25\", \"bpref\"]).to_latex())\n",
      "/tmp/ipykernel_1663031/3362825214.py:45: FutureWarning: In future versions `DataFrame.to_latex` is expected to utilise the base implementation of `Styler.to_latex` for formatting and rendering. The arguments signature may therefore change. It is recommended instead to use `DataFrame.style.to_latex` which also contains additional functionality.\n",
      "  print(pt.Experiment([pipe_qe[pipe_qe['docno'].isin(docnos21)]], topics21, qrels, names=[folders[i] + '_tuned_dlm_rm3_unjudged21'], eval_metrics=[\"ndcg_cut_5\", \"ndcg_cut_25\", \"bpref\"]).to_latex())\n"
     ]
    },
    {
     "name": "stdout",
     "output_type": "stream",
     "text": [
      "\\begin{tabular}{llrrr}\n",
      "\\toprule\n",
      "{} &                                      name &  ndcg\\_cut\\_5 &  ndcg\\_cut\\_25 &     bpref \\\\\n",
      "\\midrule\n",
      "0 &  webd-dependency\\_tuned\\_dlm\\_rm3\\_unjudged20 &    0.683481 &     0.547655 &  0.479037 \\\\\n",
      "\\bottomrule\n",
      "\\end{tabular}\n",
      "\n",
      "\\begin{tabular}{llrrr}\n",
      "\\toprule\n",
      "{} &                                      name &  ndcg\\_cut\\_5 &  ndcg\\_cut\\_25 &     bpref \\\\\n",
      "\\midrule\n",
      "0 &  webd-dependency\\_tuned\\_dlm\\_rm3\\_unjudged21 &    0.512874 &     0.442735 &  0.353457 \\\\\n",
      "\\bottomrule\n",
      "\\end{tabular}\n",
      "\n",
      "/mnt/ceph/storage/data-in-progress/data-teaching/theses/wstud-thesis-hollatz/targer_indexes/pd_index_combined-fasttext-100/data.properties\n",
      "Fold 1\n",
      "Best ndcg_cut_5 is 0.551529\n",
      "Best setting is ['QueryExpansion(/mnt/ceph/storage/data-in-progress/data-teaching/theses/wstud-thesis-hollatz/targer_indexes/pd_index_combined-fasttext-100/data.properties,8,14,<org.terrier.querying.RM3 at 0x7fe6ff5d69f0 jclass=org/terrier/querying/RM3 jself=<LocalRef obj=0x55c7a79c0e10 at 0x7fe6e34dcf50>>) fb_terms=12', 'QueryExpansion(/mnt/ceph/storage/data-in-progress/data-teaching/theses/wstud-thesis-hollatz/targer_indexes/pd_index_combined-fasttext-100/data.properties,8,14,<org.terrier.querying.RM3 at 0x7fe6ff5d69f0 jclass=org/terrier/querying/RM3 jself=<LocalRef obj=0x55c7a79c0e10 at 0x7fe6e34dcf50>>) fb_docs=4', 'QueryExpansion(/mnt/ceph/storage/data-in-progress/data-teaching/theses/wstud-thesis-hollatz/targer_indexes/pd_index_combined-fasttext-100/data.properties,8,14,<org.terrier.querying.RM3 at 0x7fe6ff5d69f0 jclass=org/terrier/querying/RM3 jself=<LocalRef obj=0x55c7a79c0e10 at 0x7fe6e34dcf50>>) fb_lambda=0.2']\n",
      "Fold 2\n",
      "Best ndcg_cut_5 is 0.455765\n",
      "Best setting is ['QueryExpansion(/mnt/ceph/storage/data-in-progress/data-teaching/theses/wstud-thesis-hollatz/targer_indexes/pd_index_combined-fasttext-100/data.properties,8,14,<org.terrier.querying.RM3 at 0x7fe6ff5d69f0 jclass=org/terrier/querying/RM3 jself=<LocalRef obj=0x55c7a79c0e10 at 0x7fe6e34dcf50>>) fb_terms=4', 'QueryExpansion(/mnt/ceph/storage/data-in-progress/data-teaching/theses/wstud-thesis-hollatz/targer_indexes/pd_index_combined-fasttext-100/data.properties,8,14,<org.terrier.querying.RM3 at 0x7fe6ff5d69f0 jclass=org/terrier/querying/RM3 jself=<LocalRef obj=0x55c7a79c0e10 at 0x7fe6e34dcf50>>) fb_docs=4', 'QueryExpansion(/mnt/ceph/storage/data-in-progress/data-teaching/theses/wstud-thesis-hollatz/targer_indexes/pd_index_combined-fasttext-100/data.properties,8,14,<org.terrier.querying.RM3 at 0x7fe6ff5d69f0 jclass=org/terrier/querying/RM3 jself=<LocalRef obj=0x55c7a79c0e10 at 0x7fe6e34dcf50>>) fb_lambda=0.2']\n"
     ]
    },
    {
     "name": "stderr",
     "output_type": "stream",
     "text": [
      "/tmp/ipykernel_1663031/3362825214.py:39: FutureWarning: In future versions `DataFrame.to_latex` is expected to utilise the base implementation of `Styler.to_latex` for formatting and rendering. The arguments signature may therefore change. It is recommended instead to use `DataFrame.style.to_latex` which also contains additional functionality.\n",
      "  print(pt.Experiment([pipe_qe], topics, qrels, names=[folders[i] + '_tuned_dlm_rm3'], eval_metrics=[\"ndcg_cut_5\", \"ndcg_cut_25\", \"bpref\"]).to_latex())\n"
     ]
    },
    {
     "name": "stdout",
     "output_type": "stream",
     "text": [
      "\\begin{tabular}{llrrr}\n",
      "\\toprule\n",
      "{} &                             name &  ndcg\\_cut\\_5 &  ndcg\\_cut\\_25 &     bpref \\\\\n",
      "\\midrule\n",
      "0 &  combined-fasttext\\_tuned\\_dlm\\_rm3 &     0.47075 &     0.350483 &  0.555747 \\\\\n",
      "\\bottomrule\n",
      "\\end{tabular}\n",
      "\n"
     ]
    },
    {
     "name": "stderr",
     "output_type": "stream",
     "text": [
      "/tmp/ipykernel_1663031/3362825214.py:40: FutureWarning: In future versions `DataFrame.to_latex` is expected to utilise the base implementation of `Styler.to_latex` for formatting and rendering. The arguments signature may therefore change. It is recommended instead to use `DataFrame.style.to_latex` which also contains additional functionality.\n",
      "  print(pt.Experiment([pipe_qe], topics20, qrels, names=[folders[i] + '_tuned_dlm_rm320'], eval_metrics=[\"ndcg_cut_5\", \"ndcg_cut_25\", \"bpref\"]).to_latex())\n"
     ]
    },
    {
     "name": "stdout",
     "output_type": "stream",
     "text": [
      "\\begin{tabular}{llrrr}\n",
      "\\toprule\n",
      "{} &                               name &  ndcg\\_cut\\_5 &  ndcg\\_cut\\_25 &     bpref \\\\\n",
      "\\midrule\n",
      "0 &  combined-fasttext\\_tuned\\_dlm\\_rm320 &    0.405793 &     0.304637 &  0.544422 \\\\\n",
      "\\bottomrule\n",
      "\\end{tabular}\n",
      "\n"
     ]
    },
    {
     "name": "stderr",
     "output_type": "stream",
     "text": [
      "/tmp/ipykernel_1663031/3362825214.py:41: FutureWarning: In future versions `DataFrame.to_latex` is expected to utilise the base implementation of `Styler.to_latex` for formatting and rendering. The arguments signature may therefore change. It is recommended instead to use `DataFrame.style.to_latex` which also contains additional functionality.\n",
      "  print(pt.Experiment([pipe_qe], topics21, qrels, names=[folders[i] + '_tuned_dlm_rm321'], eval_metrics=[\"ndcg_cut_5\", \"ndcg_cut_25\", \"bpref\"]).to_latex())\n",
      "/tmp/ipykernel_1663031/3362825214.py:43: FutureWarning: In future versions `DataFrame.to_latex` is expected to utilise the base implementation of `Styler.to_latex` for formatting and rendering. The arguments signature may therefore change. It is recommended instead to use `DataFrame.style.to_latex` which also contains additional functionality.\n",
      "  print(pt.Experiment([pipe_qe[pipe_qe['docno'].isin(docnos)]], topics, qrels, names=[folders[i] + '_tuned_dlm_rm3_unjudged'], eval_metrics=[\"ndcg_cut_5\", \"ndcg_cut_25\", \"bpref\"]).to_latex())\n",
      "/tmp/ipykernel_1663031/3362825214.py:44: FutureWarning: In future versions `DataFrame.to_latex` is expected to utilise the base implementation of `Styler.to_latex` for formatting and rendering. The arguments signature may therefore change. It is recommended instead to use `DataFrame.style.to_latex` which also contains additional functionality.\n",
      "  print(pt.Experiment([pipe_qe[pipe_qe['docno'].isin(docnos20)]], topics20, qrels, names=[folders[i] + '_tuned_dlm_rm3_unjudged20'], eval_metrics=[\"ndcg_cut_5\", \"ndcg_cut_25\", \"bpref\"]).to_latex())\n"
     ]
    },
    {
     "name": "stdout",
     "output_type": "stream",
     "text": [
      "\\begin{tabular}{llrrr}\n",
      "\\toprule\n",
      "{} &                               name &  ndcg\\_cut\\_5 &  ndcg\\_cut\\_25 &     bpref \\\\\n",
      "\\midrule\n",
      "0 &  combined-fasttext\\_tuned\\_dlm\\_rm321 &    0.534407 &     0.395413 &  0.566846 \\\\\n",
      "\\bottomrule\n",
      "\\end{tabular}\n",
      "\n",
      "\\begin{tabular}{llrrr}\n",
      "\\toprule\n",
      "{} &                                      name &  ndcg\\_cut\\_5 &  ndcg\\_cut\\_25 &     bpref \\\\\n",
      "\\midrule\n",
      "0 &  combined-fasttext\\_tuned\\_dlm\\_rm3\\_unjudged &    0.647846 &     0.585297 &  0.555747 \\\\\n",
      "\\bottomrule\n",
      "\\end{tabular}\n",
      "\n",
      "\\begin{tabular}{llrrr}\n",
      "\\toprule\n",
      "{} &                                        name &  ndcg\\_cut\\_5 &  ndcg\\_cut\\_25 &     bpref \\\\\n",
      "\\midrule\n",
      "0 &  combined-fasttext\\_tuned\\_dlm\\_rm3\\_unjudged20 &    0.749686 &     0.645563 &  0.544422 \\\\\n",
      "\\bottomrule\n",
      "\\end{tabular}\n",
      "\n",
      "\\begin{tabular}{llrrr}\n",
      "\\toprule\n",
      "{} &                                        name &  ndcg\\_cut\\_5 &  ndcg\\_cut\\_25 &     bpref \\\\\n",
      "\\midrule\n",
      "0 &  combined-fasttext\\_tuned\\_dlm\\_rm3\\_unjudged21 &    0.634968 &     0.607975 &  0.566846 \\\\\n",
      "\\bottomrule\n",
      "\\end{tabular}\n",
      "\n"
     ]
    },
    {
     "name": "stderr",
     "output_type": "stream",
     "text": [
      "/tmp/ipykernel_1663031/3362825214.py:45: FutureWarning: In future versions `DataFrame.to_latex` is expected to utilise the base implementation of `Styler.to_latex` for formatting and rendering. The arguments signature may therefore change. It is recommended instead to use `DataFrame.style.to_latex` which also contains additional functionality.\n",
      "  print(pt.Experiment([pipe_qe[pipe_qe['docno'].isin(docnos21)]], topics21, qrels, names=[folders[i] + '_tuned_dlm_rm3_unjudged21'], eval_metrics=[\"ndcg_cut_5\", \"ndcg_cut_25\", \"bpref\"]).to_latex())\n"
     ]
    },
    {
     "name": "stdout",
     "output_type": "stream",
     "text": [
      "/mnt/ceph/storage/data-in-progress/data-teaching/theses/wstud-thesis-hollatz/targer_indexes/pd_index_essays-dependency-100/data.properties\n",
      "Fold 1\n",
      "Best ndcg_cut_5 is 0.512652\n",
      "Best setting is ['QueryExpansion(/mnt/ceph/storage/data-in-progress/data-teaching/theses/wstud-thesis-hollatz/targer_indexes/pd_index_essays-dependency-100/data.properties,8,14,<org.terrier.querying.RM3 at 0x7fe6e34b6b80 jclass=org/terrier/querying/RM3 jself=<LocalRef obj=0x55c7a6cfd9e0 at 0x7fe6fe594b30>>) fb_terms=14', 'QueryExpansion(/mnt/ceph/storage/data-in-progress/data-teaching/theses/wstud-thesis-hollatz/targer_indexes/pd_index_essays-dependency-100/data.properties,8,14,<org.terrier.querying.RM3 at 0x7fe6e34b6b80 jclass=org/terrier/querying/RM3 jself=<LocalRef obj=0x55c7a6cfd9e0 at 0x7fe6fe594b30>>) fb_docs=4', 'QueryExpansion(/mnt/ceph/storage/data-in-progress/data-teaching/theses/wstud-thesis-hollatz/targer_indexes/pd_index_essays-dependency-100/data.properties,8,14,<org.terrier.querying.RM3 at 0x7fe6e34b6b80 jclass=org/terrier/querying/RM3 jself=<LocalRef obj=0x55c7a6cfd9e0 at 0x7fe6fe594b30>>) fb_lambda=0.2']\n",
      "Fold 2\n",
      "Best ndcg_cut_5 is 0.426753\n",
      "Best setting is ['QueryExpansion(/mnt/ceph/storage/data-in-progress/data-teaching/theses/wstud-thesis-hollatz/targer_indexes/pd_index_essays-dependency-100/data.properties,8,14,<org.terrier.querying.RM3 at 0x7fe6e34b6b80 jclass=org/terrier/querying/RM3 jself=<LocalRef obj=0x55c7a6cfd9e0 at 0x7fe6fe594b30>>) fb_terms=6', 'QueryExpansion(/mnt/ceph/storage/data-in-progress/data-teaching/theses/wstud-thesis-hollatz/targer_indexes/pd_index_essays-dependency-100/data.properties,8,14,<org.terrier.querying.RM3 at 0x7fe6e34b6b80 jclass=org/terrier/querying/RM3 jself=<LocalRef obj=0x55c7a6cfd9e0 at 0x7fe6fe594b30>>) fb_docs=4', 'QueryExpansion(/mnt/ceph/storage/data-in-progress/data-teaching/theses/wstud-thesis-hollatz/targer_indexes/pd_index_essays-dependency-100/data.properties,8,14,<org.terrier.querying.RM3 at 0x7fe6e34b6b80 jclass=org/terrier/querying/RM3 jself=<LocalRef obj=0x55c7a6cfd9e0 at 0x7fe6fe594b30>>) fb_lambda=0.2']\n"
     ]
    },
    {
     "name": "stderr",
     "output_type": "stream",
     "text": [
      "/tmp/ipykernel_1663031/3362825214.py:39: FutureWarning: In future versions `DataFrame.to_latex` is expected to utilise the base implementation of `Styler.to_latex` for formatting and rendering. The arguments signature may therefore change. It is recommended instead to use `DataFrame.style.to_latex` which also contains additional functionality.\n",
      "  print(pt.Experiment([pipe_qe], topics, qrels, names=[folders[i] + '_tuned_dlm_rm3'], eval_metrics=[\"ndcg_cut_5\", \"ndcg_cut_25\", \"bpref\"]).to_latex())\n"
     ]
    },
    {
     "name": "stdout",
     "output_type": "stream",
     "text": [
      "\\begin{tabular}{llrrr}\n",
      "\\toprule\n",
      "{} &                             name &  ndcg\\_cut\\_5 &  ndcg\\_cut\\_25 &     bpref \\\\\n",
      "\\midrule\n",
      "0 &  essays-dependency\\_tuned\\_dlm\\_rm3 &    0.416989 &       0.3117 &  0.527235 \\\\\n",
      "\\bottomrule\n",
      "\\end{tabular}\n",
      "\n"
     ]
    },
    {
     "name": "stderr",
     "output_type": "stream",
     "text": [
      "/tmp/ipykernel_1663031/3362825214.py:40: FutureWarning: In future versions `DataFrame.to_latex` is expected to utilise the base implementation of `Styler.to_latex` for formatting and rendering. The arguments signature may therefore change. It is recommended instead to use `DataFrame.style.to_latex` which also contains additional functionality.\n",
      "  print(pt.Experiment([pipe_qe], topics20, qrels, names=[folders[i] + '_tuned_dlm_rm320'], eval_metrics=[\"ndcg_cut_5\", \"ndcg_cut_25\", \"bpref\"]).to_latex())\n"
     ]
    },
    {
     "name": "stdout",
     "output_type": "stream",
     "text": [
      "\\begin{tabular}{llrrr}\n",
      "\\toprule\n",
      "{} &                               name &  ndcg\\_cut\\_5 &  ndcg\\_cut\\_25 &     bpref \\\\\n",
      "\\midrule\n",
      "0 &  essays-dependency\\_tuned\\_dlm\\_rm320 &    0.370552 &      0.28545 &  0.528151 \\\\\n",
      "\\bottomrule\n",
      "\\end{tabular}\n",
      "\n"
     ]
    },
    {
     "name": "stderr",
     "output_type": "stream",
     "text": [
      "/tmp/ipykernel_1663031/3362825214.py:41: FutureWarning: In future versions `DataFrame.to_latex` is expected to utilise the base implementation of `Styler.to_latex` for formatting and rendering. The arguments signature may therefore change. It is recommended instead to use `DataFrame.style.to_latex` which also contains additional functionality.\n",
      "  print(pt.Experiment([pipe_qe], topics21, qrels, names=[folders[i] + '_tuned_dlm_rm321'], eval_metrics=[\"ndcg_cut_5\", \"ndcg_cut_25\", \"bpref\"]).to_latex())\n",
      "/tmp/ipykernel_1663031/3362825214.py:43: FutureWarning: In future versions `DataFrame.to_latex` is expected to utilise the base implementation of `Styler.to_latex` for formatting and rendering. The arguments signature may therefore change. It is recommended instead to use `DataFrame.style.to_latex` which also contains additional functionality.\n",
      "  print(pt.Experiment([pipe_qe[pipe_qe['docno'].isin(docnos)]], topics, qrels, names=[folders[i] + '_tuned_dlm_rm3_unjudged'], eval_metrics=[\"ndcg_cut_5\", \"ndcg_cut_25\", \"bpref\"]).to_latex())\n",
      "/tmp/ipykernel_1663031/3362825214.py:44: FutureWarning: In future versions `DataFrame.to_latex` is expected to utilise the base implementation of `Styler.to_latex` for formatting and rendering. The arguments signature may therefore change. It is recommended instead to use `DataFrame.style.to_latex` which also contains additional functionality.\n",
      "  print(pt.Experiment([pipe_qe[pipe_qe['docno'].isin(docnos20)]], topics20, qrels, names=[folders[i] + '_tuned_dlm_rm3_unjudged20'], eval_metrics=[\"ndcg_cut_5\", \"ndcg_cut_25\", \"bpref\"]).to_latex())\n",
      "/tmp/ipykernel_1663031/3362825214.py:45: FutureWarning: In future versions `DataFrame.to_latex` is expected to utilise the base implementation of `Styler.to_latex` for formatting and rendering. The arguments signature may therefore change. It is recommended instead to use `DataFrame.style.to_latex` which also contains additional functionality.\n",
      "  print(pt.Experiment([pipe_qe[pipe_qe['docno'].isin(docnos21)]], topics21, qrels, names=[folders[i] + '_tuned_dlm_rm3_unjudged21'], eval_metrics=[\"ndcg_cut_5\", \"ndcg_cut_25\", \"bpref\"]).to_latex())\n"
     ]
    },
    {
     "name": "stdout",
     "output_type": "stream",
     "text": [
      "\\begin{tabular}{llrrr}\n",
      "\\toprule\n",
      "{} &                               name &  ndcg\\_cut\\_5 &  ndcg\\_cut\\_25 &     bpref \\\\\n",
      "\\midrule\n",
      "0 &  essays-dependency\\_tuned\\_dlm\\_rm321 &    0.462497 &     0.337425 &  0.526338 \\\\\n",
      "\\bottomrule\n",
      "\\end{tabular}\n",
      "\n",
      "\\begin{tabular}{llrrr}\n",
      "\\toprule\n",
      "{} &                                      name &  ndcg\\_cut\\_5 &  ndcg\\_cut\\_25 &     bpref \\\\\n",
      "\\midrule\n",
      "0 &  essays-dependency\\_tuned\\_dlm\\_rm3\\_unjudged &    0.634938 &     0.554848 &  0.527235 \\\\\n",
      "\\bottomrule\n",
      "\\end{tabular}\n",
      "\n",
      "\\begin{tabular}{llrrr}\n",
      "\\toprule\n",
      "{} &                                        name &  ndcg\\_cut\\_5 &  ndcg\\_cut\\_25 &     bpref \\\\\n",
      "\\midrule\n",
      "0 &  essays-dependency\\_tuned\\_dlm\\_rm3\\_unjudged20 &     0.73461 &     0.621543 &  0.528151 \\\\\n",
      "\\bottomrule\n",
      "\\end{tabular}\n",
      "\n",
      "\\begin{tabular}{llrrr}\n",
      "\\toprule\n",
      "{} &                                        name &  ndcg\\_cut\\_5 &  ndcg\\_cut\\_25 &     bpref \\\\\n",
      "\\midrule\n",
      "0 &  essays-dependency\\_tuned\\_dlm\\_rm3\\_unjudged21 &    0.588336 &     0.580125 &  0.526338 \\\\\n",
      "\\bottomrule\n",
      "\\end{tabular}\n",
      "\n",
      "/mnt/ceph/storage/data-in-progress/data-teaching/theses/wstud-thesis-hollatz/targer_indexes/pd_index_original-100/data.properties\n",
      "Fold 1\n",
      "Best ndcg_cut_5 is 0.559156\n",
      "Best setting is ['QueryExpansion(/mnt/ceph/storage/data-in-progress/data-teaching/theses/wstud-thesis-hollatz/targer_indexes/pd_index_original-100/data.properties,8,14,<org.terrier.querying.RM3 at 0x7fe6e30eb040 jclass=org/terrier/querying/RM3 jself=<LocalRef obj=0x55c7a79c0dd8 at 0x7fe6fe019e90>>) fb_terms=6', 'QueryExpansion(/mnt/ceph/storage/data-in-progress/data-teaching/theses/wstud-thesis-hollatz/targer_indexes/pd_index_original-100/data.properties,8,14,<org.terrier.querying.RM3 at 0x7fe6e30eb040 jclass=org/terrier/querying/RM3 jself=<LocalRef obj=0x55c7a79c0dd8 at 0x7fe6fe019e90>>) fb_docs=4', 'QueryExpansion(/mnt/ceph/storage/data-in-progress/data-teaching/theses/wstud-thesis-hollatz/targer_indexes/pd_index_original-100/data.properties,8,14,<org.terrier.querying.RM3 at 0x7fe6e30eb040 jclass=org/terrier/querying/RM3 jself=<LocalRef obj=0x55c7a79c0dd8 at 0x7fe6fe019e90>>) fb_lambda=0.2']\n",
      "Fold 2\n",
      "Best ndcg_cut_5 is 0.514496\n",
      "Best setting is ['QueryExpansion(/mnt/ceph/storage/data-in-progress/data-teaching/theses/wstud-thesis-hollatz/targer_indexes/pd_index_original-100/data.properties,8,14,<org.terrier.querying.RM3 at 0x7fe6e30eb040 jclass=org/terrier/querying/RM3 jself=<LocalRef obj=0x55c7a79c0dd8 at 0x7fe6fe019e90>>) fb_terms=6', 'QueryExpansion(/mnt/ceph/storage/data-in-progress/data-teaching/theses/wstud-thesis-hollatz/targer_indexes/pd_index_original-100/data.properties,8,14,<org.terrier.querying.RM3 at 0x7fe6e30eb040 jclass=org/terrier/querying/RM3 jself=<LocalRef obj=0x55c7a79c0dd8 at 0x7fe6fe019e90>>) fb_docs=8', 'QueryExpansion(/mnt/ceph/storage/data-in-progress/data-teaching/theses/wstud-thesis-hollatz/targer_indexes/pd_index_original-100/data.properties,8,14,<org.terrier.querying.RM3 at 0x7fe6e30eb040 jclass=org/terrier/querying/RM3 jself=<LocalRef obj=0x55c7a79c0dd8 at 0x7fe6fe019e90>>) fb_lambda=0.2']\n"
     ]
    },
    {
     "name": "stderr",
     "output_type": "stream",
     "text": [
      "/tmp/ipykernel_1663031/3362825214.py:39: FutureWarning: In future versions `DataFrame.to_latex` is expected to utilise the base implementation of `Styler.to_latex` for formatting and rendering. The arguments signature may therefore change. It is recommended instead to use `DataFrame.style.to_latex` which also contains additional functionality.\n",
      "  print(pt.Experiment([pipe_qe], topics, qrels, names=[folders[i] + '_tuned_dlm_rm3'], eval_metrics=[\"ndcg_cut_5\", \"ndcg_cut_25\", \"bpref\"]).to_latex())\n"
     ]
    },
    {
     "name": "stdout",
     "output_type": "stream",
     "text": [
      "\\begin{tabular}{llrrr}\n",
      "\\toprule\n",
      "{} &                    name &  ndcg\\_cut\\_5 &  ndcg\\_cut\\_25 &     bpref \\\\\n",
      "\\midrule\n",
      "0 &  original\\_tuned\\_dlm\\_rm3 &    0.497589 &     0.363329 &  0.570722 \\\\\n",
      "\\bottomrule\n",
      "\\end{tabular}\n",
      "\n"
     ]
    },
    {
     "name": "stderr",
     "output_type": "stream",
     "text": [
      "/tmp/ipykernel_1663031/3362825214.py:40: FutureWarning: In future versions `DataFrame.to_latex` is expected to utilise the base implementation of `Styler.to_latex` for formatting and rendering. The arguments signature may therefore change. It is recommended instead to use `DataFrame.style.to_latex` which also contains additional functionality.\n",
      "  print(pt.Experiment([pipe_qe], topics20, qrels, names=[folders[i] + '_tuned_dlm_rm320'], eval_metrics=[\"ndcg_cut_5\", \"ndcg_cut_25\", \"bpref\"]).to_latex())\n"
     ]
    },
    {
     "name": "stdout",
     "output_type": "stream",
     "text": [
      "\\begin{tabular}{llrrr}\n",
      "\\toprule\n",
      "{} &                      name &  ndcg\\_cut\\_5 &  ndcg\\_cut\\_25 &     bpref \\\\\n",
      "\\midrule\n",
      "0 &  original\\_tuned\\_dlm\\_rm320 &    0.451997 &     0.346067 &  0.582728 \\\\\n",
      "\\bottomrule\n",
      "\\end{tabular}\n",
      "\n"
     ]
    },
    {
     "name": "stderr",
     "output_type": "stream",
     "text": [
      "/tmp/ipykernel_1663031/3362825214.py:41: FutureWarning: In future versions `DataFrame.to_latex` is expected to utilise the base implementation of `Styler.to_latex` for formatting and rendering. The arguments signature may therefore change. It is recommended instead to use `DataFrame.style.to_latex` which also contains additional functionality.\n",
      "  print(pt.Experiment([pipe_qe], topics21, qrels, names=[folders[i] + '_tuned_dlm_rm321'], eval_metrics=[\"ndcg_cut_5\", \"ndcg_cut_25\", \"bpref\"]).to_latex())\n",
      "/tmp/ipykernel_1663031/3362825214.py:43: FutureWarning: In future versions `DataFrame.to_latex` is expected to utilise the base implementation of `Styler.to_latex` for formatting and rendering. The arguments signature may therefore change. It is recommended instead to use `DataFrame.style.to_latex` which also contains additional functionality.\n",
      "  print(pt.Experiment([pipe_qe[pipe_qe['docno'].isin(docnos)]], topics, qrels, names=[folders[i] + '_tuned_dlm_rm3_unjudged'], eval_metrics=[\"ndcg_cut_5\", \"ndcg_cut_25\", \"bpref\"]).to_latex())\n",
      "/tmp/ipykernel_1663031/3362825214.py:44: FutureWarning: In future versions `DataFrame.to_latex` is expected to utilise the base implementation of `Styler.to_latex` for formatting and rendering. The arguments signature may therefore change. It is recommended instead to use `DataFrame.style.to_latex` which also contains additional functionality.\n",
      "  print(pt.Experiment([pipe_qe[pipe_qe['docno'].isin(docnos20)]], topics20, qrels, names=[folders[i] + '_tuned_dlm_rm3_unjudged20'], eval_metrics=[\"ndcg_cut_5\", \"ndcg_cut_25\", \"bpref\"]).to_latex())\n",
      "/tmp/ipykernel_1663031/3362825214.py:45: FutureWarning: In future versions `DataFrame.to_latex` is expected to utilise the base implementation of `Styler.to_latex` for formatting and rendering. The arguments signature may therefore change. It is recommended instead to use `DataFrame.style.to_latex` which also contains additional functionality.\n",
      "  print(pt.Experiment([pipe_qe[pipe_qe['docno'].isin(docnos21)]], topics21, qrels, names=[folders[i] + '_tuned_dlm_rm3_unjudged21'], eval_metrics=[\"ndcg_cut_5\", \"ndcg_cut_25\", \"bpref\"]).to_latex())\n"
     ]
    },
    {
     "name": "stdout",
     "output_type": "stream",
     "text": [
      "\\begin{tabular}{llrrr}\n",
      "\\toprule\n",
      "{} &                      name &  ndcg\\_cut\\_5 &  ndcg\\_cut\\_25 &     bpref \\\\\n",
      "\\midrule\n",
      "0 &  original\\_tuned\\_dlm\\_rm321 &    0.542269 &     0.380245 &  0.558956 \\\\\n",
      "\\bottomrule\n",
      "\\end{tabular}\n",
      "\n",
      "\\begin{tabular}{llrrr}\n",
      "\\toprule\n",
      "{} &                             name &  ndcg\\_cut\\_5 &  ndcg\\_cut\\_25 &     bpref \\\\\n",
      "\\midrule\n",
      "0 &  original\\_tuned\\_dlm\\_rm3\\_unjudged &     0.67096 &     0.597822 &  0.570722 \\\\\n",
      "\\bottomrule\n",
      "\\end{tabular}\n",
      "\n",
      "\\begin{tabular}{llrrr}\n",
      "\\toprule\n",
      "{} &                               name &  ndcg\\_cut\\_5 &  ndcg\\_cut\\_25 &     bpref \\\\\n",
      "\\midrule\n",
      "0 &  original\\_tuned\\_dlm\\_rm3\\_unjudged20 &    0.778878 &     0.685032 &  0.582728 \\\\\n",
      "\\bottomrule\n",
      "\\end{tabular}\n",
      "\n",
      "\\begin{tabular}{llrrr}\n",
      "\\toprule\n",
      "{} &                               name &  ndcg\\_cut\\_5 &  ndcg\\_cut\\_25 &     bpref \\\\\n",
      "\\midrule\n",
      "0 &  original\\_tuned\\_dlm\\_rm3\\_unjudged21 &    0.621992 &     0.594125 &  0.558956 \\\\\n",
      "\\bottomrule\n",
      "\\end{tabular}\n",
      "\n",
      "/mnt/ceph/storage/data-in-progress/data-teaching/theses/wstud-thesis-hollatz/targer_indexes/pd_index_essays-fasttext-100/data.properties\n",
      "Fold 1\n",
      "Best ndcg_cut_5 is 0.543247\n",
      "Best setting is ['QueryExpansion(/mnt/ceph/storage/data-in-progress/data-teaching/theses/wstud-thesis-hollatz/targer_indexes/pd_index_essays-fasttext-100/data.properties,8,14,<org.terrier.querying.RM3 at 0x7fe6fed1f090 jclass=org/terrier/querying/RM3 jself=<LocalRef obj=0x55c7a79c0d40 at 0x7fe6fe28a150>>) fb_terms=6', 'QueryExpansion(/mnt/ceph/storage/data-in-progress/data-teaching/theses/wstud-thesis-hollatz/targer_indexes/pd_index_essays-fasttext-100/data.properties,8,14,<org.terrier.querying.RM3 at 0x7fe6fed1f090 jclass=org/terrier/querying/RM3 jself=<LocalRef obj=0x55c7a79c0d40 at 0x7fe6fe28a150>>) fb_docs=6', 'QueryExpansion(/mnt/ceph/storage/data-in-progress/data-teaching/theses/wstud-thesis-hollatz/targer_indexes/pd_index_essays-fasttext-100/data.properties,8,14,<org.terrier.querying.RM3 at 0x7fe6fed1f090 jclass=org/terrier/querying/RM3 jself=<LocalRef obj=0x55c7a79c0d40 at 0x7fe6fe28a150>>) fb_lambda=0.2']\n",
      "Fold 2\n",
      "Best ndcg_cut_5 is 0.465805\n",
      "Best setting is ['QueryExpansion(/mnt/ceph/storage/data-in-progress/data-teaching/theses/wstud-thesis-hollatz/targer_indexes/pd_index_essays-fasttext-100/data.properties,8,14,<org.terrier.querying.RM3 at 0x7fe6fed1f090 jclass=org/terrier/querying/RM3 jself=<LocalRef obj=0x55c7a79c0d40 at 0x7fe6fe28a150>>) fb_terms=4', 'QueryExpansion(/mnt/ceph/storage/data-in-progress/data-teaching/theses/wstud-thesis-hollatz/targer_indexes/pd_index_essays-fasttext-100/data.properties,8,14,<org.terrier.querying.RM3 at 0x7fe6fed1f090 jclass=org/terrier/querying/RM3 jself=<LocalRef obj=0x55c7a79c0d40 at 0x7fe6fe28a150>>) fb_docs=6', 'QueryExpansion(/mnt/ceph/storage/data-in-progress/data-teaching/theses/wstud-thesis-hollatz/targer_indexes/pd_index_essays-fasttext-100/data.properties,8,14,<org.terrier.querying.RM3 at 0x7fe6fed1f090 jclass=org/terrier/querying/RM3 jself=<LocalRef obj=0x55c7a79c0d40 at 0x7fe6fe28a150>>) fb_lambda=0.2']\n"
     ]
    },
    {
     "name": "stderr",
     "output_type": "stream",
     "text": [
      "/tmp/ipykernel_1663031/3362825214.py:39: FutureWarning: In future versions `DataFrame.to_latex` is expected to utilise the base implementation of `Styler.to_latex` for formatting and rendering. The arguments signature may therefore change. It is recommended instead to use `DataFrame.style.to_latex` which also contains additional functionality.\n",
      "  print(pt.Experiment([pipe_qe], topics, qrels, names=[folders[i] + '_tuned_dlm_rm3'], eval_metrics=[\"ndcg_cut_5\", \"ndcg_cut_25\", \"bpref\"]).to_latex())\n"
     ]
    },
    {
     "name": "stdout",
     "output_type": "stream",
     "text": [
      "\\begin{tabular}{llrrr}\n",
      "\\toprule\n",
      "{} &                           name &  ndcg\\_cut\\_5 &  ndcg\\_cut\\_25 &     bpref \\\\\n",
      "\\midrule\n",
      "0 &  essays-fasttext\\_tuned\\_dlm\\_rm3 &    0.477164 &     0.360711 &  0.563467 \\\\\n",
      "\\bottomrule\n",
      "\\end{tabular}\n",
      "\n"
     ]
    },
    {
     "name": "stderr",
     "output_type": "stream",
     "text": [
      "/tmp/ipykernel_1663031/3362825214.py:40: FutureWarning: In future versions `DataFrame.to_latex` is expected to utilise the base implementation of `Styler.to_latex` for formatting and rendering. The arguments signature may therefore change. It is recommended instead to use `DataFrame.style.to_latex` which also contains additional functionality.\n",
      "  print(pt.Experiment([pipe_qe], topics20, qrels, names=[folders[i] + '_tuned_dlm_rm320'], eval_metrics=[\"ndcg_cut_5\", \"ndcg_cut_25\", \"bpref\"]).to_latex())\n"
     ]
    },
    {
     "name": "stdout",
     "output_type": "stream",
     "text": [
      "\\begin{tabular}{llrrr}\n",
      "\\toprule\n",
      "{} &                             name &  ndcg\\_cut\\_5 &  ndcg\\_cut\\_25 &     bpref \\\\\n",
      "\\midrule\n",
      "0 &  essays-fasttext\\_tuned\\_dlm\\_rm320 &    0.447679 &     0.348043 &  0.581076 \\\\\n",
      "\\bottomrule\n",
      "\\end{tabular}\n",
      "\n"
     ]
    },
    {
     "name": "stderr",
     "output_type": "stream",
     "text": [
      "/tmp/ipykernel_1663031/3362825214.py:41: FutureWarning: In future versions `DataFrame.to_latex` is expected to utilise the base implementation of `Styler.to_latex` for formatting and rendering. The arguments signature may therefore change. It is recommended instead to use `DataFrame.style.to_latex` which also contains additional functionality.\n",
      "  print(pt.Experiment([pipe_qe], topics21, qrels, names=[folders[i] + '_tuned_dlm_rm321'], eval_metrics=[\"ndcg_cut_5\", \"ndcg_cut_25\", \"bpref\"]).to_latex())\n",
      "/tmp/ipykernel_1663031/3362825214.py:43: FutureWarning: In future versions `DataFrame.to_latex` is expected to utilise the base implementation of `Styler.to_latex` for formatting and rendering. The arguments signature may therefore change. It is recommended instead to use `DataFrame.style.to_latex` which also contains additional functionality.\n",
      "  print(pt.Experiment([pipe_qe[pipe_qe['docno'].isin(docnos)]], topics, qrels, names=[folders[i] + '_tuned_dlm_rm3_unjudged'], eval_metrics=[\"ndcg_cut_5\", \"ndcg_cut_25\", \"bpref\"]).to_latex())\n",
      "/tmp/ipykernel_1663031/3362825214.py:44: FutureWarning: In future versions `DataFrame.to_latex` is expected to utilise the base implementation of `Styler.to_latex` for formatting and rendering. The arguments signature may therefore change. It is recommended instead to use `DataFrame.style.to_latex` which also contains additional functionality.\n",
      "  print(pt.Experiment([pipe_qe[pipe_qe['docno'].isin(docnos20)]], topics20, qrels, names=[folders[i] + '_tuned_dlm_rm3_unjudged20'], eval_metrics=[\"ndcg_cut_5\", \"ndcg_cut_25\", \"bpref\"]).to_latex())\n",
      "/tmp/ipykernel_1663031/3362825214.py:45: FutureWarning: In future versions `DataFrame.to_latex` is expected to utilise the base implementation of `Styler.to_latex` for formatting and rendering. The arguments signature may therefore change. It is recommended instead to use `DataFrame.style.to_latex` which also contains additional functionality.\n",
      "  print(pt.Experiment([pipe_qe[pipe_qe['docno'].isin(docnos21)]], topics21, qrels, names=[folders[i] + '_tuned_dlm_rm3_unjudged21'], eval_metrics=[\"ndcg_cut_5\", \"ndcg_cut_25\", \"bpref\"]).to_latex())\n"
     ]
    },
    {
     "name": "stdout",
     "output_type": "stream",
     "text": [
      "\\begin{tabular}{llrrr}\n",
      "\\toprule\n",
      "{} &                             name &  ndcg\\_cut\\_5 &  ndcg\\_cut\\_25 &    bpref \\\\\n",
      "\\midrule\n",
      "0 &  essays-fasttext\\_tuned\\_dlm\\_rm321 &    0.506059 &     0.373125 &  0.54621 \\\\\n",
      "\\bottomrule\n",
      "\\end{tabular}\n",
      "\n",
      "\\begin{tabular}{llrrr}\n",
      "\\toprule\n",
      "{} &                                    name &  ndcg\\_cut\\_5 &  ndcg\\_cut\\_25 &     bpref \\\\\n",
      "\\midrule\n",
      "0 &  essays-fasttext\\_tuned\\_dlm\\_rm3\\_unjudged &    0.663977 &      0.59737 &  0.563467 \\\\\n",
      "\\bottomrule\n",
      "\\end{tabular}\n",
      "\n",
      "\\begin{tabular}{llrrr}\n",
      "\\toprule\n",
      "{} &                                      name &  ndcg\\_cut\\_5 &  ndcg\\_cut\\_25 &     bpref \\\\\n",
      "\\midrule\n",
      "0 &  essays-fasttext\\_tuned\\_dlm\\_rm3\\_unjudged20 &    0.791273 &     0.689282 &  0.581076 \\\\\n",
      "\\bottomrule\n",
      "\\end{tabular}\n",
      "\n",
      "\\begin{tabular}{llrrr}\n",
      "\\toprule\n",
      "{} &                                      name &  ndcg\\_cut\\_5 &  ndcg\\_cut\\_25 &    bpref \\\\\n",
      "\\midrule\n",
      "0 &  essays-fasttext\\_tuned\\_dlm\\_rm3\\_unjudged21 &    0.614506 &      0.59497 &  0.54621 \\\\\n",
      "\\bottomrule\n",
      "\\end{tabular}\n",
      "\n",
      "/mnt/ceph/storage/data-in-progress/data-teaching/theses/wstud-thesis-hollatz/targer_indexes/pd_index_ibm-fasttext-100/data.properties\n",
      "Fold 1\n",
      "Best ndcg_cut_5 is 0.569701\n",
      "Best setting is ['QueryExpansion(/mnt/ceph/storage/data-in-progress/data-teaching/theses/wstud-thesis-hollatz/targer_indexes/pd_index_ibm-fasttext-100/data.properties,8,14,<org.terrier.querying.RM3 at 0x7fe6fdb28e00 jclass=org/terrier/querying/RM3 jself=<LocalRef obj=0x55c7a79c0dd8 at 0x7fe6fda9b810>>) fb_terms=6', 'QueryExpansion(/mnt/ceph/storage/data-in-progress/data-teaching/theses/wstud-thesis-hollatz/targer_indexes/pd_index_ibm-fasttext-100/data.properties,8,14,<org.terrier.querying.RM3 at 0x7fe6fdb28e00 jclass=org/terrier/querying/RM3 jself=<LocalRef obj=0x55c7a79c0dd8 at 0x7fe6fda9b810>>) fb_docs=4', 'QueryExpansion(/mnt/ceph/storage/data-in-progress/data-teaching/theses/wstud-thesis-hollatz/targer_indexes/pd_index_ibm-fasttext-100/data.properties,8,14,<org.terrier.querying.RM3 at 0x7fe6fdb28e00 jclass=org/terrier/querying/RM3 jself=<LocalRef obj=0x55c7a79c0dd8 at 0x7fe6fda9b810>>) fb_lambda=0.2']\n",
      "Fold 2\n",
      "Best ndcg_cut_5 is 0.506837\n",
      "Best setting is ['QueryExpansion(/mnt/ceph/storage/data-in-progress/data-teaching/theses/wstud-thesis-hollatz/targer_indexes/pd_index_ibm-fasttext-100/data.properties,8,14,<org.terrier.querying.RM3 at 0x7fe6fdb28e00 jclass=org/terrier/querying/RM3 jself=<LocalRef obj=0x55c7a79c0dd8 at 0x7fe6fda9b810>>) fb_terms=4', 'QueryExpansion(/mnt/ceph/storage/data-in-progress/data-teaching/theses/wstud-thesis-hollatz/targer_indexes/pd_index_ibm-fasttext-100/data.properties,8,14,<org.terrier.querying.RM3 at 0x7fe6fdb28e00 jclass=org/terrier/querying/RM3 jself=<LocalRef obj=0x55c7a79c0dd8 at 0x7fe6fda9b810>>) fb_docs=8', 'QueryExpansion(/mnt/ceph/storage/data-in-progress/data-teaching/theses/wstud-thesis-hollatz/targer_indexes/pd_index_ibm-fasttext-100/data.properties,8,14,<org.terrier.querying.RM3 at 0x7fe6fdb28e00 jclass=org/terrier/querying/RM3 jself=<LocalRef obj=0x55c7a79c0dd8 at 0x7fe6fda9b810>>) fb_lambda=0.2']\n"
     ]
    },
    {
     "name": "stderr",
     "output_type": "stream",
     "text": [
      "/tmp/ipykernel_1663031/3362825214.py:39: FutureWarning: In future versions `DataFrame.to_latex` is expected to utilise the base implementation of `Styler.to_latex` for formatting and rendering. The arguments signature may therefore change. It is recommended instead to use `DataFrame.style.to_latex` which also contains additional functionality.\n",
      "  print(pt.Experiment([pipe_qe], topics, qrels, names=[folders[i] + '_tuned_dlm_rm3'], eval_metrics=[\"ndcg_cut_5\", \"ndcg_cut_25\", \"bpref\"]).to_latex())\n"
     ]
    },
    {
     "name": "stdout",
     "output_type": "stream",
     "text": [
      "\\begin{tabular}{llrrr}\n",
      "\\toprule\n",
      "{} &                        name &  ndcg\\_cut\\_5 &  ndcg\\_cut\\_25 &     bpref \\\\\n",
      "\\midrule\n",
      "0 &  ibm-fasttext\\_tuned\\_dlm\\_rm3 &    0.496936 &     0.375913 &  0.577048 \\\\\n",
      "\\bottomrule\n",
      "\\end{tabular}\n",
      "\n"
     ]
    },
    {
     "name": "stderr",
     "output_type": "stream",
     "text": [
      "/tmp/ipykernel_1663031/3362825214.py:40: FutureWarning: In future versions `DataFrame.to_latex` is expected to utilise the base implementation of `Styler.to_latex` for formatting and rendering. The arguments signature may therefore change. It is recommended instead to use `DataFrame.style.to_latex` which also contains additional functionality.\n",
      "  print(pt.Experiment([pipe_qe], topics20, qrels, names=[folders[i] + '_tuned_dlm_rm320'], eval_metrics=[\"ndcg_cut_5\", \"ndcg_cut_25\", \"bpref\"]).to_latex())\n"
     ]
    },
    {
     "name": "stdout",
     "output_type": "stream",
     "text": [
      "\\begin{tabular}{llrrr}\n",
      "\\toprule\n",
      "{} &                          name &  ndcg\\_cut\\_5 &  ndcg\\_cut\\_25 &     bpref \\\\\n",
      "\\midrule\n",
      "0 &  ibm-fasttext\\_tuned\\_dlm\\_rm320 &    0.449799 &     0.346197 &  0.582119 \\\\\n",
      "\\bottomrule\n",
      "\\end{tabular}\n",
      "\n"
     ]
    },
    {
     "name": "stderr",
     "output_type": "stream",
     "text": [
      "/tmp/ipykernel_1663031/3362825214.py:41: FutureWarning: In future versions `DataFrame.to_latex` is expected to utilise the base implementation of `Styler.to_latex` for formatting and rendering. The arguments signature may therefore change. It is recommended instead to use `DataFrame.style.to_latex` which also contains additional functionality.\n",
      "  print(pt.Experiment([pipe_qe], topics21, qrels, names=[folders[i] + '_tuned_dlm_rm321'], eval_metrics=[\"ndcg_cut_5\", \"ndcg_cut_25\", \"bpref\"]).to_latex())\n",
      "/tmp/ipykernel_1663031/3362825214.py:43: FutureWarning: In future versions `DataFrame.to_latex` is expected to utilise the base implementation of `Styler.to_latex` for formatting and rendering. The arguments signature may therefore change. It is recommended instead to use `DataFrame.style.to_latex` which also contains additional functionality.\n",
      "  print(pt.Experiment([pipe_qe[pipe_qe['docno'].isin(docnos)]], topics, qrels, names=[folders[i] + '_tuned_dlm_rm3_unjudged'], eval_metrics=[\"ndcg_cut_5\", \"ndcg_cut_25\", \"bpref\"]).to_latex())\n",
      "/tmp/ipykernel_1663031/3362825214.py:44: FutureWarning: In future versions `DataFrame.to_latex` is expected to utilise the base implementation of `Styler.to_latex` for formatting and rendering. The arguments signature may therefore change. It is recommended instead to use `DataFrame.style.to_latex` which also contains additional functionality.\n",
      "  print(pt.Experiment([pipe_qe[pipe_qe['docno'].isin(docnos20)]], topics20, qrels, names=[folders[i] + '_tuned_dlm_rm3_unjudged20'], eval_metrics=[\"ndcg_cut_5\", \"ndcg_cut_25\", \"bpref\"]).to_latex())\n",
      "/tmp/ipykernel_1663031/3362825214.py:45: FutureWarning: In future versions `DataFrame.to_latex` is expected to utilise the base implementation of `Styler.to_latex` for formatting and rendering. The arguments signature may therefore change. It is recommended instead to use `DataFrame.style.to_latex` which also contains additional functionality.\n",
      "  print(pt.Experiment([pipe_qe[pipe_qe['docno'].isin(docnos21)]], topics21, qrels, names=[folders[i] + '_tuned_dlm_rm3_unjudged21'], eval_metrics=[\"ndcg_cut_5\", \"ndcg_cut_25\", \"bpref\"]).to_latex())\n"
     ]
    },
    {
     "name": "stdout",
     "output_type": "stream",
     "text": [
      "\\begin{tabular}{llrrr}\n",
      "\\toprule\n",
      "{} &                          name &  ndcg\\_cut\\_5 &  ndcg\\_cut\\_25 &     bpref \\\\\n",
      "\\midrule\n",
      "0 &  ibm-fasttext\\_tuned\\_dlm\\_rm321 &     0.54313 &     0.405034 &  0.572078 \\\\\n",
      "\\bottomrule\n",
      "\\end{tabular}\n",
      "\n",
      "\\begin{tabular}{llrrr}\n",
      "\\toprule\n",
      "{} &                                 name &  ndcg\\_cut\\_5 &  ndcg\\_cut\\_25 &     bpref \\\\\n",
      "\\midrule\n",
      "0 &  ibm-fasttext\\_tuned\\_dlm\\_rm3\\_unjudged &      0.6766 &     0.606259 &  0.577048 \\\\\n",
      "\\bottomrule\n",
      "\\end{tabular}\n",
      "\n",
      "\\begin{tabular}{llrrr}\n",
      "\\toprule\n",
      "{} &                                   name &  ndcg\\_cut\\_5 &  ndcg\\_cut\\_25 &     bpref \\\\\n",
      "\\midrule\n",
      "0 &  ibm-fasttext\\_tuned\\_dlm\\_rm3\\_unjudged20 &    0.779029 &     0.685023 &  0.582119 \\\\\n",
      "\\bottomrule\n",
      "\\end{tabular}\n",
      "\n",
      "\\begin{tabular}{llrrr}\n",
      "\\toprule\n",
      "{} &                                   name &  ndcg\\_cut\\_5 &  ndcg\\_cut\\_25 &     bpref \\\\\n",
      "\\midrule\n",
      "0 &  ibm-fasttext\\_tuned\\_dlm\\_rm3\\_unjudged21 &    0.630584 &     0.606261 &  0.572078 \\\\\n",
      "\\bottomrule\n",
      "\\end{tabular}\n",
      "\n",
      "/mnt/ceph/storage/data-in-progress/data-teaching/theses/wstud-thesis-hollatz/targer_indexes/pd_index_webd-fasttext-100/data.properties\n",
      "Fold 1\n",
      "Best ndcg_cut_5 is 0.346443\n",
      "Best setting is ['QueryExpansion(/mnt/ceph/storage/data-in-progress/data-teaching/theses/wstud-thesis-hollatz/targer_indexes/pd_index_webd-fasttext-100/data.properties,8,14,<org.terrier.querying.RM3 at 0x7fe6fe031d10 jclass=org/terrier/querying/RM3 jself=<LocalRef obj=0x55c7a79c0d40 at 0x7fe6fe89e8d0>>) fb_terms=6', 'QueryExpansion(/mnt/ceph/storage/data-in-progress/data-teaching/theses/wstud-thesis-hollatz/targer_indexes/pd_index_webd-fasttext-100/data.properties,8,14,<org.terrier.querying.RM3 at 0x7fe6fe031d10 jclass=org/terrier/querying/RM3 jself=<LocalRef obj=0x55c7a79c0d40 at 0x7fe6fe89e8d0>>) fb_docs=6', 'QueryExpansion(/mnt/ceph/storage/data-in-progress/data-teaching/theses/wstud-thesis-hollatz/targer_indexes/pd_index_webd-fasttext-100/data.properties,8,14,<org.terrier.querying.RM3 at 0x7fe6fe031d10 jclass=org/terrier/querying/RM3 jself=<LocalRef obj=0x55c7a79c0d40 at 0x7fe6fe89e8d0>>) fb_lambda=0.2']\n",
      "Fold 2\n",
      "Best ndcg_cut_5 is 0.306643\n",
      "Best setting is ['QueryExpansion(/mnt/ceph/storage/data-in-progress/data-teaching/theses/wstud-thesis-hollatz/targer_indexes/pd_index_webd-fasttext-100/data.properties,8,14,<org.terrier.querying.RM3 at 0x7fe6fe031d10 jclass=org/terrier/querying/RM3 jself=<LocalRef obj=0x55c7a79c0d40 at 0x7fe6fe89e8d0>>) fb_terms=6', 'QueryExpansion(/mnt/ceph/storage/data-in-progress/data-teaching/theses/wstud-thesis-hollatz/targer_indexes/pd_index_webd-fasttext-100/data.properties,8,14,<org.terrier.querying.RM3 at 0x7fe6fe031d10 jclass=org/terrier/querying/RM3 jself=<LocalRef obj=0x55c7a79c0d40 at 0x7fe6fe89e8d0>>) fb_docs=8', 'QueryExpansion(/mnt/ceph/storage/data-in-progress/data-teaching/theses/wstud-thesis-hollatz/targer_indexes/pd_index_webd-fasttext-100/data.properties,8,14,<org.terrier.querying.RM3 at 0x7fe6fe031d10 jclass=org/terrier/querying/RM3 jself=<LocalRef obj=0x55c7a79c0d40 at 0x7fe6fe89e8d0>>) fb_lambda=0.2']\n"
     ]
    },
    {
     "name": "stderr",
     "output_type": "stream",
     "text": [
      "/tmp/ipykernel_1663031/3362825214.py:39: FutureWarning: In future versions `DataFrame.to_latex` is expected to utilise the base implementation of `Styler.to_latex` for formatting and rendering. The arguments signature may therefore change. It is recommended instead to use `DataFrame.style.to_latex` which also contains additional functionality.\n",
      "  print(pt.Experiment([pipe_qe], topics, qrels, names=[folders[i] + '_tuned_dlm_rm3'], eval_metrics=[\"ndcg_cut_5\", \"ndcg_cut_25\", \"bpref\"]).to_latex())\n"
     ]
    },
    {
     "name": "stdout",
     "output_type": "stream",
     "text": [
      "\\begin{tabular}{llrrr}\n",
      "\\toprule\n",
      "{} &                         name &  ndcg\\_cut\\_5 &  ndcg\\_cut\\_25 &     bpref \\\\\n",
      "\\midrule\n",
      "0 &  webd-fasttext\\_tuned\\_dlm\\_rm3 &    0.291709 &     0.217943 &  0.394852 \\\\\n",
      "\\bottomrule\n",
      "\\end{tabular}\n",
      "\n"
     ]
    },
    {
     "name": "stderr",
     "output_type": "stream",
     "text": [
      "/tmp/ipykernel_1663031/3362825214.py:40: FutureWarning: In future versions `DataFrame.to_latex` is expected to utilise the base implementation of `Styler.to_latex` for formatting and rendering. The arguments signature may therefore change. It is recommended instead to use `DataFrame.style.to_latex` which also contains additional functionality.\n",
      "  print(pt.Experiment([pipe_qe], topics20, qrels, names=[folders[i] + '_tuned_dlm_rm320'], eval_metrics=[\"ndcg_cut_5\", \"ndcg_cut_25\", \"bpref\"]).to_latex())\n"
     ]
    },
    {
     "name": "stdout",
     "output_type": "stream",
     "text": [
      "\\begin{tabular}{llrrr}\n",
      "\\toprule\n",
      "{} &                           name &  ndcg\\_cut\\_5 &  ndcg\\_cut\\_25 &     bpref \\\\\n",
      "\\midrule\n",
      "0 &  webd-fasttext\\_tuned\\_dlm\\_rm320 &    0.273243 &     0.211706 &  0.441199 \\\\\n",
      "\\bottomrule\n",
      "\\end{tabular}\n",
      "\n"
     ]
    },
    {
     "name": "stderr",
     "output_type": "stream",
     "text": [
      "/tmp/ipykernel_1663031/3362825214.py:41: FutureWarning: In future versions `DataFrame.to_latex` is expected to utilise the base implementation of `Styler.to_latex` for formatting and rendering. The arguments signature may therefore change. It is recommended instead to use `DataFrame.style.to_latex` which also contains additional functionality.\n",
      "  print(pt.Experiment([pipe_qe], topics21, qrels, names=[folders[i] + '_tuned_dlm_rm321'], eval_metrics=[\"ndcg_cut_5\", \"ndcg_cut_25\", \"bpref\"]).to_latex())\n",
      "/tmp/ipykernel_1663031/3362825214.py:43: FutureWarning: In future versions `DataFrame.to_latex` is expected to utilise the base implementation of `Styler.to_latex` for formatting and rendering. The arguments signature may therefore change. It is recommended instead to use `DataFrame.style.to_latex` which also contains additional functionality.\n",
      "  print(pt.Experiment([pipe_qe[pipe_qe['docno'].isin(docnos)]], topics, qrels, names=[folders[i] + '_tuned_dlm_rm3_unjudged'], eval_metrics=[\"ndcg_cut_5\", \"ndcg_cut_25\", \"bpref\"]).to_latex())\n",
      "/tmp/ipykernel_1663031/3362825214.py:44: FutureWarning: In future versions `DataFrame.to_latex` is expected to utilise the base implementation of `Styler.to_latex` for formatting and rendering. The arguments signature may therefore change. It is recommended instead to use `DataFrame.style.to_latex` which also contains additional functionality.\n",
      "  print(pt.Experiment([pipe_qe[pipe_qe['docno'].isin(docnos20)]], topics20, qrels, names=[folders[i] + '_tuned_dlm_rm3_unjudged20'], eval_metrics=[\"ndcg_cut_5\", \"ndcg_cut_25\", \"bpref\"]).to_latex())\n",
      "/tmp/ipykernel_1663031/3362825214.py:45: FutureWarning: In future versions `DataFrame.to_latex` is expected to utilise the base implementation of `Styler.to_latex` for formatting and rendering. The arguments signature may therefore change. It is recommended instead to use `DataFrame.style.to_latex` which also contains additional functionality.\n",
      "  print(pt.Experiment([pipe_qe[pipe_qe['docno'].isin(docnos21)]], topics21, qrels, names=[folders[i] + '_tuned_dlm_rm3_unjudged21'], eval_metrics=[\"ndcg_cut_5\", \"ndcg_cut_25\", \"bpref\"]).to_latex())\n"
     ]
    },
    {
     "name": "stdout",
     "output_type": "stream",
     "text": [
      "\\begin{tabular}{llrrr}\n",
      "\\toprule\n",
      "{} &                           name &  ndcg\\_cut\\_5 &  ndcg\\_cut\\_25 &     bpref \\\\\n",
      "\\midrule\n",
      "0 &  webd-fasttext\\_tuned\\_dlm\\_rm321 &    0.309806 &     0.224056 &  0.349431 \\\\\n",
      "\\bottomrule\n",
      "\\end{tabular}\n",
      "\n",
      "\\begin{tabular}{llrrr}\n",
      "\\toprule\n",
      "{} &                                  name &  ndcg\\_cut\\_5 &  ndcg\\_cut\\_25 &     bpref \\\\\n",
      "\\midrule\n",
      "0 &  webd-fasttext\\_tuned\\_dlm\\_rm3\\_unjudged &    0.535952 &     0.433532 &  0.394852 \\\\\n",
      "\\bottomrule\n",
      "\\end{tabular}\n",
      "\n",
      "\\begin{tabular}{llrrr}\n",
      "\\toprule\n",
      "{} &                                    name &  ndcg\\_cut\\_5 &  ndcg\\_cut\\_25 &     bpref \\\\\n",
      "\\midrule\n",
      "0 &  webd-fasttext\\_tuned\\_dlm\\_rm3\\_unjudged20 &    0.662097 &     0.503915 &  0.441199 \\\\\n",
      "\\bottomrule\n",
      "\\end{tabular}\n",
      "\n",
      "\\begin{tabular}{llrrr}\n",
      "\\toprule\n",
      "{} &                                    name &  ndcg\\_cut\\_5 &  ndcg\\_cut\\_25 &     bpref \\\\\n",
      "\\midrule\n",
      "0 &  webd-fasttext\\_tuned\\_dlm\\_rm3\\_unjudged21 &    0.555552 &     0.473513 &  0.349431 \\\\\n",
      "\\bottomrule\n",
      "\\end{tabular}\n",
      "\n"
     ]
    }
   ],
   "source": [
    "'''\n",
    "Example of simple tuning bm25 and its not saving to the folder \n",
    "'''\n",
    "\n",
    "import os\n",
    "rootdir = \"/mnt/ceph/storage/data-in-progress/data-teaching/theses/wstud-thesis-hollatz/targer_indexes\"\n",
    "# folders = ['conclusions','pool_topics','topics','topics_conclusion','topics_conclusion_leakage','topics_leakage','pool_topics_conclusions','conclusions_leakage','pools_conclusions']\n",
    "folders = ['webd-dependency', 'combined-fasttext', 'essays-dependency',\n",
    "          'original', 'essays-fasttext', 'ibm-fasttext', 'webd-fasttext']\n",
    "objective=\"ndcg_cut_5\"\n",
    "i = 0\n",
    "for subdir, dirs, files in os.walk(rootdir):\n",
    "    for file in files:\n",
    "        if(file == 'data.properties'):\n",
    "            path = subdir + '/'+ file\n",
    "            if subdir.endswith('100'):\n",
    "                print(path)\n",
    "                indexref = pt.IndexRef.of(path)\n",
    "                index = pt.IndexFactory.of(indexref)\n",
    "                dlm_rm3_for_qe = pt.BatchRetrieve(index, wmodel=\"DirichletLM\")\n",
    "                rm3 = pt.rewrite.RM3(index, fb_terms=10, fb_docs=3)\n",
    "                pipe_qe = dlm_rm3_for_qe >> rm3 >> dlm_rm3_for_qe\n",
    "\n",
    "                param_map = {\n",
    "                    rm3 : {\n",
    "                        \"fb_terms\" : list(range(4, 16, 2)),\n",
    "                        \"fb_docs\" : list(range(4, 10, 2)),\n",
    "                        \"fb_lambda\": [0.2,0.4,0.6,0.8,1.0]\n",
    "                    }\n",
    "                }\n",
    "\n",
    "                pipe_qe, parameters = pt.KFoldGridSearch(\n",
    "                    pipe_qe,\n",
    "                    param_map,\n",
    "                    [topics20, topics21],\n",
    "                    [qrels20, qrels21],\n",
    "                    objective\n",
    "                )\n",
    "                print(pt.Experiment([pipe_qe], topics, qrels, names=[folders[i] + '_tuned_dlm_rm3'], eval_metrics=[\"ndcg_cut_5\", \"ndcg_cut_25\", \"bpref\"]).to_latex())\n",
    "                print(pt.Experiment([pipe_qe], topics20, qrels, names=[folders[i] + '_tuned_dlm_rm320'], eval_metrics=[\"ndcg_cut_5\", \"ndcg_cut_25\", \"bpref\"]).to_latex())\n",
    "                print(pt.Experiment([pipe_qe], topics21, qrels, names=[folders[i] + '_tuned_dlm_rm321'], eval_metrics=[\"ndcg_cut_5\", \"ndcg_cut_25\", \"bpref\"]).to_latex())\n",
    "\n",
    "                print(pt.Experiment([pipe_qe[pipe_qe['docno'].isin(docnos)]], topics, qrels, names=[folders[i] + '_tuned_dlm_rm3_unjudged'], eval_metrics=[\"ndcg_cut_5\", \"ndcg_cut_25\", \"bpref\"]).to_latex())\n",
    "                print(pt.Experiment([pipe_qe[pipe_qe['docno'].isin(docnos20)]], topics20, qrels, names=[folders[i] + '_tuned_dlm_rm3_unjudged20'], eval_metrics=[\"ndcg_cut_5\", \"ndcg_cut_25\", \"bpref\"]).to_latex())\n",
    "                print(pt.Experiment([pipe_qe[pipe_qe['docno'].isin(docnos21)]], topics21, qrels, names=[folders[i] + '_tuned_dlm_rm3_unjudged21'], eval_metrics=[\"ndcg_cut_5\", \"ndcg_cut_25\", \"bpref\"]).to_latex())\n",
    "                pipe_qe.to_csv(path_or_buf=f\"/workspace/src/grid_search_right_qrels/final_right/run/{folders[i]}_tuned_dlm_rm3.csv\")\n",
    "                i += 1\n",
    "            "
   ]
  },
  {
   "cell_type": "code",
   "execution_count": 4,
   "id": "f6430441",
   "metadata": {},
   "outputs": [
    {
     "name": "stdout",
     "output_type": "stream",
     "text": [
      "/workspace/src/grid_search_right_qrels/super_folder//data.properties\n",
      "Fold 1\n",
      "Best ndcg_cut_5 is 0.411759\n",
      "Best setting is ['QueryExpansion(/workspace/src/grid_search_right_qrels/super_folder/data.properties,8,14,<org.terrier.querying.RM3 at 0x7f8d755f8090 jclass=org/terrier/querying/RM3 jself=<LocalRef obj=0x561f0b360950 at 0x7f8d7556ad10>>) fb_terms=4', 'QueryExpansion(/workspace/src/grid_search_right_qrels/super_folder/data.properties,8,14,<org.terrier.querying.RM3 at 0x7f8d755f8090 jclass=org/terrier/querying/RM3 jself=<LocalRef obj=0x561f0b360950 at 0x7f8d7556ad10>>) fb_docs=6', 'QueryExpansion(/workspace/src/grid_search_right_qrels/super_folder/data.properties,8,14,<org.terrier.querying.RM3 at 0x7f8d755f8090 jclass=org/terrier/querying/RM3 jself=<LocalRef obj=0x561f0b360950 at 0x7f8d7556ad10>>) fb_lambda=0.2']\n",
      "Fold 2\n",
      "Best ndcg_cut_5 is 0.258482\n",
      "Best setting is ['QueryExpansion(/workspace/src/grid_search_right_qrels/super_folder/data.properties,8,14,<org.terrier.querying.RM3 at 0x7f8d755f8090 jclass=org/terrier/querying/RM3 jself=<LocalRef obj=0x561f0b360950 at 0x7f8d7556ad10>>) fb_terms=4', 'QueryExpansion(/workspace/src/grid_search_right_qrels/super_folder/data.properties,8,14,<org.terrier.querying.RM3 at 0x7f8d755f8090 jclass=org/terrier/querying/RM3 jself=<LocalRef obj=0x561f0b360950 at 0x7f8d7556ad10>>) fb_docs=4', 'QueryExpansion(/workspace/src/grid_search_right_qrels/super_folder/data.properties,8,14,<org.terrier.querying.RM3 at 0x7f8d755f8090 jclass=org/terrier/querying/RM3 jself=<LocalRef obj=0x561f0b360950 at 0x7f8d7556ad10>>) fb_lambda=0.2']\n"
     ]
    },
    {
     "name": "stderr",
     "output_type": "stream",
     "text": [
      "/tmp/ipykernel_2391493/4290711260.py:36: FutureWarning: In future versions `DataFrame.to_latex` is expected to utilise the base implementation of `Styler.to_latex` for formatting and rendering. The arguments signature may therefore change. It is recommended instead to use `DataFrame.style.to_latex` which also contains additional functionality.\n",
      "  print(pt.Experiment([pipe_qe], topics, qrels, names=[folders[i] + '_tuned_dlm_rm3'], eval_metrics=[\"ndcg_cut_5\", \"ndcg_cut_25\", \"bpref\"]).to_latex())\n",
      "/tmp/ipykernel_2391493/4290711260.py:37: FutureWarning: In future versions `DataFrame.to_latex` is expected to utilise the base implementation of `Styler.to_latex` for formatting and rendering. The arguments signature may therefore change. It is recommended instead to use `DataFrame.style.to_latex` which also contains additional functionality.\n",
      "  print(pt.Experiment([pipe_qe], topics20, qrels, names=[folders[i] + '_tuned_dlm_rm320'], eval_metrics=[\"ndcg_cut_5\", \"ndcg_cut_25\", \"bpref\"]).to_latex())\n"
     ]
    },
    {
     "name": "stdout",
     "output_type": "stream",
     "text": [
      "\\begin{tabular}{llrrr}\n",
      "\\toprule\n",
      "{} &                            name &  ndcg\\_cut\\_5 &  ndcg\\_cut\\_25 &     bpref \\\\\n",
      "\\midrule\n",
      "0 &  marco-pretrained\\_tuned\\_dlm\\_rm3 &    0.321715 &      0.28292 &  0.625945 \\\\\n",
      "\\bottomrule\n",
      "\\end{tabular}\n",
      "\n",
      "\\begin{tabular}{llrrr}\n",
      "\\toprule\n",
      "{} &                              name &  ndcg\\_cut\\_5 &  ndcg\\_cut\\_25 &     bpref \\\\\n",
      "\\midrule\n",
      "0 &  marco-pretrained\\_tuned\\_dlm\\_rm320 &     0.25162 &     0.246023 &  0.635986 \\\\\n",
      "\\bottomrule\n",
      "\\end{tabular}\n",
      "\n",
      "\\begin{tabular}{llrrr}\n",
      "\\toprule\n",
      "{} &                              name &  ndcg\\_cut\\_5 &  ndcg\\_cut\\_25 &     bpref \\\\\n",
      "\\midrule\n",
      "0 &  marco-pretrained\\_tuned\\_dlm\\_rm321 &    0.390407 &     0.319079 &  0.616105 \\\\\n",
      "\\bottomrule\n",
      "\\end{tabular}\n",
      "\n",
      "\\begin{tabular}{llrrr}\n",
      "\\toprule\n",
      "{} &                                     name &  ndcg\\_cut\\_5 &  ndcg\\_cut\\_25 &     bpref \\\\\n",
      "\\midrule\n",
      "0 &  marco-pretrained\\_tuned\\_dlm\\_rm3\\_unjudged &    0.630763 &      0.62729 &  0.625945 \\\\\n",
      "\\bottomrule\n",
      "\\end{tabular}\n",
      "\n",
      "\\begin{tabular}{llrrr}\n",
      "\\toprule\n",
      "{} &                                       name &  ndcg\\_cut\\_5 &  ndcg\\_cut\\_25 &     bpref \\\\\n",
      "\\midrule\n",
      "0 &  marco-pretrained\\_tuned\\_dlm\\_rm3\\_unjudged20 &     0.66169 &     0.665377 &  0.635986 \\\\\n",
      "\\bottomrule\n",
      "\\end{tabular}\n",
      "\n",
      "\\begin{tabular}{llrrr}\n",
      "\\toprule\n",
      "{} &                                       name &  ndcg\\_cut\\_5 &  ndcg\\_cut\\_25 &     bpref \\\\\n",
      "\\midrule\n",
      "0 &  marco-pretrained\\_tuned\\_dlm\\_rm3\\_unjudged21 &    0.630106 &     0.644271 &  0.616105 \\\\\n",
      "\\bottomrule\n",
      "\\end{tabular}\n",
      "\n"
     ]
    },
    {
     "name": "stderr",
     "output_type": "stream",
     "text": [
      "/tmp/ipykernel_2391493/4290711260.py:38: FutureWarning: In future versions `DataFrame.to_latex` is expected to utilise the base implementation of `Styler.to_latex` for formatting and rendering. The arguments signature may therefore change. It is recommended instead to use `DataFrame.style.to_latex` which also contains additional functionality.\n",
      "  print(pt.Experiment([pipe_qe], topics21, qrels, names=[folders[i] + '_tuned_dlm_rm321'], eval_metrics=[\"ndcg_cut_5\", \"ndcg_cut_25\", \"bpref\"]).to_latex())\n",
      "/tmp/ipykernel_2391493/4290711260.py:40: FutureWarning: In future versions `DataFrame.to_latex` is expected to utilise the base implementation of `Styler.to_latex` for formatting and rendering. The arguments signature may therefore change. It is recommended instead to use `DataFrame.style.to_latex` which also contains additional functionality.\n",
      "  print(pt.Experiment([pipe_qe[pipe_qe['docno'].isin(docnos)]], topics, qrels, names=[folders[i] + '_tuned_dlm_rm3_unjudged'], eval_metrics=[\"ndcg_cut_5\", \"ndcg_cut_25\", \"bpref\"]).to_latex())\n",
      "/tmp/ipykernel_2391493/4290711260.py:41: FutureWarning: In future versions `DataFrame.to_latex` is expected to utilise the base implementation of `Styler.to_latex` for formatting and rendering. The arguments signature may therefore change. It is recommended instead to use `DataFrame.style.to_latex` which also contains additional functionality.\n",
      "  print(pt.Experiment([pipe_qe[pipe_qe['docno'].isin(docnos20)]], topics20, qrels, names=[folders[i] + '_tuned_dlm_rm3_unjudged20'], eval_metrics=[\"ndcg_cut_5\", \"ndcg_cut_25\", \"bpref\"]).to_latex())\n",
      "/tmp/ipykernel_2391493/4290711260.py:42: FutureWarning: In future versions `DataFrame.to_latex` is expected to utilise the base implementation of `Styler.to_latex` for formatting and rendering. The arguments signature may therefore change. It is recommended instead to use `DataFrame.style.to_latex` which also contains additional functionality.\n",
      "  print(pt.Experiment([pipe_qe[pipe_qe['docno'].isin(docnos21)]], topics21, qrels, names=[folders[i] + '_tuned_dlm_rm3_unjudged21'], eval_metrics=[\"ndcg_cut_5\", \"ndcg_cut_25\", \"bpref\"]).to_latex())\n"
     ]
    }
   ],
   "source": [
    "'''\n",
    "Example of simple tuning bm25 and its not saving to the folder \n",
    "'''\n",
    "\n",
    "import os\n",
    "rootdir = \"/workspace/src/grid_search_right_qrels/super_folder/\"\n",
    "folders = ['marco-pretrained']\n",
    "objective=\"ndcg_cut_5\"\n",
    "i = 0\n",
    "for subdir, dirs, files in os.walk(rootdir):\n",
    "    for file in files:\n",
    "        if(file == 'data.properties'):\n",
    "            path = subdir + '/'+ file\n",
    "            print(path)\n",
    "            indexref = pt.IndexRef.of(path)\n",
    "            index = pt.IndexFactory.of(indexref)\n",
    "            dlm_rm3_for_qe = pt.BatchRetrieve(index, wmodel=\"DirichletLM\")\n",
    "            rm3 = pt.rewrite.RM3(index, fb_terms=10, fb_docs=3)\n",
    "            pipe_qe = dlm_rm3_for_qe >> rm3 >> dlm_rm3_for_qe\n",
    "\n",
    "            param_map = {\n",
    "                rm3 : {\n",
    "                    \"fb_terms\" : list(range(4, 16, 2)),\n",
    "                    \"fb_docs\" : list(range(4, 10, 2)),\n",
    "                    \"fb_lambda\": [0.2,0.4,0.6,0.8,1.0]\n",
    "                }\n",
    "            }\n",
    "\n",
    "            pipe_qe, parameters = pt.KFoldGridSearch(\n",
    "                pipe_qe,\n",
    "                param_map,\n",
    "                [topics20, topics21],\n",
    "                [qrels20, qrels21],\n",
    "                objective\n",
    "            )\n",
    "            print(pt.Experiment([pipe_qe], topics, qrels, names=[folders[i] + '_tuned_dlm_rm3'], eval_metrics=[\"ndcg_cut_5\", \"ndcg_cut_25\", \"bpref\"]).to_latex())\n",
    "            print(pt.Experiment([pipe_qe], topics20, qrels, names=[folders[i] + '_tuned_dlm_rm320'], eval_metrics=[\"ndcg_cut_5\", \"ndcg_cut_25\", \"bpref\"]).to_latex())\n",
    "            print(pt.Experiment([pipe_qe], topics21, qrels, names=[folders[i] + '_tuned_dlm_rm321'], eval_metrics=[\"ndcg_cut_5\", \"ndcg_cut_25\", \"bpref\"]).to_latex())\n",
    "\n",
    "            print(pt.Experiment([pipe_qe[pipe_qe['docno'].isin(docnos)]], topics, qrels, names=[folders[i] + '_tuned_dlm_rm3_unjudged'], eval_metrics=[\"ndcg_cut_5\", \"ndcg_cut_25\", \"bpref\"]).to_latex())\n",
    "            print(pt.Experiment([pipe_qe[pipe_qe['docno'].isin(docnos20)]], topics20, qrels, names=[folders[i] + '_tuned_dlm_rm3_unjudged20'], eval_metrics=[\"ndcg_cut_5\", \"ndcg_cut_25\", \"bpref\"]).to_latex())\n",
    "            print(pt.Experiment([pipe_qe[pipe_qe['docno'].isin(docnos21)]], topics21, qrels, names=[folders[i] + '_tuned_dlm_rm3_unjudged21'], eval_metrics=[\"ndcg_cut_5\", \"ndcg_cut_25\", \"bpref\"]).to_latex())\n",
    "\n",
    "            i += 1\n",
    "            "
   ]
  }
 ],
 "metadata": {
  "kernelspec": {
   "display_name": "Python 3 (ipykernel)",
   "language": "python",
   "name": "python3"
  },
  "language_info": {
   "codemirror_mode": {
    "name": "ipython",
    "version": 3
   },
   "file_extension": ".py",
   "mimetype": "text/x-python",
   "name": "python",
   "nbconvert_exporter": "python",
   "pygments_lexer": "ipython3",
   "version": "3.9.10"
  }
 },
 "nbformat": 4,
 "nbformat_minor": 5
}
