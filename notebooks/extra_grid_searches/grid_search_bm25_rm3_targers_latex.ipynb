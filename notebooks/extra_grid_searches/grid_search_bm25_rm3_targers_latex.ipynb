{
 "cells": [
  {
   "cell_type": "code",
   "execution_count": 1,
   "id": "300aec3d",
   "metadata": {},
   "outputs": [
    {
     "name": "stderr",
     "output_type": "stream",
     "text": [
      "PyTerrier 0.8.1 has loaded Terrier 5.6 (built by craigmacdonald on 2021-09-17 13:27)\n",
      "\n",
      "No etc/terrier.properties, using terrier.default.properties for bootstrap configuration.\n"
     ]
    }
   ],
   "source": [
    "import pandas as pd\n",
    "import numpy as np\n",
    "# import pyterrier_deepct\n",
    "import pyterrier as pt\n",
    "if not pt.started():\n",
    "  pt.init(boot_packages=[\"com.github.terrierteam:terrier-prf:-SNAPSHOT\"])\n",
    "\n",
    "from xml.etree import ElementTree\n",
    "tree = ElementTree.parse('/workspace/src/evaluate_targers/topics2020.xml')\n",
    "data = tree.getroot()\n",
    "titles20 = []\n",
    "titles21 = []\n",
    "title_ids20 = []\n",
    "title_ids21 = []\n",
    "nums20 = []\n",
    "nums21 = []\n",
    "for topic in data:\n",
    "    titles20.append(topic.find('title').text.lower()[:-1])\n",
    "    num20 = topic.find('number').text\n",
    "    nums20.append(num20)\n",
    "tree = ElementTree.parse('/workspace/src/evaluate_targers/topics.xml')\n",
    "data = tree.getroot()    \n",
    "for topic in data:\n",
    "    titles21.append(topic.find('title').text.lower()[:-1])\n",
    "    num21 = topic.find('number').text\n",
    "    nums21.append(num21)\n",
    "topics = pd.DataFrame()\n",
    "topics['qid'] = nums20 + nums21\n",
    "topics['query'] = titles20 + titles21\n",
    "\n",
    "topics21 = pd.DataFrame()\n",
    "topics21['qid'] = nums21\n",
    "topics21['query'] = titles21\n",
    "\n",
    "topics20 = pd.DataFrame()\n",
    "topics20['qid'] = nums20\n",
    "topics20['query'] = titles20\n",
    "\n",
    "qrels_path=(\"/workspace/src/evaluate_targers/all_qrels.qrels\")\n",
    "qrels = pt.io.read_qrels(qrels_path)\n",
    "\n",
    "qrels21_path=(\"/workspace/src/evaluate_targers/qrels2021.qrels\")\n",
    "qrels21 = pt.io.read_qrels(qrels21_path)\n",
    "\n",
    "qrels20_path=(\"/workspace/src/evaluate_targers/qrels2020.qrels\")\n",
    "qrels20 = pt.io.read_qrels(qrels20_path)\n",
    "\n",
    "docnos = qrels.docno\n",
    "docnos21 = qrels21.docno\n",
    "docnos20 = qrels20.docno"
   ]
  },
  {
   "cell_type": "code",
   "execution_count": 2,
   "id": "a7b56251",
   "metadata": {
    "scrolled": true
   },
   "outputs": [
    {
     "name": "stdout",
     "output_type": "stream",
     "text": [
      "/mnt/ceph/storage/data-in-progress/data-teaching/theses/wstud-thesis-hollatz/targer_indexes/pd_index_webd-dependency-100/data.properties\n",
      "Fold 1\n",
      "Best ndcg_cut_5 is 0.187970\n",
      "Best setting is ['QueryExpansion(/mnt/ceph/storage/data-in-progress/data-teaching/theses/wstud-thesis-hollatz/targer_indexes/pd_index_webd-dependency-100/data.properties,8,14,<org.terrier.querying.RM3 at 0x7f1254562db0 jclass=org/terrier/querying/RM3 jself=<LocalRef obj=0x55fb19b8bf48 at 0x7f11a6f1f830>>) fb_terms=4', 'QueryExpansion(/mnt/ceph/storage/data-in-progress/data-teaching/theses/wstud-thesis-hollatz/targer_indexes/pd_index_webd-dependency-100/data.properties,8,14,<org.terrier.querying.RM3 at 0x7f1254562db0 jclass=org/terrier/querying/RM3 jself=<LocalRef obj=0x55fb19b8bf48 at 0x7f11a6f1f830>>) fb_docs=4', 'QueryExpansion(/mnt/ceph/storage/data-in-progress/data-teaching/theses/wstud-thesis-hollatz/targer_indexes/pd_index_webd-dependency-100/data.properties,8,14,<org.terrier.querying.RM3 at 0x7f1254562db0 jclass=org/terrier/querying/RM3 jself=<LocalRef obj=0x55fb19b8bf48 at 0x7f11a6f1f830>>) fb_lambda=1.0']\n",
      "Fold 2\n",
      "Best ndcg_cut_5 is 0.138847\n",
      "Best setting is ['QueryExpansion(/mnt/ceph/storage/data-in-progress/data-teaching/theses/wstud-thesis-hollatz/targer_indexes/pd_index_webd-dependency-100/data.properties,8,14,<org.terrier.querying.RM3 at 0x7f1254562db0 jclass=org/terrier/querying/RM3 jself=<LocalRef obj=0x55fb19b8bf48 at 0x7f11a6f1f830>>) fb_terms=4', 'QueryExpansion(/mnt/ceph/storage/data-in-progress/data-teaching/theses/wstud-thesis-hollatz/targer_indexes/pd_index_webd-dependency-100/data.properties,8,14,<org.terrier.querying.RM3 at 0x7f1254562db0 jclass=org/terrier/querying/RM3 jself=<LocalRef obj=0x55fb19b8bf48 at 0x7f11a6f1f830>>) fb_docs=4', 'QueryExpansion(/mnt/ceph/storage/data-in-progress/data-teaching/theses/wstud-thesis-hollatz/targer_indexes/pd_index_webd-dependency-100/data.properties,8,14,<org.terrier.querying.RM3 at 0x7f1254562db0 jclass=org/terrier/querying/RM3 jself=<LocalRef obj=0x55fb19b8bf48 at 0x7f11a6f1f830>>) fb_lambda=1.0']\n"
     ]
    },
    {
     "name": "stderr",
     "output_type": "stream",
     "text": [
      "/tmp/ipykernel_1615753/879176524.py:39: FutureWarning: In future versions `DataFrame.to_latex` is expected to utilise the base implementation of `Styler.to_latex` for formatting and rendering. The arguments signature may therefore change. It is recommended instead to use `DataFrame.style.to_latex` which also contains additional functionality.\n",
      "  print(pt.Experiment([pipe_qe], topics, qrels, names=[folders[i] + '_tuned_bm25_rm3_'], eval_metrics=[\"ndcg_cut_5\", \"ndcg_cut_25\", \"bpref\"]).to_latex())\n"
     ]
    },
    {
     "name": "stdout",
     "output_type": "stream",
     "text": [
      "\\begin{tabular}{llrrr}\n",
      "\\toprule\n",
      "{} &                             name &  ndcg\\_cut\\_5 &  ndcg\\_cut\\_25 &     bpref \\\\\n",
      "\\midrule\n",
      "0 &  webd-dependency\\_tuned\\_bm25\\_rm3\\_ &    0.163656 &     0.143641 &  0.402181 \\\\\n",
      "\\bottomrule\n",
      "\\end{tabular}\n",
      "\n"
     ]
    },
    {
     "name": "stderr",
     "output_type": "stream",
     "text": [
      "/tmp/ipykernel_1615753/879176524.py:40: FutureWarning: In future versions `DataFrame.to_latex` is expected to utilise the base implementation of `Styler.to_latex` for formatting and rendering. The arguments signature may therefore change. It is recommended instead to use `DataFrame.style.to_latex` which also contains additional functionality.\n",
      "  print(pt.Experiment([pipe_qe], topics20, qrels, names=[folders[i] + '_tuned_bm25_rm3_20'], eval_metrics=[\"ndcg_cut_5\", \"ndcg_cut_25\", \"bpref\"]).to_latex())\n"
     ]
    },
    {
     "name": "stdout",
     "output_type": "stream",
     "text": [
      "\\begin{tabular}{llrrr}\n",
      "\\toprule\n",
      "{} &                               name &  ndcg\\_cut\\_5 &  ndcg\\_cut\\_25 &     bpref \\\\\n",
      "\\midrule\n",
      "0 &  webd-dependency\\_tuned\\_bm25\\_rm3\\_20 &    0.138847 &     0.134041 &  0.451815 \\\\\n",
      "\\bottomrule\n",
      "\\end{tabular}\n",
      "\n"
     ]
    },
    {
     "name": "stderr",
     "output_type": "stream",
     "text": [
      "/tmp/ipykernel_1615753/879176524.py:41: FutureWarning: In future versions `DataFrame.to_latex` is expected to utilise the base implementation of `Styler.to_latex` for formatting and rendering. The arguments signature may therefore change. It is recommended instead to use `DataFrame.style.to_latex` which also contains additional functionality.\n",
      "  print(pt.Experiment([pipe_qe], topics21, qrels, names=[folders[i] + '_tuned_bm25_rm3_21'], eval_metrics=[\"ndcg_cut_5\", \"ndcg_cut_25\", \"bpref\"]).to_latex())\n",
      "/tmp/ipykernel_1615753/879176524.py:43: FutureWarning: In future versions `DataFrame.to_latex` is expected to utilise the base implementation of `Styler.to_latex` for formatting and rendering. The arguments signature may therefore change. It is recommended instead to use `DataFrame.style.to_latex` which also contains additional functionality.\n",
      "  print(pt.Experiment([pipe_qe[pipe_qe['docno'].isin(docnos)]], topics, qrels, names=[folders[i] + '_tuned_bm25_rm3_unjudged'], eval_metrics=[\"ndcg_cut_5\", \"ndcg_cut_25\", \"bpref\"]).to_latex())\n",
      "/tmp/ipykernel_1615753/879176524.py:44: FutureWarning: In future versions `DataFrame.to_latex` is expected to utilise the base implementation of `Styler.to_latex` for formatting and rendering. The arguments signature may therefore change. It is recommended instead to use `DataFrame.style.to_latex` which also contains additional functionality.\n",
      "  print(pt.Experiment([pipe_qe[pipe_qe['docno'].isin(docnos20)]], topics20, qrels, names=[folders[i] + '_tuned_bm25_rm3_unjudged20'], eval_metrics=[\"ndcg_cut_5\", \"ndcg_cut_25\", \"bpref\"]).to_latex())\n",
      "/tmp/ipykernel_1615753/879176524.py:45: FutureWarning: In future versions `DataFrame.to_latex` is expected to utilise the base implementation of `Styler.to_latex` for formatting and rendering. The arguments signature may therefore change. It is recommended instead to use `DataFrame.style.to_latex` which also contains additional functionality.\n",
      "  print(pt.Experiment([pipe_qe[pipe_qe['docno'].isin(docnos21)]], topics21, qrels, names=[folders[i] + '_tuned_bm25_rm3_unjudged21'], eval_metrics=[\"ndcg_cut_5\", \"ndcg_cut_25\", \"bpref\"]).to_latex())\n"
     ]
    },
    {
     "name": "stdout",
     "output_type": "stream",
     "text": [
      "\\begin{tabular}{llrrr}\n",
      "\\toprule\n",
      "{} &                               name &  ndcg\\_cut\\_5 &  ndcg\\_cut\\_25 &     bpref \\\\\n",
      "\\midrule\n",
      "0 &  webd-dependency\\_tuned\\_bm25\\_rm3\\_21 &     0.18797 &     0.153048 &  0.353539 \\\\\n",
      "\\bottomrule\n",
      "\\end{tabular}\n",
      "\n",
      "\\begin{tabular}{llrrr}\n",
      "\\toprule\n",
      "{} &                                     name &  ndcg\\_cut\\_5 &  ndcg\\_cut\\_25 &     bpref \\\\\n",
      "\\midrule\n",
      "0 &  webd-dependency\\_tuned\\_bm25\\_rm3\\_unjudged &     0.52374 &      0.46991 &  0.402181 \\\\\n",
      "\\bottomrule\n",
      "\\end{tabular}\n",
      "\n",
      "\\begin{tabular}{llrrr}\n",
      "\\toprule\n",
      "{} &                                       name &  ndcg\\_cut\\_5 &  ndcg\\_cut\\_25 &     bpref \\\\\n",
      "\\midrule\n",
      "0 &  webd-dependency\\_tuned\\_bm25\\_rm3\\_unjudged20 &    0.616325 &     0.540589 &  0.451815 \\\\\n",
      "\\bottomrule\n",
      "\\end{tabular}\n",
      "\n",
      "\\begin{tabular}{llrrr}\n",
      "\\toprule\n",
      "{} &                                       name &  ndcg\\_cut\\_5 &  ndcg\\_cut\\_25 &     bpref \\\\\n",
      "\\midrule\n",
      "0 &  webd-dependency\\_tuned\\_bm25\\_rm3\\_unjudged21 &    0.507442 &     0.469568 &  0.353539 \\\\\n",
      "\\bottomrule\n",
      "\\end{tabular}\n",
      "\n",
      "/mnt/ceph/storage/data-in-progress/data-teaching/theses/wstud-thesis-hollatz/targer_indexes/pd_index_combined-fasttext-100/data.properties\n",
      "Fold 1\n",
      "Best ndcg_cut_5 is 0.498689\n",
      "Best setting is ['QueryExpansion(/mnt/ceph/storage/data-in-progress/data-teaching/theses/wstud-thesis-hollatz/targer_indexes/pd_index_combined-fasttext-100/data.properties,8,14,<org.terrier.querying.RM3 at 0x7f11a6d3d950 jclass=org/terrier/querying/RM3 jself=<LocalRef obj=0x55fb1a850228 at 0x7f11a50fbfd0>>) fb_terms=4', 'QueryExpansion(/mnt/ceph/storage/data-in-progress/data-teaching/theses/wstud-thesis-hollatz/targer_indexes/pd_index_combined-fasttext-100/data.properties,8,14,<org.terrier.querying.RM3 at 0x7f11a6d3d950 jclass=org/terrier/querying/RM3 jself=<LocalRef obj=0x55fb1a850228 at 0x7f11a50fbfd0>>) fb_docs=4', 'QueryExpansion(/mnt/ceph/storage/data-in-progress/data-teaching/theses/wstud-thesis-hollatz/targer_indexes/pd_index_combined-fasttext-100/data.properties,8,14,<org.terrier.querying.RM3 at 0x7f11a6d3d950 jclass=org/terrier/querying/RM3 jself=<LocalRef obj=0x55fb1a850228 at 0x7f11a50fbfd0>>) fb_lambda=1.0']\n",
      "Fold 2\n",
      "Best ndcg_cut_5 is 0.314302\n",
      "Best setting is ['QueryExpansion(/mnt/ceph/storage/data-in-progress/data-teaching/theses/wstud-thesis-hollatz/targer_indexes/pd_index_combined-fasttext-100/data.properties,8,14,<org.terrier.querying.RM3 at 0x7f11a6d3d950 jclass=org/terrier/querying/RM3 jself=<LocalRef obj=0x55fb1a850228 at 0x7f11a50fbfd0>>) fb_terms=10', 'QueryExpansion(/mnt/ceph/storage/data-in-progress/data-teaching/theses/wstud-thesis-hollatz/targer_indexes/pd_index_combined-fasttext-100/data.properties,8,14,<org.terrier.querying.RM3 at 0x7f11a6d3d950 jclass=org/terrier/querying/RM3 jself=<LocalRef obj=0x55fb1a850228 at 0x7f11a50fbfd0>>) fb_docs=6', 'QueryExpansion(/mnt/ceph/storage/data-in-progress/data-teaching/theses/wstud-thesis-hollatz/targer_indexes/pd_index_combined-fasttext-100/data.properties,8,14,<org.terrier.querying.RM3 at 0x7f11a6d3d950 jclass=org/terrier/querying/RM3 jself=<LocalRef obj=0x55fb1a850228 at 0x7f11a50fbfd0>>) fb_lambda=0.6']\n"
     ]
    },
    {
     "name": "stderr",
     "output_type": "stream",
     "text": [
      "/tmp/ipykernel_1615753/879176524.py:39: FutureWarning: In future versions `DataFrame.to_latex` is expected to utilise the base implementation of `Styler.to_latex` for formatting and rendering. The arguments signature may therefore change. It is recommended instead to use `DataFrame.style.to_latex` which also contains additional functionality.\n",
      "  print(pt.Experiment([pipe_qe], topics, qrels, names=[folders[i] + '_tuned_bm25_rm3_'], eval_metrics=[\"ndcg_cut_5\", \"ndcg_cut_25\", \"bpref\"]).to_latex())\n"
     ]
    },
    {
     "name": "stdout",
     "output_type": "stream",
     "text": [
      "\\begin{tabular}{llrrr}\n",
      "\\toprule\n",
      "{} &                               name &  ndcg\\_cut\\_5 &  ndcg\\_cut\\_25 &     bpref \\\\\n",
      "\\midrule\n",
      "0 &  combined-fasttext\\_tuned\\_bm25\\_rm3\\_ &    0.378585 &      0.35592 &  0.644539 \\\\\n",
      "\\bottomrule\n",
      "\\end{tabular}\n",
      "\n"
     ]
    },
    {
     "name": "stderr",
     "output_type": "stream",
     "text": [
      "/tmp/ipykernel_1615753/879176524.py:40: FutureWarning: In future versions `DataFrame.to_latex` is expected to utilise the base implementation of `Styler.to_latex` for formatting and rendering. The arguments signature may therefore change. It is recommended instead to use `DataFrame.style.to_latex` which also contains additional functionality.\n",
      "  print(pt.Experiment([pipe_qe], topics20, qrels, names=[folders[i] + '_tuned_bm25_rm3_20'], eval_metrics=[\"ndcg_cut_5\", \"ndcg_cut_25\", \"bpref\"]).to_latex())\n"
     ]
    },
    {
     "name": "stdout",
     "output_type": "stream",
     "text": [
      "\\begin{tabular}{llrrr}\n",
      "\\toprule\n",
      "{} &                                 name &  ndcg\\_cut\\_5 &  ndcg\\_cut\\_25 &     bpref \\\\\n",
      "\\midrule\n",
      "0 &  combined-fasttext\\_tuned\\_bm25\\_rm3\\_20 &    0.284762 &     0.297489 &  0.662704 \\\\\n",
      "\\bottomrule\n",
      "\\end{tabular}\n",
      "\n"
     ]
    },
    {
     "name": "stderr",
     "output_type": "stream",
     "text": [
      "/tmp/ipykernel_1615753/879176524.py:41: FutureWarning: In future versions `DataFrame.to_latex` is expected to utilise the base implementation of `Styler.to_latex` for formatting and rendering. The arguments signature may therefore change. It is recommended instead to use `DataFrame.style.to_latex` which also contains additional functionality.\n",
      "  print(pt.Experiment([pipe_qe], topics21, qrels, names=[folders[i] + '_tuned_bm25_rm3_21'], eval_metrics=[\"ndcg_cut_5\", \"ndcg_cut_25\", \"bpref\"]).to_latex())\n",
      "/tmp/ipykernel_1615753/879176524.py:43: FutureWarning: In future versions `DataFrame.to_latex` is expected to utilise the base implementation of `Styler.to_latex` for formatting and rendering. The arguments signature may therefore change. It is recommended instead to use `DataFrame.style.to_latex` which also contains additional functionality.\n",
      "  print(pt.Experiment([pipe_qe[pipe_qe['docno'].isin(docnos)]], topics, qrels, names=[folders[i] + '_tuned_bm25_rm3_unjudged'], eval_metrics=[\"ndcg_cut_5\", \"ndcg_cut_25\", \"bpref\"]).to_latex())\n"
     ]
    },
    {
     "name": "stdout",
     "output_type": "stream",
     "text": [
      "\\begin{tabular}{llrrr}\n",
      "\\toprule\n",
      "{} &                                 name &  ndcg\\_cut\\_5 &  ndcg\\_cut\\_25 &     bpref \\\\\n",
      "\\midrule\n",
      "0 &  combined-fasttext\\_tuned\\_bm25\\_rm3\\_21 &    0.470532 &     0.413182 &  0.626738 \\\\\n",
      "\\bottomrule\n",
      "\\end{tabular}\n",
      "\n",
      "\\begin{tabular}{llrrr}\n",
      "\\toprule\n",
      "{} &                                       name &  ndcg\\_cut\\_5 &  ndcg\\_cut\\_25 &     bpref \\\\\n",
      "\\midrule\n",
      "0 &  combined-fasttext\\_tuned\\_bm25\\_rm3\\_unjudged &    0.634556 &     0.645456 &  0.644539 \\\\\n",
      "\\bottomrule\n",
      "\\end{tabular}\n",
      "\n",
      "\\begin{tabular}{llrrr}\n",
      "\\toprule\n",
      "{} &                                         name &  ndcg\\_cut\\_5 &  ndcg\\_cut\\_25 &     bpref \\\\\n",
      "\\midrule\n",
      "0 &  combined-fasttext\\_tuned\\_bm25\\_rm3\\_unjudged20 &    0.726309 &     0.709059 &  0.662704 \\\\\n",
      "\\bottomrule\n",
      "\\end{tabular}\n",
      "\n"
     ]
    },
    {
     "name": "stderr",
     "output_type": "stream",
     "text": [
      "/tmp/ipykernel_1615753/879176524.py:44: FutureWarning: In future versions `DataFrame.to_latex` is expected to utilise the base implementation of `Styler.to_latex` for formatting and rendering. The arguments signature may therefore change. It is recommended instead to use `DataFrame.style.to_latex` which also contains additional functionality.\n",
      "  print(pt.Experiment([pipe_qe[pipe_qe['docno'].isin(docnos20)]], topics20, qrels, names=[folders[i] + '_tuned_bm25_rm3_unjudged20'], eval_metrics=[\"ndcg_cut_5\", \"ndcg_cut_25\", \"bpref\"]).to_latex())\n",
      "/tmp/ipykernel_1615753/879176524.py:45: FutureWarning: In future versions `DataFrame.to_latex` is expected to utilise the base implementation of `Styler.to_latex` for formatting and rendering. The arguments signature may therefore change. It is recommended instead to use `DataFrame.style.to_latex` which also contains additional functionality.\n",
      "  print(pt.Experiment([pipe_qe[pipe_qe['docno'].isin(docnos21)]], topics21, qrels, names=[folders[i] + '_tuned_bm25_rm3_unjudged21'], eval_metrics=[\"ndcg_cut_5\", \"ndcg_cut_25\", \"bpref\"]).to_latex())\n"
     ]
    },
    {
     "name": "stdout",
     "output_type": "stream",
     "text": [
      "\\begin{tabular}{llrrr}\n",
      "\\toprule\n",
      "{} &                                         name &  ndcg\\_cut\\_5 &  ndcg\\_cut\\_25 &     bpref \\\\\n",
      "\\midrule\n",
      "0 &  combined-fasttext\\_tuned\\_bm25\\_rm3\\_unjudged21 &    0.568327 &     0.619329 &  0.626738 \\\\\n",
      "\\bottomrule\n",
      "\\end{tabular}\n",
      "\n",
      "/mnt/ceph/storage/data-in-progress/data-teaching/theses/wstud-thesis-hollatz/targer_indexes/pd_index_essays-dependency-100/data.properties\n",
      "Fold 1\n",
      "Best ndcg_cut_5 is 0.457583\n",
      "Best setting is ['QueryExpansion(/mnt/ceph/storage/data-in-progress/data-teaching/theses/wstud-thesis-hollatz/targer_indexes/pd_index_essays-dependency-100/data.properties,8,14,<org.terrier.querying.RM3 at 0x7f11a7144e50 jclass=org/terrier/querying/RM3 jself=<LocalRef obj=0x55fb19b8bf98 at 0x7f11a65c1e30>>) fb_terms=14', 'QueryExpansion(/mnt/ceph/storage/data-in-progress/data-teaching/theses/wstud-thesis-hollatz/targer_indexes/pd_index_essays-dependency-100/data.properties,8,14,<org.terrier.querying.RM3 at 0x7f11a7144e50 jclass=org/terrier/querying/RM3 jself=<LocalRef obj=0x55fb19b8bf98 at 0x7f11a65c1e30>>) fb_docs=6', 'QueryExpansion(/mnt/ceph/storage/data-in-progress/data-teaching/theses/wstud-thesis-hollatz/targer_indexes/pd_index_essays-dependency-100/data.properties,8,14,<org.terrier.querying.RM3 at 0x7f11a7144e50 jclass=org/terrier/querying/RM3 jself=<LocalRef obj=0x55fb19b8bf98 at 0x7f11a65c1e30>>) fb_lambda=0.8']\n",
      "Fold 2\n",
      "Best ndcg_cut_5 is 0.286972\n",
      "Best setting is ['QueryExpansion(/mnt/ceph/storage/data-in-progress/data-teaching/theses/wstud-thesis-hollatz/targer_indexes/pd_index_essays-dependency-100/data.properties,8,14,<org.terrier.querying.RM3 at 0x7f11a7144e50 jclass=org/terrier/querying/RM3 jself=<LocalRef obj=0x55fb19b8bf98 at 0x7f11a65c1e30>>) fb_terms=4', 'QueryExpansion(/mnt/ceph/storage/data-in-progress/data-teaching/theses/wstud-thesis-hollatz/targer_indexes/pd_index_essays-dependency-100/data.properties,8,14,<org.terrier.querying.RM3 at 0x7f11a7144e50 jclass=org/terrier/querying/RM3 jself=<LocalRef obj=0x55fb19b8bf98 at 0x7f11a65c1e30>>) fb_docs=4', 'QueryExpansion(/mnt/ceph/storage/data-in-progress/data-teaching/theses/wstud-thesis-hollatz/targer_indexes/pd_index_essays-dependency-100/data.properties,8,14,<org.terrier.querying.RM3 at 0x7f11a7144e50 jclass=org/terrier/querying/RM3 jself=<LocalRef obj=0x55fb19b8bf98 at 0x7f11a65c1e30>>) fb_lambda=1.0']\n"
     ]
    },
    {
     "name": "stderr",
     "output_type": "stream",
     "text": [
      "/tmp/ipykernel_1615753/879176524.py:39: FutureWarning: In future versions `DataFrame.to_latex` is expected to utilise the base implementation of `Styler.to_latex` for formatting and rendering. The arguments signature may therefore change. It is recommended instead to use `DataFrame.style.to_latex` which also contains additional functionality.\n",
      "  print(pt.Experiment([pipe_qe], topics, qrels, names=[folders[i] + '_tuned_bm25_rm3_'], eval_metrics=[\"ndcg_cut_5\", \"ndcg_cut_25\", \"bpref\"]).to_latex())\n"
     ]
    },
    {
     "name": "stdout",
     "output_type": "stream",
     "text": [
      "\\begin{tabular}{llrrr}\n",
      "\\toprule\n",
      "{} &                               name &  ndcg\\_cut\\_5 &  ndcg\\_cut\\_25 &     bpref \\\\\n",
      "\\midrule\n",
      "0 &  essays-dependency\\_tuned\\_bm25\\_rm3\\_ &    0.362701 &     0.333836 &  0.614463 \\\\\n",
      "\\bottomrule\n",
      "\\end{tabular}\n",
      "\n"
     ]
    },
    {
     "name": "stderr",
     "output_type": "stream",
     "text": [
      "/tmp/ipykernel_1615753/879176524.py:40: FutureWarning: In future versions `DataFrame.to_latex` is expected to utilise the base implementation of `Styler.to_latex` for formatting and rendering. The arguments signature may therefore change. It is recommended instead to use `DataFrame.style.to_latex` which also contains additional functionality.\n",
      "  print(pt.Experiment([pipe_qe], topics20, qrels, names=[folders[i] + '_tuned_bm25_rm3_20'], eval_metrics=[\"ndcg_cut_5\", \"ndcg_cut_25\", \"bpref\"]).to_latex())\n"
     ]
    },
    {
     "name": "stdout",
     "output_type": "stream",
     "text": [
      "\\begin{tabular}{llrrr}\n",
      "\\toprule\n",
      "{} &                                 name &  ndcg\\_cut\\_5 &  ndcg\\_cut\\_25 &     bpref \\\\\n",
      "\\midrule\n",
      "0 &  essays-dependency\\_tuned\\_bm25\\_rm3\\_20 &    0.271009 &     0.276532 &  0.629501 \\\\\n",
      "\\bottomrule\n",
      "\\end{tabular}\n",
      "\n"
     ]
    },
    {
     "name": "stderr",
     "output_type": "stream",
     "text": [
      "/tmp/ipykernel_1615753/879176524.py:41: FutureWarning: In future versions `DataFrame.to_latex` is expected to utilise the base implementation of `Styler.to_latex` for formatting and rendering. The arguments signature may therefore change. It is recommended instead to use `DataFrame.style.to_latex` which also contains additional functionality.\n",
      "  print(pt.Experiment([pipe_qe], topics21, qrels, names=[folders[i] + '_tuned_bm25_rm3_21'], eval_metrics=[\"ndcg_cut_5\", \"ndcg_cut_25\", \"bpref\"]).to_latex())\n",
      "/tmp/ipykernel_1615753/879176524.py:43: FutureWarning: In future versions `DataFrame.to_latex` is expected to utilise the base implementation of `Styler.to_latex` for formatting and rendering. The arguments signature may therefore change. It is recommended instead to use `DataFrame.style.to_latex` which also contains additional functionality.\n",
      "  print(pt.Experiment([pipe_qe[pipe_qe['docno'].isin(docnos)]], topics, qrels, names=[folders[i] + '_tuned_bm25_rm3_unjudged'], eval_metrics=[\"ndcg_cut_5\", \"ndcg_cut_25\", \"bpref\"]).to_latex())\n",
      "/tmp/ipykernel_1615753/879176524.py:44: FutureWarning: In future versions `DataFrame.to_latex` is expected to utilise the base implementation of `Styler.to_latex` for formatting and rendering. The arguments signature may therefore change. It is recommended instead to use `DataFrame.style.to_latex` which also contains additional functionality.\n",
      "  print(pt.Experiment([pipe_qe[pipe_qe['docno'].isin(docnos20)]], topics20, qrels, names=[folders[i] + '_tuned_bm25_rm3_unjudged20'], eval_metrics=[\"ndcg_cut_5\", \"ndcg_cut_25\", \"bpref\"]).to_latex())\n",
      "/tmp/ipykernel_1615753/879176524.py:45: FutureWarning: In future versions `DataFrame.to_latex` is expected to utilise the base implementation of `Styler.to_latex` for formatting and rendering. The arguments signature may therefore change. It is recommended instead to use `DataFrame.style.to_latex` which also contains additional functionality.\n",
      "  print(pt.Experiment([pipe_qe[pipe_qe['docno'].isin(docnos21)]], topics21, qrels, names=[folders[i] + '_tuned_bm25_rm3_unjudged21'], eval_metrics=[\"ndcg_cut_5\", \"ndcg_cut_25\", \"bpref\"]).to_latex())\n"
     ]
    },
    {
     "name": "stdout",
     "output_type": "stream",
     "text": [
      "\\begin{tabular}{llrrr}\n",
      "\\toprule\n",
      "{} &                                 name &  ndcg\\_cut\\_5 &  ndcg\\_cut\\_25 &     bpref \\\\\n",
      "\\midrule\n",
      "0 &  essays-dependency\\_tuned\\_bm25\\_rm3\\_21 &     0.45256 &     0.389994 &  0.599726 \\\\\n",
      "\\bottomrule\n",
      "\\end{tabular}\n",
      "\n",
      "\\begin{tabular}{llrrr}\n",
      "\\toprule\n",
      "{} &                                       name &  ndcg\\_cut\\_5 &  ndcg\\_cut\\_25 &     bpref \\\\\n",
      "\\midrule\n",
      "0 &  essays-dependency\\_tuned\\_bm25\\_rm3\\_unjudged &    0.655338 &     0.643654 &  0.614463 \\\\\n",
      "\\bottomrule\n",
      "\\end{tabular}\n",
      "\n",
      "\\begin{tabular}{llrrr}\n",
      "\\toprule\n",
      "{} &                                         name &  ndcg\\_cut\\_5 &  ndcg\\_cut\\_25 &     bpref \\\\\n",
      "\\midrule\n",
      "0 &  essays-dependency\\_tuned\\_bm25\\_rm3\\_unjudged20 &    0.741194 &     0.709047 &  0.629501 \\\\\n",
      "\\bottomrule\n",
      "\\end{tabular}\n",
      "\n",
      "\\begin{tabular}{llrrr}\n",
      "\\toprule\n",
      "{} &                                         name &  ndcg\\_cut\\_5 &  ndcg\\_cut\\_25 &     bpref \\\\\n",
      "\\midrule\n",
      "0 &  essays-dependency\\_tuned\\_bm25\\_rm3\\_unjudged21 &     0.59089 &     0.628298 &  0.599726 \\\\\n",
      "\\bottomrule\n",
      "\\end{tabular}\n",
      "\n",
      "/mnt/ceph/storage/data-in-progress/data-teaching/theses/wstud-thesis-hollatz/targer_indexes/pd_index_original-100/data.properties\n",
      "Fold 1\n",
      "Best ndcg_cut_5 is 0.584666\n",
      "Best setting is ['QueryExpansion(/mnt/ceph/storage/data-in-progress/data-teaching/theses/wstud-thesis-hollatz/targer_indexes/pd_index_original-100/data.properties,8,14,<org.terrier.querying.RM3 at 0x7f11a6d42860 jclass=org/terrier/querying/RM3 jself=<LocalRef obj=0x55fb1a850228 at 0x7f11a5dfe990>>) fb_terms=12', 'QueryExpansion(/mnt/ceph/storage/data-in-progress/data-teaching/theses/wstud-thesis-hollatz/targer_indexes/pd_index_original-100/data.properties,8,14,<org.terrier.querying.RM3 at 0x7f11a6d42860 jclass=org/terrier/querying/RM3 jself=<LocalRef obj=0x55fb1a850228 at 0x7f11a5dfe990>>) fb_docs=4', 'QueryExpansion(/mnt/ceph/storage/data-in-progress/data-teaching/theses/wstud-thesis-hollatz/targer_indexes/pd_index_original-100/data.properties,8,14,<org.terrier.querying.RM3 at 0x7f11a6d42860 jclass=org/terrier/querying/RM3 jself=<LocalRef obj=0x55fb1a850228 at 0x7f11a5dfe990>>) fb_lambda=0.6']\n",
      "Fold 2\n",
      "Best ndcg_cut_5 is 0.367525\n",
      "Best setting is ['QueryExpansion(/mnt/ceph/storage/data-in-progress/data-teaching/theses/wstud-thesis-hollatz/targer_indexes/pd_index_original-100/data.properties,8,14,<org.terrier.querying.RM3 at 0x7f11a6d42860 jclass=org/terrier/querying/RM3 jself=<LocalRef obj=0x55fb1a850228 at 0x7f11a5dfe990>>) fb_terms=14', 'QueryExpansion(/mnt/ceph/storage/data-in-progress/data-teaching/theses/wstud-thesis-hollatz/targer_indexes/pd_index_original-100/data.properties,8,14,<org.terrier.querying.RM3 at 0x7f11a6d42860 jclass=org/terrier/querying/RM3 jself=<LocalRef obj=0x55fb1a850228 at 0x7f11a5dfe990>>) fb_docs=8', 'QueryExpansion(/mnt/ceph/storage/data-in-progress/data-teaching/theses/wstud-thesis-hollatz/targer_indexes/pd_index_original-100/data.properties,8,14,<org.terrier.querying.RM3 at 0x7f11a6d42860 jclass=org/terrier/querying/RM3 jself=<LocalRef obj=0x55fb1a850228 at 0x7f11a5dfe990>>) fb_lambda=0.4']\n"
     ]
    },
    {
     "name": "stderr",
     "output_type": "stream",
     "text": [
      "/tmp/ipykernel_1615753/879176524.py:39: FutureWarning: In future versions `DataFrame.to_latex` is expected to utilise the base implementation of `Styler.to_latex` for formatting and rendering. The arguments signature may therefore change. It is recommended instead to use `DataFrame.style.to_latex` which also contains additional functionality.\n",
      "  print(pt.Experiment([pipe_qe], topics, qrels, names=[folders[i] + '_tuned_bm25_rm3_'], eval_metrics=[\"ndcg_cut_5\", \"ndcg_cut_25\", \"bpref\"]).to_latex())\n"
     ]
    },
    {
     "name": "stdout",
     "output_type": "stream",
     "text": [
      "\\begin{tabular}{llrrr}\n",
      "\\toprule\n",
      "{} &                      name &  ndcg\\_cut\\_5 &  ndcg\\_cut\\_25 &    bpref \\\\\n",
      "\\midrule\n",
      "0 &  original\\_tuned\\_bm25\\_rm3\\_ &    0.457078 &     0.411862 &  0.67985 \\\\\n",
      "\\bottomrule\n",
      "\\end{tabular}\n",
      "\n"
     ]
    },
    {
     "name": "stderr",
     "output_type": "stream",
     "text": [
      "/tmp/ipykernel_1615753/879176524.py:40: FutureWarning: In future versions `DataFrame.to_latex` is expected to utilise the base implementation of `Styler.to_latex` for formatting and rendering. The arguments signature may therefore change. It is recommended instead to use `DataFrame.style.to_latex` which also contains additional functionality.\n",
      "  print(pt.Experiment([pipe_qe], topics20, qrels, names=[folders[i] + '_tuned_bm25_rm3_20'], eval_metrics=[\"ndcg_cut_5\", \"ndcg_cut_25\", \"bpref\"]).to_latex())\n"
     ]
    },
    {
     "name": "stdout",
     "output_type": "stream",
     "text": [
      "\\begin{tabular}{llrrr}\n",
      "\\toprule\n",
      "{} &                        name &  ndcg\\_cut\\_5 &  ndcg\\_cut\\_25 &    bpref \\\\\n",
      "\\midrule\n",
      "0 &  original\\_tuned\\_bm25\\_rm3\\_20 &    0.355583 &     0.352399 &  0.70893 \\\\\n",
      "\\bottomrule\n",
      "\\end{tabular}\n",
      "\n"
     ]
    },
    {
     "name": "stderr",
     "output_type": "stream",
     "text": [
      "/tmp/ipykernel_1615753/879176524.py:41: FutureWarning: In future versions `DataFrame.to_latex` is expected to utilise the base implementation of `Styler.to_latex` for formatting and rendering. The arguments signature may therefore change. It is recommended instead to use `DataFrame.style.to_latex` which also contains additional functionality.\n",
      "  print(pt.Experiment([pipe_qe], topics21, qrels, names=[folders[i] + '_tuned_bm25_rm3_21'], eval_metrics=[\"ndcg_cut_5\", \"ndcg_cut_25\", \"bpref\"]).to_latex())\n",
      "/tmp/ipykernel_1615753/879176524.py:43: FutureWarning: In future versions `DataFrame.to_latex` is expected to utilise the base implementation of `Styler.to_latex` for formatting and rendering. The arguments signature may therefore change. It is recommended instead to use `DataFrame.style.to_latex` which also contains additional functionality.\n",
      "  print(pt.Experiment([pipe_qe[pipe_qe['docno'].isin(docnos)]], topics, qrels, names=[folders[i] + '_tuned_bm25_rm3_unjudged'], eval_metrics=[\"ndcg_cut_5\", \"ndcg_cut_25\", \"bpref\"]).to_latex())\n",
      "/tmp/ipykernel_1615753/879176524.py:44: FutureWarning: In future versions `DataFrame.to_latex` is expected to utilise the base implementation of `Styler.to_latex` for formatting and rendering. The arguments signature may therefore change. It is recommended instead to use `DataFrame.style.to_latex` which also contains additional functionality.\n",
      "  print(pt.Experiment([pipe_qe[pipe_qe['docno'].isin(docnos20)]], topics20, qrels, names=[folders[i] + '_tuned_bm25_rm3_unjudged20'], eval_metrics=[\"ndcg_cut_5\", \"ndcg_cut_25\", \"bpref\"]).to_latex())\n",
      "/tmp/ipykernel_1615753/879176524.py:45: FutureWarning: In future versions `DataFrame.to_latex` is expected to utilise the base implementation of `Styler.to_latex` for formatting and rendering. The arguments signature may therefore change. It is recommended instead to use `DataFrame.style.to_latex` which also contains additional functionality.\n",
      "  print(pt.Experiment([pipe_qe[pipe_qe['docno'].isin(docnos21)]], topics21, qrels, names=[folders[i] + '_tuned_bm25_rm3_unjudged21'], eval_metrics=[\"ndcg_cut_5\", \"ndcg_cut_25\", \"bpref\"]).to_latex())\n"
     ]
    },
    {
     "name": "stdout",
     "output_type": "stream",
     "text": [
      "\\begin{tabular}{llrrr}\n",
      "\\toprule\n",
      "{} &                        name &  ndcg\\_cut\\_5 &  ndcg\\_cut\\_25 &     bpref \\\\\n",
      "\\midrule\n",
      "0 &  original\\_tuned\\_bm25\\_rm3\\_21 &    0.556543 &     0.470135 &  0.651351 \\\\\n",
      "\\bottomrule\n",
      "\\end{tabular}\n",
      "\n",
      "\\begin{tabular}{llrrr}\n",
      "\\toprule\n",
      "{} &                              name &  ndcg\\_cut\\_5 &  ndcg\\_cut\\_25 &    bpref \\\\\n",
      "\\midrule\n",
      "0 &  original\\_tuned\\_bm25\\_rm3\\_unjudged &    0.707638 &     0.687823 &  0.67985 \\\\\n",
      "\\bottomrule\n",
      "\\end{tabular}\n",
      "\n",
      "\\begin{tabular}{llrrr}\n",
      "\\toprule\n",
      "{} &                                name &  ndcg\\_cut\\_5 &  ndcg\\_cut\\_25 &    bpref \\\\\n",
      "\\midrule\n",
      "0 &  original\\_tuned\\_bm25\\_rm3\\_unjudged20 &    0.797451 &     0.761864 &  0.70893 \\\\\n",
      "\\bottomrule\n",
      "\\end{tabular}\n",
      "\n",
      "\\begin{tabular}{llrrr}\n",
      "\\toprule\n",
      "{} &                                name &  ndcg\\_cut\\_5 &  ndcg\\_cut\\_25 &     bpref \\\\\n",
      "\\midrule\n",
      "0 &  original\\_tuned\\_bm25\\_rm3\\_unjudged21 &    0.646776 &      0.65479 &  0.651351 \\\\\n",
      "\\bottomrule\n",
      "\\end{tabular}\n",
      "\n",
      "/mnt/ceph/storage/data-in-progress/data-teaching/theses/wstud-thesis-hollatz/targer_indexes/pd_index_essays-fasttext-100/data.properties\n",
      "Fold 1\n",
      "Best ndcg_cut_5 is 0.510504\n",
      "Best setting is ['QueryExpansion(/mnt/ceph/storage/data-in-progress/data-teaching/theses/wstud-thesis-hollatz/targer_indexes/pd_index_essays-fasttext-100/data.properties,8,14,<org.terrier.querying.RM3 at 0x7f117a606a90 jclass=org/terrier/querying/RM3 jself=<LocalRef obj=0x55fb1a850190 at 0x7f11a5d0c1b0>>) fb_terms=4', 'QueryExpansion(/mnt/ceph/storage/data-in-progress/data-teaching/theses/wstud-thesis-hollatz/targer_indexes/pd_index_essays-fasttext-100/data.properties,8,14,<org.terrier.querying.RM3 at 0x7f117a606a90 jclass=org/terrier/querying/RM3 jself=<LocalRef obj=0x55fb1a850190 at 0x7f11a5d0c1b0>>) fb_docs=4', 'QueryExpansion(/mnt/ceph/storage/data-in-progress/data-teaching/theses/wstud-thesis-hollatz/targer_indexes/pd_index_essays-fasttext-100/data.properties,8,14,<org.terrier.querying.RM3 at 0x7f117a606a90 jclass=org/terrier/querying/RM3 jself=<LocalRef obj=0x55fb1a850190 at 0x7f11a5d0c1b0>>) fb_lambda=0.8']\n",
      "Fold 2\n",
      "Best ndcg_cut_5 is 0.324247\n",
      "Best setting is ['QueryExpansion(/mnt/ceph/storage/data-in-progress/data-teaching/theses/wstud-thesis-hollatz/targer_indexes/pd_index_essays-fasttext-100/data.properties,8,14,<org.terrier.querying.RM3 at 0x7f117a606a90 jclass=org/terrier/querying/RM3 jself=<LocalRef obj=0x55fb1a850190 at 0x7f11a5d0c1b0>>) fb_terms=12', 'QueryExpansion(/mnt/ceph/storage/data-in-progress/data-teaching/theses/wstud-thesis-hollatz/targer_indexes/pd_index_essays-fasttext-100/data.properties,8,14,<org.terrier.querying.RM3 at 0x7f117a606a90 jclass=org/terrier/querying/RM3 jself=<LocalRef obj=0x55fb1a850190 at 0x7f11a5d0c1b0>>) fb_docs=8', 'QueryExpansion(/mnt/ceph/storage/data-in-progress/data-teaching/theses/wstud-thesis-hollatz/targer_indexes/pd_index_essays-fasttext-100/data.properties,8,14,<org.terrier.querying.RM3 at 0x7f117a606a90 jclass=org/terrier/querying/RM3 jself=<LocalRef obj=0x55fb1a850190 at 0x7f11a5d0c1b0>>) fb_lambda=0.8']\n"
     ]
    },
    {
     "name": "stderr",
     "output_type": "stream",
     "text": [
      "/tmp/ipykernel_1615753/879176524.py:39: FutureWarning: In future versions `DataFrame.to_latex` is expected to utilise the base implementation of `Styler.to_latex` for formatting and rendering. The arguments signature may therefore change. It is recommended instead to use `DataFrame.style.to_latex` which also contains additional functionality.\n",
      "  print(pt.Experiment([pipe_qe], topics, qrels, names=[folders[i] + '_tuned_bm25_rm3_'], eval_metrics=[\"ndcg_cut_5\", \"ndcg_cut_25\", \"bpref\"]).to_latex())\n"
     ]
    },
    {
     "name": "stdout",
     "output_type": "stream",
     "text": [
      "\\begin{tabular}{llrrr}\n",
      "\\toprule\n",
      "{} &                             name &  ndcg\\_cut\\_5 &  ndcg\\_cut\\_25 &     bpref \\\\\n",
      "\\midrule\n",
      "0 &  essays-fasttext\\_tuned\\_bm25\\_rm3\\_ &    0.409669 &     0.363212 &  0.641492 \\\\\n",
      "\\bottomrule\n",
      "\\end{tabular}\n",
      "\n"
     ]
    },
    {
     "name": "stderr",
     "output_type": "stream",
     "text": [
      "/tmp/ipykernel_1615753/879176524.py:40: FutureWarning: In future versions `DataFrame.to_latex` is expected to utilise the base implementation of `Styler.to_latex` for formatting and rendering. The arguments signature may therefore change. It is recommended instead to use `DataFrame.style.to_latex` which also contains additional functionality.\n",
      "  print(pt.Experiment([pipe_qe], topics20, qrels, names=[folders[i] + '_tuned_bm25_rm3_20'], eval_metrics=[\"ndcg_cut_5\", \"ndcg_cut_25\", \"bpref\"]).to_latex())\n"
     ]
    },
    {
     "name": "stdout",
     "output_type": "stream",
     "text": [
      "\\begin{tabular}{llrrr}\n",
      "\\toprule\n",
      "{} &                               name &  ndcg\\_cut\\_5 &  ndcg\\_cut\\_25 &     bpref \\\\\n",
      "\\midrule\n",
      "0 &  essays-fasttext\\_tuned\\_bm25\\_rm3\\_20 &    0.317625 &     0.305669 &  0.662025 \\\\\n",
      "\\bottomrule\n",
      "\\end{tabular}\n",
      "\n"
     ]
    },
    {
     "name": "stderr",
     "output_type": "stream",
     "text": [
      "/tmp/ipykernel_1615753/879176524.py:41: FutureWarning: In future versions `DataFrame.to_latex` is expected to utilise the base implementation of `Styler.to_latex` for formatting and rendering. The arguments signature may therefore change. It is recommended instead to use `DataFrame.style.to_latex` which also contains additional functionality.\n",
      "  print(pt.Experiment([pipe_qe], topics21, qrels, names=[folders[i] + '_tuned_bm25_rm3_21'], eval_metrics=[\"ndcg_cut_5\", \"ndcg_cut_25\", \"bpref\"]).to_latex())\n",
      "/tmp/ipykernel_1615753/879176524.py:43: FutureWarning: In future versions `DataFrame.to_latex` is expected to utilise the base implementation of `Styler.to_latex` for formatting and rendering. The arguments signature may therefore change. It is recommended instead to use `DataFrame.style.to_latex` which also contains additional functionality.\n",
      "  print(pt.Experiment([pipe_qe[pipe_qe['docno'].isin(docnos)]], topics, qrels, names=[folders[i] + '_tuned_bm25_rm3_unjudged'], eval_metrics=[\"ndcg_cut_5\", \"ndcg_cut_25\", \"bpref\"]).to_latex())\n",
      "/tmp/ipykernel_1615753/879176524.py:44: FutureWarning: In future versions `DataFrame.to_latex` is expected to utilise the base implementation of `Styler.to_latex` for formatting and rendering. The arguments signature may therefore change. It is recommended instead to use `DataFrame.style.to_latex` which also contains additional functionality.\n",
      "  print(pt.Experiment([pipe_qe[pipe_qe['docno'].isin(docnos20)]], topics20, qrels, names=[folders[i] + '_tuned_bm25_rm3_unjudged20'], eval_metrics=[\"ndcg_cut_5\", \"ndcg_cut_25\", \"bpref\"]).to_latex())\n",
      "/tmp/ipykernel_1615753/879176524.py:45: FutureWarning: In future versions `DataFrame.to_latex` is expected to utilise the base implementation of `Styler.to_latex` for formatting and rendering. The arguments signature may therefore change. It is recommended instead to use `DataFrame.style.to_latex` which also contains additional functionality.\n",
      "  print(pt.Experiment([pipe_qe[pipe_qe['docno'].isin(docnos21)]], topics21, qrels, names=[folders[i] + '_tuned_bm25_rm3_unjudged21'], eval_metrics=[\"ndcg_cut_5\", \"ndcg_cut_25\", \"bpref\"]).to_latex())\n"
     ]
    },
    {
     "name": "stdout",
     "output_type": "stream",
     "text": [
      "\\begin{tabular}{llrrr}\n",
      "\\toprule\n",
      "{} &                               name &  ndcg\\_cut\\_5 &  ndcg\\_cut\\_25 &    bpref \\\\\n",
      "\\midrule\n",
      "0 &  essays-fasttext\\_tuned\\_bm25\\_rm3\\_21 &    0.499872 &     0.419605 &  0.62137 \\\\\n",
      "\\bottomrule\n",
      "\\end{tabular}\n",
      "\n",
      "\\begin{tabular}{llrrr}\n",
      "\\toprule\n",
      "{} &                                     name &  ndcg\\_cut\\_5 &  ndcg\\_cut\\_25 &     bpref \\\\\n",
      "\\midrule\n",
      "0 &  essays-fasttext\\_tuned\\_bm25\\_rm3\\_unjudged &    0.668638 &     0.664471 &  0.641492 \\\\\n",
      "\\bottomrule\n",
      "\\end{tabular}\n",
      "\n",
      "\\begin{tabular}{llrrr}\n",
      "\\toprule\n",
      "{} &                                       name &  ndcg\\_cut\\_5 &  ndcg\\_cut\\_25 &     bpref \\\\\n",
      "\\midrule\n",
      "0 &  essays-fasttext\\_tuned\\_bm25\\_rm3\\_unjudged20 &    0.775607 &     0.739703 &  0.662025 \\\\\n",
      "\\bottomrule\n",
      "\\end{tabular}\n",
      "\n",
      "\\begin{tabular}{llrrr}\n",
      "\\toprule\n",
      "{} &                                       name &  ndcg\\_cut\\_5 &  ndcg\\_cut\\_25 &    bpref \\\\\n",
      "\\midrule\n",
      "0 &  essays-fasttext\\_tuned\\_bm25\\_rm3\\_unjudged21 &    0.598761 &     0.634409 &  0.62137 \\\\\n",
      "\\bottomrule\n",
      "\\end{tabular}\n",
      "\n",
      "/mnt/ceph/storage/data-in-progress/data-teaching/theses/wstud-thesis-hollatz/targer_indexes/pd_index_ibm-fasttext-100/data.properties\n",
      "Fold 1\n",
      "Best ndcg_cut_5 is 0.577957\n",
      "Best setting is ['QueryExpansion(/mnt/ceph/storage/data-in-progress/data-teaching/theses/wstud-thesis-hollatz/targer_indexes/pd_index_ibm-fasttext-100/data.properties,8,14,<org.terrier.querying.RM3 at 0x7f11a5096c20 jclass=org/terrier/querying/RM3 jself=<LocalRef obj=0x55fb1a850228 at 0x7f117a910170>>) fb_terms=14', 'QueryExpansion(/mnt/ceph/storage/data-in-progress/data-teaching/theses/wstud-thesis-hollatz/targer_indexes/pd_index_ibm-fasttext-100/data.properties,8,14,<org.terrier.querying.RM3 at 0x7f11a5096c20 jclass=org/terrier/querying/RM3 jself=<LocalRef obj=0x55fb1a850228 at 0x7f117a910170>>) fb_docs=8', 'QueryExpansion(/mnt/ceph/storage/data-in-progress/data-teaching/theses/wstud-thesis-hollatz/targer_indexes/pd_index_ibm-fasttext-100/data.properties,8,14,<org.terrier.querying.RM3 at 0x7f11a5096c20 jclass=org/terrier/querying/RM3 jself=<LocalRef obj=0x55fb1a850228 at 0x7f117a910170>>) fb_lambda=0.8']\n",
      "Fold 2\n",
      "Best ndcg_cut_5 is 0.361702\n",
      "Best setting is ['QueryExpansion(/mnt/ceph/storage/data-in-progress/data-teaching/theses/wstud-thesis-hollatz/targer_indexes/pd_index_ibm-fasttext-100/data.properties,8,14,<org.terrier.querying.RM3 at 0x7f11a5096c20 jclass=org/terrier/querying/RM3 jself=<LocalRef obj=0x55fb1a850228 at 0x7f117a910170>>) fb_terms=14', 'QueryExpansion(/mnt/ceph/storage/data-in-progress/data-teaching/theses/wstud-thesis-hollatz/targer_indexes/pd_index_ibm-fasttext-100/data.properties,8,14,<org.terrier.querying.RM3 at 0x7f11a5096c20 jclass=org/terrier/querying/RM3 jself=<LocalRef obj=0x55fb1a850228 at 0x7f117a910170>>) fb_docs=8', 'QueryExpansion(/mnt/ceph/storage/data-in-progress/data-teaching/theses/wstud-thesis-hollatz/targer_indexes/pd_index_ibm-fasttext-100/data.properties,8,14,<org.terrier.querying.RM3 at 0x7f11a5096c20 jclass=org/terrier/querying/RM3 jself=<LocalRef obj=0x55fb1a850228 at 0x7f117a910170>>) fb_lambda=0.4']\n"
     ]
    },
    {
     "name": "stderr",
     "output_type": "stream",
     "text": [
      "/tmp/ipykernel_1615753/879176524.py:39: FutureWarning: In future versions `DataFrame.to_latex` is expected to utilise the base implementation of `Styler.to_latex` for formatting and rendering. The arguments signature may therefore change. It is recommended instead to use `DataFrame.style.to_latex` which also contains additional functionality.\n",
      "  print(pt.Experiment([pipe_qe], topics, qrels, names=[folders[i] + '_tuned_bm25_rm3_'], eval_metrics=[\"ndcg_cut_5\", \"ndcg_cut_25\", \"bpref\"]).to_latex())\n"
     ]
    },
    {
     "name": "stdout",
     "output_type": "stream",
     "text": [
      "\\begin{tabular}{llrrr}\n",
      "\\toprule\n",
      "{} &                          name &  ndcg\\_cut\\_5 &  ndcg\\_cut\\_25 &     bpref \\\\\n",
      "\\midrule\n",
      "0 &  ibm-fasttext\\_tuned\\_bm25\\_rm3\\_ &      0.4481 &     0.408205 &  0.677882 \\\\\n",
      "\\bottomrule\n",
      "\\end{tabular}\n",
      "\n"
     ]
    },
    {
     "name": "stderr",
     "output_type": "stream",
     "text": [
      "/tmp/ipykernel_1615753/879176524.py:40: FutureWarning: In future versions `DataFrame.to_latex` is expected to utilise the base implementation of `Styler.to_latex` for formatting and rendering. The arguments signature may therefore change. It is recommended instead to use `DataFrame.style.to_latex` which also contains additional functionality.\n",
      "  print(pt.Experiment([pipe_qe], topics20, qrels, names=[folders[i] + '_tuned_bm25_rm3_20'], eval_metrics=[\"ndcg_cut_5\", \"ndcg_cut_25\", \"bpref\"]).to_latex())\n"
     ]
    },
    {
     "name": "stdout",
     "output_type": "stream",
     "text": [
      "\\begin{tabular}{llrrr}\n",
      "\\toprule\n",
      "{} &                            name &  ndcg\\_cut\\_5 &  ndcg\\_cut\\_25 &     bpref \\\\\n",
      "\\midrule\n",
      "0 &  ibm-fasttext\\_tuned\\_bm25\\_rm3\\_20 &    0.339057 &     0.346657 &  0.705902 \\\\\n",
      "\\bottomrule\n",
      "\\end{tabular}\n",
      "\n"
     ]
    },
    {
     "name": "stderr",
     "output_type": "stream",
     "text": [
      "/tmp/ipykernel_1615753/879176524.py:41: FutureWarning: In future versions `DataFrame.to_latex` is expected to utilise the base implementation of `Styler.to_latex` for formatting and rendering. The arguments signature may therefore change. It is recommended instead to use `DataFrame.style.to_latex` which also contains additional functionality.\n",
      "  print(pt.Experiment([pipe_qe], topics21, qrels, names=[folders[i] + '_tuned_bm25_rm3_21'], eval_metrics=[\"ndcg_cut_5\", \"ndcg_cut_25\", \"bpref\"]).to_latex())\n",
      "/tmp/ipykernel_1615753/879176524.py:43: FutureWarning: In future versions `DataFrame.to_latex` is expected to utilise the base implementation of `Styler.to_latex` for formatting and rendering. The arguments signature may therefore change. It is recommended instead to use `DataFrame.style.to_latex` which also contains additional functionality.\n",
      "  print(pt.Experiment([pipe_qe[pipe_qe['docno'].isin(docnos)]], topics, qrels, names=[folders[i] + '_tuned_bm25_rm3_unjudged'], eval_metrics=[\"ndcg_cut_5\", \"ndcg_cut_25\", \"bpref\"]).to_latex())\n",
      "/tmp/ipykernel_1615753/879176524.py:44: FutureWarning: In future versions `DataFrame.to_latex` is expected to utilise the base implementation of `Styler.to_latex` for formatting and rendering. The arguments signature may therefore change. It is recommended instead to use `DataFrame.style.to_latex` which also contains additional functionality.\n",
      "  print(pt.Experiment([pipe_qe[pipe_qe['docno'].isin(docnos20)]], topics20, qrels, names=[folders[i] + '_tuned_bm25_rm3_unjudged20'], eval_metrics=[\"ndcg_cut_5\", \"ndcg_cut_25\", \"bpref\"]).to_latex())\n",
      "/tmp/ipykernel_1615753/879176524.py:45: FutureWarning: In future versions `DataFrame.to_latex` is expected to utilise the base implementation of `Styler.to_latex` for formatting and rendering. The arguments signature may therefore change. It is recommended instead to use `DataFrame.style.to_latex` which also contains additional functionality.\n",
      "  print(pt.Experiment([pipe_qe[pipe_qe['docno'].isin(docnos21)]], topics21, qrels, names=[folders[i] + '_tuned_bm25_rm3_unjudged21'], eval_metrics=[\"ndcg_cut_5\", \"ndcg_cut_25\", \"bpref\"]).to_latex())\n"
     ]
    },
    {
     "name": "stdout",
     "output_type": "stream",
     "text": [
      "\\begin{tabular}{llrrr}\n",
      "\\toprule\n",
      "{} &                            name &  ndcg\\_cut\\_5 &  ndcg\\_cut\\_25 &     bpref \\\\\n",
      "\\midrule\n",
      "0 &  ibm-fasttext\\_tuned\\_bm25\\_rm3\\_21 &    0.554962 &     0.468523 &  0.650422 \\\\\n",
      "\\bottomrule\n",
      "\\end{tabular}\n",
      "\n",
      "\\begin{tabular}{llrrr}\n",
      "\\toprule\n",
      "{} &                                  name &  ndcg\\_cut\\_5 &  ndcg\\_cut\\_25 &     bpref \\\\\n",
      "\\midrule\n",
      "0 &  ibm-fasttext\\_tuned\\_bm25\\_rm3\\_unjudged &    0.697942 &     0.680803 &  0.677882 \\\\\n",
      "\\bottomrule\n",
      "\\end{tabular}\n",
      "\n",
      "\\begin{tabular}{llrrr}\n",
      "\\toprule\n",
      "{} &                                    name &  ndcg\\_cut\\_5 &  ndcg\\_cut\\_25 &     bpref \\\\\n",
      "\\midrule\n",
      "0 &  ibm-fasttext\\_tuned\\_bm25\\_rm3\\_unjudged20 &    0.778403 &     0.748444 &  0.705902 \\\\\n",
      "\\bottomrule\n",
      "\\end{tabular}\n",
      "\n",
      "\\begin{tabular}{llrrr}\n",
      "\\toprule\n",
      "{} &                                    name &  ndcg\\_cut\\_5 &  ndcg\\_cut\\_25 &     bpref \\\\\n",
      "\\midrule\n",
      "0 &  ibm-fasttext\\_tuned\\_bm25\\_rm3\\_unjudged21 &    0.642012 &     0.652471 &  0.650422 \\\\\n",
      "\\bottomrule\n",
      "\\end{tabular}\n",
      "\n",
      "/mnt/ceph/storage/data-in-progress/data-teaching/theses/wstud-thesis-hollatz/targer_indexes/pd_index_webd-fasttext-100/data.properties\n",
      "Fold 1\n",
      "Best ndcg_cut_5 is 0.220438\n",
      "Best setting is ['QueryExpansion(/mnt/ceph/storage/data-in-progress/data-teaching/theses/wstud-thesis-hollatz/targer_indexes/pd_index_webd-fasttext-100/data.properties,8,14,<org.terrier.querying.RM3 at 0x7f11a59d1090 jclass=org/terrier/querying/RM3 jself=<LocalRef obj=0x55fb1a8501e0 at 0x7f117a5bda10>>) fb_terms=12', 'QueryExpansion(/mnt/ceph/storage/data-in-progress/data-teaching/theses/wstud-thesis-hollatz/targer_indexes/pd_index_webd-fasttext-100/data.properties,8,14,<org.terrier.querying.RM3 at 0x7f11a59d1090 jclass=org/terrier/querying/RM3 jself=<LocalRef obj=0x55fb1a8501e0 at 0x7f117a5bda10>>) fb_docs=4', 'QueryExpansion(/mnt/ceph/storage/data-in-progress/data-teaching/theses/wstud-thesis-hollatz/targer_indexes/pd_index_webd-fasttext-100/data.properties,8,14,<org.terrier.querying.RM3 at 0x7f11a59d1090 jclass=org/terrier/querying/RM3 jself=<LocalRef obj=0x55fb1a8501e0 at 0x7f117a5bda10>>) fb_lambda=0.8']\n",
      "Fold 2\n",
      "Best ndcg_cut_5 is 0.137594\n",
      "Best setting is ['QueryExpansion(/mnt/ceph/storage/data-in-progress/data-teaching/theses/wstud-thesis-hollatz/targer_indexes/pd_index_webd-fasttext-100/data.properties,8,14,<org.terrier.querying.RM3 at 0x7f11a59d1090 jclass=org/terrier/querying/RM3 jself=<LocalRef obj=0x55fb1a8501e0 at 0x7f117a5bda10>>) fb_terms=6', 'QueryExpansion(/mnt/ceph/storage/data-in-progress/data-teaching/theses/wstud-thesis-hollatz/targer_indexes/pd_index_webd-fasttext-100/data.properties,8,14,<org.terrier.querying.RM3 at 0x7f11a59d1090 jclass=org/terrier/querying/RM3 jself=<LocalRef obj=0x55fb1a8501e0 at 0x7f117a5bda10>>) fb_docs=4', 'QueryExpansion(/mnt/ceph/storage/data-in-progress/data-teaching/theses/wstud-thesis-hollatz/targer_indexes/pd_index_webd-fasttext-100/data.properties,8,14,<org.terrier.querying.RM3 at 0x7f11a59d1090 jclass=org/terrier/querying/RM3 jself=<LocalRef obj=0x55fb1a8501e0 at 0x7f117a5bda10>>) fb_lambda=0.8']\n"
     ]
    },
    {
     "name": "stderr",
     "output_type": "stream",
     "text": [
      "/tmp/ipykernel_1615753/879176524.py:39: FutureWarning: In future versions `DataFrame.to_latex` is expected to utilise the base implementation of `Styler.to_latex` for formatting and rendering. The arguments signature may therefore change. It is recommended instead to use `DataFrame.style.to_latex` which also contains additional functionality.\n",
      "  print(pt.Experiment([pipe_qe], topics, qrels, names=[folders[i] + '_tuned_bm25_rm3_'], eval_metrics=[\"ndcg_cut_5\", \"ndcg_cut_25\", \"bpref\"]).to_latex())\n"
     ]
    },
    {
     "name": "stdout",
     "output_type": "stream",
     "text": [
      "\\begin{tabular}{llrrr}\n",
      "\\toprule\n",
      "{} &                           name &  ndcg\\_cut\\_5 &  ndcg\\_cut\\_25 &     bpref \\\\\n",
      "\\midrule\n",
      "0 &  webd-fasttext\\_tuned\\_bm25\\_rm3\\_ &    0.174689 &     0.150395 &  0.398787 \\\\\n",
      "\\bottomrule\n",
      "\\end{tabular}\n",
      "\n"
     ]
    },
    {
     "name": "stderr",
     "output_type": "stream",
     "text": [
      "/tmp/ipykernel_1615753/879176524.py:40: FutureWarning: In future versions `DataFrame.to_latex` is expected to utilise the base implementation of `Styler.to_latex` for formatting and rendering. The arguments signature may therefore change. It is recommended instead to use `DataFrame.style.to_latex` which also contains additional functionality.\n",
      "  print(pt.Experiment([pipe_qe], topics20, qrels, names=[folders[i] + '_tuned_bm25_rm3_20'], eval_metrics=[\"ndcg_cut_5\", \"ndcg_cut_25\", \"bpref\"]).to_latex())\n"
     ]
    },
    {
     "name": "stdout",
     "output_type": "stream",
     "text": [
      "\\begin{tabular}{llrrr}\n",
      "\\toprule\n",
      "{} &                             name &  ndcg\\_cut\\_5 &  ndcg\\_cut\\_25 &     bpref \\\\\n",
      "\\midrule\n",
      "0 &  webd-fasttext\\_tuned\\_bm25\\_rm3\\_20 &    0.132361 &     0.123331 &  0.438167 \\\\\n",
      "\\bottomrule\n",
      "\\end{tabular}\n",
      "\n"
     ]
    },
    {
     "name": "stderr",
     "output_type": "stream",
     "text": [
      "/tmp/ipykernel_1615753/879176524.py:41: FutureWarning: In future versions `DataFrame.to_latex` is expected to utilise the base implementation of `Styler.to_latex` for formatting and rendering. The arguments signature may therefore change. It is recommended instead to use `DataFrame.style.to_latex` which also contains additional functionality.\n",
      "  print(pt.Experiment([pipe_qe], topics21, qrels, names=[folders[i] + '_tuned_bm25_rm3_21'], eval_metrics=[\"ndcg_cut_5\", \"ndcg_cut_25\", \"bpref\"]).to_latex())\n",
      "/tmp/ipykernel_1615753/879176524.py:43: FutureWarning: In future versions `DataFrame.to_latex` is expected to utilise the base implementation of `Styler.to_latex` for formatting and rendering. The arguments signature may therefore change. It is recommended instead to use `DataFrame.style.to_latex` which also contains additional functionality.\n",
      "  print(pt.Experiment([pipe_qe[pipe_qe['docno'].isin(docnos)]], topics, qrels, names=[folders[i] + '_tuned_bm25_rm3_unjudged'], eval_metrics=[\"ndcg_cut_5\", \"ndcg_cut_25\", \"bpref\"]).to_latex())\n",
      "/tmp/ipykernel_1615753/879176524.py:44: FutureWarning: In future versions `DataFrame.to_latex` is expected to utilise the base implementation of `Styler.to_latex` for formatting and rendering. The arguments signature may therefore change. It is recommended instead to use `DataFrame.style.to_latex` which also contains additional functionality.\n",
      "  print(pt.Experiment([pipe_qe[pipe_qe['docno'].isin(docnos20)]], topics20, qrels, names=[folders[i] + '_tuned_bm25_rm3_unjudged20'], eval_metrics=[\"ndcg_cut_5\", \"ndcg_cut_25\", \"bpref\"]).to_latex())\n",
      "/tmp/ipykernel_1615753/879176524.py:45: FutureWarning: In future versions `DataFrame.to_latex` is expected to utilise the base implementation of `Styler.to_latex` for formatting and rendering. The arguments signature may therefore change. It is recommended instead to use `DataFrame.style.to_latex` which also contains additional functionality.\n",
      "  print(pt.Experiment([pipe_qe[pipe_qe['docno'].isin(docnos21)]], topics21, qrels, names=[folders[i] + '_tuned_bm25_rm3_unjudged21'], eval_metrics=[\"ndcg_cut_5\", \"ndcg_cut_25\", \"bpref\"]).to_latex())\n"
     ]
    },
    {
     "name": "stdout",
     "output_type": "stream",
     "text": [
      "\\begin{tabular}{llrrr}\n",
      "\\toprule\n",
      "{} &                             name &  ndcg\\_cut\\_5 &  ndcg\\_cut\\_25 &     bpref \\\\\n",
      "\\midrule\n",
      "0 &  webd-fasttext\\_tuned\\_bm25\\_rm3\\_21 &     0.21617 &     0.176917 &  0.360195 \\\\\n",
      "\\bottomrule\n",
      "\\end{tabular}\n",
      "\n",
      "\\begin{tabular}{llrrr}\n",
      "\\toprule\n",
      "{} &                                   name &  ndcg\\_cut\\_5 &  ndcg\\_cut\\_25 &     bpref \\\\\n",
      "\\midrule\n",
      "0 &  webd-fasttext\\_tuned\\_bm25\\_rm3\\_unjudged &    0.546438 &     0.472472 &  0.398787 \\\\\n",
      "\\bottomrule\n",
      "\\end{tabular}\n",
      "\n",
      "\\begin{tabular}{llrrr}\n",
      "\\toprule\n",
      "{} &                                     name &  ndcg\\_cut\\_5 &  ndcg\\_cut\\_25 &     bpref \\\\\n",
      "\\midrule\n",
      "0 &  webd-fasttext\\_tuned\\_bm25\\_rm3\\_unjudged20 &    0.588922 &     0.509346 &  0.438167 \\\\\n",
      "\\bottomrule\n",
      "\\end{tabular}\n",
      "\n",
      "\\begin{tabular}{llrrr}\n",
      "\\toprule\n",
      "{} &                                     name &  ndcg\\_cut\\_5 &  ndcg\\_cut\\_25 &     bpref \\\\\n",
      "\\midrule\n",
      "0 &  webd-fasttext\\_tuned\\_bm25\\_rm3\\_unjudged21 &    0.567787 &     0.494897 &  0.360195 \\\\\n",
      "\\bottomrule\n",
      "\\end{tabular}\n",
      "\n"
     ]
    }
   ],
   "source": [
    "'''\n",
    "Example of simple tuning bm25 and its not saving to the folder \n",
    "'''\n",
    "\n",
    "import os\n",
    "rootdir = \"/mnt/ceph/storage/data-in-progress/data-teaching/theses/wstud-thesis-hollatz/targer_indexes\"\n",
    "# folders = ['conclusions','pool_topics','topics','topics_conclusion','topics_conclusion_leakage','topics_leakage','pool_topics_conclusions','conclusions_leakage','pools_conclusions']\n",
    "folders = ['webd-dependency', 'combined-fasttext', 'essays-dependency',\n",
    "          'original', 'essays-fasttext', 'ibm-fasttext', 'webd-fasttext']\n",
    "objective=\"ndcg_cut_5\"\n",
    "i = 0\n",
    "for subdir, dirs, files in os.walk(rootdir):\n",
    "    for file in files:\n",
    "        if(file == 'data.properties'):\n",
    "            path = subdir + '/'+ file\n",
    "            if subdir.endswith('100'):\n",
    "                print(path)\n",
    "                indexref = pt.IndexRef.of(path)\n",
    "                index = pt.IndexFactory.of(indexref)\n",
    "                bm25_for_qe = pt.BatchRetrieve(index, wmodel=\"BM25\")\n",
    "                rm3 = pt.rewrite.RM3(index, fb_terms=10, fb_docs=3)\n",
    "                pipe_qe = bm25_for_qe >> rm3 >> bm25_for_qe\n",
    "\n",
    "                param_map = {\n",
    "                    rm3 : {\n",
    "                        \"fb_terms\" : list(range(4, 16, 2)),\n",
    "                        \"fb_docs\" : list(range(4, 10, 2)),\n",
    "                        \"fb_lambda\": [0.2,0.4,0.6,0.8,1.0]\n",
    "                    }\n",
    "                }\n",
    "\n",
    "                pipe_qe, parameters = pt.KFoldGridSearch(\n",
    "                    pipe_qe,\n",
    "                    param_map,\n",
    "                    [topics20, topics21],\n",
    "                    [qrels20, qrels21],\n",
    "                    objective\n",
    "                )\n",
    "                print(pt.Experiment([pipe_qe], topics, qrels, names=[folders[i] + '_tuned_bm25_rm3_'], eval_metrics=[\"ndcg_cut_5\", \"ndcg_cut_25\", \"bpref\"]).to_latex())\n",
    "                print(pt.Experiment([pipe_qe], topics20, qrels, names=[folders[i] + '_tuned_bm25_rm3_20'], eval_metrics=[\"ndcg_cut_5\", \"ndcg_cut_25\", \"bpref\"]).to_latex())\n",
    "                print(pt.Experiment([pipe_qe], topics21, qrels, names=[folders[i] + '_tuned_bm25_rm3_21'], eval_metrics=[\"ndcg_cut_5\", \"ndcg_cut_25\", \"bpref\"]).to_latex())\n",
    "\n",
    "                print(pt.Experiment([pipe_qe[pipe_qe['docno'].isin(docnos)]], topics, qrels, names=[folders[i] + '_tuned_bm25_rm3_unjudged'], eval_metrics=[\"ndcg_cut_5\", \"ndcg_cut_25\", \"bpref\"]).to_latex())\n",
    "                print(pt.Experiment([pipe_qe[pipe_qe['docno'].isin(docnos20)]], topics20, qrels, names=[folders[i] + '_tuned_bm25_rm3_unjudged20'], eval_metrics=[\"ndcg_cut_5\", \"ndcg_cut_25\", \"bpref\"]).to_latex())\n",
    "                print(pt.Experiment([pipe_qe[pipe_qe['docno'].isin(docnos21)]], topics21, qrels, names=[folders[i] + '_tuned_bm25_rm3_unjudged21'], eval_metrics=[\"ndcg_cut_5\", \"ndcg_cut_25\", \"bpref\"]).to_latex())\n",
    "                pipe_qe.to_csv(path_or_buf=f\"/workspace/src/grid_search_right_qrels/final_right/run/{folders[i]}_tuned_bm_rm3.csv\")\n",
    "                i += 1\n",
    "            "
   ]
  },
  {
   "cell_type": "code",
   "execution_count": 3,
   "id": "bd6a851c",
   "metadata": {},
   "outputs": [
    {
     "name": "stdout",
     "output_type": "stream",
     "text": [
      "/workspace/src/grid_search_right_qrels/super_folder//data.properties\n",
      "Fold 1\n",
      "Best ndcg_cut_5 is 0.452738\n",
      "Best setting is ['QueryExpansion(/workspace/src/grid_search_right_qrels/super_folder/data.properties,8,14,<org.terrier.querying.RM3 at 0x7f11a503dcc0 jclass=org/terrier/querying/RM3 jself=<LocalRef obj=0x55fb1a850228 at 0x7f11a5dfd690>>) fb_terms=10', 'QueryExpansion(/workspace/src/grid_search_right_qrels/super_folder/data.properties,8,14,<org.terrier.querying.RM3 at 0x7f11a503dcc0 jclass=org/terrier/querying/RM3 jself=<LocalRef obj=0x55fb1a850228 at 0x7f11a5dfd690>>) fb_docs=8', 'QueryExpansion(/workspace/src/grid_search_right_qrels/super_folder/data.properties,8,14,<org.terrier.querying.RM3 at 0x7f11a503dcc0 jclass=org/terrier/querying/RM3 jself=<LocalRef obj=0x55fb1a850228 at 0x7f11a5dfd690>>) fb_lambda=0.4']\n",
      "Fold 2\n",
      "Best ndcg_cut_5 is 0.285510\n",
      "Best setting is ['QueryExpansion(/workspace/src/grid_search_right_qrels/super_folder/data.properties,8,14,<org.terrier.querying.RM3 at 0x7f11a503dcc0 jclass=org/terrier/querying/RM3 jself=<LocalRef obj=0x55fb1a850228 at 0x7f11a5dfd690>>) fb_terms=8', 'QueryExpansion(/workspace/src/grid_search_right_qrels/super_folder/data.properties,8,14,<org.terrier.querying.RM3 at 0x7f11a503dcc0 jclass=org/terrier/querying/RM3 jself=<LocalRef obj=0x55fb1a850228 at 0x7f11a5dfd690>>) fb_docs=6', 'QueryExpansion(/workspace/src/grid_search_right_qrels/super_folder/data.properties,8,14,<org.terrier.querying.RM3 at 0x7f11a503dcc0 jclass=org/terrier/querying/RM3 jself=<LocalRef obj=0x55fb1a850228 at 0x7f11a5dfd690>>) fb_lambda=0.8']\n"
     ]
    },
    {
     "name": "stderr",
     "output_type": "stream",
     "text": [
      "/tmp/ipykernel_1615753/4232972207.py:36: FutureWarning: In future versions `DataFrame.to_latex` is expected to utilise the base implementation of `Styler.to_latex` for formatting and rendering. The arguments signature may therefore change. It is recommended instead to use `DataFrame.style.to_latex` which also contains additional functionality.\n",
      "  print(pt.Experiment([pipe_qe], topics, qrels, names=[folders[i] + '_tuned_bm25_rm3_'], eval_metrics=[\"ndcg_cut_5\", \"ndcg_cut_25\", \"bpref\"]).to_latex())\n"
     ]
    },
    {
     "name": "stdout",
     "output_type": "stream",
     "text": [
      "\\begin{tabular}{llrrr}\n",
      "\\toprule\n",
      "{} &                              name &  ndcg\\_cut\\_5 &  ndcg\\_cut\\_25 &     bpref \\\\\n",
      "\\midrule\n",
      "0 &  marco-pretrained\\_tuned\\_bm25\\_rm3\\_ &    0.344765 &     0.314022 &  0.652304 \\\\\n",
      "\\bottomrule\n",
      "\\end{tabular}\n",
      "\n"
     ]
    },
    {
     "name": "stderr",
     "output_type": "stream",
     "text": [
      "/tmp/ipykernel_1615753/4232972207.py:37: FutureWarning: In future versions `DataFrame.to_latex` is expected to utilise the base implementation of `Styler.to_latex` for formatting and rendering. The arguments signature may therefore change. It is recommended instead to use `DataFrame.style.to_latex` which also contains additional functionality.\n",
      "  print(pt.Experiment([pipe_qe], topics20, qrels, names=[folders[i] + '_tuned_bm25_rm3_20'], eval_metrics=[\"ndcg_cut_5\", \"ndcg_cut_25\", \"bpref\"]).to_latex())\n"
     ]
    },
    {
     "name": "stdout",
     "output_type": "stream",
     "text": [
      "\\begin{tabular}{llrrr}\n",
      "\\toprule\n",
      "{} &                                name &  ndcg\\_cut\\_5 &  ndcg\\_cut\\_25 &     bpref \\\\\n",
      "\\midrule\n",
      "0 &  marco-pretrained\\_tuned\\_bm25\\_rm3\\_20 &    0.255034 &     0.263154 &  0.673901 \\\\\n",
      "\\bottomrule\n",
      "\\end{tabular}\n",
      "\n"
     ]
    },
    {
     "name": "stderr",
     "output_type": "stream",
     "text": [
      "/tmp/ipykernel_1615753/4232972207.py:38: FutureWarning: In future versions `DataFrame.to_latex` is expected to utilise the base implementation of `Styler.to_latex` for formatting and rendering. The arguments signature may therefore change. It is recommended instead to use `DataFrame.style.to_latex` which also contains additional functionality.\n",
      "  print(pt.Experiment([pipe_qe], topics21, qrels, names=[folders[i] + '_tuned_bm25_rm3_21'], eval_metrics=[\"ndcg_cut_5\", \"ndcg_cut_25\", \"bpref\"]).to_latex())\n",
      "/tmp/ipykernel_1615753/4232972207.py:40: FutureWarning: In future versions `DataFrame.to_latex` is expected to utilise the base implementation of `Styler.to_latex` for formatting and rendering. The arguments signature may therefore change. It is recommended instead to use `DataFrame.style.to_latex` which also contains additional functionality.\n",
      "  print(pt.Experiment([pipe_qe[pipe_qe['docno'].isin(docnos)]], topics, qrels, names=[folders[i] + '_tuned_bm25_rm3_unjudged'], eval_metrics=[\"ndcg_cut_5\", \"ndcg_cut_25\", \"bpref\"]).to_latex())\n",
      "/tmp/ipykernel_1615753/4232972207.py:41: FutureWarning: In future versions `DataFrame.to_latex` is expected to utilise the base implementation of `Styler.to_latex` for formatting and rendering. The arguments signature may therefore change. It is recommended instead to use `DataFrame.style.to_latex` which also contains additional functionality.\n",
      "  print(pt.Experiment([pipe_qe[pipe_qe['docno'].isin(docnos20)]], topics20, qrels, names=[folders[i] + '_tuned_bm25_rm3_unjudged20'], eval_metrics=[\"ndcg_cut_5\", \"ndcg_cut_25\", \"bpref\"]).to_latex())\n",
      "/tmp/ipykernel_1615753/4232972207.py:42: FutureWarning: In future versions `DataFrame.to_latex` is expected to utilise the base implementation of `Styler.to_latex` for formatting and rendering. The arguments signature may therefore change. It is recommended instead to use `DataFrame.style.to_latex` which also contains additional functionality.\n",
      "  print(pt.Experiment([pipe_qe[pipe_qe['docno'].isin(docnos21)]], topics21, qrels, names=[folders[i] + '_tuned_bm25_rm3_unjudged21'], eval_metrics=[\"ndcg_cut_5\", \"ndcg_cut_25\", \"bpref\"]).to_latex())\n"
     ]
    },
    {
     "name": "stdout",
     "output_type": "stream",
     "text": [
      "\\begin{tabular}{llrrr}\n",
      "\\toprule\n",
      "{} &                                name &  ndcg\\_cut\\_5 &  ndcg\\_cut\\_25 &     bpref \\\\\n",
      "\\midrule\n",
      "0 &  marco-pretrained\\_tuned\\_bm25\\_rm3\\_21 &    0.432702 &     0.363872 &  0.631139 \\\\\n",
      "\\bottomrule\n",
      "\\end{tabular}\n",
      "\n",
      "\\begin{tabular}{llrrr}\n",
      "\\toprule\n",
      "{} &                                      name &  ndcg\\_cut\\_5 &  ndcg\\_cut\\_25 &     bpref \\\\\n",
      "\\midrule\n",
      "0 &  marco-pretrained\\_tuned\\_bm25\\_rm3\\_unjudged &    0.573357 &     0.624998 &  0.652304 \\\\\n",
      "\\bottomrule\n",
      "\\end{tabular}\n",
      "\n",
      "\\begin{tabular}{llrrr}\n",
      "\\toprule\n",
      "{} &                                        name &  ndcg\\_cut\\_5 &  ndcg\\_cut\\_25 &     bpref \\\\\n",
      "\\midrule\n",
      "0 &  marco-pretrained\\_tuned\\_bm25\\_rm3\\_unjudged20 &    0.617395 &     0.674103 &  0.673901 \\\\\n",
      "\\bottomrule\n",
      "\\end{tabular}\n",
      "\n",
      "\\begin{tabular}{llrrr}\n",
      "\\toprule\n",
      "{} &                                        name &  ndcg\\_cut\\_5 &  ndcg\\_cut\\_25 &     bpref \\\\\n",
      "\\midrule\n",
      "0 &  marco-pretrained\\_tuned\\_bm25\\_rm3\\_unjudged21 &    0.560747 &     0.622375 &  0.631139 \\\\\n",
      "\\bottomrule\n",
      "\\end{tabular}\n",
      "\n"
     ]
    }
   ],
   "source": [
    "'''\n",
    "Example of simple tuning bm25 and its not saving to the folder \n",
    "'''\n",
    "\n",
    "import os\n",
    "rootdir = \"/workspace/src/grid_search_right_qrels/super_folder/\"\n",
    "folders = ['marco-pretrained']\n",
    "objective=\"ndcg_cut_5\"\n",
    "i = 0\n",
    "for subdir, dirs, files in os.walk(rootdir):\n",
    "    for file in files:\n",
    "        if(file == 'data.properties'):\n",
    "            path = subdir + '/'+ file\n",
    "            print(path)\n",
    "            indexref = pt.IndexRef.of(path)\n",
    "            index = pt.IndexFactory.of(indexref)\n",
    "            bm25_for_qe = pt.BatchRetrieve(index, wmodel=\"BM25\")\n",
    "            rm3 = pt.rewrite.RM3(index, fb_terms=10, fb_docs=3)\n",
    "            pipe_qe = bm25_for_qe >> rm3 >> bm25_for_qe\n",
    "\n",
    "            param_map = {\n",
    "                rm3 : {\n",
    "                    \"fb_terms\" : list(range(4, 16, 2)),\n",
    "                    \"fb_docs\" : list(range(4, 10, 2)),\n",
    "                    \"fb_lambda\": [0.2,0.4,0.6,0.8,1.0]\n",
    "                }\n",
    "            }\n",
    "\n",
    "            pipe_qe, parameters = pt.KFoldGridSearch(\n",
    "                pipe_qe,\n",
    "                param_map,\n",
    "                [topics20, topics21],\n",
    "                [qrels20, qrels21],\n",
    "                objective\n",
    "            )\n",
    "            print(pt.Experiment([pipe_qe], topics, qrels, names=[folders[i] + '_tuned_bm25_rm3_'], eval_metrics=[\"ndcg_cut_5\", \"ndcg_cut_25\", \"bpref\"]).to_latex())\n",
    "            print(pt.Experiment([pipe_qe], topics20, qrels, names=[folders[i] + '_tuned_bm25_rm3_20'], eval_metrics=[\"ndcg_cut_5\", \"ndcg_cut_25\", \"bpref\"]).to_latex())\n",
    "            print(pt.Experiment([pipe_qe], topics21, qrels, names=[folders[i] + '_tuned_bm25_rm3_21'], eval_metrics=[\"ndcg_cut_5\", \"ndcg_cut_25\", \"bpref\"]).to_latex())\n",
    "\n",
    "            print(pt.Experiment([pipe_qe[pipe_qe['docno'].isin(docnos)]], topics, qrels, names=[folders[i] + '_tuned_bm25_rm3_unjudged'], eval_metrics=[\"ndcg_cut_5\", \"ndcg_cut_25\", \"bpref\"]).to_latex())\n",
    "            print(pt.Experiment([pipe_qe[pipe_qe['docno'].isin(docnos20)]], topics20, qrels, names=[folders[i] + '_tuned_bm25_rm3_unjudged20'], eval_metrics=[\"ndcg_cut_5\", \"ndcg_cut_25\", \"bpref\"]).to_latex())\n",
    "            print(pt.Experiment([pipe_qe[pipe_qe['docno'].isin(docnos21)]], topics21, qrels, names=[folders[i] + '_tuned_bm25_rm3_unjudged21'], eval_metrics=[\"ndcg_cut_5\", \"ndcg_cut_25\", \"bpref\"]).to_latex())\n",
    "            pipe_qe.to_csv(path_or_buf=f\"/workspace/src/grid_search_right_qrels/final_right/run/{folders[i]}_tuned_bm_rm3.csv\")\n",
    "            i += 1\n",
    "            "
   ]
  }
 ],
 "metadata": {
  "kernelspec": {
   "display_name": "Python 3 (ipykernel)",
   "language": "python",
   "name": "python3"
  },
  "language_info": {
   "codemirror_mode": {
    "name": "ipython",
    "version": 3
   },
   "file_extension": ".py",
   "mimetype": "text/x-python",
   "name": "python",
   "nbconvert_exporter": "python",
   "pygments_lexer": "ipython3",
   "version": "3.9.10"
  }
 },
 "nbformat": 4,
 "nbformat_minor": 5
}
